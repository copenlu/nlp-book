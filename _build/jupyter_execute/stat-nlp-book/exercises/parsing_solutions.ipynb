{
 "cells": [
  {
   "cell_type": "markdown",
   "metadata": {},
   "source": [
    "# Constituent Parsing Exercises\n",
    "\n",
    "\n",
    "\n",
    "In the lecture we took a look at a simple tokenizer and sentence segmenter. In this exercise we will expand our understanding of the problem by asking a few important questions, and looking at the problem from a different perspectives."
   ]
  },
  {
   "cell_type": "markdown",
   "metadata": {},
   "source": [
    "##  <font color='green'>Setup 1</font>: Load Libraries"
   ]
  },
  {
   "cell_type": "code",
   "execution_count": 1,
   "metadata": {
    "collapsed": true
   },
   "outputs": [
    {
     "ename": "ModuleNotFoundError",
     "evalue": "No module named 'mpld3'",
     "output_type": "error",
     "traceback": [
      "\u001b[0;31m---------------------------------------------------------------------------\u001b[0m",
      "\u001b[0;31mModuleNotFoundError\u001b[0m                       Traceback (most recent call last)",
      "Input \u001b[0;32mIn [1]\u001b[0m, in \u001b[0;36m<cell line: 8>\u001b[0;34m()\u001b[0m\n\u001b[1;32m      6\u001b[0m sys\u001b[38;5;241m.\u001b[39mpath\u001b[38;5;241m.\u001b[39mappend(\u001b[38;5;124m\"\u001b[39m\u001b[38;5;124m..\u001b[39m\u001b[38;5;124m\"\u001b[39m)\n\u001b[1;32m      7\u001b[0m \u001b[38;5;28;01mimport\u001b[39;00m \u001b[38;5;21;01mmath\u001b[39;00m \n\u001b[0;32m----> 8\u001b[0m \u001b[38;5;28;01mimport\u001b[39;00m \u001b[38;5;21;01mstatnlpbook\u001b[39;00m\u001b[38;5;21;01m.\u001b[39;00m\u001b[38;5;21;01mutil\u001b[39;00m \u001b[38;5;28;01mas\u001b[39;00m \u001b[38;5;21;01mutil\u001b[39;00m\n\u001b[1;32m      9\u001b[0m \u001b[38;5;28;01mimport\u001b[39;00m \u001b[38;5;21;01mstatnlpbook\u001b[39;00m\u001b[38;5;21;01m.\u001b[39;00m\u001b[38;5;21;01mparsing\u001b[39;00m \u001b[38;5;28;01mas\u001b[39;00m \u001b[38;5;21;01mparsing\u001b[39;00m\n",
      "File \u001b[0;32m~/gits/nlp-course/nlp-book/stat-nlp-book/exercises/../statnlpbook/util.py:47\u001b[0m, in \u001b[0;36m<module>\u001b[0;34m\u001b[0m\n\u001b[1;32m     43\u001b[0m             \u001b[38;5;28;01mfor\u001b[39;00m head \u001b[38;5;129;01min\u001b[39;00m lists[\u001b[38;5;241m0\u001b[39m]:\n\u001b[1;32m     44\u001b[0m                 \u001b[38;5;28;01myield\u001b[39;00m (head,) \u001b[38;5;241m+\u001b[39m prev_tuple\n\u001b[0;32m---> 47\u001b[0m \u001b[38;5;28;01mimport\u001b[39;00m \u001b[38;5;21;01mmpld3\u001b[39;00m\n\u001b[1;32m     50\u001b[0m \u001b[38;5;28;01mdef\u001b[39;00m \u001b[38;5;21mplot_bar_graph\u001b[39m(values, labels, rotation\u001b[38;5;241m=\u001b[39m\u001b[38;5;241m0\u001b[39m, align\u001b[38;5;241m=\u001b[39m\u001b[38;5;124m'\u001b[39m\u001b[38;5;124mcenter\u001b[39m\u001b[38;5;124m'\u001b[39m, use_mpld3\u001b[38;5;241m=\u001b[39m\u001b[38;5;28;01mFalse\u001b[39;00m):\n\u001b[1;32m     51\u001b[0m     \u001b[38;5;124;03m\"\"\"\u001b[39;00m\n\u001b[1;32m     52\u001b[0m \u001b[38;5;124;03m    Plots a bar graph.\u001b[39;00m\n\u001b[1;32m     53\u001b[0m \u001b[38;5;124;03m    Args:\u001b[39;00m\n\u001b[0;32m   (...)\u001b[0m\n\u001b[1;32m     61\u001b[0m \n\u001b[1;32m     62\u001b[0m \u001b[38;5;124;03m    \"\"\"\u001b[39;00m\n",
      "\u001b[0;31mModuleNotFoundError\u001b[0m: No module named 'mpld3'"
     ]
    }
   ],
   "source": [
    "%%capture\n",
    "%load_ext autoreload\n",
    "%autoreload 2\n",
    "%matplotlib inline\n",
    "# %cd .. \n",
    "import sys\n",
    "sys.path.append(\"..\")\n",
    "import math \n",
    "import statnlpbook.util as util\n",
    "import statnlpbook.parsing as parsing"
   ]
  },
  {
   "cell_type": "markdown",
   "metadata": {},
   "source": [
    "## <font color='blue'>Task 1</font>: Understanding parsing\n",
    "\n",
    "Be sure you understand [grammatical categories and structures](http://webdelprofesor.ula.ve/humanidades/azapata/materias/english_4/grammatical_categories_structures_and_syntactical_functions.pdf) and brush up on your [grammar skils](http://www.ucl.ac.uk/internet-grammar/intro/intro.htm).\n",
    "\n",
    "Then re-visit the [Enju online parser](http://www.nactem.ac.uk/enju/demo.html), and parse the following sentences...\n",
    "\n",
    "What is wrong with the parses of the following sentences? Are they correct?\n",
    "- Fat people eat accumulates.\n",
    "- The fat that people eat accumulates in their bodies.\n",
    "- The fat that people eat is accumulating in their bodies.\n",
    "\n",
    "What about these, is the problem in the parser or in the sentence?\n",
    "  - The old man the boat.\n",
    "  - The old people man the boat.  \n",
    "\n",
    "These were examples of garden path sentences, find out what that means.\n",
    "\n",
    "What about these sentences? Are their parses correct?\n",
    "  - Time flies like an arrow; fruit flies like a banana.\n",
    "  - We saw her duck."
   ]
  },
  {
   "cell_type": "markdown",
   "metadata": {},
   "source": [
    "## <font color='blue'>Task 2</font>: Parent Annotation\n",
    "\n"
   ]
  },
  {
   "cell_type": "markdown",
   "metadata": {},
   "source": [
    "Reminisce the lecture notes in parsing, and the mentioned parent annotation. (grand)*parents, matter - knowing who the parent is in a tree gives a bit of context information which can later help us with smoothing probabilities, and approaching context-dependent parsing.\n",
    "\n",
    "in that case, each non-terminal node should know it's parent. We'll do this exercise on a single tree, just to play around a bit with trees and their labeling.\n",
    "\n",
    "\n",
    "Given the following tree:"
   ]
  },
  {
   "cell_type": "code",
   "execution_count": 2,
   "metadata": {
    "collapsed": false
   },
   "outputs": [
    {
     "ename": "NameError",
     "evalue": "name 'parsing' is not defined",
     "output_type": "error",
     "traceback": [
      "\u001b[0;31m---------------------------------------------------------------------------\u001b[0m",
      "\u001b[0;31mNameError\u001b[0m                                 Traceback (most recent call last)",
      "Input \u001b[0;32mIn [2]\u001b[0m, in \u001b[0;36m<cell line: 2>\u001b[0;34m()\u001b[0m\n\u001b[1;32m      1\u001b[0m x \u001b[38;5;241m=\u001b[39m (\u001b[38;5;124m'\u001b[39m\u001b[38;5;124mS\u001b[39m\u001b[38;5;124m'\u001b[39m, [(\u001b[38;5;124m'\u001b[39m\u001b[38;5;124mSubj\u001b[39m\u001b[38;5;124m'\u001b[39m, [\u001b[38;5;124m'\u001b[39m\u001b[38;5;124mHe\u001b[39m\u001b[38;5;124m'\u001b[39m]), (\u001b[38;5;124m'\u001b[39m\u001b[38;5;124mVP\u001b[39m\u001b[38;5;124m'\u001b[39m, [(\u001b[38;5;124m'\u001b[39m\u001b[38;5;124mVerb\u001b[39m\u001b[38;5;124m'\u001b[39m, [\u001b[38;5;124m'\u001b[39m\u001b[38;5;124mshot\u001b[39m\u001b[38;5;124m'\u001b[39m]), (\u001b[38;5;124m'\u001b[39m\u001b[38;5;124mObj\u001b[39m\u001b[38;5;124m'\u001b[39m, [\u001b[38;5;124m'\u001b[39m\u001b[38;5;124mthe\u001b[39m\u001b[38;5;124m'\u001b[39m, \u001b[38;5;124m'\u001b[39m\u001b[38;5;124melephant\u001b[39m\u001b[38;5;124m'\u001b[39m]), (\u001b[38;5;124m'\u001b[39m\u001b[38;5;124mPP\u001b[39m\u001b[38;5;124m'\u001b[39m, [\u001b[38;5;124m'\u001b[39m\u001b[38;5;124min\u001b[39m\u001b[38;5;124m'\u001b[39m, \u001b[38;5;124m'\u001b[39m\u001b[38;5;124mhis\u001b[39m\u001b[38;5;124m'\u001b[39m, \u001b[38;5;124m'\u001b[39m\u001b[38;5;124mpyjamas\u001b[39m\u001b[38;5;124m'\u001b[39m])])])\n\u001b[0;32m----> 2\u001b[0m \u001b[43mparsing\u001b[49m\u001b[38;5;241m.\u001b[39mrender_tree(x)\n",
      "\u001b[0;31mNameError\u001b[0m: name 'parsing' is not defined"
     ]
    }
   ],
   "source": [
    "x = ('S', [('Subj', ['He']), ('VP', [('Verb', ['shot']), ('Obj', ['the', 'elephant']), ('PP', ['in', 'his', 'pyjamas'])])])\n",
    "parsing.render_tree(x)"
   ]
  },
  {
   "cell_type": "markdown",
   "metadata": {},
   "source": [
    "We construct the `annotate_parents` function which will take that tree, and annotate its parents:"
   ]
  },
  {
   "cell_type": "code",
   "execution_count": 4,
   "metadata": {
    "collapsed": true
   },
   "outputs": [],
   "source": [
    "def annotate_parents(tree, parent=\"null\"):\n",
    "    if isinstance(tree, tuple):\n",
    "        children = [annotate_parents(child, tree[0]) for child in tree[1]]\n",
    "        return (tree[0] + \"^\" + parent, children)\n",
    "    else:\n",
    "        return tree"
   ]
  },
  {
   "cell_type": "markdown",
   "metadata": {},
   "source": [
    "The final annotation result looks like this:"
   ]
  },
  {
   "cell_type": "code",
   "execution_count": 5,
   "metadata": {
    "collapsed": false
   },
   "outputs": [
    {
     "data": {
      "image/svg+xml": [
       "<?xml version=\"1.0\" encoding=\"UTF-8\" standalone=\"no\"?>\n",
       "<!DOCTYPE svg PUBLIC \"-//W3C//DTD SVG 1.1//EN\"\n",
       " \"http://www.w3.org/Graphics/SVG/1.1/DTD/svg11.dtd\">\n",
       "<!-- Generated by graphviz version 2.38.0 (20140413.2041)\n",
       " -->\n",
       "<!-- Title: %3 Pages: 1 -->\n",
       "<svg width=\"532pt\" height=\"260pt\"\n",
       " viewBox=\"0.00 0.00 531.58 260.00\" xmlns=\"http://www.w3.org/2000/svg\" xmlns:xlink=\"http://www.w3.org/1999/xlink\">\n",
       "<g id=\"graph0\" class=\"graph\" transform=\"scale(1 1) rotate(0) translate(4 256)\">\n",
       "<title>%3</title>\n",
       "<polygon fill=\"white\" stroke=\"none\" points=\"-4,4 -4,-256 527.578,-256 527.578,4 -4,4\"/>\n",
       "<!-- 0 -->\n",
       "<g id=\"node1\" class=\"node\"><title>0</title>\n",
       "<ellipse fill=\"none\" stroke=\"black\" cx=\"27\" cy=\"-90\" rx=\"27\" ry=\"18\"/>\n",
       "<text text-anchor=\"middle\" x=\"27\" y=\"-85.8\" font-family=\"Times,serif\" font-size=\"14.00\">He</text>\n",
       "</g>\n",
       "<!-- 1 -->\n",
       "<g id=\"node2\" class=\"node\"><title>1</title>\n",
       "<ellipse fill=\"none\" stroke=\"black\" cx=\"78\" cy=\"-162\" rx=\"35.2875\" ry=\"18\"/>\n",
       "<text text-anchor=\"middle\" x=\"78\" y=\"-157.8\" font-family=\"Times,serif\" font-size=\"14.00\">Subj^S</text>\n",
       "</g>\n",
       "<!-- 1&#45;&gt;0 -->\n",
       "<g id=\"edge1\" class=\"edge\"><title>1&#45;&gt;0</title>\n",
       "<path fill=\"none\" stroke=\"black\" d=\"M66.1714,-144.765C59.7079,-135.893 51.5806,-124.738 44.4067,-114.892\"/>\n",
       "<polygon fill=\"black\" stroke=\"black\" points=\"47.1311,-112.687 38.4136,-106.666 41.4734,-116.809 47.1311,-112.687\"/>\n",
       "</g>\n",
       "<!-- 2 -->\n",
       "<g id=\"node3\" class=\"node\"><title>2</title>\n",
       "<ellipse fill=\"none\" stroke=\"black\" cx=\"85\" cy=\"-18\" rx=\"27\" ry=\"18\"/>\n",
       "<text text-anchor=\"middle\" x=\"85\" y=\"-13.8\" font-family=\"Times,serif\" font-size=\"14.00\">shot</text>\n",
       "</g>\n",
       "<!-- 3 -->\n",
       "<g id=\"node4\" class=\"node\"><title>3</title>\n",
       "<ellipse fill=\"none\" stroke=\"black\" cx=\"114\" cy=\"-90\" rx=\"42.0201\" ry=\"18\"/>\n",
       "<text text-anchor=\"middle\" x=\"114\" y=\"-85.8\" font-family=\"Times,serif\" font-size=\"14.00\">Verb^VP</text>\n",
       "</g>\n",
       "<!-- 3&#45;&gt;2 -->\n",
       "<g id=\"edge2\" class=\"edge\"><title>3&#45;&gt;2</title>\n",
       "<path fill=\"none\" stroke=\"black\" d=\"M106.98,-72.055C103.632,-63.9726 99.5503,-54.1214 95.8177,-45.1117\"/>\n",
       "<polygon fill=\"black\" stroke=\"black\" points=\"99.0164,-43.688 91.9554,-35.789 92.5494,-46.3672 99.0164,-43.688\"/>\n",
       "</g>\n",
       "<!-- 4 -->\n",
       "<g id=\"node5\" class=\"node\"><title>4</title>\n",
       "<ellipse fill=\"none\" stroke=\"black\" cx=\"157\" cy=\"-18\" rx=\"27\" ry=\"18\"/>\n",
       "<text text-anchor=\"middle\" x=\"157\" y=\"-13.8\" font-family=\"Times,serif\" font-size=\"14.00\">the</text>\n",
       "</g>\n",
       "<!-- 5 -->\n",
       "<g id=\"node6\" class=\"node\"><title>5</title>\n",
       "<ellipse fill=\"none\" stroke=\"black\" cx=\"242\" cy=\"-18\" rx=\"40.123\" ry=\"18\"/>\n",
       "<text text-anchor=\"middle\" x=\"242\" y=\"-13.8\" font-family=\"Times,serif\" font-size=\"14.00\">elephant</text>\n",
       "</g>\n",
       "<!-- 6 -->\n",
       "<g id=\"node7\" class=\"node\"><title>6</title>\n",
       "<ellipse fill=\"none\" stroke=\"black\" cx=\"213\" cy=\"-90\" rx=\"38.6538\" ry=\"18\"/>\n",
       "<text text-anchor=\"middle\" x=\"213\" y=\"-85.8\" font-family=\"Times,serif\" font-size=\"14.00\">Obj^VP</text>\n",
       "</g>\n",
       "<!-- 6&#45;&gt;4 -->\n",
       "<g id=\"edge3\" class=\"edge\"><title>6&#45;&gt;4</title>\n",
       "<path fill=\"none\" stroke=\"black\" d=\"M200.012,-72.7646C192.742,-63.6773 183.555,-52.1939 175.54,-42.1753\"/>\n",
       "<polygon fill=\"black\" stroke=\"black\" points=\"178.131,-39.8112 169.151,-34.189 172.665,-44.1841 178.131,-39.8112\"/>\n",
       "</g>\n",
       "<!-- 6&#45;&gt;5 -->\n",
       "<g id=\"edge4\" class=\"edge\"><title>6&#45;&gt;5</title>\n",
       "<path fill=\"none\" stroke=\"black\" d=\"M220.02,-72.055C223.368,-63.9726 227.45,-54.1214 231.182,-45.1117\"/>\n",
       "<polygon fill=\"black\" stroke=\"black\" points=\"234.451,-46.3672 235.045,-35.789 227.984,-43.688 234.451,-46.3672\"/>\n",
       "</g>\n",
       "<!-- 7 -->\n",
       "<g id=\"node8\" class=\"node\"><title>7</title>\n",
       "<ellipse fill=\"none\" stroke=\"black\" cx=\"327\" cy=\"-18\" rx=\"27\" ry=\"18\"/>\n",
       "<text text-anchor=\"middle\" x=\"327\" y=\"-13.8\" font-family=\"Times,serif\" font-size=\"14.00\">in</text>\n",
       "</g>\n",
       "<!-- 8 -->\n",
       "<g id=\"node9\" class=\"node\"><title>8</title>\n",
       "<ellipse fill=\"none\" stroke=\"black\" cx=\"399\" cy=\"-18\" rx=\"27\" ry=\"18\"/>\n",
       "<text text-anchor=\"middle\" x=\"399\" y=\"-13.8\" font-family=\"Times,serif\" font-size=\"14.00\">his</text>\n",
       "</g>\n",
       "<!-- 9 -->\n",
       "<g id=\"node10\" class=\"node\"><title>9</title>\n",
       "<ellipse fill=\"none\" stroke=\"black\" cx=\"484\" cy=\"-18\" rx=\"39.6558\" ry=\"18\"/>\n",
       "<text text-anchor=\"middle\" x=\"484\" y=\"-13.8\" font-family=\"Times,serif\" font-size=\"14.00\">pyjamas</text>\n",
       "</g>\n",
       "<!-- 10 -->\n",
       "<g id=\"node11\" class=\"node\"><title>10</title>\n",
       "<ellipse fill=\"none\" stroke=\"black\" cx=\"363\" cy=\"-90\" rx=\"35.2961\" ry=\"18\"/>\n",
       "<text text-anchor=\"middle\" x=\"363\" y=\"-85.8\" font-family=\"Times,serif\" font-size=\"14.00\">PP^VP</text>\n",
       "</g>\n",
       "<!-- 10&#45;&gt;7 -->\n",
       "<g id=\"edge5\" class=\"edge\"><title>10&#45;&gt;7</title>\n",
       "<path fill=\"none\" stroke=\"black\" d=\"M354.469,-72.411C350.164,-64.0421 344.851,-53.7098 340.047,-44.3698\"/>\n",
       "<polygon fill=\"black\" stroke=\"black\" points=\"343.156,-42.7621 335.47,-35.4699 336.931,-45.9636 343.156,-42.7621\"/>\n",
       "</g>\n",
       "<!-- 10&#45;&gt;8 -->\n",
       "<g id=\"edge6\" class=\"edge\"><title>10&#45;&gt;8</title>\n",
       "<path fill=\"none\" stroke=\"black\" d=\"M371.531,-72.411C375.836,-64.0421 381.149,-53.7098 385.953,-44.3698\"/>\n",
       "<polygon fill=\"black\" stroke=\"black\" points=\"389.069,-45.9636 390.53,-35.4699 382.844,-42.7621 389.069,-45.9636\"/>\n",
       "</g>\n",
       "<!-- 10&#45;&gt;9 -->\n",
       "<g id=\"edge7\" class=\"edge\"><title>10&#45;&gt;9</title>\n",
       "<path fill=\"none\" stroke=\"black\" d=\"M385.476,-75.9976C404.05,-65.2519 430.667,-49.8539 451.554,-37.7706\"/>\n",
       "<polygon fill=\"black\" stroke=\"black\" points=\"453.502,-40.687 460.405,-32.6499 449.997,-34.6279 453.502,-40.687\"/>\n",
       "</g>\n",
       "<!-- 11 -->\n",
       "<g id=\"node12\" class=\"node\"><title>11</title>\n",
       "<ellipse fill=\"none\" stroke=\"black\" cx=\"163\" cy=\"-162\" rx=\"30.4592\" ry=\"18\"/>\n",
       "<text text-anchor=\"middle\" x=\"163\" y=\"-157.8\" font-family=\"Times,serif\" font-size=\"14.00\">VP^S</text>\n",
       "</g>\n",
       "<!-- 11&#45;&gt;3 -->\n",
       "<g id=\"edge8\" class=\"edge\"><title>11&#45;&gt;3</title>\n",
       "<path fill=\"none\" stroke=\"black\" d=\"M151.881,-145.116C145.914,-136.592 138.42,-125.886 131.676,-116.251\"/>\n",
       "<polygon fill=\"black\" stroke=\"black\" points=\"134.36,-113.983 125.758,-107.797 128.625,-117.997 134.36,-113.983\"/>\n",
       "</g>\n",
       "<!-- 11&#45;&gt;6 -->\n",
       "<g id=\"edge9\" class=\"edge\"><title>11&#45;&gt;6</title>\n",
       "<path fill=\"none\" stroke=\"black\" d=\"M174.346,-145.116C180.586,-136.38 188.462,-125.353 195.475,-115.535\"/>\n",
       "<polygon fill=\"black\" stroke=\"black\" points=\"198.388,-117.479 201.352,-107.307 192.692,-113.41 198.388,-117.479\"/>\n",
       "</g>\n",
       "<!-- 11&#45;&gt;10 -->\n",
       "<g id=\"edge10\" class=\"edge\"><title>11&#45;&gt;10</title>\n",
       "<path fill=\"none\" stroke=\"black\" d=\"M188.737,-151.992C223.361,-139.874 285.197,-118.231 325.134,-104.253\"/>\n",
       "<polygon fill=\"black\" stroke=\"black\" points=\"326.503,-107.482 334.786,-100.875 324.191,-100.875 326.503,-107.482\"/>\n",
       "</g>\n",
       "<!-- 12 -->\n",
       "<g id=\"node13\" class=\"node\"><title>12</title>\n",
       "<ellipse fill=\"none\" stroke=\"black\" cx=\"120\" cy=\"-234\" rx=\"32.8647\" ry=\"18\"/>\n",
       "<text text-anchor=\"middle\" x=\"120\" y=\"-229.8\" font-family=\"Times,serif\" font-size=\"14.00\">S^null</text>\n",
       "</g>\n",
       "<!-- 12&#45;&gt;1 -->\n",
       "<g id=\"edge11\" class=\"edge\"><title>12&#45;&gt;1</title>\n",
       "<path fill=\"none\" stroke=\"black\" d=\"M110.259,-216.765C105.19,-208.317 98.8796,-197.799 93.1873,-188.312\"/>\n",
       "<polygon fill=\"black\" stroke=\"black\" points=\"96.1263,-186.408 87.98,-179.633 90.1238,-190.009 96.1263,-186.408\"/>\n",
       "</g>\n",
       "<!-- 12&#45;&gt;11 -->\n",
       "<g id=\"edge12\" class=\"edge\"><title>12&#45;&gt;11</title>\n",
       "<path fill=\"none\" stroke=\"black\" d=\"M129.973,-216.765C135.237,-208.195 141.811,-197.494 147.704,-187.9\"/>\n",
       "<polygon fill=\"black\" stroke=\"black\" points=\"150.829,-189.5 153.081,-179.147 144.864,-185.836 150.829,-189.5\"/>\n",
       "</g>\n",
       "</g>\n",
       "</svg>\n"
      ],
      "text/plain": [
       "<graphviz.dot.Digraph at 0x10b31f5c0>"
      ]
     },
     "execution_count": 5,
     "metadata": {
      "filenames": {
       "image/svg+xml": "/Users/knf792/gits/nlp-course/nlp-book/_build/jupyter_execute/stat-nlp-book/exercises/parsing_solutions_10_0.svg"
      }
     },
     "output_type": "execute_result"
    }
   ],
   "source": [
    "parsing.render_tree(annotate_parents(x))"
   ]
  }
 ],
 "metadata": {
  "kernelspec": {
   "display_name": "Python 3",
   "language": "python",
   "name": "python3"
  },
  "language_info": {
   "codemirror_mode": {
    "name": "ipython",
    "version": 3
   },
   "file_extension": ".py",
   "mimetype": "text/x-python",
   "name": "python",
   "nbconvert_exporter": "python",
   "pygments_lexer": "ipython3",
   "version": "3.10.4"
  }
 },
 "nbformat": 4,
 "nbformat_minor": 0
}