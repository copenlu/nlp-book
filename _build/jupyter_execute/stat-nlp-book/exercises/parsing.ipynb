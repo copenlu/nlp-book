{
 "cells": [
  {
   "cell_type": "markdown",
   "metadata": {},
   "source": [
    "# Constituent Parsing Exercises\n",
    "\n",
    "\n",
    "\n",
    "In the lecture we took a look at a simple tokenizer and sentence segmenter. In this exercise we will expand our understanding of the problem by asking a few important questions, and looking at the problem from a different perspectives."
   ]
  },
  {
   "cell_type": "markdown",
   "metadata": {},
   "source": [
    "##  <font color='green'>Setup 1</font>: Load Libraries"
   ]
  },
  {
   "cell_type": "code",
   "execution_count": 1,
   "metadata": {},
   "outputs": [
    {
     "ename": "ModuleNotFoundError",
     "evalue": "No module named 'mpld3'",
     "output_type": "error",
     "traceback": [
      "\u001b[0;31m---------------------------------------------------------------------------\u001b[0m",
      "\u001b[0;31mModuleNotFoundError\u001b[0m                       Traceback (most recent call last)",
      "Input \u001b[0;32mIn [1]\u001b[0m, in \u001b[0;36m<cell line: 8>\u001b[0;34m()\u001b[0m\n\u001b[1;32m      6\u001b[0m sys\u001b[38;5;241m.\u001b[39mpath\u001b[38;5;241m.\u001b[39mappend(\u001b[38;5;124m\"\u001b[39m\u001b[38;5;124m..\u001b[39m\u001b[38;5;124m\"\u001b[39m)\n\u001b[1;32m      7\u001b[0m \u001b[38;5;28;01mimport\u001b[39;00m \u001b[38;5;21;01mmath\u001b[39;00m \n\u001b[0;32m----> 8\u001b[0m \u001b[38;5;28;01mimport\u001b[39;00m \u001b[38;5;21;01mstatnlpbook\u001b[39;00m\u001b[38;5;21;01m.\u001b[39;00m\u001b[38;5;21;01mutil\u001b[39;00m \u001b[38;5;28;01mas\u001b[39;00m \u001b[38;5;21;01mutil\u001b[39;00m\n\u001b[1;32m      9\u001b[0m \u001b[38;5;28;01mimport\u001b[39;00m \u001b[38;5;21;01mstatnlpbook\u001b[39;00m\u001b[38;5;21;01m.\u001b[39;00m\u001b[38;5;21;01mparsing\u001b[39;00m \u001b[38;5;28;01mas\u001b[39;00m \u001b[38;5;21;01mparsing\u001b[39;00m\n",
      "File \u001b[0;32m~/gits/nlp-course/nlp-book/stat-nlp-book/exercises/../statnlpbook/util.py:47\u001b[0m, in \u001b[0;36m<module>\u001b[0;34m\u001b[0m\n\u001b[1;32m     43\u001b[0m             \u001b[38;5;28;01mfor\u001b[39;00m head \u001b[38;5;129;01min\u001b[39;00m lists[\u001b[38;5;241m0\u001b[39m]:\n\u001b[1;32m     44\u001b[0m                 \u001b[38;5;28;01myield\u001b[39;00m (head,) \u001b[38;5;241m+\u001b[39m prev_tuple\n\u001b[0;32m---> 47\u001b[0m \u001b[38;5;28;01mimport\u001b[39;00m \u001b[38;5;21;01mmpld3\u001b[39;00m\n\u001b[1;32m     50\u001b[0m \u001b[38;5;28;01mdef\u001b[39;00m \u001b[38;5;21mplot_bar_graph\u001b[39m(values, labels, rotation\u001b[38;5;241m=\u001b[39m\u001b[38;5;241m0\u001b[39m, align\u001b[38;5;241m=\u001b[39m\u001b[38;5;124m'\u001b[39m\u001b[38;5;124mcenter\u001b[39m\u001b[38;5;124m'\u001b[39m, use_mpld3\u001b[38;5;241m=\u001b[39m\u001b[38;5;28;01mFalse\u001b[39;00m):\n\u001b[1;32m     51\u001b[0m     \u001b[38;5;124;03m\"\"\"\u001b[39;00m\n\u001b[1;32m     52\u001b[0m \u001b[38;5;124;03m    Plots a bar graph.\u001b[39;00m\n\u001b[1;32m     53\u001b[0m \u001b[38;5;124;03m    Args:\u001b[39;00m\n\u001b[0;32m   (...)\u001b[0m\n\u001b[1;32m     61\u001b[0m \n\u001b[1;32m     62\u001b[0m \u001b[38;5;124;03m    \"\"\"\u001b[39;00m\n",
      "\u001b[0;31mModuleNotFoundError\u001b[0m: No module named 'mpld3'"
     ]
    }
   ],
   "source": [
    "%%capture\n",
    "%load_ext autoreload\n",
    "%autoreload 2\n",
    "%matplotlib inline\n",
    "# %cd .. \n",
    "import sys\n",
    "sys.path.append(\"..\")\n",
    "import math \n",
    "import statnlpbook.util as util\n",
    "import statnlpbook.parsing as parsing"
   ]
  },
  {
   "cell_type": "markdown",
   "metadata": {},
   "source": [
    "## <font color='blue'>Task 1</font>: Understanding parsing\n",
    "\n",
    "Be sure you understand [grammatical categories and structures](http://webdelprofesor.ula.ve/humanidades/azapata/materias/english_4/grammatical_categories_structures_and_syntactical_functions.pdf) and brush up on your [grammar skils](http://www.ucl.ac.uk/internet-grammar/intro/intro.htm).\n",
    "\n",
    "Then re-visit the [Enju online parser](http://www.nactem.ac.uk/enju/demo.html), and parse the following sentences...\n",
    "\n",
    "What is wrong with the parses of the following sentences? Are they correct?\n",
    "- Fat people eat accumulates.\n",
    "- The fat that people eat accumulates in their bodies.\n",
    "- The fat that people eat is accumulating in their bodies.\n",
    "\n",
    "What about these, is the problem in the parser or in the sentence?\n",
    "  - The old man the boat.\n",
    "  - The old people man the boat.  \n",
    "\n",
    "These were examples of garden path sentences, find out what that means.\n",
    "\n",
    "What about these sentences? Are their parses correct?\n",
    "  - Time flies like an arrow; fruit flies like a banana.\n",
    "  - We saw her duck."
   ]
  },
  {
   "cell_type": "markdown",
   "metadata": {},
   "source": [
    "## <font color='blue'>Task 2</font>: Parent Annotation\n",
    "\n"
   ]
  },
  {
   "cell_type": "markdown",
   "metadata": {},
   "source": [
    "Reminisce the lecture notes in parsing, and the mentioned parent annotation. (grand)*parents, matter - knowing who the parent is in a tree gives a bit of context information which can later help us with smoothing probabilities, and approaching context-dependent parsing.\n",
    "\n",
    "in that case, each non-terminal node should know it's parent. We'll do this exercise on a single tree, just to play around a bit with trees and their labeling.\n",
    "\n",
    "\n",
    "Given the following tree:"
   ]
  },
  {
   "cell_type": "code",
   "execution_count": 2,
   "metadata": {},
   "outputs": [
    {
     "ename": "NameError",
     "evalue": "name 'parsing' is not defined",
     "output_type": "error",
     "traceback": [
      "\u001b[0;31m---------------------------------------------------------------------------\u001b[0m",
      "\u001b[0;31mNameError\u001b[0m                                 Traceback (most recent call last)",
      "Input \u001b[0;32mIn [2]\u001b[0m, in \u001b[0;36m<cell line: 2>\u001b[0;34m()\u001b[0m\n\u001b[1;32m      1\u001b[0m x \u001b[38;5;241m=\u001b[39m (\u001b[38;5;124m'\u001b[39m\u001b[38;5;124mS\u001b[39m\u001b[38;5;124m'\u001b[39m, [(\u001b[38;5;124m'\u001b[39m\u001b[38;5;124mSubj\u001b[39m\u001b[38;5;124m'\u001b[39m, [\u001b[38;5;124m'\u001b[39m\u001b[38;5;124mHe\u001b[39m\u001b[38;5;124m'\u001b[39m]), (\u001b[38;5;124m'\u001b[39m\u001b[38;5;124mVP\u001b[39m\u001b[38;5;124m'\u001b[39m, [(\u001b[38;5;124m'\u001b[39m\u001b[38;5;124mVerb\u001b[39m\u001b[38;5;124m'\u001b[39m, [\u001b[38;5;124m'\u001b[39m\u001b[38;5;124mshot\u001b[39m\u001b[38;5;124m'\u001b[39m]), (\u001b[38;5;124m'\u001b[39m\u001b[38;5;124mObj\u001b[39m\u001b[38;5;124m'\u001b[39m, [\u001b[38;5;124m'\u001b[39m\u001b[38;5;124mthe\u001b[39m\u001b[38;5;124m'\u001b[39m, \u001b[38;5;124m'\u001b[39m\u001b[38;5;124melephant\u001b[39m\u001b[38;5;124m'\u001b[39m]), (\u001b[38;5;124m'\u001b[39m\u001b[38;5;124mPP\u001b[39m\u001b[38;5;124m'\u001b[39m, [\u001b[38;5;124m'\u001b[39m\u001b[38;5;124min\u001b[39m\u001b[38;5;124m'\u001b[39m, \u001b[38;5;124m'\u001b[39m\u001b[38;5;124mhis\u001b[39m\u001b[38;5;124m'\u001b[39m, \u001b[38;5;124m'\u001b[39m\u001b[38;5;124mpyjamas\u001b[39m\u001b[38;5;124m'\u001b[39m])])])\n\u001b[0;32m----> 2\u001b[0m \u001b[43mparsing\u001b[49m\u001b[38;5;241m.\u001b[39mrender_tree(x)\n",
      "\u001b[0;31mNameError\u001b[0m: name 'parsing' is not defined"
     ]
    }
   ],
   "source": [
    "x = ('S', [('Subj', ['He']), ('VP', [('Verb', ['shot']), ('Obj', ['the', 'elephant']), ('PP', ['in', 'his', 'pyjamas'])])])\n",
    "parsing.render_tree(x)"
   ]
  },
  {
   "cell_type": "markdown",
   "metadata": {},
   "source": [
    "Construct an `annotate_parents` function which will take that tree, and annotate its parents. The final annotation result should look like this:"
   ]
  },
  {
   "cell_type": "code",
   "execution_count": 3,
   "metadata": {},
   "outputs": [
    {
     "data": {
      "image/svg+xml": [
       "<?xml version=\"1.0\" encoding=\"UTF-8\" standalone=\"no\"?>\n",
       "<!DOCTYPE svg PUBLIC \"-//W3C//DTD SVG 1.1//EN\"\n",
       " \"http://www.w3.org/Graphics/SVG/1.1/DTD/svg11.dtd\">\n",
       "<!-- Generated by graphviz version 2.38.0 (20140413.2041)\n",
       " -->\n",
       "<!-- Title: %3 Pages: 1 -->\n",
       "<svg width=\"535pt\" height=\"260pt\"\n",
       " viewBox=\"0.00 0.00 535.30 260.00\" xmlns=\"http://www.w3.org/2000/svg\" xmlns:xlink=\"http://www.w3.org/1999/xlink\">\n",
       "<g id=\"graph0\" class=\"graph\" transform=\"scale(1 1) rotate(0) translate(4 256)\">\n",
       "<title>%3</title>\n",
       "<polygon fill=\"white\" stroke=\"none\" points=\"-4,4 -4,-256 531.296,-256 531.296,4 -4,4\"/>\n",
       "<!-- 0 -->\n",
       "<g id=\"node1\" class=\"node\"><title>0</title>\n",
       "<ellipse fill=\"none\" stroke=\"black\" cx=\"27\" cy=\"-90\" rx=\"27\" ry=\"18\"/>\n",
       "<text text-anchor=\"middle\" x=\"27\" y=\"-86.3\" font-family=\"Times,serif\" font-size=\"14.00\">He</text>\n",
       "</g>\n",
       "<!-- 1 -->\n",
       "<g id=\"node2\" class=\"node\"><title>1</title>\n",
       "<ellipse fill=\"none\" stroke=\"black\" cx=\"80\" cy=\"-162\" rx=\"36.2938\" ry=\"18\"/>\n",
       "<text text-anchor=\"middle\" x=\"80\" y=\"-158.3\" font-family=\"Times,serif\" font-size=\"14.00\">Subj^S</text>\n",
       "</g>\n",
       "<!-- 1&#45;&gt;0 -->\n",
       "<g id=\"edge1\" class=\"edge\"><title>1&#45;&gt;0</title>\n",
       "<path fill=\"none\" stroke=\"black\" d=\"M67.7075,-144.765C60.9905,-135.893 52.5445,-124.738 45.0893,-114.892\"/>\n",
       "<polygon fill=\"black\" stroke=\"black\" points=\"47.6881,-112.526 38.8612,-106.666 42.1072,-116.751 47.6881,-112.526\"/>\n",
       "</g>\n",
       "<!-- 2 -->\n",
       "<g id=\"node3\" class=\"node\"><title>2</title>\n",
       "<ellipse fill=\"none\" stroke=\"black\" cx=\"88\" cy=\"-18\" rx=\"27\" ry=\"18\"/>\n",
       "<text text-anchor=\"middle\" x=\"88\" y=\"-14.3\" font-family=\"Times,serif\" font-size=\"14.00\">shot</text>\n",
       "</g>\n",
       "<!-- 3 -->\n",
       "<g id=\"node4\" class=\"node\"><title>3</title>\n",
       "<ellipse fill=\"none\" stroke=\"black\" cx=\"116\" cy=\"-90\" rx=\"44.393\" ry=\"18\"/>\n",
       "<text text-anchor=\"middle\" x=\"116\" y=\"-86.3\" font-family=\"Times,serif\" font-size=\"14.00\">Verb^VP</text>\n",
       "</g>\n",
       "<!-- 3&#45;&gt;2 -->\n",
       "<g id=\"edge2\" class=\"edge\"><title>3&#45;&gt;2</title>\n",
       "<path fill=\"none\" stroke=\"black\" d=\"M109.222,-72.055C105.989,-63.9726 102.049,-54.1214 98.4447,-45.1117\"/>\n",
       "<polygon fill=\"black\" stroke=\"black\" points=\"101.679,-43.7739 94.7156,-35.789 95.1799,-46.3737 101.679,-43.7739\"/>\n",
       "</g>\n",
       "<!-- 4 -->\n",
       "<g id=\"node5\" class=\"node\"><title>4</title>\n",
       "<ellipse fill=\"none\" stroke=\"black\" cx=\"160\" cy=\"-18\" rx=\"27\" ry=\"18\"/>\n",
       "<text text-anchor=\"middle\" x=\"160\" y=\"-14.3\" font-family=\"Times,serif\" font-size=\"14.00\">the</text>\n",
       "</g>\n",
       "<!-- 5 -->\n",
       "<g id=\"node6\" class=\"node\"><title>5</title>\n",
       "<ellipse fill=\"none\" stroke=\"black\" cx=\"245\" cy=\"-18\" rx=\"40.0939\" ry=\"18\"/>\n",
       "<text text-anchor=\"middle\" x=\"245\" y=\"-14.3\" font-family=\"Times,serif\" font-size=\"14.00\">elephant</text>\n",
       "</g>\n",
       "<!-- 6 -->\n",
       "<g id=\"node7\" class=\"node\"><title>6</title>\n",
       "<ellipse fill=\"none\" stroke=\"black\" cx=\"218\" cy=\"-90\" rx=\"39.7935\" ry=\"18\"/>\n",
       "<text text-anchor=\"middle\" x=\"218\" y=\"-86.3\" font-family=\"Times,serif\" font-size=\"14.00\">Obj^VP</text>\n",
       "</g>\n",
       "<!-- 6&#45;&gt;4 -->\n",
       "<g id=\"edge3\" class=\"edge\"><title>6&#45;&gt;4</title>\n",
       "<path fill=\"none\" stroke=\"black\" d=\"M204.548,-72.7646C197.018,-63.6773 187.504,-52.1939 179.202,-42.1753\"/>\n",
       "<polygon fill=\"black\" stroke=\"black\" points=\"181.66,-39.6561 172.585,-34.189 176.27,-44.1223 181.66,-39.6561\"/>\n",
       "</g>\n",
       "<!-- 6&#45;&gt;5 -->\n",
       "<g id=\"edge4\" class=\"edge\"><title>6&#45;&gt;5</title>\n",
       "<path fill=\"none\" stroke=\"black\" d=\"M224.536,-72.055C227.62,-64.0586 231.372,-54.3308 234.817,-45.3995\"/>\n",
       "<polygon fill=\"black\" stroke=\"black\" points=\"238.191,-46.3786 238.524,-35.789 231.66,-43.8594 238.191,-46.3786\"/>\n",
       "</g>\n",
       "<!-- 7 -->\n",
       "<g id=\"node8\" class=\"node\"><title>7</title>\n",
       "<ellipse fill=\"none\" stroke=\"black\" cx=\"330\" cy=\"-18\" rx=\"27\" ry=\"18\"/>\n",
       "<text text-anchor=\"middle\" x=\"330\" y=\"-14.3\" font-family=\"Times,serif\" font-size=\"14.00\">in</text>\n",
       "</g>\n",
       "<!-- 8 -->\n",
       "<g id=\"node9\" class=\"node\"><title>8</title>\n",
       "<ellipse fill=\"none\" stroke=\"black\" cx=\"402\" cy=\"-18\" rx=\"27\" ry=\"18\"/>\n",
       "<text text-anchor=\"middle\" x=\"402\" y=\"-14.3\" font-family=\"Times,serif\" font-size=\"14.00\">his</text>\n",
       "</g>\n",
       "<!-- 9 -->\n",
       "<g id=\"node10\" class=\"node\"><title>9</title>\n",
       "<ellipse fill=\"none\" stroke=\"black\" cx=\"487\" cy=\"-18\" rx=\"40.0939\" ry=\"18\"/>\n",
       "<text text-anchor=\"middle\" x=\"487\" y=\"-14.3\" font-family=\"Times,serif\" font-size=\"14.00\">pyjamas</text>\n",
       "</g>\n",
       "<!-- 10 -->\n",
       "<g id=\"node11\" class=\"node\"><title>10</title>\n",
       "<ellipse fill=\"none\" stroke=\"black\" cx=\"366\" cy=\"-90\" rx=\"36.2938\" ry=\"18\"/>\n",
       "<text text-anchor=\"middle\" x=\"366\" y=\"-86.3\" font-family=\"Times,serif\" font-size=\"14.00\">PP^VP</text>\n",
       "</g>\n",
       "<!-- 10&#45;&gt;7 -->\n",
       "<g id=\"edge5\" class=\"edge\"><title>10&#45;&gt;7</title>\n",
       "<path fill=\"none\" stroke=\"black\" d=\"M357.469,-72.411C353.164,-64.0421 347.851,-53.7098 343.047,-44.3698\"/>\n",
       "<polygon fill=\"black\" stroke=\"black\" points=\"346.156,-42.7621 338.47,-35.4699 339.931,-45.9636 346.156,-42.7621\"/>\n",
       "</g>\n",
       "<!-- 10&#45;&gt;8 -->\n",
       "<g id=\"edge6\" class=\"edge\"><title>10&#45;&gt;8</title>\n",
       "<path fill=\"none\" stroke=\"black\" d=\"M374.531,-72.411C378.836,-64.0421 384.149,-53.7098 388.953,-44.3698\"/>\n",
       "<polygon fill=\"black\" stroke=\"black\" points=\"392.069,-45.9636 393.53,-35.4699 385.844,-42.7621 392.069,-45.9636\"/>\n",
       "</g>\n",
       "<!-- 10&#45;&gt;9 -->\n",
       "<g id=\"edge7\" class=\"edge\"><title>10&#45;&gt;9</title>\n",
       "<path fill=\"none\" stroke=\"black\" d=\"M388.759,-75.8335C407.246,-65.1389 433.56,-49.9159 454.302,-37.9162\"/>\n",
       "<polygon fill=\"black\" stroke=\"black\" points=\"456.198,-40.863 463.101,-32.8258 452.693,-34.8039 456.198,-40.863\"/>\n",
       "</g>\n",
       "<!-- 11 -->\n",
       "<g id=\"node12\" class=\"node\"><title>11</title>\n",
       "<ellipse fill=\"none\" stroke=\"black\" cx=\"167\" cy=\"-162\" rx=\"31.3957\" ry=\"18\"/>\n",
       "<text text-anchor=\"middle\" x=\"167\" y=\"-158.3\" font-family=\"Times,serif\" font-size=\"14.00\">VP^S</text>\n",
       "</g>\n",
       "<!-- 11&#45;&gt;3 -->\n",
       "<g id=\"edge8\" class=\"edge\"><title>11&#45;&gt;3</title>\n",
       "<path fill=\"none\" stroke=\"black\" d=\"M155.427,-145.116C149.154,-136.505 141.258,-125.667 134.183,-115.957\"/>\n",
       "<polygon fill=\"black\" stroke=\"black\" points=\"136.956,-113.819 128.238,-107.797 131.298,-117.941 136.956,-113.819\"/>\n",
       "</g>\n",
       "<!-- 11&#45;&gt;6 -->\n",
       "<g id=\"edge9\" class=\"edge\"><title>11&#45;&gt;6</title>\n",
       "<path fill=\"none\" stroke=\"black\" d=\"M178.573,-145.116C184.937,-136.38 192.972,-125.353 200.124,-115.535\"/>\n",
       "<polygon fill=\"black\" stroke=\"black\" points=\"203.059,-117.45 206.119,-107.307 197.402,-113.328 203.059,-117.45\"/>\n",
       "</g>\n",
       "<!-- 11&#45;&gt;10 -->\n",
       "<g id=\"edge10\" class=\"edge\"><title>11&#45;&gt;10</title>\n",
       "<path fill=\"none\" stroke=\"black\" d=\"M193.016,-151.849C227.3,-139.789 287.884,-118.478 327.486,-104.548\"/>\n",
       "<polygon fill=\"black\" stroke=\"black\" points=\"328.802,-107.795 337.074,-101.175 326.479,-101.192 328.802,-107.795\"/>\n",
       "</g>\n",
       "<!-- 12 -->\n",
       "<g id=\"node13\" class=\"node\"><title>12</title>\n",
       "<ellipse fill=\"none\" stroke=\"black\" cx=\"123\" cy=\"-234\" rx=\"27\" ry=\"18\"/>\n",
       "<text text-anchor=\"middle\" x=\"123\" y=\"-230.3\" font-family=\"Times,serif\" font-size=\"14.00\">S^?</text>\n",
       "</g>\n",
       "<!-- 12&#45;&gt;1 -->\n",
       "<g id=\"edge11\" class=\"edge\"><title>12&#45;&gt;1</title>\n",
       "<path fill=\"none\" stroke=\"black\" d=\"M113.243,-217.116C107.931,-208.469 101.239,-197.575 95.2546,-187.833\"/>\n",
       "<polygon fill=\"black\" stroke=\"black\" points=\"98.2337,-185.996 90.0172,-179.307 92.2691,-189.66 98.2337,-185.996\"/>\n",
       "</g>\n",
       "<!-- 12&#45;&gt;11 -->\n",
       "<g id=\"edge12\" class=\"edge\"><title>12&#45;&gt;11</title>\n",
       "<path fill=\"none\" stroke=\"black\" d=\"M132.984,-217.116C138.42,-208.469 145.267,-197.575 151.391,-187.833\"/>\n",
       "<polygon fill=\"black\" stroke=\"black\" points=\"154.391,-189.636 156.75,-179.307 148.465,-185.911 154.391,-189.636\"/>\n",
       "</g>\n",
       "</g>\n",
       "</svg>\n"
      ],
      "text/plain": [
       "<graphviz.dot.Digraph at 0x7efebdc806d8>"
      ]
     },
     "execution_count": 3,
     "metadata": {
      "filenames": {
       "image/svg+xml": "/Users/knf792/gits/nlp-course/nlp-book/_build/jupyter_execute/stat-nlp-book/exercises/parsing_8_0.svg"
      }
     },
     "output_type": "execute_result"
    }
   ],
   "source": [
    "y = ('S^?', [('Subj^S', ['He']), ('VP^S', [('Verb^VP', ['shot']), ('Obj^VP', ['the', 'elephant']), ('PP^VP', ['in', 'his', 'pyjamas'])])])\n",
    "parsing.render_tree(y)"
   ]
  },
  {
   "cell_type": "markdown",
   "metadata": {},
   "source": [
    "## Solutions\n",
    "\n",
    "You can find the solutions to this exercises [here](parsing_solutions.ipynb)"
   ]
  }
 ],
 "metadata": {
  "kernelspec": {
   "display_name": "Python 3",
   "language": "python",
   "name": "python3"
  },
  "language_info": {
   "codemirror_mode": {
    "name": "ipython",
    "version": 3
   },
   "file_extension": ".py",
   "mimetype": "text/x-python",
   "name": "python",
   "nbconvert_exporter": "python",
   "pygments_lexer": "ipython3",
   "version": "3.10.4"
  }
 },
 "nbformat": 4,
 "nbformat_minor": 1
}