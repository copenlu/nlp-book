{
 "cells": [
  {
   "cell_type": "code",
   "execution_count": 1,
   "metadata": {
    "slideshow": {
     "slide_type": "skip"
    }
   },
   "outputs": [
    {
     "data": {
      "text/html": [
       "<script>\n",
       "  function code_toggle() {\n",
       "    if (code_shown){\n",
       "      $('div.input').hide('500');\n",
       "      $('#toggleButton').val('Show Code')\n",
       "    } else {\n",
       "      $('div.input').show('500');\n",
       "      $('#toggleButton').val('Hide Code')\n",
       "    }\n",
       "    code_shown = !code_shown\n",
       "  }\n",
       "\n",
       "  $( document ).ready(function(){\n",
       "    code_shown=false;\n",
       "    $('div.input').hide()\n",
       "  });\n",
       "</script>\n",
       "<form action=\"javascript:code_toggle()\"><input type=\"submit\" id=\"toggleButton\" value=\"Show Code\"></form>\n"
      ],
      "text/plain": [
       "<IPython.core.display.HTML object>"
      ]
     },
     "metadata": {},
     "output_type": "display_data"
    }
   ],
   "source": [
    "%%html\n",
    "<script>\n",
    "  function code_toggle() {\n",
    "    if (code_shown){\n",
    "      $('div.input').hide('500');\n",
    "      $('#toggleButton').val('Show Code')\n",
    "    } else {\n",
    "      $('div.input').show('500');\n",
    "      $('#toggleButton').val('Hide Code')\n",
    "    }\n",
    "    code_shown = !code_shown\n",
    "  }\n",
    "\n",
    "  $( document ).ready(function(){\n",
    "    code_shown=false;\n",
    "    $('div.input').hide()\n",
    "  });\n",
    "</script>\n",
    "<form action=\"javascript:code_toggle()\"><input type=\"submit\" id=\"toggleButton\" value=\"Show Code\"></form>"
   ]
  },
  {
   "cell_type": "markdown",
   "metadata": {
    "slideshow": {
     "slide_type": "skip"
    }
   },
   "source": [
    "# Configuration"
   ]
  },
  {
   "cell_type": "code",
   "execution_count": 2,
   "metadata": {
    "hide_input": true,
    "slideshow": {
     "slide_type": "skip"
    }
   },
   "outputs": [
    {
     "data": {
      "text/plain": [
       "{'theme': 'sky',\n",
       " 'transition': 'zoom',\n",
       " 'controls': True,\n",
       " 'progress': 'true',\n",
       " 'start_slideshow_at': 'selected'}"
      ]
     },
     "execution_count": 2,
     "metadata": {},
     "output_type": "execute_result"
    }
   ],
   "source": [
    "from notebook.services.config import ConfigManager\n",
    "cm = ConfigManager()\n",
    "cm.update('livereveal', {\n",
    "        'theme': 'sky',\n",
    "        'transition': 'zoom',\n",
    "        'start_slideshow_at': 'selected',\n",
    "        'controls': True\n",
    "})"
   ]
  },
  {
   "cell_type": "code",
   "execution_count": 3,
   "metadata": {
    "hide_input": false,
    "slideshow": {
     "slide_type": "skip"
    }
   },
   "outputs": [
    {
     "data": {
      "application/javascript": [
       "require(['base/js/utils'],\n",
       "function(utils) {\n",
       "   utils.load_extensions('calico-spell-check', 'calico-document-tools', 'calico-cell-tools');\n",
       "});\n"
      ],
      "text/plain": [
       "<IPython.core.display.Javascript object>"
      ]
     },
     "metadata": {},
     "output_type": "display_data"
    }
   ],
   "source": [
    "%%javascript\n",
    "require(['base/js/utils'],\n",
    "function(utils) {\n",
    "   utils.load_extensions('calico-spell-check', 'calico-document-tools', 'calico-cell-tools');\n",
    "});"
   ]
  },
  {
   "cell_type": "code",
   "execution_count": 4,
   "metadata": {
    "hide_input": true,
    "slideshow": {
     "slide_type": "skip"
    }
   },
   "outputs": [],
   "source": [
    "%load_ext tikzmagic"
   ]
  },
  {
   "cell_type": "code",
   "execution_count": 5,
   "metadata": {
    "hide_input": true,
    "slideshow": {
     "slide_type": "skip"
    }
   },
   "outputs": [
    {
     "data": {
      "text/html": [
       "<style>\n",
       ".red { color: #E41A1C; }\n",
       ".orange { color: #FF7F00 }\n",
       ".yellow { color: #FFC020 }         \n",
       ".green { color: #4DAF4A }                  \n",
       ".blue { color: #377EB8; }\n",
       ".purple { color: #984EA3 }       \n",
       "\n",
       "h1 {\n",
       "    color: #377EB8;\n",
       "}\n",
       "\n",
       "ctb_global_show div.ctb_hideshow.ctb_show {\n",
       "    display: inline;\n",
       "} \n",
       "\n",
       "div.tabContent {\n",
       "    padding: 0px;\n",
       "    background: #ffffff;     \n",
       "    border: 0px;                        \n",
       "}  \n",
       "\n",
       ".left {\n",
       "    float: left;\n",
       "    width: 50%;\n",
       "    vertical-align: text-top;\n",
       "}\n",
       "\n",
       ".right {\n",
       "    margin-left: 50%;\n",
       "    vertical-align: text-top;                            \n",
       "}    \n",
       "\n",
       ".small {         \n",
       "    zoom: 0.9;\n",
       "    -ms-zoom: 0.9;\n",
       "    -webkit-zoom: 0.9;\n",
       "    -moz-transform:  scale(0.9,0.9);\n",
       "    -moz-transform-origin: left center;  \n",
       "}          \n",
       "\n",
       ".verysmall {         \n",
       "    zoom: 0.75;\n",
       "    -ms-zoom: 0.75;\n",
       "    -webkit-zoom: 0.75;\n",
       "    -moz-transform:  scale(0.75,0.75);\n",
       "    -moz-transform-origin: left center;  \n",
       "}         \n",
       "\n",
       "\n",
       ".tiny {         \n",
       "    zoom: 0.6;\n",
       "    -ms-zoom: 0.6;\n",
       "    -webkit-zoom: 0.6;\n",
       "    -moz-transform:  scale(0.6,0.6);\n",
       "    -moz-transform-origin: left center;  \n",
       "}         \n",
       "\n",
       "\n",
       ".rendered_html blockquote {\n",
       "    border-left-width: 0px;\n",
       "    padding: 15px;\n",
       "    margin: 0px;    \n",
       "    width: 100%;                            \n",
       "}         \n",
       "\n",
       ".rendered_html th {\n",
       "    padding: 0.5em;  \n",
       "    border: 0px;                            \n",
       "}         \n",
       "\n",
       ".rendered_html td {\n",
       "    padding: 0.25em;\n",
       "    border: 0px;                                                        \n",
       "}    \n",
       "\n",
       "#for reveal         \n",
       ".aside .controls, .reveal .controls {\n",
       "    display: none !important;                            \n",
       "    width: 0px !important;\n",
       "    height: 0px !important;\n",
       "}\n",
       "\n",
       ".rise-enabled .reveal .slide-number {\n",
       "    right: 25px;\n",
       "    bottom: 25px;                        \n",
       "    font-size: 200%;     \n",
       "    color: #377EB8;                        \n",
       "}         \n",
       "\n",
       ".rise-enabled .reveal .progress span {\n",
       "    background: #377EB8;\n",
       "}     \n",
       "\n",
       ".present .top {\n",
       "    position: fixed !important;\n",
       "    top: 0 !important;                                   \n",
       "}                  \n",
       "\n",
       ".present .rendered_html * + p, .present .rendered_html p, .present .rendered_html * + br, .present .rendered_html br {\n",
       "    margin: 0.5em 0;                            \n",
       "}  \n",
       "\n",
       ".present tr, .present td {\n",
       "    border: 0px;\n",
       "    padding: 0.35em;                            \n",
       "}      \n",
       "\n",
       ".present th {\n",
       "    border: 1px;\n",
       "}\n",
       "\n",
       "present .prompt {\n",
       "    min-width: 0px !important;\n",
       "    transition-duration: 0s !important;\n",
       "}     \n",
       "\n",
       ".prompt {\n",
       "    min-width: 0px !important;\n",
       "    transition-duration: 0s !important;                            \n",
       "}         \n",
       "\n",
       ".rise-enabled .cell li {\n",
       "    line-height: 135%;\n",
       "}\n",
       "\n",
       "</style>\n",
       "\n",
       "%load_ext tikzmagic\n"
      ],
      "text/plain": [
       "<IPython.core.display.HTML object>"
      ]
     },
     "metadata": {},
     "output_type": "display_data"
    }
   ],
   "source": [
    "%%html\n",
    "<style>\n",
    ".red { color: #E41A1C; }\n",
    ".orange { color: #FF7F00 }\n",
    ".yellow { color: #FFC020 }         \n",
    ".green { color: #4DAF4A }                  \n",
    ".blue { color: #377EB8; }\n",
    ".purple { color: #984EA3 }       \n",
    "       \n",
    "h1 {\n",
    "    color: #377EB8;\n",
    "}\n",
    "       \n",
    "ctb_global_show div.ctb_hideshow.ctb_show {\n",
    "    display: inline;\n",
    "} \n",
    "         \n",
    "div.tabContent {\n",
    "    padding: 0px;\n",
    "    background: #ffffff;     \n",
    "    border: 0px;                        \n",
    "}  \n",
    "         \n",
    ".left {\n",
    "    float: left;\n",
    "    width: 50%;\n",
    "    vertical-align: text-top;\n",
    "}\n",
    "\n",
    ".right {\n",
    "    margin-left: 50%;\n",
    "    vertical-align: text-top;                            \n",
    "}    \n",
    "               \n",
    ".small {         \n",
    "    zoom: 0.9;\n",
    "    -ms-zoom: 0.9;\n",
    "    -webkit-zoom: 0.9;\n",
    "    -moz-transform:  scale(0.9,0.9);\n",
    "    -moz-transform-origin: left center;  \n",
    "}          \n",
    "         \n",
    ".verysmall {         \n",
    "    zoom: 0.75;\n",
    "    -ms-zoom: 0.75;\n",
    "    -webkit-zoom: 0.75;\n",
    "    -moz-transform:  scale(0.75,0.75);\n",
    "    -moz-transform-origin: left center;  \n",
    "}         \n",
    "   \n",
    "        \n",
    ".tiny {         \n",
    "    zoom: 0.6;\n",
    "    -ms-zoom: 0.6;\n",
    "    -webkit-zoom: 0.6;\n",
    "    -moz-transform:  scale(0.6,0.6);\n",
    "    -moz-transform-origin: left center;  \n",
    "}         \n",
    "         \n",
    "         \n",
    ".rendered_html blockquote {\n",
    "    border-left-width: 0px;\n",
    "    padding: 15px;\n",
    "    margin: 0px;    \n",
    "    width: 100%;                            \n",
    "}         \n",
    "         \n",
    ".rendered_html th {\n",
    "    padding: 0.5em;  \n",
    "    border: 0px;                            \n",
    "}         \n",
    "         \n",
    ".rendered_html td {\n",
    "    padding: 0.25em;\n",
    "    border: 0px;                                                        \n",
    "}    \n",
    "     \n",
    "#for reveal         \n",
    ".aside .controls, .reveal .controls {\n",
    "    display: none !important;                            \n",
    "    width: 0px !important;\n",
    "    height: 0px !important;\n",
    "}\n",
    "    \n",
    ".rise-enabled .reveal .slide-number {\n",
    "    right: 25px;\n",
    "    bottom: 25px;                        \n",
    "    font-size: 200%;     \n",
    "    color: #377EB8;                        \n",
    "}         \n",
    "         \n",
    ".rise-enabled .reveal .progress span {\n",
    "    background: #377EB8;\n",
    "}     \n",
    "         \n",
    ".present .top {\n",
    "    position: fixed !important;\n",
    "    top: 0 !important;                                   \n",
    "}                  \n",
    "    \n",
    ".present .rendered_html * + p, .present .rendered_html p, .present .rendered_html * + br, .present .rendered_html br {\n",
    "    margin: 0.5em 0;                            \n",
    "}  \n",
    "         \n",
    ".present tr, .present td {\n",
    "    border: 0px;\n",
    "    padding: 0.35em;                            \n",
    "}      \n",
    "         \n",
    ".present th {\n",
    "    border: 1px;\n",
    "}\n",
    "         \n",
    "present .prompt {\n",
    "    min-width: 0px !important;\n",
    "    transition-duration: 0s !important;\n",
    "}     \n",
    "         \n",
    ".prompt {\n",
    "    min-width: 0px !important;\n",
    "    transition-duration: 0s !important;                            \n",
    "}         \n",
    "         \n",
    ".rise-enabled .cell li {\n",
    "    line-height: 135%;\n",
    "}\n",
    "         \n",
    "</style>\n",
    "\n",
    "%load_ext tikzmagic"
   ]
  },
  {
   "cell_type": "code",
   "execution_count": 6,
   "metadata": {
    "slideshow": {
     "slide_type": "skip"
    }
   },
   "outputs": [
    {
     "data": {
      "text/html": [
       "<script>\n",
       "  function code_toggle() {\n",
       "    if (code_shown){\n",
       "      $('div.input').hide('500');\n",
       "      $('#toggleButton').val('Show Code')\n",
       "    } else {\n",
       "      $('div.input').show('500');\n",
       "      $('#toggleButton').val('Hide Code')\n",
       "    }\n",
       "    code_shown = !code_shown\n",
       "  }\n",
       "\n",
       "  $( document ).ready(function(){\n",
       "    code_shown=false;\n",
       "    $('div.input').hide()\n",
       "  });\n",
       "</script>\n",
       "<form action=\"javascript:code_toggle()\"><input type=\"submit\" id=\"toggleButton\" value=\"Show Code\"></form>\n"
      ],
      "text/plain": [
       "<IPython.core.display.HTML object>"
      ]
     },
     "metadata": {},
     "output_type": "display_data"
    }
   ],
   "source": [
    "%%html\n",
    "<script>\n",
    "  function code_toggle() {\n",
    "    if (code_shown){\n",
    "      $('div.input').hide('500');\n",
    "      $('#toggleButton').val('Show Code')\n",
    "    } else {\n",
    "      $('div.input').show('500');\n",
    "      $('#toggleButton').val('Hide Code')\n",
    "    }\n",
    "    code_shown = !code_shown\n",
    "  }\n",
    "\n",
    "  $( document ).ready(function(){\n",
    "    code_shown=false;\n",
    "    $('div.input').hide()\n",
    "  });\n",
    "</script>\n",
    "<form action=\"javascript:code_toggle()\"><input type=\"submit\" id=\"toggleButton\" value=\"Show Code\"></form>"
   ]
  },
  {
   "cell_type": "markdown",
   "metadata": {
    "slideshow": {
     "slide_type": "slide"
    }
   },
   "source": [
    "# Recurrent Neural Networks"
   ]
  },
  {
   "cell_type": "markdown",
   "metadata": {
    "slideshow": {
     "slide_type": "slide"
    }
   },
   "source": [
    "# Overview\n",
    "\n",
    "* Recap: Language Modeling\n",
    "* Recurrent Neural Network (RNN) Language Models\n",
    "* Training Problems and Solutions\n",
    "  - Vanishing and Exploding Gradients\n",
    "  - Long Short-Term Memory (LSTM) Networks\n",
    "* RNNs for Sequence to Sequence Problems\n",
    "* Extensions"
   ]
  },
  {
   "cell_type": "markdown",
   "metadata": {
    "slideshow": {
     "slide_type": "slide"
    }
   },
   "source": [
    "# Language Modeling (LMs)\n",
    "\n",
    "A LM computes a **probability** for a **sequence of words**\n",
    "\n",
    "$$p(\\langle w_{1}, \\ldots, w_{d} \\rangle)$$\n",
    "\n",
    "Useful in a miriad of NLP tasks involving text generation, e.g.\n",
    "- Machine Translation,\n",
    "- Speech Recognition, \n",
    "- Summarisation.. \n",
    "\n",
    "$$\n",
    "\\begin{aligned}\n",
    "p(\\langle \\text{Statistical}, \\text{Natural}, \\text{Language}, \\text{Processing} \\rangle) > \\\\\n",
    "p(\\langle \\text{Statistical}, \\text{Language}, \\text{Natural}, \\text{Processing} \\rangle)\n",
    "\\end{aligned}\n",
    "$$"
   ]
  },
  {
   "cell_type": "markdown",
   "metadata": {
    "hide_input": false,
    "slideshow": {
     "slide_type": "slide"
    }
   },
   "source": [
    "# $n$-Gram Language Models\n",
    "\n",
    "In *$n$-gram language models*, the probability $p(w_{1}, \\ldots, w_{d})$ of observing the sentence $(w_{1}, \\ldots, w_{d})$ is **approximated** as:\n",
    "\n",
    "$$\n",
    "\\begin{aligned}\n",
    "p(w_{1}, \\ldots, w_{d}) & = \\prod_{i=1}^{d} p(w_{i} \\mid w_{1}, \\ldots, w_{i - 1}) \\\\\n",
    "& \\approx \\prod_{i=1}^{d} p(w_{i} \\mid w_{i - (n - 1)}, \\ldots, w_{i - 1}) \\\\\n",
    "& \\approx \\prod_{i=1}^{d} \\frac{\\text{count}(w_{i - (n - 1)}, \\ldots, w_{i})}{\\text{count}(w_{i - (n - 1)}, \\ldots, w_{i - 1})}\n",
    "\\end{aligned}\n",
    "$$\n",
    "\n",
    "Example with a **bigram** ($n = 2$) **language model**:\n",
    "\n",
    "$$\n",
    "\\begin{aligned}\n",
    " p(\\langle \\text{Natural}, & \\text{Language}, \\text{Processing} \\rangle) \\approx \\\\\n",
    " & p(\\text{Natural}){}\\cdot{}p(\\text{Language} \\mid \\text{Natural}) \\\\\n",
    " & {}\\cdot{}p(\\text{Processing} \\mid \\text{Language})\n",
    "\\end{aligned}\n",
    "$$"
   ]
  },
  {
   "cell_type": "markdown",
   "metadata": {
    "slideshow": {
     "slide_type": "slide"
    }
   },
   "source": [
    "# Recurrent Neural Networks\n",
    "\n",
    "* RNNs share the weights at each time step\n",
    "* The output $y_{t}$ at time $t$ depends on all previous words\n",
    "  - $w_{t}, w_{t - 1}, \\ldots, w_{1}$\n",
    "* Size scales with **number of words**, not **sequence length**!"
   ]
  },
  {
   "cell_type": "code",
   "execution_count": 7,
   "metadata": {
    "hide_input": false,
    "slideshow": {
     "slide_type": "fragment"
    }
   },
   "outputs": [
    {
     "name": "stderr",
     "output_type": "stream",
     "text": [
      "/bin/sh: pdflatex: command not found\n",
      "LaTeX terminated with signal -127\n",
      "No log file generated.\n",
      "No image generated.\n"
     ]
    }
   ],
   "source": [
    "%%tikz -l arrows -s 1000,400 -sc 0.65\n",
    "\n",
    "\\newcommand{\\lstm}{\n",
    "\\definecolor{nice-red}{HTML}{E41A1C}\n",
    "\\definecolor{nice-orange}{HTML}{FF7F00}\n",
    "\\definecolor{nice-yellow}{HTML}{FFC020}\n",
    "\\definecolor{nice-green}{HTML}{4DAF4A}\n",
    "\\definecolor{nice-blue}{HTML}{377EB8}\n",
    "\\definecolor{nice-purple}{HTML}{984EA3}\n",
    "\n",
    "%lstm first step\n",
    "\n",
    "%lstm module box\n",
    "\\draw[line width=3pt, color=black!50] (0,0) rectangle (3,3);\n",
    "}\n",
    "\n",
    "\\lstm    \n",
    "\\node[] at (0.5,-1.25) {$\\mathbf{x}_t$};\n",
    "\\node[] at (-1.5,2) {$\\mathbf{h}_{t-1}$};\n",
    "\\node[] at (4.25,2) {$\\mathbf{h}_t$};\n",
    "\\node[] at (2.5,5) {$\\mathbf{y}_t$};\n",
    "\n",
    "\\draw[ultra thick, ->, >=stealth'] (0.5,-0.75) -- (0.5,0);\n",
    "\\draw[ultra thick, ->, >=stealth'] (-0.75,2) -- (0,2);      \n",
    "\\draw[ultra thick, ->, >=stealth'] (3,2) -- (3.75,2); \n",
    "\\draw[ultra thick, ->, >=stealth'] (2.5,3) -- (2.5,4.75);      \n",
    "\n",
    "\\path[line width=3pt, ->, >=stealth', color=nice-red] (4, 2.5) edge[bend right=0, in=-110, out=-70] (-1.75, 2.5);      \n",
    "      \n",
    "\\node[] at (1.5,2) {$f_\\theta(\\mathbf{x}_t, \\mathbf{h}_{t-1})$};\n"
   ]
  },
  {
   "cell_type": "markdown",
   "metadata": {
    "slideshow": {
     "slide_type": "fragment"
    }
   },
   "source": [
    "<div class=right><div class=top><div class=small>\n",
    "<div style=\"margin-bottom: 60%;\"></div>\n",
    "\\begin{align}\n",
    "\\mathbf{h}_t &= f_{\\theta}(\\mathbf{x}_{t}, \\mathbf{h}_{t - 1}) \\\\\n",
    "    f_{\\theta} \\; & \\text{is a } \\textbf{transition function} \\text { with parameters } \\theta\\\\\n",
    "    \\theta \\; & \\text{can be } \\textbf{learned from data}\\\\\n",
    "\\\\\n",
    "\\\\\n",
    "& \\text{\"Vanilla\" Recurrent Neural Network} \\\\\n",
    "\\mathbf{h}_t &= \\text{sigmoid}(\\mathbf{W}^h \\mathbf{h}_{t-1}+ \\mathbf{W}^x \\mathbf{x}_t)\n",
    "\\end{align}\n",
    "</div></div></div>"
   ]
  },
  {
   "cell_type": "markdown",
   "metadata": {
    "hide_input": true,
    "slideshow": {
     "slide_type": "slide"
    }
   },
   "source": [
    "# A Recurrent Neural Network LM\n",
    "\n",
    "Consider the following sentence:\n",
    "\n",
    "$$\\langle w_{1}, \\ldots, w_{t - 1}, w_{t}, w_{t + 1}, \\ldots, w_{d})$$\n",
    "\n",
    "At each single time step $t$, the hidden state $\\mathbf{h}_t$ and output $\\hat{\\mathbf{y}}_t$ are given by:\n",
    "\n",
    "$$\n",
    "\\begin{aligned}\n",
    " \\mathbf{x}_{1} & = \\text{encode}(w_{t}) \\in \\mathbb{R}^{d_{e}}\\\\\n",
    " \\mathbf{h}_t & = \\sigma(\\mathbf{W}^h \\mathbf{h}_{t-1}+ \\mathbf{W}^x \\mathbf{x}_t) \\in \\mathbb{R}^{d_{h}}\\\\\n",
    " \\hat{\\mathbf{y}}_{t} & = \\text{softmax}(\\mathbf{W}^o \\mathbf{h}_{t}) \\in \\mathbb{R}^{|V|} \\\\\n",
    "\\end{aligned}\n",
    "$$\n",
    "\n",
    "where $\\mathbf{y}_{t} \\in [0, 1]^{|V|}$ is a **probability distribution** over words in $V$.\n",
    "\n",
    "The probability that the $t$-th word in the sequence is $w_{j}$ is given by:\n",
    "\n",
    "$$p(w_{j} \\mid w_{t}, \\ldots, w_{1}) = \\hat{\\mathbf{y}}_{t, j}$$"
   ]
  },
  {
   "cell_type": "markdown",
   "metadata": {
    "hide_input": true,
    "slideshow": {
     "slide_type": "slide"
    }
   },
   "source": [
    "# Example\n",
    "\n",
    "Consider the word sequence $\\text{encode}(\\text{Natural}, \\text{Language}, \\text{Processing}) \\rightarrow (\\mathbf{x}_{1}, \\mathbf{x}_{2}, \\mathbf{x}_{3})$\n",
    "\n",
    "Reminder: $\\mathbf{h}_t = \\sigma(\\mathbf{W}^h \\mathbf{h}_{t-1}+ \\mathbf{W}^x \\mathbf{x}_t + \\mathbf{b})$\n",
    "\n",
    "$$\n",
    "\\begin{aligned}\n",
    " \\mathbf{h}_1 = \\sigma(\\mathbf{W}^h \\mathbf{h}_{0} + \\mathbf{W}^x \\mathbf{x}_1) &\\;& \\hat{\\mathbf{y}}_{1} = \\text{softmax}(\\mathbf{W}^o \\mathbf{h}_{1}) \\\\\n",
    " \\mathbf{h}_2 = \\sigma(\\mathbf{W}^h \\mathbf{h}_{1} + \\mathbf{W}^x \\mathbf{x}_2) &\\;& \\hat{\\mathbf{y}}_{2} = \\text{softmax}(\\mathbf{W}^o \\mathbf{h}_{2}) \\\\\n",
    " \\mathbf{h}_3 = \\sigma(\\mathbf{W}^h \\mathbf{h}_{2} + \\mathbf{W}^x \\mathbf{x}_3) &\\;& \\hat{\\mathbf{y}}_{3} = \\text{softmax}(\\mathbf{W}^o \\mathbf{h}_{3}) \\\\\n",
    "\\end{aligned}\n",
    "$$\n",
    "\n",
    "$$p(\\text{Natural}, \\text{Language}, \\text{Processing}) = \\hat{\\mathbf{y}}_{1, [\\text{Natural}]} \\; \\hat{\\mathbf{y}}_{2, [\\text{Language}]} \\; \\hat{\\mathbf{y}}_{3, [\\text{Processing}]}$$\n",
    "\n",
    "- Initial state: $\\mathbf{h}_{0} \\in \\mathbb{R}^{d_{h}}$, Input matrix: $\\mathbf{W}^x \\in \\mathbb{R}^{d_{h} \\times d_{x}}$\n",
    "- Transition matrix: $\\mathbf{W}^h \\in \\mathbb{R}^{d_{h} \\times d_{h}}$, Output matrix: $\\mathbf{W}^o \\in \\mathbb{R}^{|V| \\times d_{h}}$"
   ]
  },
  {
   "cell_type": "markdown",
   "metadata": {
    "slideshow": {
     "slide_type": "slide"
    }
   },
   "source": [
    "# Objective Function\n",
    "\n",
    "Recall that $\\hat{\\mathbf{y}}_{t} \\in \\mathbb{R}^{|V|}$ is a probability distribution over the vocabulary $V$.\n",
    "\n",
    "We can train a RNN by minimizing the **cross-entropy loss**, predicting **words** instead of classes:\n",
    "\n",
    "$$\n",
    "\\begin{aligned}\n",
    "J_{t} = - \\sum_{i = 1}^{|V|} \\mathbf{y}_{t, i} \\log \\hat{\\mathbf{y}}_{t, i}, \\quad \\text{where} \\quad \\mathbf{y}_{t, i} = \\left\\{\\begin{array}{ll}1 \\; \\text{if the $t$-th word is $w_{i}$,}\\\\0 \\, \\text{otherwise.}\\end{array} \\right.\n",
    "\\end{aligned}\n",
    "$$"
   ]
  },
  {
   "cell_type": "markdown",
   "metadata": {
    "slideshow": {
     "slide_type": "slide"
    }
   },
   "source": [
    "# Evaluating Language Models\n",
    "\n",
    "Evaluation - negative of average log-probability over corpus:\n",
    "\n",
    "$$J = - \\frac{1}{T} \\sum_{t = 1}^{T} \\sum_{j = 1}^{|V|} \\mathbf{y}_{t, j} \\log \\hat{\\mathbf{y}}_{t, j} = \\frac{1}{T} J_{t}$$\n",
    "\n",
    "Or also **perplexity**:\n",
    "\n",
    "$$PP(w_1,\\ldots,w_T) = \\sqrt[T]{\\prod_{i = 1}^T \\frac{1}{p(w_i | w_{1}, \\ldots, w_{i-1})}}$$"
   ]
  },
  {
   "cell_type": "markdown",
   "metadata": {
    "hide_input": true,
    "slideshow": {
     "slide_type": "slide"
    }
   },
   "source": [
    "# Sequence-to-Sequence Models\n",
    "\n",
    "Recurrent Neural Networks are extremely powerful and flexible\n",
    "- They can also learn to **generate** sequences\n",
    "\n",
    "Seq2Seq models are composed by:\n",
    "- **Encoder** - Gets the input and outputs $\\mathbf{v} \\in \\mathbb{R}^{d}$\n",
    "- **Decoder** - Gets $\\mathbf{v}$ and generates the output sequence\n",
    "\n",
    "Seq2Seq models are widely popular in e.g.:\n",
    "- *Neural Machine Translation*\n",
    "- *Text Summarization*\n",
    "- *Learning to Execute*"
   ]
  },
  {
   "cell_type": "code",
   "execution_count": 8,
   "metadata": {
    "hide_input": true,
    "slideshow": {
     "slide_type": "fragment"
    }
   },
   "outputs": [
    {
     "name": "stderr",
     "output_type": "stream",
     "text": [
      "/bin/sh: pdflatex: command not found\n",
      "LaTeX terminated with signal -127\n",
      "No log file generated.\n",
      "No image generated.\n"
     ]
    }
   ],
   "source": [
    "%%tikz -l arrows -s 1000,400 -sc 0.65\n",
    "\n",
    "\\definecolor{nice-red}{HTML}{E41A1C}\n",
    "\\definecolor{nice-orange}{HTML}{FF7F00}\n",
    "\\definecolor{nice-yellow}{HTML}{FFC020}\n",
    "\\definecolor{nice-green}{HTML}{4DAF4A}\n",
    "\\definecolor{nice-blue}{HTML}{377EB8}\n",
    "\\definecolor{nice-purple}{HTML}{984EA3}\n",
    "\n",
    "\\newcommand{\\lstm}{\n",
    "\n",
    "%lstm first step\n",
    "\n",
    "%lstm module box\n",
    "\\draw[line width=3pt, color=black!50] (0,0) rectangle (3,3);\n",
    "    \n",
    "\\draw[ultra thick, ->, >=stealth'] (0.5,-0.75) -- (0.5,0);\n",
    "\\draw[ultra thick, ->, >=stealth'] (-0.75,2) -- (0,2);      \n",
    "\\draw[ultra thick, ->, >=stealth'] (3,2) -- (3.75,2); \n",
    "\\draw[ultra thick, ->, >=stealth'] (2.5,3) -- (2.5,3.75);      \n",
    "}\n",
    "\n",
    "%\\lstm    \n",
    "      \n",
    "%\\node[] at (0.5,-1.25) {$\\mathbf{x}_t$};\n",
    "%\\node[] at (-1.5,2) {$\\mathbf{h}_{t-1}$};\n",
    "%\\node[] at (4.25,2) {$\\mathbf{h}_t$};\n",
    "%\\node[] at (2.5,5) {$\\mathbf{h}_t$};    \n",
    "%\\path[line width=3pt, ->, >=stealth', color=nice-blue] (4, 2.5) edge[bend right=0, in=-110, out=-70] (-1.75, 2.5);            \n",
    "%\\node[] at (1.5,2) {$f_\\theta(\\mathbf{x}_t, \\mathbf{h}_{t-1})$};\n",
    "\n",
    "\\foreach \\x/\\w in {0/I, 1/like, 2/neural, 3/networks} {\n",
    "    \\begin{scope}[shift={(\\x*3.75,0)}]\n",
    "        \\lstm    \n",
    "        \\node[font=\\LARGE, text height=1.5ex, color=nice-red] at (0.5,-1.5) {\\bf\\w};                                                                                    \n",
    "    \\end{scope}    \n",
    "}\n",
    "\n",
    "\\foreach \\x/\\w/\\t in {4/EOS/Ich, 5/Ich/mag, 6/mag/neuronale, 7/neuronale/Netze, 8/Netze/EOS} {\n",
    "    \\begin{scope}[shift={(\\x*3.75,0)}]\n",
    "        \\lstm    \n",
    "        \\node[font=\\LARGE, text height=1.5ex] at (0.5,-1.5) {\\bf\\w};  \n",
    "        \\node[font=\\LARGE, text height=1.5ex, color=nice-blue] at (2.5,4.5) {\\bf\\t};                                                                                                                \n",
    "    \\end{scope}    \n",
    "}       \n",
    "\n",
    "\\node[font=\\Huge, color=nice-red] at (16.5,1.5) {$\\mathbf{v}$};   "
   ]
  },
  {
   "cell_type": "markdown",
   "metadata": {
    "hide_input": false,
    "slideshow": {
     "slide_type": "slide"
    }
   },
   "source": [
    "# Problem - Training RNNs is Hard\n",
    "\n",
    "- **Vanishing** and **exploding** gradients [<span class=blue>Pascanu et al. 2013</span>].\n",
    "\n",
    "Why? Multiply the same matrix $\\mathbf{W}^{h}$ at each time step during forward propagation. The norm of the gradient might either tend to 0 (**vanish**) or be too large (**explode**).\n",
    "\n",
    "<center>\n",
    "<img src=\"rnn-figures/error_surface.png\" width=\"80%\"/>\n",
    "</center>"
   ]
  },
  {
   "cell_type": "markdown",
   "metadata": {
    "slideshow": {
     "slide_type": "slide"
    }
   },
   "source": [
    "# Related Problem - Long-Term Dependencies\n",
    "\n",
    "Words from time steps far away are hardly considered when training to predict the next word.\n",
    "\n",
    "Example:\n",
    "- John walked to the hallway.\n",
    "- Mary walked in too.\n",
    "- Daniel moved to the garden.\n",
    "- John said \"Hi\" to \\_\\_\\_\\_.\n",
    "\n",
    "A RNN is very likely to e.g. put an uniform probability distributions over nouns in $V$, and a low probability everywhere else.\n",
    "\n",
    "It's an issue with language modeling, question answering, and many other tasks."
   ]
  },
  {
   "cell_type": "markdown",
   "metadata": {
    "hide_input": true,
    "slideshow": {
     "slide_type": "slide"
    }
   },
   "source": [
    "# Vanishing/Exploding Gradients - Solutions\n",
    "\n",
    "Several solutions in the literature:\n",
    "\n",
    "- Bound the gradient to a threshold (**Gradient Clipping**)<br>[<span class=blue>Pascanu et al. 2013</span>]\n",
    "\n",
    "- Use $\\text{ReLU}(x) = \\max(0, x)$ (**Re**ctified **L**inear **U**nits) or similar non-linearities instead of $\\text{sigmoid}(x)$ or $\\text{tanh}(x)$<br>[<span class=blue>Glorot et al. 2011</span>].\n",
    "\n",
    "- Clever Initialization of the Transition Matrix ($\\mathbf{W}^h = \\mathbf{I}$)<br>[<span class=blue>Socher et al. 2013</span>, <span class=blue>Le et al. 2015</span>].\n",
    "\n",
    "- Use different recurrent models that favour backpropagation<br>LSTM[<span class=blue>Hochreiter et al. 1997</span>], GRU[<span class=blue>Chung et al. 2014</span>]."
   ]
  },
  {
   "cell_type": "markdown",
   "metadata": {
    "slideshow": {
     "slide_type": "slide"
    }
   },
   "source": [
    "# Long Short-Term Memory (LSTM) Networks\n",
    "\n",
    "- Can adaptively learn what to **keep** (store) into memory (gate $\\mathbf{i}_{t}$), **forget** (gate $\\mathbf{f}_{t}$) and **output** (gate $\\mathbf{o}_{t}$)"
   ]
  },
  {
   "cell_type": "code",
   "execution_count": 9,
   "metadata": {
    "hide_input": true,
    "scrolled": true,
    "slideshow": {
     "slide_type": "fragment"
    }
   },
   "outputs": [
    {
     "name": "stderr",
     "output_type": "stream",
     "text": [
      "/bin/sh: pdflatex: command not found\n",
      "LaTeX terminated with signal -127\n",
      "No log file generated.\n",
      "No image generated.\n"
     ]
    }
   ],
   "source": [
    "%%tikz -l arrows -s 1000,400 -sc 0.65\n",
    "\n",
    "\\newcommand{\\lstm}{\n",
    "\\definecolor{nice-red}{HTML}{E41A1C}\n",
    "\\definecolor{nice-orange}{HTML}{FF7F00}\n",
    "\\definecolor{nice-yellow}{HTML}{FFC020}\n",
    "\\definecolor{nice-green}{HTML}{4DAF4A}\n",
    "\\definecolor{nice-blue}{HTML}{377EB8}\n",
    "\\definecolor{nice-purple}{HTML}{984EA3}\n",
    "\n",
    "%lstm first step\n",
    "\n",
    "%lstm module box\n",
    "\\draw[line width=3pt, color=black!50] (-6,-3) rectangle (1.5,5.25);\n",
    "\\draw[ultra thick] (0,0) rectangle (1,2);\n",
    "\n",
    "%memory ct\n",
    "\\draw[ultra thick, color=nice-purple, fill=nice-purple!10] (0,0) rectangle (1,2);\n",
    "\n",
    "%non-linearities\n",
    "\\foreach \\w/\\h/\\color in {-2/4.25/nice-blue,-2/1/nice-red,-2/-1/nice-green,0.5/-2/nice-yellow,0.5/3/black} {\n",
    "    \\begin{scope}[shift={(\\w,\\h)},scale=0.5]\n",
    "        \\draw[ultra thick, yshift=-0.5cm, color=\\color] plot [domain=-0.3:0.3](\\x, {(0.8/(1+exp(-15*\\x))+0.1)});\n",
    "        \\draw[ultra thick, color=\\color] (0,0) circle (0.5cm);\n",
    "    \\end{scope}\n",
    "}\n",
    "\n",
    "%tanh\n",
    "\\draw[thick, color=black] (0.25,3) -- (0.75,3);\n",
    "\\draw[thick, color=nice-yellow] (0.25,-2) -- (0.75,-2);\n",
    "    \n",
    "    \n",
    "%component-wise multiplications\n",
    "\\foreach \\w/\\h in {-1/1,0.5/-1,0.5/4.25} {\n",
    "    \\begin{scope}[shift={(\\w,\\h)},scale=0.5]\n",
    "        \\draw[ultra thick, color=black] (0,0) circle (0.05cm);\n",
    "        \\draw[ultra thick, color=black] (0,0) circle (0.5cm);\n",
    "    \\end{scope}\n",
    "}\n",
    "\n",
    "%vector concat\n",
    "\\begin{scope}[shift={(-4,1)},scale=0.5]\n",
    "    \\draw[ultra thick,yshift=0.2cm] (0,0) circle (0.05cm);\n",
    "    \\draw[ultra thick,yshift=-0.2cm] (0,0) circle (0.05cm);\n",
    "    \\draw[ultra thick] (0,0) circle (0.5cm);\n",
    "\\end{scope}\n",
    "\n",
    "\n",
    "\\foreach \\fx/\\fy/\\tx/\\ty in {\n",
    "    -5/-3.5/-5/0.85, %xt\n",
    "    -5/0.85/-4.2/0.85,\n",
    "    -6.5/4.25/-5/4.25, %ht1\n",
    "    -5/4.25/-5/1.15,\n",
    "    -5/1.15/-4.2/1.15,\n",
    "    -3.75/1/-3/1, %H\n",
    "    -3/4.25/-3/-2,\n",
    "    -3/-2/0.25/-2, %i\n",
    "    0.5/-1.75/0.5/-1.25,\n",
    "    -3/-1/-2.25/-1, %it\n",
    "    -1.75/-1/0.25/-1,\n",
    "    -3/1/-2.25/1, %ft\n",
    "    -1.75/1/-1.25/1,\n",
    "    -0.75/1/0/1,\n",
    "    -3/4.25/-2.25/4.25, %ot\n",
    "    -1.75/4.25/0.25/4.25,\n",
    "    0.5/2/0.5/2.75, %ct\n",
    "    -5.5/2/-5.1/2, %ct1\n",
    "    -5.5/2/-5.5/1,\n",
    "    -6.5/1/-5.5/1,\n",
    "    -4.9/2/-3.1/2,\n",
    "    -2.9/2/-1/2,\n",
    "    -1/2/-1/1.25   \n",
    "} {\n",
    "    \\draw[ultra thick] (\\fx,\\fy) -- (\\tx,\\ty);\n",
    "}\n",
    "\n",
    "\\foreach \\fx/\\fy/\\tx/\\ty in {\n",
    "    0.5/-0.75/0.5/0, %it\n",
    "    -0.75/1/0/1, %ft\n",
    "    1/1/2.25/1,\n",
    "    0.5/3.25/0.5/4,\n",
    "    0.75/4.25/2.25/4.25, %ht    \n",
    "    0.5/4.5/0.5/6    \n",
    "} {\n",
    "    \\draw[->, >=stealth', ultra thick] (\\fx,\\fy) -- (\\tx,\\ty);\n",
    "}\n",
    "}\n",
    "\n",
    "%\\begin{scope}[scale=0.8]                    \n",
    "%\\foreach \\d in {0,1} {                    \n",
    "%\\foreach \\t in {0,1,2,3,4} {          \n",
    "%\\begin{scope}[shift={(\\t*8.5+\\d*5.5,\\d*9.5)}]          \n",
    "%    \\lstm\n",
    "%\\end{scope}   \n",
    "%}\n",
    "%}\n",
    "%\\end{scope}          \n",
    "\n",
    "          \n",
    "\\lstm \n",
    "          \n",
    "%annotations\n",
    "\\node[] at (-5,-3.75) {$\\mathbf{x}_t$};\n",
    "\\node[anchor=east] at (-6.5,4.25) {$\\mathbf{h}_{t-1}$};\n",
    "\\node[anchor=east] at (-6.5,1) {$\\mathbf{c}_{t-1}$};\n",
    "\\node[] at (0.5,6.25) {$\\mathbf{h}_t$};\n",
    "\\node[anchor=west] at (2.25,4.25) {$\\mathbf{h}_t$};\n",
    "\\node[anchor=west] at (2.25,1) {$\\mathbf{c}_t$};          \n",
    "\\node[xshift=0.4cm,yshift=0.25cm] at (-4,1) {$\\mathbf{H}_t$};\n",
    "\\node[xshift=0.35cm,yshift=0.25cm] at (-2,-1) {$\\mathbf{i}_t$};\n",
    "\\node[xshift=0.35cm,yshift=0.25cm] at (-2,1) {$\\mathbf{f}_t$};\n",
    "\\node[xshift=0.35cm,yshift=0.25cm] at (-2,4.25) {$\\mathbf{o}_t$};     \n",
    "          \n",
    "%dummy node for left alignment\n",
    "\\node[] at (17,0) {};          "
   ]
  },
  {
   "cell_type": "markdown",
   "metadata": {
    "hide_input": true,
    "slideshow": {
     "slide_type": "fragment"
    }
   },
   "source": [
    "<div class=right><div class=top><div class=small>\n",
    "<div style=\"margin-bottom: 40%;\"></div>\n",
    "\\begin{align}\n",
    "\\\\\n",
    "\\mathbf{H}_t &= \\left[\n",
    " \\begin{array}{*{20}c}\n",
    "        \\mathbf{x}_t \\\\\n",
    "        \\mathbf{h}_{t-1}\n",
    "      \\end{array}\n",
    "\\right]\\\\\n",
    "\\mathbf{i}_t &= \\text{sigmoid}(\\mathbf{W}^i\\mathbf{H}+\\mathbf{b}^i)\\\\\n",
    "\\mathbf{f}_t &= \\text{sigmoid}(\\mathbf{W}^f\\mathbf{H}+\\mathbf{b}^f)\\\\\n",
    "\\mathbf{o}_t &= \\text{sigmoid}(\\mathbf{W}^o\\mathbf{H}+\\mathbf{b}^o)\\\\\n",
    "\\mathbf{c}_t &= \\mathbf{f}_t \\odot \\mathbf{c}_{t-1} + \\mathbf{i}_t \\odot \\tanh(\\mathbf{W}^c\\mathbf{H}+\\mathbf{b}^c)\\\\\n",
    "\\mathbf{h}_t &= \\mathbf{o}_t \\odot \\tanh(\\mathbf{c}_t)\n",
    "\\end{align}\n",
    "</div></div></div>"
   ]
  },
  {
   "cell_type": "markdown",
   "metadata": {
    "slideshow": {
     "slide_type": "slide"
    }
   },
   "source": [
    "# Sentence Encoding"
   ]
  },
  {
   "cell_type": "code",
   "execution_count": 10,
   "metadata": {
    "hide_input": true,
    "scrolled": false
   },
   "outputs": [
    {
     "name": "stderr",
     "output_type": "stream",
     "text": [
      "/bin/sh: pdflatex: command not found\n",
      "LaTeX terminated with signal -127\n",
      "No log file generated.\n",
      "No image generated.\n"
     ]
    }
   ],
   "source": [
    "%%tikz -l arrows -s 1000,400 -sc 0.65\n",
    "\n",
    "\\newcommand{\\lstm}{\n",
    "\\definecolor{nice-red}{HTML}{E41A1C}\n",
    "\\definecolor{nice-orange}{HTML}{FF7F00}\n",
    "\\definecolor{nice-yellow}{HTML}{FFC020}\n",
    "\\definecolor{nice-green}{HTML}{4DAF4A}\n",
    "\\definecolor{nice-blue}{HTML}{377EB8}\n",
    "\\definecolor{nice-purple}{HTML}{984EA3}\n",
    "\n",
    "%lstm first step\n",
    "\n",
    "%lstm module box\n",
    "\\draw[line width=3pt, color=black!50] (-6,-3) rectangle (1.5,5.25);\n",
    "\\draw[ultra thick] (0,0) rectangle (1,2);\n",
    "\n",
    "%memory ct\n",
    "\\draw[ultra thick, color=nice-purple, fill=nice-purple!10] (0,0) rectangle (1,2);\n",
    "\n",
    "%non-linearities\n",
    "\\foreach \\w/\\h/\\color in {-2/4.25/nice-blue,-2/1/nice-red,-2/-1/nice-green,0.5/-2/nice-yellow,0.5/3/black} {\n",
    "    \\begin{scope}[shift={(\\w,\\h)},scale=0.5]\n",
    "        \\draw[ultra thick, yshift=-0.5cm, color=\\color] plot [domain=-0.3:0.3](\\x, {(0.8/(1+exp(-15*\\x))+0.1)});\n",
    "        \\draw[ultra thick, color=\\color] (0,0) circle (0.5cm);\n",
    "    \\end{scope}\n",
    "}\n",
    "\n",
    "%tanh\n",
    "\\draw[thick, color=black] (0.25,3) -- (0.75,3);\n",
    "\\draw[thick, color=nice-yellow] (0.25,-2) -- (0.75,-2);\n",
    "    \n",
    "    \n",
    "%component-wise multiplications\n",
    "\\foreach \\w/\\h in {-1/1,0.5/-1,0.5/4.25} {\n",
    "    \\begin{scope}[shift={(\\w,\\h)},scale=0.5]\n",
    "        \\draw[ultra thick, color=black] (0,0) circle (0.05cm);\n",
    "        \\draw[ultra thick, color=black] (0,0) circle (0.5cm);\n",
    "    \\end{scope}\n",
    "}\n",
    "\n",
    "%vector concat\n",
    "\\begin{scope}[shift={(-4,1)},scale=0.5]\n",
    "    \\draw[ultra thick,yshift=0.2cm] (0,0) circle (0.05cm);\n",
    "    \\draw[ultra thick,yshift=-0.2cm] (0,0) circle (0.05cm);\n",
    "    \\draw[ultra thick] (0,0) circle (0.5cm);\n",
    "\\end{scope}\n",
    "\n",
    "\n",
    "\\foreach \\fx/\\fy/\\tx/\\ty in {\n",
    "    -5/-3.5/-5/0.85, %xt\n",
    "    -5/0.85/-4.2/0.85,\n",
    "    -6.5/4.25/-5/4.25, %ht1\n",
    "    -5/4.25/-5/1.15,\n",
    "    -5/1.15/-4.2/1.15,\n",
    "    -3.75/1/-3/1, %H\n",
    "    -3/4.25/-3/-2,\n",
    "    -3/-2/0.25/-2, %i\n",
    "    0.5/-1.75/0.5/-1.25,\n",
    "    -3/-1/-2.25/-1, %it\n",
    "    -1.75/-1/0.25/-1,\n",
    "    -3/1/-2.25/1, %ft\n",
    "    -1.75/1/-1.25/1,\n",
    "    -0.75/1/0/1,\n",
    "    -3/4.25/-2.25/4.25, %ot\n",
    "    -1.75/4.25/0.25/4.25,\n",
    "    0.5/2/0.5/2.75, %ct\n",
    "    -5.5/2/-5.1/2, %ct1\n",
    "    -5.5/2/-5.5/1,\n",
    "    -6.5/1/-5.5/1,\n",
    "    -4.9/2/-3.1/2,\n",
    "    -2.9/2/-1/2,\n",
    "    -1/2/-1/1.25   \n",
    "} {\n",
    "    \\draw[ultra thick] (\\fx,\\fy) -- (\\tx,\\ty);\n",
    "}\n",
    "\n",
    "\\foreach \\fx/\\fy/\\tx/\\ty in {\n",
    "    0.5/-0.75/0.5/0, %it\n",
    "    -0.75/1/0/1, %ft\n",
    "    1/1/2.25/1,\n",
    "    0.5/3.25/0.5/4,\n",
    "    0.75/4.25/2.25/4.25, %ht    \n",
    "    0.5/4.5/0.5/6    \n",
    "} {\n",
    "    \\draw[->, >=stealth', ultra thick] (\\fx,\\fy) -- (\\tx,\\ty);\n",
    "}\n",
    "}\n",
    "\n",
    "\\begin{scope}[scale=0.8]                    \n",
    "\\foreach \\d in {0} {                    \n",
    "\\foreach \\t/\\word in {0/A,1/wedding,2/party,3/taking,4/pictures} {  \n",
    "    \\node[font=\\Huge, anchor=west] at (\\t*8.5-5.75,-4.5) {$\\mathbf{v}$\\_\\word};                                                                                \n",
    "    \\begin{scope}[shift={(\\t*8.5+\\d*5.5,\\d*9.5)}]  \n",
    "        \\lstm                    \n",
    "    \\end{scope}   \n",
    "}\n",
    "}\n",
    "\\end{scope}          \n",
    "\n",
    "\\node[font=\\Huge, anchor=west] at (27,5.75) {$\\mathbf{v}$\\_Sentence};                                                                                \n",
    "          \n",
    "          \n",
    "%dummy node for left alignment\n",
    "\\node[] at (17,0) {};          "
   ]
  },
  {
   "cell_type": "markdown",
   "metadata": {
    "hide_input": false,
    "slideshow": {
     "slide_type": "slide"
    }
   },
   "source": [
    "# Gating"
   ]
  },
  {
   "cell_type": "code",
   "execution_count": 11,
   "metadata": {
    "hide_input": true,
    "scrolled": true
   },
   "outputs": [
    {
     "name": "stderr",
     "output_type": "stream",
     "text": [
      "/bin/sh: pdflatex: command not found\n",
      "LaTeX terminated with signal -127\n",
      "No log file generated.\n",
      "No image generated.\n"
     ]
    }
   ],
   "source": [
    "%%tikz -l arrows -s 1000,400 -sc 0.65\n",
    "\n",
    "\\definecolor{nice-red}{HTML}{E41A1C}\n",
    "\\definecolor{nice-orange}{HTML}{FF7F00}\n",
    "\\definecolor{nice-yellow}{HTML}{FFC020}\n",
    "\\definecolor{nice-green}{HTML}{4DAF4A}\n",
    "\\definecolor{nice-blue}{HTML}{377EB8}\n",
    "\\definecolor{nice-purple}{HTML}{984EA3}\n",
    "\n",
    "\\newcommand{\\lstm}{\n",
    "%lstm first step\n",
    "\n",
    "%lstm module box\n",
    "\\draw[line width=3pt, color=black!50] (-6,-3) rectangle (1.5,5.25);\n",
    "\\draw[ultra thick] (0,0) rectangle (1,2);\n",
    "\n",
    "%memory ct\n",
    "\\draw[ultra thick, color=nice-purple, fill=nice-purple!10] (0,0) rectangle (1,2);\n",
    "\n",
    "%non-linearities\n",
    "\\foreach \\w/\\h/\\color in {-2/4.25/nice-blue,-2/1/nice-red,-2/-1/nice-green,0.5/-2/nice-yellow,0.5/3/black} {\n",
    "    \\begin{scope}[shift={(\\w,\\h)},scale=0.5]\n",
    "        \\draw[ultra thick, yshift=-0.5cm, color=\\color] plot [domain=-0.3:0.3](\\x, {(0.8/(1+exp(-15*\\x))+0.1)});\n",
    "        \\draw[ultra thick, color=\\color] (0,0) circle (0.5cm);\n",
    "    \\end{scope}\n",
    "}\n",
    "\n",
    "%tanh\n",
    "\\draw[thick, color=black] (0.25,3) -- (0.75,3);\n",
    "\\draw[thick, color=nice-yellow] (0.25,-2) -- (0.75,-2);\n",
    "    \n",
    "    \n",
    "%component-wise multiplications\n",
    "\\foreach \\w/\\h in {-1/1,0.5/-1,0.5/4.25} {\n",
    "    \\begin{scope}[shift={(\\w,\\h)},scale=0.5]\n",
    "        \\draw[ultra thick, color=black] (0,0) circle (0.05cm);\n",
    "        \\draw[ultra thick, color=black] (0,0) circle (0.5cm);\n",
    "    \\end{scope}\n",
    "}\n",
    "\n",
    "%vector concat\n",
    "\\begin{scope}[shift={(-4,1)},scale=0.5]\n",
    "    \\draw[ultra thick,yshift=0.2cm] (0,0) circle (0.05cm);\n",
    "    \\draw[ultra thick,yshift=-0.2cm] (0,0) circle (0.05cm);\n",
    "    \\draw[ultra thick] (0,0) circle (0.5cm);\n",
    "\\end{scope}\n",
    "\n",
    "\n",
    "\\foreach \\fx/\\fy/\\tx/\\ty in {\n",
    "    -5/-3.5/-5/0.85, %xt\n",
    "    -5/0.85/-4.2/0.85,\n",
    "    -6.5/4.25/-5/4.25, %ht1\n",
    "    -5/4.25/-5/1.15,\n",
    "    -5/1.15/-4.2/1.15,\n",
    "    -3.75/1/-3/1, %H\n",
    "    -3/4.25/-3/-2,\n",
    "    -3/-2/0.25/-2, %i\n",
    "    0.5/-1.75/0.5/-1.25,\n",
    "    -3/-1/-2.25/-1, %it\n",
    "    -1.75/-1/0.25/-1,\n",
    "    -3/1/-2.25/1, %ft\n",
    "    -1.75/1/-1.25/1,\n",
    "    -0.75/1/0/1,\n",
    "    -3/4.25/-2.25/4.25, %ot\n",
    "    -1.75/4.25/0.25/4.25,\n",
    "    0.5/2/0.5/2.75, %ct\n",
    "    -5.5/2/-5.1/2, %ct1\n",
    "    -5.5/2/-5.5/1,\n",
    "    -6.5/1/-5.5/1,\n",
    "    -4.9/2/-3.1/2,\n",
    "    -2.9/2/-1/2,\n",
    "    -1/2/-1/1.25   \n",
    "} {\n",
    "    \\draw[ultra thick] (\\fx,\\fy) -- (\\tx,\\ty);\n",
    "}\n",
    "\n",
    "\\foreach \\fx/\\fy/\\tx/\\ty in {\n",
    "    0.5/-0.75/0.5/0, %it\n",
    "    -0.75/1/0/1, %ft\n",
    "    1/1/2.25/1,\n",
    "    0.5/3.25/0.5/4,\n",
    "    0.75/4.25/2.25/4.25, %ht    \n",
    "    0.5/4.5/0.5/6    \n",
    "} {\n",
    "    \\draw[->, >=stealth', ultra thick] (\\fx,\\fy) -- (\\tx,\\ty);\n",
    "}\n",
    "}\n",
    "\n",
    "\\begin{scope}[scale=0.8]                    \n",
    "\\foreach \\d in {0} {                    \n",
    "\\foreach \\t/\\word in {0/A,1/wedding,2/party,3/taking,4/pictures} {  \n",
    "    \\node[font=\\Huge, anchor=west] at (\\t*8.5-5.75,-4.5) {$\\mathbf{v}$\\_\\word};                                                                                \n",
    "    \\begin{scope}[shift={(\\t*8.5+\\d*5.5,\\d*9.5)}]  \n",
    "        \\lstm                    \n",
    "    \\end{scope}   \n",
    "}\n",
    "}\n",
    "\\end{scope}          \n",
    "\n",
    "\\node[font=\\Huge, anchor=west] at (27,5.75) {$\\mathbf{v}$\\_Sentence};                                                                                \n",
    "          \n",
    "\n",
    "\\draw[line width=10pt, color=nice-red, opacity=0.8] (27.6,5) -- (27.6,0.75);\n",
    "\\draw[line width=10pt, color=nice-red, opacity=0.8] (27.5,0.75) -- (3,0.75);\n",
    "\\draw[->, >=stealth', line width=10pt, color=nice-red, opacity=0.8] (2.75,0.75) -- (2.75,-3);\n",
    "          \n",
    "          \n",
    "%dummy node for left alignment\n",
    "\\node[] at (17,0) {};          "
   ]
  },
  {
   "cell_type": "markdown",
   "metadata": {
    "slideshow": {
     "slide_type": "slide"
    }
   },
   "source": [
    "# Visualizing Gradients\n",
    "\n",
    "RNN vs. LSTM gradients on the input matrix $\\mathbf{W}^x$\n",
    "\n",
    "- Error is generated at 128th step and propagated back, no error from other steps."
   ]
  },
  {
   "cell_type": "code",
   "execution_count": 12,
   "metadata": {
    "hide_input": false,
    "slideshow": {
     "slide_type": "fragment"
    }
   },
   "outputs": [
    {
     "data": {
      "text/html": [
       "\n",
       "<center>\n",
       "<video controls autoplay loop>\n",
       "<source src=\"rnn-figures/vanishing.mp4\" type=\"video/mp4\">\n",
       "</video>\n",
       "</center>\n"
      ],
      "text/plain": [
       "<IPython.core.display.HTML object>"
      ]
     },
     "metadata": {},
     "output_type": "display_data"
    }
   ],
   "source": [
    "%%html\n",
    "\n",
    "<center>\n",
    "<video controls autoplay loop>\n",
    "<source src=\"rnn-figures/vanishing.mp4\" type=\"video/mp4\">\n",
    "</video>\n",
    "</center>"
   ]
  },
  {
   "cell_type": "markdown",
   "metadata": {
    "hide_input": false,
    "slideshow": {
     "slide_type": "slide"
    }
   },
   "source": [
    "# Stacking (Deep LSTMs)"
   ]
  },
  {
   "cell_type": "code",
   "execution_count": 13,
   "metadata": {
    "hide_input": true,
    "scrolled": false
   },
   "outputs": [
    {
     "name": "stderr",
     "output_type": "stream",
     "text": [
      "/bin/sh: pdflatex: command not found\n",
      "LaTeX terminated with signal -127\n",
      "No log file generated.\n",
      "No image generated.\n"
     ]
    }
   ],
   "source": [
    "%%tikz -l arrows -s 1100,500 -sc 0.65\n",
    "\n",
    "\\definecolor{nice-red}{HTML}{E41A1C}\n",
    "\\definecolor{nice-orange}{HTML}{FF7F00}\n",
    "\\definecolor{nice-yellow}{HTML}{FFC020}\n",
    "\\definecolor{nice-green}{HTML}{4DAF4A}\n",
    "\\definecolor{nice-blue}{HTML}{377EB8}\n",
    "\\definecolor{nice-purple}{HTML}{984EA3}\n",
    "\n",
    "\\newcommand{\\lstm}{\n",
    "%lstm first step\n",
    "\n",
    "%lstm module box\n",
    "\\draw[line width=3pt, color=black!50] (-6,-3) rectangle (1.5,5.25);\n",
    "\\draw[ultra thick] (0,0) rectangle (1,2);\n",
    "\n",
    "%memory ct\n",
    "\\draw[ultra thick, color=nice-purple, fill=nice-purple!10] (0,0) rectangle (1,2);\n",
    "\n",
    "%non-linearities\n",
    "\\foreach \\w/\\h/\\color in {-2/4.25/nice-blue,-2/1/nice-red,-2/-1/nice-green,0.5/-2/nice-yellow,0.5/3/black} {\n",
    "    \\begin{scope}[shift={(\\w,\\h)},scale=0.5]\n",
    "        \\draw[ultra thick, yshift=-0.5cm, color=\\color] plot [domain=-0.3:0.3](\\x, {(0.8/(1+exp(-15*\\x))+0.1)});\n",
    "        \\draw[ultra thick, color=\\color] (0,0) circle (0.5cm);\n",
    "    \\end{scope}\n",
    "}\n",
    "\n",
    "%tanh\n",
    "\\draw[thick, color=black] (0.25,3) -- (0.75,3);\n",
    "\\draw[thick, color=nice-yellow] (0.25,-2) -- (0.75,-2);\n",
    "    \n",
    "    \n",
    "%component-wise multiplications\n",
    "\\foreach \\w/\\h in {-1/1,0.5/-1,0.5/4.25} {\n",
    "    \\begin{scope}[shift={(\\w,\\h)},scale=0.5]\n",
    "        \\draw[ultra thick, color=black] (0,0) circle (0.05cm);\n",
    "        \\draw[ultra thick, color=black] (0,0) circle (0.5cm);\n",
    "    \\end{scope}\n",
    "}\n",
    "\n",
    "%vector concat\n",
    "\\begin{scope}[shift={(-4,1)},scale=0.5]\n",
    "    \\draw[ultra thick,yshift=0.2cm] (0,0) circle (0.05cm);\n",
    "    \\draw[ultra thick,yshift=-0.2cm] (0,0) circle (0.05cm);\n",
    "    \\draw[ultra thick] (0,0) circle (0.5cm);\n",
    "\\end{scope}\n",
    "\n",
    "\n",
    "\\foreach \\fx/\\fy/\\tx/\\ty in {\n",
    "    -5/-3.5/-5/0.85, %xt\n",
    "    -5/0.85/-4.2/0.85,\n",
    "    -6.5/4.25/-5/4.25, %ht1\n",
    "    -5/4.25/-5/1.15,\n",
    "    -5/1.15/-4.2/1.15,\n",
    "    -3.75/1/-3/1, %H\n",
    "    -3/4.25/-3/-2,\n",
    "    -3/-2/0.25/-2, %i\n",
    "    0.5/-1.75/0.5/-1.25,\n",
    "    -3/-1/-2.25/-1, %it\n",
    "    -1.75/-1/0.25/-1,\n",
    "    -3/1/-2.25/1, %ft\n",
    "    -1.75/1/-1.25/1,\n",
    "    -0.75/1/0/1,\n",
    "    -3/4.25/-2.25/4.25, %ot\n",
    "    -1.75/4.25/0.25/4.25,\n",
    "    0.5/2/0.5/2.75, %ct\n",
    "    -5.5/2/-5.1/2, %ct1\n",
    "    -5.5/2/-5.5/1,\n",
    "    -6.5/1/-5.5/1,\n",
    "    -4.9/2/-3.1/2,\n",
    "    -2.9/2/-1/2,\n",
    "    -1/2/-1/1.25   \n",
    "} {\n",
    "    \\draw[ultra thick] (\\fx,\\fy) -- (\\tx,\\ty);\n",
    "}\n",
    "\n",
    "\\foreach \\fx/\\fy/\\tx/\\ty in {\n",
    "    0.5/-0.75/0.5/0, %it\n",
    "    -0.75/1/0/1, %ft\n",
    "    1/1/2.25/1,\n",
    "    0.5/3.25/0.5/4,\n",
    "    0.75/4.25/2.25/4.25, %ht    \n",
    "    0.5/4.5/0.5/6    \n",
    "} {\n",
    "    \\draw[->, >=stealth', ultra thick] (\\fx,\\fy) -- (\\tx,\\ty);\n",
    "}\n",
    "}\n",
    "\n",
    "\\begin{scope}[scale=0.8]                    \n",
    "\\foreach \\d in {0,1,2} {                    \n",
    "\\foreach \\t/\\word in {0/A,1/wedding,2/party,3/taking,4/pictures} {  \n",
    "    \\node[font=\\Huge, anchor=west] at (\\t*8.5-5.75,-4.5) {$\\mathbf{v}$\\_\\word};                                                                                \n",
    "    \\begin{scope}[shift={(\\t*8.5+\\d*5.5,\\d*9.5)}]  \n",
    "        \\lstm                    \n",
    "    \\end{scope}   \n",
    "}\n",
    "}\n",
    "\\end{scope}          \n",
    "\n",
    "\\node[font=\\Huge, anchor=west] at (34,20.75) {$\\mathbf{v}$\\_Sentence};                                                                                \n",
    "\n",
    "\\draw[line width=10pt, color=nice-red, opacity=0.8] (36.4,16) -- (36.4,20);                    \n",
    "\\draw[line width=10pt, color=nice-red, opacity=0.8] (25.25,16) -- (36.5,16);          \n",
    "\\draw[line width=10pt, color=nice-red, opacity=0.8] (25.25,8.5) -- (25.25,16);          \n",
    "\\draw[line width=10pt, color=nice-red, opacity=0.8] (14,8.5) -- (25.25,8.5);\n",
    "\\draw[line width=10pt, color=nice-red, opacity=0.8] (14,8.5) -- (14,0.75);\n",
    "\\draw[line width=10pt, color=nice-red, opacity=0.8] (14,0.75) -- (3,0.75);\n",
    "\\draw[->, >=stealth', line width=10pt, color=nice-red, opacity=0.8] (2.75,0.75) -- (2.75,-3);\n",
    "          \n",
    "          \n",
    "%dummy node for left alignment\n",
    "\\node[] at (17,0) {};          "
   ]
  },
  {
   "cell_type": "markdown",
   "metadata": {
    "hide_input": true,
    "slideshow": {
     "slide_type": "slide"
    }
   },
   "source": [
    "# Applications\n",
    "- Language Modeling\n",
    "- Machine Translation\n",
    "- Question Answering\n",
    "- Dialog Modeling\n",
    "- Language Generation\n",
    "- Sentence Summarization\n",
    "- Paraphrasing\n",
    "- Sentiment Analysis\n",
    "- Recognizing Textual Entailment\n",
    "- ..."
   ]
  },
  {
   "cell_type": "markdown",
   "metadata": {
    "slideshow": {
     "slide_type": "slide"
    }
   },
   "source": [
    "# Learning to Execute\n",
    "\n",
    "RNNs are **Turing-Complete** [<span class=blue>Siegelman, 1995</span>] - they can simulate arbitrary programs, given the proper parameters.\n",
    "\n",
    "Learning to Execute [<span class=blue>Zaremba and Sutskever, 2014</span>]\n"
   ]
  },
  {
   "cell_type": "markdown",
   "metadata": {
    "slideshow": {
     "slide_type": "fragment"
    }
   },
   "source": [
    "<img width=\"80%\" src=\"rnn-figures/learningtoexecute.png\"/>"
   ]
  },
  {
   "cell_type": "markdown",
   "metadata": {
    "collapsed": true,
    "hide_input": true,
    "slideshow": {
     "slide_type": "slide"
    }
   },
   "source": [
    "# Implementing LSTM (TensorFlow)"
   ]
  },
  {
   "cell_type": "markdown",
   "metadata": {
    "slideshow": {
     "slide_type": "fragment"
    }
   },
   "source": [
    "```python\n",
    "lstm = rnn_cell.BasicLSTMCell(lstm_size)\n",
    "# Initial state of the LSTM memory.\n",
    "state = tf.zeros([batch_size, lstm.state_size])\n",
    "probabilities = []\n",
    "loss_val = 0.0\n",
    "for batch_of_words in words_in_dataset:\n",
    "  # State is updated after processing each batch\n",
    "  output, state = lstm(batch_of_words, state)\n",
    "  # Output is used to make next word predictions\n",
    "  scores = tf.matmul(output, out_w) + out_b\n",
    "  probabilities.append(tf.nn.softmax(scores))\n",
    "  loss_val += loss(probabilities, target_words)\n",
    "```"
   ]
  },
  {
   "cell_type": "markdown",
   "metadata": {
    "slideshow": {
     "slide_type": "fragment"
    }
   },
   "source": [
    "- Pay attention to **batching**, **bucketization** and **padding**"
   ]
  },
  {
   "cell_type": "markdown",
   "metadata": {
    "slideshow": {
     "slide_type": "slide"
    }
   },
   "source": [
    "# Levels of Granularity\n",
    "\n",
    "Char-Level Language Models: Char-RNN - see e.g. [<span class=blue>Karpathy, 2015</span>]\n",
    "\n",
    "<center>\n",
    "  <img src='rnn-figures/charseq.jpeg'/>\n",
    "</center>"
   ]
  },
  {
   "cell_type": "markdown",
   "metadata": {
    "slideshow": {
     "slide_type": "slide"
    }
   },
   "source": [
    "# Neural \"Lego Blocks\"\n",
    "\n",
    "We can combine models! Example: Show and Tell [<span class=blue>Vinyals, 2015</span>]\n",
    "\n",
    "<center>\n",
    "  <img src='rnn-figures/showtell.png'/>\n",
    "</center>"
   ]
  },
  {
   "cell_type": "markdown",
   "metadata": {
    "slideshow": {
     "slide_type": "slide"
    }
   },
   "source": [
    "# Bidirectional RNNs\n",
    "\n",
    "Problem - for word classification, you may need to incorporate information from both the **left** and **right** contexts of the word.\n",
    "\n",
    "<div align=\"left\" class=left>\n",
    "<img src='rnn-figures/bidirectional-rnn.png'/>\n",
    "</div>\n",
    "\n",
    "<div class=right><div class=top>\n",
    "\\begin{align}\n",
    "\\\\\n",
    "\\\\\n",
    "\\\\\n",
    "\\\\\n",
    "\\\\\n",
    "\\\\\n",
    "\\overleftarrow{\\mathbf{h}}_t &= f_{\\overleftarrow{\\theta}}(\\mathbf{x}_t, \\overleftarrow{\\mathbf{h}}_{t-1})\\\\\n",
    "\\overrightarrow{\\mathbf{h}}_t &= f_{\\overrightarrow{\\theta}}(\\mathbf{x}_t, \\overrightarrow{\\mathbf{h}}_{t+1})\\\\\n",
    "\\hat{\\mathbf{y}}_t & = g(\\overleftarrow{\\mathbf{h}}_t, \\overrightarrow{\\mathbf{h}}_t)\n",
    "\\end{align}\n",
    "</div></div></div>"
   ]
  },
  {
   "cell_type": "markdown",
   "metadata": {
    "slideshow": {
     "slide_type": "fragment"
    }
   },
   "source": [
    "- $\\overleftarrow{\\mathbf{h}}_t$ and $\\overrightarrow{\\mathbf{h}}_t$ represent (summarize) both the **past** and the **future** around a given sequence element."
   ]
  },
  {
   "cell_type": "code",
   "execution_count": null,
   "metadata": {
    "hide_input": true,
    "slideshow": {
     "slide_type": "fragment"
    }
   },
   "outputs": [],
   "source": []
  }
 ],
 "metadata": {
  "celltoolbar": "Slideshow",
  "hide_input": true,
  "kernelspec": {
   "display_name": "Python 3",
   "language": "python",
   "name": "python3"
  },
  "language_info": {
   "codemirror_mode": {
    "name": "ipython",
    "version": 3
   },
   "file_extension": ".py",
   "mimetype": "text/x-python",
   "name": "python",
   "nbconvert_exporter": "python",
   "pygments_lexer": "ipython3",
   "version": "3.10.4"
  },
  "latex_envs": {
   "bibliofile": "biblio.bib",
   "cite_by": "apalike",
   "current_citInitial": 1,
   "eqLabelWithNumbers": true,
   "eqNumInitial": 0
  },
  "livereveal": {
   "theme": "white",
   "transition": "concave"
  }
 },
 "nbformat": 4,
 "nbformat_minor": 1
}