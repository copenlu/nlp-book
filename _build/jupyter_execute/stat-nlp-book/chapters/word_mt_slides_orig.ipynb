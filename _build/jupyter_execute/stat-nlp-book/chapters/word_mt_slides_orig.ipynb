{
 "cells": [
  {
   "cell_type": "code",
   "execution_count": 1,
   "metadata": {
    "slideshow": {
     "slide_type": "skip"
    }
   },
   "outputs": [
    {
     "data": {
      "text/html": [
       "<script>\n",
       "  function code_toggle() {\n",
       "    if (code_shown){\n",
       "      $('div.input').hide('500');\n",
       "      $('#toggleButton').val('Show Code')\n",
       "    } else {\n",
       "      $('div.input').show('500');\n",
       "      $('#toggleButton').val('Hide Code')\n",
       "    }\n",
       "    code_shown = !code_shown\n",
       "  }\n",
       "\n",
       "  $( document ).ready(function(){\n",
       "    code_shown=false;\n",
       "    $('div.input').hide()\n",
       "  });\n",
       "</script>\n",
       "<form action=\"javascript:code_toggle()\"><input type=\"submit\" id=\"toggleButton\" value=\"Show Code\"></form>\n"
      ],
      "text/plain": [
       "<IPython.core.display.HTML object>"
      ]
     },
     "metadata": {},
     "output_type": "display_data"
    }
   ],
   "source": [
    "%%html\n",
    "<script>\n",
    "  function code_toggle() {\n",
    "    if (code_shown){\n",
    "      $('div.input').hide('500');\n",
    "      $('#toggleButton').val('Show Code')\n",
    "    } else {\n",
    "      $('div.input').show('500');\n",
    "      $('#toggleButton').val('Hide Code')\n",
    "    }\n",
    "    code_shown = !code_shown\n",
    "  }\n",
    "\n",
    "  $( document ).ready(function(){\n",
    "    code_shown=false;\n",
    "    $('div.input').hide()\n",
    "  });\n",
    "</script>\n",
    "<form action=\"javascript:code_toggle()\"><input type=\"submit\" id=\"toggleButton\" value=\"Show Code\"></form>"
   ]
  },
  {
   "cell_type": "code",
   "execution_count": 2,
   "metadata": {
    "slideshow": {
     "slide_type": "skip"
    }
   },
   "outputs": [
    {
     "ename": "ModuleNotFoundError",
     "evalue": "No module named 'mpld3'",
     "output_type": "error",
     "traceback": [
      "\u001b[0;31m---------------------------------------------------------------------------\u001b[0m",
      "\u001b[0;31mModuleNotFoundError\u001b[0m                       Traceback (most recent call last)",
      "Input \u001b[0;32mIn [2]\u001b[0m, in \u001b[0;36m<cell line: 5>\u001b[0;34m()\u001b[0m\n\u001b[1;32m      3\u001b[0m \u001b[38;5;28;01mimport\u001b[39;00m \u001b[38;5;21;01msys\u001b[39;00m\n\u001b[1;32m      4\u001b[0m sys\u001b[38;5;241m.\u001b[39mpath\u001b[38;5;241m.\u001b[39mappend(\u001b[38;5;124m\"\u001b[39m\u001b[38;5;124m..\u001b[39m\u001b[38;5;124m\"\u001b[39m)\n\u001b[0;32m----> 5\u001b[0m \u001b[38;5;28;01mimport\u001b[39;00m \u001b[38;5;21;01mstatnlpbook\u001b[39;00m\u001b[38;5;21;01m.\u001b[39;00m\u001b[38;5;21;01mutil\u001b[39;00m \u001b[38;5;28;01mas\u001b[39;00m \u001b[38;5;21;01mutil\u001b[39;00m\n\u001b[1;32m      6\u001b[0m \u001b[38;5;28;01mimport\u001b[39;00m \u001b[38;5;21;01mstatnlpbook\u001b[39;00m\u001b[38;5;21;01m.\u001b[39;00m\u001b[38;5;21;01mmt\u001b[39;00m \u001b[38;5;28;01mas\u001b[39;00m \u001b[38;5;21;01mmt\u001b[39;00m\n\u001b[1;32m      7\u001b[0m util\u001b[38;5;241m.\u001b[39mexecute_notebook(\u001b[38;5;124m'\u001b[39m\u001b[38;5;124mword_mt.ipynb\u001b[39m\u001b[38;5;124m'\u001b[39m)\n",
      "File \u001b[0;32m~/gits/nlp-course/nlp-book/stat-nlp-book/chapters/../statnlpbook/util.py:47\u001b[0m, in \u001b[0;36m<module>\u001b[0;34m\u001b[0m\n\u001b[1;32m     43\u001b[0m             \u001b[38;5;28;01mfor\u001b[39;00m head \u001b[38;5;129;01min\u001b[39;00m lists[\u001b[38;5;241m0\u001b[39m]:\n\u001b[1;32m     44\u001b[0m                 \u001b[38;5;28;01myield\u001b[39;00m (head,) \u001b[38;5;241m+\u001b[39m prev_tuple\n\u001b[0;32m---> 47\u001b[0m \u001b[38;5;28;01mimport\u001b[39;00m \u001b[38;5;21;01mmpld3\u001b[39;00m\n\u001b[1;32m     50\u001b[0m \u001b[38;5;28;01mdef\u001b[39;00m \u001b[38;5;21mplot_bar_graph\u001b[39m(values, labels, rotation\u001b[38;5;241m=\u001b[39m\u001b[38;5;241m0\u001b[39m, align\u001b[38;5;241m=\u001b[39m\u001b[38;5;124m'\u001b[39m\u001b[38;5;124mcenter\u001b[39m\u001b[38;5;124m'\u001b[39m, use_mpld3\u001b[38;5;241m=\u001b[39m\u001b[38;5;28;01mFalse\u001b[39;00m):\n\u001b[1;32m     51\u001b[0m     \u001b[38;5;124;03m\"\"\"\u001b[39;00m\n\u001b[1;32m     52\u001b[0m \u001b[38;5;124;03m    Plots a bar graph.\u001b[39;00m\n\u001b[1;32m     53\u001b[0m \u001b[38;5;124;03m    Args:\u001b[39;00m\n\u001b[0;32m   (...)\u001b[0m\n\u001b[1;32m     61\u001b[0m \n\u001b[1;32m     62\u001b[0m \u001b[38;5;124;03m    \"\"\"\u001b[39;00m\n",
      "\u001b[0;31mModuleNotFoundError\u001b[0m: No module named 'mpld3'"
     ]
    }
   ],
   "source": [
    "%%capture\n",
    "%load_ext autoreload\n",
    "%autoreload 2\n",
    "import sys\n",
    "sys.path.append(\"..\")\n",
    "import statnlpbook.util as util\n",
    "import statnlpbook.mt as mt\n",
    "util.execute_notebook('word_mt.ipynb')\n",
    "matplotlib.rcParams['figure.figsize'] = (10.0, 6.0)"
   ]
  },
  {
   "cell_type": "markdown",
   "metadata": {
    "slideshow": {
     "slide_type": "slide"
    }
   },
   "source": [
    "# Machine Translation\n",
    "\n",
    " MT is a subfield of computation linguistics; it refers to an automatic translation from one natural spoken or written\n",
    " language to another."
   ]
  },
  {
   "cell_type": "markdown",
   "metadata": {
    "slideshow": {
     "slide_type": "slide"
    }
   },
   "source": [
    "# Why is MT a challenging task? \n",
    "\n",
    "  * Because languages are hard, even for humans! \n",
    "  * What is the Danish equivalent of **\"It is all Greek to me\"**? "
   ]
  },
  {
   "cell_type": "markdown",
   "metadata": {
    "slideshow": {
     "slide_type": "slide"
    }
   },
   "source": [
    "<center>\n",
    "<img src=\"../chapters/mt_figures/greekt.png\" width=\"50%\"/>\n",
    "</center>"
   ]
  },
  {
   "cell_type": "markdown",
   "metadata": {
    "slideshow": {
     "slide_type": "slide"
    }
   },
   "source": [
    "##  MT epic fails\n",
    "\n",
    "![1](https://static.boredpanda.com/blog/wp-content/uuuploads/funny-chinese-sign-translation-fails/funny-chinese-sign-translation-fails-22.jpg)\n"
   ]
  },
  {
   "cell_type": "markdown",
   "metadata": {
    "slideshow": {
     "slide_type": "slide"
    }
   },
   "source": [
    "##  MT epic fails\n",
    "\n",
    "![3](https://www.dramafever.com/st/news/images/cultmenu10_1.jpg)\n"
   ]
  },
  {
   "cell_type": "markdown",
   "metadata": {
    "slideshow": {
     "slide_type": "slide"
    }
   },
   "source": [
    "##  MT epic fails\n",
    "\n",
    "![4](https://i1.wp.com/pulptastic.com/wp-content/uploads/2014/03/AXK52xh.jpg?resize=605%2C454)\n"
   ]
  },
  {
   "cell_type": "markdown",
   "metadata": {
    "slideshow": {
     "slide_type": "slide"
    }
   },
   "source": [
    "##  MT epic fails\n",
    "\n",
    "![5](https://alvinology.com/wp-content/uploads/2014/03/2691947209_4e4fe0d260_o.jpg)\n"
   ]
  },
  {
   "cell_type": "markdown",
   "metadata": {
    "slideshow": {
     "slide_type": "slide"
    }
   },
   "source": [
    "##  MT epic fails\n",
    "\n",
    "![6](https://blazepress.com/.image/t_share/MTI4OTkzNTg2NjczOTE1MTU0/3.jpg)\n"
   ]
  },
  {
   "cell_type": "markdown",
   "metadata": {
    "slideshow": {
     "slide_type": "slide"
    }
   },
   "source": [
    "##  MT epic fails\n",
    "<center>\n",
    "![2](https://www.shared.com/content/images/2017/08/Paul-is-dead.jpg)\n",
    "</center>    "
   ]
  },
  {
   "cell_type": "markdown",
   "metadata": {
    "slideshow": {
     "slide_type": "slide"
    }
   },
   "source": [
    "##  If you think that this only happens with complicated languages like Arabic, Chinese and Japanese: \n",
    "\n",
    "<center>\n",
    "<img src=\"../chapters/mt_figures/avocado.png\" width=\"60%\"/>\n",
    "</center>"
   ]
  },
  {
   "cell_type": "markdown",
   "metadata": {
    "slideshow": {
     "slide_type": "slide"
    }
   },
   "source": [
    "##  Machine Translation (MT)\n",
    "\n",
    "* The are 4 MT Paradigms: \n",
    "  * Rule-based machine translation or RBMT\n",
    "  * Example-based machine translation or EBMT\n",
    "  * Statistical machine translation or SMT\n",
    "  * Neural Machine Translation or NMT "
   ]
  },
  {
   "cell_type": "markdown",
   "metadata": {
    "slideshow": {
     "slide_type": "slide"
    }
   },
   "source": [
    "## Rule-based machine translation\n",
    "\n",
    "A RBMT system is based on linking the structure of the given input sentence with the structure of the foreign output sentence. To translate a sentence from French to English, one needs:\n",
    "    * A dictionary that will map each French word to an appropriate English word. \n",
    "    * Rules representing regular French sentence structure. \n",
    "    * Rules representing regular English sentence structure. \n",
    "    * Rules according to which one can relate these two structures together."
   ]
  },
  {
   "cell_type": "markdown",
   "metadata": {
    "slideshow": {
     "slide_type": "slide"
    }
   },
   "source": [
    "## Example-based machine translation\n",
    "\n",
    "An EBMT system is trained from bilingual parallel corpora containing parallel sentences in a specific format, the training sentences differ from each other by only one element which makes it easier for the system to memorize. For example, if we train on the two sentences **\"Good postgraduate students in the CSE department are smart\"** and **\"Programmers are good people\"** we would be able to translate **\"Programmers in the CSE department are smart\"** by just substituting the appropriate parts of the sentences."
   ]
  },
  {
   "cell_type": "markdown",
   "metadata": {
    "slideshow": {
     "slide_type": "slide"
    }
   },
   "source": [
    "## Statistical machine translation\n",
    "An SMT model is trained by applying advanced machine learning algorithms and techniques to learn bilingual correlations between two languages by training on a parallel corpus. The parallel corpus is generally a large number of parallel sentences\n",
    "(bi-sentences), humanly translated or validated. "
   ]
  },
  {
   "cell_type": "markdown",
   "metadata": {
    "slideshow": {
     "slide_type": "slide"
    }
   },
   "source": [
    "## Neural Machine Translation\n",
    "NMT is a simple new architecture for getting machines to learn to translate by modeling the whole translation process as one big artificial neural network. The most common models in NMT are based on the encoder-decoder architecture. First, the source sentence is encoded into a vector of embeddings of fixed length from which a decoder (decoder) generates translations. "
   ]
  },
  {
   "cell_type": "markdown",
   "metadata": {
    "slideshow": {
     "slide_type": "slide"
    }
   },
   "source": [
    "## SMT training pipeline\n",
    "<center>\n",
    "<img src=\"../chapters/mt_figures/training.png\" width=\"50%\"/>\n",
    "</center>\n"
   ]
  },
  {
   "cell_type": "markdown",
   "metadata": {
    "slideshow": {
     "slide_type": "slide"
    }
   },
   "source": [
    "## Training MT as structured prediction task\n",
    "\n",
    "* **source** sentence \\\\(\\source\\\\)\n",
    "    * aka $\\x$, usually tokenized\n",
    "    * \"音楽 が 好き\" or \"Ich mag Musik\"\n",
    "* **target** sentence \\\\(\\target\\\\)\n",
    "    * aka $\\y$, usually tokenized \n",
    "    * I like Music\n",
    "* a **model** \\\\(s_\\params(\\target,\\source)\\\\) to measure match of \\\\(\\target\\\\) to $\\source$\n",
    "    * $s($I like Music,音楽 が 好き$)=12$\n",
    "    * $s($I like StatNLP,音楽 が 好き$)=-20$"
   ]
  },
  {
   "cell_type": "markdown",
   "metadata": {
    "slideshow": {
     "slide_type": "slide"
    }
   },
   "source": [
    "For most of this lecture:\n",
    "* **Target**: English\n",
    "* **Source**: German"
   ]
  },
  {
   "cell_type": "markdown",
   "metadata": {
    "slideshow": {
     "slide_type": "subslide"
    }
   },
   "source": [
    "### Training\n",
    "learn the parameters \\\\(\\params\\\\) from data \n",
    "* usually from **parallel corpora** of **aligned source and target sentences**\n",
    "* Where can you get such data from?"
   ]
  },
  {
   "cell_type": "markdown",
   "metadata": {
    "slideshow": {
     "slide_type": "slide"
    }
   },
   "source": [
    "### Translation\n",
    "predict highest-scoring translation given source $\\source$:\n",
    "\n",
    "\\begin{equation}\n",
    "\\argmax_\\target s_\\params(\\target,\\source)\n",
    "\\end{equation}"
   ]
  },
  {
   "cell_type": "markdown",
   "metadata": {
    "slideshow": {
     "slide_type": "subslide"
    }
   },
   "source": [
    "MT approaches differ primarily in \n",
    "* how \\\\(s\\\\) is defined, \n",
    "* how \\\\(\\params\\\\) are learned\n",
    "* how the translation \\\\(\\argmax\\\\) is found"
   ]
  },
  {
   "cell_type": "markdown",
   "metadata": {
    "slideshow": {
     "slide_type": "slide"
    }
   },
   "source": [
    "### Modelling\n",
    "How to define $s_\\params(\\target,\\source)$?"
   ]
  },
  {
   "cell_type": "markdown",
   "metadata": {
    "slideshow": {
     "slide_type": "slide"
    }
   },
   "source": [
    "What makes a translation useful? \n",
    "\n",
    "How can we decompose the problem?\n",
    "\n",
    "Can you use any other concept that you have leanred during the NLP class to learn a good translation? (hint: Markov assumption)\n",
    "\n",
    "What's the Markov assumption? How can you apply it here? \n"
   ]
  },
  {
   "cell_type": "markdown",
   "metadata": {
    "slideshow": {
     "slide_type": "slide"
    }
   },
   "source": [
    "## Generative Models \n",
    "How is the $(\\target,\\source)$ data **generated**? \n",
    "\n",
    "Develop a **distribution** $s_\\params(\\target,\\source)=\\prob_\\params(\\target,\\source)$ that generates **faithful samples**  "
   ]
  },
  {
   "cell_type": "markdown",
   "metadata": {
    "slideshow": {
     "slide_type": "slide"
    }
   },
   "source": [
    "**Good** generative model: samples look like\n",
    "* I like music --- Ich mag Musik\n",
    "* I love music --- Ich mag Musik sehr gerne \n",
    "* etc."
   ]
  },
  {
   "cell_type": "markdown",
   "metadata": {
    "slideshow": {
     "slide_type": "subslide"
    }
   },
   "source": [
    "**Bad** generative model:\n",
    "* I don't like music --- Ich mag Musik\n",
    "* I love music --- Musik sehr gerne ich mag\n",
    "    * *example is a reasonable translation, but very unlikely German.* \n",
    "\n",
    "Generative models need to model both input and output! \n",
    "\n"
   ]
  },
  {
   "cell_type": "markdown",
   "metadata": {
    "slideshow": {
     "slide_type": "skip"
    }
   },
   "source": [
    "How can we decompose the problem?\n",
    "\n",
    "*in the same way we decomposed language models $\\prob(w_1,\\ldots,w_n)=\\prob(w_1)\\prob(w_2|w_1)\\ldots$*"
   ]
  },
  {
   "cell_type": "markdown",
   "metadata": {
    "slideshow": {
     "slide_type": "subslide"
    }
   },
   "source": [
    "Think about the problem **backwards**\n",
    "* Generate the target $\\target$ using $\\prob_{\\params_t}(\\cdot)$\n",
    "* Generate the source $\\source$ using $\\prob_{\\params_s}(\\cdot|\\target)$"
   ]
  },
  {
   "cell_type": "markdown",
   "metadata": {
    "slideshow": {
     "slide_type": "subslide"
    }
   },
   "source": [
    "This defines a **joint** distribution $\\prob_\\params(\\target,\\source) = \\prob_{\\params_t}(\\target) \\prob_{\\params_s}(\\source|\\target)$"
   ]
  },
  {
   "cell_type": "markdown",
   "metadata": {
    "slideshow": {
     "slide_type": "slide"
    }
   },
   "source": [
    "### Training\n",
    "Find $\\params$ using **MLE** (or smoothed variants)\n",
    "\n",
    "$$\n",
    "\\argmax_\\params \\prod_{(\\target,\\source) \\in \\train} \\prob_\\params(\\target, \\source)\n",
    "$$"
   ]
  },
  {
   "cell_type": "markdown",
   "metadata": {
    "slideshow": {
     "slide_type": "subslide"
    }
   },
   "source": [
    "### Training\n",
    "Find $\\params$ using **MLE** (or smoothed variants)\n",
    "\n",
    "$$\n",
    "\\argmax_\\params \\sum_{(\\target,\\source) \\in \\train} \\log \\prob_\\params(\\target, \\source)\n",
    "$$\n",
    "\n",
    "Why did we move to the log domain? "
   ]
  },
  {
   "cell_type": "markdown",
   "metadata": {
    "slideshow": {
     "slide_type": "slide"
    }
   },
   "source": [
    "### Translation\n",
    "Operate **forwards**:\n",
    "\n",
    "$$\n",
    "\\argmax_\\target \\prob_\\params(\\target|\\source) = \\argmax_\\target \\prob_\\params(\\target,\\source)\n",
    "$$"
   ]
  },
  {
   "cell_type": "markdown",
   "metadata": {
    "hideCode": false,
    "slideshow": {
     "slide_type": "fragment"
    }
   },
   "source": [
    "Why this equality? $p(\\target|\\source)=\\frac{p(s,t)}{p(s)}$"
   ]
  },
  {
   "cell_type": "markdown",
   "metadata": {
    "slideshow": {
     "slide_type": "fragment"
    }
   },
   "source": [
    "How important would $\\prob(\\source)$ be if we had chosen $\\prob(\\target,\\source) = \\prob(\\source) \\prob(\\target|\\source)$?"
   ]
  },
  {
   "cell_type": "markdown",
   "metadata": {
    "slideshow": {
     "slide_type": "subslide"
    }
   },
   "source": [
    "### Noisy Channel  \n",
    "$\\prob(\\target,\\source) = \\prob(\\target) \\prob(\\source|\\target)$ is often called a **noisy channel model**"
   ]
  },
  {
   "cell_type": "code",
   "execution_count": 3,
   "metadata": {
    "hideCode": true,
    "hidePrompt": true,
    "slideshow": {
     "slide_type": "fragment"
    }
   },
   "outputs": [
    {
     "name": "stderr",
     "output_type": "stream",
     "text": [
      "UsageError: Cell magic `%%tikz` not found.\n"
     ]
    }
   ],
   "source": [
    "%%tikz\n",
    "\\tikzset{every node/.style={font=\\sffamily,white}} \n",
    "\\node[fill=blue] at (0,0) (a) {Sender}; \n",
    "\\node[fill=blue] at (3,0) (b) {Channel}; \n",
    "\\node[fill=blue] at (6,0) (c) {Receiver}; \n",
    "\\draw[->] (a) -- (b) node [midway,above,font=\\scriptsize,black]{$p(\\mathbf{t})$}; \n",
    "\\draw[->] (b) -- (c) node [midway,above,font=\\scriptsize,black]{$p(\\mathbf{s}|\\mathbf{t})$};"
   ]
  },
  {
   "cell_type": "markdown",
   "metadata": {
    "hideCode": false,
    "slideshow": {
     "slide_type": "fragment"
    }
   },
   "source": [
    "* A message $\\target$ is sent through a noisy channel and $\\source$ is received\n",
    "* What was $\\target$?"
   ]
  },
  {
   "cell_type": "code",
   "execution_count": 91,
   "metadata": {
    "hideCode": true,
    "hidePrompt": true,
    "slideshow": {
     "slide_type": "skip"
    }
   },
   "outputs": [
    {
     "data": {
      "image/png": "[encoded data removed]"
     },
     "metadata": {
      "filenames": {
       "image/png": "/Users/knf792/gits/nlp-course/nlp-book/_build/jupyter_execute/stat-nlp-book/chapters/word_mt_slides_orig_39_0.png"
      }
     },
     "output_type": "display_data"
    }
   ],
   "source": [
    "%%tikz\n",
    "\\tikzset{every node/.style={font=\\sffamily,white}} \n",
    "\\node[fill=blue] at (0,0) (a) {Sender}; \n",
    "\\node[fill=blue] at (3,0) (b) {Channel}; \n",
    "\\node[fill=blue] at (6,0) (c) {Receiver}; \n",
    "\\draw[->] (a) -- (b) node [midway,above,font=\\scriptsize,black]{$p(\\mathbf{t})$}; \n",
    "\\draw[->] (b) -- (c) node [midway,above,font=\\scriptsize,black]{$p(\\mathbf{s}|\\mathbf{t})$};"
   ]
  },
  {
   "cell_type": "markdown",
   "metadata": {
    "hideCode": false,
    "slideshow": {
     "slide_type": "slide"
    }
   },
   "source": [
    "* A message $\\target$ is sent through a noisy channel and $\\source$ is received\n",
    "* What was $\\target$?\n",
    "\n",
    "<center>\n",
    "<img src=\"../chapters/mt_figures/channel.png\" width=\"60%\"/>\n",
    "</center>"
   ]
  },
  {
   "cell_type": "markdown",
   "metadata": {
    "slideshow": {
     "slide_type": "subslide"
    }
   },
   "source": [
    "Channel could be \n",
    "\n",
    "* a ethernet cable\n",
    "* an encryption algorithm\n",
    "* a speaker that thinks in English but speaks in German"
   ]
  },
  {
   "cell_type": "markdown",
   "metadata": {
    "hideCode": false,
    "slideshow": {
     "slide_type": "slide"
    }
   },
   "source": [
    "### Noisy Channel in MT\n",
    "$$\n",
    "\\prob_\\params(\\target,\\source) = \\prob_{\\params_t}(\\target) \\prob_{\\params_s}(\\source|\\target)\n",
    "$$\n",
    "\n",
    "* $\\prob_{\\params_s}(\\source|\\target)$ is called the **translation model**\n",
    "    * Does source match the target?\n",
    "* $\\prob_{\\params_t}(\\target)$ is the **language model**\n",
    "    * Does target look like real language?"
   ]
  },
  {
   "cell_type": "markdown",
   "metadata": {
    "slideshow": {
     "slide_type": "slide"
    }
   },
   "source": [
    "## A translation model is composed of: \n",
    "* Translation model or $\\prob(\\source | \\target)$\n",
    "Assigns a conditional probability $\\prob(\\source | \\target)$ to any foreign/English bisentences.\n",
    "based on lexical translation and the notion of alignment\n",
    "$\\prob(a𝑣𝑜𝑐𝑎𝑡|𝑙𝑎𝑤𝑦𝑒𝑟)$ or $\\prob(𝑎𝑣𝑜𝑐𝑎𝑡|𝑎𝑣𝑜𝑐𝑎𝑑𝑜)$ \n",
    "* Language model or $\\prob(\\target)$\n",
    "Helps to ensure fluency by using n-gram approximation: the next word can be predicted using a short history (one or two words: Markov assumption)\n",
    "t=𝐼 𝑎𝑡𝑒 𝑎𝑛 𝑎𝑝𝑝𝑙𝑒, $\\prob(\\target)=\\prob(𝐼)×\\prob(ate | 𝐼) × \\prob (𝑎𝑛|𝐼,𝑎𝑡𝑒)×\\prob(𝑎𝑝𝑝𝑙𝑒|𝑎𝑡𝑒,𝑎𝑛)$"
   ]
  },
  {
   "cell_type": "markdown",
   "metadata": {
    "hideCode": false,
    "slideshow": {
     "slide_type": "subslide"
    }
   },
   "source": [
    "MLE for $\\prob_\\params(\\target,\\source) = \\prob_{\\params_t}(\\target) \\prob_{\\params_s}(\\source|\\target)$ can be calculated in two **independent steps**:\n",
    "* Estimate $\\params_t$ for $\\prob_{\\params_t}(\\target)$\n",
    "* Estimate $\\params_s$ for $\\prob_{\\params_s}(\\source|\\target)$"
   ]
  },
  {
   "cell_type": "markdown",
   "metadata": {
    "hideCode": false,
    "slideshow": {
     "slide_type": "fragment"
    }
   },
   "source": [
    "What training data do you need for each? "
   ]
  },
  {
   "cell_type": "markdown",
   "metadata": {
    "hideCode": false,
    "slideshow": {
     "slide_type": "slide"
    }
   },
   "source": [
    "## Translation Models"
   ]
  },
  {
   "cell_type": "markdown",
   "metadata": {
    "hideCode": false,
    "slideshow": {
     "slide_type": "subslide"
    }
   },
   "source": [
    "$$\n",
    "\\prob^{\\text{Impossible}}_\\params(\\source|\\target) = \\params_{\\source,\\target}\n",
    "$$"
   ]
  },
  {
   "cell_type": "markdown",
   "metadata": {
    "hideCode": false,
    "slideshow": {
     "slide_type": "subslide"
    }
   },
   "source": [
    "For example:\n",
    "$$\n",
    "\\prob^{\\text{Impossible}}_\\params(\\text{Ich mag Musik }|\\text{ I like music})=\\params_{\\text{Ich mag Musik},\\text{I like music}}\n",
    "$$"
   ]
  },
  {
   "cell_type": "markdown",
   "metadata": {
    "hideCode": false,
    "slideshow": {
     "slide_type": "fragment"
    }
   },
   "source": [
    "Why impossible?"
   ]
  },
  {
   "cell_type": "markdown",
   "metadata": {
    "slideshow": {
     "slide_type": "subslide"
    }
   },
   "source": [
    "Generally we want models that **factorize** (break up into smaller parts) for dealing with \n",
    "\n",
    "* **data sparsity**\n",
    "* **memory limitations**\n",
    "* **runtime limitations**"
   ]
  },
  {
   "cell_type": "markdown",
   "metadata": {
    "hideCode": false,
    "slideshow": {
     "slide_type": "fragment"
    }
   },
   "source": [
    "How did **language models** do this? \n",
    "\n",
    "$$\n",
    "\\prob(\\text{I like Music})=\\prob(\\text{I}) \\prob(\\text{like | I}) \\prob(\\text{Music | like})\n",
    "$$"
   ]
  },
  {
   "cell_type": "markdown",
   "metadata": {
    "hideCode": false,
    "slideshow": {
     "slide_type": "subslide"
    }
   },
   "source": [
    "Look at example for inspiration:\n",
    "\n",
    "|Token| 1 | 2 | 3 | 4 | \n",
    "|-|---|---|---|---|\n",
    "|**Target**| the | house | is | small |\n",
    "|**Source**| das | Haus | ist | klein |"
   ]
  },
  {
   "cell_type": "markdown",
   "metadata": {
    "hideCode": false,
    "slideshow": {
     "slide_type": "fragment"
    }
   },
   "source": [
    "$$\n",
    "\\prob_\\theta(\\source|\\target) = p(\\text{das | the}) * p(\\text{ Haus | house}) \\ldots\n",
    "$$"
   ]
  },
  {
   "cell_type": "markdown",
   "metadata": {
    "hideCode": false,
    "slideshow": {
     "slide_type": "slide"
    }
   },
   "source": [
    "## Naive Translation Model\n",
    "\n",
    "$$\n",
    "\\prob_\\params^\\text{Naive}(\\source|\\target) = \\prod_i^{\\length{\\source}} \\prob_\\params(\\ssource_i|\\starget_i) = \\prod_i^{\\length{\\source}} \\param_{\\ssource_i,\\starget_i}\n",
    "$$"
   ]
  },
  {
   "cell_type": "markdown",
   "metadata": {
    "hideCode": false,
    "slideshow": {
     "slide_type": "fragment"
    }
   },
   "source": [
    "Why naive?"
   ]
  },
  {
   "cell_type": "markdown",
   "metadata": {
    "hideCode": false,
    "slideshow": {
     "slide_type": "subslide"
    }
   },
   "source": [
    "### Training\n",
    "\n",
    "Use the **Maximum Likelihood Estimate**:\n",
    "\n",
    "$$\n",
    "\\params^* = \\argmax_\\params \\sum_{(\\target,\\source) \\in \\train} \\log \\prob_\\params(\\source|\\target)\n",
    "$$\n"
   ]
  },
  {
   "cell_type": "markdown",
   "metadata": {
    "hideCode": false,
    "slideshow": {
     "slide_type": "subslide"
    }
   },
   "source": [
    "Amounts to **counting**: \n",
    "\n",
    "$$\n",
    "\\param^*_{\\ssource,\\starget} = \\frac{\\counts{\\train}{s,t}}{\\counts{\\train}{t}} \n",
    "$$\n"
   ]
  },
  {
   "cell_type": "markdown",
   "metadata": {
    "hideCode": false,
    "slideshow": {
     "slide_type": "subslide"
    }
   },
   "source": [
    "In Python:"
   ]
  },
  {
   "cell_type": "code",
   "execution_count": 92,
   "metadata": {},
   "outputs": [],
   "source": [
    "from collections import defaultdict \n",
    "def learn_naive_model(data):\n",
    "    norm = defaultdict(float)\n",
    "    counts = defaultdict(float) \n",
    "    for target, source in data:\n",
    "        for i in range(0, len(target)):\n",
    "            norm[target[i]] += 1.0\n",
    "            counts[(source[i],target[i])] += 1.0\n",
    "    result = {}\n",
    "    for (source,target),score in counts.items():\n",
    "        result[(source,target)] = score / norm[target]\n",
    "    return result\n",
    "# show defaultdict behaviour"
   ]
  },
  {
   "cell_type": "code",
   "execution_count": 93,
   "metadata": {
    "hideCode": false,
    "slideshow": {
     "slide_type": "skip"
    }
   },
   "outputs": [
    {
     "data": {
      "text/html": [
       "<table align=\"left\" style=\"font-size:2em;\"><tr><td style='padding:20px; text-align:left'>('das', 'the')</td> <td style='padding:20px; text-align:left'>1.00</td><tr><tr><td style='padding:20px; text-align:left'>('Haus', 'house')</td> <td style='padding:20px; text-align:left'>0.50</td><tr><tr><td style='padding:20px; text-align:left'>('Gebauede', 'house')</td> <td style='padding:20px; text-align:left'>0.50</td><tr></table>"
      ],
      "text/plain": [
       "<statnlpbook.util.Table at 0x7fe45794f400>"
      ]
     },
     "execution_count": 93,
     "metadata": {},
     "output_type": "execute_result"
    }
   ],
   "source": [
    "naive_model = learn_naive_model([[('the','house'),('das','Haus')],\n",
    "                                 [('the','house'),('das','Gebauede')]])\n",
    "# try other genders or numbers \n",
    "util.Table(naive_model.items(), \"2em\", \"20px\")"
   ]
  },
  {
   "cell_type": "markdown",
   "metadata": {
    "hideCode": false,
    "slideshow": {
     "slide_type": "subslide"
    }
   },
   "source": [
    "Training data:"
   ]
  },
  {
   "cell_type": "code",
   "execution_count": 94,
   "metadata": {
    "hideCode": false,
    "slideshow": {
     "slide_type": "-"
    }
   },
   "outputs": [
    {
     "data": {
      "text/html": [
       "<table align=\"left\" style=\"font-size:1.5em;\"><tr><td style='padding:20px; text-align:left'>['the', 'house', 'is', 'small']</td> <td style='padding:20px; text-align:left'>['das', 'Haus', 'ist', 'klein']</td><tr><tr><td style='padding:20px; text-align:left'>['the', 'house', 'is', 'small']</td> <td style='padding:20px; text-align:left'>['klein', 'ist', 'das', 'Haus']</td><tr><tr><td style='padding:20px; text-align:left'>['a', 'man', 'is', 'tall']</td> <td style='padding:20px; text-align:left'>['ein', 'Mann', 'ist', 'groß']</td><tr><tr><td style='padding:20px; text-align:left'>['my', 'house', 'is', 'small']</td> <td style='padding:20px; text-align:left'>['klein', 'ist', 'mein', 'Haus']</td><tr></table>"
      ],
      "text/plain": [
       "<statnlpbook.util.Table at 0x7fe457956e80>"
      ]
     },
     "execution_count": 94,
     "metadata": {},
     "output_type": "execute_result"
    }
   ],
   "source": [
    "util.Table(train, \"1.5em\", \"20px\")"
   ]
  },
  {
   "cell_type": "code",
   "execution_count": 95,
   "metadata": {
    "hideCode": false,
    "slideshow": {
     "slide_type": "subslide"
    }
   },
   "outputs": [
    {
     "data": {
      "image/png": "[encoded data removed]",
      "text/plain": [
       "<matplotlib.figure.Figure at 0x7fe457956940>"
      ]
     },
     "metadata": {
      "filenames": {
       "image/png": "/Users/knf792/gits/nlp-course/nlp-book/_build/jupyter_execute/stat-nlp-book/chapters/word_mt_slides_orig_63_0.png"
      }
     },
     "output_type": "display_data"
    }
   ],
   "source": [
    "table = learn_naive_model(train)\n",
    "plot_table_for_target(table, \"is\") # try house"
   ]
  },
  {
   "cell_type": "markdown",
   "metadata": {
    "hideCode": false,
    "slideshow": {
     "slide_type": "subslide"
    }
   },
   "source": [
    "### Translation / Decoding\n",
    "\n",
    "Find the highest scoring target $\\target$ \n",
    "\n",
    "$$\n",
    "\\target^*(\\source) = \\argmax_\\target \\prod_i^{\\length{\\source}} \\prob_\\params(\\ssource_i|\\starget_i)\n",
    "$$\n"
   ]
  },
  {
   "cell_type": "markdown",
   "metadata": {
    "hideCode": false,
    "slideshow": {
     "slide_type": "fragment"
    }
   },
   "source": [
    "How about **brute-force** (like in our Structured Prediction example)?"
   ]
  },
  {
   "cell_type": "markdown",
   "metadata": {
    "hideCode": false,
    "slideshow": {
     "slide_type": "subslide"
    }
   },
   "source": [
    "### Local Decoding \n",
    "\n",
    "How to find this $\\argmax$?\n",
    "\n",
    "$$\n",
    "\\argmax_{y_1,y_2} f_1(y_1) f_2(y_2) = \\ldots\n",
    "$$\n"
   ]
  },
  {
   "cell_type": "markdown",
   "metadata": {
    "hideCode": false,
    "slideshow": {
     "slide_type": "subslide"
    }
   },
   "source": [
    "### Local Decoding for the Naive Model\n",
    "\n",
    "$$\n",
    "\\target^*(\\source) = \\argmax_\\target \\prod_i^{\\length{\\source}} \\prob_\\params(\\ssource_i|\\starget_i) \\\\\n",
    "= (\\argmax_{\\starget_1}  \\prob_\\params(\\ssource_1|\\starget_1), \\ldots, \\argmax_{\\starget_{\\length{\\source}}}  \\prob_\\params(\\ssource_{\\length{\\source}}|\\starget_{\\length{\\source}}))\n",
    "$$\n",
    "\n"
   ]
  },
  {
   "cell_type": "markdown",
   "metadata": {
    "hideCode": false,
    "slideshow": {
     "slide_type": "skip"
    }
   },
   "source": [
    "In Python"
   ]
  },
  {
   "cell_type": "code",
   "execution_count": 96,
   "metadata": {
    "hideCode": false,
    "slideshow": {
     "slide_type": "skip"
    }
   },
   "outputs": [
    {
     "data": {
      "text/plain": [
       "['a', 'man']"
      ]
     },
     "execution_count": 96,
     "metadata": {},
     "output_type": "execute_result"
    }
   ],
   "source": [
    "def decode(source_sent, model, lm):\n",
    "    source_to_targets = defaultdict(list)\n",
    "    for (source,target),prob in model.items():\n",
    "        source_to_targets[source] += [(target,prob)]\n",
    "    result = []\n",
    "    for tok in source_sent:\n",
    "        candidates = source_to_targets[tok]\n",
    "        multiplied_with_lm = [(target,prob * lm.probability(target)) \n",
    "                              for target, prob in candidates]\n",
    "        target = max(multiplied_with_lm, key=lambda t: t[1])\n",
    "        result.append(target[0])\n",
    "    return result\n",
    "\n",
    "lm = UniformLM(set([target for _, target in table.keys()]))\n",
    "decode([\"ein\", \"Mann\"], table, lm) # try other inputs with given vocab"
   ]
  },
  {
   "cell_type": "markdown",
   "metadata": {
    "hideCode": false,
    "slideshow": {
     "slide_type": "slide"
    }
   },
   "source": [
    "## Alignments\n",
    "Naive Model assumes a sequential **alignment**"
   ]
  },
  {
   "cell_type": "code",
   "execution_count": 97,
   "metadata": {},
   "outputs": [
    {
     "data": {
      "text/html": [
       "\n",
       "<svg id='f3ac2410-b90b-11e7-8cfc-0242ac110002' xmlns=\"http://www.w3.org/2000/svg\"\n",
       "     xmlns:xlink=\"http://www.w3.org/1999/xlink\"\n",
       "     viewBox=\"0 0 400 100\"\n",
       "     >\n",
       "\n",
       "    <text x=\"0\" y=\"20\" class=\"source\">\n",
       "        <tspan id='t0'>the</tspan> <tspan id='t1'>house</tspan> <tspan id='t2'>is</tspan> <tspan id='t3'>small</tspan>\n",
       "    </text>\n",
       "    <text x=\"0\" y=\"95\" class=\"target\">\n",
       "        <tspan id='t0'>das</tspan> <tspan id='t1'>Haus</tspan> <tspan id='t2'>ist</tspan> <tspan id='t3'>klein</tspan>\n",
       "    </text>\n",
       "    <g class='connections'></g>\n",
       "    <script>\n",
       "      $(function() {\n",
       "          root = $(document.getElementById('f3ac2410-b90b-11e7-8cfc-0242ac110002'));\n",
       "          root.find('.connections').empty();\n",
       "          alignments = [['.source #t0','.target #t0',1.0],['.source #t1','.target #t1',1.0],['.source #t2','.target #t2',1.0],['.source #t3','.target #t3',1.0]];\n",
       "          function appendLine(alignment) {\n",
       "              s1 = root.find(alignment[0])[0];\n",
       "              x1 = s1.getExtentOfChar(0).x + s1.getComputedTextLength() / 2.0;\n",
       "              y1 = s1.getExtentOfChar(0).y + s1.getExtentOfChar(0).height;\n",
       "              s2 = root.find(alignment[1])[0];\n",
       "              x2 = s2.getExtentOfChar(0).x + s2.getComputedTextLength() / 2.0;\n",
       "              y2 = s2.getExtentOfChar(0).y;\n",
       "              var newLine = document.createElementNS('http://www.w3.org/2000/svg','line');\n",
       "              var score = alignment[2];\n",
       "              newLine.setAttribute('x1',x1.toString());\n",
       "              newLine.setAttribute('y1',y1.toString());\n",
       "              newLine.setAttribute('x2',x2.toString());\n",
       "              newLine.setAttribute('y2',y2.toString());\n",
       "              newLine.setAttribute('style',\"stroke:black;stroke-width:2;stroke-opacity:\" + score + \";\");\n",
       "              root.find('.connections').append(newLine)\n",
       "          };\n",
       "          //console.log(alignments);\n",
       "          for (var i = 0; i < alignments.length; i++) {\n",
       "            appendLine(alignments[i]);\n",
       "          }\n",
       "          //console.log($(root).find('.connections'));\n",
       "      });\n",
       "    </script>\n",
       "</svg>\n"
      ],
      "text/plain": [
       "<statnlpbook.word_mt.Alignment at 0x7fe457a8c588>"
      ]
     },
     "execution_count": 97,
     "metadata": {},
     "output_type": "execute_result"
    }
   ],
   "source": [
    "word_mt.Alignment(\"the house is small\".split(\" \"),\n",
    "                  \"das Haus ist klein\".split(\" \"),\n",
    "                  [(0,0),(1,1),(2,2),(3,3)])"
   ]
  },
  {
   "cell_type": "markdown",
   "metadata": {
    "hideCode": false,
    "slideshow": {
     "slide_type": "subslide"
    }
   },
   "source": [
    "But word order can differ! "
   ]
  },
  {
   "cell_type": "code",
   "execution_count": 98,
   "metadata": {
    "slideshow": {
     "slide_type": "fragment"
    }
   },
   "outputs": [
    {
     "data": {
      "text/html": [
       "\n",
       "<svg id='f3aff590-b90b-11e7-8cfc-0242ac110002' xmlns=\"http://www.w3.org/2000/svg\"\n",
       "     xmlns:xlink=\"http://www.w3.org/1999/xlink\"\n",
       "     viewBox=\"0 0 400 100\"\n",
       "     >\n",
       "\n",
       "    <text x=\"0\" y=\"20\" class=\"source\">\n",
       "        <tspan id='t0'>the</tspan> <tspan id='t1'>house</tspan> <tspan id='t2'>is</tspan> <tspan id='t3'>small</tspan>\n",
       "    </text>\n",
       "    <text x=\"0\" y=\"95\" class=\"target\">\n",
       "        <tspan id='t0'>klein</tspan> <tspan id='t1'>ist</tspan> <tspan id='t2'>das</tspan> <tspan id='t3'>Haus</tspan>\n",
       "    </text>\n",
       "    <g class='connections'></g>\n",
       "    <script>\n",
       "      $(function() {\n",
       "          root = $(document.getElementById('f3aff590-b90b-11e7-8cfc-0242ac110002'));\n",
       "          root.find('.connections').empty();\n",
       "          alignments = [['.source #t0','.target #t2',1.0],['.source #t1','.target #t3',1.0],['.source #t2','.target #t1',1.0],['.source #t3','.target #t0',1.0]];\n",
       "          function appendLine(alignment) {\n",
       "              s1 = root.find(alignment[0])[0];\n",
       "              x1 = s1.getExtentOfChar(0).x + s1.getComputedTextLength() / 2.0;\n",
       "              y1 = s1.getExtentOfChar(0).y + s1.getExtentOfChar(0).height;\n",
       "              s2 = root.find(alignment[1])[0];\n",
       "              x2 = s2.getExtentOfChar(0).x + s2.getComputedTextLength() / 2.0;\n",
       "              y2 = s2.getExtentOfChar(0).y;\n",
       "              var newLine = document.createElementNS('http://www.w3.org/2000/svg','line');\n",
       "              var score = alignment[2];\n",
       "              newLine.setAttribute('x1',x1.toString());\n",
       "              newLine.setAttribute('y1',y1.toString());\n",
       "              newLine.setAttribute('x2',x2.toString());\n",
       "              newLine.setAttribute('y2',y2.toString());\n",
       "              newLine.setAttribute('style',\"stroke:black;stroke-width:2;stroke-opacity:\" + score + \";\");\n",
       "              root.find('.connections').append(newLine)\n",
       "          };\n",
       "          //console.log(alignments);\n",
       "          for (var i = 0; i < alignments.length; i++) {\n",
       "            appendLine(alignments[i]);\n",
       "          }\n",
       "          //console.log($(root).find('.connections'));\n",
       "      });\n",
       "    </script>\n",
       "</svg>\n"
      ],
      "text/plain": [
       "<statnlpbook.word_mt.Alignment at 0x7fe457956f98>"
      ]
     },
     "execution_count": 98,
     "metadata": {},
     "output_type": "execute_result"
    }
   ],
   "source": [
    "word_mt.Alignment(\"the house is small\".split(\" \"),\n",
    "                  \"klein ist das Haus\".split(\" \"),\n",
    "                  [(0,2),(1,3),(2,1),(3,0)])"
   ]
  },
  {
   "cell_type": "markdown",
   "metadata": {
    "hideCode": false,
    "slideshow": {
     "slide_type": "subslide"
    }
   },
   "source": [
    "Formalise alignments:\n",
    "\n",
    "* for each source sentence index \\\\(i \\in [1 \\ldots \\length{\\source}]\\\\)\n",
    "    * \\\\(a_i \\in [0 \\ldots \\length{\\target}]\\\\): index of **aligned target word**\n",
    "* \\\\(\\align_i\\\\) can be \\\\(0\\\\)\n",
    "    * Corresponds to imaginary _NULL_ token \\\\(\\starget_0\\\\)\n"
   ]
  },
  {
   "cell_type": "code",
   "execution_count": 99,
   "metadata": {
    "hideCode": false,
    "slideshow": {
     "slide_type": "subslide"
    }
   },
   "outputs": [
    {
     "data": {
      "text/html": [
       "\n",
       "<svg id='f3b3d160-b90b-11e7-8cfc-0242ac110002' xmlns=\"http://www.w3.org/2000/svg\"\n",
       "     xmlns:xlink=\"http://www.w3.org/1999/xlink\"\n",
       "     viewBox=\"0 0 400 100\"\n",
       "     >\n",
       "\n",
       "    <text x=\"0\" y=\"20\" class=\"source\">\n",
       "        <tspan id='t0'>NULL</tspan> <tspan id='t1'>the</tspan> <tspan id='t2'>house</tspan> <tspan id='t3'>is</tspan> <tspan id='t4'>small</tspan>\n",
       "    </text>\n",
       "    <text x=\"0\" y=\"95\" class=\"target\">\n",
       "        <tspan id='t0'>klein</tspan> <tspan id='t1'>ist</tspan> <tspan id='t2'>das</tspan> <tspan id='t3'>Haus</tspan>\n",
       "    </text>\n",
       "    <g class='connections'></g>\n",
       "    <script>\n",
       "      $(function() {\n",
       "          root = $(document.getElementById('f3b3d160-b90b-11e7-8cfc-0242ac110002'));\n",
       "          root.find('.connections').empty();\n",
       "          alignments = [['.source #t1','.target #t2',1.0],['.source #t2','.target #t3',1.0],['.source #t3','.target #t1',1.0],['.source #t4','.target #t0',1.0]];\n",
       "          function appendLine(alignment) {\n",
       "              s1 = root.find(alignment[0])[0];\n",
       "              x1 = s1.getExtentOfChar(0).x + s1.getComputedTextLength() / 2.0;\n",
       "              y1 = s1.getExtentOfChar(0).y + s1.getExtentOfChar(0).height;\n",
       "              s2 = root.find(alignment[1])[0];\n",
       "              x2 = s2.getExtentOfChar(0).x + s2.getComputedTextLength() / 2.0;\n",
       "              y2 = s2.getExtentOfChar(0).y;\n",
       "              var newLine = document.createElementNS('http://www.w3.org/2000/svg','line');\n",
       "              var score = alignment[2];\n",
       "              newLine.setAttribute('x1',x1.toString());\n",
       "              newLine.setAttribute('y1',y1.toString());\n",
       "              newLine.setAttribute('x2',x2.toString());\n",
       "              newLine.setAttribute('y2',y2.toString());\n",
       "              newLine.setAttribute('style',\"stroke:black;stroke-width:2;stroke-opacity:\" + score + \";\");\n",
       "              root.find('.connections').append(newLine)\n",
       "          };\n",
       "          //console.log(alignments);\n",
       "          for (var i = 0; i < alignments.length; i++) {\n",
       "            appendLine(alignments[i]);\n",
       "          }\n",
       "          //console.log($(root).find('.connections'));\n",
       "      });\n",
       "    </script>\n",
       "</svg>\n"
      ],
      "text/plain": [
       "<statnlpbook.word_mt.Alignment at 0x7fe457956fd0>"
      ]
     },
     "execution_count": 99,
     "metadata": {},
     "output_type": "execute_result"
    }
   ],
   "source": [
    "word_mt.Alignment(\"NULL the house is small\".split(\" \"),\n",
    "                  \"klein ist das Haus\".split(\" \"),\n",
    "                  [(1,2),(2,3),(3,1),(4,0)])"
   ]
  },
  {
   "cell_type": "markdown",
   "metadata": {
    "hideCode": false,
    "slideshow": {
     "slide_type": "fragment"
    }
   },
   "source": [
    "$a_1 = 4$ ??? "
   ]
  },
  {
   "cell_type": "markdown",
   "metadata": {
    "hideCode": false,
    "slideshow": {
     "slide_type": "subslide"
    }
   },
   "source": [
    "Why the **NULL** Token? "
   ]
  },
  {
   "cell_type": "code",
   "execution_count": 100,
   "metadata": {
    "scrolled": false,
    "slideshow": {
     "slide_type": "fragment"
    }
   },
   "outputs": [
    {
     "data": {
      "text/html": [
       "\n",
       "<svg id='f3b77158-b90b-11e7-8cfc-0242ac110002' xmlns=\"http://www.w3.org/2000/svg\"\n",
       "     xmlns:xlink=\"http://www.w3.org/1999/xlink\"\n",
       "     viewBox=\"0 0 400 100\"\n",
       "     >\n",
       "\n",
       "    <text x=\"0\" y=\"20\" class=\"source\">\n",
       "        <tspan id='t0'>NULL</tspan> <tspan id='t1'>I</tspan> <tspan id='t2'>like</tspan> <tspan id='t3'>music</tspan>\n",
       "    </text>\n",
       "    <text x=\"0\" y=\"95\" class=\"target\">\n",
       "        <tspan id='t0'>音楽</tspan> <tspan id='t1'>が</tspan> <tspan id='t2'>好き</tspan>\n",
       "    </text>\n",
       "    <g class='connections'></g>\n",
       "    <script>\n",
       "      $(function() {\n",
       "          root = $(document.getElementById('f3b77158-b90b-11e7-8cfc-0242ac110002'));\n",
       "          root.find('.connections').empty();\n",
       "          alignments = [['.source #t0','.target #t1',1.0],['.source #t2','.target #t2',1.0],['.source #t3','.target #t0',1.0]];\n",
       "          function appendLine(alignment) {\n",
       "              s1 = root.find(alignment[0])[0];\n",
       "              x1 = s1.getExtentOfChar(0).x + s1.getComputedTextLength() / 2.0;\n",
       "              y1 = s1.getExtentOfChar(0).y + s1.getExtentOfChar(0).height;\n",
       "              s2 = root.find(alignment[1])[0];\n",
       "              x2 = s2.getExtentOfChar(0).x + s2.getComputedTextLength() / 2.0;\n",
       "              y2 = s2.getExtentOfChar(0).y;\n",
       "              var newLine = document.createElementNS('http://www.w3.org/2000/svg','line');\n",
       "              var score = alignment[2];\n",
       "              newLine.setAttribute('x1',x1.toString());\n",
       "              newLine.setAttribute('y1',y1.toString());\n",
       "              newLine.setAttribute('x2',x2.toString());\n",
       "              newLine.setAttribute('y2',y2.toString());\n",
       "              newLine.setAttribute('style',\"stroke:black;stroke-width:2;stroke-opacity:\" + score + \";\");\n",
       "              root.find('.connections').append(newLine)\n",
       "          };\n",
       "          //console.log(alignments);\n",
       "          for (var i = 0; i < alignments.length; i++) {\n",
       "            appendLine(alignments[i]);\n",
       "          }\n",
       "          //console.log($(root).find('.connections'));\n",
       "      });\n",
       "    </script>\n",
       "</svg>\n"
      ],
      "text/plain": [
       "<statnlpbook.word_mt.Alignment at 0x7fe457956cf8>"
      ]
     },
     "execution_count": 100,
     "metadata": {},
     "output_type": "execute_result"
    }
   ],
   "source": [
    "word_mt.Alignment(\"NULL I like music\".split(\" \"),\n",
    "                  \"音楽 が 好き\".split(\" \"),\n",
    "                  [(0,1),(2,2),(3,0)])"
   ]
  },
  {
   "cell_type": "markdown",
   "metadata": {
    "hideCode": false,
    "slideshow": {
     "slide_type": "subslide"
    }
   },
   "source": [
    "One-to-many translations"
   ]
  },
  {
   "cell_type": "code",
   "execution_count": 101,
   "metadata": {
    "scrolled": false,
    "slideshow": {
     "slide_type": "-"
    }
   },
   "outputs": [
    {
     "data": {
      "text/html": [
       "\n",
       "<svg id='f3bb20be-b90b-11e7-8cfc-0242ac110002' xmlns=\"http://www.w3.org/2000/svg\"\n",
       "     xmlns:xlink=\"http://www.w3.org/1999/xlink\"\n",
       "     viewBox=\"0 0 400 100\"\n",
       "     >\n",
       "\n",
       "    <text x=\"0\" y=\"20\" class=\"source\">\n",
       "        <tspan id='t0'>NULL</tspan> <tspan id='t1'>the</tspan> <tspan id='t2'>house</tspan> <tspan id='t3'>is</tspan> <tspan id='t4'>tiny</tspan>\n",
       "    </text>\n",
       "    <text x=\"0\" y=\"95\" class=\"target\">\n",
       "        <tspan id='t0'>das</tspan> <tspan id='t1'>Haus</tspan> <tspan id='t2'>ist</tspan> <tspan id='t3'>sehr</tspan> <tspan id='t4'>klein</tspan>\n",
       "    </text>\n",
       "    <g class='connections'></g>\n",
       "    <script>\n",
       "      $(function() {\n",
       "          root = $(document.getElementById('f3bb20be-b90b-11e7-8cfc-0242ac110002'));\n",
       "          root.find('.connections').empty();\n",
       "          alignments = [['.source #t1','.target #t0',1.0],['.source #t2','.target #t1',1.0],['.source #t3','.target #t2',1.0],['.source #t4','.target #t3',1.0],['.source #t4','.target #t4',1.0]];\n",
       "          function appendLine(alignment) {\n",
       "              s1 = root.find(alignment[0])[0];\n",
       "              x1 = s1.getExtentOfChar(0).x + s1.getComputedTextLength() / 2.0;\n",
       "              y1 = s1.getExtentOfChar(0).y + s1.getExtentOfChar(0).height;\n",
       "              s2 = root.find(alignment[1])[0];\n",
       "              x2 = s2.getExtentOfChar(0).x + s2.getComputedTextLength() / 2.0;\n",
       "              y2 = s2.getExtentOfChar(0).y;\n",
       "              var newLine = document.createElementNS('http://www.w3.org/2000/svg','line');\n",
       "              var score = alignment[2];\n",
       "              newLine.setAttribute('x1',x1.toString());\n",
       "              newLine.setAttribute('y1',y1.toString());\n",
       "              newLine.setAttribute('x2',x2.toString());\n",
       "              newLine.setAttribute('y2',y2.toString());\n",
       "              newLine.setAttribute('style',\"stroke:black;stroke-width:2;stroke-opacity:\" + score + \";\");\n",
       "              root.find('.connections').append(newLine)\n",
       "          };\n",
       "          //console.log(alignments);\n",
       "          for (var i = 0; i < alignments.length; i++) {\n",
       "            appendLine(alignments[i]);\n",
       "          }\n",
       "          //console.log($(root).find('.connections'));\n",
       "      });\n",
       "    </script>\n",
       "</svg>\n"
      ],
      "text/plain": [
       "<statnlpbook.word_mt.Alignment at 0x7fe4578737f0>"
      ]
     },
     "execution_count": 101,
     "metadata": {},
     "output_type": "execute_result"
    }
   ],
   "source": [
    "word_mt.Alignment(\"NULL the house is tiny\".split(\" \"),\n",
    "                  \"das Haus ist sehr klein\".split(\" \"),\n",
    "                  [(1,0),(2,1),(3,2),(4,3),(4,4)])"
   ]
  },
  {
   "cell_type": "markdown",
   "metadata": {
    "hideCode": false,
    "slideshow": {
     "slide_type": "fragment"
    }
   },
   "source": [
    "Many-to-one translations?"
   ]
  },
  {
   "cell_type": "markdown",
   "metadata": {
    "slideshow": {
     "slide_type": "subslide"
    }
   },
   "source": [
    "Alignments are **hidden** when given a source! \n",
    "\n",
    "Need to be \n",
    "* predicted or marginalised out\n",
    "* modelled"
   ]
  },
  {
   "cell_type": "markdown",
   "metadata": {
    "hideCode": false,
    "slideshow": {
     "slide_type": "slide"
    }
   },
   "source": [
    "## IBM Translation Models\n",
    "\n",
    "In the late 80s, early 90s\n",
    "* **IBM researchers revolutionised MT** (and Speech Recognition) \n",
    "* using statistical approaches instead of rules \n"
   ]
  },
  {
   "cell_type": "markdown",
   "metadata": {
    "hideCode": false,
    "slideshow": {
     "slide_type": "subslide"
    }
   },
   "source": [
    "A famous IBM quote from that time\n",
    "\n",
    "> Every time I fire a linguist, the performance of the speech recognizer goes up\n",
    "> \n",
    ">  -- <cite>Fred Jelinek</cite>"
   ]
  },
  {
   "cell_type": "markdown",
   "metadata": {
    "hideCode": false,
    "slideshow": {
     "slide_type": "subslide"
    }
   },
   "source": [
    "Group around **Robert Mercer** were extremely successful\n",
    "\n",
    "* then disappeared to create **Renaissance Technologies**\n",
    "\n",
    "![mercer](http://images.huffingtonpost.com/2014-10-23-RobertMercer-thumb.JPG)"
   ]
  },
  {
   "cell_type": "markdown",
   "metadata": {
    "hideCode": false,
    "slideshow": {
     "slide_type": "subslide"
    }
   },
   "source": [
    "## IBM Model 2\n",
    "Translation and **alignment** model:\n",
    "\n",
    "$$\n",
    "p_\\params^\\text{IBM2}(\\source,\\aligns|\\target)\n",
    "$$"
   ]
  },
  {
   "cell_type": "markdown",
   "metadata": {
    "slideshow": {
     "slide_type": "slide"
    }
   },
   "source": [
    "## IBM Model 2\n",
    "\n",
    "<center>\n",
    "<img src=\"../chapters/mt_figures/ibm.png\" width=\"60%\"/>\n",
    "</center>"
   ]
  },
  {
   "cell_type": "markdown",
   "metadata": {
    "hideCode": false,
    "slideshow": {
     "slide_type": "subslide"
    }
   },
   "source": [
    "*Generative story* with parameters $\\params = (\\alpha, \\beta)$\n",
    "\n",
    "Given target sentence $\\target$ (e.g. NULL I like music) with length $l_\\starget$ (e.g. 4):\n",
    "\n",
    "* Generate a **source sentence length** $l\n",
    "_\\ssource$ with uniform probability $\\epsilon$\n",
    "    * e.g. $l_\\ssource=3$\n",
    "* Generate a **target position** $a_i$ for each source as position $i$ with $\\beta(a_i|i,l_\\starget,l_\\ssource)$\n",
    "    * e.g. $(3,0,2)$\n",
    "* Generate the **source word** $\\ssource_{i}$ at $a_i$ with probability $\\alpha(\\ssource_i|\\starget_{a_i})$ \n",
    "    * e.g. (音楽, が, 好き)"
   ]
  },
  {
   "cell_type": "markdown",
   "metadata": {
    "slideshow": {
     "slide_type": "subslide"
    }
   },
   "source": [
    "\\begin{equation}\n",
    "  p_\\params^\\text{IBM2}(\\ssource_1 \\ldots \\ssource_{l_\\ssource},\\align_1 \\ldots \\align_{l_\\ssource}|\\starget_1 \\ldots \\starget_{l_\\starget}) = \\epsilon \\prod_i^{l_\\ssource} \\alpha(\\ssource_i|\\starget_{a_i}) \\beta(a_i|i,l_\\starget,l_\\ssource)\n",
    "\\end{equation}"
   ]
  },
  {
   "cell_type": "markdown",
   "metadata": {
    "hideCode": false,
    "slideshow": {
     "slide_type": "fragment"
    }
   },
   "source": [
    "Example:\n",
    "$$\n",
    "p_\\params^\\text{IBM2}(\\text{das, Haus},1, 2 | \\text{NULL, the, house}) = \\ldots\n",
    "$$"
   ]
  },
  {
   "cell_type": "markdown",
   "metadata": {
    "hideCode": false,
    "slideshow": {
     "slide_type": "-"
    }
   },
   "source": [
    "Answer: \n",
    "$$\n",
    "\\a(das|the) \\b(1|1,3,2) \\ldots\n",
    "$$"
   ]
  },
  {
   "cell_type": "markdown",
   "metadata": {
    "hideCode": false,
    "slideshow": {
     "slide_type": "subslide"
    }
   },
   "source": [
    "## Training IBM Model 2\n",
    "\n",
    "If we had $\\train = ((\\source_i, \\aligns_i, \\target_i))_i$ we could optimise\n",
    "\n",
    "$$\n",
    "\\sum_{(\\source, \\aligns, \\target) \\in \\train} \\log p_\\params^\\text{IBM2}(\\source,\\aligns|\\target)\n",
    "$$"
   ]
  },
  {
   "cell_type": "markdown",
   "metadata": {
    "hideCode": false,
    "slideshow": {
     "slide_type": "fragment"
    }
   },
   "source": [
    "But we have **no training alignments** "
   ]
  },
  {
   "cell_type": "markdown",
   "metadata": {
    "hideCode": false,
    "slideshow": {
     "slide_type": "subslide"
    }
   },
   "source": [
    "Instead use **sentence-aligned** data $\\train = ((\\source_i, \\target_i))_i$ \n",
    "\n",
    "and **marginal log-likelihood**"
   ]
  },
  {
   "cell_type": "markdown",
   "metadata": {
    "hideCode": false,
    "slideshow": {
     "slide_type": "fragment"
    }
   },
   "source": [
    "\n",
    "$$\n",
    "\\sum_{(\\source, \\target) \\in \\train}   \\log p_\\params^\\text{IBM2}(\\source|\\target)\n",
    "$$\n",
    "\n",
    "where\n",
    "\n",
    "$$\n",
    "p_\\params^\\text{IBM2}(\\source|\\target) = \\sum_{\\aligns}p_\\params^\\text{IBM2}(\\source,\\aligns|\\target)\n",
    "$$"
   ]
  },
  {
   "cell_type": "markdown",
   "metadata": {
    "hideCode": false,
    "slideshow": {
     "slide_type": "fragment"
    }
   },
   "source": [
    "**No closed-form** solution"
   ]
  },
  {
   "cell_type": "markdown",
   "metadata": {
    "hideCode": false,
    "slideshow": {
     "slide_type": "slide"
    }
   },
   "source": [
    "## Expectation Maximisation (EM) Algorithm\n",
    "maximises a [lower bound of marginal log-likelihood](http://localhost:8888/notebooks/chapters/em.ipynb) "
   ]
  },
  {
   "cell_type": "markdown",
   "metadata": {
    "hideCode": false,
    "slideshow": {
     "slide_type": "slide"
    }
   },
   "source": [
    "Figures out (soft) alignments by iterating:\n",
    "\n",
    "* **E-step**: Infer alignments (or their **expectations**)\n",
    "    * using current parameters\n",
    "*  **M-step**: **Maximise** training objective to estimate parameters \n",
    "    * using current alignments  "
   ]
  },
  {
   "cell_type": "markdown",
   "metadata": {
    "hideCode": false,
    "slideshow": {
     "slide_type": "fragment"
    }
   },
   "source": [
    "How is this possible **without good initial parameters**? "
   ]
  },
  {
   "cell_type": "markdown",
   "metadata": {
    "hideCode": false,
    "slideshow": {
     "slide_type": "subslide"
    }
   },
   "source": [
    "Can you find out which target words belong to which source words? \n",
    "\n",
    "Assume static word order (but possibly different in each language)  "
   ]
  },
  {
   "cell_type": "code",
   "execution_count": 102,
   "metadata": {
    "hideCode": true,
    "hidePrompt": true,
    "slideshow": {
     "slide_type": "slide"
    }
   },
   "outputs": [
    {
     "data": {
      "text/html": [
       "\n",
       "<svg id='f3bf0864-b90b-11e7-8cfc-0242ac110002' xmlns=\"http://www.w3.org/2000/svg\"\n",
       "     xmlns:xlink=\"http://www.w3.org/1999/xlink\"\n",
       "     viewBox=\"0 0 400 100\"\n",
       "     >\n",
       "\n",
       "    <text x=\"0\" y=\"20\" class=\"source\">\n",
       "        <tspan id='t0'>Bb</tspan> <tspan id='t1'>Aa</tspan> <tspan id='t2'>|</tspan> <tspan id='t3'>Aa</tspan> <tspan id='t4'>Cc</tspan> <tspan id='t5'>|</tspan> <tspan id='t6'>Qq</tspan> <tspan id='t7'>Pp</tspan>\n",
       "    </text>\n",
       "    <text x=\"0\" y=\"95\" class=\"target\">\n",
       "        <tspan id='t0'>Xx</tspan> <tspan id='t1'>Yy</tspan> <tspan id='t2'>|</tspan> <tspan id='t3'>Zz</tspan> <tspan id='t4'>Xx</tspan> <tspan id='t5'>|</tspan> <tspan id='t6'>Ss</tspan> <tspan id='t7'>Tt</tspan>\n",
       "    </text>\n",
       "    <g class='connections'></g>\n",
       "    <script>\n",
       "      $(function() {\n",
       "          root = $(document.getElementById('f3bf0864-b90b-11e7-8cfc-0242ac110002'));\n",
       "          root.find('.connections').empty();\n",
       "          alignments = [];\n",
       "          function appendLine(alignment) {\n",
       "              s1 = root.find(alignment[0])[0];\n",
       "              x1 = s1.getExtentOfChar(0).x + s1.getComputedTextLength() / 2.0;\n",
       "              y1 = s1.getExtentOfChar(0).y + s1.getExtentOfChar(0).height;\n",
       "              s2 = root.find(alignment[1])[0];\n",
       "              x2 = s2.getExtentOfChar(0).x + s2.getComputedTextLength() / 2.0;\n",
       "              y2 = s2.getExtentOfChar(0).y;\n",
       "              var newLine = document.createElementNS('http://www.w3.org/2000/svg','line');\n",
       "              var score = alignment[2];\n",
       "              newLine.setAttribute('x1',x1.toString());\n",
       "              newLine.setAttribute('y1',y1.toString());\n",
       "              newLine.setAttribute('x2',x2.toString());\n",
       "              newLine.setAttribute('y2',y2.toString());\n",
       "              newLine.setAttribute('style',\"stroke:black;stroke-width:2;stroke-opacity:\" + score + \";\");\n",
       "              root.find('.connections').append(newLine)\n",
       "          };\n",
       "          //console.log(alignments);\n",
       "          for (var i = 0; i < alignments.length; i++) {\n",
       "            appendLine(alignments[i]);\n",
       "          }\n",
       "          //console.log($(root).find('.connections'));\n",
       "      });\n",
       "    </script>\n",
       "</svg>\n"
      ],
      "text/plain": [
       "<statnlpbook.word_mt.Alignment at 0x7fe4576c13c8>"
      ]
     },
     "execution_count": 102,
     "metadata": {},
     "output_type": "execute_result"
    }
   ],
   "source": [
    "word_mt.Alignment(\"Bb Aa | Aa Cc | Qq Pp\".split(\" \"),\n",
    "                  \"Xx Yy | Zz Xx | Ss Tt\".split(\" \"),[])"
   ]
  },
  {
   "cell_type": "markdown",
   "metadata": {
    "hideCode": false,
    "slideshow": {
     "slide_type": "fragment"
    }
   },
   "source": [
    "$\\a(X|A)= 1/2 \\qquad \\a(Y|A)= 1/4 \\qquad \\a(X|B)= \\qquad \\a(Y|B)= \\qquad \\a(T|P)=$\n",
    "\n",
    "$\\b(1|1)= 1/2 \\qquad \\b(1|2)= 1/2$\n"
   ]
  },
  {
   "cell_type": "markdown",
   "metadata": {
    "hideCode": false,
    "slideshow": {
     "slide_type": "slide"
    }
   },
   "source": [
    "Formalise and implement, but for dataset with `NULL` tokens and \n",
    "\n",
    "* **non-monotonic** and **consistent alignment**\n",
    "\n",
    "such that EM will \n",
    "* first learn about word-to-word correspondences\n",
    "* and then about distortion"
   ]
  },
  {
   "cell_type": "code",
   "execution_count": 103,
   "metadata": {
    "hideCode": false,
    "slideshow": {
     "slide_type": "slide"
    }
   },
   "outputs": [],
   "source": [
    "train_model_2_raw = [\n",
    "  (\"NULL the house is small\" , \"klein ist das Haus\"),\n",
    "  (\"NULL a man is tall\" , \"groß ist ein Mann\"),\n",
    "  (\"NULL my house is small\" , \"klein ist mein Haus\"),\n",
    "  (\"NULL the building is big\" , \"groß ist das Gebäude\"),\n",
    "  (\"NULL the building is long\" , \"lang ist das Gebäude\")\n",
    "]\n",
    "train_model_2 =  [(t.split(\" \"), s.split(\" \")) for t,s in train_model_2_raw]\n",
    "# What could \"house\" translate to? "
   ]
  },
  {
   "cell_type": "code",
   "execution_count": 104,
   "metadata": {
    "hideCode": false,
    "slideshow": {
     "slide_type": "subslide"
    }
   },
   "outputs": [
    {
     "data": {
      "text/html": [
       "<table align=\"left\" style=\"font-size:x-large;\"><tr><td style='padding:5px; text-align:left'>NULL the house is small</td> <td style='padding:5px; text-align:left'>klein ist das Haus</td><tr><tr><td style='padding:5px; text-align:left'>NULL a man is tall</td> <td style='padding:5px; text-align:left'>groß ist ein Mann</td><tr><tr><td style='padding:5px; text-align:left'>NULL my house is small</td> <td style='padding:5px; text-align:left'>klein ist mein Haus</td><tr><tr><td style='padding:5px; text-align:left'>NULL the building is big</td> <td style='padding:5px; text-align:left'>groß ist das Gebäude</td><tr><tr><td style='padding:5px; text-align:left'>NULL the building is long</td> <td style='padding:5px; text-align:left'>lang ist das Gebäude</td><tr></table>"
      ],
      "text/plain": [
       "<statnlpbook.util.Table at 0x7fe4578b15c0>"
      ]
     },
     "execution_count": 104,
     "metadata": {},
     "output_type": "execute_result"
    }
   ],
   "source": [
    "util.Table(train_model_2_raw)"
   ]
  },
  {
   "cell_type": "markdown",
   "metadata": {
    "hideCode": false,
    "slideshow": {
     "slide_type": "slide"
    }
   },
   "source": [
    "### E-Step\n",
    "\n",
    "Calculate posterior distribution over alignments given source and target \n",
    "\n",
    "$$\n",
    "\\pi(\\aligns|\\source,\\target) = p_\\params^\\text{IBM2}(\\aligns|\\source,\\target)\n",
    "$$"
   ]
  },
  {
   "cell_type": "markdown",
   "metadata": {
    "hideCode": false,
    "slideshow": {
     "slide_type": "fragment"
    }
   },
   "source": [
    "Distribution **factorizes** for Model 2:\n",
    "$$\n",
    "\\pi(\\aligns|\\source,\\target) = \\prod_i^{l_{\\ssource}} \\pi(a_i|\\source,\\target,i) \n",
    "$$\n",
    "\n",
    "with\n",
    "\n",
    "$$\n",
    "\\pi(a_i|\\source,\\target,i) = \n",
    "  \\frac\n",
    "    {\\alpha(\\ssource_i|\\starget_{a_i}) \\beta(a_i|i,l_\\starget,l_\\ssource)}\n",
    "    {\\sum_j^{l_{\\starget}} \\alpha(\\ssource_i|\\starget_j) \\beta(j|i,l_\\starget,l_\\ssource) }\n",
    "$$"
   ]
  },
  {
   "cell_type": "code",
   "execution_count": 207,
   "metadata": {
    "hideCode": false,
    "hidePrompt": true,
    "slideshow": {
     "slide_type": "subslide"
    }
   },
   "outputs": [
    {
     "data": {
      "text/html": [
       "\n",
       "<svg id='08a74dce-b9a0-11e7-8cfc-0242ac110002' xmlns=\"http://www.w3.org/2000/svg\"\n",
       "     xmlns:xlink=\"http://www.w3.org/1999/xlink\"\n",
       "     viewBox=\"0 0 400 100\"\n",
       "     >\n",
       "\n",
       "    <text x=\"0\" y=\"20\" class=\"source\">\n",
       "        <tspan id='t0'>1:NULL</tspan> <tspan id='t1'>2:the</tspan> <tspan id='t2'>3:house</tspan>\n",
       "    </text>\n",
       "    <text x=\"0\" y=\"95\" class=\"target\">\n",
       "        <tspan id='t0'>1:das</tspan> <tspan id='t1'>2:Haus</tspan>\n",
       "    </text>\n",
       "    <g class='connections'></g>\n",
       "    <script>\n",
       "      $(function() {\n",
       "          root = $(document.getElementById('08a74dce-b9a0-11e7-8cfc-0242ac110002'));\n",
       "          root.find('.connections').empty();\n",
       "          alignments = [['.source #t1','.target #t0',1.0]];\n",
       "          function appendLine(alignment) {\n",
       "              s1 = root.find(alignment[0])[0];\n",
       "              x1 = s1.getExtentOfChar(0).x + s1.getComputedTextLength() / 2.0;\n",
       "              y1 = s1.getExtentOfChar(0).y + s1.getExtentOfChar(0).height;\n",
       "              s2 = root.find(alignment[1])[0];\n",
       "              x2 = s2.getExtentOfChar(0).x + s2.getComputedTextLength() / 2.0;\n",
       "              y2 = s2.getExtentOfChar(0).y;\n",
       "              var newLine = document.createElementNS('http://www.w3.org/2000/svg','line');\n",
       "              var score = alignment[2];\n",
       "              newLine.setAttribute('x1',x1.toString());\n",
       "              newLine.setAttribute('y1',y1.toString());\n",
       "              newLine.setAttribute('x2',x2.toString());\n",
       "              newLine.setAttribute('y2',y2.toString());\n",
       "              newLine.setAttribute('style',\"stroke:black;stroke-width:2;stroke-opacity:\" + score + \";\");\n",
       "              root.find('.connections').append(newLine)\n",
       "          };\n",
       "          //console.log(alignments);\n",
       "          for (var i = 0; i < alignments.length; i++) {\n",
       "            appendLine(alignments[i]);\n",
       "          }\n",
       "          //console.log($(root).find('.connections'));\n",
       "      });\n",
       "    </script>\n",
       "</svg>\n"
      ],
      "text/plain": [
       "<statnlpbook.word_mt.Alignment at 0x7fe4553a2c88>"
      ]
     },
     "execution_count": 207,
     "metadata": {},
     "output_type": "execute_result"
    }
   ],
   "source": [
    "word_mt.Alignment(\"1:NULL 2:the 3:house\".split(\" \"),\n",
    "                  \"1:das 2:Haus\".split(\" \"),[(1,0)])"
   ]
  },
  {
   "cell_type": "markdown",
   "metadata": {
    "hideCode": false,
    "slideshow": {
     "slide_type": "fragment"
    }
   },
   "source": [
    "$$\n",
    "\\pi(2|\\source,\\target,1) = \\frac{\\a(\\text{das|the}) \\b(2|1,3,2)}{\\a(\\text{das|the}) \\b(2|1,3,2) + \\a(\\text{das|NULL}) \\b(1|1,3,2) + \\ldots}\n",
    "$$"
   ]
  },
  {
   "cell_type": "markdown",
   "metadata": {
    "hideCode": false,
    "slideshow": {
     "slide_type": "subslide"
    }
   },
   "source": [
    "For a uniform initial model: "
   ]
  },
  {
   "cell_type": "code",
   "execution_count": 106,
   "metadata": {
    "slideshow": {
     "slide_type": "skip"
    }
   },
   "outputs": [],
   "source": [
    "source_vocab = set([tok for _,s in train_model_2 for tok in s])\n",
    "target_vocab = set([tok for t,_ in train_model_2 for tok in t])\n",
    "\n",
    "alpha = mt.create_translation_table(source_vocab, target_vocab) \n",
    "#  {'is':{'ist':0.5, 'das':0.5}}\n",
    "beta = mt.create_distortion_table(5) #{1:1}\n",
    "init_model = IBMModel2(alpha,beta)\n",
    "align_matrices = e_step(init_model, train_model_2)\n",
    "\n",
    "def show_alignment_for_model(sent, fixed_alpha = {}, fixed_beta = {}):\n",
    "    alpha_1 = mt.create_translation_table(source_vocab, target_vocab, fixed=fixed_alpha) \n",
    "    #  {'is':{'ist':0.5, 'das':0.5}}\n",
    "    beta_1 = mt.create_distortion_table(5) #{1:1}\n",
    "    init_model_1 = IBMModel2(alpha_1,beta_1)\n",
    "    align_matrices = e_step(init_model_1, train_model_2)\n",
    "    return word_mt.Alignment.from_matrix(align_matrices[sent], \n",
    "                              train_model_2[sent][1], \n",
    "                              train_model_2[sent][0])\n",
    "\n"
   ]
  },
  {
   "cell_type": "code",
   "execution_count": 209,
   "metadata": {
    "slideshow": {
     "slide_type": "-"
    }
   },
   "outputs": [
    {
     "data": {
      "text/html": [
       "\n",
       "<svg id='81ac279e-b9a0-11e7-8cfc-0242ac110002' xmlns=\"http://www.w3.org/2000/svg\"\n",
       "     xmlns:xlink=\"http://www.w3.org/1999/xlink\"\n",
       "     viewBox=\"0 0 400 100\"\n",
       "     >\n",
       "\n",
       "    <text x=\"0\" y=\"20\" class=\"source\">\n",
       "        <tspan id='t0'>NULL</tspan> <tspan id='t1'>the</tspan> <tspan id='t2'>building</tspan> <tspan id='t3'>is</tspan> <tspan id='t4'>big</tspan>\n",
       "    </text>\n",
       "    <text x=\"0\" y=\"95\" class=\"target\">\n",
       "        <tspan id='t0'>groß</tspan> <tspan id='t1'>ist</tspan> <tspan id='t2'>das</tspan> <tspan id='t3'>Gebäude</tspan>\n",
       "    </text>\n",
       "    <g class='connections'></g>\n",
       "    <script>\n",
       "      $(function() {\n",
       "          root = $(document.getElementById('81ac279e-b9a0-11e7-8cfc-0242ac110002'));\n",
       "          root.find('.connections').empty();\n",
       "          alignments = [['.source #t0','.target #t0',0.25],['.source #t1','.target #t0',0.25],['.source #t2','.target #t0',0.25],['.source #t3','.target #t0',0.0],['.source #t4','.target #t0',0.25],['.source #t0','.target #t1',0.1111111111111111],['.source #t1','.target #t1',0.1111111111111111],['.source #t2','.target #t1',0.1111111111111111],['.source #t3','.target #t1',0.5555555555555555],['.source #t4','.target #t1',0.1111111111111111],['.source #t0','.target #t2',0.25],['.source #t1','.target #t2',0.25],['.source #t2','.target #t2',0.25],['.source #t3','.target #t2',0.0],['.source #t4','.target #t2',0.25],['.source #t0','.target #t3',0.25],['.source #t1','.target #t3',0.25],['.source #t2','.target #t3',0.25],['.source #t3','.target #t3',0.0],['.source #t4','.target #t3',0.25]];\n",
       "          function appendLine(alignment) {\n",
       "              s1 = root.find(alignment[0])[0];\n",
       "              x1 = s1.getExtentOfChar(0).x + s1.getComputedTextLength() / 2.0;\n",
       "              y1 = s1.getExtentOfChar(0).y + s1.getExtentOfChar(0).height;\n",
       "              s2 = root.find(alignment[1])[0];\n",
       "              x2 = s2.getExtentOfChar(0).x + s2.getComputedTextLength() / 2.0;\n",
       "              y2 = s2.getExtentOfChar(0).y;\n",
       "              var newLine = document.createElementNS('http://www.w3.org/2000/svg','line');\n",
       "              var score = alignment[2];\n",
       "              newLine.setAttribute('x1',x1.toString());\n",
       "              newLine.setAttribute('y1',y1.toString());\n",
       "              newLine.setAttribute('x2',x2.toString());\n",
       "              newLine.setAttribute('y2',y2.toString());\n",
       "              newLine.setAttribute('style',\"stroke:black;stroke-width:2;stroke-opacity:\" + score + \";\");\n",
       "              root.find('.connections').append(newLine)\n",
       "          };\n",
       "          //console.log(alignments);\n",
       "          for (var i = 0; i < alignments.length; i++) {\n",
       "            appendLine(alignments[i]);\n",
       "          }\n",
       "          //console.log($(root).find('.connections'));\n",
       "      });\n",
       "    </script>\n",
       "</svg>\n"
      ],
      "text/plain": [
       "<statnlpbook.word_mt.Alignment at 0x7fe4553a2a58>"
      ]
     },
     "execution_count": 209,
     "metadata": {},
     "output_type": "execute_result"
    }
   ],
   "source": [
    "# try  {'is':{'ist':0.5, 'Haus':0.5}}\n",
    "show_alignment_for_model(3,{'is':{'ist':0.5, 'Haus':0.5}})"
   ]
  },
  {
   "cell_type": "markdown",
   "metadata": {
    "slideshow": {
     "slide_type": "slide"
    }
   },
   "source": [
    "### M-Step\n",
    "\n",
    "The M-Step optimizes a *weighted* or *expected* version of log-likelihood using distribution \\\\(\\pi\\\\) from last E-Step:\n",
    "\n",
    "$$\n",
    "  \\params^* = \\argmax_\\params \\sum_{(\\target,\\source) \\in \\train} \\sum_\\aligns \\pi(\\aligns|\\target,\\source) \\log \\prob _\\params^\\text{IBM2}(\\source,\\aligns|\\target)\n",
    "$$"
   ]
  },
  {
   "cell_type": "markdown",
   "metadata": {
    "slideshow": {
     "slide_type": "subslide"
    }
   },
   "source": [
    "Because \\\\(\\pi\\\\) factorizes we have a closed-form solution:\n",
    "\n",
    "$$\n",
    "  \\alpha(\\ssource|\\starget) = \\frac\n",
    "    {\\sum_{(\\target,\\source)}\\sum_i^{l_\\source} \\sum_j^{l_\\target} \\pi(j|i) \\delta(\\ssource,\\ssource_i) \\delta(\\starget,\\starget_j) }\n",
    "    {\\sum_{(\\target,\\source)} \\sum_j^{l_\\target} \\delta(\\starget,\\starget_j) }\n",
    "$$\n",
    "\n",
    "\\\\(\\delta(x,y)\\\\) is 1 if \\\\(x=y\\\\) and 0 otherwise\n",
    "\n",
    "$\\beta$ parameters estimated similarly ..."
   ]
  },
  {
   "cell_type": "code",
   "execution_count": 193,
   "metadata": {
    "hideCode": false,
    "hidePrompt": true,
    "slideshow": {
     "slide_type": "subslide"
    }
   },
   "outputs": [
    {
     "data": {
      "text/html": [
       "\n",
       "<svg id='ff6c4838-b998-11e7-8cfc-0242ac110002' xmlns=\"http://www.w3.org/2000/svg\"\n",
       "     xmlns:xlink=\"http://www.w3.org/1999/xlink\"\n",
       "     viewBox=\"0 0 400 100\"\n",
       "     >\n",
       "\n",
       "    <text x=\"0\" y=\"20\" class=\"source\">\n",
       "        <tspan id='t0'>NULL</tspan> <tspan id='t1'>the</tspan> <tspan id='t2'>house</tspan> <tspan id='t3'>is</tspan> <tspan id='t4'>small</tspan>\n",
       "    </text>\n",
       "    <text x=\"0\" y=\"95\" class=\"target\">\n",
       "        <tspan id='t0'>klein</tspan> <tspan id='t1'>ist</tspan> <tspan id='t2'>das</tspan> <tspan id='t3'>Haus</tspan>\n",
       "    </text>\n",
       "    <g class='connections'></g>\n",
       "    <script>\n",
       "      $(function() {\n",
       "          root = $(document.getElementById('ff6c4838-b998-11e7-8cfc-0242ac110002'));\n",
       "          root.find('.connections').empty();\n",
       "          alignments = [['.source #t0','.target #t0',0.2],['.source #t1','.target #t0',0.2],['.source #t2','.target #t0',0.2],['.source #t3','.target #t0',0.2],['.source #t4','.target #t0',0.2],['.source #t0','.target #t1',0.2],['.source #t1','.target #t1',0.2],['.source #t2','.target #t1',0.2],['.source #t3','.target #t1',0.2],['.source #t4','.target #t1',0.2],['.source #t0','.target #t2',0.2],['.source #t1','.target #t2',0.2],['.source #t2','.target #t2',0.2],['.source #t3','.target #t2',0.2],['.source #t4','.target #t2',0.2],['.source #t0','.target #t3',0.2],['.source #t1','.target #t3',0.2],['.source #t2','.target #t3',0.2],['.source #t3','.target #t3',0.2],['.source #t4','.target #t3',0.2]];\n",
       "          function appendLine(alignment) {\n",
       "              s1 = root.find(alignment[0])[0];\n",
       "              x1 = s1.getExtentOfChar(0).x + s1.getComputedTextLength() / 2.0;\n",
       "              y1 = s1.getExtentOfChar(0).y + s1.getExtentOfChar(0).height;\n",
       "              s2 = root.find(alignment[1])[0];\n",
       "              x2 = s2.getExtentOfChar(0).x + s2.getComputedTextLength() / 2.0;\n",
       "              y2 = s2.getExtentOfChar(0).y;\n",
       "              var newLine = document.createElementNS('http://www.w3.org/2000/svg','line');\n",
       "              var score = alignment[2];\n",
       "              newLine.setAttribute('x1',x1.toString());\n",
       "              newLine.setAttribute('y1',y1.toString());\n",
       "              newLine.setAttribute('x2',x2.toString());\n",
       "              newLine.setAttribute('y2',y2.toString());\n",
       "              newLine.setAttribute('style',\"stroke:black;stroke-width:2;stroke-opacity:\" + score + \";\");\n",
       "              root.find('.connections').append(newLine)\n",
       "          };\n",
       "          //console.log(alignments);\n",
       "          for (var i = 0; i < alignments.length; i++) {\n",
       "            appendLine(alignments[i]);\n",
       "          }\n",
       "          //console.log($(root).find('.connections'));\n",
       "      });\n",
       "    </script>\n",
       "</svg>\n"
      ],
      "text/plain": [
       "<statnlpbook.word_mt.Alignment at 0x7fe4576c1160>"
      ]
     },
     "execution_count": 193,
     "metadata": {},
     "output_type": "execute_result"
    }
   ],
   "source": [
    "show_alignment_for_model(0)"
   ]
  },
  {
   "cell_type": "markdown",
   "metadata": {
    "slideshow": {
     "slide_type": "subslide"
    }
   },
   "source": [
    "$$\n",
    "  \\alpha(\\text{das|the}) = \\frac\n",
    "    {\\sum_{(\\target,\\source)}\\sum_i^{l_\\source} \\sum_j^{l_\\target} \\pi(j|i) \\delta(\\text{das},\\ssource_i) \\delta(\\text{the},\\starget_j) }\n",
    "    {\\sum_{(\\target,\\source)} \\sum_j^{l_\\target} \\delta(\\text{the},\\starget_j) } \\\\ = \\frac{0.2 * 0 * 0 + \\ldots + 0.2 * 1 * 1 + \\ldots}{0 + 1 + 0 + 0 + 0} = \\frac{0.2}{1}\n",
    "$$\n"
   ]
  },
  {
   "cell_type": "markdown",
   "metadata": {
    "slideshow": {
     "slide_type": "subslide"
    }
   },
   "source": [
    "Implement M-Step, estimating parameters \\\\(\\params\\\\) from (soft) alignments \\\\(\\aligns\\\\)"
   ]
  },
  {
   "cell_type": "code",
   "execution_count": 109,
   "metadata": {
    "hideCode": false,
    "slideshow": {
     "slide_type": "skip"
    }
   },
   "outputs": [],
   "source": [
    "theta1 = m_step(align_matrices, train_model_2)    \n",
    "def show_initial_alpha(target):\n",
    "    plot_table_for_target(theta1.alpha, target) "
   ]
  },
  {
   "cell_type": "code",
   "execution_count": 210,
   "metadata": {
    "hideCode": false,
    "slideshow": {
     "slide_type": "-"
    }
   },
   "outputs": [
    {
     "data": {
      "image/png": "[encoded data removed]",
      "text/plain": [
       "<matplotlib.figure.Figure at 0x7fe45539d588>"
      ]
     },
     "metadata": {
      "filenames": {
       "image/png": "/Users/knf792/gits/nlp-course/nlp-book/_build/jupyter_execute/stat-nlp-book/chapters/word_mt_slides_orig_119_0.png"
      }
     },
     "output_type": "display_data"
    }
   ],
   "source": [
    "show_initial_alpha(\"is\") "
   ]
  },
  {
   "cell_type": "code",
   "execution_count": 111,
   "metadata": {
    "slideshow": {
     "slide_type": "skip"
    }
   },
   "outputs": [],
   "source": [
    "align_matrices = e_step(theta1, train_model_2)\n",
    "def show_initial_alignment(sent):\n",
    "    return word_mt.Alignment.from_matrix(align_matrices[sent], \n",
    "                                  train_model_2[sent][1], \n",
    "                                  train_model_2[sent][0])    "
   ]
  },
  {
   "cell_type": "markdown",
   "metadata": {
    "hideCode": false,
    "slideshow": {
     "slide_type": "subslide"
    }
   },
   "source": [
    "How do alignments look like with these parameters?"
   ]
  },
  {
   "cell_type": "code",
   "execution_count": 211,
   "metadata": {
    "hideCode": false,
    "scrolled": true,
    "slideshow": {
     "slide_type": "-"
    }
   },
   "outputs": [
    {
     "data": {
      "text/html": [
       "\n",
       "<svg id='2bd297d4-b9a2-11e7-8cfc-0242ac110002' xmlns=\"http://www.w3.org/2000/svg\"\n",
       "     xmlns:xlink=\"http://www.w3.org/1999/xlink\"\n",
       "     viewBox=\"0 0 400 100\"\n",
       "     >\n",
       "\n",
       "    <text x=\"0\" y=\"20\" class=\"source\">\n",
       "        <tspan id='t0'>NULL</tspan> <tspan id='t1'>the</tspan> <tspan id='t2'>house</tspan> <tspan id='t3'>is</tspan> <tspan id='t4'>small</tspan>\n",
       "    </text>\n",
       "    <text x=\"0\" y=\"95\" class=\"target\">\n",
       "        <tspan id='t0'>klein</tspan> <tspan id='t1'>ist</tspan> <tspan id='t2'>das</tspan> <tspan id='t3'>Haus</tspan>\n",
       "    </text>\n",
       "    <g class='connections'></g>\n",
       "    <script>\n",
       "      $(function() {\n",
       "          root = $(document.getElementById('2bd297d4-b9a2-11e7-8cfc-0242ac110002'));\n",
       "          root.find('.connections').empty();\n",
       "          alignments = [['.source #t0','.target #t0',0.12765957446808507],['.source #t1','.target #t0',0.10638297872340426],['.source #t2','.target #t0',0.31914893617021284],['.source #t3','.target #t0',0.12765957446808507],['.source #t4','.target #t0',0.31914893617021284],['.source #t0','.target #t1',0.19999999999999993],['.source #t1','.target #t1',0.20000000000000004],['.source #t2','.target #t1',0.20000000000000004],['.source #t3','.target #t1',0.19999999999999993],['.source #t4','.target #t1',0.20000000000000004],['.source #t0','.target #t2',0.18749999999999994],['.source #t1','.target #t2',0.3125],['.source #t2','.target #t2',0.15625],['.source #t3','.target #t2',0.18749999999999994],['.source #t4','.target #t2',0.15625],['.source #t0','.target #t3',0.12765957446808507],['.source #t1','.target #t3',0.10638297872340426],['.source #t2','.target #t3',0.31914893617021284],['.source #t3','.target #t3',0.12765957446808507],['.source #t4','.target #t3',0.31914893617021284]];\n",
       "          function appendLine(alignment) {\n",
       "              s1 = root.find(alignment[0])[0];\n",
       "              x1 = s1.getExtentOfChar(0).x + s1.getComputedTextLength() / 2.0;\n",
       "              y1 = s1.getExtentOfChar(0).y + s1.getExtentOfChar(0).height;\n",
       "              s2 = root.find(alignment[1])[0];\n",
       "              x2 = s2.getExtentOfChar(0).x + s2.getComputedTextLength() / 2.0;\n",
       "              y2 = s2.getExtentOfChar(0).y;\n",
       "              var newLine = document.createElementNS('http://www.w3.org/2000/svg','line');\n",
       "              var score = alignment[2];\n",
       "              newLine.setAttribute('x1',x1.toString());\n",
       "              newLine.setAttribute('y1',y1.toString());\n",
       "              newLine.setAttribute('x2',x2.toString());\n",
       "              newLine.setAttribute('y2',y2.toString());\n",
       "              newLine.setAttribute('style',\"stroke:black;stroke-width:2;stroke-opacity:\" + score + \";\");\n",
       "              root.find('.connections').append(newLine)\n",
       "          };\n",
       "          //console.log(alignments);\n",
       "          for (var i = 0; i < alignments.length; i++) {\n",
       "            appendLine(alignments[i]);\n",
       "          }\n",
       "          //console.log($(root).find('.connections'));\n",
       "      });\n",
       "    </script>\n",
       "</svg>\n"
      ],
      "text/plain": [
       "<statnlpbook.word_mt.Alignment at 0x7fe45513bc18>"
      ]
     },
     "execution_count": 211,
     "metadata": {},
     "output_type": "execute_result"
    }
   ],
   "source": [
    "show_initial_alignment(0)"
   ]
  },
  {
   "cell_type": "markdown",
   "metadata": {
    "slideshow": {
     "slide_type": "subslide"
    }
   },
   "source": [
    "### Initialisation\n",
    "Good initialisation is **crucial for EM**"
   ]
  },
  {
   "cell_type": "markdown",
   "metadata": {
    "slideshow": {
     "slide_type": "subslide"
    }
   },
   "source": [
    "### Baby Steps\n",
    "Initialise with the parameters of a simpler model with **fixed distortion** table:\n",
    "\n",
    "$$\n",
    "  \\beta(a_i|i,l_\\starget,l_\\ssource) = \\frac{1}{l_\\starget + 1}\n",
    "$$\n",
    "\n",
    "This is **IBM Model 1**!"
   ]
  },
  {
   "cell_type": "markdown",
   "metadata": {
    "slideshow": {
     "slide_type": "subslide"
    }
   },
   "source": [
    "Train IBM Model 1 and see if it **converges**"
   ]
  },
  {
   "cell_type": "code",
   "execution_count": 137,
   "metadata": {
    "scrolled": false,
    "slideshow": {
     "slide_type": "skip"
    }
   },
   "outputs": [],
   "source": [
    "ibm1_iterations = em_model1(init_model, train_model_2, 100)\n",
    "def plot_ibm1_change(end):\n",
    "    plt.plot(range(0,end), [change for _, _, change in ibm1_iterations[:end]])"
   ]
  },
  {
   "cell_type": "code",
   "execution_count": 135,
   "metadata": {
    "scrolled": false,
    "slideshow": {
     "slide_type": "fragment"
    }
   },
   "outputs": [
    {
     "data": {
      "image/png": "[encoded data removed]",
      "text/plain": [
       "<matplotlib.figure.Figure at 0x7fe4551d4fd0>"
      ]
     },
     "metadata": {
      "filenames": {
       "image/png": "/Users/knf792/gits/nlp-course/nlp-book/_build/jupyter_execute/stat-nlp-book/chapters/word_mt_slides_orig_127_0.png"
      }
     },
     "output_type": "display_data"
    }
   ],
   "source": [
    "plot_ibm1_change(100)"
   ]
  },
  {
   "cell_type": "markdown",
   "metadata": {
    "slideshow": {
     "slide_type": "subslide"
    }
   },
   "source": [
    "Translation Table?"
   ]
  },
  {
   "cell_type": "code",
   "execution_count": 115,
   "metadata": {
    "scrolled": false,
    "slideshow": {
     "slide_type": "skip"
    }
   },
   "outputs": [],
   "source": [
    "def show_ibm1_alpha(target):\n",
    "    plot_table_for_target(ibm1_iterations[-1][1].alpha, target)"
   ]
  },
  {
   "cell_type": "code",
   "execution_count": 212,
   "metadata": {
    "scrolled": false,
    "slideshow": {
     "slide_type": "fragment"
    }
   },
   "outputs": [
    {
     "data": {
      "image/png": "[encoded data removed]",
      "text/plain": [
       "<matplotlib.figure.Figure at 0x7fe4550ebfd0>"
      ]
     },
     "metadata": {
      "filenames": {
       "image/png": "/Users/knf792/gits/nlp-course/nlp-book/_build/jupyter_execute/stat-nlp-book/chapters/word_mt_slides_orig_130_0.png"
      }
     },
     "output_type": "display_data"
    }
   ],
   "source": [
    "show_ibm1_alpha(\"house\")"
   ]
  },
  {
   "cell_type": "markdown",
   "metadata": {
    "slideshow": {
     "slide_type": "subslide"
    }
   },
   "source": [
    "Alignments?"
   ]
  },
  {
   "cell_type": "code",
   "execution_count": 117,
   "metadata": {
    "slideshow": {
     "slide_type": "skip"
    }
   },
   "outputs": [],
   "source": [
    "def show_ibm1_alignments(sent):\n",
    "    return word_mt.Alignment.from_matrix(ibm1_iterations[-1][0][sent],train_model_2[sent][1], train_model_2[sent][0])"
   ]
  },
  {
   "cell_type": "code",
   "execution_count": 216,
   "metadata": {
    "slideshow": {
     "slide_type": "fragment"
    }
   },
   "outputs": [
    {
     "data": {
      "text/html": [
       "\n",
       "<svg id='42399508-b9a3-11e7-8cfc-0242ac110002' xmlns=\"http://www.w3.org/2000/svg\"\n",
       "     xmlns:xlink=\"http://www.w3.org/1999/xlink\"\n",
       "     viewBox=\"0 0 400 100\"\n",
       "     >\n",
       "\n",
       "    <text x=\"0\" y=\"20\" class=\"source\">\n",
       "        <tspan id='t0'>NULL</tspan> <tspan id='t1'>the</tspan> <tspan id='t2'>house</tspan> <tspan id='t3'>is</tspan> <tspan id='t4'>small</tspan>\n",
       "    </text>\n",
       "    <text x=\"0\" y=\"95\" class=\"target\">\n",
       "        <tspan id='t0'>klein</tspan> <tspan id='t1'>ist</tspan> <tspan id='t2'>das</tspan> <tspan id='t3'>Haus</tspan>\n",
       "    </text>\n",
       "    <g class='connections'></g>\n",
       "    <script>\n",
       "      $(function() {\n",
       "          root = $(document.getElementById('42399508-b9a3-11e7-8cfc-0242ac110002'));\n",
       "          root.find('.connections').empty();\n",
       "          alignments = [['.source #t0','.target #t0',2.6280259695372476e-14],['.source #t1','.target #t0',1.863439198452529e-42],['.source #t2','.target #t0',0.4999999999999737],['.source #t3','.target #t0',2.6280259695372476e-14],['.source #t4','.target #t0',0.4999999999999737],['.source #t0','.target #t1',0.5],['.source #t1','.target #t1',6.940522787929912e-22],['.source #t2','.target #t1',3.88664621703916e-27],['.source #t3','.target #t1',0.5],['.source #t4','.target #t1',3.88664621703916e-27],['.source #t0','.target #t2',0.055552866879861405],['.source #t1','.target #t2',0.8888942662402771],['.source #t2','.target #t2',4.152175776717941e-35],['.source #t3','.target #t2',0.055552866879861405],['.source #t4','.target #t2',4.152175776717941e-35],['.source #t0','.target #t3',2.6280259695372476e-14],['.source #t1','.target #t3',1.863439198452529e-42],['.source #t2','.target #t3',0.4999999999999737],['.source #t3','.target #t3',2.6280259695372476e-14],['.source #t4','.target #t3',0.4999999999999737]];\n",
       "          function appendLine(alignment) {\n",
       "              s1 = root.find(alignment[0])[0];\n",
       "              x1 = s1.getExtentOfChar(0).x + s1.getComputedTextLength() / 2.0;\n",
       "              y1 = s1.getExtentOfChar(0).y + s1.getExtentOfChar(0).height;\n",
       "              s2 = root.find(alignment[1])[0];\n",
       "              x2 = s2.getExtentOfChar(0).x + s2.getComputedTextLength() / 2.0;\n",
       "              y2 = s2.getExtentOfChar(0).y;\n",
       "              var newLine = document.createElementNS('http://www.w3.org/2000/svg','line');\n",
       "              var score = alignment[2];\n",
       "              newLine.setAttribute('x1',x1.toString());\n",
       "              newLine.setAttribute('y1',y1.toString());\n",
       "              newLine.setAttribute('x2',x2.toString());\n",
       "              newLine.setAttribute('y2',y2.toString());\n",
       "              newLine.setAttribute('style',\"stroke:black;stroke-width:2;stroke-opacity:\" + score + \";\");\n",
       "              root.find('.connections').append(newLine)\n",
       "          };\n",
       "          //console.log(alignments);\n",
       "          for (var i = 0; i < alignments.length; i++) {\n",
       "            appendLine(alignments[i]);\n",
       "          }\n",
       "          //console.log($(root).find('.connections'));\n",
       "      });\n",
       "    </script>\n",
       "</svg>\n"
      ],
      "text/plain": [
       "<statnlpbook.word_mt.Alignment at 0x7fe455364860>"
      ]
     },
     "execution_count": 216,
     "metadata": {},
     "output_type": "execute_result"
    }
   ],
   "source": [
    "show_ibm1_alignments(0)"
   ]
  },
  {
   "cell_type": "markdown",
   "metadata": {
    "slideshow": {
     "slide_type": "subslide"
    }
   },
   "source": [
    "Distortions?"
   ]
  },
  {
   "cell_type": "code",
   "execution_count": 119,
   "metadata": {
    "slideshow": {
     "slide_type": "skip"
    }
   },
   "outputs": [],
   "source": [
    "def show_ibm1_distortions(si):\n",
    "    util.plot_bar_graph([ibm1.beta[ti,si,5,4] for ti in range(0,5)],\n",
    "                        range(0,5)) # change source index != 0"
   ]
  },
  {
   "cell_type": "code",
   "execution_count": 143,
   "metadata": {
    "slideshow": {
     "slide_type": "fragment"
    }
   },
   "outputs": [
    {
     "data": {
      "image/png": "[encoded data removed]",
      "text/plain": [
       "<matplotlib.figure.Figure at 0x7fe455445cf8>"
      ]
     },
     "metadata": {
      "filenames": {
       "image/png": "/Users/knf792/gits/nlp-course/nlp-book/_build/jupyter_execute/stat-nlp-book/chapters/word_mt_slides_orig_136_0.png"
      }
     },
     "output_type": "display_data"
    }
   ],
   "source": [
    "show_ibm1_distortions(0)"
   ]
  },
  {
   "cell_type": "markdown",
   "metadata": {
    "slideshow": {
     "slide_type": "subslide"
    }
   },
   "source": [
    "Now learn **distortion table** in Model 2"
   ]
  },
  {
   "cell_type": "code",
   "execution_count": 121,
   "metadata": {
    "slideshow": {
     "slide_type": "skip"
    }
   },
   "outputs": [],
   "source": [
    "ibm1 = ibm1_iterations[-1][1] # model 1 of last iteration \n",
    "\n",
    "def show_ibm2_alpha(num_iterations, target):\n",
    "    ibm2_iterations = em_model2(ibm1, train_model_2, num_iterations)\n",
    "    ibm2 = ibm2_iterations[-1][1] # model 2 of last iteration\n",
    "    plot_table_for_target(ibm2.alpha, target)\n",
    "    \n",
    "def show_ibm2_alignments(num_iterations, sent):\n",
    "    ibm2_iterations = em_model2(ibm1, train_model_2, num_iterations)\n",
    "    ibm2 = ibm2_iterations[-1][1] # model 2 of last iteration\n",
    "    return word_mt.Alignment.from_matrix(ibm2_iterations[-1][0][sent],train_model_2[sent][1], train_model_2[sent][0])\n",
    "\n",
    "def show_ibm2_distortions(num_iterations, si):\n",
    "    ibm2_iterations = em_model2(ibm1, train_model_2, num_iterations)\n",
    "    ibm2 = ibm2_iterations[-1][1] # model 2 of last iteration\n",
    "    util.plot_bar_graph([ibm2.beta[ti,si,5,4] for ti in range(0,5)],\n",
    "                    range(0,5)) # change source index != 0"
   ]
  },
  {
   "cell_type": "code",
   "execution_count": 221,
   "metadata": {
    "scrolled": true,
    "slideshow": {
     "slide_type": "fragment"
    }
   },
   "outputs": [
    {
     "data": {
      "image/png": "[encoded data removed]",
      "text/plain": [
       "<matplotlib.figure.Figure at 0x7fe45549fe80>"
      ]
     },
     "metadata": {
      "filenames": {
       "image/png": "/Users/knf792/gits/nlp-course/nlp-book/_build/jupyter_execute/stat-nlp-book/chapters/word_mt_slides_orig_139_0.png"
      }
     },
     "output_type": "display_data"
    }
   ],
   "source": [
    "show_ibm2_distortions(10,0)"
   ]
  },
  {
   "cell_type": "markdown",
   "metadata": {
    "slideshow": {
     "slide_type": "subslide"
    }
   },
   "source": [
    "Alignments? "
   ]
  },
  {
   "cell_type": "code",
   "execution_count": 222,
   "metadata": {
    "slideshow": {
     "slide_type": "fragment"
    }
   },
   "outputs": [
    {
     "data": {
      "text/html": [
       "\n",
       "<svg id='9e145192-b9a3-11e7-8cfc-0242ac110002' xmlns=\"http://www.w3.org/2000/svg\"\n",
       "     xmlns:xlink=\"http://www.w3.org/1999/xlink\"\n",
       "     viewBox=\"0 0 400 100\"\n",
       "     >\n",
       "\n",
       "    <text x=\"0\" y=\"20\" class=\"source\">\n",
       "        <tspan id='t0'>NULL</tspan> <tspan id='t1'>the</tspan> <tspan id='t2'>house</tspan> <tspan id='t3'>is</tspan> <tspan id='t4'>small</tspan>\n",
       "    </text>\n",
       "    <text x=\"0\" y=\"95\" class=\"target\">\n",
       "        <tspan id='t0'>klein</tspan> <tspan id='t1'>ist</tspan> <tspan id='t2'>das</tspan> <tspan id='t3'>Haus</tspan>\n",
       "    </text>\n",
       "    <g class='connections'></g>\n",
       "    <script>\n",
       "      $(function() {\n",
       "          root = $(document.getElementById('9e145192-b9a3-11e7-8cfc-0242ac110002'));\n",
       "          root.find('.connections').empty();\n",
       "          alignments = [['.source #t0','.target #t0',0.0],['.source #t1','.target #t0',0.0],['.source #t2','.target #t0',1.0728382442222892e-168],['.source #t3','.target #t0',0.0],['.source #t4','.target #t0',1.0],['.source #t0','.target #t1',0.5],['.source #t1','.target #t1',0.0],['.source #t2','.target #t1',0.0],['.source #t3','.target #t1',0.5],['.source #t4','.target #t1',0.0],['.source #t0','.target #t2',0.0],['.source #t1','.target #t2',1.0],['.source #t2','.target #t2',0.0],['.source #t3','.target #t2',0.0],['.source #t4','.target #t2',0.0],['.source #t0','.target #t3',0.0],['.source #t1','.target #t3',0.0],['.source #t2','.target #t3',1.0],['.source #t3','.target #t3',0.0],['.source #t4','.target #t3',1.4432122651435016e-167]];\n",
       "          function appendLine(alignment) {\n",
       "              s1 = root.find(alignment[0])[0];\n",
       "              x1 = s1.getExtentOfChar(0).x + s1.getComputedTextLength() / 2.0;\n",
       "              y1 = s1.getExtentOfChar(0).y + s1.getExtentOfChar(0).height;\n",
       "              s2 = root.find(alignment[1])[0];\n",
       "              x2 = s2.getExtentOfChar(0).x + s2.getComputedTextLength() / 2.0;\n",
       "              y2 = s2.getExtentOfChar(0).y;\n",
       "              var newLine = document.createElementNS('http://www.w3.org/2000/svg','line');\n",
       "              var score = alignment[2];\n",
       "              newLine.setAttribute('x1',x1.toString());\n",
       "              newLine.setAttribute('y1',y1.toString());\n",
       "              newLine.setAttribute('x2',x2.toString());\n",
       "              newLine.setAttribute('y2',y2.toString());\n",
       "              newLine.setAttribute('style',\"stroke:black;stroke-width:2;stroke-opacity:\" + score + \";\");\n",
       "              root.find('.connections').append(newLine)\n",
       "          };\n",
       "          //console.log(alignments);\n",
       "          for (var i = 0; i < alignments.length; i++) {\n",
       "            appendLine(alignments[i]);\n",
       "          }\n",
       "          //console.log($(root).find('.connections'));\n",
       "      });\n",
       "    </script>\n",
       "</svg>\n"
      ],
      "text/plain": [
       "<statnlpbook.word_mt.Alignment at 0x7fe455576470>"
      ]
     },
     "execution_count": 222,
     "metadata": {},
     "output_type": "execute_result"
    }
   ],
   "source": [
    "show_ibm2_alignments(10, 0)"
   ]
  },
  {
   "cell_type": "markdown",
   "metadata": {
    "slideshow": {
     "slide_type": "subslide"
    }
   },
   "source": [
    "Translation Table? "
   ]
  },
  {
   "cell_type": "code",
   "execution_count": 124,
   "metadata": {
    "slideshow": {
     "slide_type": "fragment"
    }
   },
   "outputs": [
    {
     "data": {
      "image/png": "[encoded data removed]",
      "text/plain": [
       "<matplotlib.figure.Figure at 0x7fe45553e7b8>"
      ]
     },
     "metadata": {
      "filenames": {
       "image/png": "/Users/knf792/gits/nlp-course/nlp-book/_build/jupyter_execute/stat-nlp-book/chapters/word_mt_slides_orig_143_0.png"
      }
     },
     "output_type": "display_data"
    }
   ],
   "source": [
    "show_ibm2_alpha(4, \"house\")"
   ]
  },
  {
   "cell_type": "markdown",
   "metadata": {
    "slideshow": {
     "slide_type": "slide"
    }
   },
   "source": [
    "## Decoding with Model 2\n",
    "\n",
    "Ideally **marginalise out alignments**\n",
    "\n",
    "$$\n",
    "\\argmax_{\\target} p_\\params^\\text{IBM2}(\\source|\\target) \\prob^\\text{LM}(\\target)\n",
    "$$\n",
    "\n",
    "with \n",
    "$$\n",
    "  p_\\params^\\text{IBM2}(\\source|\\target) =  \\sum_{\\aligns}  p_\\params^\\text{IBM2}(\\source,\\aligns|\\target) \n",
    "$$\n"
   ]
  },
  {
   "cell_type": "markdown",
   "metadata": {
    "hideCode": false,
    "slideshow": {
     "slide_type": "subslide"
    }
   },
   "source": [
    "Computationally **very expensive**, instead find both optimal alignment and translation:\n",
    "\n",
    "$$\n",
    "\\argmax_{\\target,\\aligns} p_\\params^\\text{IBM2}(\\source,\\aligns|\\target) \\prob^\\text{LM}(\\target)\n",
    "$$\n"
   ]
  },
  {
   "cell_type": "markdown",
   "metadata": {
    "slideshow": {
     "slide_type": "subslide"
    }
   },
   "source": [
    "Choices:\n",
    "\n",
    "* Simple **approximate** method\n",
    "* Complex **exact** method\n",
    "\n",
    "Both presentend in [these slides](https://www.dropbox.com/s/p495n19h5rtk3uf/IBM-decoding.pdf?dl=0)"
   ]
  },
  {
   "cell_type": "markdown",
   "metadata": {
    "slideshow": {
     "slide_type": "slide"
    }
   },
   "source": [
    "### Beam Based Decoder\n",
    "* In each step chooses **best next source word to translate**\n",
    "* **Append a target word** based on source word\n",
    "* Maintains a list of top-$k$ hypotheses in a **beam**"
   ]
  },
  {
   "cell_type": "code",
   "execution_count": 125,
   "metadata": {
    "slideshow": {
     "slide_type": "skip"
    }
   },
   "outputs": [],
   "source": [
    "uni_lm = UniformLM({w for w in target_vocab if w != 'NULL'})"
   ]
  },
  {
   "cell_type": "code",
   "execution_count": 126,
   "metadata": {
    "slideshow": {
     "slide_type": "skip"
    }
   },
   "outputs": [],
   "source": [
    "def show_decode_history(begin, end, beam=4, lm=uni_lm, num_iterations=3):\n",
    "    ibm2_iterations = em_model2(ibm1, train_model_2, num_iterations)\n",
    "    ibm2 = ibm2_iterations[-1][1] # model 2 of last iteration\n",
    "    hist2 = decode_model_2(ibm2, lm, source, beam)\n",
    "    return mt.render_history(hist2[begin:end])"
   ]
  },
  {
   "cell_type": "code",
   "execution_count": 230,
   "metadata": {
    "slideshow": {
     "slide_type": "subslide"
    }
   },
   "outputs": [
    {
     "data": {
      "text/html": [
       "<table align=\"left\" style=\"font-size:x-large;\"><tr><th>Target</th><th>Remaining</th><th>Len</th><th>Score</th></tr><tr><td style='padding:5px; text-align:left'>NULL</td> <td style='padding:5px; text-align:left'>groß ist ein Mann</td> <td style='padding:5px; text-align:left'>4</td> <td style='padding:5px; text-align:left'>0.00</td><tr><tr><td style='padding:5px; text-align:left'>NULL man</td> <td style='padding:5px; text-align:left'>groß ist _ Mann</td> <td style='padding:5px; text-align:left'>3</td> <td style='padding:5px; text-align:left'>-9.20</td><tr><tr><td style='padding:5px; text-align:left'>NULL a</td> <td style='padding:5px; text-align:left'>groß ist _ Mann</td> <td style='padding:5px; text-align:left'>3</td> <td style='padding:5px; text-align:left'>-2.49</td><tr><tr><td style='padding:5px; text-align:left'>NULL a tall</td> <td style='padding:5px; text-align:left'>groß ist _ _</td> <td style='padding:5px; text-align:left'>2</td> <td style='padding:5px; text-align:left'>-8.19</td><tr><tr><td style='padding:5px; text-align:left'>NULL a man</td> <td style='padding:5px; text-align:left'>groß ist _ _</td> <td style='padding:5px; text-align:left'>2</td> <td style='padding:5px; text-align:left'>-3.31</td><tr><tr><td style='padding:5px; text-align:left'>NULL a man NULL</td> <td style='padding:5px; text-align:left'>groß _ _ _</td> <td style='padding:5px; text-align:left'>1</td> <td style='padding:5px; text-align:left'>-7.09</td><tr><tr><td style='padding:5px; text-align:left'>NULL a man is</td> <td style='padding:5px; text-align:left'>groß _ _ _</td> <td style='padding:5px; text-align:left'>1</td> <td style='padding:5px; text-align:left'>-4.70</td><tr><tr><td style='padding:5px; text-align:left'>NULL a man is big</td> <td style='padding:5px; text-align:left'>_ _ _ _</td> <td style='padding:5px; text-align:left'>0</td> <td style='padding:5px; text-align:left'>-7.83</td><tr><tr><td style='padding:5px; text-align:left'>NULL a man is tall</td> <td style='padding:5px; text-align:left'>_ _ _ _</td> <td style='padding:5px; text-align:left'>0</td> <td style='padding:5px; text-align:left'>-5.52</td><tr></table>"
      ],
      "text/plain": [
       "<statnlpbook.util.Table at 0x7fe45498ada0>"
      ]
     },
     "execution_count": 230,
     "metadata": {},
     "output_type": "execute_result"
    }
   ],
   "source": [
    "ngram_lm = LaplaceLM(NGramLM(lm_train, 3),0.1)\n",
    "show_decode_history(begin=0,end=5,beam=2, lm=ngram_lm)"
   ]
  },
  {
   "cell_type": "markdown",
   "metadata": {
    "slideshow": {
     "slide_type": "slide"
    }
   },
   "source": [
    "## Summary \n",
    "\n",
    "* MT is an instance structured prediction recipe\n",
    "* The noisy channel is one modeling framework\n",
    "* word-based MT is foundation and blue print for more complex models\n",
    "* Training with EM\n",
    "* NLP Tricks: \n",
    "    * introducing latent alignment variables to simplify problem\n",
    "    * decoding with Beams"
   ]
  },
  {
   "cell_type": "markdown",
   "metadata": {
    "slideshow": {
     "slide_type": "slide"
    }
   },
   "source": [
    "## Background Material\n",
    "* [Lecture notes on IBM Model 1 and 2](http://www.cs.columbia.edu/~mcollins/courses/nlp2011/notes/ibm12.pdf) of Mike Collins.  \n",
    "* Jurafsky & Martin, Speech and Language Processing: \n",
    "    * Chapter 26, Machine Translation.\n",
    "    * Chapter 6, EM Algorithm\n",
    "* Brown et al., [The Mathematics of Statistical Machine Translation: Parameter Estimation](http://www.aclweb.org/anthology/J93-2003)"
   ]
  }
 ],
 "metadata": {
  "celltoolbar": "Slideshow",
  "kernelspec": {
   "display_name": "Python 3",
   "language": "python",
   "name": "python3"
  },
  "language_info": {
   "codemirror_mode": {
    "name": "ipython",
    "version": 3
   },
   "file_extension": ".py",
   "mimetype": "text/x-python",
   "name": "python",
   "nbconvert_exporter": "python",
   "pygments_lexer": "ipython3",
   "version": "3.10.4"
  }
 },
 "nbformat": 4,
 "nbformat_minor": 1
}