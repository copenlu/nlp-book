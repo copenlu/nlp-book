{
 "cells": [
  {
   "cell_type": "code",
   "execution_count": 1,
   "metadata": {
    "slideshow": {
     "slide_type": "skip"
    }
   },
   "outputs": [
    {
     "data": {
      "text/html": [
       "<script>\n",
       "  function code_toggle() {\n",
       "    if (code_shown){\n",
       "      $('div.input').hide('500');\n",
       "      $('#toggleButton').val('Show Code')\n",
       "    } else {\n",
       "      $('div.input').show('500');\n",
       "      $('#toggleButton').val('Hide Code')\n",
       "    }\n",
       "    code_shown = !code_shown\n",
       "  }\n",
       "\n",
       "  $( document ).ready(function(){\n",
       "    code_shown=false;\n",
       "    $('div.input').hide()\n",
       "  });\n",
       "</script>\n",
       "<form action=\"javascript:code_toggle()\"><input type=\"submit\" id=\"toggleButton\" value=\"Show Code\"></form>\n"
      ],
      "text/plain": [
       "<IPython.core.display.HTML object>"
      ]
     },
     "metadata": {},
     "output_type": "display_data"
    }
   ],
   "source": [
    "%%html\n",
    "<script>\n",
    "  function code_toggle() {\n",
    "    if (code_shown){\n",
    "      $('div.input').hide('500');\n",
    "      $('#toggleButton').val('Show Code')\n",
    "    } else {\n",
    "      $('div.input').show('500');\n",
    "      $('#toggleButton').val('Hide Code')\n",
    "    }\n",
    "    code_shown = !code_shown\n",
    "  }\n",
    "\n",
    "  $( document ).ready(function(){\n",
    "    code_shown=false;\n",
    "    $('div.input').hide()\n",
    "  });\n",
    "</script>\n",
    "<form action=\"javascript:code_toggle()\"><input type=\"submit\" id=\"toggleButton\" value=\"Show Code\"></form>"
   ]
  },
  {
   "cell_type": "code",
   "execution_count": 2,
   "metadata": {
    "slideshow": {
     "slide_type": "skip"
    }
   },
   "outputs": [
    {
     "ename": "ModuleNotFoundError",
     "evalue": "No module named 'mpld3'",
     "output_type": "error",
     "traceback": [
      "\u001b[0;31m---------------------------------------------------------------------------\u001b[0m",
      "\u001b[0;31mModuleNotFoundError\u001b[0m                       Traceback (most recent call last)",
      "Input \u001b[0;32mIn [2]\u001b[0m, in \u001b[0;36m<cell line: 7>\u001b[0;34m()\u001b[0m\n\u001b[1;32m      5\u001b[0m \u001b[38;5;28;01mimport\u001b[39;00m \u001b[38;5;21;01msys\u001b[39;00m\n\u001b[1;32m      6\u001b[0m sys\u001b[38;5;241m.\u001b[39mpath\u001b[38;5;241m.\u001b[39mappend(\u001b[38;5;124m\"\u001b[39m\u001b[38;5;124m..\u001b[39m\u001b[38;5;124m\"\u001b[39m)\n\u001b[0;32m----> 7\u001b[0m \u001b[38;5;28;01mimport\u001b[39;00m \u001b[38;5;21;01mstatnlpbook\u001b[39;00m\u001b[38;5;21;01m.\u001b[39;00m\u001b[38;5;21;01mutil\u001b[39;00m \u001b[38;5;28;01mas\u001b[39;00m \u001b[38;5;21;01mutil\u001b[39;00m\n\u001b[1;32m      8\u001b[0m \u001b[38;5;28;01mimport\u001b[39;00m \u001b[38;5;21;01mmatplotlib\u001b[39;00m\n\u001b[1;32m      9\u001b[0m matplotlib\u001b[38;5;241m.\u001b[39mrcParams[\u001b[38;5;124m'\u001b[39m\u001b[38;5;124mfigure.figsize\u001b[39m\u001b[38;5;124m'\u001b[39m] \u001b[38;5;241m=\u001b[39m (\u001b[38;5;241m10.0\u001b[39m, \u001b[38;5;241m5.0\u001b[39m)\n",
      "File \u001b[0;32m~/gits/nlp-course/nlp-book/stat-nlp-book/chapters/../statnlpbook/util.py:47\u001b[0m, in \u001b[0;36m<module>\u001b[0;34m\u001b[0m\n\u001b[1;32m     43\u001b[0m             \u001b[38;5;28;01mfor\u001b[39;00m head \u001b[38;5;129;01min\u001b[39;00m lists[\u001b[38;5;241m0\u001b[39m]:\n\u001b[1;32m     44\u001b[0m                 \u001b[38;5;28;01myield\u001b[39;00m (head,) \u001b[38;5;241m+\u001b[39m prev_tuple\n\u001b[0;32m---> 47\u001b[0m \u001b[38;5;28;01mimport\u001b[39;00m \u001b[38;5;21;01mmpld3\u001b[39;00m\n\u001b[1;32m     50\u001b[0m \u001b[38;5;28;01mdef\u001b[39;00m \u001b[38;5;21mplot_bar_graph\u001b[39m(values, labels, rotation\u001b[38;5;241m=\u001b[39m\u001b[38;5;241m0\u001b[39m, align\u001b[38;5;241m=\u001b[39m\u001b[38;5;124m'\u001b[39m\u001b[38;5;124mcenter\u001b[39m\u001b[38;5;124m'\u001b[39m, use_mpld3\u001b[38;5;241m=\u001b[39m\u001b[38;5;28;01mFalse\u001b[39;00m):\n\u001b[1;32m     51\u001b[0m     \u001b[38;5;124;03m\"\"\"\u001b[39;00m\n\u001b[1;32m     52\u001b[0m \u001b[38;5;124;03m    Plots a bar graph.\u001b[39;00m\n\u001b[1;32m     53\u001b[0m \u001b[38;5;124;03m    Args:\u001b[39;00m\n\u001b[0;32m   (...)\u001b[0m\n\u001b[1;32m     61\u001b[0m \n\u001b[1;32m     62\u001b[0m \u001b[38;5;124;03m    \"\"\"\u001b[39;00m\n",
      "\u001b[0;31mModuleNotFoundError\u001b[0m: No module named 'mpld3'"
     ]
    }
   ],
   "source": [
    "%%capture\n",
    "%load_ext autoreload\n",
    "%autoreload 2\n",
    "%matplotlib inline\n",
    "# %cd .. \n",
    "import sys\n",
    "sys.path.append(\"..\")\n",
    "import statnlpbook.util as util\n",
    "import matplotlib\n",
    "matplotlib.rcParams['figure.figsize'] = (10.0, 5.0)\n",
    "import random \n",
    "from collections import defaultdict\n",
    "random.seed(2)"
   ]
  },
  {
   "cell_type": "markdown",
   "metadata": {
    "slideshow": {
     "slide_type": "skip"
    }
   },
   "source": [
    "<!---\n",
    "Latex Macros\n",
    "-->\n",
    "$$\n",
    "\\newcommand{\\Xs}{\\mathcal{X}}\n",
    "\\newcommand{\\Ys}{\\mathcal{Y}}\n",
    "\\newcommand{\\y}{\\mathbf{y}}\n",
    "\\newcommand{\\weights}{\\mathbf{w}}\n",
    "\\newcommand{\\balpha}{\\boldsymbol{\\alpha}}\n",
    "\\newcommand{\\bbeta}{\\boldsymbol{\\beta}}\n",
    "\\newcommand{\\aligns}{\\mathbf{a}}\n",
    "\\newcommand{\\align}{a}\n",
    "\\newcommand{\\source}{\\mathbf{s}}\n",
    "\\newcommand{\\target}{\\mathbf{t}}\n",
    "\\newcommand{\\ssource}{s}\n",
    "\\newcommand{\\starget}{t}\n",
    "\\newcommand{\\repr}{\\mathbf{f}}\n",
    "\\newcommand{\\repry}{\\mathbf{g}}\n",
    "\\newcommand{\\bar}{\\,|\\,}\n",
    "\\newcommand{\\x}{\\mathbf{x}}\n",
    "\\newcommand{\\prob}{p}\n",
    "\\newcommand{\\Pulp}{\\text{Pulp}}\n",
    "\\newcommand{\\Fiction}{\\text{Fiction}}\n",
    "\\newcommand{\\PulpFiction}{\\text{Pulp Fiction}}\n",
    "\\newcommand{\\pnb}{\\prob^{\\text{NB}}}\n",
    "\\newcommand{\\vocab}{V}\n",
    "\\newcommand{\\params}{\\boldsymbol{\\theta}}\n",
    "\\newcommand{\\param}{\\theta}\n",
    "\\DeclareMathOperator{\\perplexity}{PP}\n",
    "\\DeclareMathOperator{\\argmax}{argmax}\n",
    "\\DeclareMathOperator{\\argmin}{argmin}\n",
    "\\newcommand{\\train}{\\mathcal{D}}\n",
    "\\newcommand{\\counts}[2]{\\#_{#1}(#2) }\n",
    "\\newcommand{\\length}[1]{\\text{length}(#1) }\n",
    "\\newcommand{\\indi}{\\mathbb{I}}\n",
    "$$"
   ]
  },
  {
   "cell_type": "code",
   "execution_count": 3,
   "metadata": {
    "slideshow": {
     "slide_type": "skip"
    }
   },
   "outputs": [
    {
     "data": {
      "text/html": [
       "<style>\n",
       "td,th {\n",
       "    font-size: x-large;\n",
       "    text-align: left;\n",
       "}\n",
       "</style>\n"
      ],
      "text/plain": [
       "<IPython.core.display.HTML object>"
      ]
     },
     "metadata": {},
     "output_type": "display_data"
    }
   ],
   "source": [
    "%%HTML\n",
    "<style>\n",
    "td,th {\n",
    "    font-size: x-large;\n",
    "    text-align: left;\n",
    "}\n",
    "</style>"
   ]
  },
  {
   "cell_type": "markdown",
   "metadata": {
    "slideshow": {
     "slide_type": "slide"
    }
   },
   "source": [
    "# Text Classification "
   ]
  },
  {
   "cell_type": "markdown",
   "metadata": {
    "slideshow": {
     "slide_type": "fragment"
    }
   },
   "source": [
    "Automatically classify input text into a set of **atomic classes**"
   ]
  },
  {
   "cell_type": "markdown",
   "metadata": {
    "slideshow": {
     "slide_type": "subslide"
    }
   },
   "source": [
    "## Motivation\n",
    "* **Information retrieval**: classify documents into topics, such as \"sport\" or \"business\"\n",
    "* **Sentiment analysis**: classify tweets into being \"positive\" or \"negative\"  \n",
    "* **Spam filters**: distinguish between \"ham\" and \"spam\"\n",
    "\n",
    "<!-- TODO: Load Web Corpus, 4 Universities, something were Maxent works -->"
   ]
  },
  {
   "cell_type": "markdown",
   "metadata": {
    "slideshow": {
     "slide_type": "slide"
    }
   },
   "source": [
    "## Text Classification as Structured Prediction\n",
    "Simplest instance of [structured prediction](/template/statnlpbook/02_methods/00_structuredprediction) \n",
    "\n",
    "* Input space $\\Xs$ are sequences of words\n",
    "* output space $\\Ys$ is a set of labels\n",
    "    * Example for document classification: $\\Ys=\\{ \\text{sports},\\text{business}\\}$ \n",
    "    * Example for sentiment prediction: $\\Ys=\\{ \\text{positive},\\text{negative}, \\text{neutral}\\}$ \n",
    "* model $s_{\\params}(\\x,y)$ \n",
    "    * scores $y$ highly if it fits text $\\x$\n",
    "    "
   ]
  },
  {
   "cell_type": "markdown",
   "metadata": {
    "slideshow": {
     "slide_type": "slide"
    }
   },
   "source": [
    "## Overview\n",
    "\n",
    "* **Generative** model: Naive Bayes\n",
    "    * Learn how to *explain input and output*\n",
    "* **Discriminative** model: *Logistic Regression*\n",
    "    * Learn how to *discriminate best output based on input*"
   ]
  },
  {
   "cell_type": "markdown",
   "metadata": {
    "slideshow": {
     "slide_type": "subslide"
    }
   },
   "source": [
    "## Sentiment Analysis as Text Classification\n",
    "Let us focus on a specific task: sentiment analysis\n",
    "\n",
    "* load data for this task from the [Movie Review dataset](https://www.cs.cornell.edu/people/pabo/movie-review-data/)"
   ]
  },
  {
   "cell_type": "code",
   "execution_count": 4,
   "metadata": {
    "slideshow": {
     "slide_type": "skip"
    }
   },
   "outputs": [],
   "source": [
    "from os import listdir\n",
    "from os.path import isfile, join\n",
    "def load_from_dir(directory,label):\n",
    "    \"\"\"\n",
    "    Load documents from a directory, and give them all the same label `label`.\n",
    "    Params:\n",
    "        directory: the directory to load the documents from.\n",
    "        label: the label to assign to each document.\n",
    "    Returns:\n",
    "        a list of (x,y) pairs where x is a tokenised document (list of words), and y is the label `label`.\n",
    "    \"\"\"\n",
    "    result = []\n",
    "    for file in listdir(directory):\n",
    "        with open(directory + file, 'r') as f:\n",
    "            text = f.read()\n",
    "            tokens = [t.strip() for t in text.split()]\n",
    "            result.append((tokens,label))\n",
    "    return result\n",
    " \n",
    "data_pos = load_from_dir('../data/rt-2k/txt_sentoken/pos/', 'pos') \n",
    "data_neg = load_from_dir('../data/rt-2k/txt_sentoken/neg/', 'neg')\n",
    "    \n",
    "data_all = data_pos + data_neg"
   ]
  },
  {
   "cell_type": "markdown",
   "metadata": {
    "slideshow": {
     "slide_type": "subslide"
    }
   },
   "source": [
    "Let us look at some example data ..."
   ]
  },
  {
   "cell_type": "code",
   "execution_count": 5,
   "metadata": {
    "slideshow": {
     "slide_type": "fragment"
    }
   },
   "outputs": [
    {
     "data": {
      "text/plain": [
       "'the thought-provoking question of tradition over morals is the subject directly at the core of \" leila , \" a powerfully articulated and subtle drama from famous iranian director dariush mehrjui , that is his first motion picture in a prosperous thirty-year career to gain u . s . distribution , thanks to first run features . although unfamiliar with mehrjui\\'s previous directing efforts , perhaps the reason for this is that , while the predicament at hand is no doubt exclusive to its own country , the heartbreaking and solely truthful emotions of the characters can easily be understood by all viewers . set in modern-day iran , \" leila \" begins on the birthday of the title character ( leila hatami ) , after a brief prologue in which we are shown the first encounter between leila and her future husband , reza ( ali mosaffa ) . as leila and reza set off to visit his parents , and then hers , where a birthday celebration has been planned , things seem rosy for the couple on the outside , but for leila , life isn\\'t quite as sweet . earlier , on that very same day'"
      ]
     },
     "execution_count": 5,
     "metadata": {},
     "output_type": "execute_result"
    }
   ],
   "source": [
    "\" \".join(data_pos[12][0][:200])"
   ]
  },
  {
   "cell_type": "markdown",
   "metadata": {
    "slideshow": {
     "slide_type": "subslide"
    }
   },
   "source": [
    "## Setup\n",
    "\n",
    "Divide dataset in **train**, **test** and **development** set"
   ]
  },
  {
   "cell_type": "code",
   "execution_count": 6,
   "metadata": {
    "slideshow": {
     "slide_type": "fragment"
    }
   },
   "outputs": [
    {
     "ename": "NameError",
     "evalue": "name 'random' is not defined",
     "output_type": "error",
     "traceback": [
      "\u001b[0;31m---------------------------------------------------------------------------\u001b[0m",
      "\u001b[0;31mNameError\u001b[0m                                 Traceback (most recent call last)",
      "Input \u001b[0;32mIn [6]\u001b[0m, in \u001b[0;36m<cell line: 1>\u001b[0;34m()\u001b[0m\n\u001b[0;32m----> 1\u001b[0m \u001b[43mrandom\u001b[49m\u001b[38;5;241m.\u001b[39mseed(\u001b[38;5;241m0\u001b[39m)\n\u001b[1;32m      2\u001b[0m shuffled \u001b[38;5;241m=\u001b[39m \u001b[38;5;28mlist\u001b[39m(data_all)\n\u001b[1;32m      3\u001b[0m random\u001b[38;5;241m.\u001b[39mshuffle(shuffled)\n",
      "\u001b[0;31mNameError\u001b[0m: name 'random' is not defined"
     ]
    }
   ],
   "source": [
    "random.seed(0)\n",
    "shuffled = list(data_all)\n",
    "random.shuffle(shuffled)\n",
    "train, dev, test = shuffled[:1600], shuffled[1600:1800], shuffled[1800:]\n",
    "len([(x,y) for (x,y) in train if y == 'pos']) # check balance "
   ]
  },
  {
   "cell_type": "markdown",
   "metadata": {
    "slideshow": {
     "slide_type": "slide"
    }
   },
   "source": [
    "The simplest and most\n",
    "\n",
    "## Naive Bayes Model\n",
    "\n",
    "uses a distribution $p^{\\mbox{NB}}_{\\params}$ for $s_\\params$:   \n",
    "\n",
    "\\begin{equation}\n",
    "  s_{\\params}(\\x,\\y)\\ = p^{\\text{NB}}_{\\params}(\\x,y)\n",
    "\\end{equation}"
   ]
  },
  {
   "cell_type": "markdown",
   "metadata": {
    "slideshow": {
     "slide_type": "subslide"
    }
   },
   "source": [
    "Naive Bayes estimates a \n",
    "\n",
    "### Joint Probability\n",
    "\n",
    "\\begin{equation}\n",
    "\\prob^{\\text{NB}}_{\\params}(\\x,y)= p^\\text{NB}_{\\params}(y) p^{\\text{NB}}_{\\params}(\\x|y) \n",
    "\\end{equation}"
   ]
  },
  {
   "cell_type": "markdown",
   "metadata": {
    "slideshow": {
     "slide_type": "subslide"
    }
   },
   "source": [
    "### Why Naive?\n",
    "\n",
    "Makes a naive conditional independence assumption\n",
    "\n",
    "\\begin{equation}\n",
    "  p^{\\text{NB}}_{\\params}(\\x|y) = \n",
    "  \\prod_i^{\\text{length}(\\x)} p^{\\text{NB}}_{\\params}(x_i|y)\n",
    "\\end{equation}\n",
    "\n",
    "observed words are independent of each other\n",
    "* when *conditioned on the label* $y$ "
   ]
  },
  {
   "cell_type": "markdown",
   "metadata": {
    "slideshow": {
     "slide_type": "subslide"
    }
   },
   "source": [
    "For example:\n",
    "\n",
    "$$\n",
    "p^{\\text{NB}}_{\\params}(\\text{great,tremendous}\\bar+) = p^{\\text{NB}}_{\\params}(\\text{great}\\bar+)  p^{\\text{NB}}_{\\params}(\\text{tremendous}\\bar+)\n",
    "$$"
   ]
  },
  {
   "cell_type": "markdown",
   "metadata": {
    "slideshow": {
     "slide_type": "fragment"
    }
   },
   "source": [
    "* Sometimes this is (approximately) true! \n",
    "* Even when it isn't NB may still work...\n"
   ]
  },
  {
   "cell_type": "markdown",
   "metadata": {
    "slideshow": {
     "slide_type": "subslide"
    }
   },
   "source": [
    "### Parametrisation\n",
    "The NB model has the parameters $\\params=(\\balpha,\\bbeta)$ where \n",
    "\n",
    "\\begin{split}\n",
    "  p^{\\text{NB}}_{\\params}(w|y) & = \\alpha_{w,y} \\\\\\\\\n",
    "  p^{\\text{NB}}_{\\params}(y) & = \\beta_{y}.\n",
    "\\end{split}\n",
    "\n",
    "* $\\balpha$ for per-class feature probabilities\n",
    "* $\\bbeta$ for class priors "
   ]
  },
  {
   "cell_type": "markdown",
   "metadata": {
    "slideshow": {
     "slide_type": "slide"
    }
   },
   "source": [
    "### Training Naive Bayes \n",
    "\n",
    "Maximum Likelihood estimation: \n",
    "\n",
    "\\begin{split}\n",
    "  \\alpha_{w,y} & = \\frac{\\counts{\\train}{w,y}}{\\sum_{w'}\\counts{\\train}{w',y}}\\\\\\\\\n",
    "  \\beta_{y} & = \\frac{\\counts{\\train}{y}}{\\left| \\train \\right|}\n",
    "\\end{split}\n",
    "\n",
    "* $\\balpha$ for per-class feature probabilities\n",
    "* $\\bbeta$ for class priors "
   ]
  },
  {
   "cell_type": "markdown",
   "metadata": {
    "slideshow": {
     "slide_type": "subslide"
    }
   },
   "source": [
    "MLE can produce zero probabilities for unseen events in two ways:\n",
    "\n",
    "* Words in the training set, unseen for specific class\n",
    "    * address via [Laplace Smoothing](language_models.ipynb) \n",
    "* Words outside of the training set\n",
    "    * address later ..."
   ]
  },
  {
   "cell_type": "markdown",
   "metadata": {
    "slideshow": {
     "slide_type": "subslide"
    }
   },
   "source": [
    "### Laplace Smoothing\n",
    "\n",
    "Let $V$ be the full training set vocabulary, and $\\gamma$ a pseudo-count, then\n",
    "\n",
    "\\begin{split}\n",
    "  \\alpha^\\gamma_{w,y} & = \\frac{\\counts{\\train}{w,y} + \\gamma}{|V|\\gamma + \\sum_{w'}\\counts{\\train}{w',y}}\\\\\\\\\n",
    "\\end{split}"
   ]
  },
  {
   "cell_type": "code",
   "execution_count": 6,
   "metadata": {
    "slideshow": {
     "slide_type": "skip"
    }
   },
   "outputs": [],
   "source": [
    "def train_nb(data, pseudo_count=0.0):\n",
    "    alpha = defaultdict(float)\n",
    "    beta = defaultdict(float)\n",
    "    vocab = set(w for x,_ in data for w in x)\n",
    "    labels = set(y for _,y in data)\n",
    "    norm = 0\n",
    "    for x,y in data:\n",
    "        for w in x:\n",
    "            beta[y] += 1.0\n",
    "            alpha[w,y] += 1\n",
    "            norm += 1\n",
    "    for y in labels:\n",
    "        for w in vocab:\n",
    "            alpha[w,y] = (alpha[w,y]+pseudo_count) / (beta[y] + len(vocab) * pseudo_count)\n",
    "\n",
    "    for y in list(beta.keys()):\n",
    "        beta[y] = beta[y] / norm\n",
    "    return (alpha, beta)"
   ]
  },
  {
   "cell_type": "markdown",
   "metadata": {
    "slideshow": {
     "slide_type": "subslide"
    }
   },
   "source": [
    "Train NB on data:"
   ]
  },
  {
   "cell_type": "code",
   "execution_count": 7,
   "metadata": {
    "slideshow": {
     "slide_type": "fragment"
    }
   },
   "outputs": [],
   "source": [
    "theta = (alpha, beta) = train_nb(train) "
   ]
  },
  {
   "cell_type": "markdown",
   "metadata": {
    "slideshow": {
     "slide_type": "subslide"
    }
   },
   "source": [
    "**Inspect** the learned parameters of the NB model!  \n",
    "\n",
    "* they are easy to interpret"
   ]
  },
  {
   "cell_type": "markdown",
   "metadata": {
    "slideshow": {
     "slide_type": "subslide"
    }
   },
   "source": [
    "The class prior $\\bbeta$ looks sensible:"
   ]
  },
  {
   "cell_type": "code",
   "execution_count": 8,
   "metadata": {
    "slideshow": {
     "slide_type": "fragment"
    }
   },
   "outputs": [
    {
     "data": {
      "text/plain": [
       "defaultdict(float, {'neg': 0.46393907123093997, 'pos': 0.53606092876906})"
      ]
     },
     "execution_count": 8,
     "metadata": {},
     "output_type": "execute_result"
    }
   ],
   "source": [
    "beta"
   ]
  },
  {
   "cell_type": "markdown",
   "metadata": {
    "slideshow": {
     "slide_type": "subslide"
    }
   },
   "source": [
    "The per-class word distributions $\\balpha$:"
   ]
  },
  {
   "cell_type": "code",
   "execution_count": 9,
   "metadata": {
    "slideshow": {
     "slide_type": "skip"
    }
   },
   "outputs": [],
   "source": [
    "def plot_top_k(alpha, label='pos', k=10):\n",
    "    positive_words = [w for (w,y) in alpha.keys() if y == label]\n",
    "    sorted_positive_words = sorted(positive_words, key=lambda w:-alpha[w,label])[:k]\n",
    "    util.plot_bar_graph([alpha[w,label] for w in sorted_positive_words],sorted_positive_words,rotation=45)"
   ]
  },
  {
   "cell_type": "code",
   "execution_count": 10,
   "metadata": {
    "slideshow": {
     "slide_type": "fragment"
    }
   },
   "outputs": [
    {
     "data": {
      "image/png": "[encoded data removed]",
      "text/plain": [
       "<matplotlib.figure.Figure at 0x7ff7e48b4668>"
      ]
     },
     "metadata": {
      "filenames": {
       "image/png": "/Users/knf792/gits/nlp-course/nlp-book/_build/jupyter_execute/stat-nlp-book/chapters/doc_classify_slides_32_0.png"
      }
     },
     "output_type": "display_data"
    }
   ],
   "source": [
    "plot_top_k(alpha, 'pos')"
   ]
  },
  {
   "cell_type": "markdown",
   "metadata": {
    "slideshow": {
     "slide_type": "subslide"
    }
   },
   "source": [
    "Fairly uninformative! For most words \n",
    "\n",
    "* Clearly *any* document will contain these words with high probability\n",
    "* Don't **discriminate** between document classes "
   ]
  },
  {
   "cell_type": "markdown",
   "metadata": {
    "slideshow": {
     "slide_type": "subslide"
    }
   },
   "source": [
    "Remove such words apriori, using a so-called **stop-word** list"
   ]
  },
  {
   "cell_type": "code",
   "execution_count": 11,
   "metadata": {
    "slideshow": {
     "slide_type": "subslide"
    }
   },
   "outputs": [],
   "source": [
    "import string\n",
    "\n",
    "stop_words = set(['i', 'me', 'my', 'myself', 'we', 'our', 'ours', 'ourselves', 'you', 'your', 'yours',\n",
    "'yourself', 'yourselves', 'he', 'him', 'his', 'himself', 'she', 'her', 'hers',\n",
    "'herself', 'it', 'its', 'itself', 'they', 'them', 'their', 'theirs', 'themselves',\n",
    "'what', 'which', 'who', 'whom', 'this', 'that', 'these', 'those', 'am', 'is', 'are',\n",
    "'was', 'were', 'be', 'been', 'being', 'have', 'has', 'had', 'having', 'do', 'does',\n",
    "'did', 'doing', 'a', 'an', 'the', 'and', 'but', 'if', 'or', 'because', 'as', 'until',\n",
    "'while', 'of', 'at', 'by', 'for', 'with', 'about', 'against', 'between', 'into',\n",
    "'through', 'during', 'before', 'after', 'above', 'below', 'to', 'from', 'up', 'down',\n",
    "'in', 'out', 'on', 'off', 'over', 'under', 'again', 'further', 'then', 'once', 'here',\n",
    "'there', 'when', 'where', 'why', 'how', 'all', 'any', 'both', 'each', 'few', 'more',\n",
    "'most', 'other', 'some', 'such', 'no', 'nor', 'not', 'only', 'own', 'same', 'so',\n",
    "'than', 'too', 'very', 's', 't', 'can', 'will', 'just', 'don', 'should', 'now', '\\n', 'the'] + list(string.punctuation))"
   ]
  },
  {
   "cell_type": "code",
   "execution_count": 12,
   "metadata": {
    "slideshow": {
     "slide_type": "subslide"
    }
   },
   "outputs": [],
   "source": [
    "def filter_dataset(data):\n",
    "    \"\"\"\n",
    "    Removes stop words from a dataset of (x,y) pairs.\n",
    "    \"\"\"\n",
    "    return [([w for w in x if w not in stop_words],y) for x,y in data]\n",
    "\n",
    "train_filtered = filter_dataset(train)\n",
    "dev_filtered = filter_dataset(dev)\n",
    "test_filtered = filter_dataset(test)\n",
    "\n",
    "theta_filtered = (alpha_filtered, beta_filtered) = train_nb(train_filtered,pseudo_count=0.01)"
   ]
  },
  {
   "cell_type": "markdown",
   "metadata": {
    "slideshow": {
     "slide_type": "subslide"
    }
   },
   "source": [
    "Let us look at $\\balpha$ again:"
   ]
  },
  {
   "cell_type": "code",
   "execution_count": 13,
   "metadata": {
    "scrolled": true,
    "slideshow": {
     "slide_type": "fragment"
    }
   },
   "outputs": [
    {
     "data": {
      "image/png": "[encoded data removed]",
      "text/plain": [
       "<matplotlib.figure.Figure at 0x7ff7b51c10b8>"
      ]
     },
     "metadata": {
      "filenames": {
       "image/png": "/Users/knf792/gits/nlp-course/nlp-book/_build/jupyter_execute/stat-nlp-book/chapters/doc_classify_slides_38_0.png"
      }
     },
     "output_type": "display_data"
    }
   ],
   "source": [
    "plot_top_k(alpha_filtered,'pos',k=20)"
   ]
  },
  {
   "cell_type": "markdown",
   "metadata": {
    "slideshow": {
     "slide_type": "subslide"
    }
   },
   "source": [
    "See words that \n",
    "* indicate positive movie reviews (\"good\", \"like\"), \n",
    "* are generally likely (\"movie\", \"story\")"
   ]
  },
  {
   "cell_type": "markdown",
   "metadata": {
    "slideshow": {
     "slide_type": "subslide"
    }
   },
   "source": [
    "How about negative reviews?"
   ]
  },
  {
   "cell_type": "code",
   "execution_count": 14,
   "metadata": {
    "slideshow": {
     "slide_type": "fragment"
    }
   },
   "outputs": [
    {
     "data": {
      "image/png": "[encoded data removed]",
      "text/plain": [
       "<matplotlib.figure.Figure at 0x7ff7b0ea7ef0>"
      ]
     },
     "metadata": {
      "filenames": {
       "image/png": "/Users/knf792/gits/nlp-course/nlp-book/_build/jupyter_execute/stat-nlp-book/chapters/doc_classify_slides_41_0.png"
      }
     },
     "output_type": "display_data"
    }
   ],
   "source": [
    " plot_top_k(alpha_filtered,'neg', 20)"
   ]
  },
  {
   "cell_type": "markdown",
   "metadata": {
    "slideshow": {
     "slide_type": "subslide"
    }
   },
   "source": [
    "### Observations\n",
    "* Negative reviews fairly similar\n",
    "* Mention \"good\" just as often as the positive reviews\n",
    "* Subtle differences: \n",
    "    * Negative reviews contain \"movie\" more than positive ones\n",
    "    * For \"film\" this effect is reversed\n",
    "\n",
    "* \"bad\" appears with high probability only in the negative reviews"
   ]
  },
  {
   "cell_type": "markdown",
   "metadata": {
    "slideshow": {
     "slide_type": "subslide"
    }
   },
   "source": [
    "\"good\" in negative reviews?"
   ]
  },
  {
   "cell_type": "code",
   "execution_count": 15,
   "metadata": {
    "slideshow": {
     "slide_type": "skip"
    }
   },
   "outputs": [],
   "source": [
    "def show_context(word, label=\"neg\", index=0, window=5):   \n",
    "    docs_with_word = [x for x,y in train if word in x and y==label]\n",
    "    word_index = docs_with_word[index].index(word)\n",
    "    return docs_with_word[index][max(word_index-window,0):min(word_index+window,len(docs_with_word[index]))]"
   ]
  },
  {
   "cell_type": "code",
   "execution_count": 16,
   "metadata": {
    "slideshow": {
     "slide_type": "fragment"
    }
   },
   "outputs": [
    {
     "data": {
      "text/plain": [
       "'to be censored in some manner . in an early scene of the film , for example , the lead good guy and bad guy have a minor confrontation in the streets . when the good guy spouts out a'"
      ]
     },
     "execution_count": 16,
     "metadata": {},
     "output_type": "execute_result"
    }
   ],
   "source": [
    "\" \".join(show_context(\"good\", \"neg\", 2, 20))"
   ]
  },
  {
   "cell_type": "markdown",
   "metadata": {
    "slideshow": {
     "slide_type": "subslide"
    }
   },
   "source": [
    "Looking at the most likely words not that helpful:\n",
    "\n",
    "* Discriminative words may be rare\n",
    "* Look at probability *ratios* or *differences*, e.g. $p(\\text{bad}\\bar +) - p(\\text{bad}\\bar -)$ "
   ]
  },
  {
   "cell_type": "code",
   "execution_count": 17,
   "metadata": {
    "slideshow": {
     "slide_type": "skip"
    }
   },
   "outputs": [],
   "source": [
    "def diff(alpha, w):\n",
    "    return alpha[w,'pos'] - alpha[w,'neg'] \n",
    "\n",
    "def plot_discriminative_features(alpha, threshold = 0.0, reverse=False):\n",
    "    frequent_words = {w for ((w,y),p) in alpha.items() if p > threshold}\n",
    "    sorted_by_ratio = sorted(frequent_words, key=lambda w: diff(alpha, w),reverse=reverse)[-20:]\n",
    "    util.plot_bar_graph([diff(alpha,w) for w in sorted_by_ratio],sorted_by_ratio,rotation=45)"
   ]
  },
  {
   "cell_type": "code",
   "execution_count": 18,
   "metadata": {
    "slideshow": {
     "slide_type": "fragment"
    }
   },
   "outputs": [
    {
     "data": {
      "image/png": "[encoded data removed]",
      "text/plain": [
       "<matplotlib.figure.Figure at 0x7ff7b0ce1c50>"
      ]
     },
     "metadata": {
      "filenames": {
       "image/png": "/Users/knf792/gits/nlp-course/nlp-book/_build/jupyter_execute/stat-nlp-book/chapters/doc_classify_slides_48_0.png"
      }
     },
     "output_type": "display_data"
    }
   ],
   "source": [
    "plot_discriminative_features(alpha_filtered,reverse=False)"
   ]
  },
  {
   "cell_type": "markdown",
   "metadata": {
    "slideshow": {
     "slide_type": "fragment"
    }
   },
   "source": [
    "Many of these words seem to match our intuition for negative reviews."
   ]
  },
  {
   "cell_type": "markdown",
   "metadata": {
    "slideshow": {
     "slide_type": "subslide"
    }
   },
   "source": [
    "###  Naive Bayes Prediction\n",
    "Given a trained NB model, how do we predict the class of a given text? \n",
    "\n",
    "Like in [MT](word_mt.ipynb) and [parsing](word_mt.ipynb), search for the $y\\in\\Ys$ with maximum *a posteriori* probability:\n",
    "\n",
    "$$\n",
    "\\argmax_{y\\in\\Ys} \\prob_\\params(y|\\x) =  \\argmax_{y\\in\\Ys} \\frac{\\prob(\\x|y) \\prob(y) }{ \\prob(\\x) } =\\\\ \\argmax_{y\\in\\Ys} \\prob(\\x|y) \\prob(y) \n",
    "$$"
   ]
  },
  {
   "cell_type": "markdown",
   "metadata": {
    "slideshow": {
     "slide_type": "subslide"
    }
   },
   "source": [
    "What to do with words outside of the training vocabulary? \n",
    "* Ignore them, assuming that unseen words are equally likely in both classes"
   ]
  },
  {
   "cell_type": "code",
   "execution_count": 19,
   "metadata": {
    "slideshow": {
     "slide_type": "skip"
    }
   },
   "outputs": [],
   "source": [
    "from math import log, exp\n",
    "def log_prob_nb(theta, x, y):\n",
    "    \"\"\"\n",
    "    Calculates the log probability log(p_theta(x|y)).\n",
    "    \"\"\"\n",
    "    alpha, beta = theta\n",
    "    result = util.safe_log(beta[y])\n",
    "    for w in x:\n",
    "        if (w,y) in alpha:\n",
    "            result += util.safe_log(alpha[w,y])\n",
    "    return result"
   ]
  },
  {
   "cell_type": "code",
   "execution_count": 20,
   "metadata": {
    "slideshow": {
     "slide_type": "fragment"
    }
   },
   "outputs": [
    {
     "data": {
      "text/plain": [
       "('neg', 'neg')"
      ]
     },
     "execution_count": 20,
     "metadata": {},
     "output_type": "execute_result"
    }
   ],
   "source": [
    "def predict_nb(theta, x):\n",
    "    \"\"\"\n",
    "    Finds y^*=argmax_y p_theta(y|x)\n",
    "    \"\"\"\n",
    "    if log_prob_nb(theta, x, 'pos') > log_prob_nb(theta, x, 'neg'):\n",
    "        return 'pos'\n",
    "    else:\n",
    "        return 'neg'\n",
    "\n",
    "i = 0\n",
    "predict_nb(theta_filtered,train_filtered[i][0]), train_filtered[i][1]"
   ]
  },
  {
   "cell_type": "markdown",
   "metadata": {
    "slideshow": {
     "slide_type": "slide"
    }
   },
   "source": [
    "## Evaluation\n",
    "Use **accuracy**, the ratio of the \n",
    "\n",
    "* number of correct predictions and the \n",
    "* number of all predictions  \n",
    "\n",
    "$\\y^*$ is predicted sequence of labels, $\\y$ the true labels:"
   ]
  },
  {
   "cell_type": "markdown",
   "metadata": {
    "slideshow": {
     "slide_type": "fragment"
    }
   },
   "source": [
    "$$\n",
    "\\mathrm{Acc}(y_1,\\ldots,y_n, y^*_1,\\ldots,y^*_n) = \\frac{\\sum_i \\indi [ y_i = y^*_i]}{n}\n",
    "$$"
   ]
  },
  {
   "cell_type": "code",
   "execution_count": 21,
   "metadata": {
    "slideshow": {
     "slide_type": "skip"
    }
   },
   "outputs": [],
   "source": [
    "def accuracy(data, guess):\n",
    "    correct = 0\n",
    "    for (x,y),y_guess in zip(data,guess):\n",
    "        if y_guess == y:\n",
    "            correct += 1\n",
    "    return correct / len(data)\n",
    "\n",
    "def batch_predict_nb(theta, data):\n",
    "    return [predict_nb(theta, x) for x,_ in data]\n",
    "\n",
    "def accuracy_nb(theta,data):\n",
    "    return accuracy(data, batch_predict_nb(theta,data))"
   ]
  },
  {
   "cell_type": "code",
   "execution_count": 22,
   "metadata": {
    "slideshow": {
     "slide_type": "fragment"
    }
   },
   "outputs": [
    {
     "data": {
      "text/plain": [
       "(0.98625, 0.805)"
      ]
     },
     "execution_count": 22,
     "metadata": {},
     "output_type": "execute_result"
    }
   ],
   "source": [
    "theta_filtered = (alpha_smoothed, beta_smoothed) = train_nb(train_filtered,pseudo_count=1.0)\n",
    "accuracy_nb(theta_filtered, train_filtered), \\\n",
    "accuracy_nb(theta_filtered, dev_filtered)  "
   ]
  },
  {
   "cell_type": "markdown",
   "metadata": {
    "slideshow": {
     "slide_type": "slide"
    }
   },
   "source": [
    "## Broken Assumptions\n",
    "\n",
    "Naive Bayes assumption can make sense, e.g.\n",
    "\n",
    "$\\prob(\\text{... great ... awesome}\\bar +) \\approx \\ldots \\prob(\\text{great}\\bar +) \\ldots \\prob(\\text{awesome}\\bar +) \\ldots$\n",
    "\n",
    "\n",
    "When is it violated?"
   ]
  },
  {
   "cell_type": "markdown",
   "metadata": {
    "slideshow": {
     "slide_type": "subslide"
    }
   },
   "source": [
    "What is $p(\\text{Fiction}\\bar \\text{Pulp},+)$ according to NB?\n",
    "\n",
    "* $\\approx 1$\n",
    "* $p(\\text{Fiction}\\bar+)$\n",
    "* $p(\\text{Fiction})$"
   ]
  },
  {
   "cell_type": "markdown",
   "metadata": {
    "slideshow": {
     "slide_type": "subslide"
    }
   },
   "source": [
    "---------------------------\n",
    "|$\\x$                 |$y$| \n",
    "|---------------------|---|\n",
    "| Pulp Fiction        | + |\n",
    "| Pulp Fiction        | + |\n",
    "| Pulp Fiction        | + |\n",
    "| Fiction             | - |\n",
    "| Fiction             | - |\n",
    "| Pulp Fiction        | - |"
   ]
  },
  {
   "cell_type": "markdown",
   "metadata": {
    "slideshow": {
     "slide_type": "fragment"
    }
   },
   "source": [
    "What is $p(\\text{Fiction}\\bar \\text{Pulp},+)$ according to this **data**? What about  $p(\\text{Fiction}\\bar +)$?"
   ]
  },
  {
   "cell_type": "markdown",
   "metadata": {
    "slideshow": {
     "slide_type": "fragment"
    }
   },
   "source": [
    "$1$, $\\frac{1}{2}$"
   ]
  },
  {
   "cell_type": "markdown",
   "metadata": {
    "slideshow": {
     "slide_type": "subslide"
    }
   },
   "source": [
    "Therefore NB will **underestimate** \n",
    "$$\n",
    "p(\\text{Pulp Fiction}\\bar +)\n",
    "$$ \n",
    "\n",
    "which should be\n",
    "\n",
    "$$\n",
    "p(\\text{Pulp}\\bar+,\\text{Fiction}) p(\\text{Fiction}\\bar +) =  p(\\text{Pulp}\\bar+)\n",
    "$$\n",
    "\n",
    "but is \n",
    "$$\n",
    "p(\\text{Pulp}\\bar +)p(\\text{Fiction}\\bar +)\n",
    "$$"
   ]
  },
  {
   "cell_type": "markdown",
   "metadata": {
    "slideshow": {
     "slide_type": "fragment"
    }
   },
   "source": [
    "This means a positive instance with \"Pulp Fiction\" may be **misclassified**"
   ]
  },
  {
   "cell_type": "markdown",
   "metadata": {
    "slideshow": {
     "slide_type": "slide"
    }
   },
   "source": [
    "## Bigram Representation\n",
    "\n",
    "Problem can be partially addressed by using a **bag of bigrams**\n",
    "\n",
    "* Count bigrams (like Pulp Fiction) and not just single words"
   ]
  },
  {
   "cell_type": "markdown",
   "metadata": {
    "slideshow": {
     "slide_type": "subslide"
    }
   },
   "source": [
    "\n",
    "Turn\n",
    "\n",
    "* like, Pulp, Fiction\n",
    "\n",
    "into\n",
    "\n",
    "* (like,Pulp),(Pulp,Fiction)\n"
   ]
  },
  {
   "cell_type": "code",
   "execution_count": 23,
   "metadata": {
    "slideshow": {
     "slide_type": "skip"
    }
   },
   "outputs": [],
   "source": [
    "def bigram_dataset(data):\n",
    "    return [([tuple(x[i:i+2]) for i in range(0,len(x)-1)] + x,y) for x,y in data] "
   ]
  },
  {
   "cell_type": "code",
   "execution_count": 24,
   "metadata": {
    "slideshow": {
     "slide_type": "subslide"
    }
   },
   "outputs": [
    {
     "data": {
      "text/plain": [
       "[('paul', 'verhoeven'),\n",
       " ('verhoeven', 'dutch'),\n",
       " ('dutch', 'auteur'),\n",
       " ('auteur', 'dragged'),\n",
       " ('dragged', 'violent'),\n",
       " ('violent', 'sexually'),\n",
       " ('sexually', 'aggressive'),\n",
       " ('aggressive', 'aesthetic'),\n",
       " ('aesthetic', 'american'),\n",
       " ('american', 'film')]"
      ]
     },
     "execution_count": 24,
     "metadata": {},
     "output_type": "execute_result"
    }
   ],
   "source": [
    "train_bigram = bigram_dataset(train_filtered)\n",
    "dev_bigram = bigram_dataset(dev_filtered)\n",
    "test_bigram = bigram_dataset(test_filtered)\n",
    "train_bigram[0][0][:10]"
   ]
  },
  {
   "cell_type": "code",
   "execution_count": 25,
   "metadata": {
    "slideshow": {
     "slide_type": "subslide"
    }
   },
   "outputs": [
    {
     "data": {
      "text/plain": [
       "0.82"
      ]
     },
     "execution_count": 25,
     "metadata": {},
     "output_type": "execute_result"
    }
   ],
   "source": [
    "theta_bigram = (alpha_bigram, beta_bigram) = train_nb(train_bigram, 1.0)\n",
    "accuracy_nb(theta_bigram, dev_bigram) "
   ]
  },
  {
   "cell_type": "markdown",
   "metadata": {
    "slideshow": {
     "slide_type": "subslide"
    }
   },
   "source": [
    "Look at features"
   ]
  },
  {
   "cell_type": "code",
   "execution_count": 26,
   "metadata": {
    "scrolled": false,
    "slideshow": {
     "slide_type": "fragment"
    }
   },
   "outputs": [
    {
     "data": {
      "image/png": "[encoded data removed]",
      "text/plain": [
       "<matplotlib.figure.Figure at 0x7ff7b0ceb2b0>"
      ]
     },
     "metadata": {
      "filenames": {
       "image/png": "/Users/knf792/gits/nlp-course/nlp-book/_build/jupyter_execute/stat-nlp-book/chapters/doc_classify_slides_71_0.png"
      }
     },
     "output_type": "display_data"
    }
   ],
   "source": [
    "plot_discriminative_features({(f,y):p for (f,y),p in alpha_bigram.items() if len(f)==2}, reverse=False)\n",
    "# alpha_bigram"
   ]
  },
  {
   "cell_type": "markdown",
   "metadata": {
    "slideshow": {
     "slide_type": "subslide"
    }
   },
   "source": [
    "Observe:\n",
    "\n",
    "* Presence of entities such as movies and actors\n",
    "\n",
    "For example\n",
    "* Mentions of \"pulp fiction\" suggest positive reviews"
   ]
  },
  {
   "cell_type": "markdown",
   "metadata": {
    "slideshow": {
     "slide_type": "subslide"
    }
   },
   "source": [
    "How do such reviews look like?"
   ]
  },
  {
   "cell_type": "code",
   "execution_count": 27,
   "metadata": {
    "slideshow": {
     "slide_type": "subslide"
    }
   },
   "outputs": [
    {
     "name": "stdout",
     "output_type": "stream",
     "text": [
      "in essence , this is the science fiction equivolence of pulp fiction . the easiest way to write a review\n",
      "than anything actually shown--like most of the violence in \" pulp fiction \" . \" se7en \" is gory ,\n",
      ", the film is paced at half the speed of pulp fiction , which avary co-wrote with quentin tarantino .\n",
      "this statement , but you need look no further than pulp fiction for an example ) . and , while\n",
      "\n",
      "since this is a gritty crime comedy , flashbacks of pulp fiction should arise ) . at first , i\n",
      ", stock & two smoking barrels ( 8/10 ) - pulp fiction ( 8/10 ) - reservoir dogs ( 9/10\n",
      "incredibly fun to watch . it starts off as a pulp fiction-type crime story , with criminal brothers george clooney\n",
      "can be even more graphic ( e . g . pulp fiction ) . pulp fiction did it in a\n",
      "you couldn't find in any of the two dozen \" pulp fiction \" wannabes ; fortunately , the reappearance of\n",
      "but if most of those movies have their roots in pulp fiction , exploring a modern myth of the doomed\n",
      "the three years since the release of the groundbreaking success pulp fiction , the cinematic output from its creator ,\n",
      "first movie quentin tarantino has directed since the highly touted pulp fiction . to say he has been inactive in\n",
      "me give you an example . do you know in pulp fiction where jules and vincent go on brain detail\n"
     ]
    }
   ],
   "source": [
    "docs_with_good = [x for x,y in train if 'pulp' in x and 'fiction' in x and y=='pos']\n",
    "for doc_index in range(0,14):\n",
    "    good_index = docs_with_good[doc_index].index(\"pulp\")\n",
    "    print(\" \".join(docs_with_good[doc_index][good_index-10:good_index+10]))"
   ]
  },
  {
   "cell_type": "markdown",
   "metadata": {
    "slideshow": {
     "slide_type": "subslide"
    }
   },
   "source": [
    "Still problems, like longer distance dependencies: \n",
    "\n",
    "$$\n",
    "p(\\text{Quentin} \\bar \\text{Pulp},+)\n",
    "$$"
   ]
  },
  {
   "cell_type": "markdown",
   "metadata": {
    "slideshow": {
     "slide_type": "subslide"
    }
   },
   "source": [
    "Can we do more with unigrams?"
   ]
  },
  {
   "cell_type": "markdown",
   "metadata": {
    "slideshow": {
     "slide_type": "subslide"
    }
   },
   "source": [
    "Let $\\hat{\\prob}$ be the empirical distribution\n",
    "\n",
    "The problem is: $\\pnb(\\text{Pulp Fiction}\\bar +)$ is **too small**  \n",
    "\n",
    "\\begin{split}\n",
    "\\pnb(\\text{Pulp Fiction}\\bar +) &= \\pnb(\\text{Pulp}\\bar +)\\pnb(\\text{Fiction} \\bar +) \\\\\\\\\n",
    "                                &\\approx \\hat{\\prob}(\\text{Pulp}\\bar +) \\hat{\\prob}(\\text{Fiction} \\bar +) \\\\\\\\\n",
    "                                & < \\hat{\\prob}(\\text{Pulp}\\bar +) \\hat{\\prob}(\\text{Fiction}\\bar \\Pulp, +) \\\\\\\\\n",
    "                                &\\approx \\hat{\\prob}(\\text{Pulp}\\bar +) \\\\\\\\\n",
    "\\end{split}"
   ]
  },
  {
   "cell_type": "markdown",
   "metadata": {
    "slideshow": {
     "slide_type": "subslide"
    }
   },
   "source": [
    "How to fix this for a unigram model?\n",
    "\n",
    "* Increase $\\prob(\\text{Pulp}\\bar +)$ "
   ]
  },
  {
   "cell_type": "markdown",
   "metadata": {
    "slideshow": {
     "slide_type": "subslide"
    }
   },
   "source": [
    "If \n",
    "\n",
    "$$\n",
    "\\pnb(\\text{Pulp}\\bar +)\\approx \\frac{\\hat{\\prob}(\\text{Pulp}\\bar +)}{\\hat{\\prob}(\\text{Fiction}\\bar +)}\n",
    "$$ \n",
    "\n",
    "we'd get\n",
    "\n",
    "\\begin{split}\n",
    "\\pnb(\\text{Pulp Fiction}\\bar +) & \\approx \\frac{\\hat{\\prob}(\\text{Pulp}\\bar +)}{\\hat{\\prob}(\\text{Fiction}\\bar +)} \\hat{\\prob}(\\text{Fiction}\\bar +)  \\\\\\\\ & = \\hat{\\prob}(\\text{Pulp}\\bar +)\n",
    "\\end{split}"
   ]
  },
  {
   "cell_type": "markdown",
   "metadata": {
    "slideshow": {
     "slide_type": "fragment"
    }
   },
   "source": [
    "Note: $\\pnb(\\text{Pulp}\\bar +)$ may be **larger than 1**"
   ]
  },
  {
   "cell_type": "markdown",
   "metadata": {
    "slideshow": {
     "slide_type": "subslide"
    }
   },
   "source": [
    "But this is **not the maximum likelihood estimate**..."
   ]
  },
  {
   "cell_type": "markdown",
   "metadata": {
    "slideshow": {
     "slide_type": "subslide"
    }
   },
   "source": [
    "If you were to generate data from it, it could look like\n",
    "\n",
    "---------------------------\n",
    "|$\\x$                 |$y$| \n",
    "|---------------------|---|\n",
    "|... Pulp Pulp ... | + |\n",
    "|... Pulp Pulp ... | + |\n",
    "|... Pulp Pulp ... | + |\n",
    "|... Fiction ...      | - |\n",
    "|... Fiction ...      | - |\n",
    "|... Pulp Fiction ... | + |"
   ]
  },
  {
   "cell_type": "markdown",
   "metadata": {
    "slideshow": {
     "slide_type": "fragment"
    }
   },
   "source": [
    "But it **doesn't matter** for us, because we get $\\prob(\\text{Pulp Fiction}|+)$ right and we may never encounter \"Pulp Pulp\" anyway. "
   ]
  },
  {
   "cell_type": "markdown",
   "metadata": {
    "slideshow": {
     "slide_type": "slide"
    }
   },
   "source": [
    "## Discriminative Text Classification\n",
    "\n",
    "Ignore generation, care about **discrimination**"
   ]
  },
  {
   "cell_type": "markdown",
   "metadata": {
    "slideshow": {
     "slide_type": "subslide"
    }
   },
   "source": [
    "How can we set probabilities algorithmically?"
   ]
  },
  {
   "cell_type": "markdown",
   "metadata": {
    "slideshow": {
     "slide_type": "fragment"
    }
   },
   "source": [
    "Turn it into an optimisation problem and \n",
    "\n",
    "maximise $\\prob(+ \\bar \\text{...Pulp Fiction...})$ directly"
   ]
  },
  {
   "cell_type": "markdown",
   "metadata": {
    "slideshow": {
     "slide_type": "subslide"
    }
   },
   "source": [
    "### Maximum Conditional Log-Likelihood\n",
    "\n",
    "Directly optimise the **conditional likelihood** of the correct labels\n",
    "\n",
    "$$\n",
    "\\mathit{CL}(\\params) = \\sum_{(\\x,y) \\in \\train} \\log(\\prob_\\params(y|\\x)) = \\sum_{(\\x,y) \\in \\train} \\log\\left(\\frac{\\prob_\\params(y,\\x)}{\\sum_y \\prob_\\params(y,\\x)}\\right)\n",
    "$$"
   ]
  },
  {
   "cell_type": "markdown",
   "metadata": {
    "slideshow": {
     "slide_type": "fragment"
    }
   },
   "source": [
    "Unfortunately less trivial to optimise (no closed form solution)"
   ]
  },
  {
   "cell_type": "markdown",
   "metadata": {
    "slideshow": {
     "slide_type": "slide"
    }
   },
   "source": [
    "## Log-Linear Models\n",
    "Present NB (and other following models) in log-space:\n",
    "* Does not require per-word normalisation\n",
    "* Simplify math\n",
    "* easier to optimise\n",
    "* enables rich generalisations\n",
    "* resemblance to linear models like linear SVMs... "
   ]
  },
  {
   "cell_type": "markdown",
   "metadata": {
    "slideshow": {
     "slide_type": "subslide"
    }
   },
   "source": [
    "### Feature Function\n",
    "\n",
    "For log-linear models we need **feature functions** $f_i(\\x)$ mapping input to a real value, e.g.\n",
    "\n",
    "$$\n",
    "f_{\\text{Pulp}}(\\x) = \\counts{\\x}{\\text{Pulp}}\n",
    "$$\n",
    "i.e., the number of times *Pulp* appears in the input $\\x$.  "
   ]
  },
  {
   "cell_type": "markdown",
   "metadata": {
    "slideshow": {
     "slide_type": "subslide"
    }
   },
   "source": [
    "Features don't have to correspond to single words\n",
    "$$\n",
    "f_{\\text{Pulp Fiction}}(\\x) = \\counts{\\x}{\\text{Pulp Fiction}}\n",
    "$$"
   ]
  },
  {
   "cell_type": "markdown",
   "metadata": {
    "slideshow": {
     "slide_type": "fragment"
    }
   },
   "source": [
    "or even correspond to n-grams\n",
    "$$\n",
    "f_{\\text{RT}}(\\x) = \\text{Lowest rotten tomatoes score of all mentioned movies in }\\x\n",
    "$$"
   ]
  },
  {
   "cell_type": "markdown",
   "metadata": {
    "slideshow": {
     "slide_type": "subslide"
    }
   },
   "source": [
    "You can convert a Naive Bayes model into log-linear form with\n",
    "$$\n",
    "f_{\\text{w}}(\\x) = \\counts{\\x}{w}\n",
    "$$\n",
    "and \n",
    "$$\n",
    "\\weights_{w,y} = \\log(\\alpha_{w,y})\n",
    "$$\n",
    "\n",
    "and a bias feature $f_0(\\x)=1$"
   ]
  },
  {
   "cell_type": "markdown",
   "metadata": {
    "slideshow": {
     "slide_type": "subslide"
    }
   },
   "source": [
    "### Joint Probability\n",
    "\n",
    "In log-linear form the joint NB distribution $p^{\\text{NB}}_{\\params}(\\x,y)$ can be written as:  \n",
    "\n",
    "\\begin{equation}\n",
    "  p^{\\text{NB}}_{\\weights}(\\x,y)= \\exp \\left( \\sum_{i \\in \\mathcal{I}} f_i(x) w_{y,i} \\right) = \\exp \\langle \\mathbf{f}(\\x), \\mathbf{w}_y \\rangle = \\exp s_\\weights(\\x,y)\n",
    "\\end{equation}\n",
    "\n",
    "where $s_\\weights(\\x,y) = \\langle \\mathbf{f}(\\x), \\mathbf{w}_y \\rangle$ is the linear *score* of $(\\x,y)$.\n",
    "\n",
    "$\\exp$ denotes the exponential function, i.e. $\\exp x$ means $e^x$ where e = 2.71828..."
   ]
  },
  {
   "cell_type": "markdown",
   "metadata": {
    "slideshow": {
     "slide_type": "subslide"
    }
   },
   "source": [
    "### Conditional Probability\n",
    "\n",
    "The conditional probability has the form:\n",
    "\n",
    "\\begin{equation}\n",
    "  p^{\\text{NB}}_{\\params}(y|\\x)= \\frac{1}{Z_\\x} \\exp \\langle \\mathbf{f}(\\x), \\mathbf{w}_y \\rangle = \\frac{1}{Z_\\x} \\exp s_\\weights(\\x,y)\n",
    "\\end{equation}\n",
    "\n",
    "where $Z_\\x=\\sum_{y\\in\\Ys} \\exp s_\\weights(\\x,y)$ is the *partition function*."
   ]
  },
  {
   "cell_type": "markdown",
   "metadata": {
    "slideshow": {
     "slide_type": "subslide"
    }
   },
   "source": [
    "For binary tasks corresponds to **logistic regression model**:\n",
    "\n",
    "\\begin{split}\n",
    "\\frac{1}{Z_\\x} \\exp s_\\weights(\\x,y) & = \\frac{\\exp s_\\weights(\\x,y)}{\\exp s_\\weights(\\x,+)+\\exp s_\\weights(\\x,-)} \\\\\\\\ & = \\operatorname{sigmoid}_y\\left(s_\\weights(\\x,y)\\right)  \n",
    "\\end{split}"
   ]
  },
  {
   "cell_type": "markdown",
   "metadata": {
    "slideshow": {
     "slide_type": "subslide"
    }
   },
   "source": [
    "Conditional log-likelihood in log-linear form:\n",
    "\n",
    "$$\n",
    "\\mathit{CL}(\\weights) = \\sum_{(\\x,y) \\in \\train} \\log(\\prob_\\params(y|\\x)) = \\sum_{(\\x,y) \\in \\train} \\log \\left (\\frac{1}{Z_\\x} \\exp s_\\weights(\\x,y) \\right) =\\\\ \\sum_{(\\x,y) \\in \\train} s_\\weights(\\x,y) - \\log Z_\\x.\n",
    "$$\n",
    "\n",
    "$$Z_\\x = \\sum_{y\\in\\Ys} \\exp s_\\weights(\\x,y)$$"
   ]
  },
  {
   "cell_type": "code",
   "execution_count": 28,
   "metadata": {
    "slideshow": {
     "slide_type": "skip"
    }
   },
   "outputs": [],
   "source": [
    "p,f = \"Pulp\", \"Fiction\"\n",
    "data = [((p,f),True),((p,f),True),((p,f),True), ((f,),False), ((f,),False),((p,f),False)]\n",
    "from math import log, exp\n",
    "\n",
    "def cl(data, w_p_true, w_f_true, w_true, l=0.0):\n",
    "    loss = 0.0\n",
    "    for x,y in data:\n",
    "        count_p = len([w for w in x if w==p])\n",
    "        count_f = len([w for w in x if w==f])\n",
    "        score_true = w_true + count_p * w_p_true + count_f * w_f_true\n",
    "        log_z = log(exp(score_true) + exp(0))\n",
    "#         print(count_p)\n",
    "#         print(count_f)\n",
    "#         print(log_z)\n",
    "        if y:\n",
    "            loss += score_true - log_z\n",
    "        else:\n",
    "            loss += 0 - log_z\n",
    "    return loss - l * (w_p_true * w_p_true + w_f_true * w_f_true + w_true * w_true)\n",
    "\n",
    "def jl(data, w_p_true, w_f_true, w_true, w_p_false, w_f_false, w_false):\n",
    "    loss = 0.0\n",
    "    for x,y in data:\n",
    "        count_p = len([w for w in x if w==p])\n",
    "        count_f = len([w for w in x if w==f])\n",
    "        score_true = w_true + count_p * w_p_true + count_f * w_f_true\n",
    "        score_false = w_false + count_p * w_p_false + count_f * w_f_false\n",
    "        if y:\n",
    "            loss += score_true\n",
    "        else:\n",
    "            loss += score_false\n",
    "    return loss \n",
    "\n",
    "\n",
    "# cl(data,log(0.5),log(0.5),log(0.5))\n",
    "\n",
    "import matplotlib.pyplot as plt\n",
    "import mpld3\n",
    "import numpy as np\n",
    "\n",
    "# x = np.linspace(-10, 10, 100)\n",
    "# cl_loss = np.vectorize(lambda w: cl(data,w,log(0.5),log(0.5),1))"
   ]
  },
  {
   "cell_type": "markdown",
   "metadata": {
    "slideshow": {
     "slide_type": "slide"
    }
   },
   "source": [
    "Consider a log-linear model\n",
    "$$\n",
    "\\mathbf{f}(\\x) = \n",
    "\\begin{bmatrix}\n",
    "           \\counts{\\x}{\\text{Pulp}} \\\\\n",
    "           \\counts{\\x}{\\text{Fiction}} \\\\\n",
    "           1\n",
    "         \\end{bmatrix}\n",
    "$$\n",
    "\n",
    "and loss on the following data:"
   ]
  },
  {
   "cell_type": "code",
   "execution_count": 29,
   "metadata": {
    "slideshow": {
     "slide_type": "subslide"
    }
   },
   "outputs": [
    {
     "data": {
      "text/html": [
       "<div>\n",
       "<style scoped>\n",
       "    .dataframe tbody tr th:only-of-type {\n",
       "        vertical-align: middle;\n",
       "    }\n",
       "\n",
       "    .dataframe tbody tr th {\n",
       "        vertical-align: top;\n",
       "    }\n",
       "\n",
       "    .dataframe thead th {\n",
       "        text-align: right;\n",
       "    }\n",
       "</style>\n",
       "<table border=\"1\" class=\"dataframe\">\n",
       "  <thead>\n",
       "    <tr style=\"text-align: right;\">\n",
       "      <th></th>\n",
       "      <th>x</th>\n",
       "      <th>y</th>\n",
       "    </tr>\n",
       "  </thead>\n",
       "  <tbody>\n",
       "    <tr>\n",
       "      <th>0</th>\n",
       "      <td>(Pulp, Fiction)</td>\n",
       "      <td>True</td>\n",
       "    </tr>\n",
       "    <tr>\n",
       "      <th>1</th>\n",
       "      <td>(Pulp, Fiction)</td>\n",
       "      <td>True</td>\n",
       "    </tr>\n",
       "    <tr>\n",
       "      <th>2</th>\n",
       "      <td>(Pulp, Fiction)</td>\n",
       "      <td>True</td>\n",
       "    </tr>\n",
       "    <tr>\n",
       "      <th>3</th>\n",
       "      <td>(Fiction,)</td>\n",
       "      <td>False</td>\n",
       "    </tr>\n",
       "    <tr>\n",
       "      <th>4</th>\n",
       "      <td>(Fiction,)</td>\n",
       "      <td>False</td>\n",
       "    </tr>\n",
       "    <tr>\n",
       "      <th>5</th>\n",
       "      <td>(Pulp, Fiction)</td>\n",
       "      <td>False</td>\n",
       "    </tr>\n",
       "  </tbody>\n",
       "</table>\n",
       "</div>"
      ],
      "text/plain": [
       "                 x      y\n",
       "0  (Pulp, Fiction)   True\n",
       "1  (Pulp, Fiction)   True\n",
       "2  (Pulp, Fiction)   True\n",
       "3       (Fiction,)  False\n",
       "4       (Fiction,)  False\n",
       "5  (Pulp, Fiction)  False"
      ]
     },
     "execution_count": 29,
     "metadata": {},
     "output_type": "execute_result"
    }
   ],
   "source": [
    "import pandas as pd\n",
    "pd.DataFrame(data, columns = [\"x\",\"y\"])"
   ]
  },
  {
   "cell_type": "markdown",
   "metadata": {
    "slideshow": {
     "slide_type": "fragment"
    }
   },
   "source": [
    "What is $\\pnb(\\Pulp \\bar +)$?"
   ]
  },
  {
   "cell_type": "markdown",
   "metadata": {
    "slideshow": {
     "slide_type": "subslide"
    }
   },
   "source": [
    "Set $w_{\\Fiction,+}=\\log 0.5$ and $w_{+}=\\log 0.5$, \n",
    "vary \n",
    "\n",
    "$$\n",
    "\\prob(\\Pulp \\bar +) = \\exp(w_{\\Pulp,+})\n",
    "$$\n",
    "\n",
    "to show that increasing $w_{\\Pulp,+} > \\log(0.5)$ helps to improve the CL"
   ]
  },
  {
   "cell_type": "code",
   "execution_count": 30,
   "metadata": {
    "scrolled": true,
    "slideshow": {
     "slide_type": "subslide"
    }
   },
   "outputs": [
    {
     "data": {
      "text/plain": [
       "[<matplotlib.lines.Line2D at 0x7ff78ba9c588>]"
      ]
     },
     "execution_count": 30,
     "metadata": {},
     "output_type": "execute_result"
    },
    {
     "data": {
      "image/png": "[encoded data removed]",
      "text/plain": [
       "<matplotlib.figure.Figure at 0x7ff78b30d278>"
      ]
     },
     "metadata": {
      "filenames": {
       "image/png": "/Users/knf792/gits/nlp-course/nlp-book/_build/jupyter_execute/stat-nlp-book/chapters/doc_classify_slides_103_1.png"
      }
     },
     "output_type": "display_data"
    }
   ],
   "source": [
    "x = np.linspace(0.01, 20.0, 100)\n",
    "cl_loss = np.vectorize(lambda p: cl(data,log(p),log(0.5),log(0.5)))\n",
    "plt.plot(x, cl_loss(x))"
   ]
  },
  {
   "cell_type": "markdown",
   "metadata": {
    "slideshow": {
     "slide_type": "subslide"
    }
   },
   "source": [
    "Compare to the **joint likelihood** we optimised before:\n",
    "   \n",
    "$$\n",
    "\\sum_{(\\x,y) \\in \\train} \\log(\\prob_\\params(y,\\x))\n",
    "$$\n",
    "\n",
    "and see that MLE encourages $w=\\log(0.5)$"
   ]
  },
  {
   "cell_type": "code",
   "execution_count": 31,
   "metadata": {
    "slideshow": {
     "slide_type": "subslide"
    }
   },
   "outputs": [
    {
     "data": {
      "text/plain": [
       "[<matplotlib.lines.Line2D at 0x7ff78b8bda20>]"
      ]
     },
     "execution_count": 31,
     "metadata": {},
     "output_type": "execute_result"
    },
    {
     "data": {
      "image/png": "[encoded data removed]",
      "text/plain": [
       "<matplotlib.figure.Figure at 0x7ff78bacc2b0>"
      ]
     },
     "metadata": {
      "filenames": {
       "image/png": "/Users/knf792/gits/nlp-course/nlp-book/_build/jupyter_execute/stat-nlp-book/chapters/doc_classify_slides_105_1.png"
      }
     },
     "output_type": "display_data"
    }
   ],
   "source": [
    "x = np.linspace(0.01, 0.999, 100)\n",
    "jl_loss = np.vectorize(lambda p: jl(data,log(p),log(1-p),log(0.5),\n",
    "                                    log(0.1),log(0.9),log(0.5)))\n",
    "plt.plot(x, jl_loss(x)) # CHANGE to jl"
   ]
  },
  {
   "cell_type": "markdown",
   "metadata": {
    "slideshow": {
     "slide_type": "subslide"
    }
   },
   "source": [
    "### Other Objectives\n",
    "Other structured prediction losses replace $\\log Z_\\x$ with other terms:\n",
    "\n",
    "$$\n",
    "\\mathit{PERCEPTRON}(\\weights) = \\sum_{(\\x,y) \\in \\train} s_\\weights(\\x,y) - s_\\weights(\\x,y^*(\\x))\n",
    "$$\n",
    "\n",
    "where $y^*(\\x)=\\argmax_{y\\in\\Ys} s_\\weights(\\x,y)$ \n",
    "\n",
    "Aka **structured perceptron** loss!"
   ]
  },
  {
   "cell_type": "markdown",
   "metadata": {
    "slideshow": {
     "slide_type": "slide"
    }
   },
   "source": [
    "## Regularisation\n",
    "Estimating a log-linear models can lead to *overfitting*\n",
    "\n",
    "* For example, reviews of movies may often contain the **name** of the movie to reviewed.\n",
    "* False *killer feature*: only appears in one training instance \n",
    "* weight can be set in way that we get perfect accuracy on this instance "
   ]
  },
  {
   "cell_type": "markdown",
   "metadata": {
    "slideshow": {
     "slide_type": "subslide"
    }
   },
   "source": [
    "*regularise* the model by **penalising** large weights:\n",
    "\n",
    "* add a regularisation penalty to the training objective\n",
    "* For example,  $||\\weights||_2$ and $||\\weights||_1$, the L2 and L1 norm of the weight vector\n",
    "\n",
    "$$\n",
    "\\mathit{RCL}_C(\\weights) = \\sum_{(\\x,y) \\in \\train} \\log(\\prob_\\weights(y|\\x)) - \\frac{1}{C} ||\\weights||_2\n",
    "$$\n",
    "\n",
    "$C$ controls inverse strength of regularisation"
   ]
  },
  {
   "cell_type": "markdown",
   "metadata": {
    "slideshow": {
     "slide_type": "subslide"
    }
   },
   "source": [
    "Both L1 and L2 have their strength and weaknesses. \n",
    "* L1 regularisation can lead to sparse vectors with zero weights, and this can improve the memory footprint of your model. \n",
    "* L2 seems to often lead to [better results](http://www.csie.ntu.edu.tw/~cjlin/liblinear/FAQ.html#l1_regularized_classification). "
   ]
  },
  {
   "cell_type": "markdown",
   "metadata": {
    "slideshow": {
     "slide_type": "subslide"
    }
   },
   "source": [
    "Vary regularisation:"
   ]
  },
  {
   "cell_type": "code",
   "execution_count": 32,
   "metadata": {
    "scrolled": false,
    "slideshow": {
     "slide_type": "subslide"
    }
   },
   "outputs": [
    {
     "data": {
      "text/plain": [
       "[<matplotlib.lines.Line2D at 0x7ff78b74f4a8>]"
      ]
     },
     "execution_count": 32,
     "metadata": {},
     "output_type": "execute_result"
    },
    {
     "data": {
      "image/png": "[encoded data removed]",
      "text/plain": [
       "<matplotlib.figure.Figure at 0x7ff78b8efd30>"
      ]
     },
     "metadata": {
      "filenames": {
       "image/png": "/Users/knf792/gits/nlp-course/nlp-book/_build/jupyter_execute/stat-nlp-book/chapters/doc_classify_slides_111_1.png"
      }
     },
     "output_type": "display_data"
    }
   ],
   "source": [
    "x = np.linspace(0.01, 100.0, 100)\n",
    "C = 10000.0\n",
    "cl_loss = np.vectorize(lambda p: cl(data,log(p),log(0.5),log(0.5),1/C))\n",
    "plt.plot(x, cl_loss(x))"
   ]
  },
  {
   "cell_type": "markdown",
   "metadata": {
    "slideshow": {
     "slide_type": "subslide"
    }
   },
   "source": [
    "Can be understood as maximum-a-posteriori inference of the parameters under [specific priors](http://www.stat.columbia.edu/~gelman/research/published/priors11.pdf) for weights\n",
    "\n",
    "For example, L2 regularisation assumes a Gaussian prior.  "
   ]
  },
  {
   "cell_type": "markdown",
   "metadata": {
    "slideshow": {
     "slide_type": "slide"
    }
   },
   "source": [
    "## Optimising the Conditional Loglikelihood\n",
    "No closed form solution, use **iterative methods** such as \n",
    "\n",
    "* (Stochastic) Gradient Descent\n",
    "* L-BFGS (quasi-Newton)"
   ]
  },
  {
   "cell_type": "markdown",
   "metadata": {
    "slideshow": {
     "slide_type": "subslide"
    }
   },
   "source": [
    "\"Easy\" because **concave** in weights $\\weights$"
   ]
  },
  {
   "cell_type": "code",
   "execution_count": 33,
   "metadata": {
    "scrolled": true,
    "slideshow": {
     "slide_type": "subslide"
    }
   },
   "outputs": [
    {
     "data": {
      "text/plain": [
       "[<matplotlib.lines.Line2D at 0x7ff78b6ad400>]"
      ]
     },
     "execution_count": 33,
     "metadata": {},
     "output_type": "execute_result"
    },
    {
     "data": {
      "image/png": "[encoded data removed]",
      "text/plain": [
       "<matplotlib.figure.Figure at 0x7ff78b6caba8>"
      ]
     },
     "metadata": {
      "filenames": {
       "image/png": "/Users/knf792/gits/nlp-course/nlp-book/_build/jupyter_execute/stat-nlp-book/chapters/doc_classify_slides_115_1.png"
      }
     },
     "output_type": "display_data"
    }
   ],
   "source": [
    "x = np.linspace(-10, 10, 100)\n",
    "C = 1\n",
    "cl_loss = np.vectorize(lambda w: cl(data,w,log(0.5),log(0.5),1/C))\n",
    "plt.plot(x, cl_loss(x)) "
   ]
  },
  {
   "cell_type": "markdown",
   "metadata": {
    "slideshow": {
     "slide_type": "subslide"
    }
   },
   "source": [
    "Can we characterise the optimum?"
   ]
  },
  {
   "cell_type": "code",
   "execution_count": 34,
   "metadata": {
    "slideshow": {
     "slide_type": "skip"
    }
   },
   "outputs": [],
   "source": [
    "def prob_log_reg(x, w_p_true,  w_f_true, w_true):\n",
    "    count_p = len([w for w in x if w==p])\n",
    "    count_f = len([w for w in x if w==f])\n",
    "    score_true = w_true + count_p * w_p_true + count_f * w_f_true\n",
    "    log_z = log(exp(score_true) + exp(0))\n",
    "    return exp(score_true - log_z)\n",
    "\n",
    "def indi(pred, value=1.0):\n",
    "    return value if pred else 0.0\n",
    "\n",
    "def expectations(data, w_p_true,  w_f_true, w_true):   \n",
    "    data_probs = [(x,\n",
    "                   indi(y),\n",
    "                   prob_log_reg(x,w_p_true,w_f_true,w_true),\n",
    "                   indi(p in x and y),\n",
    "                   indi(p in x, prob_log_reg(x,w_p_true,w_f_true,w_true)),\n",
    "                   indi(f in x and y),\n",
    "                   indi(f in x, prob_log_reg(x,w_p_true,w_f_true,w_true)),\n",
    "                   cl([(x,y)],w_p_true,w_f_true,w_true)) \n",
    "                  for x,y in data]\n",
    "    last_row = [('[Avg]',\n",
    "                 sum(data[1] for data in data_probs)/6,\n",
    "                 sum(data[2] for data in data_probs)/6,\n",
    "                 sum(data[3] for data in data_probs)/6,\n",
    "                 sum(data[4] for data in data_probs)/6,\n",
    "                 sum(data[5] for data in data_probs)/6,\n",
    "                 sum(data[6] for data in data_probs)/6,\n",
    "                 sum(data[7] for data in data_probs)/6\n",
    "                )]\n",
    "    return pd.DataFrame(data_probs + last_row, columns = ['x','y','p(+)','#(Pulp) * p_data(+)','#(Pulp) * p(+)', \n",
    "                                                          '#(Fiction) * p_data(+)','#(Fiction) * p(+)','CL'])\n",
    "    "
   ]
  },
  {
   "cell_type": "code",
   "execution_count": 35,
   "metadata": {},
   "outputs": [
    {
     "data": {
      "text/html": [
       "<div>\n",
       "<style scoped>\n",
       "    .dataframe tbody tr th:only-of-type {\n",
       "        vertical-align: middle;\n",
       "    }\n",
       "\n",
       "    .dataframe tbody tr th {\n",
       "        vertical-align: top;\n",
       "    }\n",
       "\n",
       "    .dataframe thead th {\n",
       "        text-align: right;\n",
       "    }\n",
       "</style>\n",
       "<table border=\"1\" class=\"dataframe\">\n",
       "  <thead>\n",
       "    <tr style=\"text-align: right;\">\n",
       "      <th></th>\n",
       "      <th>x</th>\n",
       "      <th>y</th>\n",
       "      <th>p(+)</th>\n",
       "      <th>#(Pulp) * p_data(+)</th>\n",
       "      <th>#(Pulp) * p(+)</th>\n",
       "      <th>#(Fiction) * p_data(+)</th>\n",
       "      <th>#(Fiction) * p(+)</th>\n",
       "      <th>CL</th>\n",
       "    </tr>\n",
       "  </thead>\n",
       "  <tbody>\n",
       "    <tr>\n",
       "      <th>0</th>\n",
       "      <td>(Pulp, Fiction)</td>\n",
       "      <td>1.0</td>\n",
       "      <td>0.750260</td>\n",
       "      <td>1.0</td>\n",
       "      <td>0.750260</td>\n",
       "      <td>1.0</td>\n",
       "      <td>0.750260</td>\n",
       "      <td>-0.287335</td>\n",
       "    </tr>\n",
       "    <tr>\n",
       "      <th>1</th>\n",
       "      <td>(Pulp, Fiction)</td>\n",
       "      <td>1.0</td>\n",
       "      <td>0.750260</td>\n",
       "      <td>1.0</td>\n",
       "      <td>0.750260</td>\n",
       "      <td>1.0</td>\n",
       "      <td>0.750260</td>\n",
       "      <td>-0.287335</td>\n",
       "    </tr>\n",
       "    <tr>\n",
       "      <th>2</th>\n",
       "      <td>(Pulp, Fiction)</td>\n",
       "      <td>1.0</td>\n",
       "      <td>0.750260</td>\n",
       "      <td>1.0</td>\n",
       "      <td>0.750260</td>\n",
       "      <td>1.0</td>\n",
       "      <td>0.750260</td>\n",
       "      <td>-0.287335</td>\n",
       "    </tr>\n",
       "    <tr>\n",
       "      <th>3</th>\n",
       "      <td>(Fiction,)</td>\n",
       "      <td>0.0</td>\n",
       "      <td>0.000136</td>\n",
       "      <td>0.0</td>\n",
       "      <td>0.000000</td>\n",
       "      <td>0.0</td>\n",
       "      <td>0.000136</td>\n",
       "      <td>-0.000136</td>\n",
       "    </tr>\n",
       "    <tr>\n",
       "      <th>4</th>\n",
       "      <td>(Fiction,)</td>\n",
       "      <td>0.0</td>\n",
       "      <td>0.000136</td>\n",
       "      <td>0.0</td>\n",
       "      <td>0.000000</td>\n",
       "      <td>0.0</td>\n",
       "      <td>0.000136</td>\n",
       "      <td>-0.000136</td>\n",
       "    </tr>\n",
       "    <tr>\n",
       "      <th>5</th>\n",
       "      <td>(Pulp, Fiction)</td>\n",
       "      <td>0.0</td>\n",
       "      <td>0.750260</td>\n",
       "      <td>0.0</td>\n",
       "      <td>0.750260</td>\n",
       "      <td>0.0</td>\n",
       "      <td>0.750260</td>\n",
       "      <td>-1.387335</td>\n",
       "    </tr>\n",
       "    <tr>\n",
       "      <th>6</th>\n",
       "      <td>[Avg]</td>\n",
       "      <td>0.5</td>\n",
       "      <td>0.500219</td>\n",
       "      <td>0.5</td>\n",
       "      <td>0.500173</td>\n",
       "      <td>0.5</td>\n",
       "      <td>0.500219</td>\n",
       "      <td>-0.374936</td>\n",
       "    </tr>\n",
       "  </tbody>\n",
       "</table>\n",
       "</div>"
      ],
      "text/plain": [
       "                 x    y      p(+)  #(Pulp) * p_data(+)  #(Pulp) * p(+)  \\\n",
       "0  (Pulp, Fiction)  1.0  0.750260                  1.0        0.750260   \n",
       "1  (Pulp, Fiction)  1.0  0.750260                  1.0        0.750260   \n",
       "2  (Pulp, Fiction)  1.0  0.750260                  1.0        0.750260   \n",
       "3       (Fiction,)  0.0  0.000136                  0.0        0.000000   \n",
       "4       (Fiction,)  0.0  0.000136                  0.0        0.000000   \n",
       "5  (Pulp, Fiction)  0.0  0.750260                  0.0        0.750260   \n",
       "6            [Avg]  0.5  0.500219                  0.5        0.500173   \n",
       "\n",
       "   #(Fiction) * p_data(+)  #(Fiction) * p(+)        CL  \n",
       "0                     1.0           0.750260 -0.287335  \n",
       "1                     1.0           0.750260 -0.287335  \n",
       "2                     1.0           0.750260 -0.287335  \n",
       "3                     0.0           0.000136 -0.000136  \n",
       "4                     0.0           0.000136 -0.000136  \n",
       "5                     0.0           0.750260 -1.387335  \n",
       "6                     0.5           0.500219 -0.374936  "
      ]
     },
     "execution_count": 35,
     "metadata": {},
     "output_type": "execute_result"
    }
   ],
   "source": [
    "expectations(data, w_p_true=10, w_f_true=-10, w_true=1.1) "
   ]
  },
  {
   "cell_type": "markdown",
   "metadata": {
    "slideshow": {
     "slide_type": "subslide"
    }
   },
   "source": [
    "### Expectations Match: Why? \n",
    "\n",
    "Let's look at the $\\mathit{CL}$ gradient:\n",
    "\n",
    "\\begin{split}\n",
    "  \\nabla_{\\weights_{y'}} CL(\\params) &=  \\sum_{(\\x,y) \\in \\train} \\mathbf{f}(\\x) \\delta(y,y') - p_\\params(y'|\\x) \\mathbf{f}(\\x) \\\\\\\\ &= \\sum_{(\\x,y) \\in \\train} \\mathbf{f}(\\x) \\delta(y,y') - \\sum_{(\\x,y) \\in \\train} p_\\params(y'|\\x) \\mathbf{f}(\\x).\n",
    "\\end{split}"
   ]
  },
  {
   "cell_type": "markdown",
   "metadata": {
    "slideshow": {
     "slide_type": "subslide"
    }
   },
   "source": [
    "Solution $\\weights^*$ when this gradient is zero:\n",
    "\n",
    "* **empirical** expectations $\\sum_{(\\x,y) \\in \\train} \\mathbf{f}(\\x) \\delta(y,y')$ for class $y'$ \n",
    "\n",
    "match \n",
    "\n",
    "* **model** expectations $\\sum_{(\\x,y) \\in \\train} p_\\params(y'|\\x) \\mathbf{f}(\\x)$\n"
   ]
  },
  {
   "cell_type": "markdown",
   "metadata": {
    "slideshow": {
     "slide_type": "subslide"
    }
   },
   "source": [
    "## Maximum Entropy Models\n",
    "In fact, the Conditional Likelihood solution is the **unique distribution** that\n",
    "\n",
    "* **Matches empirical expectations** of features\n",
    "* Has **maximal entropy** (most ignorant)"
   ]
  },
  {
   "cell_type": "markdown",
   "metadata": {
    "slideshow": {
     "slide_type": "subslide"
    }
   },
   "source": [
    "### How to Find Optimum?\n",
    "\n",
    "In practice one of the following:\n",
    "* implement both optimisation and gradient calculation\n",
    "* use off-the-shelf gradient descent library, provide the gradients (Example: [factorie](http://factorie.cs.umass.edu/), [scipy](https://www.scipy.org/))\n",
    "* You have a back-propagation framework (such as Tensorflow) \n",
    "* You have a library (such as scikit-learn) for a specific model class \n",
    "\n",
    "Here: [scikit-learn](http://scikit-learn.org/)\n"
   ]
  },
  {
   "cell_type": "markdown",
   "metadata": {
    "slideshow": {
     "slide_type": "slide"
    }
   },
   "source": [
    "## Logistic Regression Toolkits\n",
    "A log-linear model trained by maximising the CL corresponds to training a **logistic regression** model"
   ]
  },
  {
   "cell_type": "markdown",
   "metadata": {
    "slideshow": {
     "slide_type": "fragment"
    }
   },
   "source": [
    "[logistic regression](http://scikit-learn.org/stable/modules/generated/sklearn.linear_model.LogisticRegression.html) implementation of [scikit-learn](http://scikit-learn.org/stable/index.html)"
   ]
  },
  {
   "cell_type": "markdown",
   "metadata": {
    "slideshow": {
     "slide_type": "subslide"
    }
   },
   "source": [
    "Convert $\\x \\in \\Xs$ to a (sparse) feature vector $\\mathbf{f}(\\x)$:"
   ]
  },
  {
   "cell_type": "code",
   "execution_count": 36,
   "metadata": {
    "slideshow": {
     "slide_type": "fragment"
    }
   },
   "outputs": [
    {
     "data": {
      "text/plain": [
       "defaultdict(float, {'fiction': 2.0, 'pulp': 1.0})"
      ]
     },
     "execution_count": 36,
     "metadata": {},
     "output_type": "execute_result"
    }
   ],
   "source": [
    "def feats(x):\n",
    "    result = defaultdict(float)\n",
    "    for w in x:\n",
    "        result[w] += 1.0\n",
    "    return result\n",
    "\n",
    "feats(['pulp','fiction','fiction'])"
   ]
  },
  {
   "cell_type": "markdown",
   "metadata": {
    "slideshow": {
     "slide_type": "subslide"
    }
   },
   "source": [
    "Apply to training and test instances:"
   ]
  },
  {
   "cell_type": "code",
   "execution_count": 37,
   "metadata": {
    "slideshow": {
     "slide_type": "fragment"
    }
   },
   "outputs": [
    {
     "data": {
      "text/plain": [
       "<200x45329 sparse matrix of type '<class 'numpy.float64'>'\n",
       "\twith 52209 stored elements in Compressed Sparse Row format>"
      ]
     },
     "execution_count": 37,
     "metadata": {},
     "output_type": "execute_result"
    }
   ],
   "source": [
    "from sklearn.feature_extraction import DictVectorizer\n",
    "vectorizer = DictVectorizer()\n",
    "\n",
    "train_X = vectorizer.fit_transform([feats(x) for x,_ in train_filtered])\n",
    "dev_X = vectorizer.transform([feats(x) for x,_ in dev_filtered])\n",
    "dev_X"
   ]
  },
  {
   "cell_type": "markdown",
   "metadata": {
    "slideshow": {
     "slide_type": "subslide"
    }
   },
   "source": [
    "scikit-learn prefers numbers as classes:\n",
    "\n",
    "* $\\text{positive}\\rightarrow 0$\n",
    "* $\\text{negative}\\rightarrow 1$"
   ]
  },
  {
   "cell_type": "code",
   "execution_count": 38,
   "metadata": {
    "slideshow": {
     "slide_type": "fragment"
    }
   },
   "outputs": [
    {
     "data": {
      "text/plain": [
       "array([1, 1, 0, 0, 0, 1, 0, 0, 1, 1])"
      ]
     },
     "execution_count": 38,
     "metadata": {},
     "output_type": "execute_result"
    }
   ],
   "source": [
    "from sklearn.preprocessing import LabelEncoder\n",
    "label_encoder = LabelEncoder()\n",
    "\n",
    "train_Y = label_encoder.fit_transform([y for _,y in train_filtered])\n",
    "dev_Y = label_encoder.transform([y for _,y in dev_filtered])\n",
    "\n",
    "dev_Y[:10] "
   ]
  },
  {
   "cell_type": "markdown",
   "metadata": {
    "slideshow": {
     "slide_type": "subslide"
    }
   },
   "source": [
    "Train the logistic regression with l1 regularisation $C=1000$"
   ]
  },
  {
   "cell_type": "code",
   "execution_count": 39,
   "metadata": {
    "slideshow": {
     "slide_type": "fragment"
    }
   },
   "outputs": [
    {
     "data": {
      "text/plain": [
       "LogisticRegression(C=1000, penalty='l1', random_state=1, solver='liblinear')"
      ]
     },
     "execution_count": 39,
     "metadata": {},
     "output_type": "execute_result"
    }
   ],
   "source": [
    "from sklearn.linear_model import LogisticRegression\n",
    "import numpy as np\n",
    "\n",
    "lr = LogisticRegression(C=1000, penalty=\"l1\", random_state=1, solver='liblinear')\n",
    "lr.fit(train_X, train_Y)"
   ]
  },
  {
   "cell_type": "markdown",
   "metadata": {
    "slideshow": {
     "slide_type": "subslide"
    }
   },
   "source": [
    "Weights learned:\n",
    "* single weight vector $\\weights=\\weights_\\text{positive} - \\weights_\\text{negative}$"
   ]
  },
  {
   "cell_type": "code",
   "execution_count": 40,
   "metadata": {
    "slideshow": {
     "slide_type": "subslide"
    }
   },
   "outputs": [
    {
     "data": {
      "image/png": "[encoded data removed]",
      "text/plain": [
       "<matplotlib.figure.Figure at 0x7ff787e48fd0>"
      ]
     },
     "metadata": {
      "filenames": {
       "image/png": "/Users/knf792/gits/nlp-course/nlp-book/_build/jupyter_execute/stat-nlp-book/chapters/doc_classify_slides_134_0.png"
      }
     },
     "output_type": "display_data"
    }
   ],
   "source": [
    "weights = vectorizer.inverse_transform(lr.coef_)[0]\n",
    "sorted_weights = sorted(weights.items(), key=lambda t: t[1])\n",
    "util.plot_bar_graph([w for _,w in sorted_weights[:20]],\n",
    "                    [f for f,_ in sorted_weights[:20]],rotation=45)"
   ]
  },
  {
   "cell_type": "markdown",
   "metadata": {
    "slideshow": {
     "slide_type": "subslide"
    }
   },
   "source": [
    "More obvious **discriminative** features for the negative class \n",
    "\n",
    "* Conditional log-likelihood down-weighs a feature $f_i$ for $y=-$ \n",
    "    * if $f_i$ is active in $\\x$\n",
    "    * but gold label is $y=+$\n",
    "\n"
   ]
  },
  {
   "cell_type": "markdown",
   "metadata": {
    "slideshow": {
     "slide_type": "subslide"
    }
   },
   "source": [
    "Positive weights? "
   ]
  },
  {
   "cell_type": "code",
   "execution_count": 41,
   "metadata": {
    "slideshow": {
     "slide_type": "fragment"
    }
   },
   "outputs": [
    {
     "data": {
      "image/png": "[encoded data removed]",
      "text/plain": [
       "<matplotlib.figure.Figure at 0x7ff7b0d86ba8>"
      ]
     },
     "metadata": {
      "filenames": {
       "image/png": "/Users/knf792/gits/nlp-course/nlp-book/_build/jupyter_execute/stat-nlp-book/chapters/doc_classify_slides_137_0.png"
      }
     },
     "output_type": "display_data"
    }
   ],
   "source": [
    "util.plot_bar_graph([w for _,w in sorted_weights[-20:]],\n",
    "                    [f for f,_ in sorted_weights[-20:]],rotation=45)"
   ]
  },
  {
   "cell_type": "markdown",
   "metadata": {
    "slideshow": {
     "slide_type": "subslide"
    }
   },
   "source": [
    "Discriminative training helps! \n",
    "\n",
    "(Compare 0.82 with unigram model before)"
   ]
  },
  {
   "cell_type": "code",
   "execution_count": 42,
   "metadata": {
    "slideshow": {
     "slide_type": "fragment"
    }
   },
   "outputs": [
    {
     "data": {
      "text/plain": [
       "0.81"
      ]
     },
     "execution_count": 42,
     "metadata": {},
     "output_type": "execute_result"
    }
   ],
   "source": [
    "lr = LogisticRegression(C=1000, penalty=\"l2\",random_state=1, tol=0.00001, solver='liblinear')\n",
    "lr.fit(train_X, train_Y)\n",
    "lr_guess = label_encoder.inverse_transform(lr.predict(dev_X))\n",
    "accuracy(dev_filtered, lr_guess)"
   ]
  },
  {
   "cell_type": "markdown",
   "metadata": {
    "slideshow": {
     "slide_type": "slide"
    }
   },
   "source": [
    "## Summary\n",
    "\n",
    "* NB Bayes effective text classifier\n",
    "* Makes independence assumptions that can be violated\n",
    "* Compensate with more complex models or\n",
    "* Training **discriminatively**\n",
    "* Increase relative/conditional probability of classes, not joint probability"
   ]
  },
  {
   "cell_type": "markdown",
   "metadata": {
    "slideshow": {
     "slide_type": "subslide"
    }
   },
   "source": [
    "## Background Material\n",
    "* [Tackling the Poor Assumptions of Naive Bayes Text Classifiers](https://people.csail.mit.edu/jrennie/papers/icml03-nb.pdf), Rennie et al, ICML 2003 \n",
    "* [Baselines and Bigrams: Simple, Good Sentiment and Topic Classification](https://www.aclweb.org/anthology/P12-2018), Sida Wang and Christopher D. Manning, ACL 2012 \n",
    "* [Thumbs up? Sentiment Classification using Machine Learning\n",
    "Techniques](http://www.cs.cornell.edu/home/llee/papers/sentiment.pdf), Bo Pang, Lillian Lee and Shivakumar Vaithyanathan, EMNLP 2002\n",
    "* Jurafsky & Martin, [Speech and Language Processing (Third Edition)](https://web.stanford.edu/~jurafsky/slp3/ed3book.pdf): Chapter 4, Naive Bayes and Sentiment Classification + Chapter 5, Logistic Regression\n",
    "* Statistical NLP Book, lecture notes on [Maximum Likelihood Estimation](https://github.com/copenlu/stat-nlp-book/blob/master/chapters/mle.ipynb)"
   ]
  },
  {
   "cell_type": "code",
   "execution_count": null,
   "metadata": {},
   "outputs": [],
   "source": []
  }
 ],
 "metadata": {
  "celltoolbar": "Slideshow",
  "kernelspec": {
   "display_name": "Python 3 (ipykernel)",
   "language": "python",
   "name": "python3"
  },
  "language_info": {
   "codemirror_mode": {
    "name": "ipython",
    "version": 3
   },
   "file_extension": ".py",
   "mimetype": "text/x-python",
   "name": "python",
   "nbconvert_exporter": "python",
   "pygments_lexer": "ipython3",
   "version": "3.10.4"
  }
 },
 "nbformat": 4,
 "nbformat_minor": 1
}