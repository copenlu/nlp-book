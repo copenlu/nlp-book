{
 "cells": [
  {
   "cell_type": "code",
   "execution_count": 1,
   "metadata": {
    "slideshow": {
     "slide_type": "skip"
    }
   },
   "outputs": [
    {
     "data": {
      "text/html": [
       "<script>\n",
       "  function code_toggle() {\n",
       "    if (code_shown){\n",
       "      $('div.input').hide('500');\n",
       "      $('#toggleButton').val('Show Code')\n",
       "    } else {\n",
       "      $('div.input').show('500');\n",
       "      $('#toggleButton').val('Hide Code')\n",
       "    }\n",
       "    code_shown = !code_shown\n",
       "  }\n",
       "\n",
       "  $( document ).ready(function(){\n",
       "    code_shown=false;\n",
       "    $('div.input').hide()\n",
       "  });\n",
       "</script>\n",
       "<form action=\"javascript:code_toggle()\"><input type=\"submit\" id=\"toggleButton\" value=\"Show Code\"></form>\n"
      ],
      "text/plain": [
       "<IPython.core.display.HTML object>"
      ]
     },
     "metadata": {},
     "output_type": "display_data"
    }
   ],
   "source": [
    "%%html\n",
    "<script>\n",
    "  function code_toggle() {\n",
    "    if (code_shown){\n",
    "      $('div.input').hide('500');\n",
    "      $('#toggleButton').val('Show Code')\n",
    "    } else {\n",
    "      $('div.input').show('500');\n",
    "      $('#toggleButton').val('Hide Code')\n",
    "    }\n",
    "    code_shown = !code_shown\n",
    "  }\n",
    "\n",
    "  $( document ).ready(function(){\n",
    "    code_shown=false;\n",
    "    $('div.input').hide()\n",
    "  });\n",
    "</script>\n",
    "<form action=\"javascript:code_toggle()\"><input type=\"submit\" id=\"toggleButton\" value=\"Show Code\"></form>"
   ]
  },
  {
   "cell_type": "code",
   "execution_count": 2,
   "metadata": {
    "slideshow": {
     "slide_type": "skip"
    }
   },
   "outputs": [
    {
     "ename": "ModuleNotFoundError",
     "evalue": "No module named 'mpld3'",
     "output_type": "error",
     "traceback": [
      "\u001b[0;31m---------------------------------------------------------------------------\u001b[0m",
      "\u001b[0;31mModuleNotFoundError\u001b[0m                       Traceback (most recent call last)",
      "Input \u001b[0;32mIn [2]\u001b[0m, in \u001b[0;36m<cell line: 5>\u001b[0;34m()\u001b[0m\n\u001b[1;32m      3\u001b[0m \u001b[38;5;28;01mimport\u001b[39;00m \u001b[38;5;21;01msys\u001b[39;00m\n\u001b[1;32m      4\u001b[0m sys\u001b[38;5;241m.\u001b[39mpath\u001b[38;5;241m.\u001b[39mappend(\u001b[38;5;124m\"\u001b[39m\u001b[38;5;124m..\u001b[39m\u001b[38;5;124m\"\u001b[39m)\n\u001b[0;32m----> 5\u001b[0m \u001b[38;5;28;01mimport\u001b[39;00m \u001b[38;5;21;01mstatnlpbook\u001b[39;00m\u001b[38;5;21;01m.\u001b[39;00m\u001b[38;5;21;01mutil\u001b[39;00m \u001b[38;5;28;01mas\u001b[39;00m \u001b[38;5;21;01mutil\u001b[39;00m\n\u001b[1;32m      6\u001b[0m \u001b[38;5;28;01mimport\u001b[39;00m \u001b[38;5;21;01mstatnlpbook\u001b[39;00m\u001b[38;5;21;01m.\u001b[39;00m\u001b[38;5;21;01mparsing\u001b[39;00m \u001b[38;5;28;01mas\u001b[39;00m \u001b[38;5;21;01mparsing\u001b[39;00m\n\u001b[1;32m      7\u001b[0m util\u001b[38;5;241m.\u001b[39mexecute_notebook(\u001b[38;5;124m'\u001b[39m\u001b[38;5;124mparsing.ipynb\u001b[39m\u001b[38;5;124m'\u001b[39m)\n",
      "File \u001b[0;32m~/gits/nlp-course/nlp-book/stat-nlp-book/chapters/../statnlpbook/util.py:47\u001b[0m, in \u001b[0;36m<module>\u001b[0;34m\u001b[0m\n\u001b[1;32m     43\u001b[0m             \u001b[38;5;28;01mfor\u001b[39;00m head \u001b[38;5;129;01min\u001b[39;00m lists[\u001b[38;5;241m0\u001b[39m]:\n\u001b[1;32m     44\u001b[0m                 \u001b[38;5;28;01myield\u001b[39;00m (head,) \u001b[38;5;241m+\u001b[39m prev_tuple\n\u001b[0;32m---> 47\u001b[0m \u001b[38;5;28;01mimport\u001b[39;00m \u001b[38;5;21;01mmpld3\u001b[39;00m\n\u001b[1;32m     50\u001b[0m \u001b[38;5;28;01mdef\u001b[39;00m \u001b[38;5;21mplot_bar_graph\u001b[39m(values, labels, rotation\u001b[38;5;241m=\u001b[39m\u001b[38;5;241m0\u001b[39m, align\u001b[38;5;241m=\u001b[39m\u001b[38;5;124m'\u001b[39m\u001b[38;5;124mcenter\u001b[39m\u001b[38;5;124m'\u001b[39m, use_mpld3\u001b[38;5;241m=\u001b[39m\u001b[38;5;28;01mFalse\u001b[39;00m):\n\u001b[1;32m     51\u001b[0m     \u001b[38;5;124;03m\"\"\"\u001b[39;00m\n\u001b[1;32m     52\u001b[0m \u001b[38;5;124;03m    Plots a bar graph.\u001b[39;00m\n\u001b[1;32m     53\u001b[0m \u001b[38;5;124;03m    Args:\u001b[39;00m\n\u001b[0;32m   (...)\u001b[0m\n\u001b[1;32m     61\u001b[0m \n\u001b[1;32m     62\u001b[0m \u001b[38;5;124;03m    \"\"\"\u001b[39;00m\n",
      "\u001b[0;31mModuleNotFoundError\u001b[0m: No module named 'mpld3'"
     ]
    }
   ],
   "source": [
    "%%capture\n",
    "%load_ext autoreload\n",
    "%autoreload 2\n",
    "import sys\n",
    "sys.path.append(\"..\")\n",
    "import statnlpbook.util as util\n",
    "import statnlpbook.parsing as parsing\n",
    "util.execute_notebook('parsing.ipynb')"
   ]
  },
  {
   "cell_type": "markdown",
   "metadata": {
    "slideshow": {
     "slide_type": "skip"
    }
   },
   "source": [
    "<!---\n",
    "Latex Macros\n",
    "-->\n",
    "$$\n",
    "\\newcommand{\\Xs}{\\mathcal{X}}\n",
    "\\newcommand{\\Ys}{\\mathcal{Y}}\n",
    "\\newcommand{\\y}{\\mathbf{y}}\n",
    "\\newcommand{\\balpha}{\\boldsymbol{\\alpha}}\n",
    "\\newcommand{\\bbeta}{\\boldsymbol{\\beta}}\n",
    "\\newcommand{\\aligns}{\\mathbf{a}}\n",
    "\\newcommand{\\align}{a}\n",
    "\\newcommand{\\source}{\\mathbf{s}}\n",
    "\\newcommand{\\target}{\\mathbf{t}}\n",
    "\\newcommand{\\ssource}{s}\n",
    "\\newcommand{\\starget}{t}\n",
    "\\newcommand{\\repr}{\\mathbf{f}}\n",
    "\\newcommand{\\repry}{\\mathbf{g}}\n",
    "\\newcommand{\\x}{\\mathbf{x}}\n",
    "\\newcommand{\\prob}{p}\n",
    "\\newcommand{\\a}{\\alpha}\n",
    "\\newcommand{\\b}{\\beta}\n",
    "\\newcommand{\\vocab}{V}\n",
    "\\newcommand{\\params}{\\boldsymbol{\\theta}}\n",
    "\\newcommand{\\param}{\\theta}\n",
    "\\DeclareMathOperator{\\perplexity}{PP}\n",
    "\\DeclareMathOperator{\\argmax}{argmax}\n",
    "\\DeclareMathOperator{\\argmin}{argmin}\n",
    "\\newcommand{\\train}{\\mathcal{D}}\n",
    "\\newcommand{\\counts}[2]{\\#_{#1}(#2) }\n",
    "\\newcommand{\\length}[1]{\\text{length}(#1) }\n",
    "\\newcommand{\\indi}{\\mathbb{I}}\n",
    "$$"
   ]
  },
  {
   "cell_type": "markdown",
   "metadata": {
    "slideshow": {
     "slide_type": "slide"
    }
   },
   "source": [
    "# Parsing"
   ]
  },
  {
   "cell_type": "code",
   "execution_count": 3,
   "metadata": {
    "slideshow": {
     "slide_type": "skip"
    }
   },
   "outputs": [
    {
     "data": {
      "text/html": [
       "<style>\n",
       "td,th {\n",
       "    font-size: x-large;\n",
       "    text-align: left;\n",
       "}\n",
       "</style>\n"
      ],
      "text/plain": [
       "<IPython.core.display.HTML object>"
      ]
     },
     "metadata": {},
     "output_type": "display_data"
    }
   ],
   "source": [
    "%%HTML\n",
    "<style>\n",
    "td,th {\n",
    "    font-size: x-large;\n",
    "    text-align: left;\n",
    "}\n",
    "</style>"
   ]
  },
  {
   "cell_type": "markdown",
   "metadata": {
    "slideshow": {
     "slide_type": "slide"
    }
   },
   "source": [
    "##  Motivation \n",
    "\n",
    "Say want to automatically build a database of this form\n",
    "\n",
    "| Brand   | Parent    |\n",
    "|---------|-----------|\n",
    "| KitKat  | Nestle    |\n",
    "| Lipton  | Unilever  |  \n",
    "| ...     | ...       |  \n",
    "\n",
    "or this [graph](http://geekologie.com/image.php?path=/2012/04/25/parent-companies-large.jpg)"
   ]
  },
  {
   "cell_type": "markdown",
   "metadata": {
    "slideshow": {
     "slide_type": "subslide"
    }
   },
   "source": [
    "Say you find positive textual mentions in this form:\n",
    "\n",
    "> <font color=\"blue\">Dechra Pharmaceuticals</font> has made its second acquisition after purchasing <font color=\"green\">Genitrix</font>."
   ]
  },
  {
   "cell_type": "markdown",
   "metadata": {
    "slideshow": {
     "slide_type": "fragment"
    }
   },
   "source": [
    "\n",
    "> <font color=\"blue\">Trinity Mirror plc</font> is the largest British newspaper after purchasing rival <font color=\"green\">Local World</font>."
   ]
  },
  {
   "cell_type": "markdown",
   "metadata": {
    "slideshow": {
     "slide_type": "fragment"
    }
   },
   "source": [
    "Can you find a pattern? "
   ]
  },
  {
   "cell_type": "markdown",
   "metadata": {
    "slideshow": {
     "slide_type": "subslide"
    }
   },
   "source": [
    "How about this sentence \n",
    "\n",
    "> <font color=\"blue\">Kraft</font> is gearing up for a roll-out of its <font color=\"blue\">Milka</font> brand after purchasing  <font color=\"green\">Cadbury Dairy Milk</font>.\n"
   ]
  },
  {
   "cell_type": "markdown",
   "metadata": {
    "slideshow": {
     "slide_type": "fragment"
    }
   },
   "source": [
    "Wouldn't it be great if we knew that\n",
    "\n",
    "* Kraft is the **subject** of the phrase **purchasing Cadbury Dairy Milk** "
   ]
  },
  {
   "cell_type": "markdown",
   "metadata": {
    "slideshow": {
     "slide_type": "subslide"
    }
   },
   "source": [
    "Check out [enju parser](http://www.nactem.ac.uk/enju/demo.html#2)"
   ]
  },
  {
   "cell_type": "markdown",
   "metadata": {
    "slideshow": {
     "slide_type": "subslide"
    }
   },
   "source": [
    "Parsing is is the process of **finding these trees**:\n",
    "\n",
    "* very important for downstream applications\n",
    "* the \"celebrity\" sub-field of NLP \n",
    "    * partly because it  marries linguistics and NLP\n",
    "* researched bigly in academia and [industry](http://www.telegraph.co.uk/technology/2016/05/17/has-googles-parsey-mcparseface-just-solved-one-of-the-worlds-big/)"
   ]
  },
  {
   "cell_type": "markdown",
   "metadata": {
    "slideshow": {
     "slide_type": "subslide"
    }
   },
   "source": [
    "How is this done?"
   ]
  },
  {
   "cell_type": "markdown",
   "metadata": {
    "slideshow": {
     "slide_type": "slide"
    }
   },
   "source": [
    "## Syntax\n",
    "from the Greek syntaxis (arrangement):\n",
    "\n",
    "* **Constituency**: groups of words act as single units.\n",
    "* **Grammatical Relations**: object, subject, direct object etc. \n",
    "* **Subcategorization**: restrictions on the type of phrases that go with certain words.\n"
   ]
  },
  {
   "cell_type": "markdown",
   "metadata": {
    "slideshow": {
     "slide_type": "subslide"
    }
   },
   "source": [
    "### Constituency\n",
    "\n",
    "* **Noun Phrase** (NP)\n",
    "    * a roll-out of its Milka brand\n",
    "    * Cadbury Dairy Milk\n",
    "    * a roll-out\n",
    "* **Verb Phrase** (VP) \n",
    "    * is gearing up\n",
    "    * purchasing Cadbury Dairy Milk \n",
    "* **Prepositional Phrase** (PP)\n",
    "    * of its Milka brand\n",
    "    * after purchasing Cadbury Dairy Milk"
   ]
  },
  {
   "cell_type": "markdown",
   "metadata": {
    "slideshow": {
     "slide_type": "subslide"
    }
   },
   "source": [
    "### Grammatical Relations\n",
    "> <font color=\"blue\">Kraft</font> is gearing up for a roll-out of its <font color=\"blue\">Milka</font> brand after purchasing  <font color=\"green\">Cadbury Dairy Milk</font>.\n",
    "\n",
    "* *Subject* of purchasing: **Kraft**\n",
    "* *Object* of purchasing: **Cadbury Dairy Milk**"
   ]
  },
  {
   "cell_type": "markdown",
   "metadata": {
    "slideshow": {
     "slide_type": "subslide"
    }
   },
   "source": [
    "### Subcategorization\n",
    "\n",
    "There are more complex (sub) categories of verbs (and other types of words)\n",
    "\n",
    "* Intransitive Verbs: must not have objects\n",
    "    * the student works\n",
    "* Transitive Verbs: must have exactly one object\n",
    "    * Kraft purchased Cadbury Dairy Milk\n",
    "* Ditransitive Verbs: must have two objects\n",
    "    * Give me a break! \n"
   ]
  },
  {
   "cell_type": "markdown",
   "metadata": {
    "slideshow": {
     "slide_type": "slide"
    }
   },
   "source": [
    "## Context Free Grammars \n",
    "\n",
    "Formalise syntax by describing the hierarchical structure of sentences\n"
   ]
  },
  {
   "cell_type": "markdown",
   "metadata": {
    "slideshow": {
     "slide_type": "subslide"
    }
   },
   "source": [
    "A **Context Free Grammar** (CFG) is a 4-tuple \\\\(G=(N,\\Sigma,R,S)\\\\) where\n",
    "\n",
    "  * \\\\(N\\\\) is a set of _non-terminal symbols_.\n",
    "  * \\\\(\\Sigma\\\\) is a set of _terminal symbols_.\n",
    "  * \\\\(R\\\\) is a finite set of _rules_ \\\\(X \\rightarrow Y_1 Y_2\\ldots Y_n\\\\) where \\\\(X \\in N\\\\) and \\\\(Y_i \\in N \\cup \\Sigma\\\\). \n",
    "  * \\\\(S \\in N\\\\) is a _start symbol_. \n"
   ]
  },
  {
   "cell_type": "markdown",
   "metadata": {
    "slideshow": {
     "slide_type": "subslide"
    }
   },
   "source": [
    "Simple example grammar:\n",
    "* NP_p : plural Noun Phrase\n",
    "* NP_s : singular Noun Phrase\n",
    "* VP_s/p: same for verb phrases"
   ]
  },
  {
   "cell_type": "code",
   "execution_count": 4,
   "metadata": {
    "hideCode": true,
    "hidePrompt": true,
    "slideshow": {
     "slide_type": "-"
    }
   },
   "outputs": [
    {
     "ename": "NameError",
     "evalue": "name 'CFG' is not defined",
     "output_type": "error",
     "traceback": [
      "\u001b[0;31m---------------------------------------------------------------------------\u001b[0m",
      "\u001b[0;31mNameError\u001b[0m                                 Traceback (most recent call last)",
      "Input \u001b[0;32mIn [4]\u001b[0m, in \u001b[0;36m<cell line: 1>\u001b[0;34m()\u001b[0m\n\u001b[0;32m----> 1\u001b[0m cfg \u001b[38;5;241m=\u001b[39m \u001b[43mCFG\u001b[49m\u001b[38;5;241m.\u001b[39mfrom_rules([(\u001b[38;5;124m'\u001b[39m\u001b[38;5;124mS\u001b[39m\u001b[38;5;124m'\u001b[39m,    [\u001b[38;5;124m'\u001b[39m\u001b[38;5;124mNP_p\u001b[39m\u001b[38;5;124m'\u001b[39m,\u001b[38;5;124m'\u001b[39m\u001b[38;5;124mVP_p\u001b[39m\u001b[38;5;124m'\u001b[39m]),(\u001b[38;5;124m'\u001b[39m\u001b[38;5;124mS\u001b[39m\u001b[38;5;124m'\u001b[39m,[\u001b[38;5;124m'\u001b[39m\u001b[38;5;124mNP_s\u001b[39m\u001b[38;5;124m'\u001b[39m,\u001b[38;5;124m'\u001b[39m\u001b[38;5;124mVP_s\u001b[39m\u001b[38;5;124m'\u001b[39m]), \n\u001b[1;32m      2\u001b[0m                       (\u001b[38;5;124m'\u001b[39m\u001b[38;5;124mNP_p\u001b[39m\u001b[38;5;124m'\u001b[39m, [\u001b[38;5;124m'\u001b[39m\u001b[38;5;124mMatko\u001b[39m\u001b[38;5;124m'\u001b[39m, \u001b[38;5;124m'\u001b[39m\u001b[38;5;124mraps\u001b[39m\u001b[38;5;124m'\u001b[39m]),\n\u001b[1;32m      3\u001b[0m                       (\u001b[38;5;124m'\u001b[39m\u001b[38;5;124mVP_p\u001b[39m\u001b[38;5;124m'\u001b[39m, [\u001b[38;5;124m'\u001b[39m\u001b[38;5;124mare\u001b[39m\u001b[38;5;124m'\u001b[39m, \u001b[38;5;124m'\u001b[39m\u001b[38;5;124mADJ\u001b[39m\u001b[38;5;124m'\u001b[39m]),\n\u001b[1;32m      4\u001b[0m                       (\u001b[38;5;124m'\u001b[39m\u001b[38;5;124mNP_s\u001b[39m\u001b[38;5;124m'\u001b[39m, [\u001b[38;5;124m'\u001b[39m\u001b[38;5;124mMatko\u001b[39m\u001b[38;5;124m'\u001b[39m]),\n\u001b[1;32m      5\u001b[0m                       (\u001b[38;5;124m'\u001b[39m\u001b[38;5;124mVP_s\u001b[39m\u001b[38;5;124m'\u001b[39m, [\u001b[38;5;124m'\u001b[39m\u001b[38;5;124mraps\u001b[39m\u001b[38;5;124m'\u001b[39m, \u001b[38;5;124m'\u001b[39m\u001b[38;5;124min\u001b[39m\u001b[38;5;124m'\u001b[39m, \u001b[38;5;124m'\u001b[39m\u001b[38;5;124mStatNLP\u001b[39m\u001b[38;5;124m'\u001b[39m]),\n\u001b[1;32m      6\u001b[0m                       (\u001b[38;5;124m'\u001b[39m\u001b[38;5;124mADJ\u001b[39m\u001b[38;5;124m'\u001b[39m,  [\u001b[38;5;124m'\u001b[39m\u001b[38;5;124msilly\u001b[39m\u001b[38;5;124m'\u001b[39m])\n\u001b[1;32m      7\u001b[0m                      ])\n\u001b[1;32m      8\u001b[0m cfg\n",
      "\u001b[0;31mNameError\u001b[0m: name 'CFG' is not defined"
     ]
    }
   ],
   "source": [
    "cfg = CFG.from_rules([('S',    ['NP_p','VP_p']),('S',['NP_s','VP_s']), \n",
    "                      ('NP_p', ['Matko', 'raps']),\n",
    "                      ('VP_p', ['are', 'ADJ']),\n",
    "                      ('NP_s', ['Matko']),\n",
    "                      ('VP_s', ['raps', 'in', 'StatNLP']),\n",
    "                      ('ADJ',  ['silly'])\n",
    "                     ])\n",
    "cfg"
   ]
  },
  {
   "cell_type": "markdown",
   "metadata": {
    "slideshow": {
     "slide_type": "subslide"
    }
   },
   "source": [
    "## (Left-most) Derivation\n",
    "The structure of a sentence with respect to a grammar can be described by its **derivation** (if it exists) "
   ]
  },
  {
   "cell_type": "markdown",
   "metadata": {
    "slideshow": {
     "slide_type": "fragment"
    }
   },
   "source": [
    "Sequence of sequences \\\\(s_1 \\ldots s_n\\\\) such that \n",
    "\n",
    "* \\\\(s_1 = S\\\\)\n",
    "    * first sequence is the start symbol\n",
    "* \\\\(s_n \\in \\Sigma^*\\\\)\n",
    "    * last sequence consists of only terminals.\n",
    "* \\\\(s_i\\\\) for \\\\(i > 1\\\\)\n",
    "    * replace left-most non-terminal \\\\(\\alpha\\\\) in $s_{i-1}$ with right-hand of $\\alpha\\rightarrow \\beta_1,\\ldots,\\beta_n$"
   ]
  },
  {
   "cell_type": "code",
   "execution_count": 4,
   "metadata": {
    "hidePrompt": true,
    "slideshow": {
     "slide_type": "subslide"
    }
   },
   "outputs": [
    {
     "data": {
      "text/html": [
       "<table align=\"left\" style=\"font-size:x-large;\"><tr><td style='padding:5px; text-align:left'>S</td><tr><tr><td style='padding:5px; text-align:left'>NP_p</td> <td style='padding:5px; text-align:left'>VP_p</td><tr><tr><td style='padding:5px; text-align:left'>Matko</td> <td style='padding:5px; text-align:left'>raps</td> <td style='padding:5px; text-align:left'>VP_p</td><tr><tr><td style='padding:5px; text-align:left'>Matko</td> <td style='padding:5px; text-align:left'>raps</td> <td style='padding:5px; text-align:left'>are</td> <td style='padding:5px; text-align:left'>ADJ</td><tr><tr><td style='padding:5px; text-align:left'>Matko</td> <td style='padding:5px; text-align:left'>raps</td> <td style='padding:5px; text-align:left'>are</td> <td style='padding:5px; text-align:left'>silly</td><tr></table>"
      ],
      "text/plain": [
       "<statnlpbook.util.Table at 0x7fbcd02adeb8>"
      ]
     },
     "execution_count": 4,
     "metadata": {},
     "output_type": "execute_result"
    }
   ],
   "source": [
    "util.Table(generate_deriv(cfg, [cfg.s]))"
   ]
  },
  {
   "cell_type": "markdown",
   "metadata": {
    "slideshow": {
     "slide_type": "slide"
    }
   },
   "source": [
    "## Parse Trees\n",
    "Represent derivations as trees"
   ]
  },
  {
   "cell_type": "code",
   "execution_count": 5,
   "metadata": {
    "hidePrompt": true,
    "slideshow": {
     "slide_type": "fragment"
    }
   },
   "outputs": [
    {
     "data": {
      "image/svg+xml": [
       "<?xml version=\"1.0\" encoding=\"UTF-8\" standalone=\"no\"?>\n",
       "<!DOCTYPE svg PUBLIC \"-//W3C//DTD SVG 1.1//EN\"\n",
       " \"http://www.w3.org/Graphics/SVG/1.1/DTD/svg11.dtd\">\n",
       "<!-- Generated by graphviz version 2.38.0 (20140413.2041)\n",
       " -->\n",
       "<!-- Title: %3 Pages: 1 -->\n",
       "<svg width=\"295pt\" height=\"188pt\"\n",
       " viewBox=\"0.00 0.00 295.45 188.00\" xmlns=\"http://www.w3.org/2000/svg\" xmlns:xlink=\"http://www.w3.org/1999/xlink\">\n",
       "<g id=\"graph0\" class=\"graph\" transform=\"scale(1 1) rotate(0) translate(4 184)\">\n",
       "<title>%3</title>\n",
       "<polygon fill=\"white\" stroke=\"none\" points=\"-4,4 -4,-184 291.447,-184 291.447,4 -4,4\"/>\n",
       "<!-- 0 -->\n",
       "<g id=\"node1\" class=\"node\"><title>0</title>\n",
       "<ellipse fill=\"none\" stroke=\"black\" cx=\"34.4469\" cy=\"-18\" rx=\"34.394\" ry=\"18\"/>\n",
       "<text text-anchor=\"middle\" x=\"34.4469\" y=\"-14.3\" font-family=\"Times,serif\" font-size=\"14.00\">Matko</text>\n",
       "</g>\n",
       "<!-- 1 -->\n",
       "<g id=\"node2\" class=\"node\"><title>1</title>\n",
       "<ellipse fill=\"none\" stroke=\"black\" cx=\"113.447\" cy=\"-18\" rx=\"27\" ry=\"18\"/>\n",
       "<text text-anchor=\"middle\" x=\"113.447\" y=\"-14.3\" font-family=\"Times,serif\" font-size=\"14.00\">raps</text>\n",
       "</g>\n",
       "<!-- 2 -->\n",
       "<g id=\"node3\" class=\"node\"><title>2</title>\n",
       "<ellipse fill=\"none\" stroke=\"black\" cx=\"111.447\" cy=\"-90\" rx=\"30.5947\" ry=\"18\"/>\n",
       "<text text-anchor=\"middle\" x=\"111.447\" y=\"-86.3\" font-family=\"Times,serif\" font-size=\"14.00\">NP_p</text>\n",
       "</g>\n",
       "<!-- 2&#45;&gt;0 -->\n",
       "<g id=\"edge1\" class=\"edge\"><title>2&#45;&gt;0</title>\n",
       "<path fill=\"none\" stroke=\"black\" d=\"M95.4925,-74.496C84.7965,-64.7723 70.516,-51.79 58.4564,-40.8268\"/>\n",
       "<polygon fill=\"black\" stroke=\"black\" points=\"60.666,-38.1054 50.9122,-33.9684 55.9573,-43.285 60.666,-38.1054\"/>\n",
       "</g>\n",
       "<!-- 2&#45;&gt;1 -->\n",
       "<g id=\"edge2\" class=\"edge\"><title>2&#45;&gt;1</title>\n",
       "<path fill=\"none\" stroke=\"black\" d=\"M111.941,-71.6966C112.162,-63.9827 112.427,-54.7125 112.672,-46.1124\"/>\n",
       "<polygon fill=\"black\" stroke=\"black\" points=\"116.171,-46.2002 112.958,-36.1043 109.174,-46.0003 116.171,-46.2002\"/>\n",
       "</g>\n",
       "<!-- 3 -->\n",
       "<g id=\"node4\" class=\"node\"><title>3</title>\n",
       "<ellipse fill=\"none\" stroke=\"black\" cx=\"188.447\" cy=\"-18\" rx=\"27\" ry=\"18\"/>\n",
       "<text text-anchor=\"middle\" x=\"188.447\" y=\"-14.3\" font-family=\"Times,serif\" font-size=\"14.00\">are</text>\n",
       "</g>\n",
       "<!-- 4 -->\n",
       "<g id=\"node5\" class=\"node\"><title>4</title>\n",
       "<ellipse fill=\"none\" stroke=\"black\" cx=\"260.447\" cy=\"-18\" rx=\"27\" ry=\"18\"/>\n",
       "<text text-anchor=\"middle\" x=\"260.447\" y=\"-14.3\" font-family=\"Times,serif\" font-size=\"14.00\">silly</text>\n",
       "</g>\n",
       "<!-- 5 -->\n",
       "<g id=\"node6\" class=\"node\"><title>5</title>\n",
       "<ellipse fill=\"none\" stroke=\"black\" cx=\"190.447\" cy=\"-90\" rx=\"30.5947\" ry=\"18\"/>\n",
       "<text text-anchor=\"middle\" x=\"190.447\" y=\"-86.3\" font-family=\"Times,serif\" font-size=\"14.00\">VP_p</text>\n",
       "</g>\n",
       "<!-- 5&#45;&gt;3 -->\n",
       "<g id=\"edge3\" class=\"edge\"><title>5&#45;&gt;3</title>\n",
       "<path fill=\"none\" stroke=\"black\" d=\"M189.953,-71.6966C189.732,-63.9827 189.467,-54.7125 189.222,-46.1124\"/>\n",
       "<polygon fill=\"black\" stroke=\"black\" points=\"192.72,-46.0003 188.936,-36.1043 185.723,-46.2002 192.72,-46.0003\"/>\n",
       "</g>\n",
       "<!-- 5&#45;&gt;4 -->\n",
       "<g id=\"edge4\" class=\"edge\"><title>5&#45;&gt;4</title>\n",
       "<path fill=\"none\" stroke=\"black\" d=\"M205.292,-74.1548C215.074,-64.3725 228.043,-51.4037 238.947,-40.4996\"/>\n",
       "<polygon fill=\"black\" stroke=\"black\" points=\"241.506,-42.891 246.102,-33.345 236.556,-37.9413 241.506,-42.891\"/>\n",
       "</g>\n",
       "<!-- 6 -->\n",
       "<g id=\"node7\" class=\"node\"><title>6</title>\n",
       "<ellipse fill=\"none\" stroke=\"black\" cx=\"150.447\" cy=\"-162\" rx=\"27\" ry=\"18\"/>\n",
       "<text text-anchor=\"middle\" x=\"150.447\" y=\"-158.3\" font-family=\"Times,serif\" font-size=\"14.00\">S</text>\n",
       "</g>\n",
       "<!-- 6&#45;&gt;2 -->\n",
       "<g id=\"edge5\" class=\"edge\"><title>6&#45;&gt;2</title>\n",
       "<path fill=\"none\" stroke=\"black\" d=\"M141.402,-144.765C136.744,-136.404 130.956,-126.016 125.713,-116.606\"/>\n",
       "<polygon fill=\"black\" stroke=\"black\" points=\"128.639,-114.666 120.714,-107.633 122.524,-118.073 128.639,-114.666\"/>\n",
       "</g>\n",
       "<!-- 6&#45;&gt;5 -->\n",
       "<g id=\"edge6\" class=\"edge\"><title>6&#45;&gt;5</title>\n",
       "<path fill=\"none\" stroke=\"black\" d=\"M159.724,-144.765C164.502,-136.404 170.438,-126.016 175.815,-116.606\"/>\n",
       "<polygon fill=\"black\" stroke=\"black\" points=\"179.02,-118.052 180.942,-107.633 172.942,-114.579 179.02,-118.052\"/>\n",
       "</g>\n",
       "</g>\n",
       "</svg>\n"
      ],
      "text/plain": [
       "<graphviz.dot.Digraph at 0x7fbcf86b6b38>"
      ]
     },
     "execution_count": 5,
     "metadata": {
      "filenames": {
       "image/svg+xml": "/Users/knf792/gits/nlp-course/nlp-book/_build/jupyter_execute/stat-nlp-book/chapters/parsing_slides_26_0.svg"
      }
     },
     "output_type": "execute_result"
    }
   ],
   "source": [
    "tree = ('S', [('NP_p',['Matko','raps']), ('VP_p',['are','silly'])])\n",
    "parsing.render_tree(tree)"
   ]
  },
  {
   "cell_type": "code",
   "execution_count": 6,
   "metadata": {
    "hidePrompt": true,
    "slideshow": {
     "slide_type": "subslide"
    }
   },
   "outputs": [
    {
     "data": {
      "image/svg+xml": [
       "<?xml version=\"1.0\" encoding=\"UTF-8\" standalone=\"no\"?>\n",
       "<!DOCTYPE svg PUBLIC \"-//W3C//DTD SVG 1.1//EN\"\n",
       " \"http://www.w3.org/Graphics/SVG/1.1/DTD/svg11.dtd\">\n",
       "<!-- Generated by graphviz version 2.38.0 (20140413.2041)\n",
       " -->\n",
       "<!-- Title: %3 Pages: 1 -->\n",
       "<svg width=\"320pt\" height=\"188pt\"\n",
       " viewBox=\"0.00 0.00 320.39 188.00\" xmlns=\"http://www.w3.org/2000/svg\" xmlns:xlink=\"http://www.w3.org/1999/xlink\">\n",
       "<g id=\"graph0\" class=\"graph\" transform=\"scale(1 1) rotate(0) translate(4 184)\">\n",
       "<title>%3</title>\n",
       "<polygon fill=\"white\" stroke=\"none\" points=\"-4,4 -4,-184 316.393,-184 316.393,4 -4,4\"/>\n",
       "<!-- 0 -->\n",
       "<g id=\"node1\" class=\"node\"><title>0</title>\n",
       "<ellipse fill=\"none\" stroke=\"black\" cx=\"34.4469\" cy=\"-18\" rx=\"34.394\" ry=\"18\"/>\n",
       "<text text-anchor=\"middle\" x=\"34.4469\" y=\"-14.3\" font-family=\"Times,serif\" font-size=\"14.00\">Matko</text>\n",
       "</g>\n",
       "<!-- 1 -->\n",
       "<g id=\"node2\" class=\"node\"><title>1</title>\n",
       "<ellipse fill=\"none\" stroke=\"black\" cx=\"34.4469\" cy=\"-90\" rx=\"29.795\" ry=\"18\"/>\n",
       "<text text-anchor=\"middle\" x=\"34.4469\" y=\"-86.3\" font-family=\"Times,serif\" font-size=\"14.00\">NP_s</text>\n",
       "</g>\n",
       "<!-- 1&#45;&gt;0 -->\n",
       "<g id=\"edge1\" class=\"edge\"><title>1&#45;&gt;0</title>\n",
       "<path fill=\"none\" stroke=\"black\" d=\"M34.4469,-71.6966C34.4469,-63.9827 34.4469,-54.7125 34.4469,-46.1124\"/>\n",
       "<polygon fill=\"black\" stroke=\"black\" points=\"37.947,-46.1043 34.4469,-36.1043 30.947,-46.1044 37.947,-46.1043\"/>\n",
       "</g>\n",
       "<!-- 2 -->\n",
       "<g id=\"node3\" class=\"node\"><title>2</title>\n",
       "<ellipse fill=\"none\" stroke=\"black\" cx=\"113.447\" cy=\"-18\" rx=\"27\" ry=\"18\"/>\n",
       "<text text-anchor=\"middle\" x=\"113.447\" y=\"-14.3\" font-family=\"Times,serif\" font-size=\"14.00\">raps</text>\n",
       "</g>\n",
       "<!-- 3 -->\n",
       "<g id=\"node4\" class=\"node\"><title>3</title>\n",
       "<ellipse fill=\"none\" stroke=\"black\" cx=\"185.447\" cy=\"-18\" rx=\"27\" ry=\"18\"/>\n",
       "<text text-anchor=\"middle\" x=\"185.447\" y=\"-14.3\" font-family=\"Times,serif\" font-size=\"14.00\">in</text>\n",
       "</g>\n",
       "<!-- 4 -->\n",
       "<g id=\"node5\" class=\"node\"><title>4</title>\n",
       "<ellipse fill=\"none\" stroke=\"black\" cx=\"271.447\" cy=\"-18\" rx=\"40.8928\" ry=\"18\"/>\n",
       "<text text-anchor=\"middle\" x=\"271.447\" y=\"-14.3\" font-family=\"Times,serif\" font-size=\"14.00\">StatNLP</text>\n",
       "</g>\n",
       "<!-- 5 -->\n",
       "<g id=\"node6\" class=\"node\"><title>5</title>\n",
       "<ellipse fill=\"none\" stroke=\"black\" cx=\"149.447\" cy=\"-90\" rx=\"29.795\" ry=\"18\"/>\n",
       "<text text-anchor=\"middle\" x=\"149.447\" y=\"-86.3\" font-family=\"Times,serif\" font-size=\"14.00\">VP_s</text>\n",
       "</g>\n",
       "<!-- 5&#45;&gt;2 -->\n",
       "<g id=\"edge2\" class=\"edge\"><title>5&#45;&gt;2</title>\n",
       "<path fill=\"none\" stroke=\"black\" d=\"M140.915,-72.411C136.611,-64.0421 131.298,-53.7098 126.494,-44.3698\"/>\n",
       "<polygon fill=\"black\" stroke=\"black\" points=\"129.603,-42.7621 121.917,-35.4699 123.378,-45.9636 129.603,-42.7621\"/>\n",
       "</g>\n",
       "<!-- 5&#45;&gt;3 -->\n",
       "<g id=\"edge3\" class=\"edge\"><title>5&#45;&gt;3</title>\n",
       "<path fill=\"none\" stroke=\"black\" d=\"M157.978,-72.411C162.282,-64.0421 167.596,-53.7098 172.4,-44.3698\"/>\n",
       "<polygon fill=\"black\" stroke=\"black\" points=\"175.516,-45.9636 176.977,-35.4699 169.291,-42.7621 175.516,-45.9636\"/>\n",
       "</g>\n",
       "<!-- 5&#45;&gt;4 -->\n",
       "<g id=\"edge4\" class=\"edge\"><title>5&#45;&gt;4</title>\n",
       "<path fill=\"none\" stroke=\"black\" d=\"M170.419,-76.9666C189.138,-66.2266 216.859,-50.3211 238.53,-37.8865\"/>\n",
       "<polygon fill=\"black\" stroke=\"black\" points=\"240.472,-40.8077 247.404,-32.7951 236.988,-34.7361 240.472,-40.8077\"/>\n",
       "</g>\n",
       "<!-- 6 -->\n",
       "<g id=\"node7\" class=\"node\"><title>6</title>\n",
       "<ellipse fill=\"none\" stroke=\"black\" cx=\"73.4469\" cy=\"-162\" rx=\"27\" ry=\"18\"/>\n",
       "<text text-anchor=\"middle\" x=\"73.4469\" y=\"-158.3\" font-family=\"Times,serif\" font-size=\"14.00\">S</text>\n",
       "</g>\n",
       "<!-- 6&#45;&gt;1 -->\n",
       "<g id=\"edge5\" class=\"edge\"><title>6&#45;&gt;1</title>\n",
       "<path fill=\"none\" stroke=\"black\" d=\"M64.4015,-144.765C59.7436,-136.404 53.9558,-126.016 48.7131,-116.606\"/>\n",
       "<polygon fill=\"black\" stroke=\"black\" points=\"51.6387,-114.666 43.7141,-107.633 45.5237,-118.073 51.6387,-114.666\"/>\n",
       "</g>\n",
       "<!-- 6&#45;&gt;5 -->\n",
       "<g id=\"edge6\" class=\"edge\"><title>6&#45;&gt;5</title>\n",
       "<path fill=\"none\" stroke=\"black\" d=\"M88.8267,-146.834C99.5719,-136.938 114.111,-123.546 126.257,-112.359\"/>\n",
       "<polygon fill=\"black\" stroke=\"black\" points=\"128.845,-114.734 133.829,-105.385 124.103,-109.585 128.845,-114.734\"/>\n",
       "</g>\n",
       "</g>\n",
       "</svg>\n"
      ],
      "text/plain": [
       "<graphviz.dot.Digraph at 0x7fbcd02ad860>"
      ]
     },
     "execution_count": 6,
     "metadata": {
      "filenames": {
       "image/svg+xml": "/Users/knf792/gits/nlp-course/nlp-book/_build/jupyter_execute/stat-nlp-book/chapters/parsing_slides_27_0.svg"
      }
     },
     "output_type": "execute_result"
    }
   ],
   "source": [
    "parsing.render_tree(generate_tree(cfg,'S'))        "
   ]
  },
  {
   "cell_type": "markdown",
   "metadata": {
    "slideshow": {
     "slide_type": "slide"
    }
   },
   "source": [
    "## Parsing\n",
    "The inverse problem: given a sentence \n",
    "\n",
    "> Matko raps in StatNLP\n",
    "\n",
    "What's the derivation for it?  "
   ]
  },
  {
   "cell_type": "markdown",
   "metadata": {
    "slideshow": {
     "slide_type": "subslide"
    }
   },
   "source": [
    "There are a couple of approaches to find a legal parse tree given a sentence and grammar:\n",
    "\n",
    "* **Top-Down**: Start with the start symbol and generate trees\n",
    "    * backtrack if they do not match observed sentence\n",
    "* **Bottom-Up**: Start with the sentence, find rules that generate parts of it\n",
    "    * backtrack if you can't reach the start symbol\n",
    "* **Dynamic Programming**: Explore several trees in parallel and re-use computations"
   ]
  },
  {
   "cell_type": "markdown",
   "metadata": {
    "slideshow": {
     "slide_type": "subslide"
    }
   },
   "source": [
    "### Bottom-Up Parsing with Backtracking\n",
    "\n",
    "Incrementally build up a tree **left-to-right**, and maintain ..."
   ]
  },
  {
   "cell_type": "markdown",
   "metadata": {
    "slideshow": {
     "slide_type": "subslide"
    }
   },
   "source": [
    "a **buffer** of remaining words"
   ]
  },
  {
   "cell_type": "code",
   "execution_count": 7,
   "metadata": {
    "slideshow": {
     "slide_type": "-"
    }
   },
   "outputs": [
    {
     "data": {
      "text/html": [
       "<table><tr><td>Matko raps are silly</td><td><?xml version=\"1.0\" encoding=\"UTF-8\" standalone=\"no\"?>\n",
       "<!DOCTYPE svg PUBLIC \"-//W3C//DTD SVG 1.1//EN\"\n",
       " \"http://www.w3.org/Graphics/SVG/1.1/DTD/svg11.dtd\">\n",
       "<!-- Generated by graphviz version 2.38.0 (20140413.2041)\n",
       " -->\n",
       "<!-- Title: %3 Pages: 1 -->\n",
       "<svg width=\"8pt\" height=\"8pt\"\n",
       " viewBox=\"0.00 0.00 8.00 8.00\" xmlns=\"http://www.w3.org/2000/svg\" xmlns:xlink=\"http://www.w3.org/1999/xlink\">\n",
       "<g id=\"graph0\" class=\"graph\" transform=\"scale(1 1) rotate(0) translate(4 4)\">\n",
       "<title>%3</title>\n",
       "<polygon fill=\"white\" stroke=\"none\" points=\"-4,4 -4,-4 4,-4 4,4 -4,4\"/>\n",
       "</g>\n",
       "</svg>\n",
       "</td><td>Init</td></tr></table>"
      ],
      "text/plain": [
       "<statnlpbook.parsing.render_transitions.<locals>.Output at 0x7fbcf8f8bc18>"
      ]
     },
     "execution_count": 7,
     "metadata": {},
     "output_type": "execute_result"
    }
   ],
   "source": [
    "parsing.render_transitions(transitions[0:1])"
   ]
  },
  {
   "cell_type": "markdown",
   "metadata": {
    "slideshow": {
     "slide_type": "subslide"
    }
   },
   "source": [
    "a **stack** of trees build so far"
   ]
  },
  {
   "cell_type": "code",
   "execution_count": 8,
   "metadata": {
    "slideshow": {
     "slide_type": "-"
    }
   },
   "outputs": [
    {
     "data": {
      "text/html": [
       "<table><tr><td>silly</td><td><?xml version=\"1.0\" encoding=\"UTF-8\" standalone=\"no\"?>\n",
       "<!DOCTYPE svg PUBLIC \"-//W3C//DTD SVG 1.1//EN\"\n",
       " \"http://www.w3.org/Graphics/SVG/1.1/DTD/svg11.dtd\">\n",
       "<!-- Generated by graphviz version 2.38.0 (20140413.2041)\n",
       " -->\n",
       "<!-- Title: %3 Pages: 1 -->\n",
       "<svg width=\"184pt\" height=\"116pt\"\n",
       " viewBox=\"0.00 0.00 184.45 116.00\" xmlns=\"http://www.w3.org/2000/svg\" xmlns:xlink=\"http://www.w3.org/1999/xlink\">\n",
       "<g id=\"graph0\" class=\"graph\" transform=\"scale(1 1) rotate(0) translate(4 112)\">\n",
       "<title>%3</title>\n",
       "<polygon fill=\"white\" stroke=\"none\" points=\"-4,4 -4,-112 180.447,-112 180.447,4 -4,4\"/>\n",
       "<!-- 0 -->\n",
       "<g id=\"node1\" class=\"node\"><title>0</title>\n",
       "<ellipse fill=\"none\" stroke=\"black\" cx=\"34.4469\" cy=\"-18\" rx=\"34.394\" ry=\"18\"/>\n",
       "<text text-anchor=\"middle\" x=\"34.4469\" y=\"-14.3\" font-family=\"Times,serif\" font-size=\"14.00\">Matko</text>\n",
       "</g>\n",
       "<!-- 1 -->\n",
       "<g id=\"node2\" class=\"node\"><title>1</title>\n",
       "<ellipse fill=\"none\" stroke=\"black\" cx=\"113.447\" cy=\"-18\" rx=\"27\" ry=\"18\"/>\n",
       "<text text-anchor=\"middle\" x=\"113.447\" y=\"-14.3\" font-family=\"Times,serif\" font-size=\"14.00\">raps</text>\n",
       "</g>\n",
       "<!-- 2 -->\n",
       "<g id=\"node3\" class=\"node\"><title>2</title>\n",
       "<ellipse fill=\"none\" stroke=\"black\" cx=\"73.4469\" cy=\"-90\" rx=\"30.5947\" ry=\"18\"/>\n",
       "<text text-anchor=\"middle\" x=\"73.4469\" y=\"-86.3\" font-family=\"Times,serif\" font-size=\"14.00\">NP_p</text>\n",
       "</g>\n",
       "<!-- 2&#45;&gt;0 -->\n",
       "<g id=\"edge1\" class=\"edge\"><title>2&#45;&gt;0</title>\n",
       "<path fill=\"none\" stroke=\"black\" d=\"M64.4015,-72.7646C59.7436,-64.4043 53.9558,-54.0159 48.7131,-44.6059\"/>\n",
       "<polygon fill=\"black\" stroke=\"black\" points=\"51.6387,-42.6656 43.7141,-35.6334 45.5237,-46.0726 51.6387,-42.6656\"/>\n",
       "</g>\n",
       "<!-- 2&#45;&gt;1 -->\n",
       "<g id=\"edge2\" class=\"edge\"><title>2&#45;&gt;1</title>\n",
       "<path fill=\"none\" stroke=\"black\" d=\"M82.7243,-72.7646C87.6213,-64.1948 93.7361,-53.494 99.2182,-43.9004\"/>\n",
       "<polygon fill=\"black\" stroke=\"black\" points=\"102.297,-45.5663 104.22,-35.1473 96.2196,-42.0932 102.297,-45.5663\"/>\n",
       "</g>\n",
       "<!-- 3 -->\n",
       "<g id=\"node4\" class=\"node\"><title>3</title>\n",
       "<ellipse fill=\"none\" stroke=\"black\" cx=\"149.447\" cy=\"-90\" rx=\"27\" ry=\"18\"/>\n",
       "<text text-anchor=\"middle\" x=\"149.447\" y=\"-86.3\" font-family=\"Times,serif\" font-size=\"14.00\">are</text>\n",
       "</g>\n",
       "</g>\n",
       "</svg>\n",
       "</td><td>Shift</td></tr></table>"
      ],
      "text/plain": [
       "<statnlpbook.parsing.render_transitions.<locals>.Output at 0x7fbcf86b64e0>"
      ]
     },
     "execution_count": 8,
     "metadata": {},
     "output_type": "execute_result"
    }
   ],
   "source": [
    "parsing.render_transitions(transitions[13:14])"
   ]
  },
  {
   "cell_type": "markdown",
   "metadata": {
    "slideshow": {
     "slide_type": "subslide"
    }
   },
   "source": [
    "Perform three types of **actions**:"
   ]
  },
  {
   "cell_type": "markdown",
   "metadata": {
    "slideshow": {
     "slide_type": "subslide"
    }
   },
   "source": [
    "### Shift\n",
    "Put first word from buffer to stack (as singleton tree)"
   ]
  },
  {
   "cell_type": "code",
   "execution_count": 9,
   "metadata": {
    "slideshow": {
     "slide_type": "-"
    }
   },
   "outputs": [
    {
     "data": {
      "text/html": [
       "<table><tr><td>Matko raps are silly</td><td><?xml version=\"1.0\" encoding=\"UTF-8\" standalone=\"no\"?>\n",
       "<!DOCTYPE svg PUBLIC \"-//W3C//DTD SVG 1.1//EN\"\n",
       " \"http://www.w3.org/Graphics/SVG/1.1/DTD/svg11.dtd\">\n",
       "<!-- Generated by graphviz version 2.38.0 (20140413.2041)\n",
       " -->\n",
       "<!-- Title: %3 Pages: 1 -->\n",
       "<svg width=\"8pt\" height=\"8pt\"\n",
       " viewBox=\"0.00 0.00 8.00 8.00\" xmlns=\"http://www.w3.org/2000/svg\" xmlns:xlink=\"http://www.w3.org/1999/xlink\">\n",
       "<g id=\"graph0\" class=\"graph\" transform=\"scale(1 1) rotate(0) translate(4 4)\">\n",
       "<title>%3</title>\n",
       "<polygon fill=\"white\" stroke=\"none\" points=\"-4,4 -4,-4 4,-4 4,4 -4,4\"/>\n",
       "</g>\n",
       "</svg>\n",
       "</td><td>Init</td></tr>\n",
       "<tr><td>raps are silly</td><td><?xml version=\"1.0\" encoding=\"UTF-8\" standalone=\"no\"?>\n",
       "<!DOCTYPE svg PUBLIC \"-//W3C//DTD SVG 1.1//EN\"\n",
       " \"http://www.w3.org/Graphics/SVG/1.1/DTD/svg11.dtd\">\n",
       "<!-- Generated by graphviz version 2.38.0 (20140413.2041)\n",
       " -->\n",
       "<!-- Title: %3 Pages: 1 -->\n",
       "<svg width=\"77pt\" height=\"44pt\"\n",
       " viewBox=\"0.00 0.00 76.89 44.00\" xmlns=\"http://www.w3.org/2000/svg\" xmlns:xlink=\"http://www.w3.org/1999/xlink\">\n",
       "<g id=\"graph0\" class=\"graph\" transform=\"scale(1 1) rotate(0) translate(4 40)\">\n",
       "<title>%3</title>\n",
       "<polygon fill=\"white\" stroke=\"none\" points=\"-4,4 -4,-40 72.8939,-40 72.8939,4 -4,4\"/>\n",
       "<!-- 0 -->\n",
       "<g id=\"node1\" class=\"node\"><title>0</title>\n",
       "<ellipse fill=\"none\" stroke=\"black\" cx=\"34.4469\" cy=\"-18\" rx=\"34.394\" ry=\"18\"/>\n",
       "<text text-anchor=\"middle\" x=\"34.4469\" y=\"-14.3\" font-family=\"Times,serif\" font-size=\"14.00\">Matko</text>\n",
       "</g>\n",
       "</g>\n",
       "</svg>\n",
       "</td><td>Shift</td></tr></table>"
      ],
      "text/plain": [
       "<statnlpbook.parsing.render_transitions.<locals>.Output at 0x7fbcf86b6320>"
      ]
     },
     "execution_count": 9,
     "metadata": {},
     "output_type": "execute_result"
    }
   ],
   "source": [
    "parsing.render_transitions(transitions[0:2])"
   ]
  },
  {
   "cell_type": "markdown",
   "metadata": {
    "slideshow": {
     "slide_type": "subslide"
    }
   },
   "source": [
    "### Reduce\n",
    "For rule $X \\rightarrow Y \\: Z$ and stack $Y \\: Z$, create new tree headed with $X$"
   ]
  },
  {
   "cell_type": "code",
   "execution_count": 10,
   "metadata": {},
   "outputs": [
    {
     "data": {
      "text/html": [
       "<table><tr><td>are silly</td><td><?xml version=\"1.0\" encoding=\"UTF-8\" standalone=\"no\"?>\n",
       "<!DOCTYPE svg PUBLIC \"-//W3C//DTD SVG 1.1//EN\"\n",
       " \"http://www.w3.org/Graphics/SVG/1.1/DTD/svg11.dtd\">\n",
       "<!-- Generated by graphviz version 2.38.0 (20140413.2041)\n",
       " -->\n",
       "<!-- Title: %3 Pages: 1 -->\n",
       "<svg width=\"148pt\" height=\"44pt\"\n",
       " viewBox=\"0.00 0.00 148.45 44.00\" xmlns=\"http://www.w3.org/2000/svg\" xmlns:xlink=\"http://www.w3.org/1999/xlink\">\n",
       "<g id=\"graph0\" class=\"graph\" transform=\"scale(1 1) rotate(0) translate(4 40)\">\n",
       "<title>%3</title>\n",
       "<polygon fill=\"white\" stroke=\"none\" points=\"-4,4 -4,-40 144.447,-40 144.447,4 -4,4\"/>\n",
       "<!-- 0 -->\n",
       "<g id=\"node1\" class=\"node\"><title>0</title>\n",
       "<ellipse fill=\"none\" stroke=\"black\" cx=\"34.4469\" cy=\"-18\" rx=\"34.394\" ry=\"18\"/>\n",
       "<text text-anchor=\"middle\" x=\"34.4469\" y=\"-14.3\" font-family=\"Times,serif\" font-size=\"14.00\">Matko</text>\n",
       "</g>\n",
       "<!-- 1 -->\n",
       "<g id=\"node2\" class=\"node\"><title>1</title>\n",
       "<ellipse fill=\"none\" stroke=\"black\" cx=\"113.447\" cy=\"-18\" rx=\"27\" ry=\"18\"/>\n",
       "<text text-anchor=\"middle\" x=\"113.447\" y=\"-14.3\" font-family=\"Times,serif\" font-size=\"14.00\">raps</text>\n",
       "</g>\n",
       "</g>\n",
       "</svg>\n",
       "</td><td>Shift</td></tr>\n",
       "<tr><td>are silly</td><td><?xml version=\"1.0\" encoding=\"UTF-8\" standalone=\"no\"?>\n",
       "<!DOCTYPE svg PUBLIC \"-//W3C//DTD SVG 1.1//EN\"\n",
       " \"http://www.w3.org/Graphics/SVG/1.1/DTD/svg11.dtd\">\n",
       "<!-- Generated by graphviz version 2.38.0 (20140413.2041)\n",
       " -->\n",
       "<!-- Title: %3 Pages: 1 -->\n",
       "<svg width=\"148pt\" height=\"116pt\"\n",
       " viewBox=\"0.00 0.00 148.45 116.00\" xmlns=\"http://www.w3.org/2000/svg\" xmlns:xlink=\"http://www.w3.org/1999/xlink\">\n",
       "<g id=\"graph0\" class=\"graph\" transform=\"scale(1 1) rotate(0) translate(4 112)\">\n",
       "<title>%3</title>\n",
       "<polygon fill=\"white\" stroke=\"none\" points=\"-4,4 -4,-112 144.447,-112 144.447,4 -4,4\"/>\n",
       "<!-- 0 -->\n",
       "<g id=\"node1\" class=\"node\"><title>0</title>\n",
       "<ellipse fill=\"none\" stroke=\"black\" cx=\"34.4469\" cy=\"-18\" rx=\"34.394\" ry=\"18\"/>\n",
       "<text text-anchor=\"middle\" x=\"34.4469\" y=\"-14.3\" font-family=\"Times,serif\" font-size=\"14.00\">Matko</text>\n",
       "</g>\n",
       "<!-- 1 -->\n",
       "<g id=\"node2\" class=\"node\"><title>1</title>\n",
       "<ellipse fill=\"none\" stroke=\"black\" cx=\"113.447\" cy=\"-18\" rx=\"27\" ry=\"18\"/>\n",
       "<text text-anchor=\"middle\" x=\"113.447\" y=\"-14.3\" font-family=\"Times,serif\" font-size=\"14.00\">raps</text>\n",
       "</g>\n",
       "<!-- 2 -->\n",
       "<g id=\"node3\" class=\"node\"><title>2</title>\n",
       "<ellipse fill=\"none\" stroke=\"black\" cx=\"73.4469\" cy=\"-90\" rx=\"30.5947\" ry=\"18\"/>\n",
       "<text text-anchor=\"middle\" x=\"73.4469\" y=\"-86.3\" font-family=\"Times,serif\" font-size=\"14.00\">NP_p</text>\n",
       "</g>\n",
       "<!-- 2&#45;&gt;0 -->\n",
       "<g id=\"edge1\" class=\"edge\"><title>2&#45;&gt;0</title>\n",
       "<path fill=\"none\" stroke=\"black\" d=\"M64.4015,-72.7646C59.7436,-64.4043 53.9558,-54.0159 48.7131,-44.6059\"/>\n",
       "<polygon fill=\"black\" stroke=\"black\" points=\"51.6387,-42.6656 43.7141,-35.6334 45.5237,-46.0726 51.6387,-42.6656\"/>\n",
       "</g>\n",
       "<!-- 2&#45;&gt;1 -->\n",
       "<g id=\"edge2\" class=\"edge\"><title>2&#45;&gt;1</title>\n",
       "<path fill=\"none\" stroke=\"black\" d=\"M82.7243,-72.7646C87.6213,-64.1948 93.7361,-53.494 99.2182,-43.9004\"/>\n",
       "<polygon fill=\"black\" stroke=\"black\" points=\"102.297,-45.5663 104.22,-35.1473 96.2196,-42.0932 102.297,-45.5663\"/>\n",
       "</g>\n",
       "</g>\n",
       "</svg>\n",
       "</td><td>Reduce</td></tr></table>"
      ],
      "text/plain": [
       "<statnlpbook.parsing.render_transitions.<locals>.Output at 0x7fbcf86b65c0>"
      ]
     },
     "execution_count": 10,
     "metadata": {},
     "output_type": "execute_result"
    }
   ],
   "source": [
    "parsing.render_transitions(transitions[11:13])"
   ]
  },
  {
   "cell_type": "markdown",
   "metadata": {
    "slideshow": {
     "slide_type": "subslide"
    }
   },
   "source": [
    "### Backtrack\n",
    "If no rule can be found and the buffer is empty, go back to last decision point"
   ]
  },
  {
   "cell_type": "code",
   "execution_count": 11,
   "metadata": {},
   "outputs": [
    {
     "data": {
      "text/html": [
       "<table><tr><td>raps are silly</td><td><?xml version=\"1.0\" encoding=\"UTF-8\" standalone=\"no\"?>\n",
       "<!DOCTYPE svg PUBLIC \"-//W3C//DTD SVG 1.1//EN\"\n",
       " \"http://www.w3.org/Graphics/SVG/1.1/DTD/svg11.dtd\">\n",
       "<!-- Generated by graphviz version 2.38.0 (20140413.2041)\n",
       " -->\n",
       "<!-- Title: %3 Pages: 1 -->\n",
       "<svg width=\"77pt\" height=\"44pt\"\n",
       " viewBox=\"0.00 0.00 76.89 44.00\" xmlns=\"http://www.w3.org/2000/svg\" xmlns:xlink=\"http://www.w3.org/1999/xlink\">\n",
       "<g id=\"graph0\" class=\"graph\" transform=\"scale(1 1) rotate(0) translate(4 40)\">\n",
       "<title>%3</title>\n",
       "<polygon fill=\"white\" stroke=\"none\" points=\"-4,4 -4,-40 72.8939,-40 72.8939,4 -4,4\"/>\n",
       "<!-- 0 -->\n",
       "<g id=\"node1\" class=\"node\"><title>0</title>\n",
       "<ellipse fill=\"none\" stroke=\"black\" cx=\"34.4469\" cy=\"-18\" rx=\"34.394\" ry=\"18\"/>\n",
       "<text text-anchor=\"middle\" x=\"34.4469\" y=\"-14.3\" font-family=\"Times,serif\" font-size=\"14.00\">Matko</text>\n",
       "</g>\n",
       "</g>\n",
       "</svg>\n",
       "</td><td>Backtrack</td></tr>\n",
       "<tr><td>are silly</td><td><?xml version=\"1.0\" encoding=\"UTF-8\" standalone=\"no\"?>\n",
       "<!DOCTYPE svg PUBLIC \"-//W3C//DTD SVG 1.1//EN\"\n",
       " \"http://www.w3.org/Graphics/SVG/1.1/DTD/svg11.dtd\">\n",
       "<!-- Generated by graphviz version 2.38.0 (20140413.2041)\n",
       " -->\n",
       "<!-- Title: %3 Pages: 1 -->\n",
       "<svg width=\"148pt\" height=\"44pt\"\n",
       " viewBox=\"0.00 0.00 148.45 44.00\" xmlns=\"http://www.w3.org/2000/svg\" xmlns:xlink=\"http://www.w3.org/1999/xlink\">\n",
       "<g id=\"graph0\" class=\"graph\" transform=\"scale(1 1) rotate(0) translate(4 40)\">\n",
       "<title>%3</title>\n",
       "<polygon fill=\"white\" stroke=\"none\" points=\"-4,4 -4,-40 144.447,-40 144.447,4 -4,4\"/>\n",
       "<!-- 0 -->\n",
       "<g id=\"node1\" class=\"node\"><title>0</title>\n",
       "<ellipse fill=\"none\" stroke=\"black\" cx=\"34.4469\" cy=\"-18\" rx=\"34.394\" ry=\"18\"/>\n",
       "<text text-anchor=\"middle\" x=\"34.4469\" y=\"-14.3\" font-family=\"Times,serif\" font-size=\"14.00\">Matko</text>\n",
       "</g>\n",
       "<!-- 1 -->\n",
       "<g id=\"node2\" class=\"node\"><title>1</title>\n",
       "<ellipse fill=\"none\" stroke=\"black\" cx=\"113.447\" cy=\"-18\" rx=\"27\" ry=\"18\"/>\n",
       "<text text-anchor=\"middle\" x=\"113.447\" y=\"-14.3\" font-family=\"Times,serif\" font-size=\"14.00\">raps</text>\n",
       "</g>\n",
       "</g>\n",
       "</svg>\n",
       "</td><td>Shift</td></tr>\n",
       "<tr><td>are silly</td><td><?xml version=\"1.0\" encoding=\"UTF-8\" standalone=\"no\"?>\n",
       "<!DOCTYPE svg PUBLIC \"-//W3C//DTD SVG 1.1//EN\"\n",
       " \"http://www.w3.org/Graphics/SVG/1.1/DTD/svg11.dtd\">\n",
       "<!-- Generated by graphviz version 2.38.0 (20140413.2041)\n",
       " -->\n",
       "<!-- Title: %3 Pages: 1 -->\n",
       "<svg width=\"148pt\" height=\"116pt\"\n",
       " viewBox=\"0.00 0.00 148.45 116.00\" xmlns=\"http://www.w3.org/2000/svg\" xmlns:xlink=\"http://www.w3.org/1999/xlink\">\n",
       "<g id=\"graph0\" class=\"graph\" transform=\"scale(1 1) rotate(0) translate(4 112)\">\n",
       "<title>%3</title>\n",
       "<polygon fill=\"white\" stroke=\"none\" points=\"-4,4 -4,-112 144.447,-112 144.447,4 -4,4\"/>\n",
       "<!-- 0 -->\n",
       "<g id=\"node1\" class=\"node\"><title>0</title>\n",
       "<ellipse fill=\"none\" stroke=\"black\" cx=\"34.4469\" cy=\"-18\" rx=\"34.394\" ry=\"18\"/>\n",
       "<text text-anchor=\"middle\" x=\"34.4469\" y=\"-14.3\" font-family=\"Times,serif\" font-size=\"14.00\">Matko</text>\n",
       "</g>\n",
       "<!-- 1 -->\n",
       "<g id=\"node2\" class=\"node\"><title>1</title>\n",
       "<ellipse fill=\"none\" stroke=\"black\" cx=\"113.447\" cy=\"-18\" rx=\"27\" ry=\"18\"/>\n",
       "<text text-anchor=\"middle\" x=\"113.447\" y=\"-14.3\" font-family=\"Times,serif\" font-size=\"14.00\">raps</text>\n",
       "</g>\n",
       "<!-- 2 -->\n",
       "<g id=\"node3\" class=\"node\"><title>2</title>\n",
       "<ellipse fill=\"none\" stroke=\"black\" cx=\"73.4469\" cy=\"-90\" rx=\"30.5947\" ry=\"18\"/>\n",
       "<text text-anchor=\"middle\" x=\"73.4469\" y=\"-86.3\" font-family=\"Times,serif\" font-size=\"14.00\">NP_p</text>\n",
       "</g>\n",
       "<!-- 2&#45;&gt;0 -->\n",
       "<g id=\"edge1\" class=\"edge\"><title>2&#45;&gt;0</title>\n",
       "<path fill=\"none\" stroke=\"black\" d=\"M64.4015,-72.7646C59.7436,-64.4043 53.9558,-54.0159 48.7131,-44.6059\"/>\n",
       "<polygon fill=\"black\" stroke=\"black\" points=\"51.6387,-42.6656 43.7141,-35.6334 45.5237,-46.0726 51.6387,-42.6656\"/>\n",
       "</g>\n",
       "<!-- 2&#45;&gt;1 -->\n",
       "<g id=\"edge2\" class=\"edge\"><title>2&#45;&gt;1</title>\n",
       "<path fill=\"none\" stroke=\"black\" d=\"M82.7243,-72.7646C87.6213,-64.1948 93.7361,-53.494 99.2182,-43.9004\"/>\n",
       "<polygon fill=\"black\" stroke=\"black\" points=\"102.297,-45.5663 104.22,-35.1473 96.2196,-42.0932 102.297,-45.5663\"/>\n",
       "</g>\n",
       "</g>\n",
       "</svg>\n",
       "</td><td>Reduce</td></tr></table>"
      ],
      "text/plain": [
       "<statnlpbook.parsing.render_transitions.<locals>.Output at 0x7fbcf86b64a8>"
      ]
     },
     "execution_count": 11,
     "metadata": {},
     "output_type": "execute_result"
    }
   ],
   "source": [
    "parsing.render_transitions(transitions[10:13])"
   ]
  },
  {
   "cell_type": "markdown",
   "metadata": {
    "slideshow": {
     "slide_type": "subslide"
    }
   },
   "source": [
    "### Example"
   ]
  },
  {
   "cell_type": "code",
   "execution_count": 12,
   "metadata": {
    "hideCode": true,
    "hidePrompt": true,
    "slideshow": {
     "slide_type": "-"
    }
   },
   "outputs": [
    {
     "data": {
      "text/html": [
       "<table style=\"display: inline-block;\"><tr><td>S</td><td>NP_p VP_p</td></tr><tr><td>S</td><td>NP_s VP_s</td></tr><tr><td>NP_p</td><td>Matko raps</td></tr></table> <table style=\"display: inline-block;\"><tr><td>VP_p</td><td>are ADJ</td></tr><tr><td>NP_s</td><td>Matko</td></tr><tr><td>VP_s</td><td>raps in StatNLP</td></tr></table> <table style=\"display: inline-block;\"><tr><td>ADJ</td><td>silly</td></tr></table>"
      ],
      "text/plain": [
       "<__main__.CFG at 0x7fbcf86b6b00>"
      ]
     },
     "execution_count": 12,
     "metadata": {},
     "output_type": "execute_result"
    }
   ],
   "source": [
    "sentence = ['Matko', 'raps', 'are', 'silly']\n",
    "transitions = bottom_up_parse(cfg, sentence)\n",
    "cfg"
   ]
  },
  {
   "cell_type": "code",
   "execution_count": 13,
   "metadata": {
    "slideshow": {
     "slide_type": "-"
    }
   },
   "outputs": [
    {
     "data": {
      "text/html": [
       "<table><tr><td>raps are silly</td><td><?xml version=\"1.0\" encoding=\"UTF-8\" standalone=\"no\"?>\n",
       "<!DOCTYPE svg PUBLIC \"-//W3C//DTD SVG 1.1//EN\"\n",
       " \"http://www.w3.org/Graphics/SVG/1.1/DTD/svg11.dtd\">\n",
       "<!-- Generated by graphviz version 2.38.0 (20140413.2041)\n",
       " -->\n",
       "<!-- Title: %3 Pages: 1 -->\n",
       "<svg width=\"77pt\" height=\"44pt\"\n",
       " viewBox=\"0.00 0.00 76.89 44.00\" xmlns=\"http://www.w3.org/2000/svg\" xmlns:xlink=\"http://www.w3.org/1999/xlink\">\n",
       "<g id=\"graph0\" class=\"graph\" transform=\"scale(1 1) rotate(0) translate(4 40)\">\n",
       "<title>%3</title>\n",
       "<polygon fill=\"white\" stroke=\"none\" points=\"-4,4 -4,-40 72.8939,-40 72.8939,4 -4,4\"/>\n",
       "<!-- 0 -->\n",
       "<g id=\"node1\" class=\"node\"><title>0</title>\n",
       "<ellipse fill=\"none\" stroke=\"black\" cx=\"34.4469\" cy=\"-18\" rx=\"34.394\" ry=\"18\"/>\n",
       "<text text-anchor=\"middle\" x=\"34.4469\" y=\"-14.3\" font-family=\"Times,serif\" font-size=\"14.00\">Matko</text>\n",
       "</g>\n",
       "</g>\n",
       "</svg>\n",
       "</td><td>Backtrack</td></tr>\n",
       "<tr><td>are silly</td><td><?xml version=\"1.0\" encoding=\"UTF-8\" standalone=\"no\"?>\n",
       "<!DOCTYPE svg PUBLIC \"-//W3C//DTD SVG 1.1//EN\"\n",
       " \"http://www.w3.org/Graphics/SVG/1.1/DTD/svg11.dtd\">\n",
       "<!-- Generated by graphviz version 2.38.0 (20140413.2041)\n",
       " -->\n",
       "<!-- Title: %3 Pages: 1 -->\n",
       "<svg width=\"148pt\" height=\"44pt\"\n",
       " viewBox=\"0.00 0.00 148.45 44.00\" xmlns=\"http://www.w3.org/2000/svg\" xmlns:xlink=\"http://www.w3.org/1999/xlink\">\n",
       "<g id=\"graph0\" class=\"graph\" transform=\"scale(1 1) rotate(0) translate(4 40)\">\n",
       "<title>%3</title>\n",
       "<polygon fill=\"white\" stroke=\"none\" points=\"-4,4 -4,-40 144.447,-40 144.447,4 -4,4\"/>\n",
       "<!-- 0 -->\n",
       "<g id=\"node1\" class=\"node\"><title>0</title>\n",
       "<ellipse fill=\"none\" stroke=\"black\" cx=\"34.4469\" cy=\"-18\" rx=\"34.394\" ry=\"18\"/>\n",
       "<text text-anchor=\"middle\" x=\"34.4469\" y=\"-14.3\" font-family=\"Times,serif\" font-size=\"14.00\">Matko</text>\n",
       "</g>\n",
       "<!-- 1 -->\n",
       "<g id=\"node2\" class=\"node\"><title>1</title>\n",
       "<ellipse fill=\"none\" stroke=\"black\" cx=\"113.447\" cy=\"-18\" rx=\"27\" ry=\"18\"/>\n",
       "<text text-anchor=\"middle\" x=\"113.447\" y=\"-14.3\" font-family=\"Times,serif\" font-size=\"14.00\">raps</text>\n",
       "</g>\n",
       "</g>\n",
       "</svg>\n",
       "</td><td>Shift</td></tr>\n",
       "<tr><td>are silly</td><td><?xml version=\"1.0\" encoding=\"UTF-8\" standalone=\"no\"?>\n",
       "<!DOCTYPE svg PUBLIC \"-//W3C//DTD SVG 1.1//EN\"\n",
       " \"http://www.w3.org/Graphics/SVG/1.1/DTD/svg11.dtd\">\n",
       "<!-- Generated by graphviz version 2.38.0 (20140413.2041)\n",
       " -->\n",
       "<!-- Title: %3 Pages: 1 -->\n",
       "<svg width=\"148pt\" height=\"116pt\"\n",
       " viewBox=\"0.00 0.00 148.45 116.00\" xmlns=\"http://www.w3.org/2000/svg\" xmlns:xlink=\"http://www.w3.org/1999/xlink\">\n",
       "<g id=\"graph0\" class=\"graph\" transform=\"scale(1 1) rotate(0) translate(4 112)\">\n",
       "<title>%3</title>\n",
       "<polygon fill=\"white\" stroke=\"none\" points=\"-4,4 -4,-112 144.447,-112 144.447,4 -4,4\"/>\n",
       "<!-- 0 -->\n",
       "<g id=\"node1\" class=\"node\"><title>0</title>\n",
       "<ellipse fill=\"none\" stroke=\"black\" cx=\"34.4469\" cy=\"-18\" rx=\"34.394\" ry=\"18\"/>\n",
       "<text text-anchor=\"middle\" x=\"34.4469\" y=\"-14.3\" font-family=\"Times,serif\" font-size=\"14.00\">Matko</text>\n",
       "</g>\n",
       "<!-- 1 -->\n",
       "<g id=\"node2\" class=\"node\"><title>1</title>\n",
       "<ellipse fill=\"none\" stroke=\"black\" cx=\"113.447\" cy=\"-18\" rx=\"27\" ry=\"18\"/>\n",
       "<text text-anchor=\"middle\" x=\"113.447\" y=\"-14.3\" font-family=\"Times,serif\" font-size=\"14.00\">raps</text>\n",
       "</g>\n",
       "<!-- 2 -->\n",
       "<g id=\"node3\" class=\"node\"><title>2</title>\n",
       "<ellipse fill=\"none\" stroke=\"black\" cx=\"73.4469\" cy=\"-90\" rx=\"30.5947\" ry=\"18\"/>\n",
       "<text text-anchor=\"middle\" x=\"73.4469\" y=\"-86.3\" font-family=\"Times,serif\" font-size=\"14.00\">NP_p</text>\n",
       "</g>\n",
       "<!-- 2&#45;&gt;0 -->\n",
       "<g id=\"edge1\" class=\"edge\"><title>2&#45;&gt;0</title>\n",
       "<path fill=\"none\" stroke=\"black\" d=\"M64.4015,-72.7646C59.7436,-64.4043 53.9558,-54.0159 48.7131,-44.6059\"/>\n",
       "<polygon fill=\"black\" stroke=\"black\" points=\"51.6387,-42.6656 43.7141,-35.6334 45.5237,-46.0726 51.6387,-42.6656\"/>\n",
       "</g>\n",
       "<!-- 2&#45;&gt;1 -->\n",
       "<g id=\"edge2\" class=\"edge\"><title>2&#45;&gt;1</title>\n",
       "<path fill=\"none\" stroke=\"black\" d=\"M82.7243,-72.7646C87.6213,-64.1948 93.7361,-53.494 99.2182,-43.9004\"/>\n",
       "<polygon fill=\"black\" stroke=\"black\" points=\"102.297,-45.5663 104.22,-35.1473 96.2196,-42.0932 102.297,-45.5663\"/>\n",
       "</g>\n",
       "</g>\n",
       "</svg>\n",
       "</td><td>Reduce</td></tr>\n",
       "<tr><td>silly</td><td><?xml version=\"1.0\" encoding=\"UTF-8\" standalone=\"no\"?>\n",
       "<!DOCTYPE svg PUBLIC \"-//W3C//DTD SVG 1.1//EN\"\n",
       " \"http://www.w3.org/Graphics/SVG/1.1/DTD/svg11.dtd\">\n",
       "<!-- Generated by graphviz version 2.38.0 (20140413.2041)\n",
       " -->\n",
       "<!-- Title: %3 Pages: 1 -->\n",
       "<svg width=\"184pt\" height=\"116pt\"\n",
       " viewBox=\"0.00 0.00 184.45 116.00\" xmlns=\"http://www.w3.org/2000/svg\" xmlns:xlink=\"http://www.w3.org/1999/xlink\">\n",
       "<g id=\"graph0\" class=\"graph\" transform=\"scale(1 1) rotate(0) translate(4 112)\">\n",
       "<title>%3</title>\n",
       "<polygon fill=\"white\" stroke=\"none\" points=\"-4,4 -4,-112 180.447,-112 180.447,4 -4,4\"/>\n",
       "<!-- 0 -->\n",
       "<g id=\"node1\" class=\"node\"><title>0</title>\n",
       "<ellipse fill=\"none\" stroke=\"black\" cx=\"34.4469\" cy=\"-18\" rx=\"34.394\" ry=\"18\"/>\n",
       "<text text-anchor=\"middle\" x=\"34.4469\" y=\"-14.3\" font-family=\"Times,serif\" font-size=\"14.00\">Matko</text>\n",
       "</g>\n",
       "<!-- 1 -->\n",
       "<g id=\"node2\" class=\"node\"><title>1</title>\n",
       "<ellipse fill=\"none\" stroke=\"black\" cx=\"113.447\" cy=\"-18\" rx=\"27\" ry=\"18\"/>\n",
       "<text text-anchor=\"middle\" x=\"113.447\" y=\"-14.3\" font-family=\"Times,serif\" font-size=\"14.00\">raps</text>\n",
       "</g>\n",
       "<!-- 2 -->\n",
       "<g id=\"node3\" class=\"node\"><title>2</title>\n",
       "<ellipse fill=\"none\" stroke=\"black\" cx=\"73.4469\" cy=\"-90\" rx=\"30.5947\" ry=\"18\"/>\n",
       "<text text-anchor=\"middle\" x=\"73.4469\" y=\"-86.3\" font-family=\"Times,serif\" font-size=\"14.00\">NP_p</text>\n",
       "</g>\n",
       "<!-- 2&#45;&gt;0 -->\n",
       "<g id=\"edge1\" class=\"edge\"><title>2&#45;&gt;0</title>\n",
       "<path fill=\"none\" stroke=\"black\" d=\"M64.4015,-72.7646C59.7436,-64.4043 53.9558,-54.0159 48.7131,-44.6059\"/>\n",
       "<polygon fill=\"black\" stroke=\"black\" points=\"51.6387,-42.6656 43.7141,-35.6334 45.5237,-46.0726 51.6387,-42.6656\"/>\n",
       "</g>\n",
       "<!-- 2&#45;&gt;1 -->\n",
       "<g id=\"edge2\" class=\"edge\"><title>2&#45;&gt;1</title>\n",
       "<path fill=\"none\" stroke=\"black\" d=\"M82.7243,-72.7646C87.6213,-64.1948 93.7361,-53.494 99.2182,-43.9004\"/>\n",
       "<polygon fill=\"black\" stroke=\"black\" points=\"102.297,-45.5663 104.22,-35.1473 96.2196,-42.0932 102.297,-45.5663\"/>\n",
       "</g>\n",
       "<!-- 3 -->\n",
       "<g id=\"node4\" class=\"node\"><title>3</title>\n",
       "<ellipse fill=\"none\" stroke=\"black\" cx=\"149.447\" cy=\"-90\" rx=\"27\" ry=\"18\"/>\n",
       "<text text-anchor=\"middle\" x=\"149.447\" y=\"-86.3\" font-family=\"Times,serif\" font-size=\"14.00\">are</text>\n",
       "</g>\n",
       "</g>\n",
       "</svg>\n",
       "</td><td>Shift</td></tr></table>"
      ],
      "text/plain": [
       "<statnlpbook.parsing.render_transitions.<locals>.Output at 0x7fbcf86b6dd8>"
      ]
     },
     "execution_count": 13,
     "metadata": {},
     "output_type": "execute_result"
    }
   ],
   "source": [
    "parsing.render_transitions(transitions[10:14])"
   ]
  },
  {
   "cell_type": "code",
   "execution_count": 14,
   "metadata": {
    "slideshow": {
     "slide_type": "subslide"
    }
   },
   "outputs": [
    {
     "data": {
      "image/svg+xml": [
       "<?xml version=\"1.0\" encoding=\"UTF-8\" standalone=\"no\"?>\n",
       "<!DOCTYPE svg PUBLIC \"-//W3C//DTD SVG 1.1//EN\"\n",
       " \"http://www.w3.org/Graphics/SVG/1.1/DTD/svg11.dtd\">\n",
       "<!-- Generated by graphviz version 2.38.0 (20140413.2041)\n",
       " -->\n",
       "<!-- Title: %3 Pages: 1 -->\n",
       "<svg width=\"295pt\" height=\"260pt\"\n",
       " viewBox=\"0.00 0.00 295.45 260.00\" xmlns=\"http://www.w3.org/2000/svg\" xmlns:xlink=\"http://www.w3.org/1999/xlink\">\n",
       "<g id=\"graph0\" class=\"graph\" transform=\"scale(1 1) rotate(0) translate(4 256)\">\n",
       "<title>%3</title>\n",
       "<polygon fill=\"white\" stroke=\"none\" points=\"-4,4 -4,-256 291.447,-256 291.447,4 -4,4\"/>\n",
       "<!-- 0 -->\n",
       "<g id=\"node1\" class=\"node\"><title>0</title>\n",
       "<ellipse fill=\"none\" stroke=\"black\" cx=\"34.4469\" cy=\"-90\" rx=\"34.394\" ry=\"18\"/>\n",
       "<text text-anchor=\"middle\" x=\"34.4469\" y=\"-86.3\" font-family=\"Times,serif\" font-size=\"14.00\">Matko</text>\n",
       "</g>\n",
       "<!-- 1 -->\n",
       "<g id=\"node2\" class=\"node\"><title>1</title>\n",
       "<ellipse fill=\"none\" stroke=\"black\" cx=\"113.447\" cy=\"-90\" rx=\"27\" ry=\"18\"/>\n",
       "<text text-anchor=\"middle\" x=\"113.447\" y=\"-86.3\" font-family=\"Times,serif\" font-size=\"14.00\">raps</text>\n",
       "</g>\n",
       "<!-- 2 -->\n",
       "<g id=\"node3\" class=\"node\"><title>2</title>\n",
       "<ellipse fill=\"none\" stroke=\"black\" cx=\"111.447\" cy=\"-162\" rx=\"30.5947\" ry=\"18\"/>\n",
       "<text text-anchor=\"middle\" x=\"111.447\" y=\"-158.3\" font-family=\"Times,serif\" font-size=\"14.00\">NP_p</text>\n",
       "</g>\n",
       "<!-- 2&#45;&gt;0 -->\n",
       "<g id=\"edge1\" class=\"edge\"><title>2&#45;&gt;0</title>\n",
       "<path fill=\"none\" stroke=\"black\" d=\"M95.4925,-146.496C84.7965,-136.772 70.516,-123.79 58.4564,-112.827\"/>\n",
       "<polygon fill=\"black\" stroke=\"black\" points=\"60.666,-110.105 50.9122,-105.968 55.9573,-115.285 60.666,-110.105\"/>\n",
       "</g>\n",
       "<!-- 2&#45;&gt;1 -->\n",
       "<g id=\"edge2\" class=\"edge\"><title>2&#45;&gt;1</title>\n",
       "<path fill=\"none\" stroke=\"black\" d=\"M111.941,-143.697C112.162,-135.983 112.427,-126.712 112.672,-118.112\"/>\n",
       "<polygon fill=\"black\" stroke=\"black\" points=\"116.171,-118.2 112.958,-108.104 109.174,-118 116.171,-118.2\"/>\n",
       "</g>\n",
       "<!-- 3 -->\n",
       "<g id=\"node4\" class=\"node\"><title>3</title>\n",
       "<ellipse fill=\"none\" stroke=\"black\" cx=\"188.447\" cy=\"-90\" rx=\"27\" ry=\"18\"/>\n",
       "<text text-anchor=\"middle\" x=\"188.447\" y=\"-86.3\" font-family=\"Times,serif\" font-size=\"14.00\">are</text>\n",
       "</g>\n",
       "<!-- 4 -->\n",
       "<g id=\"node5\" class=\"node\"><title>4</title>\n",
       "<ellipse fill=\"none\" stroke=\"black\" cx=\"260.447\" cy=\"-18\" rx=\"27\" ry=\"18\"/>\n",
       "<text text-anchor=\"middle\" x=\"260.447\" y=\"-14.3\" font-family=\"Times,serif\" font-size=\"14.00\">silly</text>\n",
       "</g>\n",
       "<!-- 5 -->\n",
       "<g id=\"node6\" class=\"node\"><title>5</title>\n",
       "<ellipse fill=\"none\" stroke=\"black\" cx=\"260.447\" cy=\"-90\" rx=\"27\" ry=\"18\"/>\n",
       "<text text-anchor=\"middle\" x=\"260.447\" y=\"-86.3\" font-family=\"Times,serif\" font-size=\"14.00\">ADJ</text>\n",
       "</g>\n",
       "<!-- 5&#45;&gt;4 -->\n",
       "<g id=\"edge3\" class=\"edge\"><title>5&#45;&gt;4</title>\n",
       "<path fill=\"none\" stroke=\"black\" d=\"M260.447,-71.6966C260.447,-63.9827 260.447,-54.7125 260.447,-46.1124\"/>\n",
       "<polygon fill=\"black\" stroke=\"black\" points=\"263.947,-46.1043 260.447,-36.1043 256.947,-46.1044 263.947,-46.1043\"/>\n",
       "</g>\n",
       "<!-- 6 -->\n",
       "<g id=\"node7\" class=\"node\"><title>6</title>\n",
       "<ellipse fill=\"none\" stroke=\"black\" cx=\"190.447\" cy=\"-162\" rx=\"30.5947\" ry=\"18\"/>\n",
       "<text text-anchor=\"middle\" x=\"190.447\" y=\"-158.3\" font-family=\"Times,serif\" font-size=\"14.00\">VP_p</text>\n",
       "</g>\n",
       "<!-- 6&#45;&gt;3 -->\n",
       "<g id=\"edge4\" class=\"edge\"><title>6&#45;&gt;3</title>\n",
       "<path fill=\"none\" stroke=\"black\" d=\"M189.953,-143.697C189.732,-135.983 189.467,-126.712 189.222,-118.112\"/>\n",
       "<polygon fill=\"black\" stroke=\"black\" points=\"192.72,-118 188.936,-108.104 185.723,-118.2 192.72,-118\"/>\n",
       "</g>\n",
       "<!-- 6&#45;&gt;5 -->\n",
       "<g id=\"edge5\" class=\"edge\"><title>6&#45;&gt;5</title>\n",
       "<path fill=\"none\" stroke=\"black\" d=\"M205.292,-146.155C215.074,-136.372 228.043,-123.404 238.947,-112.5\"/>\n",
       "<polygon fill=\"black\" stroke=\"black\" points=\"241.506,-114.891 246.102,-105.345 236.556,-109.941 241.506,-114.891\"/>\n",
       "</g>\n",
       "<!-- 7 -->\n",
       "<g id=\"node8\" class=\"node\"><title>7</title>\n",
       "<ellipse fill=\"none\" stroke=\"black\" cx=\"150.447\" cy=\"-234\" rx=\"27\" ry=\"18\"/>\n",
       "<text text-anchor=\"middle\" x=\"150.447\" y=\"-230.3\" font-family=\"Times,serif\" font-size=\"14.00\">S</text>\n",
       "</g>\n",
       "<!-- 7&#45;&gt;2 -->\n",
       "<g id=\"edge6\" class=\"edge\"><title>7&#45;&gt;2</title>\n",
       "<path fill=\"none\" stroke=\"black\" d=\"M141.402,-216.765C136.744,-208.404 130.956,-198.016 125.713,-188.606\"/>\n",
       "<polygon fill=\"black\" stroke=\"black\" points=\"128.639,-186.666 120.714,-179.633 122.524,-190.073 128.639,-186.666\"/>\n",
       "</g>\n",
       "<!-- 7&#45;&gt;6 -->\n",
       "<g id=\"edge7\" class=\"edge\"><title>7&#45;&gt;6</title>\n",
       "<path fill=\"none\" stroke=\"black\" d=\"M159.724,-216.765C164.502,-208.404 170.438,-198.016 175.815,-188.606\"/>\n",
       "<polygon fill=\"black\" stroke=\"black\" points=\"179.02,-190.052 180.942,-179.633 172.942,-186.579 179.02,-190.052\"/>\n",
       "</g>\n",
       "</g>\n",
       "</svg>\n"
      ],
      "text/plain": [
       "<graphviz.dot.Digraph at 0x7fbcd02960f0>"
      ]
     },
     "execution_count": 14,
     "metadata": {
      "filenames": {
       "image/svg+xml": "/Users/knf792/gits/nlp-course/nlp-book/_build/jupyter_execute/stat-nlp-book/chapters/parsing_slides_45_0.svg"
      }
     },
     "output_type": "execute_result"
    }
   ],
   "source": [
    "parsing.render_forest(transitions[-1][0].stack)"
   ]
  },
  {
   "cell_type": "markdown",
   "metadata": {
    "slideshow": {
     "slide_type": "slide"
    }
   },
   "source": [
    "## Dynamic Programming for Parsing\n",
    "Bottom-up parser repeats the same work several times"
   ]
  },
  {
   "cell_type": "code",
   "execution_count": 15,
   "metadata": {
    "slideshow": {
     "slide_type": "subslide"
    }
   },
   "outputs": [
    {
     "data": {
      "text/html": [
       "<table><tr><td></td><td><?xml version=\"1.0\" encoding=\"UTF-8\" standalone=\"no\"?>\n",
       "<!DOCTYPE svg PUBLIC \"-//W3C//DTD SVG 1.1//EN\"\n",
       " \"http://www.w3.org/Graphics/SVG/1.1/DTD/svg11.dtd\">\n",
       "<!-- Generated by graphviz version 2.38.0 (20140413.2041)\n",
       " -->\n",
       "<!-- Title: %3 Pages: 1 -->\n",
       "<svg width=\"256pt\" height=\"188pt\"\n",
       " viewBox=\"0.00 0.00 256.45 188.00\" xmlns=\"http://www.w3.org/2000/svg\" xmlns:xlink=\"http://www.w3.org/1999/xlink\">\n",
       "<g id=\"graph0\" class=\"graph\" transform=\"scale(1 1) rotate(0) translate(4 184)\">\n",
       "<title>%3</title>\n",
       "<polygon fill=\"white\" stroke=\"none\" points=\"-4,4 -4,-184 252.447,-184 252.447,4 -4,4\"/>\n",
       "<!-- 0 -->\n",
       "<g id=\"node1\" class=\"node\"><title>0</title>\n",
       "<ellipse fill=\"none\" stroke=\"black\" cx=\"34.4469\" cy=\"-90\" rx=\"34.394\" ry=\"18\"/>\n",
       "<text text-anchor=\"middle\" x=\"34.4469\" y=\"-86.3\" font-family=\"Times,serif\" font-size=\"14.00\">Matko</text>\n",
       "</g>\n",
       "<!-- 1 -->\n",
       "<g id=\"node2\" class=\"node\"><title>1</title>\n",
       "<ellipse fill=\"none\" stroke=\"black\" cx=\"34.4469\" cy=\"-162\" rx=\"29.795\" ry=\"18\"/>\n",
       "<text text-anchor=\"middle\" x=\"34.4469\" y=\"-158.3\" font-family=\"Times,serif\" font-size=\"14.00\">NP_s</text>\n",
       "</g>\n",
       "<!-- 1&#45;&gt;0 -->\n",
       "<g id=\"edge1\" class=\"edge\"><title>1&#45;&gt;0</title>\n",
       "<path fill=\"none\" stroke=\"black\" d=\"M34.4469,-143.697C34.4469,-135.983 34.4469,-126.712 34.4469,-118.112\"/>\n",
       "<polygon fill=\"black\" stroke=\"black\" points=\"37.947,-118.104 34.4469,-108.104 30.947,-118.104 37.947,-118.104\"/>\n",
       "</g>\n",
       "<!-- 2 -->\n",
       "<g id=\"node3\" class=\"node\"><title>2</title>\n",
       "<ellipse fill=\"none\" stroke=\"black\" cx=\"127.447\" cy=\"-162\" rx=\"27\" ry=\"18\"/>\n",
       "<text text-anchor=\"middle\" x=\"127.447\" y=\"-158.3\" font-family=\"Times,serif\" font-size=\"14.00\">raps</text>\n",
       "</g>\n",
       "<!-- 3 -->\n",
       "<g id=\"node4\" class=\"node\"><title>3</title>\n",
       "<ellipse fill=\"none\" stroke=\"black\" cx=\"149.447\" cy=\"-90\" rx=\"27\" ry=\"18\"/>\n",
       "<text text-anchor=\"middle\" x=\"149.447\" y=\"-86.3\" font-family=\"Times,serif\" font-size=\"14.00\">are</text>\n",
       "</g>\n",
       "<!-- 4 -->\n",
       "<g id=\"node5\" class=\"node\"><title>4</title>\n",
       "<ellipse fill=\"none\" stroke=\"black\" cx=\"221.447\" cy=\"-18\" rx=\"27\" ry=\"18\"/>\n",
       "<text text-anchor=\"middle\" x=\"221.447\" y=\"-14.3\" font-family=\"Times,serif\" font-size=\"14.00\">silly</text>\n",
       "</g>\n",
       "<!-- 5 -->\n",
       "<g id=\"node6\" class=\"node\"><title>5</title>\n",
       "<ellipse fill=\"none\" stroke=\"black\" cx=\"221.447\" cy=\"-90\" rx=\"27\" ry=\"18\"/>\n",
       "<text text-anchor=\"middle\" x=\"221.447\" y=\"-86.3\" font-family=\"Times,serif\" font-size=\"14.00\">ADJ</text>\n",
       "</g>\n",
       "<!-- 5&#45;&gt;4 -->\n",
       "<g id=\"edge2\" class=\"edge\"><title>5&#45;&gt;4</title>\n",
       "<path fill=\"none\" stroke=\"black\" d=\"M221.447,-71.6966C221.447,-63.9827 221.447,-54.7125 221.447,-46.1124\"/>\n",
       "<polygon fill=\"black\" stroke=\"black\" points=\"224.947,-46.1043 221.447,-36.1043 217.947,-46.1044 224.947,-46.1043\"/>\n",
       "</g>\n",
       "<!-- 6 -->\n",
       "<g id=\"node7\" class=\"node\"><title>6</title>\n",
       "<ellipse fill=\"none\" stroke=\"black\" cx=\"212.447\" cy=\"-162\" rx=\"30.5947\" ry=\"18\"/>\n",
       "<text text-anchor=\"middle\" x=\"212.447\" y=\"-158.3\" font-family=\"Times,serif\" font-size=\"14.00\">VP_p</text>\n",
       "</g>\n",
       "<!-- 6&#45;&gt;3 -->\n",
       "<g id=\"edge3\" class=\"edge\"><title>6&#45;&gt;3</title>\n",
       "<path fill=\"none\" stroke=\"black\" d=\"M198.777,-145.811C190.356,-136.455 179.401,-124.282 169.954,-113.785\"/>\n",
       "<polygon fill=\"black\" stroke=\"black\" points=\"172.382,-111.251 163.09,-106.159 167.178,-115.934 172.382,-111.251\"/>\n",
       "</g>\n",
       "<!-- 6&#45;&gt;5 -->\n",
       "<g id=\"edge4\" class=\"edge\"><title>6&#45;&gt;5</title>\n",
       "<path fill=\"none\" stroke=\"black\" d=\"M214.672,-143.697C215.663,-135.983 216.855,-126.712 217.961,-118.112\"/>\n",
       "<polygon fill=\"black\" stroke=\"black\" points=\"221.444,-118.469 219.248,-108.104 214.501,-117.576 221.444,-118.469\"/>\n",
       "</g>\n",
       "</g>\n",
       "</svg>\n",
       "</td><td>Reduce</td></tr></table>"
      ],
      "text/plain": [
       "<statnlpbook.parsing.render_transitions.<locals>.Output at 0x7fbcf86b6d68>"
      ]
     },
     "execution_count": 15,
     "metadata": {},
     "output_type": "execute_result"
    }
   ],
   "source": [
    "parsing.render_transitions(transitions[7:8]) "
   ]
  },
  {
   "cell_type": "code",
   "execution_count": 16,
   "metadata": {
    "slideshow": {
     "slide_type": "subslide"
    }
   },
   "outputs": [
    {
     "data": {
      "text/html": [
       "<table><tr><td>raps are silly</td><td><?xml version=\"1.0\" encoding=\"UTF-8\" standalone=\"no\"?>\n",
       "<!DOCTYPE svg PUBLIC \"-//W3C//DTD SVG 1.1//EN\"\n",
       " \"http://www.w3.org/Graphics/SVG/1.1/DTD/svg11.dtd\">\n",
       "<!-- Generated by graphviz version 2.38.0 (20140413.2041)\n",
       " -->\n",
       "<!-- Title: %3 Pages: 1 -->\n",
       "<svg width=\"77pt\" height=\"44pt\"\n",
       " viewBox=\"0.00 0.00 76.89 44.00\" xmlns=\"http://www.w3.org/2000/svg\" xmlns:xlink=\"http://www.w3.org/1999/xlink\">\n",
       "<g id=\"graph0\" class=\"graph\" transform=\"scale(1 1) rotate(0) translate(4 40)\">\n",
       "<title>%3</title>\n",
       "<polygon fill=\"white\" stroke=\"none\" points=\"-4,4 -4,-40 72.8939,-40 72.8939,4 -4,4\"/>\n",
       "<!-- 0 -->\n",
       "<g id=\"node1\" class=\"node\"><title>0</title>\n",
       "<ellipse fill=\"none\" stroke=\"black\" cx=\"34.4469\" cy=\"-18\" rx=\"34.394\" ry=\"18\"/>\n",
       "<text text-anchor=\"middle\" x=\"34.4469\" y=\"-14.3\" font-family=\"Times,serif\" font-size=\"14.00\">Matko</text>\n",
       "</g>\n",
       "</g>\n",
       "</svg>\n",
       "</td><td>Backtrack</td></tr>\n",
       "<tr><td>are silly</td><td><?xml version=\"1.0\" encoding=\"UTF-8\" standalone=\"no\"?>\n",
       "<!DOCTYPE svg PUBLIC \"-//W3C//DTD SVG 1.1//EN\"\n",
       " \"http://www.w3.org/Graphics/SVG/1.1/DTD/svg11.dtd\">\n",
       "<!-- Generated by graphviz version 2.38.0 (20140413.2041)\n",
       " -->\n",
       "<!-- Title: %3 Pages: 1 -->\n",
       "<svg width=\"148pt\" height=\"44pt\"\n",
       " viewBox=\"0.00 0.00 148.45 44.00\" xmlns=\"http://www.w3.org/2000/svg\" xmlns:xlink=\"http://www.w3.org/1999/xlink\">\n",
       "<g id=\"graph0\" class=\"graph\" transform=\"scale(1 1) rotate(0) translate(4 40)\">\n",
       "<title>%3</title>\n",
       "<polygon fill=\"white\" stroke=\"none\" points=\"-4,4 -4,-40 144.447,-40 144.447,4 -4,4\"/>\n",
       "<!-- 0 -->\n",
       "<g id=\"node1\" class=\"node\"><title>0</title>\n",
       "<ellipse fill=\"none\" stroke=\"black\" cx=\"34.4469\" cy=\"-18\" rx=\"34.394\" ry=\"18\"/>\n",
       "<text text-anchor=\"middle\" x=\"34.4469\" y=\"-14.3\" font-family=\"Times,serif\" font-size=\"14.00\">Matko</text>\n",
       "</g>\n",
       "<!-- 1 -->\n",
       "<g id=\"node2\" class=\"node\"><title>1</title>\n",
       "<ellipse fill=\"none\" stroke=\"black\" cx=\"113.447\" cy=\"-18\" rx=\"27\" ry=\"18\"/>\n",
       "<text text-anchor=\"middle\" x=\"113.447\" y=\"-14.3\" font-family=\"Times,serif\" font-size=\"14.00\">raps</text>\n",
       "</g>\n",
       "</g>\n",
       "</svg>\n",
       "</td><td>Shift</td></tr>\n",
       "<tr><td>are silly</td><td><?xml version=\"1.0\" encoding=\"UTF-8\" standalone=\"no\"?>\n",
       "<!DOCTYPE svg PUBLIC \"-//W3C//DTD SVG 1.1//EN\"\n",
       " \"http://www.w3.org/Graphics/SVG/1.1/DTD/svg11.dtd\">\n",
       "<!-- Generated by graphviz version 2.38.0 (20140413.2041)\n",
       " -->\n",
       "<!-- Title: %3 Pages: 1 -->\n",
       "<svg width=\"148pt\" height=\"116pt\"\n",
       " viewBox=\"0.00 0.00 148.45 116.00\" xmlns=\"http://www.w3.org/2000/svg\" xmlns:xlink=\"http://www.w3.org/1999/xlink\">\n",
       "<g id=\"graph0\" class=\"graph\" transform=\"scale(1 1) rotate(0) translate(4 112)\">\n",
       "<title>%3</title>\n",
       "<polygon fill=\"white\" stroke=\"none\" points=\"-4,4 -4,-112 144.447,-112 144.447,4 -4,4\"/>\n",
       "<!-- 0 -->\n",
       "<g id=\"node1\" class=\"node\"><title>0</title>\n",
       "<ellipse fill=\"none\" stroke=\"black\" cx=\"34.4469\" cy=\"-18\" rx=\"34.394\" ry=\"18\"/>\n",
       "<text text-anchor=\"middle\" x=\"34.4469\" y=\"-14.3\" font-family=\"Times,serif\" font-size=\"14.00\">Matko</text>\n",
       "</g>\n",
       "<!-- 1 -->\n",
       "<g id=\"node2\" class=\"node\"><title>1</title>\n",
       "<ellipse fill=\"none\" stroke=\"black\" cx=\"113.447\" cy=\"-18\" rx=\"27\" ry=\"18\"/>\n",
       "<text text-anchor=\"middle\" x=\"113.447\" y=\"-14.3\" font-family=\"Times,serif\" font-size=\"14.00\">raps</text>\n",
       "</g>\n",
       "<!-- 2 -->\n",
       "<g id=\"node3\" class=\"node\"><title>2</title>\n",
       "<ellipse fill=\"none\" stroke=\"black\" cx=\"73.4469\" cy=\"-90\" rx=\"30.5947\" ry=\"18\"/>\n",
       "<text text-anchor=\"middle\" x=\"73.4469\" y=\"-86.3\" font-family=\"Times,serif\" font-size=\"14.00\">NP_p</text>\n",
       "</g>\n",
       "<!-- 2&#45;&gt;0 -->\n",
       "<g id=\"edge1\" class=\"edge\"><title>2&#45;&gt;0</title>\n",
       "<path fill=\"none\" stroke=\"black\" d=\"M64.4015,-72.7646C59.7436,-64.4043 53.9558,-54.0159 48.7131,-44.6059\"/>\n",
       "<polygon fill=\"black\" stroke=\"black\" points=\"51.6387,-42.6656 43.7141,-35.6334 45.5237,-46.0726 51.6387,-42.6656\"/>\n",
       "</g>\n",
       "<!-- 2&#45;&gt;1 -->\n",
       "<g id=\"edge2\" class=\"edge\"><title>2&#45;&gt;1</title>\n",
       "<path fill=\"none\" stroke=\"black\" d=\"M82.7243,-72.7646C87.6213,-64.1948 93.7361,-53.494 99.2182,-43.9004\"/>\n",
       "<polygon fill=\"black\" stroke=\"black\" points=\"102.297,-45.5663 104.22,-35.1473 96.2196,-42.0932 102.297,-45.5663\"/>\n",
       "</g>\n",
       "</g>\n",
       "</svg>\n",
       "</td><td>Reduce</td></tr></table>"
      ],
      "text/plain": [
       "<statnlpbook.parsing.render_transitions.<locals>.Output at 0x7fbcd01f1f98>"
      ]
     },
     "execution_count": 16,
     "metadata": {},
     "output_type": "execute_result"
    }
   ],
   "source": [
    "parsing.render_transitions(transitions[10:13])"
   ]
  },
  {
   "cell_type": "code",
   "execution_count": 17,
   "metadata": {
    "slideshow": {
     "slide_type": "subslide"
    }
   },
   "outputs": [
    {
     "data": {
      "text/html": [
       "<table><tr><td></td><td><?xml version=\"1.0\" encoding=\"UTF-8\" standalone=\"no\"?>\n",
       "<!DOCTYPE svg PUBLIC \"-//W3C//DTD SVG 1.1//EN\"\n",
       " \"http://www.w3.org/Graphics/SVG/1.1/DTD/svg11.dtd\">\n",
       "<!-- Generated by graphviz version 2.38.0 (20140413.2041)\n",
       " -->\n",
       "<!-- Title: %3 Pages: 1 -->\n",
       "<svg width=\"295pt\" height=\"188pt\"\n",
       " viewBox=\"0.00 0.00 295.45 188.00\" xmlns=\"http://www.w3.org/2000/svg\" xmlns:xlink=\"http://www.w3.org/1999/xlink\">\n",
       "<g id=\"graph0\" class=\"graph\" transform=\"scale(1 1) rotate(0) translate(4 184)\">\n",
       "<title>%3</title>\n",
       "<polygon fill=\"white\" stroke=\"none\" points=\"-4,4 -4,-184 291.447,-184 291.447,4 -4,4\"/>\n",
       "<!-- 0 -->\n",
       "<g id=\"node1\" class=\"node\"><title>0</title>\n",
       "<ellipse fill=\"none\" stroke=\"black\" cx=\"34.4469\" cy=\"-90\" rx=\"34.394\" ry=\"18\"/>\n",
       "<text text-anchor=\"middle\" x=\"34.4469\" y=\"-86.3\" font-family=\"Times,serif\" font-size=\"14.00\">Matko</text>\n",
       "</g>\n",
       "<!-- 1 -->\n",
       "<g id=\"node2\" class=\"node\"><title>1</title>\n",
       "<ellipse fill=\"none\" stroke=\"black\" cx=\"113.447\" cy=\"-90\" rx=\"27\" ry=\"18\"/>\n",
       "<text text-anchor=\"middle\" x=\"113.447\" y=\"-86.3\" font-family=\"Times,serif\" font-size=\"14.00\">raps</text>\n",
       "</g>\n",
       "<!-- 2 -->\n",
       "<g id=\"node3\" class=\"node\"><title>2</title>\n",
       "<ellipse fill=\"none\" stroke=\"black\" cx=\"92.4469\" cy=\"-162\" rx=\"30.5947\" ry=\"18\"/>\n",
       "<text text-anchor=\"middle\" x=\"92.4469\" y=\"-158.3\" font-family=\"Times,serif\" font-size=\"14.00\">NP_p</text>\n",
       "</g>\n",
       "<!-- 2&#45;&gt;0 -->\n",
       "<g id=\"edge1\" class=\"edge\"><title>2&#45;&gt;0</title>\n",
       "<path fill=\"none\" stroke=\"black\" d=\"M79.5749,-145.465C72.0961,-136.439 62.5189,-124.88 54.113,-114.735\"/>\n",
       "<polygon fill=\"black\" stroke=\"black\" points=\"56.7605,-112.444 47.6852,-106.977 51.3703,-116.91 56.7605,-112.444\"/>\n",
       "</g>\n",
       "<!-- 2&#45;&gt;1 -->\n",
       "<g id=\"edge2\" class=\"edge\"><title>2&#45;&gt;1</title>\n",
       "<path fill=\"none\" stroke=\"black\" d=\"M97.5305,-144.055C99.9294,-136.059 102.848,-126.331 105.527,-117.4\"/>\n",
       "<polygon fill=\"black\" stroke=\"black\" points=\"108.889,-118.373 108.41,-107.789 102.184,-116.362 108.889,-118.373\"/>\n",
       "</g>\n",
       "<!-- 3 -->\n",
       "<g id=\"node4\" class=\"node\"><title>3</title>\n",
       "<ellipse fill=\"none\" stroke=\"black\" cx=\"188.447\" cy=\"-90\" rx=\"27\" ry=\"18\"/>\n",
       "<text text-anchor=\"middle\" x=\"188.447\" y=\"-86.3\" font-family=\"Times,serif\" font-size=\"14.00\">are</text>\n",
       "</g>\n",
       "<!-- 4 -->\n",
       "<g id=\"node5\" class=\"node\"><title>4</title>\n",
       "<ellipse fill=\"none\" stroke=\"black\" cx=\"260.447\" cy=\"-18\" rx=\"27\" ry=\"18\"/>\n",
       "<text text-anchor=\"middle\" x=\"260.447\" y=\"-14.3\" font-family=\"Times,serif\" font-size=\"14.00\">silly</text>\n",
       "</g>\n",
       "<!-- 5 -->\n",
       "<g id=\"node6\" class=\"node\"><title>5</title>\n",
       "<ellipse fill=\"none\" stroke=\"black\" cx=\"260.447\" cy=\"-90\" rx=\"27\" ry=\"18\"/>\n",
       "<text text-anchor=\"middle\" x=\"260.447\" y=\"-86.3\" font-family=\"Times,serif\" font-size=\"14.00\">ADJ</text>\n",
       "</g>\n",
       "<!-- 5&#45;&gt;4 -->\n",
       "<g id=\"edge3\" class=\"edge\"><title>5&#45;&gt;4</title>\n",
       "<path fill=\"none\" stroke=\"black\" d=\"M260.447,-71.6966C260.447,-63.9827 260.447,-54.7125 260.447,-46.1124\"/>\n",
       "<polygon fill=\"black\" stroke=\"black\" points=\"263.947,-46.1043 260.447,-36.1043 256.947,-46.1044 263.947,-46.1043\"/>\n",
       "</g>\n",
       "<!-- 6 -->\n",
       "<g id=\"node7\" class=\"node\"><title>6</title>\n",
       "<ellipse fill=\"none\" stroke=\"black\" cx=\"208.447\" cy=\"-162\" rx=\"30.5947\" ry=\"18\"/>\n",
       "<text text-anchor=\"middle\" x=\"208.447\" y=\"-158.3\" font-family=\"Times,serif\" font-size=\"14.00\">VP_p</text>\n",
       "</g>\n",
       "<!-- 6&#45;&gt;3 -->\n",
       "<g id=\"edge4\" class=\"edge\"><title>6&#45;&gt;3</title>\n",
       "<path fill=\"none\" stroke=\"black\" d=\"M203.606,-144.055C201.345,-136.145 198.601,-126.54 196.072,-117.688\"/>\n",
       "<polygon fill=\"black\" stroke=\"black\" points=\"199.356,-116.443 193.244,-107.789 192.626,-118.366 199.356,-116.443\"/>\n",
       "</g>\n",
       "<!-- 6&#45;&gt;5 -->\n",
       "<g id=\"edge5\" class=\"edge\"><title>6&#45;&gt;5</title>\n",
       "<path fill=\"none\" stroke=\"black\" d=\"M220.247,-145.116C226.989,-136.04 235.569,-124.49 243.069,-114.393\"/>\n",
       "<polygon fill=\"black\" stroke=\"black\" points=\"245.898,-116.455 249.051,-106.34 240.279,-112.28 245.898,-116.455\"/>\n",
       "</g>\n",
       "</g>\n",
       "</svg>\n",
       "</td><td>Reduce</td></tr></table>"
      ],
      "text/plain": [
       "<statnlpbook.parsing.render_transitions.<locals>.Output at 0x7fbcd01469e8>"
      ]
     },
     "execution_count": 17,
     "metadata": {},
     "output_type": "execute_result"
    }
   ],
   "source": [
    "parsing.render_transitions(transitions[-2:-1])"
   ]
  },
  {
   "cell_type": "markdown",
   "metadata": {
    "slideshow": {
     "slide_type": "subslide"
    }
   },
   "source": [
    "Fortunately we can **cache** these computations"
   ]
  },
  {
   "cell_type": "markdown",
   "metadata": {
    "slideshow": {
     "slide_type": "subslide"
    }
   },
   "source": [
    "### Chomsky Normal Form\n",
    "Algorithm for caching requires **Chomsky Normal Form**\n",
    "\n",
    "Rules have form:\n",
    "\n",
    "* \\\\(\\alpha \\rightarrow \\beta \\gamma\\\\) where \\\\(\\beta,\\gamma \\in N \\setminus S \\\\). \n",
    "    * rule with exactly two non-terminals on RHS\n",
    "* \\\\(\\alpha \\rightarrow t\\\\) where \\\\(t \\in \\Sigma\\\\)\n",
    "    * rule that expands to single \n",
    "   terminal"
   ]
  },
  {
   "cell_type": "markdown",
   "metadata": {
    "slideshow": {
     "slide_type": "subslide"
    }
   },
   "source": [
    "## Conversion to CNF\n",
    "We can convert every CFG into an equivalent CFG in CNF\n",
    "\n",
    "Replace left rules by right rules:  \n",
    "\n",
    "* $\\alpha \\rightarrow \\beta \\gamma \\delta \\Rightarrow \\alpha \\rightarrow \\beta\\alpha', \\alpha' \\rightarrow \\gamma \\delta$\n",
    "* $\\alpha \\rightarrow \\beta t \\Rightarrow \\alpha \\rightarrow \\beta \\alpha', \\alpha' \\rightarrow t$ where $t \\in \\Sigma$\n",
    "* $\\alpha \\rightarrow \\beta, \\beta \\rightarrow \\gamma \\delta \\Rightarrow \\alpha \\rightarrow \\gamma \\delta, \\beta \\rightarrow \\gamma \\delta$ \n"
   ]
  },
  {
   "cell_type": "markdown",
   "metadata": {
    "slideshow": {
     "slide_type": "subslide"
    }
   },
   "source": [
    "## Example\n",
    "\n",
    "$S \\rightarrow NP \\: VP \\: PP$ "
   ]
  },
  {
   "cell_type": "markdown",
   "metadata": {
    "slideshow": {
     "slide_type": "fragment"
    }
   },
   "source": [
    "becomes $S \\rightarrow S' \\: PP$ and $S' \\rightarrow NP \\: VP$"
   ]
  },
  {
   "cell_type": "markdown",
   "metadata": {
    "slideshow": {
     "slide_type": "subslide"
    }
   },
   "source": [
    "$VP \\rightarrow \\text{are} \\: ADJ$ "
   ]
  },
  {
   "cell_type": "markdown",
   "metadata": {
    "slideshow": {
     "slide_type": "fragment"
    }
   },
   "source": [
    "becomes $VP \\rightarrow X \\: ADJ$ and $X \\rightarrow \\text{are}$"
   ]
  },
  {
   "cell_type": "code",
   "execution_count": 18,
   "metadata": {
    "slideshow": {
     "slide_type": "subslide"
    }
   },
   "outputs": [
    {
     "data": {
      "text/html": [
       "<table style=\"display: inline-block;\"><tr><td>S</td><td>NP_p VP_p</td></tr><tr><td>S</td><td>NP_s VP_s</td></tr><tr><td>NP_p_0</td><td>Matko</td></tr><tr><td>NP_p_1</td><td>raps</td></tr><tr><td>NP_p</td><td>NP_p_0 NP_p_1</td></tr></table> <table style=\"display: inline-block;\"><tr><td>VP_p_2</td><td>are</td></tr><tr><td>VP_p</td><td>VP_p_2 ADJ</td></tr><tr><td>NP_s</td><td>Matko</td></tr><tr><td>VP_s_4</td><td>raps</td></tr><tr><td>VP_s</td><td>VP_s_4 VP_s_3</td></tr></table> <table style=\"display: inline-block;\"><tr><td>VP_s_3_5</td><td>in</td></tr><tr><td>VP_s_3_6</td><td>StatNLP</td></tr><tr><td>VP_s_3</td><td>VP_s_3_5 VP_s_3_6</td></tr><tr><td>ADJ</td><td>silly</td></tr></table>"
      ],
      "text/plain": [
       "<__main__.CFG at 0x7fbcd0146358>"
      ]
     },
     "execution_count": 18,
     "metadata": {},
     "output_type": "execute_result"
    }
   ],
   "source": [
    "cnf_cfg = to_cnf(cfg)\n",
    "cnf_cfg"
   ]
  },
  {
   "cell_type": "markdown",
   "metadata": {
    "slideshow": {
     "slide_type": "slide"
    }
   },
   "source": [
    "### Cocke–Younger–Kasami (CYK) Algorithm\n",
    "\n",
    "**Incrementally** build all parse trees for **spans of increasing length**"
   ]
  },
  {
   "cell_type": "markdown",
   "metadata": {
    "slideshow": {
     "slide_type": "subslide"
    }
   },
   "source": [
    "Like the one for \"are silly\" and \"Matko Raps\":"
   ]
  },
  {
   "cell_type": "code",
   "execution_count": 19,
   "metadata": {},
   "outputs": [
    {
     "data": {
      "text/html": [
       "<table><tr><td></td><td><?xml version=\"1.0\" encoding=\"UTF-8\" standalone=\"no\"?>\n",
       "<!DOCTYPE svg PUBLIC \"-//W3C//DTD SVG 1.1//EN\"\n",
       " \"http://www.w3.org/Graphics/SVG/1.1/DTD/svg11.dtd\">\n",
       "<!-- Generated by graphviz version 2.38.0 (20140413.2041)\n",
       " -->\n",
       "<!-- Title: %3 Pages: 1 -->\n",
       "<svg width=\"295pt\" height=\"188pt\"\n",
       " viewBox=\"0.00 0.00 295.45 188.00\" xmlns=\"http://www.w3.org/2000/svg\" xmlns:xlink=\"http://www.w3.org/1999/xlink\">\n",
       "<g id=\"graph0\" class=\"graph\" transform=\"scale(1 1) rotate(0) translate(4 184)\">\n",
       "<title>%3</title>\n",
       "<polygon fill=\"white\" stroke=\"none\" points=\"-4,4 -4,-184 291.447,-184 291.447,4 -4,4\"/>\n",
       "<!-- 0 -->\n",
       "<g id=\"node1\" class=\"node\"><title>0</title>\n",
       "<ellipse fill=\"none\" stroke=\"black\" cx=\"34.4469\" cy=\"-90\" rx=\"34.394\" ry=\"18\"/>\n",
       "<text text-anchor=\"middle\" x=\"34.4469\" y=\"-86.3\" font-family=\"Times,serif\" font-size=\"14.00\">Matko</text>\n",
       "</g>\n",
       "<!-- 1 -->\n",
       "<g id=\"node2\" class=\"node\"><title>1</title>\n",
       "<ellipse fill=\"none\" stroke=\"black\" cx=\"113.447\" cy=\"-90\" rx=\"27\" ry=\"18\"/>\n",
       "<text text-anchor=\"middle\" x=\"113.447\" y=\"-86.3\" font-family=\"Times,serif\" font-size=\"14.00\">raps</text>\n",
       "</g>\n",
       "<!-- 2 -->\n",
       "<g id=\"node3\" class=\"node\"><title>2</title>\n",
       "<ellipse fill=\"none\" stroke=\"black\" cx=\"92.4469\" cy=\"-162\" rx=\"30.5947\" ry=\"18\"/>\n",
       "<text text-anchor=\"middle\" x=\"92.4469\" y=\"-158.3\" font-family=\"Times,serif\" font-size=\"14.00\">NP_p</text>\n",
       "</g>\n",
       "<!-- 2&#45;&gt;0 -->\n",
       "<g id=\"edge1\" class=\"edge\"><title>2&#45;&gt;0</title>\n",
       "<path fill=\"none\" stroke=\"black\" d=\"M79.5749,-145.465C72.0961,-136.439 62.5189,-124.88 54.113,-114.735\"/>\n",
       "<polygon fill=\"black\" stroke=\"black\" points=\"56.7605,-112.444 47.6852,-106.977 51.3703,-116.91 56.7605,-112.444\"/>\n",
       "</g>\n",
       "<!-- 2&#45;&gt;1 -->\n",
       "<g id=\"edge2\" class=\"edge\"><title>2&#45;&gt;1</title>\n",
       "<path fill=\"none\" stroke=\"black\" d=\"M97.5305,-144.055C99.9294,-136.059 102.848,-126.331 105.527,-117.4\"/>\n",
       "<polygon fill=\"black\" stroke=\"black\" points=\"108.889,-118.373 108.41,-107.789 102.184,-116.362 108.889,-118.373\"/>\n",
       "</g>\n",
       "<!-- 3 -->\n",
       "<g id=\"node4\" class=\"node\"><title>3</title>\n",
       "<ellipse fill=\"none\" stroke=\"black\" cx=\"188.447\" cy=\"-90\" rx=\"27\" ry=\"18\"/>\n",
       "<text text-anchor=\"middle\" x=\"188.447\" y=\"-86.3\" font-family=\"Times,serif\" font-size=\"14.00\">are</text>\n",
       "</g>\n",
       "<!-- 4 -->\n",
       "<g id=\"node5\" class=\"node\"><title>4</title>\n",
       "<ellipse fill=\"none\" stroke=\"black\" cx=\"260.447\" cy=\"-18\" rx=\"27\" ry=\"18\"/>\n",
       "<text text-anchor=\"middle\" x=\"260.447\" y=\"-14.3\" font-family=\"Times,serif\" font-size=\"14.00\">silly</text>\n",
       "</g>\n",
       "<!-- 5 -->\n",
       "<g id=\"node6\" class=\"node\"><title>5</title>\n",
       "<ellipse fill=\"none\" stroke=\"black\" cx=\"260.447\" cy=\"-90\" rx=\"27\" ry=\"18\"/>\n",
       "<text text-anchor=\"middle\" x=\"260.447\" y=\"-86.3\" font-family=\"Times,serif\" font-size=\"14.00\">ADJ</text>\n",
       "</g>\n",
       "<!-- 5&#45;&gt;4 -->\n",
       "<g id=\"edge3\" class=\"edge\"><title>5&#45;&gt;4</title>\n",
       "<path fill=\"none\" stroke=\"black\" d=\"M260.447,-71.6966C260.447,-63.9827 260.447,-54.7125 260.447,-46.1124\"/>\n",
       "<polygon fill=\"black\" stroke=\"black\" points=\"263.947,-46.1043 260.447,-36.1043 256.947,-46.1044 263.947,-46.1043\"/>\n",
       "</g>\n",
       "<!-- 6 -->\n",
       "<g id=\"node7\" class=\"node\"><title>6</title>\n",
       "<ellipse fill=\"none\" stroke=\"black\" cx=\"208.447\" cy=\"-162\" rx=\"30.5947\" ry=\"18\"/>\n",
       "<text text-anchor=\"middle\" x=\"208.447\" y=\"-158.3\" font-family=\"Times,serif\" font-size=\"14.00\">VP_p</text>\n",
       "</g>\n",
       "<!-- 6&#45;&gt;3 -->\n",
       "<g id=\"edge4\" class=\"edge\"><title>6&#45;&gt;3</title>\n",
       "<path fill=\"none\" stroke=\"black\" d=\"M203.606,-144.055C201.345,-136.145 198.601,-126.54 196.072,-117.688\"/>\n",
       "<polygon fill=\"black\" stroke=\"black\" points=\"199.356,-116.443 193.244,-107.789 192.626,-118.366 199.356,-116.443\"/>\n",
       "</g>\n",
       "<!-- 6&#45;&gt;5 -->\n",
       "<g id=\"edge5\" class=\"edge\"><title>6&#45;&gt;5</title>\n",
       "<path fill=\"none\" stroke=\"black\" d=\"M220.247,-145.116C226.989,-136.04 235.569,-124.49 243.069,-114.393\"/>\n",
       "<polygon fill=\"black\" stroke=\"black\" points=\"245.898,-116.455 249.051,-106.34 240.279,-112.28 245.898,-116.455\"/>\n",
       "</g>\n",
       "</g>\n",
       "</svg>\n",
       "</td><td>Reduce</td></tr></table>"
      ],
      "text/plain": [
       "<statnlpbook.parsing.render_transitions.<locals>.Output at 0x7fbcd0146f28>"
      ]
     },
     "execution_count": 19,
     "metadata": {},
     "output_type": "execute_result"
    }
   ],
   "source": [
    "parsing.render_transitions(transitions[16:17]) "
   ]
  },
  {
   "cell_type": "markdown",
   "metadata": {
    "slideshow": {
     "slide_type": "subslide"
    }
   },
   "source": [
    "### CYK Algorithm\n",
    "Populate chart with non-terminal $l$ for span $(i,j)$ \n",
    "\n",
    "if $j=i$\n",
    "* Add label $l$ if $l \\rightarrow x_i \\in R$ "
   ]
  },
  {
   "cell_type": "markdown",
   "metadata": {
    "slideshow": {
     "slide_type": "subslide"
    }
   },
   "source": [
    "if $j>i$\n",
    "* Consider all *middle* indices $m$   \n",
    "* **combine trees** of span $(i,m)$ and $(m+1,j)$ with labels $l_1$ and $l_2$\n",
    "* if there is a rule $l \\rightarrow l_1 \\: l_2 \\in R$"
   ]
  },
  {
   "cell_type": "markdown",
   "metadata": {
    "slideshow": {
     "slide_type": "subslide"
    }
   },
   "source": [
    "Best done in a **chart** to store \n",
    "* legal non-terminals per span \n",
    "* and back-pointers to child spans"
   ]
  },
  {
   "cell_type": "code",
   "execution_count": 20,
   "metadata": {
    "hideCode": true,
    "hidePrompt": true,
    "slideshow": {
     "slide_type": "-"
    }
   },
   "outputs": [
    {
     "data": {
      "text/html": [
       "<table><tr><td></td><td>0: Matko</td><td>1: raps</td><td>2: are</td><td>3: silly</td></tr>\n",
       "<tr><td>0: Matko</td><td style=\"border:solid;\" bgcolor=\"white\"><font color=\"black\">NP_s</font>, <font color=\"red\">NP_p_0</font></td><td style=\"border:solid;\" bgcolor=\"#C3C3C3\"><font color=\"blue\">NP_p_2</font></td><td style=\"border:solid;\" bgcolor=\"white\"></td><td style=\"border:solid;\" bgcolor=\"white\"></td></tr>\n",
       "<tr><td>1: raps</td><td style=\"border:none;\" bgcolor=\"white\"></td><td style=\"border:solid;\" bgcolor=\"white\"><font color=\"black\">VP_s_6</font>, <font color=\"red\">NP_p_1</font></td><td style=\"border:solid;\" bgcolor=\"white\"></td><td style=\"border:solid;\" bgcolor=\"white\"></td></tr>\n",
       "<tr><td>2: are</td><td style=\"border:none;\" bgcolor=\"white\"></td><td style=\"border:none;\" bgcolor=\"white\"></td><td style=\"border:solid;\" bgcolor=\"white\"></td><td style=\"border:solid;\" bgcolor=\"white\"></td></tr>\n",
       "<tr><td>3: silly</td><td style=\"border:none;\" bgcolor=\"white\"></td><td style=\"border:none;\" bgcolor=\"white\"></td><td style=\"border:none;\" bgcolor=\"white\"></td><td style=\"border:solid;\" bgcolor=\"white\"></td></tr></table>"
      ],
      "text/plain": [
       "<statnlpbook.parsing.Chart at 0x7fbcd0146978>"
      ]
     },
     "execution_count": 20,
     "metadata": {},
     "output_type": "execute_result"
    }
   ],
   "source": [
    "chart = parsing.Chart(sentence)\n",
    "chart.append_label(0,0,'NP_s')\n",
    "chart.append_label(0,0,'NP_p_0')\n",
    "chart.append_label(1,1,'VP_s_6')\n",
    "chart.append_label(1,1,'NP_p_1')\n",
    "chart.append_label(0,1,'NP_p_2', [(0,0,'NP_p_0'),(1,1,'NP_p_1')]) \n",
    "chart.mark(0, 1, 'NP_p_2')\n",
    "chart.mark_target(0,1)\n",
    "chart"
   ]
  },
  {
   "cell_type": "code",
   "execution_count": 21,
   "metadata": {
    "hideCode": true,
    "hidePrompt": true,
    "slideshow": {
     "slide_type": "subslide"
    }
   },
   "outputs": [
    {
     "data": {
      "text/html": [
       "<table style=\"display: inline-block;\"><tr><td>S</td><td>NP_p VP_p</td></tr><tr><td>S</td><td>NP_s VP_s</td></tr><tr><td>NP_p_0</td><td>Matko</td></tr><tr><td>NP_p_1</td><td>raps</td></tr><tr><td>NP_p</td><td>NP_p_0 NP_p_1</td></tr></table> <table style=\"display: inline-block;\"><tr><td>VP_p_2</td><td>are</td></tr><tr><td>VP_p</td><td>VP_p_2 ADJ</td></tr><tr><td>NP_s</td><td>Matko</td></tr><tr><td>VP_s_4</td><td>raps</td></tr><tr><td>VP_s</td><td>VP_s_4 VP_s_3</td></tr></table> <table style=\"display: inline-block;\"><tr><td>VP_s_3_5</td><td>in</td></tr><tr><td>VP_s_3_6</td><td>StatNLP</td></tr><tr><td>VP_s_3</td><td>VP_s_3_5 VP_s_3_6</td></tr><tr><td>ADJ</td><td>silly</td></tr></table>"
      ],
      "text/plain": [
       "<__main__.CFG at 0x7fbcd0146358>"
      ]
     },
     "execution_count": 21,
     "metadata": {},
     "output_type": "execute_result"
    }
   ],
   "source": [
    "cnf_cfg"
   ]
  },
  {
   "cell_type": "code",
   "execution_count": 22,
   "metadata": {
    "hideCode": true,
    "hidePrompt": true,
    "slideshow": {
     "slide_type": "-"
    }
   },
   "outputs": [
    {
     "data": {
      "text/html": [
       "\n",
       "        <div id=\"672168dc-b7f9-11e8-86ff-0242ac110002\" class=\"carousel\" data-ride=\"carousel\" data-interval=\"false\">\n",
       "          <!-- Controls -->\n",
       "          <a href=\"#672168dc-b7f9-11e8-86ff-0242ac110002\" role=\"button2\" data-slide=\"prev\">Previous</a>\n",
       "          &nbsp\n",
       "          <a  href=\"#672168dc-b7f9-11e8-86ff-0242ac110002\" role=\"button2\" data-slide=\"next\">Next</a>\n",
       "          <div class=\"carousel-inner\" role=\"listbox\">\n",
       "          <div class=\"item active\"><table><tr><td></td><td>0: Matko</td><td>1: raps</td><td>2: are</td><td>3: silly</td></tr>\n",
       "<tr><td>0: Matko</td><td style=\"border:solid;\" bgcolor=\"white\"></td><td style=\"border:solid;\" bgcolor=\"white\"></td><td style=\"border:solid;\" bgcolor=\"white\"></td><td style=\"border:solid;\" bgcolor=\"white\"></td></tr>\n",
       "<tr><td>1: raps</td><td style=\"border:none;\" bgcolor=\"white\"></td><td style=\"border:solid;\" bgcolor=\"white\"></td><td style=\"border:solid;\" bgcolor=\"white\"></td><td style=\"border:solid;\" bgcolor=\"white\"></td></tr>\n",
       "<tr><td>2: are</td><td style=\"border:none;\" bgcolor=\"white\"></td><td style=\"border:none;\" bgcolor=\"white\"></td><td style=\"border:solid;\" bgcolor=\"white\"></td><td style=\"border:solid;\" bgcolor=\"white\"></td></tr>\n",
       "<tr><td>3: silly</td><td style=\"border:none;\" bgcolor=\"white\"></td><td style=\"border:none;\" bgcolor=\"white\"></td><td style=\"border:none;\" bgcolor=\"white\"></td><td style=\"border:solid;\" bgcolor=\"white\"></td></tr></table> 1 / 36</div>\n",
       "<div class=\"item\"><table><tr><td></td><td>0: Matko</td><td>1: raps</td><td>2: are</td><td>3: silly</td></tr>\n",
       "<tr><td>0: Matko</td><td style=\"border:solid;\" bgcolor=\"#C3C3C3\"></td><td style=\"border:solid;\" bgcolor=\"white\"></td><td style=\"border:solid;\" bgcolor=\"white\"></td><td style=\"border:solid;\" bgcolor=\"white\"></td></tr>\n",
       "<tr><td>1: raps</td><td style=\"border:none;\" bgcolor=\"white\"></td><td style=\"border:solid;\" bgcolor=\"white\"></td><td style=\"border:solid;\" bgcolor=\"white\"></td><td style=\"border:solid;\" bgcolor=\"white\"></td></tr>\n",
       "<tr><td>2: are</td><td style=\"border:none;\" bgcolor=\"white\"></td><td style=\"border:none;\" bgcolor=\"white\"></td><td style=\"border:solid;\" bgcolor=\"white\"></td><td style=\"border:solid;\" bgcolor=\"white\"></td></tr>\n",
       "<tr><td>3: silly</td><td style=\"border:none;\" bgcolor=\"white\"></td><td style=\"border:none;\" bgcolor=\"white\"></td><td style=\"border:none;\" bgcolor=\"white\"></td><td style=\"border:solid;\" bgcolor=\"white\"></td></tr></table> 2 / 36</div>\n",
       "<div class=\"item\"><table><tr><td></td><td>0: Matko</td><td>1: raps</td><td>2: are</td><td>3: silly</td></tr>\n",
       "<tr><td>0: Matko</td><td style=\"border:solid;\" bgcolor=\"#C3C3C3\"><font color=\"blue\">NP_p_0</font></td><td style=\"border:solid;\" bgcolor=\"white\"></td><td style=\"border:solid;\" bgcolor=\"white\"></td><td style=\"border:solid;\" bgcolor=\"white\"></td></tr>\n",
       "<tr><td>1: raps</td><td style=\"border:none;\" bgcolor=\"white\"></td><td style=\"border:solid;\" bgcolor=\"white\"></td><td style=\"border:solid;\" bgcolor=\"white\"></td><td style=\"border:solid;\" bgcolor=\"white\"></td></tr>\n",
       "<tr><td>2: are</td><td style=\"border:none;\" bgcolor=\"white\"></td><td style=\"border:none;\" bgcolor=\"white\"></td><td style=\"border:solid;\" bgcolor=\"white\"></td><td style=\"border:solid;\" bgcolor=\"white\"></td></tr>\n",
       "<tr><td>3: silly</td><td style=\"border:none;\" bgcolor=\"white\"></td><td style=\"border:none;\" bgcolor=\"white\"></td><td style=\"border:none;\" bgcolor=\"white\"></td><td style=\"border:solid;\" bgcolor=\"white\"></td></tr></table> 3 / 36</div>\n",
       "<div class=\"item\"><table><tr><td></td><td>0: Matko</td><td>1: raps</td><td>2: are</td><td>3: silly</td></tr>\n",
       "<tr><td>0: Matko</td><td style=\"border:solid;\" bgcolor=\"#C3C3C3\"><font color=\"black\">NP_p_0</font>, <font color=\"blue\">NP_s</font></td><td style=\"border:solid;\" bgcolor=\"white\"></td><td style=\"border:solid;\" bgcolor=\"white\"></td><td style=\"border:solid;\" bgcolor=\"white\"></td></tr>\n",
       "<tr><td>1: raps</td><td style=\"border:none;\" bgcolor=\"white\"></td><td style=\"border:solid;\" bgcolor=\"white\"></td><td style=\"border:solid;\" bgcolor=\"white\"></td><td style=\"border:solid;\" bgcolor=\"white\"></td></tr>\n",
       "<tr><td>2: are</td><td style=\"border:none;\" bgcolor=\"white\"></td><td style=\"border:none;\" bgcolor=\"white\"></td><td style=\"border:solid;\" bgcolor=\"white\"></td><td style=\"border:solid;\" bgcolor=\"white\"></td></tr>\n",
       "<tr><td>3: silly</td><td style=\"border:none;\" bgcolor=\"white\"></td><td style=\"border:none;\" bgcolor=\"white\"></td><td style=\"border:none;\" bgcolor=\"white\"></td><td style=\"border:solid;\" bgcolor=\"white\"></td></tr></table> 4 / 36</div>\n",
       "<div class=\"item\"><table><tr><td></td><td>0: Matko</td><td>1: raps</td><td>2: are</td><td>3: silly</td></tr>\n",
       "<tr><td>0: Matko</td><td style=\"border:solid;\" bgcolor=\"white\"><font color=\"black\">NP_p_0</font>, <font color=\"blue\">NP_s</font></td><td style=\"border:solid;\" bgcolor=\"white\"></td><td style=\"border:solid;\" bgcolor=\"white\"></td><td style=\"border:solid;\" bgcolor=\"white\"></td></tr>\n",
       "<tr><td>1: raps</td><td style=\"border:none;\" bgcolor=\"white\"></td><td style=\"border:solid;\" bgcolor=\"#C3C3C3\"></td><td style=\"border:solid;\" bgcolor=\"white\"></td><td style=\"border:solid;\" bgcolor=\"white\"></td></tr>\n",
       "<tr><td>2: are</td><td style=\"border:none;\" bgcolor=\"white\"></td><td style=\"border:none;\" bgcolor=\"white\"></td><td style=\"border:solid;\" bgcolor=\"white\"></td><td style=\"border:solid;\" bgcolor=\"white\"></td></tr>\n",
       "<tr><td>3: silly</td><td style=\"border:none;\" bgcolor=\"white\"></td><td style=\"border:none;\" bgcolor=\"white\"></td><td style=\"border:none;\" bgcolor=\"white\"></td><td style=\"border:solid;\" bgcolor=\"white\"></td></tr></table> 5 / 36</div>\n",
       "<div class=\"item\"><table><tr><td></td><td>0: Matko</td><td>1: raps</td><td>2: are</td><td>3: silly</td></tr>\n",
       "<tr><td>0: Matko</td><td style=\"border:solid;\" bgcolor=\"white\"><font color=\"black\">NP_p_0</font>, <font color=\"black\">NP_s</font></td><td style=\"border:solid;\" bgcolor=\"white\"></td><td style=\"border:solid;\" bgcolor=\"white\"></td><td style=\"border:solid;\" bgcolor=\"white\"></td></tr>\n",
       "<tr><td>1: raps</td><td style=\"border:none;\" bgcolor=\"white\"></td><td style=\"border:solid;\" bgcolor=\"#C3C3C3\"><font color=\"blue\">NP_p_1</font></td><td style=\"border:solid;\" bgcolor=\"white\"></td><td style=\"border:solid;\" bgcolor=\"white\"></td></tr>\n",
       "<tr><td>2: are</td><td style=\"border:none;\" bgcolor=\"white\"></td><td style=\"border:none;\" bgcolor=\"white\"></td><td style=\"border:solid;\" bgcolor=\"white\"></td><td style=\"border:solid;\" bgcolor=\"white\"></td></tr>\n",
       "<tr><td>3: silly</td><td style=\"border:none;\" bgcolor=\"white\"></td><td style=\"border:none;\" bgcolor=\"white\"></td><td style=\"border:none;\" bgcolor=\"white\"></td><td style=\"border:solid;\" bgcolor=\"white\"></td></tr></table> 6 / 36</div>\n",
       "<div class=\"item\"><table><tr><td></td><td>0: Matko</td><td>1: raps</td><td>2: are</td><td>3: silly</td></tr>\n",
       "<tr><td>0: Matko</td><td style=\"border:solid;\" bgcolor=\"white\"><font color=\"black\">NP_p_0</font>, <font color=\"black\">NP_s</font></td><td style=\"border:solid;\" bgcolor=\"white\"></td><td style=\"border:solid;\" bgcolor=\"white\"></td><td style=\"border:solid;\" bgcolor=\"white\"></td></tr>\n",
       "<tr><td>1: raps</td><td style=\"border:none;\" bgcolor=\"white\"></td><td style=\"border:solid;\" bgcolor=\"#C3C3C3\"><font color=\"black\">NP_p_1</font>, <font color=\"blue\">VP_s_4</font></td><td style=\"border:solid;\" bgcolor=\"white\"></td><td style=\"border:solid;\" bgcolor=\"white\"></td></tr>\n",
       "<tr><td>2: are</td><td style=\"border:none;\" bgcolor=\"white\"></td><td style=\"border:none;\" bgcolor=\"white\"></td><td style=\"border:solid;\" bgcolor=\"white\"></td><td style=\"border:solid;\" bgcolor=\"white\"></td></tr>\n",
       "<tr><td>3: silly</td><td style=\"border:none;\" bgcolor=\"white\"></td><td style=\"border:none;\" bgcolor=\"white\"></td><td style=\"border:none;\" bgcolor=\"white\"></td><td style=\"border:solid;\" bgcolor=\"white\"></td></tr></table> 7 / 36</div>\n",
       "<div class=\"item\"><table><tr><td></td><td>0: Matko</td><td>1: raps</td><td>2: are</td><td>3: silly</td></tr>\n",
       "<tr><td>0: Matko</td><td style=\"border:solid;\" bgcolor=\"white\"><font color=\"black\">NP_p_0</font>, <font color=\"black\">NP_s</font></td><td style=\"border:solid;\" bgcolor=\"white\"></td><td style=\"border:solid;\" bgcolor=\"white\"></td><td style=\"border:solid;\" bgcolor=\"white\"></td></tr>\n",
       "<tr><td>1: raps</td><td style=\"border:none;\" bgcolor=\"white\"></td><td style=\"border:solid;\" bgcolor=\"white\"><font color=\"black\">NP_p_1</font>, <font color=\"blue\">VP_s_4</font></td><td style=\"border:solid;\" bgcolor=\"white\"></td><td style=\"border:solid;\" bgcolor=\"white\"></td></tr>\n",
       "<tr><td>2: are</td><td style=\"border:none;\" bgcolor=\"white\"></td><td style=\"border:none;\" bgcolor=\"white\"></td><td style=\"border:solid;\" bgcolor=\"#C3C3C3\"></td><td style=\"border:solid;\" bgcolor=\"white\"></td></tr>\n",
       "<tr><td>3: silly</td><td style=\"border:none;\" bgcolor=\"white\"></td><td style=\"border:none;\" bgcolor=\"white\"></td><td style=\"border:none;\" bgcolor=\"white\"></td><td style=\"border:solid;\" bgcolor=\"white\"></td></tr></table> 8 / 36</div>\n",
       "<div class=\"item\"><table><tr><td></td><td>0: Matko</td><td>1: raps</td><td>2: are</td><td>3: silly</td></tr>\n",
       "<tr><td>0: Matko</td><td style=\"border:solid;\" bgcolor=\"white\"><font color=\"black\">NP_p_0</font>, <font color=\"black\">NP_s</font></td><td style=\"border:solid;\" bgcolor=\"white\"></td><td style=\"border:solid;\" bgcolor=\"white\"></td><td style=\"border:solid;\" bgcolor=\"white\"></td></tr>\n",
       "<tr><td>1: raps</td><td style=\"border:none;\" bgcolor=\"white\"></td><td style=\"border:solid;\" bgcolor=\"white\"><font color=\"black\">NP_p_1</font>, <font color=\"black\">VP_s_4</font></td><td style=\"border:solid;\" bgcolor=\"white\"></td><td style=\"border:solid;\" bgcolor=\"white\"></td></tr>\n",
       "<tr><td>2: are</td><td style=\"border:none;\" bgcolor=\"white\"></td><td style=\"border:none;\" bgcolor=\"white\"></td><td style=\"border:solid;\" bgcolor=\"#C3C3C3\"><font color=\"blue\">VP_p_2</font></td><td style=\"border:solid;\" bgcolor=\"white\"></td></tr>\n",
       "<tr><td>3: silly</td><td style=\"border:none;\" bgcolor=\"white\"></td><td style=\"border:none;\" bgcolor=\"white\"></td><td style=\"border:none;\" bgcolor=\"white\"></td><td style=\"border:solid;\" bgcolor=\"white\"></td></tr></table> 9 / 36</div>\n",
       "<div class=\"item\"><table><tr><td></td><td>0: Matko</td><td>1: raps</td><td>2: are</td><td>3: silly</td></tr>\n",
       "<tr><td>0: Matko</td><td style=\"border:solid;\" bgcolor=\"white\"><font color=\"black\">NP_p_0</font>, <font color=\"black\">NP_s</font></td><td style=\"border:solid;\" bgcolor=\"white\"></td><td style=\"border:solid;\" bgcolor=\"white\"></td><td style=\"border:solid;\" bgcolor=\"white\"></td></tr>\n",
       "<tr><td>1: raps</td><td style=\"border:none;\" bgcolor=\"white\"></td><td style=\"border:solid;\" bgcolor=\"white\"><font color=\"black\">NP_p_1</font>, <font color=\"black\">VP_s_4</font></td><td style=\"border:solid;\" bgcolor=\"white\"></td><td style=\"border:solid;\" bgcolor=\"white\"></td></tr>\n",
       "<tr><td>2: are</td><td style=\"border:none;\" bgcolor=\"white\"></td><td style=\"border:none;\" bgcolor=\"white\"></td><td style=\"border:solid;\" bgcolor=\"white\"><font color=\"blue\">VP_p_2</font></td><td style=\"border:solid;\" bgcolor=\"white\"></td></tr>\n",
       "<tr><td>3: silly</td><td style=\"border:none;\" bgcolor=\"white\"></td><td style=\"border:none;\" bgcolor=\"white\"></td><td style=\"border:none;\" bgcolor=\"white\"></td><td style=\"border:solid;\" bgcolor=\"#C3C3C3\"></td></tr></table> 10 / 36</div>\n",
       "<div class=\"item\"><table><tr><td></td><td>0: Matko</td><td>1: raps</td><td>2: are</td><td>3: silly</td></tr>\n",
       "<tr><td>0: Matko</td><td style=\"border:solid;\" bgcolor=\"white\"><font color=\"black\">NP_p_0</font>, <font color=\"black\">NP_s</font></td><td style=\"border:solid;\" bgcolor=\"white\"></td><td style=\"border:solid;\" bgcolor=\"white\"></td><td style=\"border:solid;\" bgcolor=\"white\"></td></tr>\n",
       "<tr><td>1: raps</td><td style=\"border:none;\" bgcolor=\"white\"></td><td style=\"border:solid;\" bgcolor=\"white\"><font color=\"black\">NP_p_1</font>, <font color=\"black\">VP_s_4</font></td><td style=\"border:solid;\" bgcolor=\"white\"></td><td style=\"border:solid;\" bgcolor=\"white\"></td></tr>\n",
       "<tr><td>2: are</td><td style=\"border:none;\" bgcolor=\"white\"></td><td style=\"border:none;\" bgcolor=\"white\"></td><td style=\"border:solid;\" bgcolor=\"white\"><font color=\"black\">VP_p_2</font></td><td style=\"border:solid;\" bgcolor=\"white\"></td></tr>\n",
       "<tr><td>3: silly</td><td style=\"border:none;\" bgcolor=\"white\"></td><td style=\"border:none;\" bgcolor=\"white\"></td><td style=\"border:none;\" bgcolor=\"white\"></td><td style=\"border:solid;\" bgcolor=\"#C3C3C3\"><font color=\"blue\">ADJ</font></td></tr></table> 11 / 36</div>\n",
       "<div class=\"item\"><table><tr><td></td><td>0: Matko</td><td>1: raps</td><td>2: are</td><td>3: silly</td></tr>\n",
       "<tr><td>0: Matko</td><td style=\"border:solid;\" bgcolor=\"#E1E1E1\"><font color=\"black\">NP_p_0</font>, <font color=\"black\">NP_s</font></td><td style=\"border:solid;\" bgcolor=\"#C3C3C3\"></td><td style=\"border:solid;\" bgcolor=\"white\"></td><td style=\"border:solid;\" bgcolor=\"white\"></td></tr>\n",
       "<tr><td>1: raps</td><td style=\"border:none;\" bgcolor=\"white\"></td><td style=\"border:solid;\" bgcolor=\"#E1E1E1\"><font color=\"black\">NP_p_1</font>, <font color=\"black\">VP_s_4</font></td><td style=\"border:solid;\" bgcolor=\"white\"></td><td style=\"border:solid;\" bgcolor=\"white\"></td></tr>\n",
       "<tr><td>2: are</td><td style=\"border:none;\" bgcolor=\"white\"></td><td style=\"border:none;\" bgcolor=\"white\"></td><td style=\"border:solid;\" bgcolor=\"white\"><font color=\"black\">VP_p_2</font></td><td style=\"border:solid;\" bgcolor=\"white\"></td></tr>\n",
       "<tr><td>3: silly</td><td style=\"border:none;\" bgcolor=\"white\"></td><td style=\"border:none;\" bgcolor=\"white\"></td><td style=\"border:none;\" bgcolor=\"white\"></td><td style=\"border:solid;\" bgcolor=\"white\"><font color=\"black\">ADJ</font></td></tr></table> 12 / 36</div>\n",
       "<div class=\"item\"><table><tr><td></td><td>0: Matko</td><td>1: raps</td><td>2: are</td><td>3: silly</td></tr>\n",
       "<tr><td>0: Matko</td><td style=\"border:solid;\" bgcolor=\"#E1E1E1\"><font color=\"red\">NP_p_0</font>, <font color=\"black\">NP_s</font></td><td style=\"border:solid;\" bgcolor=\"#C3C3C3\"></td><td style=\"border:solid;\" bgcolor=\"white\"></td><td style=\"border:solid;\" bgcolor=\"white\"></td></tr>\n",
       "<tr><td>1: raps</td><td style=\"border:none;\" bgcolor=\"white\"></td><td style=\"border:solid;\" bgcolor=\"#E1E1E1\"><font color=\"red\">NP_p_1</font>, <font color=\"black\">VP_s_4</font></td><td style=\"border:solid;\" bgcolor=\"white\"></td><td style=\"border:solid;\" bgcolor=\"white\"></td></tr>\n",
       "<tr><td>2: are</td><td style=\"border:none;\" bgcolor=\"white\"></td><td style=\"border:none;\" bgcolor=\"white\"></td><td style=\"border:solid;\" bgcolor=\"white\"><font color=\"black\">VP_p_2</font></td><td style=\"border:solid;\" bgcolor=\"white\"></td></tr>\n",
       "<tr><td>3: silly</td><td style=\"border:none;\" bgcolor=\"white\"></td><td style=\"border:none;\" bgcolor=\"white\"></td><td style=\"border:none;\" bgcolor=\"white\"></td><td style=\"border:solid;\" bgcolor=\"white\"><font color=\"black\">ADJ</font></td></tr></table> 13 / 36</div>\n",
       "<div class=\"item\"><table><tr><td></td><td>0: Matko</td><td>1: raps</td><td>2: are</td><td>3: silly</td></tr>\n",
       "<tr><td>0: Matko</td><td style=\"border:solid;\" bgcolor=\"#E1E1E1\"><font color=\"red\">NP_p_0</font>, <font color=\"black\">NP_s</font></td><td style=\"border:solid;\" bgcolor=\"#C3C3C3\"><font color=\"blue\">NP_p</font></td><td style=\"border:solid;\" bgcolor=\"white\"></td><td style=\"border:solid;\" bgcolor=\"white\"></td></tr>\n",
       "<tr><td>1: raps</td><td style=\"border:none;\" bgcolor=\"white\"></td><td style=\"border:solid;\" bgcolor=\"#E1E1E1\"><font color=\"red\">NP_p_1</font>, <font color=\"black\">VP_s_4</font></td><td style=\"border:solid;\" bgcolor=\"white\"></td><td style=\"border:solid;\" bgcolor=\"white\"></td></tr>\n",
       "<tr><td>2: are</td><td style=\"border:none;\" bgcolor=\"white\"></td><td style=\"border:none;\" bgcolor=\"white\"></td><td style=\"border:solid;\" bgcolor=\"white\"><font color=\"black\">VP_p_2</font></td><td style=\"border:solid;\" bgcolor=\"white\"></td></tr>\n",
       "<tr><td>3: silly</td><td style=\"border:none;\" bgcolor=\"white\"></td><td style=\"border:none;\" bgcolor=\"white\"></td><td style=\"border:none;\" bgcolor=\"white\"></td><td style=\"border:solid;\" bgcolor=\"white\"><font color=\"black\">ADJ</font></td></tr></table> 14 / 36</div>\n",
       "<div class=\"item\"><table><tr><td></td><td>0: Matko</td><td>1: raps</td><td>2: are</td><td>3: silly</td></tr>\n",
       "<tr><td>0: Matko</td><td style=\"border:solid;\" bgcolor=\"#E1E1E1\"><font color=\"red\">NP_p_0</font>, <font color=\"black\">NP_s</font></td><td style=\"border:solid;\" bgcolor=\"#C3C3C3\"><font color=\"black\">NP_p</font></td><td style=\"border:solid;\" bgcolor=\"white\"></td><td style=\"border:solid;\" bgcolor=\"white\"></td></tr>\n",
       "<tr><td>1: raps</td><td style=\"border:none;\" bgcolor=\"white\"></td><td style=\"border:solid;\" bgcolor=\"#E1E1E1\"><font color=\"black\">NP_p_1</font>, <font color=\"red\">VP_s_4</font></td><td style=\"border:solid;\" bgcolor=\"white\"></td><td style=\"border:solid;\" bgcolor=\"white\"></td></tr>\n",
       "<tr><td>2: are</td><td style=\"border:none;\" bgcolor=\"white\"></td><td style=\"border:none;\" bgcolor=\"white\"></td><td style=\"border:solid;\" bgcolor=\"white\"><font color=\"black\">VP_p_2</font></td><td style=\"border:solid;\" bgcolor=\"white\"></td></tr>\n",
       "<tr><td>3: silly</td><td style=\"border:none;\" bgcolor=\"white\"></td><td style=\"border:none;\" bgcolor=\"white\"></td><td style=\"border:none;\" bgcolor=\"white\"></td><td style=\"border:solid;\" bgcolor=\"white\"><font color=\"black\">ADJ</font></td></tr></table> 15 / 36</div>\n",
       "<div class=\"item\"><table><tr><td></td><td>0: Matko</td><td>1: raps</td><td>2: are</td><td>3: silly</td></tr>\n",
       "<tr><td>0: Matko</td><td style=\"border:solid;\" bgcolor=\"#E1E1E1\"><font color=\"black\">NP_p_0</font>, <font color=\"red\">NP_s</font></td><td style=\"border:solid;\" bgcolor=\"#C3C3C3\"><font color=\"black\">NP_p</font></td><td style=\"border:solid;\" bgcolor=\"white\"></td><td style=\"border:solid;\" bgcolor=\"white\"></td></tr>\n",
       "<tr><td>1: raps</td><td style=\"border:none;\" bgcolor=\"white\"></td><td style=\"border:solid;\" bgcolor=\"#E1E1E1\"><font color=\"red\">NP_p_1</font>, <font color=\"black\">VP_s_4</font></td><td style=\"border:solid;\" bgcolor=\"white\"></td><td style=\"border:solid;\" bgcolor=\"white\"></td></tr>\n",
       "<tr><td>2: are</td><td style=\"border:none;\" bgcolor=\"white\"></td><td style=\"border:none;\" bgcolor=\"white\"></td><td style=\"border:solid;\" bgcolor=\"white\"><font color=\"black\">VP_p_2</font></td><td style=\"border:solid;\" bgcolor=\"white\"></td></tr>\n",
       "<tr><td>3: silly</td><td style=\"border:none;\" bgcolor=\"white\"></td><td style=\"border:none;\" bgcolor=\"white\"></td><td style=\"border:none;\" bgcolor=\"white\"></td><td style=\"border:solid;\" bgcolor=\"white\"><font color=\"black\">ADJ</font></td></tr></table> 16 / 36</div>\n",
       "<div class=\"item\"><table><tr><td></td><td>0: Matko</td><td>1: raps</td><td>2: are</td><td>3: silly</td></tr>\n",
       "<tr><td>0: Matko</td><td style=\"border:solid;\" bgcolor=\"#E1E1E1\"><font color=\"black\">NP_p_0</font>, <font color=\"red\">NP_s</font></td><td style=\"border:solid;\" bgcolor=\"#C3C3C3\"><font color=\"black\">NP_p</font></td><td style=\"border:solid;\" bgcolor=\"white\"></td><td style=\"border:solid;\" bgcolor=\"white\"></td></tr>\n",
       "<tr><td>1: raps</td><td style=\"border:none;\" bgcolor=\"white\"></td><td style=\"border:solid;\" bgcolor=\"#E1E1E1\"><font color=\"black\">NP_p_1</font>, <font color=\"red\">VP_s_4</font></td><td style=\"border:solid;\" bgcolor=\"white\"></td><td style=\"border:solid;\" bgcolor=\"white\"></td></tr>\n",
       "<tr><td>2: are</td><td style=\"border:none;\" bgcolor=\"white\"></td><td style=\"border:none;\" bgcolor=\"white\"></td><td style=\"border:solid;\" bgcolor=\"white\"><font color=\"black\">VP_p_2</font></td><td style=\"border:solid;\" bgcolor=\"white\"></td></tr>\n",
       "<tr><td>3: silly</td><td style=\"border:none;\" bgcolor=\"white\"></td><td style=\"border:none;\" bgcolor=\"white\"></td><td style=\"border:none;\" bgcolor=\"white\"></td><td style=\"border:solid;\" bgcolor=\"white\"><font color=\"black\">ADJ</font></td></tr></table> 17 / 36</div>\n",
       "<div class=\"item\"><table><tr><td></td><td>0: Matko</td><td>1: raps</td><td>2: are</td><td>3: silly</td></tr>\n",
       "<tr><td>0: Matko</td><td style=\"border:solid;\" bgcolor=\"white\"><font color=\"black\">NP_p_0</font>, <font color=\"black\">NP_s</font></td><td style=\"border:solid;\" bgcolor=\"white\"><font color=\"black\">NP_p</font></td><td style=\"border:solid;\" bgcolor=\"white\"></td><td style=\"border:solid;\" bgcolor=\"white\"></td></tr>\n",
       "<tr><td>1: raps</td><td style=\"border:none;\" bgcolor=\"white\"></td><td style=\"border:solid;\" bgcolor=\"#E1E1E1\"><font color=\"black\">NP_p_1</font>, <font color=\"black\">VP_s_4</font></td><td style=\"border:solid;\" bgcolor=\"#C3C3C3\"></td><td style=\"border:solid;\" bgcolor=\"white\"></td></tr>\n",
       "<tr><td>2: are</td><td style=\"border:none;\" bgcolor=\"white\"></td><td style=\"border:none;\" bgcolor=\"white\"></td><td style=\"border:solid;\" bgcolor=\"#E1E1E1\"><font color=\"black\">VP_p_2</font></td><td style=\"border:solid;\" bgcolor=\"white\"></td></tr>\n",
       "<tr><td>3: silly</td><td style=\"border:none;\" bgcolor=\"white\"></td><td style=\"border:none;\" bgcolor=\"white\"></td><td style=\"border:none;\" bgcolor=\"white\"></td><td style=\"border:solid;\" bgcolor=\"white\"><font color=\"black\">ADJ</font></td></tr></table> 18 / 36</div>\n",
       "<div class=\"item\"><table><tr><td></td><td>0: Matko</td><td>1: raps</td><td>2: are</td><td>3: silly</td></tr>\n",
       "<tr><td>0: Matko</td><td style=\"border:solid;\" bgcolor=\"white\"><font color=\"black\">NP_p_0</font>, <font color=\"black\">NP_s</font></td><td style=\"border:solid;\" bgcolor=\"white\"><font color=\"black\">NP_p</font></td><td style=\"border:solid;\" bgcolor=\"white\"></td><td style=\"border:solid;\" bgcolor=\"white\"></td></tr>\n",
       "<tr><td>1: raps</td><td style=\"border:none;\" bgcolor=\"white\"></td><td style=\"border:solid;\" bgcolor=\"#E1E1E1\"><font color=\"red\">NP_p_1</font>, <font color=\"black\">VP_s_4</font></td><td style=\"border:solid;\" bgcolor=\"#C3C3C3\"></td><td style=\"border:solid;\" bgcolor=\"white\"></td></tr>\n",
       "<tr><td>2: are</td><td style=\"border:none;\" bgcolor=\"white\"></td><td style=\"border:none;\" bgcolor=\"white\"></td><td style=\"border:solid;\" bgcolor=\"#E1E1E1\"><font color=\"red\">VP_p_2</font></td><td style=\"border:solid;\" bgcolor=\"white\"></td></tr>\n",
       "<tr><td>3: silly</td><td style=\"border:none;\" bgcolor=\"white\"></td><td style=\"border:none;\" bgcolor=\"white\"></td><td style=\"border:none;\" bgcolor=\"white\"></td><td style=\"border:solid;\" bgcolor=\"white\"><font color=\"black\">ADJ</font></td></tr></table> 19 / 36</div>\n",
       "<div class=\"item\"><table><tr><td></td><td>0: Matko</td><td>1: raps</td><td>2: are</td><td>3: silly</td></tr>\n",
       "<tr><td>0: Matko</td><td style=\"border:solid;\" bgcolor=\"white\"><font color=\"black\">NP_p_0</font>, <font color=\"black\">NP_s</font></td><td style=\"border:solid;\" bgcolor=\"white\"><font color=\"black\">NP_p</font></td><td style=\"border:solid;\" bgcolor=\"white\"></td><td style=\"border:solid;\" bgcolor=\"white\"></td></tr>\n",
       "<tr><td>1: raps</td><td style=\"border:none;\" bgcolor=\"white\"></td><td style=\"border:solid;\" bgcolor=\"#E1E1E1\"><font color=\"black\">NP_p_1</font>, <font color=\"red\">VP_s_4</font></td><td style=\"border:solid;\" bgcolor=\"#C3C3C3\"></td><td style=\"border:solid;\" bgcolor=\"white\"></td></tr>\n",
       "<tr><td>2: are</td><td style=\"border:none;\" bgcolor=\"white\"></td><td style=\"border:none;\" bgcolor=\"white\"></td><td style=\"border:solid;\" bgcolor=\"#E1E1E1\"><font color=\"red\">VP_p_2</font></td><td style=\"border:solid;\" bgcolor=\"white\"></td></tr>\n",
       "<tr><td>3: silly</td><td style=\"border:none;\" bgcolor=\"white\"></td><td style=\"border:none;\" bgcolor=\"white\"></td><td style=\"border:none;\" bgcolor=\"white\"></td><td style=\"border:solid;\" bgcolor=\"white\"><font color=\"black\">ADJ</font></td></tr></table> 20 / 36</div>\n",
       "<div class=\"item\"><table><tr><td></td><td>0: Matko</td><td>1: raps</td><td>2: are</td><td>3: silly</td></tr>\n",
       "<tr><td>0: Matko</td><td style=\"border:solid;\" bgcolor=\"white\"><font color=\"black\">NP_p_0</font>, <font color=\"black\">NP_s</font></td><td style=\"border:solid;\" bgcolor=\"white\"><font color=\"black\">NP_p</font></td><td style=\"border:solid;\" bgcolor=\"white\"></td><td style=\"border:solid;\" bgcolor=\"white\"></td></tr>\n",
       "<tr><td>1: raps</td><td style=\"border:none;\" bgcolor=\"white\"></td><td style=\"border:solid;\" bgcolor=\"white\"><font color=\"black\">NP_p_1</font>, <font color=\"black\">VP_s_4</font></td><td style=\"border:solid;\" bgcolor=\"white\"></td><td style=\"border:solid;\" bgcolor=\"white\"></td></tr>\n",
       "<tr><td>2: are</td><td style=\"border:none;\" bgcolor=\"white\"></td><td style=\"border:none;\" bgcolor=\"white\"></td><td style=\"border:solid;\" bgcolor=\"#E1E1E1\"><font color=\"black\">VP_p_2</font></td><td style=\"border:solid;\" bgcolor=\"#C3C3C3\"></td></tr>\n",
       "<tr><td>3: silly</td><td style=\"border:none;\" bgcolor=\"white\"></td><td style=\"border:none;\" bgcolor=\"white\"></td><td style=\"border:none;\" bgcolor=\"white\"></td><td style=\"border:solid;\" bgcolor=\"#E1E1E1\"><font color=\"black\">ADJ</font></td></tr></table> 21 / 36</div>\n",
       "<div class=\"item\"><table><tr><td></td><td>0: Matko</td><td>1: raps</td><td>2: are</td><td>3: silly</td></tr>\n",
       "<tr><td>0: Matko</td><td style=\"border:solid;\" bgcolor=\"white\"><font color=\"black\">NP_p_0</font>, <font color=\"black\">NP_s</font></td><td style=\"border:solid;\" bgcolor=\"white\"><font color=\"black\">NP_p</font></td><td style=\"border:solid;\" bgcolor=\"white\"></td><td style=\"border:solid;\" bgcolor=\"white\"></td></tr>\n",
       "<tr><td>1: raps</td><td style=\"border:none;\" bgcolor=\"white\"></td><td style=\"border:solid;\" bgcolor=\"white\"><font color=\"black\">NP_p_1</font>, <font color=\"black\">VP_s_4</font></td><td style=\"border:solid;\" bgcolor=\"white\"></td><td style=\"border:solid;\" bgcolor=\"white\"></td></tr>\n",
       "<tr><td>2: are</td><td style=\"border:none;\" bgcolor=\"white\"></td><td style=\"border:none;\" bgcolor=\"white\"></td><td style=\"border:solid;\" bgcolor=\"#E1E1E1\"><font color=\"red\">VP_p_2</font></td><td style=\"border:solid;\" bgcolor=\"#C3C3C3\"></td></tr>\n",
       "<tr><td>3: silly</td><td style=\"border:none;\" bgcolor=\"white\"></td><td style=\"border:none;\" bgcolor=\"white\"></td><td style=\"border:none;\" bgcolor=\"white\"></td><td style=\"border:solid;\" bgcolor=\"#E1E1E1\"><font color=\"red\">ADJ</font></td></tr></table> 22 / 36</div>\n",
       "<div class=\"item\"><table><tr><td></td><td>0: Matko</td><td>1: raps</td><td>2: are</td><td>3: silly</td></tr>\n",
       "<tr><td>0: Matko</td><td style=\"border:solid;\" bgcolor=\"white\"><font color=\"black\">NP_p_0</font>, <font color=\"black\">NP_s</font></td><td style=\"border:solid;\" bgcolor=\"white\"><font color=\"black\">NP_p</font></td><td style=\"border:solid;\" bgcolor=\"white\"></td><td style=\"border:solid;\" bgcolor=\"white\"></td></tr>\n",
       "<tr><td>1: raps</td><td style=\"border:none;\" bgcolor=\"white\"></td><td style=\"border:solid;\" bgcolor=\"white\"><font color=\"black\">NP_p_1</font>, <font color=\"black\">VP_s_4</font></td><td style=\"border:solid;\" bgcolor=\"white\"></td><td style=\"border:solid;\" bgcolor=\"white\"></td></tr>\n",
       "<tr><td>2: are</td><td style=\"border:none;\" bgcolor=\"white\"></td><td style=\"border:none;\" bgcolor=\"white\"></td><td style=\"border:solid;\" bgcolor=\"#E1E1E1\"><font color=\"red\">VP_p_2</font></td><td style=\"border:solid;\" bgcolor=\"#C3C3C3\"><font color=\"blue\">VP_p</font></td></tr>\n",
       "<tr><td>3: silly</td><td style=\"border:none;\" bgcolor=\"white\"></td><td style=\"border:none;\" bgcolor=\"white\"></td><td style=\"border:none;\" bgcolor=\"white\"></td><td style=\"border:solid;\" bgcolor=\"#E1E1E1\"><font color=\"red\">ADJ</font></td></tr></table> 23 / 36</div>\n",
       "<div class=\"item\"><table><tr><td></td><td>0: Matko</td><td>1: raps</td><td>2: are</td><td>3: silly</td></tr>\n",
       "<tr><td>0: Matko</td><td style=\"border:solid;\" bgcolor=\"#E1E1E1\"><font color=\"black\">NP_p_0</font>, <font color=\"black\">NP_s</font></td><td style=\"border:solid;\" bgcolor=\"white\"><font color=\"black\">NP_p</font></td><td style=\"border:solid;\" bgcolor=\"#C3C3C3\"></td><td style=\"border:solid;\" bgcolor=\"white\"></td></tr>\n",
       "<tr><td>1: raps</td><td style=\"border:none;\" bgcolor=\"white\"></td><td style=\"border:solid;\" bgcolor=\"white\"><font color=\"black\">NP_p_1</font>, <font color=\"black\">VP_s_4</font></td><td style=\"border:solid;\" bgcolor=\"#E1E1E1\"></td><td style=\"border:solid;\" bgcolor=\"white\"></td></tr>\n",
       "<tr><td>2: are</td><td style=\"border:none;\" bgcolor=\"white\"></td><td style=\"border:none;\" bgcolor=\"white\"></td><td style=\"border:solid;\" bgcolor=\"white\"><font color=\"black\">VP_p_2</font></td><td style=\"border:solid;\" bgcolor=\"white\"><font color=\"black\">VP_p</font></td></tr>\n",
       "<tr><td>3: silly</td><td style=\"border:none;\" bgcolor=\"white\"></td><td style=\"border:none;\" bgcolor=\"white\"></td><td style=\"border:none;\" bgcolor=\"white\"></td><td style=\"border:solid;\" bgcolor=\"white\"><font color=\"black\">ADJ</font></td></tr></table> 24 / 36</div>\n",
       "<div class=\"item\"><table><tr><td></td><td>0: Matko</td><td>1: raps</td><td>2: are</td><td>3: silly</td></tr>\n",
       "<tr><td>0: Matko</td><td style=\"border:solid;\" bgcolor=\"white\"><font color=\"black\">NP_p_0</font>, <font color=\"black\">NP_s</font></td><td style=\"border:solid;\" bgcolor=\"#E1E1E1\"><font color=\"black\">NP_p</font></td><td style=\"border:solid;\" bgcolor=\"#C3C3C3\"></td><td style=\"border:solid;\" bgcolor=\"white\"></td></tr>\n",
       "<tr><td>1: raps</td><td style=\"border:none;\" bgcolor=\"white\"></td><td style=\"border:solid;\" bgcolor=\"white\"><font color=\"black\">NP_p_1</font>, <font color=\"black\">VP_s_4</font></td><td style=\"border:solid;\" bgcolor=\"white\"></td><td style=\"border:solid;\" bgcolor=\"white\"></td></tr>\n",
       "<tr><td>2: are</td><td style=\"border:none;\" bgcolor=\"white\"></td><td style=\"border:none;\" bgcolor=\"white\"></td><td style=\"border:solid;\" bgcolor=\"#E1E1E1\"><font color=\"black\">VP_p_2</font></td><td style=\"border:solid;\" bgcolor=\"white\"><font color=\"black\">VP_p</font></td></tr>\n",
       "<tr><td>3: silly</td><td style=\"border:none;\" bgcolor=\"white\"></td><td style=\"border:none;\" bgcolor=\"white\"></td><td style=\"border:none;\" bgcolor=\"white\"></td><td style=\"border:solid;\" bgcolor=\"white\"><font color=\"black\">ADJ</font></td></tr></table> 25 / 36</div>\n",
       "<div class=\"item\"><table><tr><td></td><td>0: Matko</td><td>1: raps</td><td>2: are</td><td>3: silly</td></tr>\n",
       "<tr><td>0: Matko</td><td style=\"border:solid;\" bgcolor=\"white\"><font color=\"black\">NP_p_0</font>, <font color=\"black\">NP_s</font></td><td style=\"border:solid;\" bgcolor=\"#E1E1E1\"><font color=\"red\">NP_p</font></td><td style=\"border:solid;\" bgcolor=\"#C3C3C3\"></td><td style=\"border:solid;\" bgcolor=\"white\"></td></tr>\n",
       "<tr><td>1: raps</td><td style=\"border:none;\" bgcolor=\"white\"></td><td style=\"border:solid;\" bgcolor=\"white\"><font color=\"black\">NP_p_1</font>, <font color=\"black\">VP_s_4</font></td><td style=\"border:solid;\" bgcolor=\"white\"></td><td style=\"border:solid;\" bgcolor=\"white\"></td></tr>\n",
       "<tr><td>2: are</td><td style=\"border:none;\" bgcolor=\"white\"></td><td style=\"border:none;\" bgcolor=\"white\"></td><td style=\"border:solid;\" bgcolor=\"#E1E1E1\"><font color=\"red\">VP_p_2</font></td><td style=\"border:solid;\" bgcolor=\"white\"><font color=\"black\">VP_p</font></td></tr>\n",
       "<tr><td>3: silly</td><td style=\"border:none;\" bgcolor=\"white\"></td><td style=\"border:none;\" bgcolor=\"white\"></td><td style=\"border:none;\" bgcolor=\"white\"></td><td style=\"border:solid;\" bgcolor=\"white\"><font color=\"black\">ADJ</font></td></tr></table> 26 / 36</div>\n",
       "<div class=\"item\"><table><tr><td></td><td>0: Matko</td><td>1: raps</td><td>2: are</td><td>3: silly</td></tr>\n",
       "<tr><td>0: Matko</td><td style=\"border:solid;\" bgcolor=\"white\"><font color=\"black\">NP_p_0</font>, <font color=\"black\">NP_s</font></td><td style=\"border:solid;\" bgcolor=\"white\"><font color=\"black\">NP_p</font></td><td style=\"border:solid;\" bgcolor=\"white\"></td><td style=\"border:solid;\" bgcolor=\"white\"></td></tr>\n",
       "<tr><td>1: raps</td><td style=\"border:none;\" bgcolor=\"white\"></td><td style=\"border:solid;\" bgcolor=\"#E1E1E1\"><font color=\"black\">NP_p_1</font>, <font color=\"black\">VP_s_4</font></td><td style=\"border:solid;\" bgcolor=\"white\"></td><td style=\"border:solid;\" bgcolor=\"#C3C3C3\"></td></tr>\n",
       "<tr><td>2: are</td><td style=\"border:none;\" bgcolor=\"white\"></td><td style=\"border:none;\" bgcolor=\"white\"></td><td style=\"border:solid;\" bgcolor=\"white\"><font color=\"black\">VP_p_2</font></td><td style=\"border:solid;\" bgcolor=\"#E1E1E1\"><font color=\"black\">VP_p</font></td></tr>\n",
       "<tr><td>3: silly</td><td style=\"border:none;\" bgcolor=\"white\"></td><td style=\"border:none;\" bgcolor=\"white\"></td><td style=\"border:none;\" bgcolor=\"white\"></td><td style=\"border:solid;\" bgcolor=\"white\"><font color=\"black\">ADJ</font></td></tr></table> 27 / 36</div>\n",
       "<div class=\"item\"><table><tr><td></td><td>0: Matko</td><td>1: raps</td><td>2: are</td><td>3: silly</td></tr>\n",
       "<tr><td>0: Matko</td><td style=\"border:solid;\" bgcolor=\"white\"><font color=\"black\">NP_p_0</font>, <font color=\"black\">NP_s</font></td><td style=\"border:solid;\" bgcolor=\"white\"><font color=\"black\">NP_p</font></td><td style=\"border:solid;\" bgcolor=\"white\"></td><td style=\"border:solid;\" bgcolor=\"white\"></td></tr>\n",
       "<tr><td>1: raps</td><td style=\"border:none;\" bgcolor=\"white\"></td><td style=\"border:solid;\" bgcolor=\"#E1E1E1\"><font color=\"red\">NP_p_1</font>, <font color=\"black\">VP_s_4</font></td><td style=\"border:solid;\" bgcolor=\"white\"></td><td style=\"border:solid;\" bgcolor=\"#C3C3C3\"></td></tr>\n",
       "<tr><td>2: are</td><td style=\"border:none;\" bgcolor=\"white\"></td><td style=\"border:none;\" bgcolor=\"white\"></td><td style=\"border:solid;\" bgcolor=\"white\"><font color=\"black\">VP_p_2</font></td><td style=\"border:solid;\" bgcolor=\"#E1E1E1\"><font color=\"red\">VP_p</font></td></tr>\n",
       "<tr><td>3: silly</td><td style=\"border:none;\" bgcolor=\"white\"></td><td style=\"border:none;\" bgcolor=\"white\"></td><td style=\"border:none;\" bgcolor=\"white\"></td><td style=\"border:solid;\" bgcolor=\"white\"><font color=\"black\">ADJ</font></td></tr></table> 28 / 36</div>\n",
       "<div class=\"item\"><table><tr><td></td><td>0: Matko</td><td>1: raps</td><td>2: are</td><td>3: silly</td></tr>\n",
       "<tr><td>0: Matko</td><td style=\"border:solid;\" bgcolor=\"white\"><font color=\"black\">NP_p_0</font>, <font color=\"black\">NP_s</font></td><td style=\"border:solid;\" bgcolor=\"white\"><font color=\"black\">NP_p</font></td><td style=\"border:solid;\" bgcolor=\"white\"></td><td style=\"border:solid;\" bgcolor=\"white\"></td></tr>\n",
       "<tr><td>1: raps</td><td style=\"border:none;\" bgcolor=\"white\"></td><td style=\"border:solid;\" bgcolor=\"#E1E1E1\"><font color=\"black\">NP_p_1</font>, <font color=\"red\">VP_s_4</font></td><td style=\"border:solid;\" bgcolor=\"white\"></td><td style=\"border:solid;\" bgcolor=\"#C3C3C3\"></td></tr>\n",
       "<tr><td>2: are</td><td style=\"border:none;\" bgcolor=\"white\"></td><td style=\"border:none;\" bgcolor=\"white\"></td><td style=\"border:solid;\" bgcolor=\"white\"><font color=\"black\">VP_p_2</font></td><td style=\"border:solid;\" bgcolor=\"#E1E1E1\"><font color=\"red\">VP_p</font></td></tr>\n",
       "<tr><td>3: silly</td><td style=\"border:none;\" bgcolor=\"white\"></td><td style=\"border:none;\" bgcolor=\"white\"></td><td style=\"border:none;\" bgcolor=\"white\"></td><td style=\"border:solid;\" bgcolor=\"white\"><font color=\"black\">ADJ</font></td></tr></table> 29 / 36</div>\n",
       "<div class=\"item\"><table><tr><td></td><td>0: Matko</td><td>1: raps</td><td>2: are</td><td>3: silly</td></tr>\n",
       "<tr><td>0: Matko</td><td style=\"border:solid;\" bgcolor=\"white\"><font color=\"black\">NP_p_0</font>, <font color=\"black\">NP_s</font></td><td style=\"border:solid;\" bgcolor=\"white\"><font color=\"black\">NP_p</font></td><td style=\"border:solid;\" bgcolor=\"white\"></td><td style=\"border:solid;\" bgcolor=\"white\"></td></tr>\n",
       "<tr><td>1: raps</td><td style=\"border:none;\" bgcolor=\"white\"></td><td style=\"border:solid;\" bgcolor=\"white\"><font color=\"black\">NP_p_1</font>, <font color=\"black\">VP_s_4</font></td><td style=\"border:solid;\" bgcolor=\"#E1E1E1\"></td><td style=\"border:solid;\" bgcolor=\"#C3C3C3\"></td></tr>\n",
       "<tr><td>2: are</td><td style=\"border:none;\" bgcolor=\"white\"></td><td style=\"border:none;\" bgcolor=\"white\"></td><td style=\"border:solid;\" bgcolor=\"white\"><font color=\"black\">VP_p_2</font></td><td style=\"border:solid;\" bgcolor=\"white\"><font color=\"black\">VP_p</font></td></tr>\n",
       "<tr><td>3: silly</td><td style=\"border:none;\" bgcolor=\"white\"></td><td style=\"border:none;\" bgcolor=\"white\"></td><td style=\"border:none;\" bgcolor=\"white\"></td><td style=\"border:solid;\" bgcolor=\"#E1E1E1\"><font color=\"black\">ADJ</font></td></tr></table> 30 / 36</div>\n",
       "<div class=\"item\"><table><tr><td></td><td>0: Matko</td><td>1: raps</td><td>2: are</td><td>3: silly</td></tr>\n",
       "<tr><td>0: Matko</td><td style=\"border:solid;\" bgcolor=\"#E1E1E1\"><font color=\"black\">NP_p_0</font>, <font color=\"black\">NP_s</font></td><td style=\"border:solid;\" bgcolor=\"white\"><font color=\"black\">NP_p</font></td><td style=\"border:solid;\" bgcolor=\"white\"></td><td style=\"border:solid;\" bgcolor=\"#C3C3C3\"></td></tr>\n",
       "<tr><td>1: raps</td><td style=\"border:none;\" bgcolor=\"white\"></td><td style=\"border:solid;\" bgcolor=\"white\"><font color=\"black\">NP_p_1</font>, <font color=\"black\">VP_s_4</font></td><td style=\"border:solid;\" bgcolor=\"white\"></td><td style=\"border:solid;\" bgcolor=\"#E1E1E1\"></td></tr>\n",
       "<tr><td>2: are</td><td style=\"border:none;\" bgcolor=\"white\"></td><td style=\"border:none;\" bgcolor=\"white\"></td><td style=\"border:solid;\" bgcolor=\"white\"><font color=\"black\">VP_p_2</font></td><td style=\"border:solid;\" bgcolor=\"white\"><font color=\"black\">VP_p</font></td></tr>\n",
       "<tr><td>3: silly</td><td style=\"border:none;\" bgcolor=\"white\"></td><td style=\"border:none;\" bgcolor=\"white\"></td><td style=\"border:none;\" bgcolor=\"white\"></td><td style=\"border:solid;\" bgcolor=\"white\"><font color=\"black\">ADJ</font></td></tr></table> 31 / 36</div>\n",
       "<div class=\"item\"><table><tr><td></td><td>0: Matko</td><td>1: raps</td><td>2: are</td><td>3: silly</td></tr>\n",
       "<tr><td>0: Matko</td><td style=\"border:solid;\" bgcolor=\"white\"><font color=\"black\">NP_p_0</font>, <font color=\"black\">NP_s</font></td><td style=\"border:solid;\" bgcolor=\"#E1E1E1\"><font color=\"black\">NP_p</font></td><td style=\"border:solid;\" bgcolor=\"white\"></td><td style=\"border:solid;\" bgcolor=\"#C3C3C3\"></td></tr>\n",
       "<tr><td>1: raps</td><td style=\"border:none;\" bgcolor=\"white\"></td><td style=\"border:solid;\" bgcolor=\"white\"><font color=\"black\">NP_p_1</font>, <font color=\"black\">VP_s_4</font></td><td style=\"border:solid;\" bgcolor=\"white\"></td><td style=\"border:solid;\" bgcolor=\"white\"></td></tr>\n",
       "<tr><td>2: are</td><td style=\"border:none;\" bgcolor=\"white\"></td><td style=\"border:none;\" bgcolor=\"white\"></td><td style=\"border:solid;\" bgcolor=\"white\"><font color=\"black\">VP_p_2</font></td><td style=\"border:solid;\" bgcolor=\"#E1E1E1\"><font color=\"black\">VP_p</font></td></tr>\n",
       "<tr><td>3: silly</td><td style=\"border:none;\" bgcolor=\"white\"></td><td style=\"border:none;\" bgcolor=\"white\"></td><td style=\"border:none;\" bgcolor=\"white\"></td><td style=\"border:solid;\" bgcolor=\"white\"><font color=\"black\">ADJ</font></td></tr></table> 32 / 36</div>\n",
       "<div class=\"item\"><table><tr><td></td><td>0: Matko</td><td>1: raps</td><td>2: are</td><td>3: silly</td></tr>\n",
       "<tr><td>0: Matko</td><td style=\"border:solid;\" bgcolor=\"white\"><font color=\"black\">NP_p_0</font>, <font color=\"black\">NP_s</font></td><td style=\"border:solid;\" bgcolor=\"#E1E1E1\"><font color=\"red\">NP_p</font></td><td style=\"border:solid;\" bgcolor=\"white\"></td><td style=\"border:solid;\" bgcolor=\"#C3C3C3\"></td></tr>\n",
       "<tr><td>1: raps</td><td style=\"border:none;\" bgcolor=\"white\"></td><td style=\"border:solid;\" bgcolor=\"white\"><font color=\"black\">NP_p_1</font>, <font color=\"black\">VP_s_4</font></td><td style=\"border:solid;\" bgcolor=\"white\"></td><td style=\"border:solid;\" bgcolor=\"white\"></td></tr>\n",
       "<tr><td>2: are</td><td style=\"border:none;\" bgcolor=\"white\"></td><td style=\"border:none;\" bgcolor=\"white\"></td><td style=\"border:solid;\" bgcolor=\"white\"><font color=\"black\">VP_p_2</font></td><td style=\"border:solid;\" bgcolor=\"#E1E1E1\"><font color=\"red\">VP_p</font></td></tr>\n",
       "<tr><td>3: silly</td><td style=\"border:none;\" bgcolor=\"white\"></td><td style=\"border:none;\" bgcolor=\"white\"></td><td style=\"border:none;\" bgcolor=\"white\"></td><td style=\"border:solid;\" bgcolor=\"white\"><font color=\"black\">ADJ</font></td></tr></table> 33 / 36</div>\n",
       "<div class=\"item\"><table><tr><td></td><td>0: Matko</td><td>1: raps</td><td>2: are</td><td>3: silly</td></tr>\n",
       "<tr><td>0: Matko</td><td style=\"border:solid;\" bgcolor=\"white\"><font color=\"black\">NP_p_0</font>, <font color=\"black\">NP_s</font></td><td style=\"border:solid;\" bgcolor=\"#E1E1E1\"><font color=\"red\">NP_p</font></td><td style=\"border:solid;\" bgcolor=\"white\"></td><td style=\"border:solid;\" bgcolor=\"#C3C3C3\"><font color=\"blue\">S</font></td></tr>\n",
       "<tr><td>1: raps</td><td style=\"border:none;\" bgcolor=\"white\"></td><td style=\"border:solid;\" bgcolor=\"white\"><font color=\"black\">NP_p_1</font>, <font color=\"black\">VP_s_4</font></td><td style=\"border:solid;\" bgcolor=\"white\"></td><td style=\"border:solid;\" bgcolor=\"white\"></td></tr>\n",
       "<tr><td>2: are</td><td style=\"border:none;\" bgcolor=\"white\"></td><td style=\"border:none;\" bgcolor=\"white\"></td><td style=\"border:solid;\" bgcolor=\"white\"><font color=\"black\">VP_p_2</font></td><td style=\"border:solid;\" bgcolor=\"#E1E1E1\"><font color=\"red\">VP_p</font></td></tr>\n",
       "<tr><td>3: silly</td><td style=\"border:none;\" bgcolor=\"white\"></td><td style=\"border:none;\" bgcolor=\"white\"></td><td style=\"border:none;\" bgcolor=\"white\"></td><td style=\"border:solid;\" bgcolor=\"white\"><font color=\"black\">ADJ</font></td></tr></table> 34 / 36</div>\n",
       "<div class=\"item\"><table><tr><td></td><td>0: Matko</td><td>1: raps</td><td>2: are</td><td>3: silly</td></tr>\n",
       "<tr><td>0: Matko</td><td style=\"border:solid;\" bgcolor=\"white\"><font color=\"black\">NP_p_0</font>, <font color=\"black\">NP_s</font></td><td style=\"border:solid;\" bgcolor=\"white\"><font color=\"black\">NP_p</font></td><td style=\"border:solid;\" bgcolor=\"#E1E1E1\"></td><td style=\"border:solid;\" bgcolor=\"#C3C3C3\"><font color=\"black\">S</font></td></tr>\n",
       "<tr><td>1: raps</td><td style=\"border:none;\" bgcolor=\"white\"></td><td style=\"border:solid;\" bgcolor=\"white\"><font color=\"black\">NP_p_1</font>, <font color=\"black\">VP_s_4</font></td><td style=\"border:solid;\" bgcolor=\"white\"></td><td style=\"border:solid;\" bgcolor=\"white\"></td></tr>\n",
       "<tr><td>2: are</td><td style=\"border:none;\" bgcolor=\"white\"></td><td style=\"border:none;\" bgcolor=\"white\"></td><td style=\"border:solid;\" bgcolor=\"white\"><font color=\"black\">VP_p_2</font></td><td style=\"border:solid;\" bgcolor=\"white\"><font color=\"black\">VP_p</font></td></tr>\n",
       "<tr><td>3: silly</td><td style=\"border:none;\" bgcolor=\"white\"></td><td style=\"border:none;\" bgcolor=\"white\"></td><td style=\"border:none;\" bgcolor=\"white\"></td><td style=\"border:solid;\" bgcolor=\"#E1E1E1\"><font color=\"black\">ADJ</font></td></tr></table> 35 / 36</div>\n",
       "<div class=\"item\"><table><tr><td></td><td>0: Matko</td><td>1: raps</td><td>2: are</td><td>3: silly</td></tr>\n",
       "<tr><td>0: Matko</td><td style=\"border:solid;\" bgcolor=\"white\"><font color=\"black\">NP_p_0</font>, <font color=\"black\">NP_s</font></td><td style=\"border:solid;\" bgcolor=\"white\"><font color=\"black\">NP_p</font></td><td style=\"border:solid;\" bgcolor=\"white\"></td><td style=\"border:solid;\" bgcolor=\"white\"><font color=\"black\">S</font></td></tr>\n",
       "<tr><td>1: raps</td><td style=\"border:none;\" bgcolor=\"white\"></td><td style=\"border:solid;\" bgcolor=\"white\"><font color=\"black\">NP_p_1</font>, <font color=\"black\">VP_s_4</font></td><td style=\"border:solid;\" bgcolor=\"white\"></td><td style=\"border:solid;\" bgcolor=\"white\"></td></tr>\n",
       "<tr><td>2: are</td><td style=\"border:none;\" bgcolor=\"white\"></td><td style=\"border:none;\" bgcolor=\"white\"></td><td style=\"border:solid;\" bgcolor=\"white\"><font color=\"black\">VP_p_2</font></td><td style=\"border:solid;\" bgcolor=\"white\"><font color=\"black\">VP_p</font></td></tr>\n",
       "<tr><td>3: silly</td><td style=\"border:none;\" bgcolor=\"white\"></td><td style=\"border:none;\" bgcolor=\"white\"></td><td style=\"border:none;\" bgcolor=\"white\"></td><td style=\"border:solid;\" bgcolor=\"white\"><font color=\"black\">ADJ</font></td></tr></table> 36 / 36</div>\n",
       "          </div>\n",
       "        </div>\n"
      ],
      "text/plain": [
       "<statnlpbook.util.Carousel at 0x7fbcf86b6940>"
      ]
     },
     "execution_count": 22,
     "metadata": {},
     "output_type": "execute_result"
    }
   ],
   "source": [
    "trace = cyk(cnf_cfg, sentence)\n",
    "util.Carousel(trace)"
   ]
  },
  {
   "cell_type": "markdown",
   "metadata": {
    "slideshow": {
     "slide_type": "subslide"
    }
   },
   "source": [
    "The chart can be **traversed backwards** to get all trees"
   ]
  },
  {
   "cell_type": "code",
   "execution_count": 23,
   "metadata": {
    "hidePrompt": true,
    "slideshow": {
     "slide_type": "fragment"
    }
   },
   "outputs": [
    {
     "data": {
      "text/html": [
       "\n",
       "        <div id=\"67248f12-b7f9-11e8-86ff-0242ac110002\" class=\"carousel\" data-ride=\"carousel\" data-interval=\"false\">\n",
       "          <!-- Controls -->\n",
       "          <a href=\"#67248f12-b7f9-11e8-86ff-0242ac110002\" role=\"button2\" data-slide=\"prev\">Previous</a>\n",
       "          &nbsp\n",
       "          <a  href=\"#67248f12-b7f9-11e8-86ff-0242ac110002\" role=\"button2\" data-slide=\"next\">Next</a>\n",
       "          <div class=\"carousel-inner\" role=\"listbox\">\n",
       "          <div class=\"item active\"><table><tr><td></td><td>0: Matko</td><td>1: raps</td><td>2: are</td><td>3: silly</td></tr>\n",
       "<tr><td>0: Matko</td><td style=\"border:solid;\" bgcolor=\"white\"><font color=\"black\">NP_p_0</font>, <font color=\"black\">NP_s</font></td><td style=\"border:solid;\" bgcolor=\"white\"><font color=\"black\">NP_p</font></td><td style=\"border:solid;\" bgcolor=\"white\"></td><td style=\"border:solid;\" bgcolor=\"white\"><font color=\"black\">S</font></td></tr>\n",
       "<tr><td>1: raps</td><td style=\"border:none;\" bgcolor=\"white\"></td><td style=\"border:solid;\" bgcolor=\"white\"><font color=\"black\">NP_p_1</font>, <font color=\"black\">VP_s_4</font></td><td style=\"border:solid;\" bgcolor=\"white\"></td><td style=\"border:solid;\" bgcolor=\"white\"></td></tr>\n",
       "<tr><td>2: are</td><td style=\"border:none;\" bgcolor=\"white\"></td><td style=\"border:none;\" bgcolor=\"white\"></td><td style=\"border:solid;\" bgcolor=\"white\"><font color=\"black\">VP_p_2</font></td><td style=\"border:solid;\" bgcolor=\"white\"><font color=\"black\">VP_p</font></td></tr>\n",
       "<tr><td>3: silly</td><td style=\"border:none;\" bgcolor=\"white\"></td><td style=\"border:none;\" bgcolor=\"white\"></td><td style=\"border:none;\" bgcolor=\"white\"></td><td style=\"border:solid;\" bgcolor=\"white\"><font color=\"black\">ADJ</font></td></tr></table> 1 / 4</div>\n",
       "<div class=\"item\"><table><tr><td></td><td>0: Matko</td><td>1: raps</td><td>2: are</td><td>3: silly</td></tr>\n",
       "<tr><td>0: Matko</td><td style=\"border:solid;\" bgcolor=\"white\"><font color=\"black\">NP_p_0</font>, <font color=\"black\">NP_s</font></td><td style=\"border:solid;\" bgcolor=\"#E1E1E1\"><font color=\"red\">NP_p</font></td><td style=\"border:solid;\" bgcolor=\"white\"></td><td style=\"border:solid;\" bgcolor=\"#C3C3C3\"><font color=\"blue\">S</font></td></tr>\n",
       "<tr><td>1: raps</td><td style=\"border:none;\" bgcolor=\"white\"></td><td style=\"border:solid;\" bgcolor=\"white\"><font color=\"black\">NP_p_1</font>, <font color=\"black\">VP_s_4</font></td><td style=\"border:solid;\" bgcolor=\"white\"></td><td style=\"border:solid;\" bgcolor=\"white\"></td></tr>\n",
       "<tr><td>2: are</td><td style=\"border:none;\" bgcolor=\"white\"></td><td style=\"border:none;\" bgcolor=\"white\"></td><td style=\"border:solid;\" bgcolor=\"white\"><font color=\"black\">VP_p_2</font></td><td style=\"border:solid;\" bgcolor=\"#E1E1E1\"><font color=\"red\">VP_p</font></td></tr>\n",
       "<tr><td>3: silly</td><td style=\"border:none;\" bgcolor=\"white\"></td><td style=\"border:none;\" bgcolor=\"white\"></td><td style=\"border:none;\" bgcolor=\"white\"></td><td style=\"border:solid;\" bgcolor=\"white\"><font color=\"black\">ADJ</font></td></tr></table> 2 / 4</div>\n",
       "<div class=\"item\"><table><tr><td></td><td>0: Matko</td><td>1: raps</td><td>2: are</td><td>3: silly</td></tr>\n",
       "<tr><td>0: Matko</td><td style=\"border:solid;\" bgcolor=\"white\"><font color=\"black\">NP_p_0</font>, <font color=\"black\">NP_s</font></td><td style=\"border:solid;\" bgcolor=\"white\"><font color=\"black\">NP_p</font></td><td style=\"border:solid;\" bgcolor=\"white\"></td><td style=\"border:solid;\" bgcolor=\"white\"></td></tr>\n",
       "<tr><td>1: raps</td><td style=\"border:none;\" bgcolor=\"white\"></td><td style=\"border:solid;\" bgcolor=\"white\"><font color=\"black\">NP_p_1</font>, <font color=\"black\">VP_s_4</font></td><td style=\"border:solid;\" bgcolor=\"white\"></td><td style=\"border:solid;\" bgcolor=\"white\"></td></tr>\n",
       "<tr><td>2: are</td><td style=\"border:none;\" bgcolor=\"white\"></td><td style=\"border:none;\" bgcolor=\"white\"></td><td style=\"border:solid;\" bgcolor=\"#E1E1E1\"><font color=\"red\">VP_p_2</font></td><td style=\"border:solid;\" bgcolor=\"#C3C3C3\"><font color=\"blue\">VP_p</font></td></tr>\n",
       "<tr><td>3: silly</td><td style=\"border:none;\" bgcolor=\"white\"></td><td style=\"border:none;\" bgcolor=\"white\"></td><td style=\"border:none;\" bgcolor=\"white\"></td><td style=\"border:solid;\" bgcolor=\"#E1E1E1\"><font color=\"red\">ADJ</font></td></tr></table> 3 / 4</div>\n",
       "<div class=\"item\"><table><tr><td></td><td>0: Matko</td><td>1: raps</td><td>2: are</td><td>3: silly</td></tr>\n",
       "<tr><td>0: Matko</td><td style=\"border:solid;\" bgcolor=\"#E1E1E1\"><font color=\"red\">NP_p_0</font>, <font color=\"black\">NP_s</font></td><td style=\"border:solid;\" bgcolor=\"#C3C3C3\"><font color=\"blue\">NP_p</font></td><td style=\"border:solid;\" bgcolor=\"white\"></td><td style=\"border:solid;\" bgcolor=\"white\"></td></tr>\n",
       "<tr><td>1: raps</td><td style=\"border:none;\" bgcolor=\"white\"></td><td style=\"border:solid;\" bgcolor=\"#E1E1E1\"><font color=\"red\">NP_p_1</font>, <font color=\"black\">VP_s_4</font></td><td style=\"border:solid;\" bgcolor=\"white\"></td><td style=\"border:solid;\" bgcolor=\"white\"></td></tr>\n",
       "<tr><td>2: are</td><td style=\"border:none;\" bgcolor=\"white\"></td><td style=\"border:none;\" bgcolor=\"white\"></td><td style=\"border:solid;\" bgcolor=\"white\"><font color=\"black\">VP_p_2</font></td><td style=\"border:solid;\" bgcolor=\"white\"></td></tr>\n",
       "<tr><td>3: silly</td><td style=\"border:none;\" bgcolor=\"white\"></td><td style=\"border:none;\" bgcolor=\"white\"></td><td style=\"border:none;\" bgcolor=\"white\"></td><td style=\"border:solid;\" bgcolor=\"white\"><font color=\"black\">ADJ</font></td></tr></table> 4 / 4</div>\n",
       "          </div>\n",
       "        </div>\n"
      ],
      "text/plain": [
       "<statnlpbook.util.Carousel at 0x7fbcd020f390>"
      ]
     },
     "execution_count": 23,
     "metadata": {},
     "output_type": "execute_result"
    }
   ],
   "source": [
    "util.Carousel([trace[i] for i in [35,33,22,13]])"
   ]
  },
  {
   "cell_type": "code",
   "execution_count": 24,
   "metadata": {
    "hidePrompt": true,
    "slideshow": {
     "slide_type": "subslide"
    }
   },
   "outputs": [
    {
     "data": {
      "image/svg+xml": [
       "<?xml version=\"1.0\" encoding=\"UTF-8\" standalone=\"no\"?>\n",
       "<!DOCTYPE svg PUBLIC \"-//W3C//DTD SVG 1.1//EN\"\n",
       " \"http://www.w3.org/Graphics/SVG/1.1/DTD/svg11.dtd\">\n",
       "<!-- Generated by graphviz version 2.38.0 (20140413.2041)\n",
       " -->\n",
       "<!-- Title: %3 Pages: 1 -->\n",
       "<svg width=\"354pt\" height=\"260pt\"\n",
       " viewBox=\"0.00 0.00 353.65 260.00\" xmlns=\"http://www.w3.org/2000/svg\" xmlns:xlink=\"http://www.w3.org/1999/xlink\">\n",
       "<g id=\"graph0\" class=\"graph\" transform=\"scale(1 1) rotate(0) translate(4 256)\">\n",
       "<title>%3</title>\n",
       "<polygon fill=\"white\" stroke=\"none\" points=\"-4,4 -4,-256 349.646,-256 349.646,4 -4,4\"/>\n",
       "<!-- 0 -->\n",
       "<g id=\"node1\" class=\"node\"><title>0</title>\n",
       "<ellipse fill=\"none\" stroke=\"black\" cx=\"39.6465\" cy=\"-18\" rx=\"34.394\" ry=\"18\"/>\n",
       "<text text-anchor=\"middle\" x=\"39.6465\" y=\"-14.3\" font-family=\"Times,serif\" font-size=\"14.00\">Matko</text>\n",
       "</g>\n",
       "<!-- 1 -->\n",
       "<g id=\"node2\" class=\"node\"><title>1</title>\n",
       "<ellipse fill=\"none\" stroke=\"black\" cx=\"39.6465\" cy=\"-90\" rx=\"39.7935\" ry=\"18\"/>\n",
       "<text text-anchor=\"middle\" x=\"39.6465\" y=\"-86.3\" font-family=\"Times,serif\" font-size=\"14.00\">NP_p_0</text>\n",
       "</g>\n",
       "<!-- 1&#45;&gt;0 -->\n",
       "<g id=\"edge1\" class=\"edge\"><title>1&#45;&gt;0</title>\n",
       "<path fill=\"none\" stroke=\"black\" d=\"M39.6465,-71.6966C39.6465,-63.9827 39.6465,-54.7125 39.6465,-46.1124\"/>\n",
       "<polygon fill=\"black\" stroke=\"black\" points=\"43.1466,-46.1043 39.6465,-36.1043 36.1466,-46.1044 43.1466,-46.1043\"/>\n",
       "</g>\n",
       "<!-- 2 -->\n",
       "<g id=\"node3\" class=\"node\"><title>2</title>\n",
       "<ellipse fill=\"none\" stroke=\"black\" cx=\"136.646\" cy=\"-18\" rx=\"27\" ry=\"18\"/>\n",
       "<text text-anchor=\"middle\" x=\"136.646\" y=\"-14.3\" font-family=\"Times,serif\" font-size=\"14.00\">raps</text>\n",
       "</g>\n",
       "<!-- 3 -->\n",
       "<g id=\"node4\" class=\"node\"><title>3</title>\n",
       "<ellipse fill=\"none\" stroke=\"black\" cx=\"136.646\" cy=\"-90\" rx=\"39.7935\" ry=\"18\"/>\n",
       "<text text-anchor=\"middle\" x=\"136.646\" y=\"-86.3\" font-family=\"Times,serif\" font-size=\"14.00\">NP_p_1</text>\n",
       "</g>\n",
       "<!-- 3&#45;&gt;2 -->\n",
       "<g id=\"edge2\" class=\"edge\"><title>3&#45;&gt;2</title>\n",
       "<path fill=\"none\" stroke=\"black\" d=\"M136.646,-71.6966C136.646,-63.9827 136.646,-54.7125 136.646,-46.1124\"/>\n",
       "<polygon fill=\"black\" stroke=\"black\" points=\"140.147,-46.1043 136.646,-36.1043 133.147,-46.1044 140.147,-46.1043\"/>\n",
       "</g>\n",
       "<!-- 4 -->\n",
       "<g id=\"node5\" class=\"node\"><title>4</title>\n",
       "<ellipse fill=\"none\" stroke=\"black\" cx=\"136.646\" cy=\"-162\" rx=\"30.5947\" ry=\"18\"/>\n",
       "<text text-anchor=\"middle\" x=\"136.646\" y=\"-158.3\" font-family=\"Times,serif\" font-size=\"14.00\">NP_p</text>\n",
       "</g>\n",
       "<!-- 4&#45;&gt;1 -->\n",
       "<g id=\"edge3\" class=\"edge\"><title>4&#45;&gt;1</title>\n",
       "<path fill=\"none\" stroke=\"black\" d=\"M117.944,-147.503C103.916,-137.38 84.4575,-123.338 68.4486,-111.785\"/>\n",
       "<polygon fill=\"black\" stroke=\"black\" points=\"70.1233,-108.677 59.9661,-105.664 66.0269,-114.354 70.1233,-108.677\"/>\n",
       "</g>\n",
       "<!-- 4&#45;&gt;3 -->\n",
       "<g id=\"edge4\" class=\"edge\"><title>4&#45;&gt;3</title>\n",
       "<path fill=\"none\" stroke=\"black\" d=\"M136.646,-143.697C136.646,-135.983 136.646,-126.712 136.646,-118.112\"/>\n",
       "<polygon fill=\"black\" stroke=\"black\" points=\"140.147,-118.104 136.646,-108.104 133.147,-118.104 140.147,-118.104\"/>\n",
       "</g>\n",
       "<!-- 5 -->\n",
       "<g id=\"node6\" class=\"node\"><title>5</title>\n",
       "<ellipse fill=\"none\" stroke=\"black\" cx=\"233.646\" cy=\"-18\" rx=\"27\" ry=\"18\"/>\n",
       "<text text-anchor=\"middle\" x=\"233.646\" y=\"-14.3\" font-family=\"Times,serif\" font-size=\"14.00\">are</text>\n",
       "</g>\n",
       "<!-- 6 -->\n",
       "<g id=\"node7\" class=\"node\"><title>6</title>\n",
       "<ellipse fill=\"none\" stroke=\"black\" cx=\"233.646\" cy=\"-90\" rx=\"39.7935\" ry=\"18\"/>\n",
       "<text text-anchor=\"middle\" x=\"233.646\" y=\"-86.3\" font-family=\"Times,serif\" font-size=\"14.00\">VP_p_2</text>\n",
       "</g>\n",
       "<!-- 6&#45;&gt;5 -->\n",
       "<g id=\"edge5\" class=\"edge\"><title>6&#45;&gt;5</title>\n",
       "<path fill=\"none\" stroke=\"black\" d=\"M233.646,-71.6966C233.646,-63.9827 233.646,-54.7125 233.646,-46.1124\"/>\n",
       "<polygon fill=\"black\" stroke=\"black\" points=\"237.147,-46.1043 233.646,-36.1043 230.147,-46.1044 237.147,-46.1043\"/>\n",
       "</g>\n",
       "<!-- 7 -->\n",
       "<g id=\"node8\" class=\"node\"><title>7</title>\n",
       "<ellipse fill=\"none\" stroke=\"black\" cx=\"318.646\" cy=\"-18\" rx=\"27\" ry=\"18\"/>\n",
       "<text text-anchor=\"middle\" x=\"318.646\" y=\"-14.3\" font-family=\"Times,serif\" font-size=\"14.00\">silly</text>\n",
       "</g>\n",
       "<!-- 8 -->\n",
       "<g id=\"node9\" class=\"node\"><title>8</title>\n",
       "<ellipse fill=\"none\" stroke=\"black\" cx=\"318.646\" cy=\"-90\" rx=\"27\" ry=\"18\"/>\n",
       "<text text-anchor=\"middle\" x=\"318.646\" y=\"-86.3\" font-family=\"Times,serif\" font-size=\"14.00\">ADJ</text>\n",
       "</g>\n",
       "<!-- 8&#45;&gt;7 -->\n",
       "<g id=\"edge6\" class=\"edge\"><title>8&#45;&gt;7</title>\n",
       "<path fill=\"none\" stroke=\"black\" d=\"M318.646,-71.6966C318.646,-63.9827 318.646,-54.7125 318.646,-46.1124\"/>\n",
       "<polygon fill=\"black\" stroke=\"black\" points=\"322.147,-46.1043 318.646,-36.1043 315.147,-46.1044 322.147,-46.1043\"/>\n",
       "</g>\n",
       "<!-- 9 -->\n",
       "<g id=\"node10\" class=\"node\"><title>9</title>\n",
       "<ellipse fill=\"none\" stroke=\"black\" cx=\"233.646\" cy=\"-162\" rx=\"30.5947\" ry=\"18\"/>\n",
       "<text text-anchor=\"middle\" x=\"233.646\" y=\"-158.3\" font-family=\"Times,serif\" font-size=\"14.00\">VP_p</text>\n",
       "</g>\n",
       "<!-- 9&#45;&gt;6 -->\n",
       "<g id=\"edge7\" class=\"edge\"><title>9&#45;&gt;6</title>\n",
       "<path fill=\"none\" stroke=\"black\" d=\"M233.646,-143.697C233.646,-135.983 233.646,-126.712 233.646,-118.112\"/>\n",
       "<polygon fill=\"black\" stroke=\"black\" points=\"237.147,-118.104 233.646,-108.104 230.147,-118.104 237.147,-118.104\"/>\n",
       "</g>\n",
       "<!-- 9&#45;&gt;8 -->\n",
       "<g id=\"edge8\" class=\"edge\"><title>9&#45;&gt;8</title>\n",
       "<path fill=\"none\" stroke=\"black\" d=\"M250.848,-146.834C263.418,-136.482 280.632,-122.306 294.569,-110.828\"/>\n",
       "<polygon fill=\"black\" stroke=\"black\" points=\"296.842,-113.491 302.336,-104.432 292.392,-108.087 296.842,-113.491\"/>\n",
       "</g>\n",
       "<!-- 10 -->\n",
       "<g id=\"node11\" class=\"node\"><title>10</title>\n",
       "<ellipse fill=\"none\" stroke=\"black\" cx=\"184.646\" cy=\"-234\" rx=\"27\" ry=\"18\"/>\n",
       "<text text-anchor=\"middle\" x=\"184.646\" y=\"-230.3\" font-family=\"Times,serif\" font-size=\"14.00\">S</text>\n",
       "</g>\n",
       "<!-- 10&#45;&gt;4 -->\n",
       "<g id=\"edge9\" class=\"edge\"><title>10&#45;&gt;4</title>\n",
       "<path fill=\"none\" stroke=\"black\" d=\"M173.755,-217.116C167.825,-208.469 160.355,-197.575 153.675,-187.833\"/>\n",
       "<polygon fill=\"black\" stroke=\"black\" points=\"156.37,-185.575 147.828,-179.307 150.597,-189.534 156.37,-185.575\"/>\n",
       "</g>\n",
       "<!-- 10&#45;&gt;9 -->\n",
       "<g id=\"edge10\" class=\"edge\"><title>10&#45;&gt;9</title>\n",
       "<path fill=\"none\" stroke=\"black\" d=\"M195.521,-217.465C201.714,-208.617 209.611,-197.337 216.609,-187.339\"/>\n",
       "<polygon fill=\"black\" stroke=\"black\" points=\"219.595,-189.177 222.462,-178.977 213.86,-185.162 219.595,-189.177\"/>\n",
       "</g>\n",
       "</g>\n",
       "</svg>\n"
      ],
      "text/plain": [
       "<graphviz.dot.Digraph at 0x7fbcd02ad1d0>"
      ]
     },
     "execution_count": 24,
     "metadata": {
      "filenames": {
       "image/svg+xml": "/Users/knf792/gits/nlp-course/nlp-book/_build/jupyter_execute/stat-nlp-book/chapters/parsing_slides_69_0.svg"
      }
     },
     "output_type": "execute_result"
    }
   ],
   "source": [
    "parse_result = trace[-1].derive_trees()[0]\n",
    "parsing.render_tree(parse_result)"
   ]
  },
  {
   "cell_type": "markdown",
   "metadata": {
    "slideshow": {
     "slide_type": "subslide"
    }
   },
   "source": [
    "Collapse **CNF non-terminals**"
   ]
  },
  {
   "cell_type": "code",
   "execution_count": 25,
   "metadata": {
    "hideCode": true,
    "hidePrompt": true,
    "slideshow": {
     "slide_type": "fragment"
    }
   },
   "outputs": [
    {
     "data": {
      "image/svg+xml": [
       "<?xml version=\"1.0\" encoding=\"UTF-8\" standalone=\"no\"?>\n",
       "<!DOCTYPE svg PUBLIC \"-//W3C//DTD SVG 1.1//EN\"\n",
       " \"http://www.w3.org/Graphics/SVG/1.1/DTD/svg11.dtd\">\n",
       "<!-- Generated by graphviz version 2.38.0 (20140413.2041)\n",
       " -->\n",
       "<!-- Title: %3 Pages: 1 -->\n",
       "<svg width=\"295pt\" height=\"260pt\"\n",
       " viewBox=\"0.00 0.00 295.45 260.00\" xmlns=\"http://www.w3.org/2000/svg\" xmlns:xlink=\"http://www.w3.org/1999/xlink\">\n",
       "<g id=\"graph0\" class=\"graph\" transform=\"scale(1 1) rotate(0) translate(4 256)\">\n",
       "<title>%3</title>\n",
       "<polygon fill=\"white\" stroke=\"none\" points=\"-4,4 -4,-256 291.447,-256 291.447,4 -4,4\"/>\n",
       "<!-- 0 -->\n",
       "<g id=\"node1\" class=\"node\"><title>0</title>\n",
       "<ellipse fill=\"none\" stroke=\"black\" cx=\"34.4469\" cy=\"-90\" rx=\"34.394\" ry=\"18\"/>\n",
       "<text text-anchor=\"middle\" x=\"34.4469\" y=\"-86.3\" font-family=\"Times,serif\" font-size=\"14.00\">Matko</text>\n",
       "</g>\n",
       "<!-- 1 -->\n",
       "<g id=\"node2\" class=\"node\"><title>1</title>\n",
       "<ellipse fill=\"none\" stroke=\"black\" cx=\"113.447\" cy=\"-90\" rx=\"27\" ry=\"18\"/>\n",
       "<text text-anchor=\"middle\" x=\"113.447\" y=\"-86.3\" font-family=\"Times,serif\" font-size=\"14.00\">raps</text>\n",
       "</g>\n",
       "<!-- 2 -->\n",
       "<g id=\"node3\" class=\"node\"><title>2</title>\n",
       "<ellipse fill=\"none\" stroke=\"black\" cx=\"111.447\" cy=\"-162\" rx=\"30.5947\" ry=\"18\"/>\n",
       "<text text-anchor=\"middle\" x=\"111.447\" y=\"-158.3\" font-family=\"Times,serif\" font-size=\"14.00\">NP_p</text>\n",
       "</g>\n",
       "<!-- 2&#45;&gt;0 -->\n",
       "<g id=\"edge1\" class=\"edge\"><title>2&#45;&gt;0</title>\n",
       "<path fill=\"none\" stroke=\"black\" d=\"M95.4925,-146.496C84.7965,-136.772 70.516,-123.79 58.4564,-112.827\"/>\n",
       "<polygon fill=\"black\" stroke=\"black\" points=\"60.666,-110.105 50.9122,-105.968 55.9573,-115.285 60.666,-110.105\"/>\n",
       "</g>\n",
       "<!-- 2&#45;&gt;1 -->\n",
       "<g id=\"edge2\" class=\"edge\"><title>2&#45;&gt;1</title>\n",
       "<path fill=\"none\" stroke=\"black\" d=\"M111.941,-143.697C112.162,-135.983 112.427,-126.712 112.672,-118.112\"/>\n",
       "<polygon fill=\"black\" stroke=\"black\" points=\"116.171,-118.2 112.958,-108.104 109.174,-118 116.171,-118.2\"/>\n",
       "</g>\n",
       "<!-- 3 -->\n",
       "<g id=\"node4\" class=\"node\"><title>3</title>\n",
       "<ellipse fill=\"none\" stroke=\"black\" cx=\"188.447\" cy=\"-90\" rx=\"27\" ry=\"18\"/>\n",
       "<text text-anchor=\"middle\" x=\"188.447\" y=\"-86.3\" font-family=\"Times,serif\" font-size=\"14.00\">are</text>\n",
       "</g>\n",
       "<!-- 4 -->\n",
       "<g id=\"node5\" class=\"node\"><title>4</title>\n",
       "<ellipse fill=\"none\" stroke=\"black\" cx=\"260.447\" cy=\"-18\" rx=\"27\" ry=\"18\"/>\n",
       "<text text-anchor=\"middle\" x=\"260.447\" y=\"-14.3\" font-family=\"Times,serif\" font-size=\"14.00\">silly</text>\n",
       "</g>\n",
       "<!-- 5 -->\n",
       "<g id=\"node6\" class=\"node\"><title>5</title>\n",
       "<ellipse fill=\"none\" stroke=\"black\" cx=\"260.447\" cy=\"-90\" rx=\"27\" ry=\"18\"/>\n",
       "<text text-anchor=\"middle\" x=\"260.447\" y=\"-86.3\" font-family=\"Times,serif\" font-size=\"14.00\">ADJ</text>\n",
       "</g>\n",
       "<!-- 5&#45;&gt;4 -->\n",
       "<g id=\"edge3\" class=\"edge\"><title>5&#45;&gt;4</title>\n",
       "<path fill=\"none\" stroke=\"black\" d=\"M260.447,-71.6966C260.447,-63.9827 260.447,-54.7125 260.447,-46.1124\"/>\n",
       "<polygon fill=\"black\" stroke=\"black\" points=\"263.947,-46.1043 260.447,-36.1043 256.947,-46.1044 263.947,-46.1043\"/>\n",
       "</g>\n",
       "<!-- 6 -->\n",
       "<g id=\"node7\" class=\"node\"><title>6</title>\n",
       "<ellipse fill=\"none\" stroke=\"black\" cx=\"190.447\" cy=\"-162\" rx=\"30.5947\" ry=\"18\"/>\n",
       "<text text-anchor=\"middle\" x=\"190.447\" y=\"-158.3\" font-family=\"Times,serif\" font-size=\"14.00\">VP_p</text>\n",
       "</g>\n",
       "<!-- 6&#45;&gt;3 -->\n",
       "<g id=\"edge4\" class=\"edge\"><title>6&#45;&gt;3</title>\n",
       "<path fill=\"none\" stroke=\"black\" d=\"M189.953,-143.697C189.732,-135.983 189.467,-126.712 189.222,-118.112\"/>\n",
       "<polygon fill=\"black\" stroke=\"black\" points=\"192.72,-118 188.936,-108.104 185.723,-118.2 192.72,-118\"/>\n",
       "</g>\n",
       "<!-- 6&#45;&gt;5 -->\n",
       "<g id=\"edge5\" class=\"edge\"><title>6&#45;&gt;5</title>\n",
       "<path fill=\"none\" stroke=\"black\" d=\"M205.292,-146.155C215.074,-136.372 228.043,-123.404 238.947,-112.5\"/>\n",
       "<polygon fill=\"black\" stroke=\"black\" points=\"241.506,-114.891 246.102,-105.345 236.556,-109.941 241.506,-114.891\"/>\n",
       "</g>\n",
       "<!-- 7 -->\n",
       "<g id=\"node8\" class=\"node\"><title>7</title>\n",
       "<ellipse fill=\"none\" stroke=\"black\" cx=\"150.447\" cy=\"-234\" rx=\"27\" ry=\"18\"/>\n",
       "<text text-anchor=\"middle\" x=\"150.447\" y=\"-230.3\" font-family=\"Times,serif\" font-size=\"14.00\">S</text>\n",
       "</g>\n",
       "<!-- 7&#45;&gt;2 -->\n",
       "<g id=\"edge6\" class=\"edge\"><title>7&#45;&gt;2</title>\n",
       "<path fill=\"none\" stroke=\"black\" d=\"M141.402,-216.765C136.744,-208.404 130.956,-198.016 125.713,-188.606\"/>\n",
       "<polygon fill=\"black\" stroke=\"black\" points=\"128.639,-186.666 120.714,-179.633 122.524,-190.073 128.639,-186.666\"/>\n",
       "</g>\n",
       "<!-- 7&#45;&gt;6 -->\n",
       "<g id=\"edge7\" class=\"edge\"><title>7&#45;&gt;6</title>\n",
       "<path fill=\"none\" stroke=\"black\" d=\"M159.724,-216.765C164.502,-208.404 170.438,-198.016 175.815,-188.606\"/>\n",
       "<polygon fill=\"black\" stroke=\"black\" points=\"179.02,-190.052 180.942,-179.633 172.942,-186.579 179.02,-190.052\"/>\n",
       "</g>\n",
       "</g>\n",
       "</svg>\n"
      ],
      "text/plain": [
       "<graphviz.dot.Digraph at 0x7fbcd02ad048>"
      ]
     },
     "execution_count": 25,
     "metadata": {
      "filenames": {
       "image/svg+xml": "/Users/knf792/gits/nlp-course/nlp-book/_build/jupyter_execute/stat-nlp-book/chapters/parsing_slides_71_0.svg"
      }
     },
     "output_type": "execute_result"
    }
   ],
   "source": [
    "parsing.render_tree(parsing.filter_non_terminals(parse_result, cfg.n))"
   ]
  },
  {
   "cell_type": "markdown",
   "metadata": {
    "slideshow": {
     "slide_type": "slide"
    }
   },
   "source": [
    "## Ambiguity \n",
    "For real world grammars many phrases have **several legal parse trees**"
   ]
  },
  {
   "cell_type": "markdown",
   "metadata": {
    "slideshow": {
     "slide_type": "subslide"
    }
   },
   "source": [
    "Consider the following grammar and sentence"
   ]
  },
  {
   "cell_type": "code",
   "execution_count": 26,
   "metadata": {
    "hidePrompt": true,
    "slideshow": {
     "slide_type": "skip"
    }
   },
   "outputs": [],
   "source": [
    "amb_cfg = CFG.from_rules([\n",
    "        ('S',    ['Subj','VP']),\n",
    "        ('Subj', ['He']),\n",
    "        ('Verb', ['shot']),\n",
    "        ('VP',   ['Verb', 'Obj']),        ('VP', ['Verb', 'Obj', 'PP']),\n",
    "        ('PP',   ['in','his','pyjamas']),\n",
    "        ('Obj',  ['the','elephant']),     ('Obj', ['the','elephant','PP'])\n",
    "    ])\n",
    "amb_cnf_cfg = to_cnf(amb_cfg)\n",
    "amb_sentence = [\"He\", \"shot\", \"the\", \"elephant\", \"in\", \"his\", \"pyjamas\"]"
   ]
  },
  {
   "cell_type": "code",
   "execution_count": 27,
   "metadata": {
    "hideCode": true,
    "hidePrompt": true,
    "slideshow": {
     "slide_type": "subslide"
    }
   },
   "outputs": [
    {
     "data": {
      "text/html": [
       "<table style=\"display: inline-block;\"><tr><td>S</td><td>Subj VP</td></tr><tr><td>Subj</td><td>He</td></tr><tr><td>Verb</td><td>shot</td></tr></table> <table style=\"display: inline-block;\"><tr><td>VP</td><td>Verb Obj</td></tr><tr><td>VP</td><td>Verb Obj PP</td></tr><tr><td>PP</td><td>in his pyjamas</td></tr></table> <table style=\"display: inline-block;\"><tr><td>Obj</td><td>the elephant</td></tr><tr><td>Obj</td><td>the elephant PP</td></tr></table>"
      ],
      "text/plain": [
       "<__main__.CFG at 0x7fbcd02bb470>"
      ]
     },
     "execution_count": 27,
     "metadata": {},
     "output_type": "execute_result"
    }
   ],
   "source": [
    "amb_cfg"
   ]
  },
  {
   "cell_type": "code",
   "execution_count": 28,
   "metadata": {
    "hideCode": true,
    "hidePrompt": true,
    "slideshow": {
     "slide_type": "-"
    }
   },
   "outputs": [
    {
     "data": {
      "text/plain": [
       "'He shot the elephant in his pyjamas'"
      ]
     },
     "execution_count": 28,
     "metadata": {},
     "output_type": "execute_result"
    }
   ],
   "source": [
    "\" \".join(amb_sentence)"
   ]
  },
  {
   "cell_type": "code",
   "execution_count": 29,
   "metadata": {
    "slideshow": {
     "slide_type": "skip"
    }
   },
   "outputs": [],
   "source": [
    "amb_trace = cyk(amb_cnf_cfg, amb_sentence)\n",
    "amb_parse_results = amb_trace[-1].derive_trees()\n",
    "def ambiguous_tree(num):\n",
    "    return parsing.render_tree(parsing.filter_non_terminals(amb_parse_results[num],amb_cfg.n)) # try results[1]"
   ]
  },
  {
   "cell_type": "code",
   "execution_count": 30,
   "metadata": {
    "slideshow": {
     "slide_type": "subslide"
    }
   },
   "outputs": [
    {
     "data": {
      "image/svg+xml": [
       "<?xml version=\"1.0\" encoding=\"UTF-8\" standalone=\"no\"?>\n",
       "<!DOCTYPE svg PUBLIC \"-//W3C//DTD SVG 1.1//EN\"\n",
       " \"http://www.w3.org/Graphics/SVG/1.1/DTD/svg11.dtd\">\n",
       "<!-- Generated by graphviz version 2.38.0 (20140413.2041)\n",
       " -->\n",
       "<!-- Title: %3 Pages: 1 -->\n",
       "<svg width=\"506pt\" height=\"260pt\"\n",
       " viewBox=\"0.00 0.00 506.30 260.00\" xmlns=\"http://www.w3.org/2000/svg\" xmlns:xlink=\"http://www.w3.org/1999/xlink\">\n",
       "<g id=\"graph0\" class=\"graph\" transform=\"scale(1 1) rotate(0) translate(4 256)\">\n",
       "<title>%3</title>\n",
       "<polygon fill=\"white\" stroke=\"none\" points=\"-4,4 -4,-256 502.296,-256 502.296,4 -4,4\"/>\n",
       "<!-- 0 -->\n",
       "<g id=\"node1\" class=\"node\"><title>0</title>\n",
       "<ellipse fill=\"none\" stroke=\"black\" cx=\"27\" cy=\"-90\" rx=\"27\" ry=\"18\"/>\n",
       "<text text-anchor=\"middle\" x=\"27\" y=\"-86.3\" font-family=\"Times,serif\" font-size=\"14.00\">He</text>\n",
       "</g>\n",
       "<!-- 1 -->\n",
       "<g id=\"node2\" class=\"node\"><title>1</title>\n",
       "<ellipse fill=\"none\" stroke=\"black\" cx=\"65\" cy=\"-162\" rx=\"27\" ry=\"18\"/>\n",
       "<text text-anchor=\"middle\" x=\"65\" y=\"-158.3\" font-family=\"Times,serif\" font-size=\"14.00\">Subj</text>\n",
       "</g>\n",
       "<!-- 1&#45;&gt;0 -->\n",
       "<g id=\"edge1\" class=\"edge\"><title>1&#45;&gt;0</title>\n",
       "<path fill=\"none\" stroke=\"black\" d=\"M56.1865,-144.765C51.5823,-136.283 45.845,-125.714 40.6786,-116.197\"/>\n",
       "<polygon fill=\"black\" stroke=\"black\" points=\"43.6126,-114.266 35.7657,-107.147 37.4607,-117.606 43.6126,-114.266\"/>\n",
       "</g>\n",
       "<!-- 2 -->\n",
       "<g id=\"node3\" class=\"node\"><title>2</title>\n",
       "<ellipse fill=\"none\" stroke=\"black\" cx=\"59\" cy=\"-18\" rx=\"27\" ry=\"18\"/>\n",
       "<text text-anchor=\"middle\" x=\"59\" y=\"-14.3\" font-family=\"Times,serif\" font-size=\"14.00\">shot</text>\n",
       "</g>\n",
       "<!-- 3 -->\n",
       "<g id=\"node4\" class=\"node\"><title>3</title>\n",
       "<ellipse fill=\"none\" stroke=\"black\" cx=\"101\" cy=\"-90\" rx=\"28.6953\" ry=\"18\"/>\n",
       "<text text-anchor=\"middle\" x=\"101\" y=\"-86.3\" font-family=\"Times,serif\" font-size=\"14.00\">Verb</text>\n",
       "</g>\n",
       "<!-- 3&#45;&gt;2 -->\n",
       "<g id=\"edge2\" class=\"edge\"><title>3&#45;&gt;2</title>\n",
       "<path fill=\"none\" stroke=\"black\" d=\"M91.2588,-72.7646C86.1169,-64.1948 79.6964,-53.494 73.9402,-43.9004\"/>\n",
       "<polygon fill=\"black\" stroke=\"black\" points=\"76.8346,-41.9215 68.6884,-35.1473 70.8322,-45.523 76.8346,-41.9215\"/>\n",
       "</g>\n",
       "<!-- 4 -->\n",
       "<g id=\"node5\" class=\"node\"><title>4</title>\n",
       "<ellipse fill=\"none\" stroke=\"black\" cx=\"131\" cy=\"-18\" rx=\"27\" ry=\"18\"/>\n",
       "<text text-anchor=\"middle\" x=\"131\" y=\"-14.3\" font-family=\"Times,serif\" font-size=\"14.00\">the</text>\n",
       "</g>\n",
       "<!-- 5 -->\n",
       "<g id=\"node6\" class=\"node\"><title>5</title>\n",
       "<ellipse fill=\"none\" stroke=\"black\" cx=\"216\" cy=\"-18\" rx=\"40.0939\" ry=\"18\"/>\n",
       "<text text-anchor=\"middle\" x=\"216\" y=\"-14.3\" font-family=\"Times,serif\" font-size=\"14.00\">elephant</text>\n",
       "</g>\n",
       "<!-- 6 -->\n",
       "<g id=\"node7\" class=\"node\"><title>6</title>\n",
       "<ellipse fill=\"none\" stroke=\"black\" cx=\"175\" cy=\"-90\" rx=\"27\" ry=\"18\"/>\n",
       "<text text-anchor=\"middle\" x=\"175\" y=\"-86.3\" font-family=\"Times,serif\" font-size=\"14.00\">Obj</text>\n",
       "</g>\n",
       "<!-- 6&#45;&gt;4 -->\n",
       "<g id=\"edge3\" class=\"edge\"><title>6&#45;&gt;4</title>\n",
       "<path fill=\"none\" stroke=\"black\" d=\"M165.016,-73.1159C159.503,-64.345 152.537,-53.2637 146.347,-43.4162\"/>\n",
       "<polygon fill=\"black\" stroke=\"black\" points=\"149.23,-41.425 140.945,-34.8212 143.303,-45.1502 149.23,-41.425\"/>\n",
       "</g>\n",
       "<!-- 6&#45;&gt;5 -->\n",
       "<g id=\"edge4\" class=\"edge\"><title>6&#45;&gt;5</title>\n",
       "<path fill=\"none\" stroke=\"black\" d=\"M184.509,-72.7646C189.457,-64.3172 195.618,-53.7993 201.174,-44.3122\"/>\n",
       "<polygon fill=\"black\" stroke=\"black\" points=\"204.224,-46.0312 206.258,-35.6334 198.183,-42.4933 204.224,-46.0312\"/>\n",
       "</g>\n",
       "<!-- 7 -->\n",
       "<g id=\"node8\" class=\"node\"><title>7</title>\n",
       "<ellipse fill=\"none\" stroke=\"black\" cx=\"301\" cy=\"-18\" rx=\"27\" ry=\"18\"/>\n",
       "<text text-anchor=\"middle\" x=\"301\" y=\"-14.3\" font-family=\"Times,serif\" font-size=\"14.00\">in</text>\n",
       "</g>\n",
       "<!-- 8 -->\n",
       "<g id=\"node9\" class=\"node\"><title>8</title>\n",
       "<ellipse fill=\"none\" stroke=\"black\" cx=\"373\" cy=\"-18\" rx=\"27\" ry=\"18\"/>\n",
       "<text text-anchor=\"middle\" x=\"373\" y=\"-14.3\" font-family=\"Times,serif\" font-size=\"14.00\">his</text>\n",
       "</g>\n",
       "<!-- 9 -->\n",
       "<g id=\"node10\" class=\"node\"><title>9</title>\n",
       "<ellipse fill=\"none\" stroke=\"black\" cx=\"458\" cy=\"-18\" rx=\"40.0939\" ry=\"18\"/>\n",
       "<text text-anchor=\"middle\" x=\"458\" y=\"-14.3\" font-family=\"Times,serif\" font-size=\"14.00\">pyjamas</text>\n",
       "</g>\n",
       "<!-- 10 -->\n",
       "<g id=\"node11\" class=\"node\"><title>10</title>\n",
       "<ellipse fill=\"none\" stroke=\"black\" cx=\"337\" cy=\"-90\" rx=\"27\" ry=\"18\"/>\n",
       "<text text-anchor=\"middle\" x=\"337\" y=\"-86.3\" font-family=\"Times,serif\" font-size=\"14.00\">PP</text>\n",
       "</g>\n",
       "<!-- 10&#45;&gt;7 -->\n",
       "<g id=\"edge5\" class=\"edge\"><title>10&#45;&gt;7</title>\n",
       "<path fill=\"none\" stroke=\"black\" d=\"M328.65,-72.7646C324.288,-64.2831 318.853,-53.7144 313.959,-44.1974\"/>\n",
       "<polygon fill=\"black\" stroke=\"black\" points=\"316.99,-42.4395 309.304,-35.1473 310.765,-45.6409 316.99,-42.4395\"/>\n",
       "</g>\n",
       "<!-- 10&#45;&gt;8 -->\n",
       "<g id=\"edge6\" class=\"edge\"><title>10&#45;&gt;8</title>\n",
       "<path fill=\"none\" stroke=\"black\" d=\"M345.35,-72.7646C349.712,-64.2831 355.147,-53.7144 360.041,-44.1974\"/>\n",
       "<polygon fill=\"black\" stroke=\"black\" points=\"363.235,-45.6409 364.696,-35.1473 357.01,-42.4395 363.235,-45.6409\"/>\n",
       "</g>\n",
       "<!-- 10&#45;&gt;9 -->\n",
       "<g id=\"edge7\" class=\"edge\"><title>10&#45;&gt;9</title>\n",
       "<path fill=\"none\" stroke=\"black\" d=\"M356.71,-77.5975C375.309,-66.8378 403.535,-50.5089 425.47,-37.8188\"/>\n",
       "<polygon fill=\"black\" stroke=\"black\" points=\"427.234,-40.8421 434.137,-32.8049 423.729,-34.783 427.234,-40.8421\"/>\n",
       "</g>\n",
       "<!-- 11 -->\n",
       "<g id=\"node12\" class=\"node\"><title>11</title>\n",
       "<ellipse fill=\"none\" stroke=\"black\" cx=\"138\" cy=\"-162\" rx=\"27\" ry=\"18\"/>\n",
       "<text text-anchor=\"middle\" x=\"138\" y=\"-158.3\" font-family=\"Times,serif\" font-size=\"14.00\">VP</text>\n",
       "</g>\n",
       "<!-- 11&#45;&gt;3 -->\n",
       "<g id=\"edge8\" class=\"edge\"><title>11&#45;&gt;3</title>\n",
       "<path fill=\"none\" stroke=\"black\" d=\"M129.418,-144.765C124.999,-136.404 119.508,-126.016 114.535,-116.606\"/>\n",
       "<polygon fill=\"black\" stroke=\"black\" points=\"117.559,-114.839 109.792,-107.633 111.371,-118.11 117.559,-114.839\"/>\n",
       "</g>\n",
       "<!-- 11&#45;&gt;6 -->\n",
       "<g id=\"edge9\" class=\"edge\"><title>11&#45;&gt;6</title>\n",
       "<path fill=\"none\" stroke=\"black\" d=\"M146.582,-144.765C151.065,-136.283 156.651,-125.714 161.681,-116.197\"/>\n",
       "<polygon fill=\"black\" stroke=\"black\" points=\"164.886,-117.624 166.465,-107.147 158.698,-114.353 164.886,-117.624\"/>\n",
       "</g>\n",
       "<!-- 11&#45;&gt;10 -->\n",
       "<g id=\"edge10\" class=\"edge\"><title>11&#45;&gt;10</title>\n",
       "<path fill=\"none\" stroke=\"black\" d=\"M161.609,-152.695C197.011,-140.242 263.971,-116.689 304.132,-102.562\"/>\n",
       "<polygon fill=\"black\" stroke=\"black\" points=\"305.457,-105.806 313.729,-99.1857 303.134,-99.2023 305.457,-105.806\"/>\n",
       "</g>\n",
       "<!-- 12 -->\n",
       "<g id=\"node13\" class=\"node\"><title>12</title>\n",
       "<ellipse fill=\"none\" stroke=\"black\" cx=\"101\" cy=\"-234\" rx=\"27\" ry=\"18\"/>\n",
       "<text text-anchor=\"middle\" x=\"101\" y=\"-230.3\" font-family=\"Times,serif\" font-size=\"14.00\">S</text>\n",
       "</g>\n",
       "<!-- 12&#45;&gt;1 -->\n",
       "<g id=\"edge11\" class=\"edge\"><title>12&#45;&gt;1</title>\n",
       "<path fill=\"none\" stroke=\"black\" d=\"M92.6504,-216.765C88.2885,-208.283 82.8531,-197.714 77.9587,-188.197\"/>\n",
       "<polygon fill=\"black\" stroke=\"black\" points=\"80.9904,-186.439 73.3043,-179.147 74.7654,-189.641 80.9904,-186.439\"/>\n",
       "</g>\n",
       "<!-- 12&#45;&gt;11 -->\n",
       "<g id=\"edge12\" class=\"edge\"><title>12&#45;&gt;11</title>\n",
       "<path fill=\"none\" stroke=\"black\" d=\"M109.582,-216.765C114.065,-208.283 119.651,-197.714 124.681,-188.197\"/>\n",
       "<polygon fill=\"black\" stroke=\"black\" points=\"127.886,-189.624 129.465,-179.147 121.698,-186.353 127.886,-189.624\"/>\n",
       "</g>\n",
       "</g>\n",
       "</svg>\n"
      ],
      "text/plain": [
       "<graphviz.dot.Digraph at 0x7fbcd0305ac8>"
      ]
     },
     "execution_count": 30,
     "metadata": {
      "filenames": {
       "image/svg+xml": "/Users/knf792/gits/nlp-course/nlp-book/_build/jupyter_execute/stat-nlp-book/chapters/parsing_slides_78_0.svg"
      }
     },
     "output_type": "execute_result"
    }
   ],
   "source": [
    "ambiguous_tree(1) # try tree 1 "
   ]
  },
  {
   "cell_type": "markdown",
   "metadata": {
    "slideshow": {
     "slide_type": "subslide"
    }
   },
   "source": [
    "**prepositional phrase attachment ambiguity**: \"in his pyjamas\" could be \n",
    "\n",
    "* in verb phrase (in pyjamas when shooting)\n",
    "* in noun phrase (elephant in pyjamas)\n"
   ]
  },
  {
   "cell_type": "markdown",
   "metadata": {
    "slideshow": {
     "slide_type": "fragment"
    }
   },
   "source": [
    "Both readings are grammatical, but one is **more probable**"
   ]
  },
  {
   "cell_type": "markdown",
   "metadata": {
    "slideshow": {
     "slide_type": "slide"
    }
   },
   "source": [
    "## Probabilistic Context Free Grammars\n",
    "[Probabilistic Context Free Grammars](http://www.cs.columbia.edu/~mcollins/courses/nlp2011/notes/pcfgs.pdf) (PFCGs) are Context Free Grammars in which rules have probabilities \n",
    "\n",
    "* A Context Free Grammar \\\\(G(N,\\Sigma,R,S)\\\\)\n",
    "* A parameter \\\\(\\param(\\alpha \\rightarrow \\beta) \\in [0,1]\\\\) for each rule  \\\\(\\alpha \\rightarrow \\beta \\in R\\\\) \n",
    "* For each left hand side \\\\(\\alpha \\in N\\\\) we require \\\\(\\sum_\\beta \\param(\\alpha \\rightarrow \\beta) = 1\\\\)"
   ]
  },
  {
   "cell_type": "markdown",
   "metadata": {
    "slideshow": {
     "slide_type": "subslide"
    }
   },
   "source": [
    "A PCFG defines probability for parse tree \\\\(\\mathbf{t}\\\\) containing the rules \\\\(\\alpha_1 \\rightarrow \\beta_1, \\ldots, \\alpha_n \\rightarrow \\beta_n\\\\):\n",
    "$$\n",
    "  \\newcommand{parse}{\\mathbf{t}}\n",
    "  p_{\\param}(\\parse) = \\prod_i^n \\param(\\alpha_i \\rightarrow \\beta_i) \n",
    "$$\n"
   ]
  },
  {
   "cell_type": "markdown",
   "metadata": {
    "slideshow": {
     "slide_type": "subslide"
    }
   },
   "source": [
    "Example PCFG:"
   ]
  },
  {
   "cell_type": "code",
   "execution_count": 31,
   "metadata": {
    "hideCode": true,
    "hidePrompt": true,
    "slideshow": {
     "slide_type": "-"
    }
   },
   "outputs": [
    {
     "data": {
      "text/html": [
       "<table style=\"display: inline-block;\"><tr><td>S</td><td>1.0</td><td>Subj VP</td></tr><tr><td>Subj</td><td>1.0</td><td>He</td></tr><tr><td>Verb</td><td>1.0</td><td>shot</td></tr></table> <table style=\"display: inline-block;\"><tr><td>VP</td><td>0.3</td><td>Verb Obj</td></tr><tr><td>VP</td><td>0.7</td><td>Verb Obj PP</td></tr><tr><td>PP</td><td>1.0</td><td>in his pyjamas</td></tr></table> <table style=\"display: inline-block;\"><tr><td>Obj</td><td>0.5</td><td>the elephant</td></tr><tr><td>Obj</td><td>0.5</td><td>the elephant PP</td></tr></table>"
      ],
      "text/plain": [
       "<__main__.PCFG at 0x7fbcd0260cf8>"
      ]
     },
     "execution_count": 31,
     "metadata": {},
     "output_type": "execute_result"
    }
   ],
   "source": [
    "pcfg = PCFG.from_rules([\n",
    "        ('S',    1.0, ['Subj','VP']),\n",
    "        ('Subj', 1.0, ['He']),\n",
    "        ('Verb', 1.0, ['shot']),\n",
    "        ('VP',   0.3, ['Verb', 'Obj']),        ('VP',  0.7, ['Verb', 'Obj', 'PP']),\n",
    "        ('PP',   1.0, ['in','his','pyjamas']),\n",
    "        ('Obj',  0.5, ['the','elephant']),     ('Obj', 0.5, ['the','elephant','PP'])\n",
    "    ])\n",
    "pcfg"
   ]
  },
  {
   "cell_type": "markdown",
   "metadata": {
    "slideshow": {
     "slide_type": "slide"
    }
   },
   "source": [
    "## Parsing\n",
    "\n",
    "For given sentence $\\x$, let $\\Ys(\\x,G)$ be all trees $\\mathbf{t}$ with $\\x$ as terminals:\n",
    "\n",
    "$$\n",
    "\\argmax_{\\mathbf{t} \\in \\Ys(\\x,G)} \\prob_\\params(\\mathbf{t}) \n",
    "$$\n"
   ]
  },
  {
   "cell_type": "markdown",
   "metadata": {
    "slideshow": {
     "slide_type": "subslide"
    }
   },
   "source": [
    "## CYK for PCFGs\n",
    "We can use a variant of the CYK algorithm to solve the prediction problem"
   ]
  },
  {
   "cell_type": "markdown",
   "metadata": {
    "slideshow": {
     "slide_type": "subslide"
    }
   },
   "source": [
    "Populate chart with non-terminal $l$ for span $(i,j)$ **and score $s$**\n",
    "\n",
    "if $j=i$\n",
    "* Add label $l$ **with score $\\theta(l \\rightarrow x_i )$** if $l \\rightarrow x_i \\in R$ "
   ]
  },
  {
   "cell_type": "markdown",
   "metadata": {
    "slideshow": {
     "slide_type": "subslide"
    }
   },
   "source": [
    "if $j>i$\n",
    "* Consider all *middle* indices $m$   \n",
    "* combine trees of span $(i,m)$ and $(m+1,j)$ with labels $l_1$ and $l_2$ and scores $s_1$ and $s_2$\n",
    "    * **and score $\\theta(l \\rightarrow l_1 \\: l_2) \\times s_1 \\times s_2$**\n",
    "* if there is a rule $l \\rightarrow l_1 \\: l_2 \\in R$"
   ]
  },
  {
   "cell_type": "code",
   "execution_count": 32,
   "metadata": {
    "hideCode": true,
    "hidePrompt": true,
    "scrolled": true,
    "slideshow": {
     "slide_type": "subslide"
    }
   },
   "outputs": [
    {
     "data": {
      "text/html": [
       "<table style=\"display: inline-block;\"><tr><td>S</td><td>1.0</td><td>Subj VP</td></tr><tr><td>Subj</td><td>1.0</td><td>He</td></tr><tr><td>Verb</td><td>1.0</td><td>shot</td></tr><tr><td>VP</td><td>0.3</td><td>Verb Obj</td></tr><tr><td>VP</td><td>0.7</td><td>Verb VP_0</td></tr><tr><td>VP_0</td><td>1.0</td><td>Obj PP</td></tr></table> <table style=\"display: inline-block;\"><tr><td>PP_2</td><td>1.0</td><td>in</td></tr><tr><td>PP</td><td>1.0</td><td>PP_2 PP_1</td></tr><tr><td>PP_1_3</td><td>1.0</td><td>his</td></tr><tr><td>PP_1_4</td><td>1.0</td><td>pyjamas</td></tr><tr><td>PP_1</td><td>1.0</td><td>PP_1_3 PP_1_4</td></tr><tr><td>Obj_5</td><td>1.0</td><td>the</td></tr></table> <table style=\"display: inline-block;\"><tr><td>Obj_6</td><td>1.0</td><td>elephant</td></tr><tr><td>Obj</td><td>0.5</td><td>Obj_5 Obj_6</td></tr><tr><td>Obj_8</td><td>1.0</td><td>the</td></tr><tr><td>Obj</td><td>0.5</td><td>Obj_8 Obj_7</td></tr><tr><td>Obj_7_9</td><td>1.0</td><td>elephant</td></tr><tr><td>Obj_7</td><td>1.0</td><td>Obj_7_9 PP</td></tr></table>"
      ],
      "text/plain": [
       "<__main__.PCFG at 0x7fbcd01bb438>"
      ]
     },
     "execution_count": 32,
     "metadata": {},
     "output_type": "execute_result"
    }
   ],
   "source": [
    "cnf_pcfg"
   ]
  },
  {
   "cell_type": "code",
   "execution_count": 33,
   "metadata": {
    "hideCode": true,
    "hidePrompt": true,
    "scrolled": true,
    "slideshow": {
     "slide_type": "-"
    }
   },
   "outputs": [
    {
     "data": {
      "text/html": [
       "\n",
       "        <div id=\"675da63a-b7f9-11e8-86ff-0242ac110002\" class=\"carousel\" data-ride=\"carousel\" data-interval=\"false\">\n",
       "          <!-- Controls -->\n",
       "          <a href=\"#675da63a-b7f9-11e8-86ff-0242ac110002\" role=\"button2\" data-slide=\"prev\">Previous</a>\n",
       "          &nbsp\n",
       "          <a  href=\"#675da63a-b7f9-11e8-86ff-0242ac110002\" role=\"button2\" data-slide=\"next\">Next</a>\n",
       "          <div class=\"carousel-inner\" role=\"listbox\">\n",
       "          <div class=\"item active\"><table><tr><td></td><td>0: He</td><td>1: shot</td><td>2: the</td><td>3: elephant</td><td>4: in</td><td>5: his</td><td>6: pyjamas</td></tr>\n",
       "<tr><td>0: He</td><td style=\"border:solid;\" bgcolor=\"white\"></td><td style=\"border:solid;\" bgcolor=\"white\"></td><td style=\"border:solid;\" bgcolor=\"white\"></td><td style=\"border:solid;\" bgcolor=\"white\"></td><td style=\"border:solid;\" bgcolor=\"white\"></td><td style=\"border:solid;\" bgcolor=\"white\"></td><td style=\"border:solid;\" bgcolor=\"white\"></td></tr>\n",
       "<tr><td>1: shot</td><td style=\"border:none;\" bgcolor=\"white\"></td><td style=\"border:solid;\" bgcolor=\"white\"></td><td style=\"border:solid;\" bgcolor=\"white\"></td><td style=\"border:solid;\" bgcolor=\"white\"></td><td style=\"border:solid;\" bgcolor=\"white\"></td><td style=\"border:solid;\" bgcolor=\"white\"></td><td style=\"border:solid;\" bgcolor=\"white\"></td></tr>\n",
       "<tr><td>2: the</td><td style=\"border:none;\" bgcolor=\"white\"></td><td style=\"border:none;\" bgcolor=\"white\"></td><td style=\"border:solid;\" bgcolor=\"white\"></td><td style=\"border:solid;\" bgcolor=\"white\"></td><td style=\"border:solid;\" bgcolor=\"white\"></td><td style=\"border:solid;\" bgcolor=\"white\"></td><td style=\"border:solid;\" bgcolor=\"white\"></td></tr>\n",
       "<tr><td>3: elephant</td><td style=\"border:none;\" bgcolor=\"white\"></td><td style=\"border:none;\" bgcolor=\"white\"></td><td style=\"border:none;\" bgcolor=\"white\"></td><td style=\"border:solid;\" bgcolor=\"white\"></td><td style=\"border:solid;\" bgcolor=\"white\"></td><td style=\"border:solid;\" bgcolor=\"white\"></td><td style=\"border:solid;\" bgcolor=\"white\"></td></tr>\n",
       "<tr><td>4: in</td><td style=\"border:none;\" bgcolor=\"white\"></td><td style=\"border:none;\" bgcolor=\"white\"></td><td style=\"border:none;\" bgcolor=\"white\"></td><td style=\"border:none;\" bgcolor=\"white\"></td><td style=\"border:solid;\" bgcolor=\"white\"></td><td style=\"border:solid;\" bgcolor=\"white\"></td><td style=\"border:solid;\" bgcolor=\"white\"></td></tr>\n",
       "<tr><td>5: his</td><td style=\"border:none;\" bgcolor=\"white\"></td><td style=\"border:none;\" bgcolor=\"white\"></td><td style=\"border:none;\" bgcolor=\"white\"></td><td style=\"border:none;\" bgcolor=\"white\"></td><td style=\"border:none;\" bgcolor=\"white\"></td><td style=\"border:solid;\" bgcolor=\"white\"></td><td style=\"border:solid;\" bgcolor=\"white\"></td></tr>\n",
       "<tr><td>6: pyjamas</td><td style=\"border:none;\" bgcolor=\"white\"></td><td style=\"border:none;\" bgcolor=\"white\"></td><td style=\"border:none;\" bgcolor=\"white\"></td><td style=\"border:none;\" bgcolor=\"white\"></td><td style=\"border:none;\" bgcolor=\"white\"></td><td style=\"border:none;\" bgcolor=\"white\"></td><td style=\"border:solid;\" bgcolor=\"white\"></td></tr></table> 1 / 112</div>\n",
       "<div class=\"item\"><table><tr><td></td><td>0: He</td><td>1: shot</td><td>2: the</td><td>3: elephant</td><td>4: in</td><td>5: his</td><td>6: pyjamas</td></tr>\n",
       "<tr><td>0: He</td><td style=\"border:solid;\" bgcolor=\"#C3C3C3\"></td><td style=\"border:solid;\" bgcolor=\"white\"></td><td style=\"border:solid;\" bgcolor=\"white\"></td><td style=\"border:solid;\" bgcolor=\"white\"></td><td style=\"border:solid;\" bgcolor=\"white\"></td><td style=\"border:solid;\" bgcolor=\"white\"></td><td style=\"border:solid;\" bgcolor=\"white\"></td></tr>\n",
       "<tr><td>1: shot</td><td style=\"border:none;\" bgcolor=\"white\"></td><td style=\"border:solid;\" bgcolor=\"white\"></td><td style=\"border:solid;\" bgcolor=\"white\"></td><td style=\"border:solid;\" bgcolor=\"white\"></td><td style=\"border:solid;\" bgcolor=\"white\"></td><td style=\"border:solid;\" bgcolor=\"white\"></td><td style=\"border:solid;\" bgcolor=\"white\"></td></tr>\n",
       "<tr><td>2: the</td><td style=\"border:none;\" bgcolor=\"white\"></td><td style=\"border:none;\" bgcolor=\"white\"></td><td style=\"border:solid;\" bgcolor=\"white\"></td><td style=\"border:solid;\" bgcolor=\"white\"></td><td style=\"border:solid;\" bgcolor=\"white\"></td><td style=\"border:solid;\" bgcolor=\"white\"></td><td style=\"border:solid;\" bgcolor=\"white\"></td></tr>\n",
       "<tr><td>3: elephant</td><td style=\"border:none;\" bgcolor=\"white\"></td><td style=\"border:none;\" bgcolor=\"white\"></td><td style=\"border:none;\" bgcolor=\"white\"></td><td style=\"border:solid;\" bgcolor=\"white\"></td><td style=\"border:solid;\" bgcolor=\"white\"></td><td style=\"border:solid;\" bgcolor=\"white\"></td><td style=\"border:solid;\" bgcolor=\"white\"></td></tr>\n",
       "<tr><td>4: in</td><td style=\"border:none;\" bgcolor=\"white\"></td><td style=\"border:none;\" bgcolor=\"white\"></td><td style=\"border:none;\" bgcolor=\"white\"></td><td style=\"border:none;\" bgcolor=\"white\"></td><td style=\"border:solid;\" bgcolor=\"white\"></td><td style=\"border:solid;\" bgcolor=\"white\"></td><td style=\"border:solid;\" bgcolor=\"white\"></td></tr>\n",
       "<tr><td>5: his</td><td style=\"border:none;\" bgcolor=\"white\"></td><td style=\"border:none;\" bgcolor=\"white\"></td><td style=\"border:none;\" bgcolor=\"white\"></td><td style=\"border:none;\" bgcolor=\"white\"></td><td style=\"border:none;\" bgcolor=\"white\"></td><td style=\"border:solid;\" bgcolor=\"white\"></td><td style=\"border:solid;\" bgcolor=\"white\"></td></tr>\n",
       "<tr><td>6: pyjamas</td><td style=\"border:none;\" bgcolor=\"white\"></td><td style=\"border:none;\" bgcolor=\"white\"></td><td style=\"border:none;\" bgcolor=\"white\"></td><td style=\"border:none;\" bgcolor=\"white\"></td><td style=\"border:none;\" bgcolor=\"white\"></td><td style=\"border:none;\" bgcolor=\"white\"></td><td style=\"border:solid;\" bgcolor=\"white\"></td></tr></table> 2 / 112</div>\n",
       "<div class=\"item\"><table><tr><td></td><td>0: He</td><td>1: shot</td><td>2: the</td><td>3: elephant</td><td>4: in</td><td>5: his</td><td>6: pyjamas</td></tr>\n",
       "<tr><td>0: He</td><td style=\"border:solid;\" bgcolor=\"#C3C3C3\"><font color=\"blue\">Subj: 0.00</font></td><td style=\"border:solid;\" bgcolor=\"white\"></td><td style=\"border:solid;\" bgcolor=\"white\"></td><td style=\"border:solid;\" bgcolor=\"white\"></td><td style=\"border:solid;\" bgcolor=\"white\"></td><td style=\"border:solid;\" bgcolor=\"white\"></td><td style=\"border:solid;\" bgcolor=\"white\"></td></tr>\n",
       "<tr><td>1: shot</td><td style=\"border:none;\" bgcolor=\"white\"></td><td style=\"border:solid;\" bgcolor=\"white\"></td><td style=\"border:solid;\" bgcolor=\"white\"></td><td style=\"border:solid;\" bgcolor=\"white\"></td><td style=\"border:solid;\" bgcolor=\"white\"></td><td style=\"border:solid;\" bgcolor=\"white\"></td><td style=\"border:solid;\" bgcolor=\"white\"></td></tr>\n",
       "<tr><td>2: the</td><td style=\"border:none;\" bgcolor=\"white\"></td><td style=\"border:none;\" bgcolor=\"white\"></td><td style=\"border:solid;\" bgcolor=\"white\"></td><td style=\"border:solid;\" bgcolor=\"white\"></td><td style=\"border:solid;\" bgcolor=\"white\"></td><td style=\"border:solid;\" bgcolor=\"white\"></td><td style=\"border:solid;\" bgcolor=\"white\"></td></tr>\n",
       "<tr><td>3: elephant</td><td style=\"border:none;\" bgcolor=\"white\"></td><td style=\"border:none;\" bgcolor=\"white\"></td><td style=\"border:none;\" bgcolor=\"white\"></td><td style=\"border:solid;\" bgcolor=\"white\"></td><td style=\"border:solid;\" bgcolor=\"white\"></td><td style=\"border:solid;\" bgcolor=\"white\"></td><td style=\"border:solid;\" bgcolor=\"white\"></td></tr>\n",
       "<tr><td>4: in</td><td style=\"border:none;\" bgcolor=\"white\"></td><td style=\"border:none;\" bgcolor=\"white\"></td><td style=\"border:none;\" bgcolor=\"white\"></td><td style=\"border:none;\" bgcolor=\"white\"></td><td style=\"border:solid;\" bgcolor=\"white\"></td><td style=\"border:solid;\" bgcolor=\"white\"></td><td style=\"border:solid;\" bgcolor=\"white\"></td></tr>\n",
       "<tr><td>5: his</td><td style=\"border:none;\" bgcolor=\"white\"></td><td style=\"border:none;\" bgcolor=\"white\"></td><td style=\"border:none;\" bgcolor=\"white\"></td><td style=\"border:none;\" bgcolor=\"white\"></td><td style=\"border:none;\" bgcolor=\"white\"></td><td style=\"border:solid;\" bgcolor=\"white\"></td><td style=\"border:solid;\" bgcolor=\"white\"></td></tr>\n",
       "<tr><td>6: pyjamas</td><td style=\"border:none;\" bgcolor=\"white\"></td><td style=\"border:none;\" bgcolor=\"white\"></td><td style=\"border:none;\" bgcolor=\"white\"></td><td style=\"border:none;\" bgcolor=\"white\"></td><td style=\"border:none;\" bgcolor=\"white\"></td><td style=\"border:none;\" bgcolor=\"white\"></td><td style=\"border:solid;\" bgcolor=\"white\"></td></tr></table> 3 / 112</div>\n",
       "<div class=\"item\"><table><tr><td></td><td>0: He</td><td>1: shot</td><td>2: the</td><td>3: elephant</td><td>4: in</td><td>5: his</td><td>6: pyjamas</td></tr>\n",
       "<tr><td>0: He</td><td style=\"border:solid;\" bgcolor=\"white\"><font color=\"blue\">Subj: 0.00</font></td><td style=\"border:solid;\" bgcolor=\"white\"></td><td style=\"border:solid;\" bgcolor=\"white\"></td><td style=\"border:solid;\" bgcolor=\"white\"></td><td style=\"border:solid;\" bgcolor=\"white\"></td><td style=\"border:solid;\" bgcolor=\"white\"></td><td style=\"border:solid;\" bgcolor=\"white\"></td></tr>\n",
       "<tr><td>1: shot</td><td style=\"border:none;\" bgcolor=\"white\"></td><td style=\"border:solid;\" bgcolor=\"#C3C3C3\"></td><td style=\"border:solid;\" bgcolor=\"white\"></td><td style=\"border:solid;\" bgcolor=\"white\"></td><td style=\"border:solid;\" bgcolor=\"white\"></td><td style=\"border:solid;\" bgcolor=\"white\"></td><td style=\"border:solid;\" bgcolor=\"white\"></td></tr>\n",
       "<tr><td>2: the</td><td style=\"border:none;\" bgcolor=\"white\"></td><td style=\"border:none;\" bgcolor=\"white\"></td><td style=\"border:solid;\" bgcolor=\"white\"></td><td style=\"border:solid;\" bgcolor=\"white\"></td><td style=\"border:solid;\" bgcolor=\"white\"></td><td style=\"border:solid;\" bgcolor=\"white\"></td><td style=\"border:solid;\" bgcolor=\"white\"></td></tr>\n",
       "<tr><td>3: elephant</td><td style=\"border:none;\" bgcolor=\"white\"></td><td style=\"border:none;\" bgcolor=\"white\"></td><td style=\"border:none;\" bgcolor=\"white\"></td><td style=\"border:solid;\" bgcolor=\"white\"></td><td style=\"border:solid;\" bgcolor=\"white\"></td><td style=\"border:solid;\" bgcolor=\"white\"></td><td style=\"border:solid;\" bgcolor=\"white\"></td></tr>\n",
       "<tr><td>4: in</td><td style=\"border:none;\" bgcolor=\"white\"></td><td style=\"border:none;\" bgcolor=\"white\"></td><td style=\"border:none;\" bgcolor=\"white\"></td><td style=\"border:none;\" bgcolor=\"white\"></td><td style=\"border:solid;\" bgcolor=\"white\"></td><td style=\"border:solid;\" bgcolor=\"white\"></td><td style=\"border:solid;\" bgcolor=\"white\"></td></tr>\n",
       "<tr><td>5: his</td><td style=\"border:none;\" bgcolor=\"white\"></td><td style=\"border:none;\" bgcolor=\"white\"></td><td style=\"border:none;\" bgcolor=\"white\"></td><td style=\"border:none;\" bgcolor=\"white\"></td><td style=\"border:none;\" bgcolor=\"white\"></td><td style=\"border:solid;\" bgcolor=\"white\"></td><td style=\"border:solid;\" bgcolor=\"white\"></td></tr>\n",
       "<tr><td>6: pyjamas</td><td style=\"border:none;\" bgcolor=\"white\"></td><td style=\"border:none;\" bgcolor=\"white\"></td><td style=\"border:none;\" bgcolor=\"white\"></td><td style=\"border:none;\" bgcolor=\"white\"></td><td style=\"border:none;\" bgcolor=\"white\"></td><td style=\"border:none;\" bgcolor=\"white\"></td><td style=\"border:solid;\" bgcolor=\"white\"></td></tr></table> 4 / 112</div>\n",
       "<div class=\"item\"><table><tr><td></td><td>0: He</td><td>1: shot</td><td>2: the</td><td>3: elephant</td><td>4: in</td><td>5: his</td><td>6: pyjamas</td></tr>\n",
       "<tr><td>0: He</td><td style=\"border:solid;\" bgcolor=\"white\"><font color=\"black\">Subj: 0.00</font></td><td style=\"border:solid;\" bgcolor=\"white\"></td><td style=\"border:solid;\" bgcolor=\"white\"></td><td style=\"border:solid;\" bgcolor=\"white\"></td><td style=\"border:solid;\" bgcolor=\"white\"></td><td style=\"border:solid;\" bgcolor=\"white\"></td><td style=\"border:solid;\" bgcolor=\"white\"></td></tr>\n",
       "<tr><td>1: shot</td><td style=\"border:none;\" bgcolor=\"white\"></td><td style=\"border:solid;\" bgcolor=\"#C3C3C3\"><font color=\"blue\">Verb: 0.00</font></td><td style=\"border:solid;\" bgcolor=\"white\"></td><td style=\"border:solid;\" bgcolor=\"white\"></td><td style=\"border:solid;\" bgcolor=\"white\"></td><td style=\"border:solid;\" bgcolor=\"white\"></td><td style=\"border:solid;\" bgcolor=\"white\"></td></tr>\n",
       "<tr><td>2: the</td><td style=\"border:none;\" bgcolor=\"white\"></td><td style=\"border:none;\" bgcolor=\"white\"></td><td style=\"border:solid;\" bgcolor=\"white\"></td><td style=\"border:solid;\" bgcolor=\"white\"></td><td style=\"border:solid;\" bgcolor=\"white\"></td><td style=\"border:solid;\" bgcolor=\"white\"></td><td style=\"border:solid;\" bgcolor=\"white\"></td></tr>\n",
       "<tr><td>3: elephant</td><td style=\"border:none;\" bgcolor=\"white\"></td><td style=\"border:none;\" bgcolor=\"white\"></td><td style=\"border:none;\" bgcolor=\"white\"></td><td style=\"border:solid;\" bgcolor=\"white\"></td><td style=\"border:solid;\" bgcolor=\"white\"></td><td style=\"border:solid;\" bgcolor=\"white\"></td><td style=\"border:solid;\" bgcolor=\"white\"></td></tr>\n",
       "<tr><td>4: in</td><td style=\"border:none;\" bgcolor=\"white\"></td><td style=\"border:none;\" bgcolor=\"white\"></td><td style=\"border:none;\" bgcolor=\"white\"></td><td style=\"border:none;\" bgcolor=\"white\"></td><td style=\"border:solid;\" bgcolor=\"white\"></td><td style=\"border:solid;\" bgcolor=\"white\"></td><td style=\"border:solid;\" bgcolor=\"white\"></td></tr>\n",
       "<tr><td>5: his</td><td style=\"border:none;\" bgcolor=\"white\"></td><td style=\"border:none;\" bgcolor=\"white\"></td><td style=\"border:none;\" bgcolor=\"white\"></td><td style=\"border:none;\" bgcolor=\"white\"></td><td style=\"border:none;\" bgcolor=\"white\"></td><td style=\"border:solid;\" bgcolor=\"white\"></td><td style=\"border:solid;\" bgcolor=\"white\"></td></tr>\n",
       "<tr><td>6: pyjamas</td><td style=\"border:none;\" bgcolor=\"white\"></td><td style=\"border:none;\" bgcolor=\"white\"></td><td style=\"border:none;\" bgcolor=\"white\"></td><td style=\"border:none;\" bgcolor=\"white\"></td><td style=\"border:none;\" bgcolor=\"white\"></td><td style=\"border:none;\" bgcolor=\"white\"></td><td style=\"border:solid;\" bgcolor=\"white\"></td></tr></table> 5 / 112</div>\n",
       "<div class=\"item\"><table><tr><td></td><td>0: He</td><td>1: shot</td><td>2: the</td><td>3: elephant</td><td>4: in</td><td>5: his</td><td>6: pyjamas</td></tr>\n",
       "<tr><td>0: He</td><td style=\"border:solid;\" bgcolor=\"white\"><font color=\"black\">Subj: 0.00</font></td><td style=\"border:solid;\" bgcolor=\"white\"></td><td style=\"border:solid;\" bgcolor=\"white\"></td><td style=\"border:solid;\" bgcolor=\"white\"></td><td style=\"border:solid;\" bgcolor=\"white\"></td><td style=\"border:solid;\" bgcolor=\"white\"></td><td style=\"border:solid;\" bgcolor=\"white\"></td></tr>\n",
       "<tr><td>1: shot</td><td style=\"border:none;\" bgcolor=\"white\"></td><td style=\"border:solid;\" bgcolor=\"white\"><font color=\"blue\">Verb: 0.00</font></td><td style=\"border:solid;\" bgcolor=\"white\"></td><td style=\"border:solid;\" bgcolor=\"white\"></td><td style=\"border:solid;\" bgcolor=\"white\"></td><td style=\"border:solid;\" bgcolor=\"white\"></td><td style=\"border:solid;\" bgcolor=\"white\"></td></tr>\n",
       "<tr><td>2: the</td><td style=\"border:none;\" bgcolor=\"white\"></td><td style=\"border:none;\" bgcolor=\"white\"></td><td style=\"border:solid;\" bgcolor=\"#C3C3C3\"></td><td style=\"border:solid;\" bgcolor=\"white\"></td><td style=\"border:solid;\" bgcolor=\"white\"></td><td style=\"border:solid;\" bgcolor=\"white\"></td><td style=\"border:solid;\" bgcolor=\"white\"></td></tr>\n",
       "<tr><td>3: elephant</td><td style=\"border:none;\" bgcolor=\"white\"></td><td style=\"border:none;\" bgcolor=\"white\"></td><td style=\"border:none;\" bgcolor=\"white\"></td><td style=\"border:solid;\" bgcolor=\"white\"></td><td style=\"border:solid;\" bgcolor=\"white\"></td><td style=\"border:solid;\" bgcolor=\"white\"></td><td style=\"border:solid;\" bgcolor=\"white\"></td></tr>\n",
       "<tr><td>4: in</td><td style=\"border:none;\" bgcolor=\"white\"></td><td style=\"border:none;\" bgcolor=\"white\"></td><td style=\"border:none;\" bgcolor=\"white\"></td><td style=\"border:none;\" bgcolor=\"white\"></td><td style=\"border:solid;\" bgcolor=\"white\"></td><td style=\"border:solid;\" bgcolor=\"white\"></td><td style=\"border:solid;\" bgcolor=\"white\"></td></tr>\n",
       "<tr><td>5: his</td><td style=\"border:none;\" bgcolor=\"white\"></td><td style=\"border:none;\" bgcolor=\"white\"></td><td style=\"border:none;\" bgcolor=\"white\"></td><td style=\"border:none;\" bgcolor=\"white\"></td><td style=\"border:none;\" bgcolor=\"white\"></td><td style=\"border:solid;\" bgcolor=\"white\"></td><td style=\"border:solid;\" bgcolor=\"white\"></td></tr>\n",
       "<tr><td>6: pyjamas</td><td style=\"border:none;\" bgcolor=\"white\"></td><td style=\"border:none;\" bgcolor=\"white\"></td><td style=\"border:none;\" bgcolor=\"white\"></td><td style=\"border:none;\" bgcolor=\"white\"></td><td style=\"border:none;\" bgcolor=\"white\"></td><td style=\"border:none;\" bgcolor=\"white\"></td><td style=\"border:solid;\" bgcolor=\"white\"></td></tr></table> 6 / 112</div>\n",
       "<div class=\"item\"><table><tr><td></td><td>0: He</td><td>1: shot</td><td>2: the</td><td>3: elephant</td><td>4: in</td><td>5: his</td><td>6: pyjamas</td></tr>\n",
       "<tr><td>0: He</td><td style=\"border:solid;\" bgcolor=\"white\"><font color=\"black\">Subj: 0.00</font></td><td style=\"border:solid;\" bgcolor=\"white\"></td><td style=\"border:solid;\" bgcolor=\"white\"></td><td style=\"border:solid;\" bgcolor=\"white\"></td><td style=\"border:solid;\" bgcolor=\"white\"></td><td style=\"border:solid;\" bgcolor=\"white\"></td><td style=\"border:solid;\" bgcolor=\"white\"></td></tr>\n",
       "<tr><td>1: shot</td><td style=\"border:none;\" bgcolor=\"white\"></td><td style=\"border:solid;\" bgcolor=\"white\"><font color=\"black\">Verb: 0.00</font></td><td style=\"border:solid;\" bgcolor=\"white\"></td><td style=\"border:solid;\" bgcolor=\"white\"></td><td style=\"border:solid;\" bgcolor=\"white\"></td><td style=\"border:solid;\" bgcolor=\"white\"></td><td style=\"border:solid;\" bgcolor=\"white\"></td></tr>\n",
       "<tr><td>2: the</td><td style=\"border:none;\" bgcolor=\"white\"></td><td style=\"border:none;\" bgcolor=\"white\"></td><td style=\"border:solid;\" bgcolor=\"#C3C3C3\"><font color=\"blue\">Obj_5: 0.00</font></td><td style=\"border:solid;\" bgcolor=\"white\"></td><td style=\"border:solid;\" bgcolor=\"white\"></td><td style=\"border:solid;\" bgcolor=\"white\"></td><td style=\"border:solid;\" bgcolor=\"white\"></td></tr>\n",
       "<tr><td>3: elephant</td><td style=\"border:none;\" bgcolor=\"white\"></td><td style=\"border:none;\" bgcolor=\"white\"></td><td style=\"border:none;\" bgcolor=\"white\"></td><td style=\"border:solid;\" bgcolor=\"white\"></td><td style=\"border:solid;\" bgcolor=\"white\"></td><td style=\"border:solid;\" bgcolor=\"white\"></td><td style=\"border:solid;\" bgcolor=\"white\"></td></tr>\n",
       "<tr><td>4: in</td><td style=\"border:none;\" bgcolor=\"white\"></td><td style=\"border:none;\" bgcolor=\"white\"></td><td style=\"border:none;\" bgcolor=\"white\"></td><td style=\"border:none;\" bgcolor=\"white\"></td><td style=\"border:solid;\" bgcolor=\"white\"></td><td style=\"border:solid;\" bgcolor=\"white\"></td><td style=\"border:solid;\" bgcolor=\"white\"></td></tr>\n",
       "<tr><td>5: his</td><td style=\"border:none;\" bgcolor=\"white\"></td><td style=\"border:none;\" bgcolor=\"white\"></td><td style=\"border:none;\" bgcolor=\"white\"></td><td style=\"border:none;\" bgcolor=\"white\"></td><td style=\"border:none;\" bgcolor=\"white\"></td><td style=\"border:solid;\" bgcolor=\"white\"></td><td style=\"border:solid;\" bgcolor=\"white\"></td></tr>\n",
       "<tr><td>6: pyjamas</td><td style=\"border:none;\" bgcolor=\"white\"></td><td style=\"border:none;\" bgcolor=\"white\"></td><td style=\"border:none;\" bgcolor=\"white\"></td><td style=\"border:none;\" bgcolor=\"white\"></td><td style=\"border:none;\" bgcolor=\"white\"></td><td style=\"border:none;\" bgcolor=\"white\"></td><td style=\"border:solid;\" bgcolor=\"white\"></td></tr></table> 7 / 112</div>\n",
       "<div class=\"item\"><table><tr><td></td><td>0: He</td><td>1: shot</td><td>2: the</td><td>3: elephant</td><td>4: in</td><td>5: his</td><td>6: pyjamas</td></tr>\n",
       "<tr><td>0: He</td><td style=\"border:solid;\" bgcolor=\"white\"><font color=\"black\">Subj: 0.00</font></td><td style=\"border:solid;\" bgcolor=\"white\"></td><td style=\"border:solid;\" bgcolor=\"white\"></td><td style=\"border:solid;\" bgcolor=\"white\"></td><td style=\"border:solid;\" bgcolor=\"white\"></td><td style=\"border:solid;\" bgcolor=\"white\"></td><td style=\"border:solid;\" bgcolor=\"white\"></td></tr>\n",
       "<tr><td>1: shot</td><td style=\"border:none;\" bgcolor=\"white\"></td><td style=\"border:solid;\" bgcolor=\"white\"><font color=\"black\">Verb: 0.00</font></td><td style=\"border:solid;\" bgcolor=\"white\"></td><td style=\"border:solid;\" bgcolor=\"white\"></td><td style=\"border:solid;\" bgcolor=\"white\"></td><td style=\"border:solid;\" bgcolor=\"white\"></td><td style=\"border:solid;\" bgcolor=\"white\"></td></tr>\n",
       "<tr><td>2: the</td><td style=\"border:none;\" bgcolor=\"white\"></td><td style=\"border:none;\" bgcolor=\"white\"></td><td style=\"border:solid;\" bgcolor=\"#C3C3C3\"><font color=\"black\">Obj_5: 0.00</font>, <font color=\"blue\">Obj_8: 0.00</font></td><td style=\"border:solid;\" bgcolor=\"white\"></td><td style=\"border:solid;\" bgcolor=\"white\"></td><td style=\"border:solid;\" bgcolor=\"white\"></td><td style=\"border:solid;\" bgcolor=\"white\"></td></tr>\n",
       "<tr><td>3: elephant</td><td style=\"border:none;\" bgcolor=\"white\"></td><td style=\"border:none;\" bgcolor=\"white\"></td><td style=\"border:none;\" bgcolor=\"white\"></td><td style=\"border:solid;\" bgcolor=\"white\"></td><td style=\"border:solid;\" bgcolor=\"white\"></td><td style=\"border:solid;\" bgcolor=\"white\"></td><td style=\"border:solid;\" bgcolor=\"white\"></td></tr>\n",
       "<tr><td>4: in</td><td style=\"border:none;\" bgcolor=\"white\"></td><td style=\"border:none;\" bgcolor=\"white\"></td><td style=\"border:none;\" bgcolor=\"white\"></td><td style=\"border:none;\" bgcolor=\"white\"></td><td style=\"border:solid;\" bgcolor=\"white\"></td><td style=\"border:solid;\" bgcolor=\"white\"></td><td style=\"border:solid;\" bgcolor=\"white\"></td></tr>\n",
       "<tr><td>5: his</td><td style=\"border:none;\" bgcolor=\"white\"></td><td style=\"border:none;\" bgcolor=\"white\"></td><td style=\"border:none;\" bgcolor=\"white\"></td><td style=\"border:none;\" bgcolor=\"white\"></td><td style=\"border:none;\" bgcolor=\"white\"></td><td style=\"border:solid;\" bgcolor=\"white\"></td><td style=\"border:solid;\" bgcolor=\"white\"></td></tr>\n",
       "<tr><td>6: pyjamas</td><td style=\"border:none;\" bgcolor=\"white\"></td><td style=\"border:none;\" bgcolor=\"white\"></td><td style=\"border:none;\" bgcolor=\"white\"></td><td style=\"border:none;\" bgcolor=\"white\"></td><td style=\"border:none;\" bgcolor=\"white\"></td><td style=\"border:none;\" bgcolor=\"white\"></td><td style=\"border:solid;\" bgcolor=\"white\"></td></tr></table> 8 / 112</div>\n",
       "<div class=\"item\"><table><tr><td></td><td>0: He</td><td>1: shot</td><td>2: the</td><td>3: elephant</td><td>4: in</td><td>5: his</td><td>6: pyjamas</td></tr>\n",
       "<tr><td>0: He</td><td style=\"border:solid;\" bgcolor=\"white\"><font color=\"black\">Subj: 0.00</font></td><td style=\"border:solid;\" bgcolor=\"white\"></td><td style=\"border:solid;\" bgcolor=\"white\"></td><td style=\"border:solid;\" bgcolor=\"white\"></td><td style=\"border:solid;\" bgcolor=\"white\"></td><td style=\"border:solid;\" bgcolor=\"white\"></td><td style=\"border:solid;\" bgcolor=\"white\"></td></tr>\n",
       "<tr><td>1: shot</td><td style=\"border:none;\" bgcolor=\"white\"></td><td style=\"border:solid;\" bgcolor=\"white\"><font color=\"black\">Verb: 0.00</font></td><td style=\"border:solid;\" bgcolor=\"white\"></td><td style=\"border:solid;\" bgcolor=\"white\"></td><td style=\"border:solid;\" bgcolor=\"white\"></td><td style=\"border:solid;\" bgcolor=\"white\"></td><td style=\"border:solid;\" bgcolor=\"white\"></td></tr>\n",
       "<tr><td>2: the</td><td style=\"border:none;\" bgcolor=\"white\"></td><td style=\"border:none;\" bgcolor=\"white\"></td><td style=\"border:solid;\" bgcolor=\"white\"><font color=\"black\">Obj_5: 0.00</font>, <font color=\"blue\">Obj_8: 0.00</font></td><td style=\"border:solid;\" bgcolor=\"white\"></td><td style=\"border:solid;\" bgcolor=\"white\"></td><td style=\"border:solid;\" bgcolor=\"white\"></td><td style=\"border:solid;\" bgcolor=\"white\"></td></tr>\n",
       "<tr><td>3: elephant</td><td style=\"border:none;\" bgcolor=\"white\"></td><td style=\"border:none;\" bgcolor=\"white\"></td><td style=\"border:none;\" bgcolor=\"white\"></td><td style=\"border:solid;\" bgcolor=\"#C3C3C3\"></td><td style=\"border:solid;\" bgcolor=\"white\"></td><td style=\"border:solid;\" bgcolor=\"white\"></td><td style=\"border:solid;\" bgcolor=\"white\"></td></tr>\n",
       "<tr><td>4: in</td><td style=\"border:none;\" bgcolor=\"white\"></td><td style=\"border:none;\" bgcolor=\"white\"></td><td style=\"border:none;\" bgcolor=\"white\"></td><td style=\"border:none;\" bgcolor=\"white\"></td><td style=\"border:solid;\" bgcolor=\"white\"></td><td style=\"border:solid;\" bgcolor=\"white\"></td><td style=\"border:solid;\" bgcolor=\"white\"></td></tr>\n",
       "<tr><td>5: his</td><td style=\"border:none;\" bgcolor=\"white\"></td><td style=\"border:none;\" bgcolor=\"white\"></td><td style=\"border:none;\" bgcolor=\"white\"></td><td style=\"border:none;\" bgcolor=\"white\"></td><td style=\"border:none;\" bgcolor=\"white\"></td><td style=\"border:solid;\" bgcolor=\"white\"></td><td style=\"border:solid;\" bgcolor=\"white\"></td></tr>\n",
       "<tr><td>6: pyjamas</td><td style=\"border:none;\" bgcolor=\"white\"></td><td style=\"border:none;\" bgcolor=\"white\"></td><td style=\"border:none;\" bgcolor=\"white\"></td><td style=\"border:none;\" bgcolor=\"white\"></td><td style=\"border:none;\" bgcolor=\"white\"></td><td style=\"border:none;\" bgcolor=\"white\"></td><td style=\"border:solid;\" bgcolor=\"white\"></td></tr></table> 9 / 112</div>\n",
       "<div class=\"item\"><table><tr><td></td><td>0: He</td><td>1: shot</td><td>2: the</td><td>3: elephant</td><td>4: in</td><td>5: his</td><td>6: pyjamas</td></tr>\n",
       "<tr><td>0: He</td><td style=\"border:solid;\" bgcolor=\"white\"><font color=\"black\">Subj: 0.00</font></td><td style=\"border:solid;\" bgcolor=\"white\"></td><td style=\"border:solid;\" bgcolor=\"white\"></td><td style=\"border:solid;\" bgcolor=\"white\"></td><td style=\"border:solid;\" bgcolor=\"white\"></td><td style=\"border:solid;\" bgcolor=\"white\"></td><td style=\"border:solid;\" bgcolor=\"white\"></td></tr>\n",
       "<tr><td>1: shot</td><td style=\"border:none;\" bgcolor=\"white\"></td><td style=\"border:solid;\" bgcolor=\"white\"><font color=\"black\">Verb: 0.00</font></td><td style=\"border:solid;\" bgcolor=\"white\"></td><td style=\"border:solid;\" bgcolor=\"white\"></td><td style=\"border:solid;\" bgcolor=\"white\"></td><td style=\"border:solid;\" bgcolor=\"white\"></td><td style=\"border:solid;\" bgcolor=\"white\"></td></tr>\n",
       "<tr><td>2: the</td><td style=\"border:none;\" bgcolor=\"white\"></td><td style=\"border:none;\" bgcolor=\"white\"></td><td style=\"border:solid;\" bgcolor=\"white\"><font color=\"black\">Obj_5: 0.00</font>, <font color=\"black\">Obj_8: 0.00</font></td><td style=\"border:solid;\" bgcolor=\"white\"></td><td style=\"border:solid;\" bgcolor=\"white\"></td><td style=\"border:solid;\" bgcolor=\"white\"></td><td style=\"border:solid;\" bgcolor=\"white\"></td></tr>\n",
       "<tr><td>3: elephant</td><td style=\"border:none;\" bgcolor=\"white\"></td><td style=\"border:none;\" bgcolor=\"white\"></td><td style=\"border:none;\" bgcolor=\"white\"></td><td style=\"border:solid;\" bgcolor=\"#C3C3C3\"><font color=\"blue\">Obj_6: 0.00</font></td><td style=\"border:solid;\" bgcolor=\"white\"></td><td style=\"border:solid;\" bgcolor=\"white\"></td><td style=\"border:solid;\" bgcolor=\"white\"></td></tr>\n",
       "<tr><td>4: in</td><td style=\"border:none;\" bgcolor=\"white\"></td><td style=\"border:none;\" bgcolor=\"white\"></td><td style=\"border:none;\" bgcolor=\"white\"></td><td style=\"border:none;\" bgcolor=\"white\"></td><td style=\"border:solid;\" bgcolor=\"white\"></td><td style=\"border:solid;\" bgcolor=\"white\"></td><td style=\"border:solid;\" bgcolor=\"white\"></td></tr>\n",
       "<tr><td>5: his</td><td style=\"border:none;\" bgcolor=\"white\"></td><td style=\"border:none;\" bgcolor=\"white\"></td><td style=\"border:none;\" bgcolor=\"white\"></td><td style=\"border:none;\" bgcolor=\"white\"></td><td style=\"border:none;\" bgcolor=\"white\"></td><td style=\"border:solid;\" bgcolor=\"white\"></td><td style=\"border:solid;\" bgcolor=\"white\"></td></tr>\n",
       "<tr><td>6: pyjamas</td><td style=\"border:none;\" bgcolor=\"white\"></td><td style=\"border:none;\" bgcolor=\"white\"></td><td style=\"border:none;\" bgcolor=\"white\"></td><td style=\"border:none;\" bgcolor=\"white\"></td><td style=\"border:none;\" bgcolor=\"white\"></td><td style=\"border:none;\" bgcolor=\"white\"></td><td style=\"border:solid;\" bgcolor=\"white\"></td></tr></table> 10 / 112</div>\n",
       "<div class=\"item\"><table><tr><td></td><td>0: He</td><td>1: shot</td><td>2: the</td><td>3: elephant</td><td>4: in</td><td>5: his</td><td>6: pyjamas</td></tr>\n",
       "<tr><td>0: He</td><td style=\"border:solid;\" bgcolor=\"white\"><font color=\"black\">Subj: 0.00</font></td><td style=\"border:solid;\" bgcolor=\"white\"></td><td style=\"border:solid;\" bgcolor=\"white\"></td><td style=\"border:solid;\" bgcolor=\"white\"></td><td style=\"border:solid;\" bgcolor=\"white\"></td><td style=\"border:solid;\" bgcolor=\"white\"></td><td style=\"border:solid;\" bgcolor=\"white\"></td></tr>\n",
       "<tr><td>1: shot</td><td style=\"border:none;\" bgcolor=\"white\"></td><td style=\"border:solid;\" bgcolor=\"white\"><font color=\"black\">Verb: 0.00</font></td><td style=\"border:solid;\" bgcolor=\"white\"></td><td style=\"border:solid;\" bgcolor=\"white\"></td><td style=\"border:solid;\" bgcolor=\"white\"></td><td style=\"border:solid;\" bgcolor=\"white\"></td><td style=\"border:solid;\" bgcolor=\"white\"></td></tr>\n",
       "<tr><td>2: the</td><td style=\"border:none;\" bgcolor=\"white\"></td><td style=\"border:none;\" bgcolor=\"white\"></td><td style=\"border:solid;\" bgcolor=\"white\"><font color=\"black\">Obj_5: 0.00</font>, <font color=\"black\">Obj_8: 0.00</font></td><td style=\"border:solid;\" bgcolor=\"white\"></td><td style=\"border:solid;\" bgcolor=\"white\"></td><td style=\"border:solid;\" bgcolor=\"white\"></td><td style=\"border:solid;\" bgcolor=\"white\"></td></tr>\n",
       "<tr><td>3: elephant</td><td style=\"border:none;\" bgcolor=\"white\"></td><td style=\"border:none;\" bgcolor=\"white\"></td><td style=\"border:none;\" bgcolor=\"white\"></td><td style=\"border:solid;\" bgcolor=\"#C3C3C3\"><font color=\"black\">Obj_6: 0.00</font>, <font color=\"blue\">Obj_7_9: 0.00</font></td><td style=\"border:solid;\" bgcolor=\"white\"></td><td style=\"border:solid;\" bgcolor=\"white\"></td><td style=\"border:solid;\" bgcolor=\"white\"></td></tr>\n",
       "<tr><td>4: in</td><td style=\"border:none;\" bgcolor=\"white\"></td><td style=\"border:none;\" bgcolor=\"white\"></td><td style=\"border:none;\" bgcolor=\"white\"></td><td style=\"border:none;\" bgcolor=\"white\"></td><td style=\"border:solid;\" bgcolor=\"white\"></td><td style=\"border:solid;\" bgcolor=\"white\"></td><td style=\"border:solid;\" bgcolor=\"white\"></td></tr>\n",
       "<tr><td>5: his</td><td style=\"border:none;\" bgcolor=\"white\"></td><td style=\"border:none;\" bgcolor=\"white\"></td><td style=\"border:none;\" bgcolor=\"white\"></td><td style=\"border:none;\" bgcolor=\"white\"></td><td style=\"border:none;\" bgcolor=\"white\"></td><td style=\"border:solid;\" bgcolor=\"white\"></td><td style=\"border:solid;\" bgcolor=\"white\"></td></tr>\n",
       "<tr><td>6: pyjamas</td><td style=\"border:none;\" bgcolor=\"white\"></td><td style=\"border:none;\" bgcolor=\"white\"></td><td style=\"border:none;\" bgcolor=\"white\"></td><td style=\"border:none;\" bgcolor=\"white\"></td><td style=\"border:none;\" bgcolor=\"white\"></td><td style=\"border:none;\" bgcolor=\"white\"></td><td style=\"border:solid;\" bgcolor=\"white\"></td></tr></table> 11 / 112</div>\n",
       "<div class=\"item\"><table><tr><td></td><td>0: He</td><td>1: shot</td><td>2: the</td><td>3: elephant</td><td>4: in</td><td>5: his</td><td>6: pyjamas</td></tr>\n",
       "<tr><td>0: He</td><td style=\"border:solid;\" bgcolor=\"white\"><font color=\"black\">Subj: 0.00</font></td><td style=\"border:solid;\" bgcolor=\"white\"></td><td style=\"border:solid;\" bgcolor=\"white\"></td><td style=\"border:solid;\" bgcolor=\"white\"></td><td style=\"border:solid;\" bgcolor=\"white\"></td><td style=\"border:solid;\" bgcolor=\"white\"></td><td style=\"border:solid;\" bgcolor=\"white\"></td></tr>\n",
       "<tr><td>1: shot</td><td style=\"border:none;\" bgcolor=\"white\"></td><td style=\"border:solid;\" bgcolor=\"white\"><font color=\"black\">Verb: 0.00</font></td><td style=\"border:solid;\" bgcolor=\"white\"></td><td style=\"border:solid;\" bgcolor=\"white\"></td><td style=\"border:solid;\" bgcolor=\"white\"></td><td style=\"border:solid;\" bgcolor=\"white\"></td><td style=\"border:solid;\" bgcolor=\"white\"></td></tr>\n",
       "<tr><td>2: the</td><td style=\"border:none;\" bgcolor=\"white\"></td><td style=\"border:none;\" bgcolor=\"white\"></td><td style=\"border:solid;\" bgcolor=\"white\"><font color=\"black\">Obj_5: 0.00</font>, <font color=\"black\">Obj_8: 0.00</font></td><td style=\"border:solid;\" bgcolor=\"white\"></td><td style=\"border:solid;\" bgcolor=\"white\"></td><td style=\"border:solid;\" bgcolor=\"white\"></td><td style=\"border:solid;\" bgcolor=\"white\"></td></tr>\n",
       "<tr><td>3: elephant</td><td style=\"border:none;\" bgcolor=\"white\"></td><td style=\"border:none;\" bgcolor=\"white\"></td><td style=\"border:none;\" bgcolor=\"white\"></td><td style=\"border:solid;\" bgcolor=\"white\"><font color=\"black\">Obj_6: 0.00</font>, <font color=\"blue\">Obj_7_9: 0.00</font></td><td style=\"border:solid;\" bgcolor=\"white\"></td><td style=\"border:solid;\" bgcolor=\"white\"></td><td style=\"border:solid;\" bgcolor=\"white\"></td></tr>\n",
       "<tr><td>4: in</td><td style=\"border:none;\" bgcolor=\"white\"></td><td style=\"border:none;\" bgcolor=\"white\"></td><td style=\"border:none;\" bgcolor=\"white\"></td><td style=\"border:none;\" bgcolor=\"white\"></td><td style=\"border:solid;\" bgcolor=\"#C3C3C3\"></td><td style=\"border:solid;\" bgcolor=\"white\"></td><td style=\"border:solid;\" bgcolor=\"white\"></td></tr>\n",
       "<tr><td>5: his</td><td style=\"border:none;\" bgcolor=\"white\"></td><td style=\"border:none;\" bgcolor=\"white\"></td><td style=\"border:none;\" bgcolor=\"white\"></td><td style=\"border:none;\" bgcolor=\"white\"></td><td style=\"border:none;\" bgcolor=\"white\"></td><td style=\"border:solid;\" bgcolor=\"white\"></td><td style=\"border:solid;\" bgcolor=\"white\"></td></tr>\n",
       "<tr><td>6: pyjamas</td><td style=\"border:none;\" bgcolor=\"white\"></td><td style=\"border:none;\" bgcolor=\"white\"></td><td style=\"border:none;\" bgcolor=\"white\"></td><td style=\"border:none;\" bgcolor=\"white\"></td><td style=\"border:none;\" bgcolor=\"white\"></td><td style=\"border:none;\" bgcolor=\"white\"></td><td style=\"border:solid;\" bgcolor=\"white\"></td></tr></table> 12 / 112</div>\n",
       "<div class=\"item\"><table><tr><td></td><td>0: He</td><td>1: shot</td><td>2: the</td><td>3: elephant</td><td>4: in</td><td>5: his</td><td>6: pyjamas</td></tr>\n",
       "<tr><td>0: He</td><td style=\"border:solid;\" bgcolor=\"white\"><font color=\"black\">Subj: 0.00</font></td><td style=\"border:solid;\" bgcolor=\"white\"></td><td style=\"border:solid;\" bgcolor=\"white\"></td><td style=\"border:solid;\" bgcolor=\"white\"></td><td style=\"border:solid;\" bgcolor=\"white\"></td><td style=\"border:solid;\" bgcolor=\"white\"></td><td style=\"border:solid;\" bgcolor=\"white\"></td></tr>\n",
       "<tr><td>1: shot</td><td style=\"border:none;\" bgcolor=\"white\"></td><td style=\"border:solid;\" bgcolor=\"white\"><font color=\"black\">Verb: 0.00</font></td><td style=\"border:solid;\" bgcolor=\"white\"></td><td style=\"border:solid;\" bgcolor=\"white\"></td><td style=\"border:solid;\" bgcolor=\"white\"></td><td style=\"border:solid;\" bgcolor=\"white\"></td><td style=\"border:solid;\" bgcolor=\"white\"></td></tr>\n",
       "<tr><td>2: the</td><td style=\"border:none;\" bgcolor=\"white\"></td><td style=\"border:none;\" bgcolor=\"white\"></td><td style=\"border:solid;\" bgcolor=\"white\"><font color=\"black\">Obj_5: 0.00</font>, <font color=\"black\">Obj_8: 0.00</font></td><td style=\"border:solid;\" bgcolor=\"white\"></td><td style=\"border:solid;\" bgcolor=\"white\"></td><td style=\"border:solid;\" bgcolor=\"white\"></td><td style=\"border:solid;\" bgcolor=\"white\"></td></tr>\n",
       "<tr><td>3: elephant</td><td style=\"border:none;\" bgcolor=\"white\"></td><td style=\"border:none;\" bgcolor=\"white\"></td><td style=\"border:none;\" bgcolor=\"white\"></td><td style=\"border:solid;\" bgcolor=\"white\"><font color=\"black\">Obj_6: 0.00</font>, <font color=\"black\">Obj_7_9: 0.00</font></td><td style=\"border:solid;\" bgcolor=\"white\"></td><td style=\"border:solid;\" bgcolor=\"white\"></td><td style=\"border:solid;\" bgcolor=\"white\"></td></tr>\n",
       "<tr><td>4: in</td><td style=\"border:none;\" bgcolor=\"white\"></td><td style=\"border:none;\" bgcolor=\"white\"></td><td style=\"border:none;\" bgcolor=\"white\"></td><td style=\"border:none;\" bgcolor=\"white\"></td><td style=\"border:solid;\" bgcolor=\"#C3C3C3\"><font color=\"blue\">PP_2: 0.00</font></td><td style=\"border:solid;\" bgcolor=\"white\"></td><td style=\"border:solid;\" bgcolor=\"white\"></td></tr>\n",
       "<tr><td>5: his</td><td style=\"border:none;\" bgcolor=\"white\"></td><td style=\"border:none;\" bgcolor=\"white\"></td><td style=\"border:none;\" bgcolor=\"white\"></td><td style=\"border:none;\" bgcolor=\"white\"></td><td style=\"border:none;\" bgcolor=\"white\"></td><td style=\"border:solid;\" bgcolor=\"white\"></td><td style=\"border:solid;\" bgcolor=\"white\"></td></tr>\n",
       "<tr><td>6: pyjamas</td><td style=\"border:none;\" bgcolor=\"white\"></td><td style=\"border:none;\" bgcolor=\"white\"></td><td style=\"border:none;\" bgcolor=\"white\"></td><td style=\"border:none;\" bgcolor=\"white\"></td><td style=\"border:none;\" bgcolor=\"white\"></td><td style=\"border:none;\" bgcolor=\"white\"></td><td style=\"border:solid;\" bgcolor=\"white\"></td></tr></table> 13 / 112</div>\n",
       "<div class=\"item\"><table><tr><td></td><td>0: He</td><td>1: shot</td><td>2: the</td><td>3: elephant</td><td>4: in</td><td>5: his</td><td>6: pyjamas</td></tr>\n",
       "<tr><td>0: He</td><td style=\"border:solid;\" bgcolor=\"white\"><font color=\"black\">Subj: 0.00</font></td><td style=\"border:solid;\" bgcolor=\"white\"></td><td style=\"border:solid;\" bgcolor=\"white\"></td><td style=\"border:solid;\" bgcolor=\"white\"></td><td style=\"border:solid;\" bgcolor=\"white\"></td><td style=\"border:solid;\" bgcolor=\"white\"></td><td style=\"border:solid;\" bgcolor=\"white\"></td></tr>\n",
       "<tr><td>1: shot</td><td style=\"border:none;\" bgcolor=\"white\"></td><td style=\"border:solid;\" bgcolor=\"white\"><font color=\"black\">Verb: 0.00</font></td><td style=\"border:solid;\" bgcolor=\"white\"></td><td style=\"border:solid;\" bgcolor=\"white\"></td><td style=\"border:solid;\" bgcolor=\"white\"></td><td style=\"border:solid;\" bgcolor=\"white\"></td><td style=\"border:solid;\" bgcolor=\"white\"></td></tr>\n",
       "<tr><td>2: the</td><td style=\"border:none;\" bgcolor=\"white\"></td><td style=\"border:none;\" bgcolor=\"white\"></td><td style=\"border:solid;\" bgcolor=\"white\"><font color=\"black\">Obj_5: 0.00</font>, <font color=\"black\">Obj_8: 0.00</font></td><td style=\"border:solid;\" bgcolor=\"white\"></td><td style=\"border:solid;\" bgcolor=\"white\"></td><td style=\"border:solid;\" bgcolor=\"white\"></td><td style=\"border:solid;\" bgcolor=\"white\"></td></tr>\n",
       "<tr><td>3: elephant</td><td style=\"border:none;\" bgcolor=\"white\"></td><td style=\"border:none;\" bgcolor=\"white\"></td><td style=\"border:none;\" bgcolor=\"white\"></td><td style=\"border:solid;\" bgcolor=\"white\"><font color=\"black\">Obj_6: 0.00</font>, <font color=\"black\">Obj_7_9: 0.00</font></td><td style=\"border:solid;\" bgcolor=\"white\"></td><td style=\"border:solid;\" bgcolor=\"white\"></td><td style=\"border:solid;\" bgcolor=\"white\"></td></tr>\n",
       "<tr><td>4: in</td><td style=\"border:none;\" bgcolor=\"white\"></td><td style=\"border:none;\" bgcolor=\"white\"></td><td style=\"border:none;\" bgcolor=\"white\"></td><td style=\"border:none;\" bgcolor=\"white\"></td><td style=\"border:solid;\" bgcolor=\"white\"><font color=\"blue\">PP_2: 0.00</font></td><td style=\"border:solid;\" bgcolor=\"white\"></td><td style=\"border:solid;\" bgcolor=\"white\"></td></tr>\n",
       "<tr><td>5: his</td><td style=\"border:none;\" bgcolor=\"white\"></td><td style=\"border:none;\" bgcolor=\"white\"></td><td style=\"border:none;\" bgcolor=\"white\"></td><td style=\"border:none;\" bgcolor=\"white\"></td><td style=\"border:none;\" bgcolor=\"white\"></td><td style=\"border:solid;\" bgcolor=\"#C3C3C3\"></td><td style=\"border:solid;\" bgcolor=\"white\"></td></tr>\n",
       "<tr><td>6: pyjamas</td><td style=\"border:none;\" bgcolor=\"white\"></td><td style=\"border:none;\" bgcolor=\"white\"></td><td style=\"border:none;\" bgcolor=\"white\"></td><td style=\"border:none;\" bgcolor=\"white\"></td><td style=\"border:none;\" bgcolor=\"white\"></td><td style=\"border:none;\" bgcolor=\"white\"></td><td style=\"border:solid;\" bgcolor=\"white\"></td></tr></table> 14 / 112</div>\n",
       "<div class=\"item\"><table><tr><td></td><td>0: He</td><td>1: shot</td><td>2: the</td><td>3: elephant</td><td>4: in</td><td>5: his</td><td>6: pyjamas</td></tr>\n",
       "<tr><td>0: He</td><td style=\"border:solid;\" bgcolor=\"white\"><font color=\"black\">Subj: 0.00</font></td><td style=\"border:solid;\" bgcolor=\"white\"></td><td style=\"border:solid;\" bgcolor=\"white\"></td><td style=\"border:solid;\" bgcolor=\"white\"></td><td style=\"border:solid;\" bgcolor=\"white\"></td><td style=\"border:solid;\" bgcolor=\"white\"></td><td style=\"border:solid;\" bgcolor=\"white\"></td></tr>\n",
       "<tr><td>1: shot</td><td style=\"border:none;\" bgcolor=\"white\"></td><td style=\"border:solid;\" bgcolor=\"white\"><font color=\"black\">Verb: 0.00</font></td><td style=\"border:solid;\" bgcolor=\"white\"></td><td style=\"border:solid;\" bgcolor=\"white\"></td><td style=\"border:solid;\" bgcolor=\"white\"></td><td style=\"border:solid;\" bgcolor=\"white\"></td><td style=\"border:solid;\" bgcolor=\"white\"></td></tr>\n",
       "<tr><td>2: the</td><td style=\"border:none;\" bgcolor=\"white\"></td><td style=\"border:none;\" bgcolor=\"white\"></td><td style=\"border:solid;\" bgcolor=\"white\"><font color=\"black\">Obj_5: 0.00</font>, <font color=\"black\">Obj_8: 0.00</font></td><td style=\"border:solid;\" bgcolor=\"white\"></td><td style=\"border:solid;\" bgcolor=\"white\"></td><td style=\"border:solid;\" bgcolor=\"white\"></td><td style=\"border:solid;\" bgcolor=\"white\"></td></tr>\n",
       "<tr><td>3: elephant</td><td style=\"border:none;\" bgcolor=\"white\"></td><td style=\"border:none;\" bgcolor=\"white\"></td><td style=\"border:none;\" bgcolor=\"white\"></td><td style=\"border:solid;\" bgcolor=\"white\"><font color=\"black\">Obj_6: 0.00</font>, <font color=\"black\">Obj_7_9: 0.00</font></td><td style=\"border:solid;\" bgcolor=\"white\"></td><td style=\"border:solid;\" bgcolor=\"white\"></td><td style=\"border:solid;\" bgcolor=\"white\"></td></tr>\n",
       "<tr><td>4: in</td><td style=\"border:none;\" bgcolor=\"white\"></td><td style=\"border:none;\" bgcolor=\"white\"></td><td style=\"border:none;\" bgcolor=\"white\"></td><td style=\"border:none;\" bgcolor=\"white\"></td><td style=\"border:solid;\" bgcolor=\"white\"><font color=\"black\">PP_2: 0.00</font></td><td style=\"border:solid;\" bgcolor=\"white\"></td><td style=\"border:solid;\" bgcolor=\"white\"></td></tr>\n",
       "<tr><td>5: his</td><td style=\"border:none;\" bgcolor=\"white\"></td><td style=\"border:none;\" bgcolor=\"white\"></td><td style=\"border:none;\" bgcolor=\"white\"></td><td style=\"border:none;\" bgcolor=\"white\"></td><td style=\"border:none;\" bgcolor=\"white\"></td><td style=\"border:solid;\" bgcolor=\"#C3C3C3\"><font color=\"blue\">PP_1_3: 0.00</font></td><td style=\"border:solid;\" bgcolor=\"white\"></td></tr>\n",
       "<tr><td>6: pyjamas</td><td style=\"border:none;\" bgcolor=\"white\"></td><td style=\"border:none;\" bgcolor=\"white\"></td><td style=\"border:none;\" bgcolor=\"white\"></td><td style=\"border:none;\" bgcolor=\"white\"></td><td style=\"border:none;\" bgcolor=\"white\"></td><td style=\"border:none;\" bgcolor=\"white\"></td><td style=\"border:solid;\" bgcolor=\"white\"></td></tr></table> 15 / 112</div>\n",
       "<div class=\"item\"><table><tr><td></td><td>0: He</td><td>1: shot</td><td>2: the</td><td>3: elephant</td><td>4: in</td><td>5: his</td><td>6: pyjamas</td></tr>\n",
       "<tr><td>0: He</td><td style=\"border:solid;\" bgcolor=\"white\"><font color=\"black\">Subj: 0.00</font></td><td style=\"border:solid;\" bgcolor=\"white\"></td><td style=\"border:solid;\" bgcolor=\"white\"></td><td style=\"border:solid;\" bgcolor=\"white\"></td><td style=\"border:solid;\" bgcolor=\"white\"></td><td style=\"border:solid;\" bgcolor=\"white\"></td><td style=\"border:solid;\" bgcolor=\"white\"></td></tr>\n",
       "<tr><td>1: shot</td><td style=\"border:none;\" bgcolor=\"white\"></td><td style=\"border:solid;\" bgcolor=\"white\"><font color=\"black\">Verb: 0.00</font></td><td style=\"border:solid;\" bgcolor=\"white\"></td><td style=\"border:solid;\" bgcolor=\"white\"></td><td style=\"border:solid;\" bgcolor=\"white\"></td><td style=\"border:solid;\" bgcolor=\"white\"></td><td style=\"border:solid;\" bgcolor=\"white\"></td></tr>\n",
       "<tr><td>2: the</td><td style=\"border:none;\" bgcolor=\"white\"></td><td style=\"border:none;\" bgcolor=\"white\"></td><td style=\"border:solid;\" bgcolor=\"white\"><font color=\"black\">Obj_5: 0.00</font>, <font color=\"black\">Obj_8: 0.00</font></td><td style=\"border:solid;\" bgcolor=\"white\"></td><td style=\"border:solid;\" bgcolor=\"white\"></td><td style=\"border:solid;\" bgcolor=\"white\"></td><td style=\"border:solid;\" bgcolor=\"white\"></td></tr>\n",
       "<tr><td>3: elephant</td><td style=\"border:none;\" bgcolor=\"white\"></td><td style=\"border:none;\" bgcolor=\"white\"></td><td style=\"border:none;\" bgcolor=\"white\"></td><td style=\"border:solid;\" bgcolor=\"white\"><font color=\"black\">Obj_6: 0.00</font>, <font color=\"black\">Obj_7_9: 0.00</font></td><td style=\"border:solid;\" bgcolor=\"white\"></td><td style=\"border:solid;\" bgcolor=\"white\"></td><td style=\"border:solid;\" bgcolor=\"white\"></td></tr>\n",
       "<tr><td>4: in</td><td style=\"border:none;\" bgcolor=\"white\"></td><td style=\"border:none;\" bgcolor=\"white\"></td><td style=\"border:none;\" bgcolor=\"white\"></td><td style=\"border:none;\" bgcolor=\"white\"></td><td style=\"border:solid;\" bgcolor=\"white\"><font color=\"black\">PP_2: 0.00</font></td><td style=\"border:solid;\" bgcolor=\"white\"></td><td style=\"border:solid;\" bgcolor=\"white\"></td></tr>\n",
       "<tr><td>5: his</td><td style=\"border:none;\" bgcolor=\"white\"></td><td style=\"border:none;\" bgcolor=\"white\"></td><td style=\"border:none;\" bgcolor=\"white\"></td><td style=\"border:none;\" bgcolor=\"white\"></td><td style=\"border:none;\" bgcolor=\"white\"></td><td style=\"border:solid;\" bgcolor=\"white\"><font color=\"blue\">PP_1_3: 0.00</font></td><td style=\"border:solid;\" bgcolor=\"white\"></td></tr>\n",
       "<tr><td>6: pyjamas</td><td style=\"border:none;\" bgcolor=\"white\"></td><td style=\"border:none;\" bgcolor=\"white\"></td><td style=\"border:none;\" bgcolor=\"white\"></td><td style=\"border:none;\" bgcolor=\"white\"></td><td style=\"border:none;\" bgcolor=\"white\"></td><td style=\"border:none;\" bgcolor=\"white\"></td><td style=\"border:solid;\" bgcolor=\"#C3C3C3\"></td></tr></table> 16 / 112</div>\n",
       "<div class=\"item\"><table><tr><td></td><td>0: He</td><td>1: shot</td><td>2: the</td><td>3: elephant</td><td>4: in</td><td>5: his</td><td>6: pyjamas</td></tr>\n",
       "<tr><td>0: He</td><td style=\"border:solid;\" bgcolor=\"white\"><font color=\"black\">Subj: 0.00</font></td><td style=\"border:solid;\" bgcolor=\"white\"></td><td style=\"border:solid;\" bgcolor=\"white\"></td><td style=\"border:solid;\" bgcolor=\"white\"></td><td style=\"border:solid;\" bgcolor=\"white\"></td><td style=\"border:solid;\" bgcolor=\"white\"></td><td style=\"border:solid;\" bgcolor=\"white\"></td></tr>\n",
       "<tr><td>1: shot</td><td style=\"border:none;\" bgcolor=\"white\"></td><td style=\"border:solid;\" bgcolor=\"white\"><font color=\"black\">Verb: 0.00</font></td><td style=\"border:solid;\" bgcolor=\"white\"></td><td style=\"border:solid;\" bgcolor=\"white\"></td><td style=\"border:solid;\" bgcolor=\"white\"></td><td style=\"border:solid;\" bgcolor=\"white\"></td><td style=\"border:solid;\" bgcolor=\"white\"></td></tr>\n",
       "<tr><td>2: the</td><td style=\"border:none;\" bgcolor=\"white\"></td><td style=\"border:none;\" bgcolor=\"white\"></td><td style=\"border:solid;\" bgcolor=\"white\"><font color=\"black\">Obj_5: 0.00</font>, <font color=\"black\">Obj_8: 0.00</font></td><td style=\"border:solid;\" bgcolor=\"white\"></td><td style=\"border:solid;\" bgcolor=\"white\"></td><td style=\"border:solid;\" bgcolor=\"white\"></td><td style=\"border:solid;\" bgcolor=\"white\"></td></tr>\n",
       "<tr><td>3: elephant</td><td style=\"border:none;\" bgcolor=\"white\"></td><td style=\"border:none;\" bgcolor=\"white\"></td><td style=\"border:none;\" bgcolor=\"white\"></td><td style=\"border:solid;\" bgcolor=\"white\"><font color=\"black\">Obj_6: 0.00</font>, <font color=\"black\">Obj_7_9: 0.00</font></td><td style=\"border:solid;\" bgcolor=\"white\"></td><td style=\"border:solid;\" bgcolor=\"white\"></td><td style=\"border:solid;\" bgcolor=\"white\"></td></tr>\n",
       "<tr><td>4: in</td><td style=\"border:none;\" bgcolor=\"white\"></td><td style=\"border:none;\" bgcolor=\"white\"></td><td style=\"border:none;\" bgcolor=\"white\"></td><td style=\"border:none;\" bgcolor=\"white\"></td><td style=\"border:solid;\" bgcolor=\"white\"><font color=\"black\">PP_2: 0.00</font></td><td style=\"border:solid;\" bgcolor=\"white\"></td><td style=\"border:solid;\" bgcolor=\"white\"></td></tr>\n",
       "<tr><td>5: his</td><td style=\"border:none;\" bgcolor=\"white\"></td><td style=\"border:none;\" bgcolor=\"white\"></td><td style=\"border:none;\" bgcolor=\"white\"></td><td style=\"border:none;\" bgcolor=\"white\"></td><td style=\"border:none;\" bgcolor=\"white\"></td><td style=\"border:solid;\" bgcolor=\"white\"><font color=\"black\">PP_1_3: 0.00</font></td><td style=\"border:solid;\" bgcolor=\"white\"></td></tr>\n",
       "<tr><td>6: pyjamas</td><td style=\"border:none;\" bgcolor=\"white\"></td><td style=\"border:none;\" bgcolor=\"white\"></td><td style=\"border:none;\" bgcolor=\"white\"></td><td style=\"border:none;\" bgcolor=\"white\"></td><td style=\"border:none;\" bgcolor=\"white\"></td><td style=\"border:none;\" bgcolor=\"white\"></td><td style=\"border:solid;\" bgcolor=\"#C3C3C3\"><font color=\"blue\">PP_1_4: 0.00</font></td></tr></table> 17 / 112</div>\n",
       "<div class=\"item\"><table><tr><td></td><td>0: He</td><td>1: shot</td><td>2: the</td><td>3: elephant</td><td>4: in</td><td>5: his</td><td>6: pyjamas</td></tr>\n",
       "<tr><td>0: He</td><td style=\"border:solid;\" bgcolor=\"#E1E1E1\"><font color=\"black\">Subj: 0.00</font></td><td style=\"border:solid;\" bgcolor=\"#C3C3C3\"></td><td style=\"border:solid;\" bgcolor=\"white\"></td><td style=\"border:solid;\" bgcolor=\"white\"></td><td style=\"border:solid;\" bgcolor=\"white\"></td><td style=\"border:solid;\" bgcolor=\"white\"></td><td style=\"border:solid;\" bgcolor=\"white\"></td></tr>\n",
       "<tr><td>1: shot</td><td style=\"border:none;\" bgcolor=\"white\"></td><td style=\"border:solid;\" bgcolor=\"#E1E1E1\"><font color=\"black\">Verb: 0.00</font></td><td style=\"border:solid;\" bgcolor=\"white\"></td><td style=\"border:solid;\" bgcolor=\"white\"></td><td style=\"border:solid;\" bgcolor=\"white\"></td><td style=\"border:solid;\" bgcolor=\"white\"></td><td style=\"border:solid;\" bgcolor=\"white\"></td></tr>\n",
       "<tr><td>2: the</td><td style=\"border:none;\" bgcolor=\"white\"></td><td style=\"border:none;\" bgcolor=\"white\"></td><td style=\"border:solid;\" bgcolor=\"white\"><font color=\"black\">Obj_5: 0.00</font>, <font color=\"black\">Obj_8: 0.00</font></td><td style=\"border:solid;\" bgcolor=\"white\"></td><td style=\"border:solid;\" bgcolor=\"white\"></td><td style=\"border:solid;\" bgcolor=\"white\"></td><td style=\"border:solid;\" bgcolor=\"white\"></td></tr>\n",
       "<tr><td>3: elephant</td><td style=\"border:none;\" bgcolor=\"white\"></td><td style=\"border:none;\" bgcolor=\"white\"></td><td style=\"border:none;\" bgcolor=\"white\"></td><td style=\"border:solid;\" bgcolor=\"white\"><font color=\"black\">Obj_6: 0.00</font>, <font color=\"black\">Obj_7_9: 0.00</font></td><td style=\"border:solid;\" bgcolor=\"white\"></td><td style=\"border:solid;\" bgcolor=\"white\"></td><td style=\"border:solid;\" bgcolor=\"white\"></td></tr>\n",
       "<tr><td>4: in</td><td style=\"border:none;\" bgcolor=\"white\"></td><td style=\"border:none;\" bgcolor=\"white\"></td><td style=\"border:none;\" bgcolor=\"white\"></td><td style=\"border:none;\" bgcolor=\"white\"></td><td style=\"border:solid;\" bgcolor=\"white\"><font color=\"black\">PP_2: 0.00</font></td><td style=\"border:solid;\" bgcolor=\"white\"></td><td style=\"border:solid;\" bgcolor=\"white\"></td></tr>\n",
       "<tr><td>5: his</td><td style=\"border:none;\" bgcolor=\"white\"></td><td style=\"border:none;\" bgcolor=\"white\"></td><td style=\"border:none;\" bgcolor=\"white\"></td><td style=\"border:none;\" bgcolor=\"white\"></td><td style=\"border:none;\" bgcolor=\"white\"></td><td style=\"border:solid;\" bgcolor=\"white\"><font color=\"black\">PP_1_3: 0.00</font></td><td style=\"border:solid;\" bgcolor=\"white\"></td></tr>\n",
       "<tr><td>6: pyjamas</td><td style=\"border:none;\" bgcolor=\"white\"></td><td style=\"border:none;\" bgcolor=\"white\"></td><td style=\"border:none;\" bgcolor=\"white\"></td><td style=\"border:none;\" bgcolor=\"white\"></td><td style=\"border:none;\" bgcolor=\"white\"></td><td style=\"border:none;\" bgcolor=\"white\"></td><td style=\"border:solid;\" bgcolor=\"white\"><font color=\"black\">PP_1_4: 0.00</font></td></tr></table> 18 / 112</div>\n",
       "<div class=\"item\"><table><tr><td></td><td>0: He</td><td>1: shot</td><td>2: the</td><td>3: elephant</td><td>4: in</td><td>5: his</td><td>6: pyjamas</td></tr>\n",
       "<tr><td>0: He</td><td style=\"border:solid;\" bgcolor=\"#E1E1E1\"><font color=\"red\">Subj: 0.00</font></td><td style=\"border:solid;\" bgcolor=\"#C3C3C3\"></td><td style=\"border:solid;\" bgcolor=\"white\"></td><td style=\"border:solid;\" bgcolor=\"white\"></td><td style=\"border:solid;\" bgcolor=\"white\"></td><td style=\"border:solid;\" bgcolor=\"white\"></td><td style=\"border:solid;\" bgcolor=\"white\"></td></tr>\n",
       "<tr><td>1: shot</td><td style=\"border:none;\" bgcolor=\"white\"></td><td style=\"border:solid;\" bgcolor=\"#E1E1E1\"><font color=\"red\">Verb: 0.00</font></td><td style=\"border:solid;\" bgcolor=\"white\"></td><td style=\"border:solid;\" bgcolor=\"white\"></td><td style=\"border:solid;\" bgcolor=\"white\"></td><td style=\"border:solid;\" bgcolor=\"white\"></td><td style=\"border:solid;\" bgcolor=\"white\"></td></tr>\n",
       "<tr><td>2: the</td><td style=\"border:none;\" bgcolor=\"white\"></td><td style=\"border:none;\" bgcolor=\"white\"></td><td style=\"border:solid;\" bgcolor=\"white\"><font color=\"black\">Obj_5: 0.00</font>, <font color=\"black\">Obj_8: 0.00</font></td><td style=\"border:solid;\" bgcolor=\"white\"></td><td style=\"border:solid;\" bgcolor=\"white\"></td><td style=\"border:solid;\" bgcolor=\"white\"></td><td style=\"border:solid;\" bgcolor=\"white\"></td></tr>\n",
       "<tr><td>3: elephant</td><td style=\"border:none;\" bgcolor=\"white\"></td><td style=\"border:none;\" bgcolor=\"white\"></td><td style=\"border:none;\" bgcolor=\"white\"></td><td style=\"border:solid;\" bgcolor=\"white\"><font color=\"black\">Obj_6: 0.00</font>, <font color=\"black\">Obj_7_9: 0.00</font></td><td style=\"border:solid;\" bgcolor=\"white\"></td><td style=\"border:solid;\" bgcolor=\"white\"></td><td style=\"border:solid;\" bgcolor=\"white\"></td></tr>\n",
       "<tr><td>4: in</td><td style=\"border:none;\" bgcolor=\"white\"></td><td style=\"border:none;\" bgcolor=\"white\"></td><td style=\"border:none;\" bgcolor=\"white\"></td><td style=\"border:none;\" bgcolor=\"white\"></td><td style=\"border:solid;\" bgcolor=\"white\"><font color=\"black\">PP_2: 0.00</font></td><td style=\"border:solid;\" bgcolor=\"white\"></td><td style=\"border:solid;\" bgcolor=\"white\"></td></tr>\n",
       "<tr><td>5: his</td><td style=\"border:none;\" bgcolor=\"white\"></td><td style=\"border:none;\" bgcolor=\"white\"></td><td style=\"border:none;\" bgcolor=\"white\"></td><td style=\"border:none;\" bgcolor=\"white\"></td><td style=\"border:none;\" bgcolor=\"white\"></td><td style=\"border:solid;\" bgcolor=\"white\"><font color=\"black\">PP_1_3: 0.00</font></td><td style=\"border:solid;\" bgcolor=\"white\"></td></tr>\n",
       "<tr><td>6: pyjamas</td><td style=\"border:none;\" bgcolor=\"white\"></td><td style=\"border:none;\" bgcolor=\"white\"></td><td style=\"border:none;\" bgcolor=\"white\"></td><td style=\"border:none;\" bgcolor=\"white\"></td><td style=\"border:none;\" bgcolor=\"white\"></td><td style=\"border:none;\" bgcolor=\"white\"></td><td style=\"border:solid;\" bgcolor=\"white\"><font color=\"black\">PP_1_4: 0.00</font></td></tr></table> 19 / 112</div>\n",
       "<div class=\"item\"><table><tr><td></td><td>0: He</td><td>1: shot</td><td>2: the</td><td>3: elephant</td><td>4: in</td><td>5: his</td><td>6: pyjamas</td></tr>\n",
       "<tr><td>0: He</td><td style=\"border:solid;\" bgcolor=\"white\"><font color=\"black\">Subj: 0.00</font></td><td style=\"border:solid;\" bgcolor=\"white\"></td><td style=\"border:solid;\" bgcolor=\"white\"></td><td style=\"border:solid;\" bgcolor=\"white\"></td><td style=\"border:solid;\" bgcolor=\"white\"></td><td style=\"border:solid;\" bgcolor=\"white\"></td><td style=\"border:solid;\" bgcolor=\"white\"></td></tr>\n",
       "<tr><td>1: shot</td><td style=\"border:none;\" bgcolor=\"white\"></td><td style=\"border:solid;\" bgcolor=\"#E1E1E1\"><font color=\"black\">Verb: 0.00</font></td><td style=\"border:solid;\" bgcolor=\"#C3C3C3\"></td><td style=\"border:solid;\" bgcolor=\"white\"></td><td style=\"border:solid;\" bgcolor=\"white\"></td><td style=\"border:solid;\" bgcolor=\"white\"></td><td style=\"border:solid;\" bgcolor=\"white\"></td></tr>\n",
       "<tr><td>2: the</td><td style=\"border:none;\" bgcolor=\"white\"></td><td style=\"border:none;\" bgcolor=\"white\"></td><td style=\"border:solid;\" bgcolor=\"#E1E1E1\"><font color=\"black\">Obj_5: 0.00</font>, <font color=\"black\">Obj_8: 0.00</font></td><td style=\"border:solid;\" bgcolor=\"white\"></td><td style=\"border:solid;\" bgcolor=\"white\"></td><td style=\"border:solid;\" bgcolor=\"white\"></td><td style=\"border:solid;\" bgcolor=\"white\"></td></tr>\n",
       "<tr><td>3: elephant</td><td style=\"border:none;\" bgcolor=\"white\"></td><td style=\"border:none;\" bgcolor=\"white\"></td><td style=\"border:none;\" bgcolor=\"white\"></td><td style=\"border:solid;\" bgcolor=\"white\"><font color=\"black\">Obj_6: 0.00</font>, <font color=\"black\">Obj_7_9: 0.00</font></td><td style=\"border:solid;\" bgcolor=\"white\"></td><td style=\"border:solid;\" bgcolor=\"white\"></td><td style=\"border:solid;\" bgcolor=\"white\"></td></tr>\n",
       "<tr><td>4: in</td><td style=\"border:none;\" bgcolor=\"white\"></td><td style=\"border:none;\" bgcolor=\"white\"></td><td style=\"border:none;\" bgcolor=\"white\"></td><td style=\"border:none;\" bgcolor=\"white\"></td><td style=\"border:solid;\" bgcolor=\"white\"><font color=\"black\">PP_2: 0.00</font></td><td style=\"border:solid;\" bgcolor=\"white\"></td><td style=\"border:solid;\" bgcolor=\"white\"></td></tr>\n",
       "<tr><td>5: his</td><td style=\"border:none;\" bgcolor=\"white\"></td><td style=\"border:none;\" bgcolor=\"white\"></td><td style=\"border:none;\" bgcolor=\"white\"></td><td style=\"border:none;\" bgcolor=\"white\"></td><td style=\"border:none;\" bgcolor=\"white\"></td><td style=\"border:solid;\" bgcolor=\"white\"><font color=\"black\">PP_1_3: 0.00</font></td><td style=\"border:solid;\" bgcolor=\"white\"></td></tr>\n",
       "<tr><td>6: pyjamas</td><td style=\"border:none;\" bgcolor=\"white\"></td><td style=\"border:none;\" bgcolor=\"white\"></td><td style=\"border:none;\" bgcolor=\"white\"></td><td style=\"border:none;\" bgcolor=\"white\"></td><td style=\"border:none;\" bgcolor=\"white\"></td><td style=\"border:none;\" bgcolor=\"white\"></td><td style=\"border:solid;\" bgcolor=\"white\"><font color=\"black\">PP_1_4: 0.00</font></td></tr></table> 20 / 112</div>\n",
       "<div class=\"item\"><table><tr><td></td><td>0: He</td><td>1: shot</td><td>2: the</td><td>3: elephant</td><td>4: in</td><td>5: his</td><td>6: pyjamas</td></tr>\n",
       "<tr><td>0: He</td><td style=\"border:solid;\" bgcolor=\"white\"><font color=\"black\">Subj: 0.00</font></td><td style=\"border:solid;\" bgcolor=\"white\"></td><td style=\"border:solid;\" bgcolor=\"white\"></td><td style=\"border:solid;\" bgcolor=\"white\"></td><td style=\"border:solid;\" bgcolor=\"white\"></td><td style=\"border:solid;\" bgcolor=\"white\"></td><td style=\"border:solid;\" bgcolor=\"white\"></td></tr>\n",
       "<tr><td>1: shot</td><td style=\"border:none;\" bgcolor=\"white\"></td><td style=\"border:solid;\" bgcolor=\"#E1E1E1\"><font color=\"red\">Verb: 0.00</font></td><td style=\"border:solid;\" bgcolor=\"#C3C3C3\"></td><td style=\"border:solid;\" bgcolor=\"white\"></td><td style=\"border:solid;\" bgcolor=\"white\"></td><td style=\"border:solid;\" bgcolor=\"white\"></td><td style=\"border:solid;\" bgcolor=\"white\"></td></tr>\n",
       "<tr><td>2: the</td><td style=\"border:none;\" bgcolor=\"white\"></td><td style=\"border:none;\" bgcolor=\"white\"></td><td style=\"border:solid;\" bgcolor=\"#E1E1E1\"><font color=\"red\">Obj_5: 0.00</font>, <font color=\"black\">Obj_8: 0.00</font></td><td style=\"border:solid;\" bgcolor=\"white\"></td><td style=\"border:solid;\" bgcolor=\"white\"></td><td style=\"border:solid;\" bgcolor=\"white\"></td><td style=\"border:solid;\" bgcolor=\"white\"></td></tr>\n",
       "<tr><td>3: elephant</td><td style=\"border:none;\" bgcolor=\"white\"></td><td style=\"border:none;\" bgcolor=\"white\"></td><td style=\"border:none;\" bgcolor=\"white\"></td><td style=\"border:solid;\" bgcolor=\"white\"><font color=\"black\">Obj_6: 0.00</font>, <font color=\"black\">Obj_7_9: 0.00</font></td><td style=\"border:solid;\" bgcolor=\"white\"></td><td style=\"border:solid;\" bgcolor=\"white\"></td><td style=\"border:solid;\" bgcolor=\"white\"></td></tr>\n",
       "<tr><td>4: in</td><td style=\"border:none;\" bgcolor=\"white\"></td><td style=\"border:none;\" bgcolor=\"white\"></td><td style=\"border:none;\" bgcolor=\"white\"></td><td style=\"border:none;\" bgcolor=\"white\"></td><td style=\"border:solid;\" bgcolor=\"white\"><font color=\"black\">PP_2: 0.00</font></td><td style=\"border:solid;\" bgcolor=\"white\"></td><td style=\"border:solid;\" bgcolor=\"white\"></td></tr>\n",
       "<tr><td>5: his</td><td style=\"border:none;\" bgcolor=\"white\"></td><td style=\"border:none;\" bgcolor=\"white\"></td><td style=\"border:none;\" bgcolor=\"white\"></td><td style=\"border:none;\" bgcolor=\"white\"></td><td style=\"border:none;\" bgcolor=\"white\"></td><td style=\"border:solid;\" bgcolor=\"white\"><font color=\"black\">PP_1_3: 0.00</font></td><td style=\"border:solid;\" bgcolor=\"white\"></td></tr>\n",
       "<tr><td>6: pyjamas</td><td style=\"border:none;\" bgcolor=\"white\"></td><td style=\"border:none;\" bgcolor=\"white\"></td><td style=\"border:none;\" bgcolor=\"white\"></td><td style=\"border:none;\" bgcolor=\"white\"></td><td style=\"border:none;\" bgcolor=\"white\"></td><td style=\"border:none;\" bgcolor=\"white\"></td><td style=\"border:solid;\" bgcolor=\"white\"><font color=\"black\">PP_1_4: 0.00</font></td></tr></table> 21 / 112</div>\n",
       "<div class=\"item\"><table><tr><td></td><td>0: He</td><td>1: shot</td><td>2: the</td><td>3: elephant</td><td>4: in</td><td>5: his</td><td>6: pyjamas</td></tr>\n",
       "<tr><td>0: He</td><td style=\"border:solid;\" bgcolor=\"white\"><font color=\"black\">Subj: 0.00</font></td><td style=\"border:solid;\" bgcolor=\"white\"></td><td style=\"border:solid;\" bgcolor=\"white\"></td><td style=\"border:solid;\" bgcolor=\"white\"></td><td style=\"border:solid;\" bgcolor=\"white\"></td><td style=\"border:solid;\" bgcolor=\"white\"></td><td style=\"border:solid;\" bgcolor=\"white\"></td></tr>\n",
       "<tr><td>1: shot</td><td style=\"border:none;\" bgcolor=\"white\"></td><td style=\"border:solid;\" bgcolor=\"#E1E1E1\"><font color=\"red\">Verb: 0.00</font></td><td style=\"border:solid;\" bgcolor=\"#C3C3C3\"></td><td style=\"border:solid;\" bgcolor=\"white\"></td><td style=\"border:solid;\" bgcolor=\"white\"></td><td style=\"border:solid;\" bgcolor=\"white\"></td><td style=\"border:solid;\" bgcolor=\"white\"></td></tr>\n",
       "<tr><td>2: the</td><td style=\"border:none;\" bgcolor=\"white\"></td><td style=\"border:none;\" bgcolor=\"white\"></td><td style=\"border:solid;\" bgcolor=\"#E1E1E1\"><font color=\"black\">Obj_5: 0.00</font>, <font color=\"red\">Obj_8: 0.00</font></td><td style=\"border:solid;\" bgcolor=\"white\"></td><td style=\"border:solid;\" bgcolor=\"white\"></td><td style=\"border:solid;\" bgcolor=\"white\"></td><td style=\"border:solid;\" bgcolor=\"white\"></td></tr>\n",
       "<tr><td>3: elephant</td><td style=\"border:none;\" bgcolor=\"white\"></td><td style=\"border:none;\" bgcolor=\"white\"></td><td style=\"border:none;\" bgcolor=\"white\"></td><td style=\"border:solid;\" bgcolor=\"white\"><font color=\"black\">Obj_6: 0.00</font>, <font color=\"black\">Obj_7_9: 0.00</font></td><td style=\"border:solid;\" bgcolor=\"white\"></td><td style=\"border:solid;\" bgcolor=\"white\"></td><td style=\"border:solid;\" bgcolor=\"white\"></td></tr>\n",
       "<tr><td>4: in</td><td style=\"border:none;\" bgcolor=\"white\"></td><td style=\"border:none;\" bgcolor=\"white\"></td><td style=\"border:none;\" bgcolor=\"white\"></td><td style=\"border:none;\" bgcolor=\"white\"></td><td style=\"border:solid;\" bgcolor=\"white\"><font color=\"black\">PP_2: 0.00</font></td><td style=\"border:solid;\" bgcolor=\"white\"></td><td style=\"border:solid;\" bgcolor=\"white\"></td></tr>\n",
       "<tr><td>5: his</td><td style=\"border:none;\" bgcolor=\"white\"></td><td style=\"border:none;\" bgcolor=\"white\"></td><td style=\"border:none;\" bgcolor=\"white\"></td><td style=\"border:none;\" bgcolor=\"white\"></td><td style=\"border:none;\" bgcolor=\"white\"></td><td style=\"border:solid;\" bgcolor=\"white\"><font color=\"black\">PP_1_3: 0.00</font></td><td style=\"border:solid;\" bgcolor=\"white\"></td></tr>\n",
       "<tr><td>6: pyjamas</td><td style=\"border:none;\" bgcolor=\"white\"></td><td style=\"border:none;\" bgcolor=\"white\"></td><td style=\"border:none;\" bgcolor=\"white\"></td><td style=\"border:none;\" bgcolor=\"white\"></td><td style=\"border:none;\" bgcolor=\"white\"></td><td style=\"border:none;\" bgcolor=\"white\"></td><td style=\"border:solid;\" bgcolor=\"white\"><font color=\"black\">PP_1_4: 0.00</font></td></tr></table> 22 / 112</div>\n",
       "<div class=\"item\"><table><tr><td></td><td>0: He</td><td>1: shot</td><td>2: the</td><td>3: elephant</td><td>4: in</td><td>5: his</td><td>6: pyjamas</td></tr>\n",
       "<tr><td>0: He</td><td style=\"border:solid;\" bgcolor=\"white\"><font color=\"black\">Subj: 0.00</font></td><td style=\"border:solid;\" bgcolor=\"white\"></td><td style=\"border:solid;\" bgcolor=\"white\"></td><td style=\"border:solid;\" bgcolor=\"white\"></td><td style=\"border:solid;\" bgcolor=\"white\"></td><td style=\"border:solid;\" bgcolor=\"white\"></td><td style=\"border:solid;\" bgcolor=\"white\"></td></tr>\n",
       "<tr><td>1: shot</td><td style=\"border:none;\" bgcolor=\"white\"></td><td style=\"border:solid;\" bgcolor=\"white\"><font color=\"black\">Verb: 0.00</font></td><td style=\"border:solid;\" bgcolor=\"white\"></td><td style=\"border:solid;\" bgcolor=\"white\"></td><td style=\"border:solid;\" bgcolor=\"white\"></td><td style=\"border:solid;\" bgcolor=\"white\"></td><td style=\"border:solid;\" bgcolor=\"white\"></td></tr>\n",
       "<tr><td>2: the</td><td style=\"border:none;\" bgcolor=\"white\"></td><td style=\"border:none;\" bgcolor=\"white\"></td><td style=\"border:solid;\" bgcolor=\"#E1E1E1\"><font color=\"black\">Obj_5: 0.00</font>, <font color=\"black\">Obj_8: 0.00</font></td><td style=\"border:solid;\" bgcolor=\"#C3C3C3\"></td><td style=\"border:solid;\" bgcolor=\"white\"></td><td style=\"border:solid;\" bgcolor=\"white\"></td><td style=\"border:solid;\" bgcolor=\"white\"></td></tr>\n",
       "<tr><td>3: elephant</td><td style=\"border:none;\" bgcolor=\"white\"></td><td style=\"border:none;\" bgcolor=\"white\"></td><td style=\"border:none;\" bgcolor=\"white\"></td><td style=\"border:solid;\" bgcolor=\"#E1E1E1\"><font color=\"black\">Obj_6: 0.00</font>, <font color=\"black\">Obj_7_9: 0.00</font></td><td style=\"border:solid;\" bgcolor=\"white\"></td><td style=\"border:solid;\" bgcolor=\"white\"></td><td style=\"border:solid;\" bgcolor=\"white\"></td></tr>\n",
       "<tr><td>4: in</td><td style=\"border:none;\" bgcolor=\"white\"></td><td style=\"border:none;\" bgcolor=\"white\"></td><td style=\"border:none;\" bgcolor=\"white\"></td><td style=\"border:none;\" bgcolor=\"white\"></td><td style=\"border:solid;\" bgcolor=\"white\"><font color=\"black\">PP_2: 0.00</font></td><td style=\"border:solid;\" bgcolor=\"white\"></td><td style=\"border:solid;\" bgcolor=\"white\"></td></tr>\n",
       "<tr><td>5: his</td><td style=\"border:none;\" bgcolor=\"white\"></td><td style=\"border:none;\" bgcolor=\"white\"></td><td style=\"border:none;\" bgcolor=\"white\"></td><td style=\"border:none;\" bgcolor=\"white\"></td><td style=\"border:none;\" bgcolor=\"white\"></td><td style=\"border:solid;\" bgcolor=\"white\"><font color=\"black\">PP_1_3: 0.00</font></td><td style=\"border:solid;\" bgcolor=\"white\"></td></tr>\n",
       "<tr><td>6: pyjamas</td><td style=\"border:none;\" bgcolor=\"white\"></td><td style=\"border:none;\" bgcolor=\"white\"></td><td style=\"border:none;\" bgcolor=\"white\"></td><td style=\"border:none;\" bgcolor=\"white\"></td><td style=\"border:none;\" bgcolor=\"white\"></td><td style=\"border:none;\" bgcolor=\"white\"></td><td style=\"border:solid;\" bgcolor=\"white\"><font color=\"black\">PP_1_4: 0.00</font></td></tr></table> 23 / 112</div>\n",
       "<div class=\"item\"><table><tr><td></td><td>0: He</td><td>1: shot</td><td>2: the</td><td>3: elephant</td><td>4: in</td><td>5: his</td><td>6: pyjamas</td></tr>\n",
       "<tr><td>0: He</td><td style=\"border:solid;\" bgcolor=\"white\"><font color=\"black\">Subj: 0.00</font></td><td style=\"border:solid;\" bgcolor=\"white\"></td><td style=\"border:solid;\" bgcolor=\"white\"></td><td style=\"border:solid;\" bgcolor=\"white\"></td><td style=\"border:solid;\" bgcolor=\"white\"></td><td style=\"border:solid;\" bgcolor=\"white\"></td><td style=\"border:solid;\" bgcolor=\"white\"></td></tr>\n",
       "<tr><td>1: shot</td><td style=\"border:none;\" bgcolor=\"white\"></td><td style=\"border:solid;\" bgcolor=\"white\"><font color=\"black\">Verb: 0.00</font></td><td style=\"border:solid;\" bgcolor=\"white\"></td><td style=\"border:solid;\" bgcolor=\"white\"></td><td style=\"border:solid;\" bgcolor=\"white\"></td><td style=\"border:solid;\" bgcolor=\"white\"></td><td style=\"border:solid;\" bgcolor=\"white\"></td></tr>\n",
       "<tr><td>2: the</td><td style=\"border:none;\" bgcolor=\"white\"></td><td style=\"border:none;\" bgcolor=\"white\"></td><td style=\"border:solid;\" bgcolor=\"#E1E1E1\"><font color=\"red\">Obj_5: 0.00</font>, <font color=\"black\">Obj_8: 0.00</font></td><td style=\"border:solid;\" bgcolor=\"#C3C3C3\"></td><td style=\"border:solid;\" bgcolor=\"white\"></td><td style=\"border:solid;\" bgcolor=\"white\"></td><td style=\"border:solid;\" bgcolor=\"white\"></td></tr>\n",
       "<tr><td>3: elephant</td><td style=\"border:none;\" bgcolor=\"white\"></td><td style=\"border:none;\" bgcolor=\"white\"></td><td style=\"border:none;\" bgcolor=\"white\"></td><td style=\"border:solid;\" bgcolor=\"#E1E1E1\"><font color=\"red\">Obj_6: 0.00</font>, <font color=\"black\">Obj_7_9: 0.00</font></td><td style=\"border:solid;\" bgcolor=\"white\"></td><td style=\"border:solid;\" bgcolor=\"white\"></td><td style=\"border:solid;\" bgcolor=\"white\"></td></tr>\n",
       "<tr><td>4: in</td><td style=\"border:none;\" bgcolor=\"white\"></td><td style=\"border:none;\" bgcolor=\"white\"></td><td style=\"border:none;\" bgcolor=\"white\"></td><td style=\"border:none;\" bgcolor=\"white\"></td><td style=\"border:solid;\" bgcolor=\"white\"><font color=\"black\">PP_2: 0.00</font></td><td style=\"border:solid;\" bgcolor=\"white\"></td><td style=\"border:solid;\" bgcolor=\"white\"></td></tr>\n",
       "<tr><td>5: his</td><td style=\"border:none;\" bgcolor=\"white\"></td><td style=\"border:none;\" bgcolor=\"white\"></td><td style=\"border:none;\" bgcolor=\"white\"></td><td style=\"border:none;\" bgcolor=\"white\"></td><td style=\"border:none;\" bgcolor=\"white\"></td><td style=\"border:solid;\" bgcolor=\"white\"><font color=\"black\">PP_1_3: 0.00</font></td><td style=\"border:solid;\" bgcolor=\"white\"></td></tr>\n",
       "<tr><td>6: pyjamas</td><td style=\"border:none;\" bgcolor=\"white\"></td><td style=\"border:none;\" bgcolor=\"white\"></td><td style=\"border:none;\" bgcolor=\"white\"></td><td style=\"border:none;\" bgcolor=\"white\"></td><td style=\"border:none;\" bgcolor=\"white\"></td><td style=\"border:none;\" bgcolor=\"white\"></td><td style=\"border:solid;\" bgcolor=\"white\"><font color=\"black\">PP_1_4: 0.00</font></td></tr></table> 24 / 112</div>\n",
       "<div class=\"item\"><table><tr><td></td><td>0: He</td><td>1: shot</td><td>2: the</td><td>3: elephant</td><td>4: in</td><td>5: his</td><td>6: pyjamas</td></tr>\n",
       "<tr><td>0: He</td><td style=\"border:solid;\" bgcolor=\"white\"><font color=\"black\">Subj: 0.00</font></td><td style=\"border:solid;\" bgcolor=\"white\"></td><td style=\"border:solid;\" bgcolor=\"white\"></td><td style=\"border:solid;\" bgcolor=\"white\"></td><td style=\"border:solid;\" bgcolor=\"white\"></td><td style=\"border:solid;\" bgcolor=\"white\"></td><td style=\"border:solid;\" bgcolor=\"white\"></td></tr>\n",
       "<tr><td>1: shot</td><td style=\"border:none;\" bgcolor=\"white\"></td><td style=\"border:solid;\" bgcolor=\"white\"><font color=\"black\">Verb: 0.00</font></td><td style=\"border:solid;\" bgcolor=\"white\"></td><td style=\"border:solid;\" bgcolor=\"white\"></td><td style=\"border:solid;\" bgcolor=\"white\"></td><td style=\"border:solid;\" bgcolor=\"white\"></td><td style=\"border:solid;\" bgcolor=\"white\"></td></tr>\n",
       "<tr><td>2: the</td><td style=\"border:none;\" bgcolor=\"white\"></td><td style=\"border:none;\" bgcolor=\"white\"></td><td style=\"border:solid;\" bgcolor=\"#E1E1E1\"><font color=\"red\">Obj_5: 0.00</font>, <font color=\"black\">Obj_8: 0.00</font></td><td style=\"border:solid;\" bgcolor=\"#C3C3C3\"><font color=\"blue\">Obj: -0.69</font></td><td style=\"border:solid;\" bgcolor=\"white\"></td><td style=\"border:solid;\" bgcolor=\"white\"></td><td style=\"border:solid;\" bgcolor=\"white\"></td></tr>\n",
       "<tr><td>3: elephant</td><td style=\"border:none;\" bgcolor=\"white\"></td><td style=\"border:none;\" bgcolor=\"white\"></td><td style=\"border:none;\" bgcolor=\"white\"></td><td style=\"border:solid;\" bgcolor=\"#E1E1E1\"><font color=\"red\">Obj_6: 0.00</font>, <font color=\"black\">Obj_7_9: 0.00</font></td><td style=\"border:solid;\" bgcolor=\"white\"></td><td style=\"border:solid;\" bgcolor=\"white\"></td><td style=\"border:solid;\" bgcolor=\"white\"></td></tr>\n",
       "<tr><td>4: in</td><td style=\"border:none;\" bgcolor=\"white\"></td><td style=\"border:none;\" bgcolor=\"white\"></td><td style=\"border:none;\" bgcolor=\"white\"></td><td style=\"border:none;\" bgcolor=\"white\"></td><td style=\"border:solid;\" bgcolor=\"white\"><font color=\"black\">PP_2: 0.00</font></td><td style=\"border:solid;\" bgcolor=\"white\"></td><td style=\"border:solid;\" bgcolor=\"white\"></td></tr>\n",
       "<tr><td>5: his</td><td style=\"border:none;\" bgcolor=\"white\"></td><td style=\"border:none;\" bgcolor=\"white\"></td><td style=\"border:none;\" bgcolor=\"white\"></td><td style=\"border:none;\" bgcolor=\"white\"></td><td style=\"border:none;\" bgcolor=\"white\"></td><td style=\"border:solid;\" bgcolor=\"white\"><font color=\"black\">PP_1_3: 0.00</font></td><td style=\"border:solid;\" bgcolor=\"white\"></td></tr>\n",
       "<tr><td>6: pyjamas</td><td style=\"border:none;\" bgcolor=\"white\"></td><td style=\"border:none;\" bgcolor=\"white\"></td><td style=\"border:none;\" bgcolor=\"white\"></td><td style=\"border:none;\" bgcolor=\"white\"></td><td style=\"border:none;\" bgcolor=\"white\"></td><td style=\"border:none;\" bgcolor=\"white\"></td><td style=\"border:solid;\" bgcolor=\"white\"><font color=\"black\">PP_1_4: 0.00</font></td></tr></table> 25 / 112</div>\n",
       "<div class=\"item\"><table><tr><td></td><td>0: He</td><td>1: shot</td><td>2: the</td><td>3: elephant</td><td>4: in</td><td>5: his</td><td>6: pyjamas</td></tr>\n",
       "<tr><td>0: He</td><td style=\"border:solid;\" bgcolor=\"white\"><font color=\"black\">Subj: 0.00</font></td><td style=\"border:solid;\" bgcolor=\"white\"></td><td style=\"border:solid;\" bgcolor=\"white\"></td><td style=\"border:solid;\" bgcolor=\"white\"></td><td style=\"border:solid;\" bgcolor=\"white\"></td><td style=\"border:solid;\" bgcolor=\"white\"></td><td style=\"border:solid;\" bgcolor=\"white\"></td></tr>\n",
       "<tr><td>1: shot</td><td style=\"border:none;\" bgcolor=\"white\"></td><td style=\"border:solid;\" bgcolor=\"white\"><font color=\"black\">Verb: 0.00</font></td><td style=\"border:solid;\" bgcolor=\"white\"></td><td style=\"border:solid;\" bgcolor=\"white\"></td><td style=\"border:solid;\" bgcolor=\"white\"></td><td style=\"border:solid;\" bgcolor=\"white\"></td><td style=\"border:solid;\" bgcolor=\"white\"></td></tr>\n",
       "<tr><td>2: the</td><td style=\"border:none;\" bgcolor=\"white\"></td><td style=\"border:none;\" bgcolor=\"white\"></td><td style=\"border:solid;\" bgcolor=\"#E1E1E1\"><font color=\"red\">Obj_5: 0.00</font>, <font color=\"black\">Obj_8: 0.00</font></td><td style=\"border:solid;\" bgcolor=\"#C3C3C3\"><font color=\"black\">Obj: -0.69</font></td><td style=\"border:solid;\" bgcolor=\"white\"></td><td style=\"border:solid;\" bgcolor=\"white\"></td><td style=\"border:solid;\" bgcolor=\"white\"></td></tr>\n",
       "<tr><td>3: elephant</td><td style=\"border:none;\" bgcolor=\"white\"></td><td style=\"border:none;\" bgcolor=\"white\"></td><td style=\"border:none;\" bgcolor=\"white\"></td><td style=\"border:solid;\" bgcolor=\"#E1E1E1\"><font color=\"black\">Obj_6: 0.00</font>, <font color=\"red\">Obj_7_9: 0.00</font></td><td style=\"border:solid;\" bgcolor=\"white\"></td><td style=\"border:solid;\" bgcolor=\"white\"></td><td style=\"border:solid;\" bgcolor=\"white\"></td></tr>\n",
       "<tr><td>4: in</td><td style=\"border:none;\" bgcolor=\"white\"></td><td style=\"border:none;\" bgcolor=\"white\"></td><td style=\"border:none;\" bgcolor=\"white\"></td><td style=\"border:none;\" bgcolor=\"white\"></td><td style=\"border:solid;\" bgcolor=\"white\"><font color=\"black\">PP_2: 0.00</font></td><td style=\"border:solid;\" bgcolor=\"white\"></td><td style=\"border:solid;\" bgcolor=\"white\"></td></tr>\n",
       "<tr><td>5: his</td><td style=\"border:none;\" bgcolor=\"white\"></td><td style=\"border:none;\" bgcolor=\"white\"></td><td style=\"border:none;\" bgcolor=\"white\"></td><td style=\"border:none;\" bgcolor=\"white\"></td><td style=\"border:none;\" bgcolor=\"white\"></td><td style=\"border:solid;\" bgcolor=\"white\"><font color=\"black\">PP_1_3: 0.00</font></td><td style=\"border:solid;\" bgcolor=\"white\"></td></tr>\n",
       "<tr><td>6: pyjamas</td><td style=\"border:none;\" bgcolor=\"white\"></td><td style=\"border:none;\" bgcolor=\"white\"></td><td style=\"border:none;\" bgcolor=\"white\"></td><td style=\"border:none;\" bgcolor=\"white\"></td><td style=\"border:none;\" bgcolor=\"white\"></td><td style=\"border:none;\" bgcolor=\"white\"></td><td style=\"border:solid;\" bgcolor=\"white\"><font color=\"black\">PP_1_4: 0.00</font></td></tr></table> 26 / 112</div>\n",
       "<div class=\"item\"><table><tr><td></td><td>0: He</td><td>1: shot</td><td>2: the</td><td>3: elephant</td><td>4: in</td><td>5: his</td><td>6: pyjamas</td></tr>\n",
       "<tr><td>0: He</td><td style=\"border:solid;\" bgcolor=\"white\"><font color=\"black\">Subj: 0.00</font></td><td style=\"border:solid;\" bgcolor=\"white\"></td><td style=\"border:solid;\" bgcolor=\"white\"></td><td style=\"border:solid;\" bgcolor=\"white\"></td><td style=\"border:solid;\" bgcolor=\"white\"></td><td style=\"border:solid;\" bgcolor=\"white\"></td><td style=\"border:solid;\" bgcolor=\"white\"></td></tr>\n",
       "<tr><td>1: shot</td><td style=\"border:none;\" bgcolor=\"white\"></td><td style=\"border:solid;\" bgcolor=\"white\"><font color=\"black\">Verb: 0.00</font></td><td style=\"border:solid;\" bgcolor=\"white\"></td><td style=\"border:solid;\" bgcolor=\"white\"></td><td style=\"border:solid;\" bgcolor=\"white\"></td><td style=\"border:solid;\" bgcolor=\"white\"></td><td style=\"border:solid;\" bgcolor=\"white\"></td></tr>\n",
       "<tr><td>2: the</td><td style=\"border:none;\" bgcolor=\"white\"></td><td style=\"border:none;\" bgcolor=\"white\"></td><td style=\"border:solid;\" bgcolor=\"#E1E1E1\"><font color=\"black\">Obj_5: 0.00</font>, <font color=\"red\">Obj_8: 0.00</font></td><td style=\"border:solid;\" bgcolor=\"#C3C3C3\"><font color=\"black\">Obj: -0.69</font></td><td style=\"border:solid;\" bgcolor=\"white\"></td><td style=\"border:solid;\" bgcolor=\"white\"></td><td style=\"border:solid;\" bgcolor=\"white\"></td></tr>\n",
       "<tr><td>3: elephant</td><td style=\"border:none;\" bgcolor=\"white\"></td><td style=\"border:none;\" bgcolor=\"white\"></td><td style=\"border:none;\" bgcolor=\"white\"></td><td style=\"border:solid;\" bgcolor=\"#E1E1E1\"><font color=\"red\">Obj_6: 0.00</font>, <font color=\"black\">Obj_7_9: 0.00</font></td><td style=\"border:solid;\" bgcolor=\"white\"></td><td style=\"border:solid;\" bgcolor=\"white\"></td><td style=\"border:solid;\" bgcolor=\"white\"></td></tr>\n",
       "<tr><td>4: in</td><td style=\"border:none;\" bgcolor=\"white\"></td><td style=\"border:none;\" bgcolor=\"white\"></td><td style=\"border:none;\" bgcolor=\"white\"></td><td style=\"border:none;\" bgcolor=\"white\"></td><td style=\"border:solid;\" bgcolor=\"white\"><font color=\"black\">PP_2: 0.00</font></td><td style=\"border:solid;\" bgcolor=\"white\"></td><td style=\"border:solid;\" bgcolor=\"white\"></td></tr>\n",
       "<tr><td>5: his</td><td style=\"border:none;\" bgcolor=\"white\"></td><td style=\"border:none;\" bgcolor=\"white\"></td><td style=\"border:none;\" bgcolor=\"white\"></td><td style=\"border:none;\" bgcolor=\"white\"></td><td style=\"border:none;\" bgcolor=\"white\"></td><td style=\"border:solid;\" bgcolor=\"white\"><font color=\"black\">PP_1_3: 0.00</font></td><td style=\"border:solid;\" bgcolor=\"white\"></td></tr>\n",
       "<tr><td>6: pyjamas</td><td style=\"border:none;\" bgcolor=\"white\"></td><td style=\"border:none;\" bgcolor=\"white\"></td><td style=\"border:none;\" bgcolor=\"white\"></td><td style=\"border:none;\" bgcolor=\"white\"></td><td style=\"border:none;\" bgcolor=\"white\"></td><td style=\"border:none;\" bgcolor=\"white\"></td><td style=\"border:solid;\" bgcolor=\"white\"><font color=\"black\">PP_1_4: 0.00</font></td></tr></table> 27 / 112</div>\n",
       "<div class=\"item\"><table><tr><td></td><td>0: He</td><td>1: shot</td><td>2: the</td><td>3: elephant</td><td>4: in</td><td>5: his</td><td>6: pyjamas</td></tr>\n",
       "<tr><td>0: He</td><td style=\"border:solid;\" bgcolor=\"white\"><font color=\"black\">Subj: 0.00</font></td><td style=\"border:solid;\" bgcolor=\"white\"></td><td style=\"border:solid;\" bgcolor=\"white\"></td><td style=\"border:solid;\" bgcolor=\"white\"></td><td style=\"border:solid;\" bgcolor=\"white\"></td><td style=\"border:solid;\" bgcolor=\"white\"></td><td style=\"border:solid;\" bgcolor=\"white\"></td></tr>\n",
       "<tr><td>1: shot</td><td style=\"border:none;\" bgcolor=\"white\"></td><td style=\"border:solid;\" bgcolor=\"white\"><font color=\"black\">Verb: 0.00</font></td><td style=\"border:solid;\" bgcolor=\"white\"></td><td style=\"border:solid;\" bgcolor=\"white\"></td><td style=\"border:solid;\" bgcolor=\"white\"></td><td style=\"border:solid;\" bgcolor=\"white\"></td><td style=\"border:solid;\" bgcolor=\"white\"></td></tr>\n",
       "<tr><td>2: the</td><td style=\"border:none;\" bgcolor=\"white\"></td><td style=\"border:none;\" bgcolor=\"white\"></td><td style=\"border:solid;\" bgcolor=\"#E1E1E1\"><font color=\"black\">Obj_5: 0.00</font>, <font color=\"red\">Obj_8: 0.00</font></td><td style=\"border:solid;\" bgcolor=\"#C3C3C3\"><font color=\"black\">Obj: -0.69</font></td><td style=\"border:solid;\" bgcolor=\"white\"></td><td style=\"border:solid;\" bgcolor=\"white\"></td><td style=\"border:solid;\" bgcolor=\"white\"></td></tr>\n",
       "<tr><td>3: elephant</td><td style=\"border:none;\" bgcolor=\"white\"></td><td style=\"border:none;\" bgcolor=\"white\"></td><td style=\"border:none;\" bgcolor=\"white\"></td><td style=\"border:solid;\" bgcolor=\"#E1E1E1\"><font color=\"black\">Obj_6: 0.00</font>, <font color=\"red\">Obj_7_9: 0.00</font></td><td style=\"border:solid;\" bgcolor=\"white\"></td><td style=\"border:solid;\" bgcolor=\"white\"></td><td style=\"border:solid;\" bgcolor=\"white\"></td></tr>\n",
       "<tr><td>4: in</td><td style=\"border:none;\" bgcolor=\"white\"></td><td style=\"border:none;\" bgcolor=\"white\"></td><td style=\"border:none;\" bgcolor=\"white\"></td><td style=\"border:none;\" bgcolor=\"white\"></td><td style=\"border:solid;\" bgcolor=\"white\"><font color=\"black\">PP_2: 0.00</font></td><td style=\"border:solid;\" bgcolor=\"white\"></td><td style=\"border:solid;\" bgcolor=\"white\"></td></tr>\n",
       "<tr><td>5: his</td><td style=\"border:none;\" bgcolor=\"white\"></td><td style=\"border:none;\" bgcolor=\"white\"></td><td style=\"border:none;\" bgcolor=\"white\"></td><td style=\"border:none;\" bgcolor=\"white\"></td><td style=\"border:none;\" bgcolor=\"white\"></td><td style=\"border:solid;\" bgcolor=\"white\"><font color=\"black\">PP_1_3: 0.00</font></td><td style=\"border:solid;\" bgcolor=\"white\"></td></tr>\n",
       "<tr><td>6: pyjamas</td><td style=\"border:none;\" bgcolor=\"white\"></td><td style=\"border:none;\" bgcolor=\"white\"></td><td style=\"border:none;\" bgcolor=\"white\"></td><td style=\"border:none;\" bgcolor=\"white\"></td><td style=\"border:none;\" bgcolor=\"white\"></td><td style=\"border:none;\" bgcolor=\"white\"></td><td style=\"border:solid;\" bgcolor=\"white\"><font color=\"black\">PP_1_4: 0.00</font></td></tr></table> 28 / 112</div>\n",
       "<div class=\"item\"><table><tr><td></td><td>0: He</td><td>1: shot</td><td>2: the</td><td>3: elephant</td><td>4: in</td><td>5: his</td><td>6: pyjamas</td></tr>\n",
       "<tr><td>0: He</td><td style=\"border:solid;\" bgcolor=\"white\"><font color=\"black\">Subj: 0.00</font></td><td style=\"border:solid;\" bgcolor=\"white\"></td><td style=\"border:solid;\" bgcolor=\"white\"></td><td style=\"border:solid;\" bgcolor=\"white\"></td><td style=\"border:solid;\" bgcolor=\"white\"></td><td style=\"border:solid;\" bgcolor=\"white\"></td><td style=\"border:solid;\" bgcolor=\"white\"></td></tr>\n",
       "<tr><td>1: shot</td><td style=\"border:none;\" bgcolor=\"white\"></td><td style=\"border:solid;\" bgcolor=\"white\"><font color=\"black\">Verb: 0.00</font></td><td style=\"border:solid;\" bgcolor=\"white\"></td><td style=\"border:solid;\" bgcolor=\"white\"></td><td style=\"border:solid;\" bgcolor=\"white\"></td><td style=\"border:solid;\" bgcolor=\"white\"></td><td style=\"border:solid;\" bgcolor=\"white\"></td></tr>\n",
       "<tr><td>2: the</td><td style=\"border:none;\" bgcolor=\"white\"></td><td style=\"border:none;\" bgcolor=\"white\"></td><td style=\"border:solid;\" bgcolor=\"white\"><font color=\"black\">Obj_5: 0.00</font>, <font color=\"black\">Obj_8: 0.00</font></td><td style=\"border:solid;\" bgcolor=\"white\"><font color=\"black\">Obj: -0.69</font></td><td style=\"border:solid;\" bgcolor=\"white\"></td><td style=\"border:solid;\" bgcolor=\"white\"></td><td style=\"border:solid;\" bgcolor=\"white\"></td></tr>\n",
       "<tr><td>3: elephant</td><td style=\"border:none;\" bgcolor=\"white\"></td><td style=\"border:none;\" bgcolor=\"white\"></td><td style=\"border:none;\" bgcolor=\"white\"></td><td style=\"border:solid;\" bgcolor=\"#E1E1E1\"><font color=\"black\">Obj_6: 0.00</font>, <font color=\"black\">Obj_7_9: 0.00</font></td><td style=\"border:solid;\" bgcolor=\"#C3C3C3\"></td><td style=\"border:solid;\" bgcolor=\"white\"></td><td style=\"border:solid;\" bgcolor=\"white\"></td></tr>\n",
       "<tr><td>4: in</td><td style=\"border:none;\" bgcolor=\"white\"></td><td style=\"border:none;\" bgcolor=\"white\"></td><td style=\"border:none;\" bgcolor=\"white\"></td><td style=\"border:none;\" bgcolor=\"white\"></td><td style=\"border:solid;\" bgcolor=\"#E1E1E1\"><font color=\"black\">PP_2: 0.00</font></td><td style=\"border:solid;\" bgcolor=\"white\"></td><td style=\"border:solid;\" bgcolor=\"white\"></td></tr>\n",
       "<tr><td>5: his</td><td style=\"border:none;\" bgcolor=\"white\"></td><td style=\"border:none;\" bgcolor=\"white\"></td><td style=\"border:none;\" bgcolor=\"white\"></td><td style=\"border:none;\" bgcolor=\"white\"></td><td style=\"border:none;\" bgcolor=\"white\"></td><td style=\"border:solid;\" bgcolor=\"white\"><font color=\"black\">PP_1_3: 0.00</font></td><td style=\"border:solid;\" bgcolor=\"white\"></td></tr>\n",
       "<tr><td>6: pyjamas</td><td style=\"border:none;\" bgcolor=\"white\"></td><td style=\"border:none;\" bgcolor=\"white\"></td><td style=\"border:none;\" bgcolor=\"white\"></td><td style=\"border:none;\" bgcolor=\"white\"></td><td style=\"border:none;\" bgcolor=\"white\"></td><td style=\"border:none;\" bgcolor=\"white\"></td><td style=\"border:solid;\" bgcolor=\"white\"><font color=\"black\">PP_1_4: 0.00</font></td></tr></table> 29 / 112</div>\n",
       "<div class=\"item\"><table><tr><td></td><td>0: He</td><td>1: shot</td><td>2: the</td><td>3: elephant</td><td>4: in</td><td>5: his</td><td>6: pyjamas</td></tr>\n",
       "<tr><td>0: He</td><td style=\"border:solid;\" bgcolor=\"white\"><font color=\"black\">Subj: 0.00</font></td><td style=\"border:solid;\" bgcolor=\"white\"></td><td style=\"border:solid;\" bgcolor=\"white\"></td><td style=\"border:solid;\" bgcolor=\"white\"></td><td style=\"border:solid;\" bgcolor=\"white\"></td><td style=\"border:solid;\" bgcolor=\"white\"></td><td style=\"border:solid;\" bgcolor=\"white\"></td></tr>\n",
       "<tr><td>1: shot</td><td style=\"border:none;\" bgcolor=\"white\"></td><td style=\"border:solid;\" bgcolor=\"white\"><font color=\"black\">Verb: 0.00</font></td><td style=\"border:solid;\" bgcolor=\"white\"></td><td style=\"border:solid;\" bgcolor=\"white\"></td><td style=\"border:solid;\" bgcolor=\"white\"></td><td style=\"border:solid;\" bgcolor=\"white\"></td><td style=\"border:solid;\" bgcolor=\"white\"></td></tr>\n",
       "<tr><td>2: the</td><td style=\"border:none;\" bgcolor=\"white\"></td><td style=\"border:none;\" bgcolor=\"white\"></td><td style=\"border:solid;\" bgcolor=\"white\"><font color=\"black\">Obj_5: 0.00</font>, <font color=\"black\">Obj_8: 0.00</font></td><td style=\"border:solid;\" bgcolor=\"white\"><font color=\"black\">Obj: -0.69</font></td><td style=\"border:solid;\" bgcolor=\"white\"></td><td style=\"border:solid;\" bgcolor=\"white\"></td><td style=\"border:solid;\" bgcolor=\"white\"></td></tr>\n",
       "<tr><td>3: elephant</td><td style=\"border:none;\" bgcolor=\"white\"></td><td style=\"border:none;\" bgcolor=\"white\"></td><td style=\"border:none;\" bgcolor=\"white\"></td><td style=\"border:solid;\" bgcolor=\"#E1E1E1\"><font color=\"red\">Obj_6: 0.00</font>, <font color=\"black\">Obj_7_9: 0.00</font></td><td style=\"border:solid;\" bgcolor=\"#C3C3C3\"></td><td style=\"border:solid;\" bgcolor=\"white\"></td><td style=\"border:solid;\" bgcolor=\"white\"></td></tr>\n",
       "<tr><td>4: in</td><td style=\"border:none;\" bgcolor=\"white\"></td><td style=\"border:none;\" bgcolor=\"white\"></td><td style=\"border:none;\" bgcolor=\"white\"></td><td style=\"border:none;\" bgcolor=\"white\"></td><td style=\"border:solid;\" bgcolor=\"#E1E1E1\"><font color=\"red\">PP_2: 0.00</font></td><td style=\"border:solid;\" bgcolor=\"white\"></td><td style=\"border:solid;\" bgcolor=\"white\"></td></tr>\n",
       "<tr><td>5: his</td><td style=\"border:none;\" bgcolor=\"white\"></td><td style=\"border:none;\" bgcolor=\"white\"></td><td style=\"border:none;\" bgcolor=\"white\"></td><td style=\"border:none;\" bgcolor=\"white\"></td><td style=\"border:none;\" bgcolor=\"white\"></td><td style=\"border:solid;\" bgcolor=\"white\"><font color=\"black\">PP_1_3: 0.00</font></td><td style=\"border:solid;\" bgcolor=\"white\"></td></tr>\n",
       "<tr><td>6: pyjamas</td><td style=\"border:none;\" bgcolor=\"white\"></td><td style=\"border:none;\" bgcolor=\"white\"></td><td style=\"border:none;\" bgcolor=\"white\"></td><td style=\"border:none;\" bgcolor=\"white\"></td><td style=\"border:none;\" bgcolor=\"white\"></td><td style=\"border:none;\" bgcolor=\"white\"></td><td style=\"border:solid;\" bgcolor=\"white\"><font color=\"black\">PP_1_4: 0.00</font></td></tr></table> 30 / 112</div>\n",
       "<div class=\"item\"><table><tr><td></td><td>0: He</td><td>1: shot</td><td>2: the</td><td>3: elephant</td><td>4: in</td><td>5: his</td><td>6: pyjamas</td></tr>\n",
       "<tr><td>0: He</td><td style=\"border:solid;\" bgcolor=\"white\"><font color=\"black\">Subj: 0.00</font></td><td style=\"border:solid;\" bgcolor=\"white\"></td><td style=\"border:solid;\" bgcolor=\"white\"></td><td style=\"border:solid;\" bgcolor=\"white\"></td><td style=\"border:solid;\" bgcolor=\"white\"></td><td style=\"border:solid;\" bgcolor=\"white\"></td><td style=\"border:solid;\" bgcolor=\"white\"></td></tr>\n",
       "<tr><td>1: shot</td><td style=\"border:none;\" bgcolor=\"white\"></td><td style=\"border:solid;\" bgcolor=\"white\"><font color=\"black\">Verb: 0.00</font></td><td style=\"border:solid;\" bgcolor=\"white\"></td><td style=\"border:solid;\" bgcolor=\"white\"></td><td style=\"border:solid;\" bgcolor=\"white\"></td><td style=\"border:solid;\" bgcolor=\"white\"></td><td style=\"border:solid;\" bgcolor=\"white\"></td></tr>\n",
       "<tr><td>2: the</td><td style=\"border:none;\" bgcolor=\"white\"></td><td style=\"border:none;\" bgcolor=\"white\"></td><td style=\"border:solid;\" bgcolor=\"white\"><font color=\"black\">Obj_5: 0.00</font>, <font color=\"black\">Obj_8: 0.00</font></td><td style=\"border:solid;\" bgcolor=\"white\"><font color=\"black\">Obj: -0.69</font></td><td style=\"border:solid;\" bgcolor=\"white\"></td><td style=\"border:solid;\" bgcolor=\"white\"></td><td style=\"border:solid;\" bgcolor=\"white\"></td></tr>\n",
       "<tr><td>3: elephant</td><td style=\"border:none;\" bgcolor=\"white\"></td><td style=\"border:none;\" bgcolor=\"white\"></td><td style=\"border:none;\" bgcolor=\"white\"></td><td style=\"border:solid;\" bgcolor=\"#E1E1E1\"><font color=\"black\">Obj_6: 0.00</font>, <font color=\"red\">Obj_7_9: 0.00</font></td><td style=\"border:solid;\" bgcolor=\"#C3C3C3\"></td><td style=\"border:solid;\" bgcolor=\"white\"></td><td style=\"border:solid;\" bgcolor=\"white\"></td></tr>\n",
       "<tr><td>4: in</td><td style=\"border:none;\" bgcolor=\"white\"></td><td style=\"border:none;\" bgcolor=\"white\"></td><td style=\"border:none;\" bgcolor=\"white\"></td><td style=\"border:none;\" bgcolor=\"white\"></td><td style=\"border:solid;\" bgcolor=\"#E1E1E1\"><font color=\"red\">PP_2: 0.00</font></td><td style=\"border:solid;\" bgcolor=\"white\"></td><td style=\"border:solid;\" bgcolor=\"white\"></td></tr>\n",
       "<tr><td>5: his</td><td style=\"border:none;\" bgcolor=\"white\"></td><td style=\"border:none;\" bgcolor=\"white\"></td><td style=\"border:none;\" bgcolor=\"white\"></td><td style=\"border:none;\" bgcolor=\"white\"></td><td style=\"border:none;\" bgcolor=\"white\"></td><td style=\"border:solid;\" bgcolor=\"white\"><font color=\"black\">PP_1_3: 0.00</font></td><td style=\"border:solid;\" bgcolor=\"white\"></td></tr>\n",
       "<tr><td>6: pyjamas</td><td style=\"border:none;\" bgcolor=\"white\"></td><td style=\"border:none;\" bgcolor=\"white\"></td><td style=\"border:none;\" bgcolor=\"white\"></td><td style=\"border:none;\" bgcolor=\"white\"></td><td style=\"border:none;\" bgcolor=\"white\"></td><td style=\"border:none;\" bgcolor=\"white\"></td><td style=\"border:solid;\" bgcolor=\"white\"><font color=\"black\">PP_1_4: 0.00</font></td></tr></table> 31 / 112</div>\n",
       "<div class=\"item\"><table><tr><td></td><td>0: He</td><td>1: shot</td><td>2: the</td><td>3: elephant</td><td>4: in</td><td>5: his</td><td>6: pyjamas</td></tr>\n",
       "<tr><td>0: He</td><td style=\"border:solid;\" bgcolor=\"white\"><font color=\"black\">Subj: 0.00</font></td><td style=\"border:solid;\" bgcolor=\"white\"></td><td style=\"border:solid;\" bgcolor=\"white\"></td><td style=\"border:solid;\" bgcolor=\"white\"></td><td style=\"border:solid;\" bgcolor=\"white\"></td><td style=\"border:solid;\" bgcolor=\"white\"></td><td style=\"border:solid;\" bgcolor=\"white\"></td></tr>\n",
       "<tr><td>1: shot</td><td style=\"border:none;\" bgcolor=\"white\"></td><td style=\"border:solid;\" bgcolor=\"white\"><font color=\"black\">Verb: 0.00</font></td><td style=\"border:solid;\" bgcolor=\"white\"></td><td style=\"border:solid;\" bgcolor=\"white\"></td><td style=\"border:solid;\" bgcolor=\"white\"></td><td style=\"border:solid;\" bgcolor=\"white\"></td><td style=\"border:solid;\" bgcolor=\"white\"></td></tr>\n",
       "<tr><td>2: the</td><td style=\"border:none;\" bgcolor=\"white\"></td><td style=\"border:none;\" bgcolor=\"white\"></td><td style=\"border:solid;\" bgcolor=\"white\"><font color=\"black\">Obj_5: 0.00</font>, <font color=\"black\">Obj_8: 0.00</font></td><td style=\"border:solid;\" bgcolor=\"white\"><font color=\"black\">Obj: -0.69</font></td><td style=\"border:solid;\" bgcolor=\"white\"></td><td style=\"border:solid;\" bgcolor=\"white\"></td><td style=\"border:solid;\" bgcolor=\"white\"></td></tr>\n",
       "<tr><td>3: elephant</td><td style=\"border:none;\" bgcolor=\"white\"></td><td style=\"border:none;\" bgcolor=\"white\"></td><td style=\"border:none;\" bgcolor=\"white\"></td><td style=\"border:solid;\" bgcolor=\"white\"><font color=\"black\">Obj_6: 0.00</font>, <font color=\"black\">Obj_7_9: 0.00</font></td><td style=\"border:solid;\" bgcolor=\"white\"></td><td style=\"border:solid;\" bgcolor=\"white\"></td><td style=\"border:solid;\" bgcolor=\"white\"></td></tr>\n",
       "<tr><td>4: in</td><td style=\"border:none;\" bgcolor=\"white\"></td><td style=\"border:none;\" bgcolor=\"white\"></td><td style=\"border:none;\" bgcolor=\"white\"></td><td style=\"border:none;\" bgcolor=\"white\"></td><td style=\"border:solid;\" bgcolor=\"#E1E1E1\"><font color=\"black\">PP_2: 0.00</font></td><td style=\"border:solid;\" bgcolor=\"#C3C3C3\"></td><td style=\"border:solid;\" bgcolor=\"white\"></td></tr>\n",
       "<tr><td>5: his</td><td style=\"border:none;\" bgcolor=\"white\"></td><td style=\"border:none;\" bgcolor=\"white\"></td><td style=\"border:none;\" bgcolor=\"white\"></td><td style=\"border:none;\" bgcolor=\"white\"></td><td style=\"border:none;\" bgcolor=\"white\"></td><td style=\"border:solid;\" bgcolor=\"#E1E1E1\"><font color=\"black\">PP_1_3: 0.00</font></td><td style=\"border:solid;\" bgcolor=\"white\"></td></tr>\n",
       "<tr><td>6: pyjamas</td><td style=\"border:none;\" bgcolor=\"white\"></td><td style=\"border:none;\" bgcolor=\"white\"></td><td style=\"border:none;\" bgcolor=\"white\"></td><td style=\"border:none;\" bgcolor=\"white\"></td><td style=\"border:none;\" bgcolor=\"white\"></td><td style=\"border:none;\" bgcolor=\"white\"></td><td style=\"border:solid;\" bgcolor=\"white\"><font color=\"black\">PP_1_4: 0.00</font></td></tr></table> 32 / 112</div>\n",
       "<div class=\"item\"><table><tr><td></td><td>0: He</td><td>1: shot</td><td>2: the</td><td>3: elephant</td><td>4: in</td><td>5: his</td><td>6: pyjamas</td></tr>\n",
       "<tr><td>0: He</td><td style=\"border:solid;\" bgcolor=\"white\"><font color=\"black\">Subj: 0.00</font></td><td style=\"border:solid;\" bgcolor=\"white\"></td><td style=\"border:solid;\" bgcolor=\"white\"></td><td style=\"border:solid;\" bgcolor=\"white\"></td><td style=\"border:solid;\" bgcolor=\"white\"></td><td style=\"border:solid;\" bgcolor=\"white\"></td><td style=\"border:solid;\" bgcolor=\"white\"></td></tr>\n",
       "<tr><td>1: shot</td><td style=\"border:none;\" bgcolor=\"white\"></td><td style=\"border:solid;\" bgcolor=\"white\"><font color=\"black\">Verb: 0.00</font></td><td style=\"border:solid;\" bgcolor=\"white\"></td><td style=\"border:solid;\" bgcolor=\"white\"></td><td style=\"border:solid;\" bgcolor=\"white\"></td><td style=\"border:solid;\" bgcolor=\"white\"></td><td style=\"border:solid;\" bgcolor=\"white\"></td></tr>\n",
       "<tr><td>2: the</td><td style=\"border:none;\" bgcolor=\"white\"></td><td style=\"border:none;\" bgcolor=\"white\"></td><td style=\"border:solid;\" bgcolor=\"white\"><font color=\"black\">Obj_5: 0.00</font>, <font color=\"black\">Obj_8: 0.00</font></td><td style=\"border:solid;\" bgcolor=\"white\"><font color=\"black\">Obj: -0.69</font></td><td style=\"border:solid;\" bgcolor=\"white\"></td><td style=\"border:solid;\" bgcolor=\"white\"></td><td style=\"border:solid;\" bgcolor=\"white\"></td></tr>\n",
       "<tr><td>3: elephant</td><td style=\"border:none;\" bgcolor=\"white\"></td><td style=\"border:none;\" bgcolor=\"white\"></td><td style=\"border:none;\" bgcolor=\"white\"></td><td style=\"border:solid;\" bgcolor=\"white\"><font color=\"black\">Obj_6: 0.00</font>, <font color=\"black\">Obj_7_9: 0.00</font></td><td style=\"border:solid;\" bgcolor=\"white\"></td><td style=\"border:solid;\" bgcolor=\"white\"></td><td style=\"border:solid;\" bgcolor=\"white\"></td></tr>\n",
       "<tr><td>4: in</td><td style=\"border:none;\" bgcolor=\"white\"></td><td style=\"border:none;\" bgcolor=\"white\"></td><td style=\"border:none;\" bgcolor=\"white\"></td><td style=\"border:none;\" bgcolor=\"white\"></td><td style=\"border:solid;\" bgcolor=\"#E1E1E1\"><font color=\"red\">PP_2: 0.00</font></td><td style=\"border:solid;\" bgcolor=\"#C3C3C3\"></td><td style=\"border:solid;\" bgcolor=\"white\"></td></tr>\n",
       "<tr><td>5: his</td><td style=\"border:none;\" bgcolor=\"white\"></td><td style=\"border:none;\" bgcolor=\"white\"></td><td style=\"border:none;\" bgcolor=\"white\"></td><td style=\"border:none;\" bgcolor=\"white\"></td><td style=\"border:none;\" bgcolor=\"white\"></td><td style=\"border:solid;\" bgcolor=\"#E1E1E1\"><font color=\"red\">PP_1_3: 0.00</font></td><td style=\"border:solid;\" bgcolor=\"white\"></td></tr>\n",
       "<tr><td>6: pyjamas</td><td style=\"border:none;\" bgcolor=\"white\"></td><td style=\"border:none;\" bgcolor=\"white\"></td><td style=\"border:none;\" bgcolor=\"white\"></td><td style=\"border:none;\" bgcolor=\"white\"></td><td style=\"border:none;\" bgcolor=\"white\"></td><td style=\"border:none;\" bgcolor=\"white\"></td><td style=\"border:solid;\" bgcolor=\"white\"><font color=\"black\">PP_1_4: 0.00</font></td></tr></table> 33 / 112</div>\n",
       "<div class=\"item\"><table><tr><td></td><td>0: He</td><td>1: shot</td><td>2: the</td><td>3: elephant</td><td>4: in</td><td>5: his</td><td>6: pyjamas</td></tr>\n",
       "<tr><td>0: He</td><td style=\"border:solid;\" bgcolor=\"white\"><font color=\"black\">Subj: 0.00</font></td><td style=\"border:solid;\" bgcolor=\"white\"></td><td style=\"border:solid;\" bgcolor=\"white\"></td><td style=\"border:solid;\" bgcolor=\"white\"></td><td style=\"border:solid;\" bgcolor=\"white\"></td><td style=\"border:solid;\" bgcolor=\"white\"></td><td style=\"border:solid;\" bgcolor=\"white\"></td></tr>\n",
       "<tr><td>1: shot</td><td style=\"border:none;\" bgcolor=\"white\"></td><td style=\"border:solid;\" bgcolor=\"white\"><font color=\"black\">Verb: 0.00</font></td><td style=\"border:solid;\" bgcolor=\"white\"></td><td style=\"border:solid;\" bgcolor=\"white\"></td><td style=\"border:solid;\" bgcolor=\"white\"></td><td style=\"border:solid;\" bgcolor=\"white\"></td><td style=\"border:solid;\" bgcolor=\"white\"></td></tr>\n",
       "<tr><td>2: the</td><td style=\"border:none;\" bgcolor=\"white\"></td><td style=\"border:none;\" bgcolor=\"white\"></td><td style=\"border:solid;\" bgcolor=\"white\"><font color=\"black\">Obj_5: 0.00</font>, <font color=\"black\">Obj_8: 0.00</font></td><td style=\"border:solid;\" bgcolor=\"white\"><font color=\"black\">Obj: -0.69</font></td><td style=\"border:solid;\" bgcolor=\"white\"></td><td style=\"border:solid;\" bgcolor=\"white\"></td><td style=\"border:solid;\" bgcolor=\"white\"></td></tr>\n",
       "<tr><td>3: elephant</td><td style=\"border:none;\" bgcolor=\"white\"></td><td style=\"border:none;\" bgcolor=\"white\"></td><td style=\"border:none;\" bgcolor=\"white\"></td><td style=\"border:solid;\" bgcolor=\"white\"><font color=\"black\">Obj_6: 0.00</font>, <font color=\"black\">Obj_7_9: 0.00</font></td><td style=\"border:solid;\" bgcolor=\"white\"></td><td style=\"border:solid;\" bgcolor=\"white\"></td><td style=\"border:solid;\" bgcolor=\"white\"></td></tr>\n",
       "<tr><td>4: in</td><td style=\"border:none;\" bgcolor=\"white\"></td><td style=\"border:none;\" bgcolor=\"white\"></td><td style=\"border:none;\" bgcolor=\"white\"></td><td style=\"border:none;\" bgcolor=\"white\"></td><td style=\"border:solid;\" bgcolor=\"white\"><font color=\"black\">PP_2: 0.00</font></td><td style=\"border:solid;\" bgcolor=\"white\"></td><td style=\"border:solid;\" bgcolor=\"white\"></td></tr>\n",
       "<tr><td>5: his</td><td style=\"border:none;\" bgcolor=\"white\"></td><td style=\"border:none;\" bgcolor=\"white\"></td><td style=\"border:none;\" bgcolor=\"white\"></td><td style=\"border:none;\" bgcolor=\"white\"></td><td style=\"border:none;\" bgcolor=\"white\"></td><td style=\"border:solid;\" bgcolor=\"#E1E1E1\"><font color=\"black\">PP_1_3: 0.00</font></td><td style=\"border:solid;\" bgcolor=\"#C3C3C3\"></td></tr>\n",
       "<tr><td>6: pyjamas</td><td style=\"border:none;\" bgcolor=\"white\"></td><td style=\"border:none;\" bgcolor=\"white\"></td><td style=\"border:none;\" bgcolor=\"white\"></td><td style=\"border:none;\" bgcolor=\"white\"></td><td style=\"border:none;\" bgcolor=\"white\"></td><td style=\"border:none;\" bgcolor=\"white\"></td><td style=\"border:solid;\" bgcolor=\"#E1E1E1\"><font color=\"black\">PP_1_4: 0.00</font></td></tr></table> 34 / 112</div>\n",
       "<div class=\"item\"><table><tr><td></td><td>0: He</td><td>1: shot</td><td>2: the</td><td>3: elephant</td><td>4: in</td><td>5: his</td><td>6: pyjamas</td></tr>\n",
       "<tr><td>0: He</td><td style=\"border:solid;\" bgcolor=\"white\"><font color=\"black\">Subj: 0.00</font></td><td style=\"border:solid;\" bgcolor=\"white\"></td><td style=\"border:solid;\" bgcolor=\"white\"></td><td style=\"border:solid;\" bgcolor=\"white\"></td><td style=\"border:solid;\" bgcolor=\"white\"></td><td style=\"border:solid;\" bgcolor=\"white\"></td><td style=\"border:solid;\" bgcolor=\"white\"></td></tr>\n",
       "<tr><td>1: shot</td><td style=\"border:none;\" bgcolor=\"white\"></td><td style=\"border:solid;\" bgcolor=\"white\"><font color=\"black\">Verb: 0.00</font></td><td style=\"border:solid;\" bgcolor=\"white\"></td><td style=\"border:solid;\" bgcolor=\"white\"></td><td style=\"border:solid;\" bgcolor=\"white\"></td><td style=\"border:solid;\" bgcolor=\"white\"></td><td style=\"border:solid;\" bgcolor=\"white\"></td></tr>\n",
       "<tr><td>2: the</td><td style=\"border:none;\" bgcolor=\"white\"></td><td style=\"border:none;\" bgcolor=\"white\"></td><td style=\"border:solid;\" bgcolor=\"white\"><font color=\"black\">Obj_5: 0.00</font>, <font color=\"black\">Obj_8: 0.00</font></td><td style=\"border:solid;\" bgcolor=\"white\"><font color=\"black\">Obj: -0.69</font></td><td style=\"border:solid;\" bgcolor=\"white\"></td><td style=\"border:solid;\" bgcolor=\"white\"></td><td style=\"border:solid;\" bgcolor=\"white\"></td></tr>\n",
       "<tr><td>3: elephant</td><td style=\"border:none;\" bgcolor=\"white\"></td><td style=\"border:none;\" bgcolor=\"white\"></td><td style=\"border:none;\" bgcolor=\"white\"></td><td style=\"border:solid;\" bgcolor=\"white\"><font color=\"black\">Obj_6: 0.00</font>, <font color=\"black\">Obj_7_9: 0.00</font></td><td style=\"border:solid;\" bgcolor=\"white\"></td><td style=\"border:solid;\" bgcolor=\"white\"></td><td style=\"border:solid;\" bgcolor=\"white\"></td></tr>\n",
       "<tr><td>4: in</td><td style=\"border:none;\" bgcolor=\"white\"></td><td style=\"border:none;\" bgcolor=\"white\"></td><td style=\"border:none;\" bgcolor=\"white\"></td><td style=\"border:none;\" bgcolor=\"white\"></td><td style=\"border:solid;\" bgcolor=\"white\"><font color=\"black\">PP_2: 0.00</font></td><td style=\"border:solid;\" bgcolor=\"white\"></td><td style=\"border:solid;\" bgcolor=\"white\"></td></tr>\n",
       "<tr><td>5: his</td><td style=\"border:none;\" bgcolor=\"white\"></td><td style=\"border:none;\" bgcolor=\"white\"></td><td style=\"border:none;\" bgcolor=\"white\"></td><td style=\"border:none;\" bgcolor=\"white\"></td><td style=\"border:none;\" bgcolor=\"white\"></td><td style=\"border:solid;\" bgcolor=\"#E1E1E1\"><font color=\"red\">PP_1_3: 0.00</font></td><td style=\"border:solid;\" bgcolor=\"#C3C3C3\"></td></tr>\n",
       "<tr><td>6: pyjamas</td><td style=\"border:none;\" bgcolor=\"white\"></td><td style=\"border:none;\" bgcolor=\"white\"></td><td style=\"border:none;\" bgcolor=\"white\"></td><td style=\"border:none;\" bgcolor=\"white\"></td><td style=\"border:none;\" bgcolor=\"white\"></td><td style=\"border:none;\" bgcolor=\"white\"></td><td style=\"border:solid;\" bgcolor=\"#E1E1E1\"><font color=\"red\">PP_1_4: 0.00</font></td></tr></table> 35 / 112</div>\n",
       "<div class=\"item\"><table><tr><td></td><td>0: He</td><td>1: shot</td><td>2: the</td><td>3: elephant</td><td>4: in</td><td>5: his</td><td>6: pyjamas</td></tr>\n",
       "<tr><td>0: He</td><td style=\"border:solid;\" bgcolor=\"white\"><font color=\"black\">Subj: 0.00</font></td><td style=\"border:solid;\" bgcolor=\"white\"></td><td style=\"border:solid;\" bgcolor=\"white\"></td><td style=\"border:solid;\" bgcolor=\"white\"></td><td style=\"border:solid;\" bgcolor=\"white\"></td><td style=\"border:solid;\" bgcolor=\"white\"></td><td style=\"border:solid;\" bgcolor=\"white\"></td></tr>\n",
       "<tr><td>1: shot</td><td style=\"border:none;\" bgcolor=\"white\"></td><td style=\"border:solid;\" bgcolor=\"white\"><font color=\"black\">Verb: 0.00</font></td><td style=\"border:solid;\" bgcolor=\"white\"></td><td style=\"border:solid;\" bgcolor=\"white\"></td><td style=\"border:solid;\" bgcolor=\"white\"></td><td style=\"border:solid;\" bgcolor=\"white\"></td><td style=\"border:solid;\" bgcolor=\"white\"></td></tr>\n",
       "<tr><td>2: the</td><td style=\"border:none;\" bgcolor=\"white\"></td><td style=\"border:none;\" bgcolor=\"white\"></td><td style=\"border:solid;\" bgcolor=\"white\"><font color=\"black\">Obj_5: 0.00</font>, <font color=\"black\">Obj_8: 0.00</font></td><td style=\"border:solid;\" bgcolor=\"white\"><font color=\"black\">Obj: -0.69</font></td><td style=\"border:solid;\" bgcolor=\"white\"></td><td style=\"border:solid;\" bgcolor=\"white\"></td><td style=\"border:solid;\" bgcolor=\"white\"></td></tr>\n",
       "<tr><td>3: elephant</td><td style=\"border:none;\" bgcolor=\"white\"></td><td style=\"border:none;\" bgcolor=\"white\"></td><td style=\"border:none;\" bgcolor=\"white\"></td><td style=\"border:solid;\" bgcolor=\"white\"><font color=\"black\">Obj_6: 0.00</font>, <font color=\"black\">Obj_7_9: 0.00</font></td><td style=\"border:solid;\" bgcolor=\"white\"></td><td style=\"border:solid;\" bgcolor=\"white\"></td><td style=\"border:solid;\" bgcolor=\"white\"></td></tr>\n",
       "<tr><td>4: in</td><td style=\"border:none;\" bgcolor=\"white\"></td><td style=\"border:none;\" bgcolor=\"white\"></td><td style=\"border:none;\" bgcolor=\"white\"></td><td style=\"border:none;\" bgcolor=\"white\"></td><td style=\"border:solid;\" bgcolor=\"white\"><font color=\"black\">PP_2: 0.00</font></td><td style=\"border:solid;\" bgcolor=\"white\"></td><td style=\"border:solid;\" bgcolor=\"white\"></td></tr>\n",
       "<tr><td>5: his</td><td style=\"border:none;\" bgcolor=\"white\"></td><td style=\"border:none;\" bgcolor=\"white\"></td><td style=\"border:none;\" bgcolor=\"white\"></td><td style=\"border:none;\" bgcolor=\"white\"></td><td style=\"border:none;\" bgcolor=\"white\"></td><td style=\"border:solid;\" bgcolor=\"#E1E1E1\"><font color=\"red\">PP_1_3: 0.00</font></td><td style=\"border:solid;\" bgcolor=\"#C3C3C3\"><font color=\"blue\">PP_1: 0.00</font></td></tr>\n",
       "<tr><td>6: pyjamas</td><td style=\"border:none;\" bgcolor=\"white\"></td><td style=\"border:none;\" bgcolor=\"white\"></td><td style=\"border:none;\" bgcolor=\"white\"></td><td style=\"border:none;\" bgcolor=\"white\"></td><td style=\"border:none;\" bgcolor=\"white\"></td><td style=\"border:none;\" bgcolor=\"white\"></td><td style=\"border:solid;\" bgcolor=\"#E1E1E1\"><font color=\"red\">PP_1_4: 0.00</font></td></tr></table> 36 / 112</div>\n",
       "<div class=\"item\"><table><tr><td></td><td>0: He</td><td>1: shot</td><td>2: the</td><td>3: elephant</td><td>4: in</td><td>5: his</td><td>6: pyjamas</td></tr>\n",
       "<tr><td>0: He</td><td style=\"border:solid;\" bgcolor=\"#E1E1E1\"><font color=\"black\">Subj: 0.00</font></td><td style=\"border:solid;\" bgcolor=\"white\"></td><td style=\"border:solid;\" bgcolor=\"#C3C3C3\"></td><td style=\"border:solid;\" bgcolor=\"white\"></td><td style=\"border:solid;\" bgcolor=\"white\"></td><td style=\"border:solid;\" bgcolor=\"white\"></td><td style=\"border:solid;\" bgcolor=\"white\"></td></tr>\n",
       "<tr><td>1: shot</td><td style=\"border:none;\" bgcolor=\"white\"></td><td style=\"border:solid;\" bgcolor=\"white\"><font color=\"black\">Verb: 0.00</font></td><td style=\"border:solid;\" bgcolor=\"#E1E1E1\"></td><td style=\"border:solid;\" bgcolor=\"white\"></td><td style=\"border:solid;\" bgcolor=\"white\"></td><td style=\"border:solid;\" bgcolor=\"white\"></td><td style=\"border:solid;\" bgcolor=\"white\"></td></tr>\n",
       "<tr><td>2: the</td><td style=\"border:none;\" bgcolor=\"white\"></td><td style=\"border:none;\" bgcolor=\"white\"></td><td style=\"border:solid;\" bgcolor=\"white\"><font color=\"black\">Obj_5: 0.00</font>, <font color=\"black\">Obj_8: 0.00</font></td><td style=\"border:solid;\" bgcolor=\"white\"><font color=\"black\">Obj: -0.69</font></td><td style=\"border:solid;\" bgcolor=\"white\"></td><td style=\"border:solid;\" bgcolor=\"white\"></td><td style=\"border:solid;\" bgcolor=\"white\"></td></tr>\n",
       "<tr><td>3: elephant</td><td style=\"border:none;\" bgcolor=\"white\"></td><td style=\"border:none;\" bgcolor=\"white\"></td><td style=\"border:none;\" bgcolor=\"white\"></td><td style=\"border:solid;\" bgcolor=\"white\"><font color=\"black\">Obj_6: 0.00</font>, <font color=\"black\">Obj_7_9: 0.00</font></td><td style=\"border:solid;\" bgcolor=\"white\"></td><td style=\"border:solid;\" bgcolor=\"white\"></td><td style=\"border:solid;\" bgcolor=\"white\"></td></tr>\n",
       "<tr><td>4: in</td><td style=\"border:none;\" bgcolor=\"white\"></td><td style=\"border:none;\" bgcolor=\"white\"></td><td style=\"border:none;\" bgcolor=\"white\"></td><td style=\"border:none;\" bgcolor=\"white\"></td><td style=\"border:solid;\" bgcolor=\"white\"><font color=\"black\">PP_2: 0.00</font></td><td style=\"border:solid;\" bgcolor=\"white\"></td><td style=\"border:solid;\" bgcolor=\"white\"></td></tr>\n",
       "<tr><td>5: his</td><td style=\"border:none;\" bgcolor=\"white\"></td><td style=\"border:none;\" bgcolor=\"white\"></td><td style=\"border:none;\" bgcolor=\"white\"></td><td style=\"border:none;\" bgcolor=\"white\"></td><td style=\"border:none;\" bgcolor=\"white\"></td><td style=\"border:solid;\" bgcolor=\"white\"><font color=\"black\">PP_1_3: 0.00</font></td><td style=\"border:solid;\" bgcolor=\"white\"><font color=\"black\">PP_1: 0.00</font></td></tr>\n",
       "<tr><td>6: pyjamas</td><td style=\"border:none;\" bgcolor=\"white\"></td><td style=\"border:none;\" bgcolor=\"white\"></td><td style=\"border:none;\" bgcolor=\"white\"></td><td style=\"border:none;\" bgcolor=\"white\"></td><td style=\"border:none;\" bgcolor=\"white\"></td><td style=\"border:none;\" bgcolor=\"white\"></td><td style=\"border:solid;\" bgcolor=\"white\"><font color=\"black\">PP_1_4: 0.00</font></td></tr></table> 37 / 112</div>\n",
       "<div class=\"item\"><table><tr><td></td><td>0: He</td><td>1: shot</td><td>2: the</td><td>3: elephant</td><td>4: in</td><td>5: his</td><td>6: pyjamas</td></tr>\n",
       "<tr><td>0: He</td><td style=\"border:solid;\" bgcolor=\"white\"><font color=\"black\">Subj: 0.00</font></td><td style=\"border:solid;\" bgcolor=\"#E1E1E1\"></td><td style=\"border:solid;\" bgcolor=\"#C3C3C3\"></td><td style=\"border:solid;\" bgcolor=\"white\"></td><td style=\"border:solid;\" bgcolor=\"white\"></td><td style=\"border:solid;\" bgcolor=\"white\"></td><td style=\"border:solid;\" bgcolor=\"white\"></td></tr>\n",
       "<tr><td>1: shot</td><td style=\"border:none;\" bgcolor=\"white\"></td><td style=\"border:solid;\" bgcolor=\"white\"><font color=\"black\">Verb: 0.00</font></td><td style=\"border:solid;\" bgcolor=\"white\"></td><td style=\"border:solid;\" bgcolor=\"white\"></td><td style=\"border:solid;\" bgcolor=\"white\"></td><td style=\"border:solid;\" bgcolor=\"white\"></td><td style=\"border:solid;\" bgcolor=\"white\"></td></tr>\n",
       "<tr><td>2: the</td><td style=\"border:none;\" bgcolor=\"white\"></td><td style=\"border:none;\" bgcolor=\"white\"></td><td style=\"border:solid;\" bgcolor=\"#E1E1E1\"><font color=\"black\">Obj_5: 0.00</font>, <font color=\"black\">Obj_8: 0.00</font></td><td style=\"border:solid;\" bgcolor=\"white\"><font color=\"black\">Obj: -0.69</font></td><td style=\"border:solid;\" bgcolor=\"white\"></td><td style=\"border:solid;\" bgcolor=\"white\"></td><td style=\"border:solid;\" bgcolor=\"white\"></td></tr>\n",
       "<tr><td>3: elephant</td><td style=\"border:none;\" bgcolor=\"white\"></td><td style=\"border:none;\" bgcolor=\"white\"></td><td style=\"border:none;\" bgcolor=\"white\"></td><td style=\"border:solid;\" bgcolor=\"white\"><font color=\"black\">Obj_6: 0.00</font>, <font color=\"black\">Obj_7_9: 0.00</font></td><td style=\"border:solid;\" bgcolor=\"white\"></td><td style=\"border:solid;\" bgcolor=\"white\"></td><td style=\"border:solid;\" bgcolor=\"white\"></td></tr>\n",
       "<tr><td>4: in</td><td style=\"border:none;\" bgcolor=\"white\"></td><td style=\"border:none;\" bgcolor=\"white\"></td><td style=\"border:none;\" bgcolor=\"white\"></td><td style=\"border:none;\" bgcolor=\"white\"></td><td style=\"border:solid;\" bgcolor=\"white\"><font color=\"black\">PP_2: 0.00</font></td><td style=\"border:solid;\" bgcolor=\"white\"></td><td style=\"border:solid;\" bgcolor=\"white\"></td></tr>\n",
       "<tr><td>5: his</td><td style=\"border:none;\" bgcolor=\"white\"></td><td style=\"border:none;\" bgcolor=\"white\"></td><td style=\"border:none;\" bgcolor=\"white\"></td><td style=\"border:none;\" bgcolor=\"white\"></td><td style=\"border:none;\" bgcolor=\"white\"></td><td style=\"border:solid;\" bgcolor=\"white\"><font color=\"black\">PP_1_3: 0.00</font></td><td style=\"border:solid;\" bgcolor=\"white\"><font color=\"black\">PP_1: 0.00</font></td></tr>\n",
       "<tr><td>6: pyjamas</td><td style=\"border:none;\" bgcolor=\"white\"></td><td style=\"border:none;\" bgcolor=\"white\"></td><td style=\"border:none;\" bgcolor=\"white\"></td><td style=\"border:none;\" bgcolor=\"white\"></td><td style=\"border:none;\" bgcolor=\"white\"></td><td style=\"border:none;\" bgcolor=\"white\"></td><td style=\"border:solid;\" bgcolor=\"white\"><font color=\"black\">PP_1_4: 0.00</font></td></tr></table> 38 / 112</div>\n",
       "<div class=\"item\"><table><tr><td></td><td>0: He</td><td>1: shot</td><td>2: the</td><td>3: elephant</td><td>4: in</td><td>5: his</td><td>6: pyjamas</td></tr>\n",
       "<tr><td>0: He</td><td style=\"border:solid;\" bgcolor=\"white\"><font color=\"black\">Subj: 0.00</font></td><td style=\"border:solid;\" bgcolor=\"white\"></td><td style=\"border:solid;\" bgcolor=\"white\"></td><td style=\"border:solid;\" bgcolor=\"white\"></td><td style=\"border:solid;\" bgcolor=\"white\"></td><td style=\"border:solid;\" bgcolor=\"white\"></td><td style=\"border:solid;\" bgcolor=\"white\"></td></tr>\n",
       "<tr><td>1: shot</td><td style=\"border:none;\" bgcolor=\"white\"></td><td style=\"border:solid;\" bgcolor=\"#E1E1E1\"><font color=\"black\">Verb: 0.00</font></td><td style=\"border:solid;\" bgcolor=\"white\"></td><td style=\"border:solid;\" bgcolor=\"#C3C3C3\"></td><td style=\"border:solid;\" bgcolor=\"white\"></td><td style=\"border:solid;\" bgcolor=\"white\"></td><td style=\"border:solid;\" bgcolor=\"white\"></td></tr>\n",
       "<tr><td>2: the</td><td style=\"border:none;\" bgcolor=\"white\"></td><td style=\"border:none;\" bgcolor=\"white\"></td><td style=\"border:solid;\" bgcolor=\"white\"><font color=\"black\">Obj_5: 0.00</font>, <font color=\"black\">Obj_8: 0.00</font></td><td style=\"border:solid;\" bgcolor=\"#E1E1E1\"><font color=\"black\">Obj: -0.69</font></td><td style=\"border:solid;\" bgcolor=\"white\"></td><td style=\"border:solid;\" bgcolor=\"white\"></td><td style=\"border:solid;\" bgcolor=\"white\"></td></tr>\n",
       "<tr><td>3: elephant</td><td style=\"border:none;\" bgcolor=\"white\"></td><td style=\"border:none;\" bgcolor=\"white\"></td><td style=\"border:none;\" bgcolor=\"white\"></td><td style=\"border:solid;\" bgcolor=\"white\"><font color=\"black\">Obj_6: 0.00</font>, <font color=\"black\">Obj_7_9: 0.00</font></td><td style=\"border:solid;\" bgcolor=\"white\"></td><td style=\"border:solid;\" bgcolor=\"white\"></td><td style=\"border:solid;\" bgcolor=\"white\"></td></tr>\n",
       "<tr><td>4: in</td><td style=\"border:none;\" bgcolor=\"white\"></td><td style=\"border:none;\" bgcolor=\"white\"></td><td style=\"border:none;\" bgcolor=\"white\"></td><td style=\"border:none;\" bgcolor=\"white\"></td><td style=\"border:solid;\" bgcolor=\"white\"><font color=\"black\">PP_2: 0.00</font></td><td style=\"border:solid;\" bgcolor=\"white\"></td><td style=\"border:solid;\" bgcolor=\"white\"></td></tr>\n",
       "<tr><td>5: his</td><td style=\"border:none;\" bgcolor=\"white\"></td><td style=\"border:none;\" bgcolor=\"white\"></td><td style=\"border:none;\" bgcolor=\"white\"></td><td style=\"border:none;\" bgcolor=\"white\"></td><td style=\"border:none;\" bgcolor=\"white\"></td><td style=\"border:solid;\" bgcolor=\"white\"><font color=\"black\">PP_1_3: 0.00</font></td><td style=\"border:solid;\" bgcolor=\"white\"><font color=\"black\">PP_1: 0.00</font></td></tr>\n",
       "<tr><td>6: pyjamas</td><td style=\"border:none;\" bgcolor=\"white\"></td><td style=\"border:none;\" bgcolor=\"white\"></td><td style=\"border:none;\" bgcolor=\"white\"></td><td style=\"border:none;\" bgcolor=\"white\"></td><td style=\"border:none;\" bgcolor=\"white\"></td><td style=\"border:none;\" bgcolor=\"white\"></td><td style=\"border:solid;\" bgcolor=\"white\"><font color=\"black\">PP_1_4: 0.00</font></td></tr></table> 39 / 112</div>\n",
       "<div class=\"item\"><table><tr><td></td><td>0: He</td><td>1: shot</td><td>2: the</td><td>3: elephant</td><td>4: in</td><td>5: his</td><td>6: pyjamas</td></tr>\n",
       "<tr><td>0: He</td><td style=\"border:solid;\" bgcolor=\"white\"><font color=\"black\">Subj: 0.00</font></td><td style=\"border:solid;\" bgcolor=\"white\"></td><td style=\"border:solid;\" bgcolor=\"white\"></td><td style=\"border:solid;\" bgcolor=\"white\"></td><td style=\"border:solid;\" bgcolor=\"white\"></td><td style=\"border:solid;\" bgcolor=\"white\"></td><td style=\"border:solid;\" bgcolor=\"white\"></td></tr>\n",
       "<tr><td>1: shot</td><td style=\"border:none;\" bgcolor=\"white\"></td><td style=\"border:solid;\" bgcolor=\"#E1E1E1\"><font color=\"red\">Verb: 0.00</font></td><td style=\"border:solid;\" bgcolor=\"white\"></td><td style=\"border:solid;\" bgcolor=\"#C3C3C3\"></td><td style=\"border:solid;\" bgcolor=\"white\"></td><td style=\"border:solid;\" bgcolor=\"white\"></td><td style=\"border:solid;\" bgcolor=\"white\"></td></tr>\n",
       "<tr><td>2: the</td><td style=\"border:none;\" bgcolor=\"white\"></td><td style=\"border:none;\" bgcolor=\"white\"></td><td style=\"border:solid;\" bgcolor=\"white\"><font color=\"black\">Obj_5: 0.00</font>, <font color=\"black\">Obj_8: 0.00</font></td><td style=\"border:solid;\" bgcolor=\"#E1E1E1\"><font color=\"red\">Obj: -0.69</font></td><td style=\"border:solid;\" bgcolor=\"white\"></td><td style=\"border:solid;\" bgcolor=\"white\"></td><td style=\"border:solid;\" bgcolor=\"white\"></td></tr>\n",
       "<tr><td>3: elephant</td><td style=\"border:none;\" bgcolor=\"white\"></td><td style=\"border:none;\" bgcolor=\"white\"></td><td style=\"border:none;\" bgcolor=\"white\"></td><td style=\"border:solid;\" bgcolor=\"white\"><font color=\"black\">Obj_6: 0.00</font>, <font color=\"black\">Obj_7_9: 0.00</font></td><td style=\"border:solid;\" bgcolor=\"white\"></td><td style=\"border:solid;\" bgcolor=\"white\"></td><td style=\"border:solid;\" bgcolor=\"white\"></td></tr>\n",
       "<tr><td>4: in</td><td style=\"border:none;\" bgcolor=\"white\"></td><td style=\"border:none;\" bgcolor=\"white\"></td><td style=\"border:none;\" bgcolor=\"white\"></td><td style=\"border:none;\" bgcolor=\"white\"></td><td style=\"border:solid;\" bgcolor=\"white\"><font color=\"black\">PP_2: 0.00</font></td><td style=\"border:solid;\" bgcolor=\"white\"></td><td style=\"border:solid;\" bgcolor=\"white\"></td></tr>\n",
       "<tr><td>5: his</td><td style=\"border:none;\" bgcolor=\"white\"></td><td style=\"border:none;\" bgcolor=\"white\"></td><td style=\"border:none;\" bgcolor=\"white\"></td><td style=\"border:none;\" bgcolor=\"white\"></td><td style=\"border:none;\" bgcolor=\"white\"></td><td style=\"border:solid;\" bgcolor=\"white\"><font color=\"black\">PP_1_3: 0.00</font></td><td style=\"border:solid;\" bgcolor=\"white\"><font color=\"black\">PP_1: 0.00</font></td></tr>\n",
       "<tr><td>6: pyjamas</td><td style=\"border:none;\" bgcolor=\"white\"></td><td style=\"border:none;\" bgcolor=\"white\"></td><td style=\"border:none;\" bgcolor=\"white\"></td><td style=\"border:none;\" bgcolor=\"white\"></td><td style=\"border:none;\" bgcolor=\"white\"></td><td style=\"border:none;\" bgcolor=\"white\"></td><td style=\"border:solid;\" bgcolor=\"white\"><font color=\"black\">PP_1_4: 0.00</font></td></tr></table> 40 / 112</div>\n",
       "<div class=\"item\"><table><tr><td></td><td>0: He</td><td>1: shot</td><td>2: the</td><td>3: elephant</td><td>4: in</td><td>5: his</td><td>6: pyjamas</td></tr>\n",
       "<tr><td>0: He</td><td style=\"border:solid;\" bgcolor=\"white\"><font color=\"black\">Subj: 0.00</font></td><td style=\"border:solid;\" bgcolor=\"white\"></td><td style=\"border:solid;\" bgcolor=\"white\"></td><td style=\"border:solid;\" bgcolor=\"white\"></td><td style=\"border:solid;\" bgcolor=\"white\"></td><td style=\"border:solid;\" bgcolor=\"white\"></td><td style=\"border:solid;\" bgcolor=\"white\"></td></tr>\n",
       "<tr><td>1: shot</td><td style=\"border:none;\" bgcolor=\"white\"></td><td style=\"border:solid;\" bgcolor=\"#E1E1E1\"><font color=\"red\">Verb: 0.00</font></td><td style=\"border:solid;\" bgcolor=\"white\"></td><td style=\"border:solid;\" bgcolor=\"#C3C3C3\"><font color=\"blue\">VP: -1.90</font></td><td style=\"border:solid;\" bgcolor=\"white\"></td><td style=\"border:solid;\" bgcolor=\"white\"></td><td style=\"border:solid;\" bgcolor=\"white\"></td></tr>\n",
       "<tr><td>2: the</td><td style=\"border:none;\" bgcolor=\"white\"></td><td style=\"border:none;\" bgcolor=\"white\"></td><td style=\"border:solid;\" bgcolor=\"white\"><font color=\"black\">Obj_5: 0.00</font>, <font color=\"black\">Obj_8: 0.00</font></td><td style=\"border:solid;\" bgcolor=\"#E1E1E1\"><font color=\"red\">Obj: -0.69</font></td><td style=\"border:solid;\" bgcolor=\"white\"></td><td style=\"border:solid;\" bgcolor=\"white\"></td><td style=\"border:solid;\" bgcolor=\"white\"></td></tr>\n",
       "<tr><td>3: elephant</td><td style=\"border:none;\" bgcolor=\"white\"></td><td style=\"border:none;\" bgcolor=\"white\"></td><td style=\"border:none;\" bgcolor=\"white\"></td><td style=\"border:solid;\" bgcolor=\"white\"><font color=\"black\">Obj_6: 0.00</font>, <font color=\"black\">Obj_7_9: 0.00</font></td><td style=\"border:solid;\" bgcolor=\"white\"></td><td style=\"border:solid;\" bgcolor=\"white\"></td><td style=\"border:solid;\" bgcolor=\"white\"></td></tr>\n",
       "<tr><td>4: in</td><td style=\"border:none;\" bgcolor=\"white\"></td><td style=\"border:none;\" bgcolor=\"white\"></td><td style=\"border:none;\" bgcolor=\"white\"></td><td style=\"border:none;\" bgcolor=\"white\"></td><td style=\"border:solid;\" bgcolor=\"white\"><font color=\"black\">PP_2: 0.00</font></td><td style=\"border:solid;\" bgcolor=\"white\"></td><td style=\"border:solid;\" bgcolor=\"white\"></td></tr>\n",
       "<tr><td>5: his</td><td style=\"border:none;\" bgcolor=\"white\"></td><td style=\"border:none;\" bgcolor=\"white\"></td><td style=\"border:none;\" bgcolor=\"white\"></td><td style=\"border:none;\" bgcolor=\"white\"></td><td style=\"border:none;\" bgcolor=\"white\"></td><td style=\"border:solid;\" bgcolor=\"white\"><font color=\"black\">PP_1_3: 0.00</font></td><td style=\"border:solid;\" bgcolor=\"white\"><font color=\"black\">PP_1: 0.00</font></td></tr>\n",
       "<tr><td>6: pyjamas</td><td style=\"border:none;\" bgcolor=\"white\"></td><td style=\"border:none;\" bgcolor=\"white\"></td><td style=\"border:none;\" bgcolor=\"white\"></td><td style=\"border:none;\" bgcolor=\"white\"></td><td style=\"border:none;\" bgcolor=\"white\"></td><td style=\"border:none;\" bgcolor=\"white\"></td><td style=\"border:solid;\" bgcolor=\"white\"><font color=\"black\">PP_1_4: 0.00</font></td></tr></table> 41 / 112</div>\n",
       "<div class=\"item\"><table><tr><td></td><td>0: He</td><td>1: shot</td><td>2: the</td><td>3: elephant</td><td>4: in</td><td>5: his</td><td>6: pyjamas</td></tr>\n",
       "<tr><td>0: He</td><td style=\"border:solid;\" bgcolor=\"white\"><font color=\"black\">Subj: 0.00</font></td><td style=\"border:solid;\" bgcolor=\"white\"></td><td style=\"border:solid;\" bgcolor=\"white\"></td><td style=\"border:solid;\" bgcolor=\"white\"></td><td style=\"border:solid;\" bgcolor=\"white\"></td><td style=\"border:solid;\" bgcolor=\"white\"></td><td style=\"border:solid;\" bgcolor=\"white\"></td></tr>\n",
       "<tr><td>1: shot</td><td style=\"border:none;\" bgcolor=\"white\"></td><td style=\"border:solid;\" bgcolor=\"white\"><font color=\"black\">Verb: 0.00</font></td><td style=\"border:solid;\" bgcolor=\"#E1E1E1\"></td><td style=\"border:solid;\" bgcolor=\"#C3C3C3\"><font color=\"black\">VP: -1.90</font></td><td style=\"border:solid;\" bgcolor=\"white\"></td><td style=\"border:solid;\" bgcolor=\"white\"></td><td style=\"border:solid;\" bgcolor=\"white\"></td></tr>\n",
       "<tr><td>2: the</td><td style=\"border:none;\" bgcolor=\"white\"></td><td style=\"border:none;\" bgcolor=\"white\"></td><td style=\"border:solid;\" bgcolor=\"white\"><font color=\"black\">Obj_5: 0.00</font>, <font color=\"black\">Obj_8: 0.00</font></td><td style=\"border:solid;\" bgcolor=\"white\"><font color=\"black\">Obj: -0.69</font></td><td style=\"border:solid;\" bgcolor=\"white\"></td><td style=\"border:solid;\" bgcolor=\"white\"></td><td style=\"border:solid;\" bgcolor=\"white\"></td></tr>\n",
       "<tr><td>3: elephant</td><td style=\"border:none;\" bgcolor=\"white\"></td><td style=\"border:none;\" bgcolor=\"white\"></td><td style=\"border:none;\" bgcolor=\"white\"></td><td style=\"border:solid;\" bgcolor=\"#E1E1E1\"><font color=\"black\">Obj_6: 0.00</font>, <font color=\"black\">Obj_7_9: 0.00</font></td><td style=\"border:solid;\" bgcolor=\"white\"></td><td style=\"border:solid;\" bgcolor=\"white\"></td><td style=\"border:solid;\" bgcolor=\"white\"></td></tr>\n",
       "<tr><td>4: in</td><td style=\"border:none;\" bgcolor=\"white\"></td><td style=\"border:none;\" bgcolor=\"white\"></td><td style=\"border:none;\" bgcolor=\"white\"></td><td style=\"border:none;\" bgcolor=\"white\"></td><td style=\"border:solid;\" bgcolor=\"white\"><font color=\"black\">PP_2: 0.00</font></td><td style=\"border:solid;\" bgcolor=\"white\"></td><td style=\"border:solid;\" bgcolor=\"white\"></td></tr>\n",
       "<tr><td>5: his</td><td style=\"border:none;\" bgcolor=\"white\"></td><td style=\"border:none;\" bgcolor=\"white\"></td><td style=\"border:none;\" bgcolor=\"white\"></td><td style=\"border:none;\" bgcolor=\"white\"></td><td style=\"border:none;\" bgcolor=\"white\"></td><td style=\"border:solid;\" bgcolor=\"white\"><font color=\"black\">PP_1_3: 0.00</font></td><td style=\"border:solid;\" bgcolor=\"white\"><font color=\"black\">PP_1: 0.00</font></td></tr>\n",
       "<tr><td>6: pyjamas</td><td style=\"border:none;\" bgcolor=\"white\"></td><td style=\"border:none;\" bgcolor=\"white\"></td><td style=\"border:none;\" bgcolor=\"white\"></td><td style=\"border:none;\" bgcolor=\"white\"></td><td style=\"border:none;\" bgcolor=\"white\"></td><td style=\"border:none;\" bgcolor=\"white\"></td><td style=\"border:solid;\" bgcolor=\"white\"><font color=\"black\">PP_1_4: 0.00</font></td></tr></table> 42 / 112</div>\n",
       "<div class=\"item\"><table><tr><td></td><td>0: He</td><td>1: shot</td><td>2: the</td><td>3: elephant</td><td>4: in</td><td>5: his</td><td>6: pyjamas</td></tr>\n",
       "<tr><td>0: He</td><td style=\"border:solid;\" bgcolor=\"white\"><font color=\"black\">Subj: 0.00</font></td><td style=\"border:solid;\" bgcolor=\"white\"></td><td style=\"border:solid;\" bgcolor=\"white\"></td><td style=\"border:solid;\" bgcolor=\"white\"></td><td style=\"border:solid;\" bgcolor=\"white\"></td><td style=\"border:solid;\" bgcolor=\"white\"></td><td style=\"border:solid;\" bgcolor=\"white\"></td></tr>\n",
       "<tr><td>1: shot</td><td style=\"border:none;\" bgcolor=\"white\"></td><td style=\"border:solid;\" bgcolor=\"white\"><font color=\"black\">Verb: 0.00</font></td><td style=\"border:solid;\" bgcolor=\"white\"></td><td style=\"border:solid;\" bgcolor=\"white\"><font color=\"black\">VP: -1.90</font></td><td style=\"border:solid;\" bgcolor=\"white\"></td><td style=\"border:solid;\" bgcolor=\"white\"></td><td style=\"border:solid;\" bgcolor=\"white\"></td></tr>\n",
       "<tr><td>2: the</td><td style=\"border:none;\" bgcolor=\"white\"></td><td style=\"border:none;\" bgcolor=\"white\"></td><td style=\"border:solid;\" bgcolor=\"#E1E1E1\"><font color=\"black\">Obj_5: 0.00</font>, <font color=\"black\">Obj_8: 0.00</font></td><td style=\"border:solid;\" bgcolor=\"white\"><font color=\"black\">Obj: -0.69</font></td><td style=\"border:solid;\" bgcolor=\"#C3C3C3\"></td><td style=\"border:solid;\" bgcolor=\"white\"></td><td style=\"border:solid;\" bgcolor=\"white\"></td></tr>\n",
       "<tr><td>3: elephant</td><td style=\"border:none;\" bgcolor=\"white\"></td><td style=\"border:none;\" bgcolor=\"white\"></td><td style=\"border:none;\" bgcolor=\"white\"></td><td style=\"border:solid;\" bgcolor=\"white\"><font color=\"black\">Obj_6: 0.00</font>, <font color=\"black\">Obj_7_9: 0.00</font></td><td style=\"border:solid;\" bgcolor=\"#E1E1E1\"></td><td style=\"border:solid;\" bgcolor=\"white\"></td><td style=\"border:solid;\" bgcolor=\"white\"></td></tr>\n",
       "<tr><td>4: in</td><td style=\"border:none;\" bgcolor=\"white\"></td><td style=\"border:none;\" bgcolor=\"white\"></td><td style=\"border:none;\" bgcolor=\"white\"></td><td style=\"border:none;\" bgcolor=\"white\"></td><td style=\"border:solid;\" bgcolor=\"white\"><font color=\"black\">PP_2: 0.00</font></td><td style=\"border:solid;\" bgcolor=\"white\"></td><td style=\"border:solid;\" bgcolor=\"white\"></td></tr>\n",
       "<tr><td>5: his</td><td style=\"border:none;\" bgcolor=\"white\"></td><td style=\"border:none;\" bgcolor=\"white\"></td><td style=\"border:none;\" bgcolor=\"white\"></td><td style=\"border:none;\" bgcolor=\"white\"></td><td style=\"border:none;\" bgcolor=\"white\"></td><td style=\"border:solid;\" bgcolor=\"white\"><font color=\"black\">PP_1_3: 0.00</font></td><td style=\"border:solid;\" bgcolor=\"white\"><font color=\"black\">PP_1: 0.00</font></td></tr>\n",
       "<tr><td>6: pyjamas</td><td style=\"border:none;\" bgcolor=\"white\"></td><td style=\"border:none;\" bgcolor=\"white\"></td><td style=\"border:none;\" bgcolor=\"white\"></td><td style=\"border:none;\" bgcolor=\"white\"></td><td style=\"border:none;\" bgcolor=\"white\"></td><td style=\"border:none;\" bgcolor=\"white\"></td><td style=\"border:solid;\" bgcolor=\"white\"><font color=\"black\">PP_1_4: 0.00</font></td></tr></table> 43 / 112</div>\n",
       "<div class=\"item\"><table><tr><td></td><td>0: He</td><td>1: shot</td><td>2: the</td><td>3: elephant</td><td>4: in</td><td>5: his</td><td>6: pyjamas</td></tr>\n",
       "<tr><td>0: He</td><td style=\"border:solid;\" bgcolor=\"white\"><font color=\"black\">Subj: 0.00</font></td><td style=\"border:solid;\" bgcolor=\"white\"></td><td style=\"border:solid;\" bgcolor=\"white\"></td><td style=\"border:solid;\" bgcolor=\"white\"></td><td style=\"border:solid;\" bgcolor=\"white\"></td><td style=\"border:solid;\" bgcolor=\"white\"></td><td style=\"border:solid;\" bgcolor=\"white\"></td></tr>\n",
       "<tr><td>1: shot</td><td style=\"border:none;\" bgcolor=\"white\"></td><td style=\"border:solid;\" bgcolor=\"white\"><font color=\"black\">Verb: 0.00</font></td><td style=\"border:solid;\" bgcolor=\"white\"></td><td style=\"border:solid;\" bgcolor=\"white\"><font color=\"black\">VP: -1.90</font></td><td style=\"border:solid;\" bgcolor=\"white\"></td><td style=\"border:solid;\" bgcolor=\"white\"></td><td style=\"border:solid;\" bgcolor=\"white\"></td></tr>\n",
       "<tr><td>2: the</td><td style=\"border:none;\" bgcolor=\"white\"></td><td style=\"border:none;\" bgcolor=\"white\"></td><td style=\"border:solid;\" bgcolor=\"white\"><font color=\"black\">Obj_5: 0.00</font>, <font color=\"black\">Obj_8: 0.00</font></td><td style=\"border:solid;\" bgcolor=\"#E1E1E1\"><font color=\"black\">Obj: -0.69</font></td><td style=\"border:solid;\" bgcolor=\"#C3C3C3\"></td><td style=\"border:solid;\" bgcolor=\"white\"></td><td style=\"border:solid;\" bgcolor=\"white\"></td></tr>\n",
       "<tr><td>3: elephant</td><td style=\"border:none;\" bgcolor=\"white\"></td><td style=\"border:none;\" bgcolor=\"white\"></td><td style=\"border:none;\" bgcolor=\"white\"></td><td style=\"border:solid;\" bgcolor=\"white\"><font color=\"black\">Obj_6: 0.00</font>, <font color=\"black\">Obj_7_9: 0.00</font></td><td style=\"border:solid;\" bgcolor=\"white\"></td><td style=\"border:solid;\" bgcolor=\"white\"></td><td style=\"border:solid;\" bgcolor=\"white\"></td></tr>\n",
       "<tr><td>4: in</td><td style=\"border:none;\" bgcolor=\"white\"></td><td style=\"border:none;\" bgcolor=\"white\"></td><td style=\"border:none;\" bgcolor=\"white\"></td><td style=\"border:none;\" bgcolor=\"white\"></td><td style=\"border:solid;\" bgcolor=\"#E1E1E1\"><font color=\"black\">PP_2: 0.00</font></td><td style=\"border:solid;\" bgcolor=\"white\"></td><td style=\"border:solid;\" bgcolor=\"white\"></td></tr>\n",
       "<tr><td>5: his</td><td style=\"border:none;\" bgcolor=\"white\"></td><td style=\"border:none;\" bgcolor=\"white\"></td><td style=\"border:none;\" bgcolor=\"white\"></td><td style=\"border:none;\" bgcolor=\"white\"></td><td style=\"border:none;\" bgcolor=\"white\"></td><td style=\"border:solid;\" bgcolor=\"white\"><font color=\"black\">PP_1_3: 0.00</font></td><td style=\"border:solid;\" bgcolor=\"white\"><font color=\"black\">PP_1: 0.00</font></td></tr>\n",
       "<tr><td>6: pyjamas</td><td style=\"border:none;\" bgcolor=\"white\"></td><td style=\"border:none;\" bgcolor=\"white\"></td><td style=\"border:none;\" bgcolor=\"white\"></td><td style=\"border:none;\" bgcolor=\"white\"></td><td style=\"border:none;\" bgcolor=\"white\"></td><td style=\"border:none;\" bgcolor=\"white\"></td><td style=\"border:solid;\" bgcolor=\"white\"><font color=\"black\">PP_1_4: 0.00</font></td></tr></table> 44 / 112</div>\n",
       "<div class=\"item\"><table><tr><td></td><td>0: He</td><td>1: shot</td><td>2: the</td><td>3: elephant</td><td>4: in</td><td>5: his</td><td>6: pyjamas</td></tr>\n",
       "<tr><td>0: He</td><td style=\"border:solid;\" bgcolor=\"white\"><font color=\"black\">Subj: 0.00</font></td><td style=\"border:solid;\" bgcolor=\"white\"></td><td style=\"border:solid;\" bgcolor=\"white\"></td><td style=\"border:solid;\" bgcolor=\"white\"></td><td style=\"border:solid;\" bgcolor=\"white\"></td><td style=\"border:solid;\" bgcolor=\"white\"></td><td style=\"border:solid;\" bgcolor=\"white\"></td></tr>\n",
       "<tr><td>1: shot</td><td style=\"border:none;\" bgcolor=\"white\"></td><td style=\"border:solid;\" bgcolor=\"white\"><font color=\"black\">Verb: 0.00</font></td><td style=\"border:solid;\" bgcolor=\"white\"></td><td style=\"border:solid;\" bgcolor=\"white\"><font color=\"black\">VP: -1.90</font></td><td style=\"border:solid;\" bgcolor=\"white\"></td><td style=\"border:solid;\" bgcolor=\"white\"></td><td style=\"border:solid;\" bgcolor=\"white\"></td></tr>\n",
       "<tr><td>2: the</td><td style=\"border:none;\" bgcolor=\"white\"></td><td style=\"border:none;\" bgcolor=\"white\"></td><td style=\"border:solid;\" bgcolor=\"white\"><font color=\"black\">Obj_5: 0.00</font>, <font color=\"black\">Obj_8: 0.00</font></td><td style=\"border:solid;\" bgcolor=\"#E1E1E1\"><font color=\"red\">Obj: -0.69</font></td><td style=\"border:solid;\" bgcolor=\"#C3C3C3\"></td><td style=\"border:solid;\" bgcolor=\"white\"></td><td style=\"border:solid;\" bgcolor=\"white\"></td></tr>\n",
       "<tr><td>3: elephant</td><td style=\"border:none;\" bgcolor=\"white\"></td><td style=\"border:none;\" bgcolor=\"white\"></td><td style=\"border:none;\" bgcolor=\"white\"></td><td style=\"border:solid;\" bgcolor=\"white\"><font color=\"black\">Obj_6: 0.00</font>, <font color=\"black\">Obj_7_9: 0.00</font></td><td style=\"border:solid;\" bgcolor=\"white\"></td><td style=\"border:solid;\" bgcolor=\"white\"></td><td style=\"border:solid;\" bgcolor=\"white\"></td></tr>\n",
       "<tr><td>4: in</td><td style=\"border:none;\" bgcolor=\"white\"></td><td style=\"border:none;\" bgcolor=\"white\"></td><td style=\"border:none;\" bgcolor=\"white\"></td><td style=\"border:none;\" bgcolor=\"white\"></td><td style=\"border:solid;\" bgcolor=\"#E1E1E1\"><font color=\"red\">PP_2: 0.00</font></td><td style=\"border:solid;\" bgcolor=\"white\"></td><td style=\"border:solid;\" bgcolor=\"white\"></td></tr>\n",
       "<tr><td>5: his</td><td style=\"border:none;\" bgcolor=\"white\"></td><td style=\"border:none;\" bgcolor=\"white\"></td><td style=\"border:none;\" bgcolor=\"white\"></td><td style=\"border:none;\" bgcolor=\"white\"></td><td style=\"border:none;\" bgcolor=\"white\"></td><td style=\"border:solid;\" bgcolor=\"white\"><font color=\"black\">PP_1_3: 0.00</font></td><td style=\"border:solid;\" bgcolor=\"white\"><font color=\"black\">PP_1: 0.00</font></td></tr>\n",
       "<tr><td>6: pyjamas</td><td style=\"border:none;\" bgcolor=\"white\"></td><td style=\"border:none;\" bgcolor=\"white\"></td><td style=\"border:none;\" bgcolor=\"white\"></td><td style=\"border:none;\" bgcolor=\"white\"></td><td style=\"border:none;\" bgcolor=\"white\"></td><td style=\"border:none;\" bgcolor=\"white\"></td><td style=\"border:solid;\" bgcolor=\"white\"><font color=\"black\">PP_1_4: 0.00</font></td></tr></table> 45 / 112</div>\n",
       "<div class=\"item\"><table><tr><td></td><td>0: He</td><td>1: shot</td><td>2: the</td><td>3: elephant</td><td>4: in</td><td>5: his</td><td>6: pyjamas</td></tr>\n",
       "<tr><td>0: He</td><td style=\"border:solid;\" bgcolor=\"white\"><font color=\"black\">Subj: 0.00</font></td><td style=\"border:solid;\" bgcolor=\"white\"></td><td style=\"border:solid;\" bgcolor=\"white\"></td><td style=\"border:solid;\" bgcolor=\"white\"></td><td style=\"border:solid;\" bgcolor=\"white\"></td><td style=\"border:solid;\" bgcolor=\"white\"></td><td style=\"border:solid;\" bgcolor=\"white\"></td></tr>\n",
       "<tr><td>1: shot</td><td style=\"border:none;\" bgcolor=\"white\"></td><td style=\"border:solid;\" bgcolor=\"white\"><font color=\"black\">Verb: 0.00</font></td><td style=\"border:solid;\" bgcolor=\"white\"></td><td style=\"border:solid;\" bgcolor=\"white\"><font color=\"black\">VP: -1.90</font></td><td style=\"border:solid;\" bgcolor=\"white\"></td><td style=\"border:solid;\" bgcolor=\"white\"></td><td style=\"border:solid;\" bgcolor=\"white\"></td></tr>\n",
       "<tr><td>2: the</td><td style=\"border:none;\" bgcolor=\"white\"></td><td style=\"border:none;\" bgcolor=\"white\"></td><td style=\"border:solid;\" bgcolor=\"white\"><font color=\"black\">Obj_5: 0.00</font>, <font color=\"black\">Obj_8: 0.00</font></td><td style=\"border:solid;\" bgcolor=\"white\"><font color=\"black\">Obj: -0.69</font></td><td style=\"border:solid;\" bgcolor=\"white\"></td><td style=\"border:solid;\" bgcolor=\"white\"></td><td style=\"border:solid;\" bgcolor=\"white\"></td></tr>\n",
       "<tr><td>3: elephant</td><td style=\"border:none;\" bgcolor=\"white\"></td><td style=\"border:none;\" bgcolor=\"white\"></td><td style=\"border:none;\" bgcolor=\"white\"></td><td style=\"border:solid;\" bgcolor=\"#E1E1E1\"><font color=\"black\">Obj_6: 0.00</font>, <font color=\"black\">Obj_7_9: 0.00</font></td><td style=\"border:solid;\" bgcolor=\"white\"></td><td style=\"border:solid;\" bgcolor=\"#C3C3C3\"></td><td style=\"border:solid;\" bgcolor=\"white\"></td></tr>\n",
       "<tr><td>4: in</td><td style=\"border:none;\" bgcolor=\"white\"></td><td style=\"border:none;\" bgcolor=\"white\"></td><td style=\"border:none;\" bgcolor=\"white\"></td><td style=\"border:none;\" bgcolor=\"white\"></td><td style=\"border:solid;\" bgcolor=\"white\"><font color=\"black\">PP_2: 0.00</font></td><td style=\"border:solid;\" bgcolor=\"#E1E1E1\"></td><td style=\"border:solid;\" bgcolor=\"white\"></td></tr>\n",
       "<tr><td>5: his</td><td style=\"border:none;\" bgcolor=\"white\"></td><td style=\"border:none;\" bgcolor=\"white\"></td><td style=\"border:none;\" bgcolor=\"white\"></td><td style=\"border:none;\" bgcolor=\"white\"></td><td style=\"border:none;\" bgcolor=\"white\"></td><td style=\"border:solid;\" bgcolor=\"white\"><font color=\"black\">PP_1_3: 0.00</font></td><td style=\"border:solid;\" bgcolor=\"white\"><font color=\"black\">PP_1: 0.00</font></td></tr>\n",
       "<tr><td>6: pyjamas</td><td style=\"border:none;\" bgcolor=\"white\"></td><td style=\"border:none;\" bgcolor=\"white\"></td><td style=\"border:none;\" bgcolor=\"white\"></td><td style=\"border:none;\" bgcolor=\"white\"></td><td style=\"border:none;\" bgcolor=\"white\"></td><td style=\"border:none;\" bgcolor=\"white\"></td><td style=\"border:solid;\" bgcolor=\"white\"><font color=\"black\">PP_1_4: 0.00</font></td></tr></table> 46 / 112</div>\n",
       "<div class=\"item\"><table><tr><td></td><td>0: He</td><td>1: shot</td><td>2: the</td><td>3: elephant</td><td>4: in</td><td>5: his</td><td>6: pyjamas</td></tr>\n",
       "<tr><td>0: He</td><td style=\"border:solid;\" bgcolor=\"white\"><font color=\"black\">Subj: 0.00</font></td><td style=\"border:solid;\" bgcolor=\"white\"></td><td style=\"border:solid;\" bgcolor=\"white\"></td><td style=\"border:solid;\" bgcolor=\"white\"></td><td style=\"border:solid;\" bgcolor=\"white\"></td><td style=\"border:solid;\" bgcolor=\"white\"></td><td style=\"border:solid;\" bgcolor=\"white\"></td></tr>\n",
       "<tr><td>1: shot</td><td style=\"border:none;\" bgcolor=\"white\"></td><td style=\"border:solid;\" bgcolor=\"white\"><font color=\"black\">Verb: 0.00</font></td><td style=\"border:solid;\" bgcolor=\"white\"></td><td style=\"border:solid;\" bgcolor=\"white\"><font color=\"black\">VP: -1.90</font></td><td style=\"border:solid;\" bgcolor=\"white\"></td><td style=\"border:solid;\" bgcolor=\"white\"></td><td style=\"border:solid;\" bgcolor=\"white\"></td></tr>\n",
       "<tr><td>2: the</td><td style=\"border:none;\" bgcolor=\"white\"></td><td style=\"border:none;\" bgcolor=\"white\"></td><td style=\"border:solid;\" bgcolor=\"white\"><font color=\"black\">Obj_5: 0.00</font>, <font color=\"black\">Obj_8: 0.00</font></td><td style=\"border:solid;\" bgcolor=\"white\"><font color=\"black\">Obj: -0.69</font></td><td style=\"border:solid;\" bgcolor=\"white\"></td><td style=\"border:solid;\" bgcolor=\"white\"></td><td style=\"border:solid;\" bgcolor=\"white\"></td></tr>\n",
       "<tr><td>3: elephant</td><td style=\"border:none;\" bgcolor=\"white\"></td><td style=\"border:none;\" bgcolor=\"white\"></td><td style=\"border:none;\" bgcolor=\"white\"></td><td style=\"border:solid;\" bgcolor=\"white\"><font color=\"black\">Obj_6: 0.00</font>, <font color=\"black\">Obj_7_9: 0.00</font></td><td style=\"border:solid;\" bgcolor=\"#E1E1E1\"></td><td style=\"border:solid;\" bgcolor=\"#C3C3C3\"></td><td style=\"border:solid;\" bgcolor=\"white\"></td></tr>\n",
       "<tr><td>4: in</td><td style=\"border:none;\" bgcolor=\"white\"></td><td style=\"border:none;\" bgcolor=\"white\"></td><td style=\"border:none;\" bgcolor=\"white\"></td><td style=\"border:none;\" bgcolor=\"white\"></td><td style=\"border:solid;\" bgcolor=\"white\"><font color=\"black\">PP_2: 0.00</font></td><td style=\"border:solid;\" bgcolor=\"white\"></td><td style=\"border:solid;\" bgcolor=\"white\"></td></tr>\n",
       "<tr><td>5: his</td><td style=\"border:none;\" bgcolor=\"white\"></td><td style=\"border:none;\" bgcolor=\"white\"></td><td style=\"border:none;\" bgcolor=\"white\"></td><td style=\"border:none;\" bgcolor=\"white\"></td><td style=\"border:none;\" bgcolor=\"white\"></td><td style=\"border:solid;\" bgcolor=\"#E1E1E1\"><font color=\"black\">PP_1_3: 0.00</font></td><td style=\"border:solid;\" bgcolor=\"white\"><font color=\"black\">PP_1: 0.00</font></td></tr>\n",
       "<tr><td>6: pyjamas</td><td style=\"border:none;\" bgcolor=\"white\"></td><td style=\"border:none;\" bgcolor=\"white\"></td><td style=\"border:none;\" bgcolor=\"white\"></td><td style=\"border:none;\" bgcolor=\"white\"></td><td style=\"border:none;\" bgcolor=\"white\"></td><td style=\"border:none;\" bgcolor=\"white\"></td><td style=\"border:solid;\" bgcolor=\"white\"><font color=\"black\">PP_1_4: 0.00</font></td></tr></table> 47 / 112</div>\n",
       "<div class=\"item\"><table><tr><td></td><td>0: He</td><td>1: shot</td><td>2: the</td><td>3: elephant</td><td>4: in</td><td>5: his</td><td>6: pyjamas</td></tr>\n",
       "<tr><td>0: He</td><td style=\"border:solid;\" bgcolor=\"white\"><font color=\"black\">Subj: 0.00</font></td><td style=\"border:solid;\" bgcolor=\"white\"></td><td style=\"border:solid;\" bgcolor=\"white\"></td><td style=\"border:solid;\" bgcolor=\"white\"></td><td style=\"border:solid;\" bgcolor=\"white\"></td><td style=\"border:solid;\" bgcolor=\"white\"></td><td style=\"border:solid;\" bgcolor=\"white\"></td></tr>\n",
       "<tr><td>1: shot</td><td style=\"border:none;\" bgcolor=\"white\"></td><td style=\"border:solid;\" bgcolor=\"white\"><font color=\"black\">Verb: 0.00</font></td><td style=\"border:solid;\" bgcolor=\"white\"></td><td style=\"border:solid;\" bgcolor=\"white\"><font color=\"black\">VP: -1.90</font></td><td style=\"border:solid;\" bgcolor=\"white\"></td><td style=\"border:solid;\" bgcolor=\"white\"></td><td style=\"border:solid;\" bgcolor=\"white\"></td></tr>\n",
       "<tr><td>2: the</td><td style=\"border:none;\" bgcolor=\"white\"></td><td style=\"border:none;\" bgcolor=\"white\"></td><td style=\"border:solid;\" bgcolor=\"white\"><font color=\"black\">Obj_5: 0.00</font>, <font color=\"black\">Obj_8: 0.00</font></td><td style=\"border:solid;\" bgcolor=\"white\"><font color=\"black\">Obj: -0.69</font></td><td style=\"border:solid;\" bgcolor=\"white\"></td><td style=\"border:solid;\" bgcolor=\"white\"></td><td style=\"border:solid;\" bgcolor=\"white\"></td></tr>\n",
       "<tr><td>3: elephant</td><td style=\"border:none;\" bgcolor=\"white\"></td><td style=\"border:none;\" bgcolor=\"white\"></td><td style=\"border:none;\" bgcolor=\"white\"></td><td style=\"border:solid;\" bgcolor=\"white\"><font color=\"black\">Obj_6: 0.00</font>, <font color=\"black\">Obj_7_9: 0.00</font></td><td style=\"border:solid;\" bgcolor=\"white\"></td><td style=\"border:solid;\" bgcolor=\"white\"></td><td style=\"border:solid;\" bgcolor=\"white\"></td></tr>\n",
       "<tr><td>4: in</td><td style=\"border:none;\" bgcolor=\"white\"></td><td style=\"border:none;\" bgcolor=\"white\"></td><td style=\"border:none;\" bgcolor=\"white\"></td><td style=\"border:none;\" bgcolor=\"white\"></td><td style=\"border:solid;\" bgcolor=\"#E1E1E1\"><font color=\"black\">PP_2: 0.00</font></td><td style=\"border:solid;\" bgcolor=\"white\"></td><td style=\"border:solid;\" bgcolor=\"#C3C3C3\"></td></tr>\n",
       "<tr><td>5: his</td><td style=\"border:none;\" bgcolor=\"white\"></td><td style=\"border:none;\" bgcolor=\"white\"></td><td style=\"border:none;\" bgcolor=\"white\"></td><td style=\"border:none;\" bgcolor=\"white\"></td><td style=\"border:none;\" bgcolor=\"white\"></td><td style=\"border:solid;\" bgcolor=\"white\"><font color=\"black\">PP_1_3: 0.00</font></td><td style=\"border:solid;\" bgcolor=\"#E1E1E1\"><font color=\"black\">PP_1: 0.00</font></td></tr>\n",
       "<tr><td>6: pyjamas</td><td style=\"border:none;\" bgcolor=\"white\"></td><td style=\"border:none;\" bgcolor=\"white\"></td><td style=\"border:none;\" bgcolor=\"white\"></td><td style=\"border:none;\" bgcolor=\"white\"></td><td style=\"border:none;\" bgcolor=\"white\"></td><td style=\"border:none;\" bgcolor=\"white\"></td><td style=\"border:solid;\" bgcolor=\"white\"><font color=\"black\">PP_1_4: 0.00</font></td></tr></table> 48 / 112</div>\n",
       "<div class=\"item\"><table><tr><td></td><td>0: He</td><td>1: shot</td><td>2: the</td><td>3: elephant</td><td>4: in</td><td>5: his</td><td>6: pyjamas</td></tr>\n",
       "<tr><td>0: He</td><td style=\"border:solid;\" bgcolor=\"white\"><font color=\"black\">Subj: 0.00</font></td><td style=\"border:solid;\" bgcolor=\"white\"></td><td style=\"border:solid;\" bgcolor=\"white\"></td><td style=\"border:solid;\" bgcolor=\"white\"></td><td style=\"border:solid;\" bgcolor=\"white\"></td><td style=\"border:solid;\" bgcolor=\"white\"></td><td style=\"border:solid;\" bgcolor=\"white\"></td></tr>\n",
       "<tr><td>1: shot</td><td style=\"border:none;\" bgcolor=\"white\"></td><td style=\"border:solid;\" bgcolor=\"white\"><font color=\"black\">Verb: 0.00</font></td><td style=\"border:solid;\" bgcolor=\"white\"></td><td style=\"border:solid;\" bgcolor=\"white\"><font color=\"black\">VP: -1.90</font></td><td style=\"border:solid;\" bgcolor=\"white\"></td><td style=\"border:solid;\" bgcolor=\"white\"></td><td style=\"border:solid;\" bgcolor=\"white\"></td></tr>\n",
       "<tr><td>2: the</td><td style=\"border:none;\" bgcolor=\"white\"></td><td style=\"border:none;\" bgcolor=\"white\"></td><td style=\"border:solid;\" bgcolor=\"white\"><font color=\"black\">Obj_5: 0.00</font>, <font color=\"black\">Obj_8: 0.00</font></td><td style=\"border:solid;\" bgcolor=\"white\"><font color=\"black\">Obj: -0.69</font></td><td style=\"border:solid;\" bgcolor=\"white\"></td><td style=\"border:solid;\" bgcolor=\"white\"></td><td style=\"border:solid;\" bgcolor=\"white\"></td></tr>\n",
       "<tr><td>3: elephant</td><td style=\"border:none;\" bgcolor=\"white\"></td><td style=\"border:none;\" bgcolor=\"white\"></td><td style=\"border:none;\" bgcolor=\"white\"></td><td style=\"border:solid;\" bgcolor=\"white\"><font color=\"black\">Obj_6: 0.00</font>, <font color=\"black\">Obj_7_9: 0.00</font></td><td style=\"border:solid;\" bgcolor=\"white\"></td><td style=\"border:solid;\" bgcolor=\"white\"></td><td style=\"border:solid;\" bgcolor=\"white\"></td></tr>\n",
       "<tr><td>4: in</td><td style=\"border:none;\" bgcolor=\"white\"></td><td style=\"border:none;\" bgcolor=\"white\"></td><td style=\"border:none;\" bgcolor=\"white\"></td><td style=\"border:none;\" bgcolor=\"white\"></td><td style=\"border:solid;\" bgcolor=\"#E1E1E1\"><font color=\"red\">PP_2: 0.00</font></td><td style=\"border:solid;\" bgcolor=\"white\"></td><td style=\"border:solid;\" bgcolor=\"#C3C3C3\"></td></tr>\n",
       "<tr><td>5: his</td><td style=\"border:none;\" bgcolor=\"white\"></td><td style=\"border:none;\" bgcolor=\"white\"></td><td style=\"border:none;\" bgcolor=\"white\"></td><td style=\"border:none;\" bgcolor=\"white\"></td><td style=\"border:none;\" bgcolor=\"white\"></td><td style=\"border:solid;\" bgcolor=\"white\"><font color=\"black\">PP_1_3: 0.00</font></td><td style=\"border:solid;\" bgcolor=\"#E1E1E1\"><font color=\"red\">PP_1: 0.00</font></td></tr>\n",
       "<tr><td>6: pyjamas</td><td style=\"border:none;\" bgcolor=\"white\"></td><td style=\"border:none;\" bgcolor=\"white\"></td><td style=\"border:none;\" bgcolor=\"white\"></td><td style=\"border:none;\" bgcolor=\"white\"></td><td style=\"border:none;\" bgcolor=\"white\"></td><td style=\"border:none;\" bgcolor=\"white\"></td><td style=\"border:solid;\" bgcolor=\"white\"><font color=\"black\">PP_1_4: 0.00</font></td></tr></table> 49 / 112</div>\n",
       "<div class=\"item\"><table><tr><td></td><td>0: He</td><td>1: shot</td><td>2: the</td><td>3: elephant</td><td>4: in</td><td>5: his</td><td>6: pyjamas</td></tr>\n",
       "<tr><td>0: He</td><td style=\"border:solid;\" bgcolor=\"white\"><font color=\"black\">Subj: 0.00</font></td><td style=\"border:solid;\" bgcolor=\"white\"></td><td style=\"border:solid;\" bgcolor=\"white\"></td><td style=\"border:solid;\" bgcolor=\"white\"></td><td style=\"border:solid;\" bgcolor=\"white\"></td><td style=\"border:solid;\" bgcolor=\"white\"></td><td style=\"border:solid;\" bgcolor=\"white\"></td></tr>\n",
       "<tr><td>1: shot</td><td style=\"border:none;\" bgcolor=\"white\"></td><td style=\"border:solid;\" bgcolor=\"white\"><font color=\"black\">Verb: 0.00</font></td><td style=\"border:solid;\" bgcolor=\"white\"></td><td style=\"border:solid;\" bgcolor=\"white\"><font color=\"black\">VP: -1.90</font></td><td style=\"border:solid;\" bgcolor=\"white\"></td><td style=\"border:solid;\" bgcolor=\"white\"></td><td style=\"border:solid;\" bgcolor=\"white\"></td></tr>\n",
       "<tr><td>2: the</td><td style=\"border:none;\" bgcolor=\"white\"></td><td style=\"border:none;\" bgcolor=\"white\"></td><td style=\"border:solid;\" bgcolor=\"white\"><font color=\"black\">Obj_5: 0.00</font>, <font color=\"black\">Obj_8: 0.00</font></td><td style=\"border:solid;\" bgcolor=\"white\"><font color=\"black\">Obj: -0.69</font></td><td style=\"border:solid;\" bgcolor=\"white\"></td><td style=\"border:solid;\" bgcolor=\"white\"></td><td style=\"border:solid;\" bgcolor=\"white\"></td></tr>\n",
       "<tr><td>3: elephant</td><td style=\"border:none;\" bgcolor=\"white\"></td><td style=\"border:none;\" bgcolor=\"white\"></td><td style=\"border:none;\" bgcolor=\"white\"></td><td style=\"border:solid;\" bgcolor=\"white\"><font color=\"black\">Obj_6: 0.00</font>, <font color=\"black\">Obj_7_9: 0.00</font></td><td style=\"border:solid;\" bgcolor=\"white\"></td><td style=\"border:solid;\" bgcolor=\"white\"></td><td style=\"border:solid;\" bgcolor=\"white\"></td></tr>\n",
       "<tr><td>4: in</td><td style=\"border:none;\" bgcolor=\"white\"></td><td style=\"border:none;\" bgcolor=\"white\"></td><td style=\"border:none;\" bgcolor=\"white\"></td><td style=\"border:none;\" bgcolor=\"white\"></td><td style=\"border:solid;\" bgcolor=\"#E1E1E1\"><font color=\"red\">PP_2: 0.00</font></td><td style=\"border:solid;\" bgcolor=\"white\"></td><td style=\"border:solid;\" bgcolor=\"#C3C3C3\"><font color=\"blue\">PP: 0.00</font></td></tr>\n",
       "<tr><td>5: his</td><td style=\"border:none;\" bgcolor=\"white\"></td><td style=\"border:none;\" bgcolor=\"white\"></td><td style=\"border:none;\" bgcolor=\"white\"></td><td style=\"border:none;\" bgcolor=\"white\"></td><td style=\"border:none;\" bgcolor=\"white\"></td><td style=\"border:solid;\" bgcolor=\"white\"><font color=\"black\">PP_1_3: 0.00</font></td><td style=\"border:solid;\" bgcolor=\"#E1E1E1\"><font color=\"red\">PP_1: 0.00</font></td></tr>\n",
       "<tr><td>6: pyjamas</td><td style=\"border:none;\" bgcolor=\"white\"></td><td style=\"border:none;\" bgcolor=\"white\"></td><td style=\"border:none;\" bgcolor=\"white\"></td><td style=\"border:none;\" bgcolor=\"white\"></td><td style=\"border:none;\" bgcolor=\"white\"></td><td style=\"border:none;\" bgcolor=\"white\"></td><td style=\"border:solid;\" bgcolor=\"white\"><font color=\"black\">PP_1_4: 0.00</font></td></tr></table> 50 / 112</div>\n",
       "<div class=\"item\"><table><tr><td></td><td>0: He</td><td>1: shot</td><td>2: the</td><td>3: elephant</td><td>4: in</td><td>5: his</td><td>6: pyjamas</td></tr>\n",
       "<tr><td>0: He</td><td style=\"border:solid;\" bgcolor=\"white\"><font color=\"black\">Subj: 0.00</font></td><td style=\"border:solid;\" bgcolor=\"white\"></td><td style=\"border:solid;\" bgcolor=\"white\"></td><td style=\"border:solid;\" bgcolor=\"white\"></td><td style=\"border:solid;\" bgcolor=\"white\"></td><td style=\"border:solid;\" bgcolor=\"white\"></td><td style=\"border:solid;\" bgcolor=\"white\"></td></tr>\n",
       "<tr><td>1: shot</td><td style=\"border:none;\" bgcolor=\"white\"></td><td style=\"border:solid;\" bgcolor=\"white\"><font color=\"black\">Verb: 0.00</font></td><td style=\"border:solid;\" bgcolor=\"white\"></td><td style=\"border:solid;\" bgcolor=\"white\"><font color=\"black\">VP: -1.90</font></td><td style=\"border:solid;\" bgcolor=\"white\"></td><td style=\"border:solid;\" bgcolor=\"white\"></td><td style=\"border:solid;\" bgcolor=\"white\"></td></tr>\n",
       "<tr><td>2: the</td><td style=\"border:none;\" bgcolor=\"white\"></td><td style=\"border:none;\" bgcolor=\"white\"></td><td style=\"border:solid;\" bgcolor=\"white\"><font color=\"black\">Obj_5: 0.00</font>, <font color=\"black\">Obj_8: 0.00</font></td><td style=\"border:solid;\" bgcolor=\"white\"><font color=\"black\">Obj: -0.69</font></td><td style=\"border:solid;\" bgcolor=\"white\"></td><td style=\"border:solid;\" bgcolor=\"white\"></td><td style=\"border:solid;\" bgcolor=\"white\"></td></tr>\n",
       "<tr><td>3: elephant</td><td style=\"border:none;\" bgcolor=\"white\"></td><td style=\"border:none;\" bgcolor=\"white\"></td><td style=\"border:none;\" bgcolor=\"white\"></td><td style=\"border:solid;\" bgcolor=\"white\"><font color=\"black\">Obj_6: 0.00</font>, <font color=\"black\">Obj_7_9: 0.00</font></td><td style=\"border:solid;\" bgcolor=\"white\"></td><td style=\"border:solid;\" bgcolor=\"white\"></td><td style=\"border:solid;\" bgcolor=\"white\"></td></tr>\n",
       "<tr><td>4: in</td><td style=\"border:none;\" bgcolor=\"white\"></td><td style=\"border:none;\" bgcolor=\"white\"></td><td style=\"border:none;\" bgcolor=\"white\"></td><td style=\"border:none;\" bgcolor=\"white\"></td><td style=\"border:solid;\" bgcolor=\"white\"><font color=\"black\">PP_2: 0.00</font></td><td style=\"border:solid;\" bgcolor=\"#E1E1E1\"></td><td style=\"border:solid;\" bgcolor=\"#C3C3C3\"><font color=\"black\">PP: 0.00</font></td></tr>\n",
       "<tr><td>5: his</td><td style=\"border:none;\" bgcolor=\"white\"></td><td style=\"border:none;\" bgcolor=\"white\"></td><td style=\"border:none;\" bgcolor=\"white\"></td><td style=\"border:none;\" bgcolor=\"white\"></td><td style=\"border:none;\" bgcolor=\"white\"></td><td style=\"border:solid;\" bgcolor=\"white\"><font color=\"black\">PP_1_3: 0.00</font></td><td style=\"border:solid;\" bgcolor=\"white\"><font color=\"black\">PP_1: 0.00</font></td></tr>\n",
       "<tr><td>6: pyjamas</td><td style=\"border:none;\" bgcolor=\"white\"></td><td style=\"border:none;\" bgcolor=\"white\"></td><td style=\"border:none;\" bgcolor=\"white\"></td><td style=\"border:none;\" bgcolor=\"white\"></td><td style=\"border:none;\" bgcolor=\"white\"></td><td style=\"border:none;\" bgcolor=\"white\"></td><td style=\"border:solid;\" bgcolor=\"#E1E1E1\"><font color=\"black\">PP_1_4: 0.00</font></td></tr></table> 51 / 112</div>\n",
       "<div class=\"item\"><table><tr><td></td><td>0: He</td><td>1: shot</td><td>2: the</td><td>3: elephant</td><td>4: in</td><td>5: his</td><td>6: pyjamas</td></tr>\n",
       "<tr><td>0: He</td><td style=\"border:solid;\" bgcolor=\"#E1E1E1\"><font color=\"black\">Subj: 0.00</font></td><td style=\"border:solid;\" bgcolor=\"white\"></td><td style=\"border:solid;\" bgcolor=\"white\"></td><td style=\"border:solid;\" bgcolor=\"#C3C3C3\"></td><td style=\"border:solid;\" bgcolor=\"white\"></td><td style=\"border:solid;\" bgcolor=\"white\"></td><td style=\"border:solid;\" bgcolor=\"white\"></td></tr>\n",
       "<tr><td>1: shot</td><td style=\"border:none;\" bgcolor=\"white\"></td><td style=\"border:solid;\" bgcolor=\"white\"><font color=\"black\">Verb: 0.00</font></td><td style=\"border:solid;\" bgcolor=\"white\"></td><td style=\"border:solid;\" bgcolor=\"#E1E1E1\"><font color=\"black\">VP: -1.90</font></td><td style=\"border:solid;\" bgcolor=\"white\"></td><td style=\"border:solid;\" bgcolor=\"white\"></td><td style=\"border:solid;\" bgcolor=\"white\"></td></tr>\n",
       "<tr><td>2: the</td><td style=\"border:none;\" bgcolor=\"white\"></td><td style=\"border:none;\" bgcolor=\"white\"></td><td style=\"border:solid;\" bgcolor=\"white\"><font color=\"black\">Obj_5: 0.00</font>, <font color=\"black\">Obj_8: 0.00</font></td><td style=\"border:solid;\" bgcolor=\"white\"><font color=\"black\">Obj: -0.69</font></td><td style=\"border:solid;\" bgcolor=\"white\"></td><td style=\"border:solid;\" bgcolor=\"white\"></td><td style=\"border:solid;\" bgcolor=\"white\"></td></tr>\n",
       "<tr><td>3: elephant</td><td style=\"border:none;\" bgcolor=\"white\"></td><td style=\"border:none;\" bgcolor=\"white\"></td><td style=\"border:none;\" bgcolor=\"white\"></td><td style=\"border:solid;\" bgcolor=\"white\"><font color=\"black\">Obj_6: 0.00</font>, <font color=\"black\">Obj_7_9: 0.00</font></td><td style=\"border:solid;\" bgcolor=\"white\"></td><td style=\"border:solid;\" bgcolor=\"white\"></td><td style=\"border:solid;\" bgcolor=\"white\"></td></tr>\n",
       "<tr><td>4: in</td><td style=\"border:none;\" bgcolor=\"white\"></td><td style=\"border:none;\" bgcolor=\"white\"></td><td style=\"border:none;\" bgcolor=\"white\"></td><td style=\"border:none;\" bgcolor=\"white\"></td><td style=\"border:solid;\" bgcolor=\"white\"><font color=\"black\">PP_2: 0.00</font></td><td style=\"border:solid;\" bgcolor=\"white\"></td><td style=\"border:solid;\" bgcolor=\"white\"><font color=\"black\">PP: 0.00</font></td></tr>\n",
       "<tr><td>5: his</td><td style=\"border:none;\" bgcolor=\"white\"></td><td style=\"border:none;\" bgcolor=\"white\"></td><td style=\"border:none;\" bgcolor=\"white\"></td><td style=\"border:none;\" bgcolor=\"white\"></td><td style=\"border:none;\" bgcolor=\"white\"></td><td style=\"border:solid;\" bgcolor=\"white\"><font color=\"black\">PP_1_3: 0.00</font></td><td style=\"border:solid;\" bgcolor=\"white\"><font color=\"black\">PP_1: 0.00</font></td></tr>\n",
       "<tr><td>6: pyjamas</td><td style=\"border:none;\" bgcolor=\"white\"></td><td style=\"border:none;\" bgcolor=\"white\"></td><td style=\"border:none;\" bgcolor=\"white\"></td><td style=\"border:none;\" bgcolor=\"white\"></td><td style=\"border:none;\" bgcolor=\"white\"></td><td style=\"border:none;\" bgcolor=\"white\"></td><td style=\"border:solid;\" bgcolor=\"white\"><font color=\"black\">PP_1_4: 0.00</font></td></tr></table> 52 / 112</div>\n",
       "<div class=\"item\"><table><tr><td></td><td>0: He</td><td>1: shot</td><td>2: the</td><td>3: elephant</td><td>4: in</td><td>5: his</td><td>6: pyjamas</td></tr>\n",
       "<tr><td>0: He</td><td style=\"border:solid;\" bgcolor=\"#E1E1E1\"><font color=\"red\">Subj: 0.00</font></td><td style=\"border:solid;\" bgcolor=\"white\"></td><td style=\"border:solid;\" bgcolor=\"white\"></td><td style=\"border:solid;\" bgcolor=\"#C3C3C3\"></td><td style=\"border:solid;\" bgcolor=\"white\"></td><td style=\"border:solid;\" bgcolor=\"white\"></td><td style=\"border:solid;\" bgcolor=\"white\"></td></tr>\n",
       "<tr><td>1: shot</td><td style=\"border:none;\" bgcolor=\"white\"></td><td style=\"border:solid;\" bgcolor=\"white\"><font color=\"black\">Verb: 0.00</font></td><td style=\"border:solid;\" bgcolor=\"white\"></td><td style=\"border:solid;\" bgcolor=\"#E1E1E1\"><font color=\"red\">VP: -1.90</font></td><td style=\"border:solid;\" bgcolor=\"white\"></td><td style=\"border:solid;\" bgcolor=\"white\"></td><td style=\"border:solid;\" bgcolor=\"white\"></td></tr>\n",
       "<tr><td>2: the</td><td style=\"border:none;\" bgcolor=\"white\"></td><td style=\"border:none;\" bgcolor=\"white\"></td><td style=\"border:solid;\" bgcolor=\"white\"><font color=\"black\">Obj_5: 0.00</font>, <font color=\"black\">Obj_8: 0.00</font></td><td style=\"border:solid;\" bgcolor=\"white\"><font color=\"black\">Obj: -0.69</font></td><td style=\"border:solid;\" bgcolor=\"white\"></td><td style=\"border:solid;\" bgcolor=\"white\"></td><td style=\"border:solid;\" bgcolor=\"white\"></td></tr>\n",
       "<tr><td>3: elephant</td><td style=\"border:none;\" bgcolor=\"white\"></td><td style=\"border:none;\" bgcolor=\"white\"></td><td style=\"border:none;\" bgcolor=\"white\"></td><td style=\"border:solid;\" bgcolor=\"white\"><font color=\"black\">Obj_6: 0.00</font>, <font color=\"black\">Obj_7_9: 0.00</font></td><td style=\"border:solid;\" bgcolor=\"white\"></td><td style=\"border:solid;\" bgcolor=\"white\"></td><td style=\"border:solid;\" bgcolor=\"white\"></td></tr>\n",
       "<tr><td>4: in</td><td style=\"border:none;\" bgcolor=\"white\"></td><td style=\"border:none;\" bgcolor=\"white\"></td><td style=\"border:none;\" bgcolor=\"white\"></td><td style=\"border:none;\" bgcolor=\"white\"></td><td style=\"border:solid;\" bgcolor=\"white\"><font color=\"black\">PP_2: 0.00</font></td><td style=\"border:solid;\" bgcolor=\"white\"></td><td style=\"border:solid;\" bgcolor=\"white\"><font color=\"black\">PP: 0.00</font></td></tr>\n",
       "<tr><td>5: his</td><td style=\"border:none;\" bgcolor=\"white\"></td><td style=\"border:none;\" bgcolor=\"white\"></td><td style=\"border:none;\" bgcolor=\"white\"></td><td style=\"border:none;\" bgcolor=\"white\"></td><td style=\"border:none;\" bgcolor=\"white\"></td><td style=\"border:solid;\" bgcolor=\"white\"><font color=\"black\">PP_1_3: 0.00</font></td><td style=\"border:solid;\" bgcolor=\"white\"><font color=\"black\">PP_1: 0.00</font></td></tr>\n",
       "<tr><td>6: pyjamas</td><td style=\"border:none;\" bgcolor=\"white\"></td><td style=\"border:none;\" bgcolor=\"white\"></td><td style=\"border:none;\" bgcolor=\"white\"></td><td style=\"border:none;\" bgcolor=\"white\"></td><td style=\"border:none;\" bgcolor=\"white\"></td><td style=\"border:none;\" bgcolor=\"white\"></td><td style=\"border:solid;\" bgcolor=\"white\"><font color=\"black\">PP_1_4: 0.00</font></td></tr></table> 53 / 112</div>\n",
       "<div class=\"item\"><table><tr><td></td><td>0: He</td><td>1: shot</td><td>2: the</td><td>3: elephant</td><td>4: in</td><td>5: his</td><td>6: pyjamas</td></tr>\n",
       "<tr><td>0: He</td><td style=\"border:solid;\" bgcolor=\"#E1E1E1\"><font color=\"red\">Subj: 0.00</font></td><td style=\"border:solid;\" bgcolor=\"white\"></td><td style=\"border:solid;\" bgcolor=\"white\"></td><td style=\"border:solid;\" bgcolor=\"#C3C3C3\"><font color=\"blue\">S: -1.90</font></td><td style=\"border:solid;\" bgcolor=\"white\"></td><td style=\"border:solid;\" bgcolor=\"white\"></td><td style=\"border:solid;\" bgcolor=\"white\"></td></tr>\n",
       "<tr><td>1: shot</td><td style=\"border:none;\" bgcolor=\"white\"></td><td style=\"border:solid;\" bgcolor=\"white\"><font color=\"black\">Verb: 0.00</font></td><td style=\"border:solid;\" bgcolor=\"white\"></td><td style=\"border:solid;\" bgcolor=\"#E1E1E1\"><font color=\"red\">VP: -1.90</font></td><td style=\"border:solid;\" bgcolor=\"white\"></td><td style=\"border:solid;\" bgcolor=\"white\"></td><td style=\"border:solid;\" bgcolor=\"white\"></td></tr>\n",
       "<tr><td>2: the</td><td style=\"border:none;\" bgcolor=\"white\"></td><td style=\"border:none;\" bgcolor=\"white\"></td><td style=\"border:solid;\" bgcolor=\"white\"><font color=\"black\">Obj_5: 0.00</font>, <font color=\"black\">Obj_8: 0.00</font></td><td style=\"border:solid;\" bgcolor=\"white\"><font color=\"black\">Obj: -0.69</font></td><td style=\"border:solid;\" bgcolor=\"white\"></td><td style=\"border:solid;\" bgcolor=\"white\"></td><td style=\"border:solid;\" bgcolor=\"white\"></td></tr>\n",
       "<tr><td>3: elephant</td><td style=\"border:none;\" bgcolor=\"white\"></td><td style=\"border:none;\" bgcolor=\"white\"></td><td style=\"border:none;\" bgcolor=\"white\"></td><td style=\"border:solid;\" bgcolor=\"white\"><font color=\"black\">Obj_6: 0.00</font>, <font color=\"black\">Obj_7_9: 0.00</font></td><td style=\"border:solid;\" bgcolor=\"white\"></td><td style=\"border:solid;\" bgcolor=\"white\"></td><td style=\"border:solid;\" bgcolor=\"white\"></td></tr>\n",
       "<tr><td>4: in</td><td style=\"border:none;\" bgcolor=\"white\"></td><td style=\"border:none;\" bgcolor=\"white\"></td><td style=\"border:none;\" bgcolor=\"white\"></td><td style=\"border:none;\" bgcolor=\"white\"></td><td style=\"border:solid;\" bgcolor=\"white\"><font color=\"black\">PP_2: 0.00</font></td><td style=\"border:solid;\" bgcolor=\"white\"></td><td style=\"border:solid;\" bgcolor=\"white\"><font color=\"black\">PP: 0.00</font></td></tr>\n",
       "<tr><td>5: his</td><td style=\"border:none;\" bgcolor=\"white\"></td><td style=\"border:none;\" bgcolor=\"white\"></td><td style=\"border:none;\" bgcolor=\"white\"></td><td style=\"border:none;\" bgcolor=\"white\"></td><td style=\"border:none;\" bgcolor=\"white\"></td><td style=\"border:solid;\" bgcolor=\"white\"><font color=\"black\">PP_1_3: 0.00</font></td><td style=\"border:solid;\" bgcolor=\"white\"><font color=\"black\">PP_1: 0.00</font></td></tr>\n",
       "<tr><td>6: pyjamas</td><td style=\"border:none;\" bgcolor=\"white\"></td><td style=\"border:none;\" bgcolor=\"white\"></td><td style=\"border:none;\" bgcolor=\"white\"></td><td style=\"border:none;\" bgcolor=\"white\"></td><td style=\"border:none;\" bgcolor=\"white\"></td><td style=\"border:none;\" bgcolor=\"white\"></td><td style=\"border:solid;\" bgcolor=\"white\"><font color=\"black\">PP_1_4: 0.00</font></td></tr></table> 54 / 112</div>\n",
       "<div class=\"item\"><table><tr><td></td><td>0: He</td><td>1: shot</td><td>2: the</td><td>3: elephant</td><td>4: in</td><td>5: his</td><td>6: pyjamas</td></tr>\n",
       "<tr><td>0: He</td><td style=\"border:solid;\" bgcolor=\"white\"><font color=\"black\">Subj: 0.00</font></td><td style=\"border:solid;\" bgcolor=\"#E1E1E1\"></td><td style=\"border:solid;\" bgcolor=\"white\"></td><td style=\"border:solid;\" bgcolor=\"#C3C3C3\"><font color=\"black\">S: -1.90</font></td><td style=\"border:solid;\" bgcolor=\"white\"></td><td style=\"border:solid;\" bgcolor=\"white\"></td><td style=\"border:solid;\" bgcolor=\"white\"></td></tr>\n",
       "<tr><td>1: shot</td><td style=\"border:none;\" bgcolor=\"white\"></td><td style=\"border:solid;\" bgcolor=\"white\"><font color=\"black\">Verb: 0.00</font></td><td style=\"border:solid;\" bgcolor=\"white\"></td><td style=\"border:solid;\" bgcolor=\"white\"><font color=\"black\">VP: -1.90</font></td><td style=\"border:solid;\" bgcolor=\"white\"></td><td style=\"border:solid;\" bgcolor=\"white\"></td><td style=\"border:solid;\" bgcolor=\"white\"></td></tr>\n",
       "<tr><td>2: the</td><td style=\"border:none;\" bgcolor=\"white\"></td><td style=\"border:none;\" bgcolor=\"white\"></td><td style=\"border:solid;\" bgcolor=\"white\"><font color=\"black\">Obj_5: 0.00</font>, <font color=\"black\">Obj_8: 0.00</font></td><td style=\"border:solid;\" bgcolor=\"#E1E1E1\"><font color=\"black\">Obj: -0.69</font></td><td style=\"border:solid;\" bgcolor=\"white\"></td><td style=\"border:solid;\" bgcolor=\"white\"></td><td style=\"border:solid;\" bgcolor=\"white\"></td></tr>\n",
       "<tr><td>3: elephant</td><td style=\"border:none;\" bgcolor=\"white\"></td><td style=\"border:none;\" bgcolor=\"white\"></td><td style=\"border:none;\" bgcolor=\"white\"></td><td style=\"border:solid;\" bgcolor=\"white\"><font color=\"black\">Obj_6: 0.00</font>, <font color=\"black\">Obj_7_9: 0.00</font></td><td style=\"border:solid;\" bgcolor=\"white\"></td><td style=\"border:solid;\" bgcolor=\"white\"></td><td style=\"border:solid;\" bgcolor=\"white\"></td></tr>\n",
       "<tr><td>4: in</td><td style=\"border:none;\" bgcolor=\"white\"></td><td style=\"border:none;\" bgcolor=\"white\"></td><td style=\"border:none;\" bgcolor=\"white\"></td><td style=\"border:none;\" bgcolor=\"white\"></td><td style=\"border:solid;\" bgcolor=\"white\"><font color=\"black\">PP_2: 0.00</font></td><td style=\"border:solid;\" bgcolor=\"white\"></td><td style=\"border:solid;\" bgcolor=\"white\"><font color=\"black\">PP: 0.00</font></td></tr>\n",
       "<tr><td>5: his</td><td style=\"border:none;\" bgcolor=\"white\"></td><td style=\"border:none;\" bgcolor=\"white\"></td><td style=\"border:none;\" bgcolor=\"white\"></td><td style=\"border:none;\" bgcolor=\"white\"></td><td style=\"border:none;\" bgcolor=\"white\"></td><td style=\"border:solid;\" bgcolor=\"white\"><font color=\"black\">PP_1_3: 0.00</font></td><td style=\"border:solid;\" bgcolor=\"white\"><font color=\"black\">PP_1: 0.00</font></td></tr>\n",
       "<tr><td>6: pyjamas</td><td style=\"border:none;\" bgcolor=\"white\"></td><td style=\"border:none;\" bgcolor=\"white\"></td><td style=\"border:none;\" bgcolor=\"white\"></td><td style=\"border:none;\" bgcolor=\"white\"></td><td style=\"border:none;\" bgcolor=\"white\"></td><td style=\"border:none;\" bgcolor=\"white\"></td><td style=\"border:solid;\" bgcolor=\"white\"><font color=\"black\">PP_1_4: 0.00</font></td></tr></table> 55 / 112</div>\n",
       "<div class=\"item\"><table><tr><td></td><td>0: He</td><td>1: shot</td><td>2: the</td><td>3: elephant</td><td>4: in</td><td>5: his</td><td>6: pyjamas</td></tr>\n",
       "<tr><td>0: He</td><td style=\"border:solid;\" bgcolor=\"white\"><font color=\"black\">Subj: 0.00</font></td><td style=\"border:solid;\" bgcolor=\"white\"></td><td style=\"border:solid;\" bgcolor=\"#E1E1E1\"></td><td style=\"border:solid;\" bgcolor=\"#C3C3C3\"><font color=\"black\">S: -1.90</font></td><td style=\"border:solid;\" bgcolor=\"white\"></td><td style=\"border:solid;\" bgcolor=\"white\"></td><td style=\"border:solid;\" bgcolor=\"white\"></td></tr>\n",
       "<tr><td>1: shot</td><td style=\"border:none;\" bgcolor=\"white\"></td><td style=\"border:solid;\" bgcolor=\"white\"><font color=\"black\">Verb: 0.00</font></td><td style=\"border:solid;\" bgcolor=\"white\"></td><td style=\"border:solid;\" bgcolor=\"white\"><font color=\"black\">VP: -1.90</font></td><td style=\"border:solid;\" bgcolor=\"white\"></td><td style=\"border:solid;\" bgcolor=\"white\"></td><td style=\"border:solid;\" bgcolor=\"white\"></td></tr>\n",
       "<tr><td>2: the</td><td style=\"border:none;\" bgcolor=\"white\"></td><td style=\"border:none;\" bgcolor=\"white\"></td><td style=\"border:solid;\" bgcolor=\"white\"><font color=\"black\">Obj_5: 0.00</font>, <font color=\"black\">Obj_8: 0.00</font></td><td style=\"border:solid;\" bgcolor=\"white\"><font color=\"black\">Obj: -0.69</font></td><td style=\"border:solid;\" bgcolor=\"white\"></td><td style=\"border:solid;\" bgcolor=\"white\"></td><td style=\"border:solid;\" bgcolor=\"white\"></td></tr>\n",
       "<tr><td>3: elephant</td><td style=\"border:none;\" bgcolor=\"white\"></td><td style=\"border:none;\" bgcolor=\"white\"></td><td style=\"border:none;\" bgcolor=\"white\"></td><td style=\"border:solid;\" bgcolor=\"#E1E1E1\"><font color=\"black\">Obj_6: 0.00</font>, <font color=\"black\">Obj_7_9: 0.00</font></td><td style=\"border:solid;\" bgcolor=\"white\"></td><td style=\"border:solid;\" bgcolor=\"white\"></td><td style=\"border:solid;\" bgcolor=\"white\"></td></tr>\n",
       "<tr><td>4: in</td><td style=\"border:none;\" bgcolor=\"white\"></td><td style=\"border:none;\" bgcolor=\"white\"></td><td style=\"border:none;\" bgcolor=\"white\"></td><td style=\"border:none;\" bgcolor=\"white\"></td><td style=\"border:solid;\" bgcolor=\"white\"><font color=\"black\">PP_2: 0.00</font></td><td style=\"border:solid;\" bgcolor=\"white\"></td><td style=\"border:solid;\" bgcolor=\"white\"><font color=\"black\">PP: 0.00</font></td></tr>\n",
       "<tr><td>5: his</td><td style=\"border:none;\" bgcolor=\"white\"></td><td style=\"border:none;\" bgcolor=\"white\"></td><td style=\"border:none;\" bgcolor=\"white\"></td><td style=\"border:none;\" bgcolor=\"white\"></td><td style=\"border:none;\" bgcolor=\"white\"></td><td style=\"border:solid;\" bgcolor=\"white\"><font color=\"black\">PP_1_3: 0.00</font></td><td style=\"border:solid;\" bgcolor=\"white\"><font color=\"black\">PP_1: 0.00</font></td></tr>\n",
       "<tr><td>6: pyjamas</td><td style=\"border:none;\" bgcolor=\"white\"></td><td style=\"border:none;\" bgcolor=\"white\"></td><td style=\"border:none;\" bgcolor=\"white\"></td><td style=\"border:none;\" bgcolor=\"white\"></td><td style=\"border:none;\" bgcolor=\"white\"></td><td style=\"border:none;\" bgcolor=\"white\"></td><td style=\"border:solid;\" bgcolor=\"white\"><font color=\"black\">PP_1_4: 0.00</font></td></tr></table> 56 / 112</div>\n",
       "<div class=\"item\"><table><tr><td></td><td>0: He</td><td>1: shot</td><td>2: the</td><td>3: elephant</td><td>4: in</td><td>5: his</td><td>6: pyjamas</td></tr>\n",
       "<tr><td>0: He</td><td style=\"border:solid;\" bgcolor=\"white\"><font color=\"black\">Subj: 0.00</font></td><td style=\"border:solid;\" bgcolor=\"white\"></td><td style=\"border:solid;\" bgcolor=\"white\"></td><td style=\"border:solid;\" bgcolor=\"white\"><font color=\"black\">S: -1.90</font></td><td style=\"border:solid;\" bgcolor=\"white\"></td><td style=\"border:solid;\" bgcolor=\"white\"></td><td style=\"border:solid;\" bgcolor=\"white\"></td></tr>\n",
       "<tr><td>1: shot</td><td style=\"border:none;\" bgcolor=\"white\"></td><td style=\"border:solid;\" bgcolor=\"#E1E1E1\"><font color=\"black\">Verb: 0.00</font></td><td style=\"border:solid;\" bgcolor=\"white\"></td><td style=\"border:solid;\" bgcolor=\"white\"><font color=\"black\">VP: -1.90</font></td><td style=\"border:solid;\" bgcolor=\"#C3C3C3\"></td><td style=\"border:solid;\" bgcolor=\"white\"></td><td style=\"border:solid;\" bgcolor=\"white\"></td></tr>\n",
       "<tr><td>2: the</td><td style=\"border:none;\" bgcolor=\"white\"></td><td style=\"border:none;\" bgcolor=\"white\"></td><td style=\"border:solid;\" bgcolor=\"white\"><font color=\"black\">Obj_5: 0.00</font>, <font color=\"black\">Obj_8: 0.00</font></td><td style=\"border:solid;\" bgcolor=\"white\"><font color=\"black\">Obj: -0.69</font></td><td style=\"border:solid;\" bgcolor=\"#E1E1E1\"></td><td style=\"border:solid;\" bgcolor=\"white\"></td><td style=\"border:solid;\" bgcolor=\"white\"></td></tr>\n",
       "<tr><td>3: elephant</td><td style=\"border:none;\" bgcolor=\"white\"></td><td style=\"border:none;\" bgcolor=\"white\"></td><td style=\"border:none;\" bgcolor=\"white\"></td><td style=\"border:solid;\" bgcolor=\"white\"><font color=\"black\">Obj_6: 0.00</font>, <font color=\"black\">Obj_7_9: 0.00</font></td><td style=\"border:solid;\" bgcolor=\"white\"></td><td style=\"border:solid;\" bgcolor=\"white\"></td><td style=\"border:solid;\" bgcolor=\"white\"></td></tr>\n",
       "<tr><td>4: in</td><td style=\"border:none;\" bgcolor=\"white\"></td><td style=\"border:none;\" bgcolor=\"white\"></td><td style=\"border:none;\" bgcolor=\"white\"></td><td style=\"border:none;\" bgcolor=\"white\"></td><td style=\"border:solid;\" bgcolor=\"white\"><font color=\"black\">PP_2: 0.00</font></td><td style=\"border:solid;\" bgcolor=\"white\"></td><td style=\"border:solid;\" bgcolor=\"white\"><font color=\"black\">PP: 0.00</font></td></tr>\n",
       "<tr><td>5: his</td><td style=\"border:none;\" bgcolor=\"white\"></td><td style=\"border:none;\" bgcolor=\"white\"></td><td style=\"border:none;\" bgcolor=\"white\"></td><td style=\"border:none;\" bgcolor=\"white\"></td><td style=\"border:none;\" bgcolor=\"white\"></td><td style=\"border:solid;\" bgcolor=\"white\"><font color=\"black\">PP_1_3: 0.00</font></td><td style=\"border:solid;\" bgcolor=\"white\"><font color=\"black\">PP_1: 0.00</font></td></tr>\n",
       "<tr><td>6: pyjamas</td><td style=\"border:none;\" bgcolor=\"white\"></td><td style=\"border:none;\" bgcolor=\"white\"></td><td style=\"border:none;\" bgcolor=\"white\"></td><td style=\"border:none;\" bgcolor=\"white\"></td><td style=\"border:none;\" bgcolor=\"white\"></td><td style=\"border:none;\" bgcolor=\"white\"></td><td style=\"border:solid;\" bgcolor=\"white\"><font color=\"black\">PP_1_4: 0.00</font></td></tr></table> 57 / 112</div>\n",
       "<div class=\"item\"><table><tr><td></td><td>0: He</td><td>1: shot</td><td>2: the</td><td>3: elephant</td><td>4: in</td><td>5: his</td><td>6: pyjamas</td></tr>\n",
       "<tr><td>0: He</td><td style=\"border:solid;\" bgcolor=\"white\"><font color=\"black\">Subj: 0.00</font></td><td style=\"border:solid;\" bgcolor=\"white\"></td><td style=\"border:solid;\" bgcolor=\"white\"></td><td style=\"border:solid;\" bgcolor=\"white\"><font color=\"black\">S: -1.90</font></td><td style=\"border:solid;\" bgcolor=\"white\"></td><td style=\"border:solid;\" bgcolor=\"white\"></td><td style=\"border:solid;\" bgcolor=\"white\"></td></tr>\n",
       "<tr><td>1: shot</td><td style=\"border:none;\" bgcolor=\"white\"></td><td style=\"border:solid;\" bgcolor=\"white\"><font color=\"black\">Verb: 0.00</font></td><td style=\"border:solid;\" bgcolor=\"#E1E1E1\"></td><td style=\"border:solid;\" bgcolor=\"white\"><font color=\"black\">VP: -1.90</font></td><td style=\"border:solid;\" bgcolor=\"#C3C3C3\"></td><td style=\"border:solid;\" bgcolor=\"white\"></td><td style=\"border:solid;\" bgcolor=\"white\"></td></tr>\n",
       "<tr><td>2: the</td><td style=\"border:none;\" bgcolor=\"white\"></td><td style=\"border:none;\" bgcolor=\"white\"></td><td style=\"border:solid;\" bgcolor=\"white\"><font color=\"black\">Obj_5: 0.00</font>, <font color=\"black\">Obj_8: 0.00</font></td><td style=\"border:solid;\" bgcolor=\"white\"><font color=\"black\">Obj: -0.69</font></td><td style=\"border:solid;\" bgcolor=\"white\"></td><td style=\"border:solid;\" bgcolor=\"white\"></td><td style=\"border:solid;\" bgcolor=\"white\"></td></tr>\n",
       "<tr><td>3: elephant</td><td style=\"border:none;\" bgcolor=\"white\"></td><td style=\"border:none;\" bgcolor=\"white\"></td><td style=\"border:none;\" bgcolor=\"white\"></td><td style=\"border:solid;\" bgcolor=\"white\"><font color=\"black\">Obj_6: 0.00</font>, <font color=\"black\">Obj_7_9: 0.00</font></td><td style=\"border:solid;\" bgcolor=\"#E1E1E1\"></td><td style=\"border:solid;\" bgcolor=\"white\"></td><td style=\"border:solid;\" bgcolor=\"white\"></td></tr>\n",
       "<tr><td>4: in</td><td style=\"border:none;\" bgcolor=\"white\"></td><td style=\"border:none;\" bgcolor=\"white\"></td><td style=\"border:none;\" bgcolor=\"white\"></td><td style=\"border:none;\" bgcolor=\"white\"></td><td style=\"border:solid;\" bgcolor=\"white\"><font color=\"black\">PP_2: 0.00</font></td><td style=\"border:solid;\" bgcolor=\"white\"></td><td style=\"border:solid;\" bgcolor=\"white\"><font color=\"black\">PP: 0.00</font></td></tr>\n",
       "<tr><td>5: his</td><td style=\"border:none;\" bgcolor=\"white\"></td><td style=\"border:none;\" bgcolor=\"white\"></td><td style=\"border:none;\" bgcolor=\"white\"></td><td style=\"border:none;\" bgcolor=\"white\"></td><td style=\"border:none;\" bgcolor=\"white\"></td><td style=\"border:solid;\" bgcolor=\"white\"><font color=\"black\">PP_1_3: 0.00</font></td><td style=\"border:solid;\" bgcolor=\"white\"><font color=\"black\">PP_1: 0.00</font></td></tr>\n",
       "<tr><td>6: pyjamas</td><td style=\"border:none;\" bgcolor=\"white\"></td><td style=\"border:none;\" bgcolor=\"white\"></td><td style=\"border:none;\" bgcolor=\"white\"></td><td style=\"border:none;\" bgcolor=\"white\"></td><td style=\"border:none;\" bgcolor=\"white\"></td><td style=\"border:none;\" bgcolor=\"white\"></td><td style=\"border:solid;\" bgcolor=\"white\"><font color=\"black\">PP_1_4: 0.00</font></td></tr></table> 58 / 112</div>\n",
       "<div class=\"item\"><table><tr><td></td><td>0: He</td><td>1: shot</td><td>2: the</td><td>3: elephant</td><td>4: in</td><td>5: his</td><td>6: pyjamas</td></tr>\n",
       "<tr><td>0: He</td><td style=\"border:solid;\" bgcolor=\"white\"><font color=\"black\">Subj: 0.00</font></td><td style=\"border:solid;\" bgcolor=\"white\"></td><td style=\"border:solid;\" bgcolor=\"white\"></td><td style=\"border:solid;\" bgcolor=\"white\"><font color=\"black\">S: -1.90</font></td><td style=\"border:solid;\" bgcolor=\"white\"></td><td style=\"border:solid;\" bgcolor=\"white\"></td><td style=\"border:solid;\" bgcolor=\"white\"></td></tr>\n",
       "<tr><td>1: shot</td><td style=\"border:none;\" bgcolor=\"white\"></td><td style=\"border:solid;\" bgcolor=\"white\"><font color=\"black\">Verb: 0.00</font></td><td style=\"border:solid;\" bgcolor=\"white\"></td><td style=\"border:solid;\" bgcolor=\"#E1E1E1\"><font color=\"black\">VP: -1.90</font></td><td style=\"border:solid;\" bgcolor=\"#C3C3C3\"></td><td style=\"border:solid;\" bgcolor=\"white\"></td><td style=\"border:solid;\" bgcolor=\"white\"></td></tr>\n",
       "<tr><td>2: the</td><td style=\"border:none;\" bgcolor=\"white\"></td><td style=\"border:none;\" bgcolor=\"white\"></td><td style=\"border:solid;\" bgcolor=\"white\"><font color=\"black\">Obj_5: 0.00</font>, <font color=\"black\">Obj_8: 0.00</font></td><td style=\"border:solid;\" bgcolor=\"white\"><font color=\"black\">Obj: -0.69</font></td><td style=\"border:solid;\" bgcolor=\"white\"></td><td style=\"border:solid;\" bgcolor=\"white\"></td><td style=\"border:solid;\" bgcolor=\"white\"></td></tr>\n",
       "<tr><td>3: elephant</td><td style=\"border:none;\" bgcolor=\"white\"></td><td style=\"border:none;\" bgcolor=\"white\"></td><td style=\"border:none;\" bgcolor=\"white\"></td><td style=\"border:solid;\" bgcolor=\"white\"><font color=\"black\">Obj_6: 0.00</font>, <font color=\"black\">Obj_7_9: 0.00</font></td><td style=\"border:solid;\" bgcolor=\"white\"></td><td style=\"border:solid;\" bgcolor=\"white\"></td><td style=\"border:solid;\" bgcolor=\"white\"></td></tr>\n",
       "<tr><td>4: in</td><td style=\"border:none;\" bgcolor=\"white\"></td><td style=\"border:none;\" bgcolor=\"white\"></td><td style=\"border:none;\" bgcolor=\"white\"></td><td style=\"border:none;\" bgcolor=\"white\"></td><td style=\"border:solid;\" bgcolor=\"#E1E1E1\"><font color=\"black\">PP_2: 0.00</font></td><td style=\"border:solid;\" bgcolor=\"white\"></td><td style=\"border:solid;\" bgcolor=\"white\"><font color=\"black\">PP: 0.00</font></td></tr>\n",
       "<tr><td>5: his</td><td style=\"border:none;\" bgcolor=\"white\"></td><td style=\"border:none;\" bgcolor=\"white\"></td><td style=\"border:none;\" bgcolor=\"white\"></td><td style=\"border:none;\" bgcolor=\"white\"></td><td style=\"border:none;\" bgcolor=\"white\"></td><td style=\"border:solid;\" bgcolor=\"white\"><font color=\"black\">PP_1_3: 0.00</font></td><td style=\"border:solid;\" bgcolor=\"white\"><font color=\"black\">PP_1: 0.00</font></td></tr>\n",
       "<tr><td>6: pyjamas</td><td style=\"border:none;\" bgcolor=\"white\"></td><td style=\"border:none;\" bgcolor=\"white\"></td><td style=\"border:none;\" bgcolor=\"white\"></td><td style=\"border:none;\" bgcolor=\"white\"></td><td style=\"border:none;\" bgcolor=\"white\"></td><td style=\"border:none;\" bgcolor=\"white\"></td><td style=\"border:solid;\" bgcolor=\"white\"><font color=\"black\">PP_1_4: 0.00</font></td></tr></table> 59 / 112</div>\n",
       "<div class=\"item\"><table><tr><td></td><td>0: He</td><td>1: shot</td><td>2: the</td><td>3: elephant</td><td>4: in</td><td>5: his</td><td>6: pyjamas</td></tr>\n",
       "<tr><td>0: He</td><td style=\"border:solid;\" bgcolor=\"white\"><font color=\"black\">Subj: 0.00</font></td><td style=\"border:solid;\" bgcolor=\"white\"></td><td style=\"border:solid;\" bgcolor=\"white\"></td><td style=\"border:solid;\" bgcolor=\"white\"><font color=\"black\">S: -1.90</font></td><td style=\"border:solid;\" bgcolor=\"white\"></td><td style=\"border:solid;\" bgcolor=\"white\"></td><td style=\"border:solid;\" bgcolor=\"white\"></td></tr>\n",
       "<tr><td>1: shot</td><td style=\"border:none;\" bgcolor=\"white\"></td><td style=\"border:solid;\" bgcolor=\"white\"><font color=\"black\">Verb: 0.00</font></td><td style=\"border:solid;\" bgcolor=\"white\"></td><td style=\"border:solid;\" bgcolor=\"#E1E1E1\"><font color=\"red\">VP: -1.90</font></td><td style=\"border:solid;\" bgcolor=\"#C3C3C3\"></td><td style=\"border:solid;\" bgcolor=\"white\"></td><td style=\"border:solid;\" bgcolor=\"white\"></td></tr>\n",
       "<tr><td>2: the</td><td style=\"border:none;\" bgcolor=\"white\"></td><td style=\"border:none;\" bgcolor=\"white\"></td><td style=\"border:solid;\" bgcolor=\"white\"><font color=\"black\">Obj_5: 0.00</font>, <font color=\"black\">Obj_8: 0.00</font></td><td style=\"border:solid;\" bgcolor=\"white\"><font color=\"black\">Obj: -0.69</font></td><td style=\"border:solid;\" bgcolor=\"white\"></td><td style=\"border:solid;\" bgcolor=\"white\"></td><td style=\"border:solid;\" bgcolor=\"white\"></td></tr>\n",
       "<tr><td>3: elephant</td><td style=\"border:none;\" bgcolor=\"white\"></td><td style=\"border:none;\" bgcolor=\"white\"></td><td style=\"border:none;\" bgcolor=\"white\"></td><td style=\"border:solid;\" bgcolor=\"white\"><font color=\"black\">Obj_6: 0.00</font>, <font color=\"black\">Obj_7_9: 0.00</font></td><td style=\"border:solid;\" bgcolor=\"white\"></td><td style=\"border:solid;\" bgcolor=\"white\"></td><td style=\"border:solid;\" bgcolor=\"white\"></td></tr>\n",
       "<tr><td>4: in</td><td style=\"border:none;\" bgcolor=\"white\"></td><td style=\"border:none;\" bgcolor=\"white\"></td><td style=\"border:none;\" bgcolor=\"white\"></td><td style=\"border:none;\" bgcolor=\"white\"></td><td style=\"border:solid;\" bgcolor=\"#E1E1E1\"><font color=\"red\">PP_2: 0.00</font></td><td style=\"border:solid;\" bgcolor=\"white\"></td><td style=\"border:solid;\" bgcolor=\"white\"><font color=\"black\">PP: 0.00</font></td></tr>\n",
       "<tr><td>5: his</td><td style=\"border:none;\" bgcolor=\"white\"></td><td style=\"border:none;\" bgcolor=\"white\"></td><td style=\"border:none;\" bgcolor=\"white\"></td><td style=\"border:none;\" bgcolor=\"white\"></td><td style=\"border:none;\" bgcolor=\"white\"></td><td style=\"border:solid;\" bgcolor=\"white\"><font color=\"black\">PP_1_3: 0.00</font></td><td style=\"border:solid;\" bgcolor=\"white\"><font color=\"black\">PP_1: 0.00</font></td></tr>\n",
       "<tr><td>6: pyjamas</td><td style=\"border:none;\" bgcolor=\"white\"></td><td style=\"border:none;\" bgcolor=\"white\"></td><td style=\"border:none;\" bgcolor=\"white\"></td><td style=\"border:none;\" bgcolor=\"white\"></td><td style=\"border:none;\" bgcolor=\"white\"></td><td style=\"border:none;\" bgcolor=\"white\"></td><td style=\"border:solid;\" bgcolor=\"white\"><font color=\"black\">PP_1_4: 0.00</font></td></tr></table> 60 / 112</div>\n",
       "<div class=\"item\"><table><tr><td></td><td>0: He</td><td>1: shot</td><td>2: the</td><td>3: elephant</td><td>4: in</td><td>5: his</td><td>6: pyjamas</td></tr>\n",
       "<tr><td>0: He</td><td style=\"border:solid;\" bgcolor=\"white\"><font color=\"black\">Subj: 0.00</font></td><td style=\"border:solid;\" bgcolor=\"white\"></td><td style=\"border:solid;\" bgcolor=\"white\"></td><td style=\"border:solid;\" bgcolor=\"white\"><font color=\"black\">S: -1.90</font></td><td style=\"border:solid;\" bgcolor=\"white\"></td><td style=\"border:solid;\" bgcolor=\"white\"></td><td style=\"border:solid;\" bgcolor=\"white\"></td></tr>\n",
       "<tr><td>1: shot</td><td style=\"border:none;\" bgcolor=\"white\"></td><td style=\"border:solid;\" bgcolor=\"white\"><font color=\"black\">Verb: 0.00</font></td><td style=\"border:solid;\" bgcolor=\"white\"></td><td style=\"border:solid;\" bgcolor=\"white\"><font color=\"black\">VP: -1.90</font></td><td style=\"border:solid;\" bgcolor=\"white\"></td><td style=\"border:solid;\" bgcolor=\"white\"></td><td style=\"border:solid;\" bgcolor=\"white\"></td></tr>\n",
       "<tr><td>2: the</td><td style=\"border:none;\" bgcolor=\"white\"></td><td style=\"border:none;\" bgcolor=\"white\"></td><td style=\"border:solid;\" bgcolor=\"#E1E1E1\"><font color=\"black\">Obj_5: 0.00</font>, <font color=\"black\">Obj_8: 0.00</font></td><td style=\"border:solid;\" bgcolor=\"white\"><font color=\"black\">Obj: -0.69</font></td><td style=\"border:solid;\" bgcolor=\"white\"></td><td style=\"border:solid;\" bgcolor=\"#C3C3C3\"></td><td style=\"border:solid;\" bgcolor=\"white\"></td></tr>\n",
       "<tr><td>3: elephant</td><td style=\"border:none;\" bgcolor=\"white\"></td><td style=\"border:none;\" bgcolor=\"white\"></td><td style=\"border:none;\" bgcolor=\"white\"></td><td style=\"border:solid;\" bgcolor=\"white\"><font color=\"black\">Obj_6: 0.00</font>, <font color=\"black\">Obj_7_9: 0.00</font></td><td style=\"border:solid;\" bgcolor=\"white\"></td><td style=\"border:solid;\" bgcolor=\"#E1E1E1\"></td><td style=\"border:solid;\" bgcolor=\"white\"></td></tr>\n",
       "<tr><td>4: in</td><td style=\"border:none;\" bgcolor=\"white\"></td><td style=\"border:none;\" bgcolor=\"white\"></td><td style=\"border:none;\" bgcolor=\"white\"></td><td style=\"border:none;\" bgcolor=\"white\"></td><td style=\"border:solid;\" bgcolor=\"white\"><font color=\"black\">PP_2: 0.00</font></td><td style=\"border:solid;\" bgcolor=\"white\"></td><td style=\"border:solid;\" bgcolor=\"white\"><font color=\"black\">PP: 0.00</font></td></tr>\n",
       "<tr><td>5: his</td><td style=\"border:none;\" bgcolor=\"white\"></td><td style=\"border:none;\" bgcolor=\"white\"></td><td style=\"border:none;\" bgcolor=\"white\"></td><td style=\"border:none;\" bgcolor=\"white\"></td><td style=\"border:none;\" bgcolor=\"white\"></td><td style=\"border:solid;\" bgcolor=\"white\"><font color=\"black\">PP_1_3: 0.00</font></td><td style=\"border:solid;\" bgcolor=\"white\"><font color=\"black\">PP_1: 0.00</font></td></tr>\n",
       "<tr><td>6: pyjamas</td><td style=\"border:none;\" bgcolor=\"white\"></td><td style=\"border:none;\" bgcolor=\"white\"></td><td style=\"border:none;\" bgcolor=\"white\"></td><td style=\"border:none;\" bgcolor=\"white\"></td><td style=\"border:none;\" bgcolor=\"white\"></td><td style=\"border:none;\" bgcolor=\"white\"></td><td style=\"border:solid;\" bgcolor=\"white\"><font color=\"black\">PP_1_4: 0.00</font></td></tr></table> 61 / 112</div>\n",
       "<div class=\"item\"><table><tr><td></td><td>0: He</td><td>1: shot</td><td>2: the</td><td>3: elephant</td><td>4: in</td><td>5: his</td><td>6: pyjamas</td></tr>\n",
       "<tr><td>0: He</td><td style=\"border:solid;\" bgcolor=\"white\"><font color=\"black\">Subj: 0.00</font></td><td style=\"border:solid;\" bgcolor=\"white\"></td><td style=\"border:solid;\" bgcolor=\"white\"></td><td style=\"border:solid;\" bgcolor=\"white\"><font color=\"black\">S: -1.90</font></td><td style=\"border:solid;\" bgcolor=\"white\"></td><td style=\"border:solid;\" bgcolor=\"white\"></td><td style=\"border:solid;\" bgcolor=\"white\"></td></tr>\n",
       "<tr><td>1: shot</td><td style=\"border:none;\" bgcolor=\"white\"></td><td style=\"border:solid;\" bgcolor=\"white\"><font color=\"black\">Verb: 0.00</font></td><td style=\"border:solid;\" bgcolor=\"white\"></td><td style=\"border:solid;\" bgcolor=\"white\"><font color=\"black\">VP: -1.90</font></td><td style=\"border:solid;\" bgcolor=\"white\"></td><td style=\"border:solid;\" bgcolor=\"white\"></td><td style=\"border:solid;\" bgcolor=\"white\"></td></tr>\n",
       "<tr><td>2: the</td><td style=\"border:none;\" bgcolor=\"white\"></td><td style=\"border:none;\" bgcolor=\"white\"></td><td style=\"border:solid;\" bgcolor=\"white\"><font color=\"black\">Obj_5: 0.00</font>, <font color=\"black\">Obj_8: 0.00</font></td><td style=\"border:solid;\" bgcolor=\"#E1E1E1\"><font color=\"black\">Obj: -0.69</font></td><td style=\"border:solid;\" bgcolor=\"white\"></td><td style=\"border:solid;\" bgcolor=\"#C3C3C3\"></td><td style=\"border:solid;\" bgcolor=\"white\"></td></tr>\n",
       "<tr><td>3: elephant</td><td style=\"border:none;\" bgcolor=\"white\"></td><td style=\"border:none;\" bgcolor=\"white\"></td><td style=\"border:none;\" bgcolor=\"white\"></td><td style=\"border:solid;\" bgcolor=\"white\"><font color=\"black\">Obj_6: 0.00</font>, <font color=\"black\">Obj_7_9: 0.00</font></td><td style=\"border:solid;\" bgcolor=\"white\"></td><td style=\"border:solid;\" bgcolor=\"white\"></td><td style=\"border:solid;\" bgcolor=\"white\"></td></tr>\n",
       "<tr><td>4: in</td><td style=\"border:none;\" bgcolor=\"white\"></td><td style=\"border:none;\" bgcolor=\"white\"></td><td style=\"border:none;\" bgcolor=\"white\"></td><td style=\"border:none;\" bgcolor=\"white\"></td><td style=\"border:solid;\" bgcolor=\"white\"><font color=\"black\">PP_2: 0.00</font></td><td style=\"border:solid;\" bgcolor=\"#E1E1E1\"></td><td style=\"border:solid;\" bgcolor=\"white\"><font color=\"black\">PP: 0.00</font></td></tr>\n",
       "<tr><td>5: his</td><td style=\"border:none;\" bgcolor=\"white\"></td><td style=\"border:none;\" bgcolor=\"white\"></td><td style=\"border:none;\" bgcolor=\"white\"></td><td style=\"border:none;\" bgcolor=\"white\"></td><td style=\"border:none;\" bgcolor=\"white\"></td><td style=\"border:solid;\" bgcolor=\"white\"><font color=\"black\">PP_1_3: 0.00</font></td><td style=\"border:solid;\" bgcolor=\"white\"><font color=\"black\">PP_1: 0.00</font></td></tr>\n",
       "<tr><td>6: pyjamas</td><td style=\"border:none;\" bgcolor=\"white\"></td><td style=\"border:none;\" bgcolor=\"white\"></td><td style=\"border:none;\" bgcolor=\"white\"></td><td style=\"border:none;\" bgcolor=\"white\"></td><td style=\"border:none;\" bgcolor=\"white\"></td><td style=\"border:none;\" bgcolor=\"white\"></td><td style=\"border:solid;\" bgcolor=\"white\"><font color=\"black\">PP_1_4: 0.00</font></td></tr></table> 62 / 112</div>\n",
       "<div class=\"item\"><table><tr><td></td><td>0: He</td><td>1: shot</td><td>2: the</td><td>3: elephant</td><td>4: in</td><td>5: his</td><td>6: pyjamas</td></tr>\n",
       "<tr><td>0: He</td><td style=\"border:solid;\" bgcolor=\"white\"><font color=\"black\">Subj: 0.00</font></td><td style=\"border:solid;\" bgcolor=\"white\"></td><td style=\"border:solid;\" bgcolor=\"white\"></td><td style=\"border:solid;\" bgcolor=\"white\"><font color=\"black\">S: -1.90</font></td><td style=\"border:solid;\" bgcolor=\"white\"></td><td style=\"border:solid;\" bgcolor=\"white\"></td><td style=\"border:solid;\" bgcolor=\"white\"></td></tr>\n",
       "<tr><td>1: shot</td><td style=\"border:none;\" bgcolor=\"white\"></td><td style=\"border:solid;\" bgcolor=\"white\"><font color=\"black\">Verb: 0.00</font></td><td style=\"border:solid;\" bgcolor=\"white\"></td><td style=\"border:solid;\" bgcolor=\"white\"><font color=\"black\">VP: -1.90</font></td><td style=\"border:solid;\" bgcolor=\"white\"></td><td style=\"border:solid;\" bgcolor=\"white\"></td><td style=\"border:solid;\" bgcolor=\"white\"></td></tr>\n",
       "<tr><td>2: the</td><td style=\"border:none;\" bgcolor=\"white\"></td><td style=\"border:none;\" bgcolor=\"white\"></td><td style=\"border:solid;\" bgcolor=\"white\"><font color=\"black\">Obj_5: 0.00</font>, <font color=\"black\">Obj_8: 0.00</font></td><td style=\"border:solid;\" bgcolor=\"white\"><font color=\"black\">Obj: -0.69</font></td><td style=\"border:solid;\" bgcolor=\"#E1E1E1\"></td><td style=\"border:solid;\" bgcolor=\"#C3C3C3\"></td><td style=\"border:solid;\" bgcolor=\"white\"></td></tr>\n",
       "<tr><td>3: elephant</td><td style=\"border:none;\" bgcolor=\"white\"></td><td style=\"border:none;\" bgcolor=\"white\"></td><td style=\"border:none;\" bgcolor=\"white\"></td><td style=\"border:solid;\" bgcolor=\"white\"><font color=\"black\">Obj_6: 0.00</font>, <font color=\"black\">Obj_7_9: 0.00</font></td><td style=\"border:solid;\" bgcolor=\"white\"></td><td style=\"border:solid;\" bgcolor=\"white\"></td><td style=\"border:solid;\" bgcolor=\"white\"></td></tr>\n",
       "<tr><td>4: in</td><td style=\"border:none;\" bgcolor=\"white\"></td><td style=\"border:none;\" bgcolor=\"white\"></td><td style=\"border:none;\" bgcolor=\"white\"></td><td style=\"border:none;\" bgcolor=\"white\"></td><td style=\"border:solid;\" bgcolor=\"white\"><font color=\"black\">PP_2: 0.00</font></td><td style=\"border:solid;\" bgcolor=\"white\"></td><td style=\"border:solid;\" bgcolor=\"white\"><font color=\"black\">PP: 0.00</font></td></tr>\n",
       "<tr><td>5: his</td><td style=\"border:none;\" bgcolor=\"white\"></td><td style=\"border:none;\" bgcolor=\"white\"></td><td style=\"border:none;\" bgcolor=\"white\"></td><td style=\"border:none;\" bgcolor=\"white\"></td><td style=\"border:none;\" bgcolor=\"white\"></td><td style=\"border:solid;\" bgcolor=\"#E1E1E1\"><font color=\"black\">PP_1_3: 0.00</font></td><td style=\"border:solid;\" bgcolor=\"white\"><font color=\"black\">PP_1: 0.00</font></td></tr>\n",
       "<tr><td>6: pyjamas</td><td style=\"border:none;\" bgcolor=\"white\"></td><td style=\"border:none;\" bgcolor=\"white\"></td><td style=\"border:none;\" bgcolor=\"white\"></td><td style=\"border:none;\" bgcolor=\"white\"></td><td style=\"border:none;\" bgcolor=\"white\"></td><td style=\"border:none;\" bgcolor=\"white\"></td><td style=\"border:solid;\" bgcolor=\"white\"><font color=\"black\">PP_1_4: 0.00</font></td></tr></table> 63 / 112</div>\n",
       "<div class=\"item\"><table><tr><td></td><td>0: He</td><td>1: shot</td><td>2: the</td><td>3: elephant</td><td>4: in</td><td>5: his</td><td>6: pyjamas</td></tr>\n",
       "<tr><td>0: He</td><td style=\"border:solid;\" bgcolor=\"white\"><font color=\"black\">Subj: 0.00</font></td><td style=\"border:solid;\" bgcolor=\"white\"></td><td style=\"border:solid;\" bgcolor=\"white\"></td><td style=\"border:solid;\" bgcolor=\"white\"><font color=\"black\">S: -1.90</font></td><td style=\"border:solid;\" bgcolor=\"white\"></td><td style=\"border:solid;\" bgcolor=\"white\"></td><td style=\"border:solid;\" bgcolor=\"white\"></td></tr>\n",
       "<tr><td>1: shot</td><td style=\"border:none;\" bgcolor=\"white\"></td><td style=\"border:solid;\" bgcolor=\"white\"><font color=\"black\">Verb: 0.00</font></td><td style=\"border:solid;\" bgcolor=\"white\"></td><td style=\"border:solid;\" bgcolor=\"white\"><font color=\"black\">VP: -1.90</font></td><td style=\"border:solid;\" bgcolor=\"white\"></td><td style=\"border:solid;\" bgcolor=\"white\"></td><td style=\"border:solid;\" bgcolor=\"white\"></td></tr>\n",
       "<tr><td>2: the</td><td style=\"border:none;\" bgcolor=\"white\"></td><td style=\"border:none;\" bgcolor=\"white\"></td><td style=\"border:solid;\" bgcolor=\"white\"><font color=\"black\">Obj_5: 0.00</font>, <font color=\"black\">Obj_8: 0.00</font></td><td style=\"border:solid;\" bgcolor=\"white\"><font color=\"black\">Obj: -0.69</font></td><td style=\"border:solid;\" bgcolor=\"white\"></td><td style=\"border:solid;\" bgcolor=\"white\"></td><td style=\"border:solid;\" bgcolor=\"white\"></td></tr>\n",
       "<tr><td>3: elephant</td><td style=\"border:none;\" bgcolor=\"white\"></td><td style=\"border:none;\" bgcolor=\"white\"></td><td style=\"border:none;\" bgcolor=\"white\"></td><td style=\"border:solid;\" bgcolor=\"#E1E1E1\"><font color=\"black\">Obj_6: 0.00</font>, <font color=\"black\">Obj_7_9: 0.00</font></td><td style=\"border:solid;\" bgcolor=\"white\"></td><td style=\"border:solid;\" bgcolor=\"white\"></td><td style=\"border:solid;\" bgcolor=\"#C3C3C3\"></td></tr>\n",
       "<tr><td>4: in</td><td style=\"border:none;\" bgcolor=\"white\"></td><td style=\"border:none;\" bgcolor=\"white\"></td><td style=\"border:none;\" bgcolor=\"white\"></td><td style=\"border:none;\" bgcolor=\"white\"></td><td style=\"border:solid;\" bgcolor=\"white\"><font color=\"black\">PP_2: 0.00</font></td><td style=\"border:solid;\" bgcolor=\"white\"></td><td style=\"border:solid;\" bgcolor=\"#E1E1E1\"><font color=\"black\">PP: 0.00</font></td></tr>\n",
       "<tr><td>5: his</td><td style=\"border:none;\" bgcolor=\"white\"></td><td style=\"border:none;\" bgcolor=\"white\"></td><td style=\"border:none;\" bgcolor=\"white\"></td><td style=\"border:none;\" bgcolor=\"white\"></td><td style=\"border:none;\" bgcolor=\"white\"></td><td style=\"border:solid;\" bgcolor=\"white\"><font color=\"black\">PP_1_3: 0.00</font></td><td style=\"border:solid;\" bgcolor=\"white\"><font color=\"black\">PP_1: 0.00</font></td></tr>\n",
       "<tr><td>6: pyjamas</td><td style=\"border:none;\" bgcolor=\"white\"></td><td style=\"border:none;\" bgcolor=\"white\"></td><td style=\"border:none;\" bgcolor=\"white\"></td><td style=\"border:none;\" bgcolor=\"white\"></td><td style=\"border:none;\" bgcolor=\"white\"></td><td style=\"border:none;\" bgcolor=\"white\"></td><td style=\"border:solid;\" bgcolor=\"white\"><font color=\"black\">PP_1_4: 0.00</font></td></tr></table> 64 / 112</div>\n",
       "<div class=\"item\"><table><tr><td></td><td>0: He</td><td>1: shot</td><td>2: the</td><td>3: elephant</td><td>4: in</td><td>5: his</td><td>6: pyjamas</td></tr>\n",
       "<tr><td>0: He</td><td style=\"border:solid;\" bgcolor=\"white\"><font color=\"black\">Subj: 0.00</font></td><td style=\"border:solid;\" bgcolor=\"white\"></td><td style=\"border:solid;\" bgcolor=\"white\"></td><td style=\"border:solid;\" bgcolor=\"white\"><font color=\"black\">S: -1.90</font></td><td style=\"border:solid;\" bgcolor=\"white\"></td><td style=\"border:solid;\" bgcolor=\"white\"></td><td style=\"border:solid;\" bgcolor=\"white\"></td></tr>\n",
       "<tr><td>1: shot</td><td style=\"border:none;\" bgcolor=\"white\"></td><td style=\"border:solid;\" bgcolor=\"white\"><font color=\"black\">Verb: 0.00</font></td><td style=\"border:solid;\" bgcolor=\"white\"></td><td style=\"border:solid;\" bgcolor=\"white\"><font color=\"black\">VP: -1.90</font></td><td style=\"border:solid;\" bgcolor=\"white\"></td><td style=\"border:solid;\" bgcolor=\"white\"></td><td style=\"border:solid;\" bgcolor=\"white\"></td></tr>\n",
       "<tr><td>2: the</td><td style=\"border:none;\" bgcolor=\"white\"></td><td style=\"border:none;\" bgcolor=\"white\"></td><td style=\"border:solid;\" bgcolor=\"white\"><font color=\"black\">Obj_5: 0.00</font>, <font color=\"black\">Obj_8: 0.00</font></td><td style=\"border:solid;\" bgcolor=\"white\"><font color=\"black\">Obj: -0.69</font></td><td style=\"border:solid;\" bgcolor=\"white\"></td><td style=\"border:solid;\" bgcolor=\"white\"></td><td style=\"border:solid;\" bgcolor=\"white\"></td></tr>\n",
       "<tr><td>3: elephant</td><td style=\"border:none;\" bgcolor=\"white\"></td><td style=\"border:none;\" bgcolor=\"white\"></td><td style=\"border:none;\" bgcolor=\"white\"></td><td style=\"border:solid;\" bgcolor=\"#E1E1E1\"><font color=\"red\">Obj_6: 0.00</font>, <font color=\"black\">Obj_7_9: 0.00</font></td><td style=\"border:solid;\" bgcolor=\"white\"></td><td style=\"border:solid;\" bgcolor=\"white\"></td><td style=\"border:solid;\" bgcolor=\"#C3C3C3\"></td></tr>\n",
       "<tr><td>4: in</td><td style=\"border:none;\" bgcolor=\"white\"></td><td style=\"border:none;\" bgcolor=\"white\"></td><td style=\"border:none;\" bgcolor=\"white\"></td><td style=\"border:none;\" bgcolor=\"white\"></td><td style=\"border:solid;\" bgcolor=\"white\"><font color=\"black\">PP_2: 0.00</font></td><td style=\"border:solid;\" bgcolor=\"white\"></td><td style=\"border:solid;\" bgcolor=\"#E1E1E1\"><font color=\"red\">PP: 0.00</font></td></tr>\n",
       "<tr><td>5: his</td><td style=\"border:none;\" bgcolor=\"white\"></td><td style=\"border:none;\" bgcolor=\"white\"></td><td style=\"border:none;\" bgcolor=\"white\"></td><td style=\"border:none;\" bgcolor=\"white\"></td><td style=\"border:none;\" bgcolor=\"white\"></td><td style=\"border:solid;\" bgcolor=\"white\"><font color=\"black\">PP_1_3: 0.00</font></td><td style=\"border:solid;\" bgcolor=\"white\"><font color=\"black\">PP_1: 0.00</font></td></tr>\n",
       "<tr><td>6: pyjamas</td><td style=\"border:none;\" bgcolor=\"white\"></td><td style=\"border:none;\" bgcolor=\"white\"></td><td style=\"border:none;\" bgcolor=\"white\"></td><td style=\"border:none;\" bgcolor=\"white\"></td><td style=\"border:none;\" bgcolor=\"white\"></td><td style=\"border:none;\" bgcolor=\"white\"></td><td style=\"border:solid;\" bgcolor=\"white\"><font color=\"black\">PP_1_4: 0.00</font></td></tr></table> 65 / 112</div>\n",
       "<div class=\"item\"><table><tr><td></td><td>0: He</td><td>1: shot</td><td>2: the</td><td>3: elephant</td><td>4: in</td><td>5: his</td><td>6: pyjamas</td></tr>\n",
       "<tr><td>0: He</td><td style=\"border:solid;\" bgcolor=\"white\"><font color=\"black\">Subj: 0.00</font></td><td style=\"border:solid;\" bgcolor=\"white\"></td><td style=\"border:solid;\" bgcolor=\"white\"></td><td style=\"border:solid;\" bgcolor=\"white\"><font color=\"black\">S: -1.90</font></td><td style=\"border:solid;\" bgcolor=\"white\"></td><td style=\"border:solid;\" bgcolor=\"white\"></td><td style=\"border:solid;\" bgcolor=\"white\"></td></tr>\n",
       "<tr><td>1: shot</td><td style=\"border:none;\" bgcolor=\"white\"></td><td style=\"border:solid;\" bgcolor=\"white\"><font color=\"black\">Verb: 0.00</font></td><td style=\"border:solid;\" bgcolor=\"white\"></td><td style=\"border:solid;\" bgcolor=\"white\"><font color=\"black\">VP: -1.90</font></td><td style=\"border:solid;\" bgcolor=\"white\"></td><td style=\"border:solid;\" bgcolor=\"white\"></td><td style=\"border:solid;\" bgcolor=\"white\"></td></tr>\n",
       "<tr><td>2: the</td><td style=\"border:none;\" bgcolor=\"white\"></td><td style=\"border:none;\" bgcolor=\"white\"></td><td style=\"border:solid;\" bgcolor=\"white\"><font color=\"black\">Obj_5: 0.00</font>, <font color=\"black\">Obj_8: 0.00</font></td><td style=\"border:solid;\" bgcolor=\"white\"><font color=\"black\">Obj: -0.69</font></td><td style=\"border:solid;\" bgcolor=\"white\"></td><td style=\"border:solid;\" bgcolor=\"white\"></td><td style=\"border:solid;\" bgcolor=\"white\"></td></tr>\n",
       "<tr><td>3: elephant</td><td style=\"border:none;\" bgcolor=\"white\"></td><td style=\"border:none;\" bgcolor=\"white\"></td><td style=\"border:none;\" bgcolor=\"white\"></td><td style=\"border:solid;\" bgcolor=\"#E1E1E1\"><font color=\"black\">Obj_6: 0.00</font>, <font color=\"red\">Obj_7_9: 0.00</font></td><td style=\"border:solid;\" bgcolor=\"white\"></td><td style=\"border:solid;\" bgcolor=\"white\"></td><td style=\"border:solid;\" bgcolor=\"#C3C3C3\"></td></tr>\n",
       "<tr><td>4: in</td><td style=\"border:none;\" bgcolor=\"white\"></td><td style=\"border:none;\" bgcolor=\"white\"></td><td style=\"border:none;\" bgcolor=\"white\"></td><td style=\"border:none;\" bgcolor=\"white\"></td><td style=\"border:solid;\" bgcolor=\"white\"><font color=\"black\">PP_2: 0.00</font></td><td style=\"border:solid;\" bgcolor=\"white\"></td><td style=\"border:solid;\" bgcolor=\"#E1E1E1\"><font color=\"red\">PP: 0.00</font></td></tr>\n",
       "<tr><td>5: his</td><td style=\"border:none;\" bgcolor=\"white\"></td><td style=\"border:none;\" bgcolor=\"white\"></td><td style=\"border:none;\" bgcolor=\"white\"></td><td style=\"border:none;\" bgcolor=\"white\"></td><td style=\"border:none;\" bgcolor=\"white\"></td><td style=\"border:solid;\" bgcolor=\"white\"><font color=\"black\">PP_1_3: 0.00</font></td><td style=\"border:solid;\" bgcolor=\"white\"><font color=\"black\">PP_1: 0.00</font></td></tr>\n",
       "<tr><td>6: pyjamas</td><td style=\"border:none;\" bgcolor=\"white\"></td><td style=\"border:none;\" bgcolor=\"white\"></td><td style=\"border:none;\" bgcolor=\"white\"></td><td style=\"border:none;\" bgcolor=\"white\"></td><td style=\"border:none;\" bgcolor=\"white\"></td><td style=\"border:none;\" bgcolor=\"white\"></td><td style=\"border:solid;\" bgcolor=\"white\"><font color=\"black\">PP_1_4: 0.00</font></td></tr></table> 66 / 112</div>\n",
       "<div class=\"item\"><table><tr><td></td><td>0: He</td><td>1: shot</td><td>2: the</td><td>3: elephant</td><td>4: in</td><td>5: his</td><td>6: pyjamas</td></tr>\n",
       "<tr><td>0: He</td><td style=\"border:solid;\" bgcolor=\"white\"><font color=\"black\">Subj: 0.00</font></td><td style=\"border:solid;\" bgcolor=\"white\"></td><td style=\"border:solid;\" bgcolor=\"white\"></td><td style=\"border:solid;\" bgcolor=\"white\"><font color=\"black\">S: -1.90</font></td><td style=\"border:solid;\" bgcolor=\"white\"></td><td style=\"border:solid;\" bgcolor=\"white\"></td><td style=\"border:solid;\" bgcolor=\"white\"></td></tr>\n",
       "<tr><td>1: shot</td><td style=\"border:none;\" bgcolor=\"white\"></td><td style=\"border:solid;\" bgcolor=\"white\"><font color=\"black\">Verb: 0.00</font></td><td style=\"border:solid;\" bgcolor=\"white\"></td><td style=\"border:solid;\" bgcolor=\"white\"><font color=\"black\">VP: -1.90</font></td><td style=\"border:solid;\" bgcolor=\"white\"></td><td style=\"border:solid;\" bgcolor=\"white\"></td><td style=\"border:solid;\" bgcolor=\"white\"></td></tr>\n",
       "<tr><td>2: the</td><td style=\"border:none;\" bgcolor=\"white\"></td><td style=\"border:none;\" bgcolor=\"white\"></td><td style=\"border:solid;\" bgcolor=\"white\"><font color=\"black\">Obj_5: 0.00</font>, <font color=\"black\">Obj_8: 0.00</font></td><td style=\"border:solid;\" bgcolor=\"white\"><font color=\"black\">Obj: -0.69</font></td><td style=\"border:solid;\" bgcolor=\"white\"></td><td style=\"border:solid;\" bgcolor=\"white\"></td><td style=\"border:solid;\" bgcolor=\"white\"></td></tr>\n",
       "<tr><td>3: elephant</td><td style=\"border:none;\" bgcolor=\"white\"></td><td style=\"border:none;\" bgcolor=\"white\"></td><td style=\"border:none;\" bgcolor=\"white\"></td><td style=\"border:solid;\" bgcolor=\"#E1E1E1\"><font color=\"black\">Obj_6: 0.00</font>, <font color=\"red\">Obj_7_9: 0.00</font></td><td style=\"border:solid;\" bgcolor=\"white\"></td><td style=\"border:solid;\" bgcolor=\"white\"></td><td style=\"border:solid;\" bgcolor=\"#C3C3C3\"><font color=\"blue\">Obj_7: 0.00</font></td></tr>\n",
       "<tr><td>4: in</td><td style=\"border:none;\" bgcolor=\"white\"></td><td style=\"border:none;\" bgcolor=\"white\"></td><td style=\"border:none;\" bgcolor=\"white\"></td><td style=\"border:none;\" bgcolor=\"white\"></td><td style=\"border:solid;\" bgcolor=\"white\"><font color=\"black\">PP_2: 0.00</font></td><td style=\"border:solid;\" bgcolor=\"white\"></td><td style=\"border:solid;\" bgcolor=\"#E1E1E1\"><font color=\"red\">PP: 0.00</font></td></tr>\n",
       "<tr><td>5: his</td><td style=\"border:none;\" bgcolor=\"white\"></td><td style=\"border:none;\" bgcolor=\"white\"></td><td style=\"border:none;\" bgcolor=\"white\"></td><td style=\"border:none;\" bgcolor=\"white\"></td><td style=\"border:none;\" bgcolor=\"white\"></td><td style=\"border:solid;\" bgcolor=\"white\"><font color=\"black\">PP_1_3: 0.00</font></td><td style=\"border:solid;\" bgcolor=\"white\"><font color=\"black\">PP_1: 0.00</font></td></tr>\n",
       "<tr><td>6: pyjamas</td><td style=\"border:none;\" bgcolor=\"white\"></td><td style=\"border:none;\" bgcolor=\"white\"></td><td style=\"border:none;\" bgcolor=\"white\"></td><td style=\"border:none;\" bgcolor=\"white\"></td><td style=\"border:none;\" bgcolor=\"white\"></td><td style=\"border:none;\" bgcolor=\"white\"></td><td style=\"border:solid;\" bgcolor=\"white\"><font color=\"black\">PP_1_4: 0.00</font></td></tr></table> 67 / 112</div>\n",
       "<div class=\"item\"><table><tr><td></td><td>0: He</td><td>1: shot</td><td>2: the</td><td>3: elephant</td><td>4: in</td><td>5: his</td><td>6: pyjamas</td></tr>\n",
       "<tr><td>0: He</td><td style=\"border:solid;\" bgcolor=\"white\"><font color=\"black\">Subj: 0.00</font></td><td style=\"border:solid;\" bgcolor=\"white\"></td><td style=\"border:solid;\" bgcolor=\"white\"></td><td style=\"border:solid;\" bgcolor=\"white\"><font color=\"black\">S: -1.90</font></td><td style=\"border:solid;\" bgcolor=\"white\"></td><td style=\"border:solid;\" bgcolor=\"white\"></td><td style=\"border:solid;\" bgcolor=\"white\"></td></tr>\n",
       "<tr><td>1: shot</td><td style=\"border:none;\" bgcolor=\"white\"></td><td style=\"border:solid;\" bgcolor=\"white\"><font color=\"black\">Verb: 0.00</font></td><td style=\"border:solid;\" bgcolor=\"white\"></td><td style=\"border:solid;\" bgcolor=\"white\"><font color=\"black\">VP: -1.90</font></td><td style=\"border:solid;\" bgcolor=\"white\"></td><td style=\"border:solid;\" bgcolor=\"white\"></td><td style=\"border:solid;\" bgcolor=\"white\"></td></tr>\n",
       "<tr><td>2: the</td><td style=\"border:none;\" bgcolor=\"white\"></td><td style=\"border:none;\" bgcolor=\"white\"></td><td style=\"border:solid;\" bgcolor=\"white\"><font color=\"black\">Obj_5: 0.00</font>, <font color=\"black\">Obj_8: 0.00</font></td><td style=\"border:solid;\" bgcolor=\"white\"><font color=\"black\">Obj: -0.69</font></td><td style=\"border:solid;\" bgcolor=\"white\"></td><td style=\"border:solid;\" bgcolor=\"white\"></td><td style=\"border:solid;\" bgcolor=\"white\"></td></tr>\n",
       "<tr><td>3: elephant</td><td style=\"border:none;\" bgcolor=\"white\"></td><td style=\"border:none;\" bgcolor=\"white\"></td><td style=\"border:none;\" bgcolor=\"white\"></td><td style=\"border:solid;\" bgcolor=\"white\"><font color=\"black\">Obj_6: 0.00</font>, <font color=\"black\">Obj_7_9: 0.00</font></td><td style=\"border:solid;\" bgcolor=\"#E1E1E1\"></td><td style=\"border:solid;\" bgcolor=\"white\"></td><td style=\"border:solid;\" bgcolor=\"#C3C3C3\"><font color=\"black\">Obj_7: 0.00</font></td></tr>\n",
       "<tr><td>4: in</td><td style=\"border:none;\" bgcolor=\"white\"></td><td style=\"border:none;\" bgcolor=\"white\"></td><td style=\"border:none;\" bgcolor=\"white\"></td><td style=\"border:none;\" bgcolor=\"white\"></td><td style=\"border:solid;\" bgcolor=\"white\"><font color=\"black\">PP_2: 0.00</font></td><td style=\"border:solid;\" bgcolor=\"white\"></td><td style=\"border:solid;\" bgcolor=\"white\"><font color=\"black\">PP: 0.00</font></td></tr>\n",
       "<tr><td>5: his</td><td style=\"border:none;\" bgcolor=\"white\"></td><td style=\"border:none;\" bgcolor=\"white\"></td><td style=\"border:none;\" bgcolor=\"white\"></td><td style=\"border:none;\" bgcolor=\"white\"></td><td style=\"border:none;\" bgcolor=\"white\"></td><td style=\"border:solid;\" bgcolor=\"white\"><font color=\"black\">PP_1_3: 0.00</font></td><td style=\"border:solid;\" bgcolor=\"#E1E1E1\"><font color=\"black\">PP_1: 0.00</font></td></tr>\n",
       "<tr><td>6: pyjamas</td><td style=\"border:none;\" bgcolor=\"white\"></td><td style=\"border:none;\" bgcolor=\"white\"></td><td style=\"border:none;\" bgcolor=\"white\"></td><td style=\"border:none;\" bgcolor=\"white\"></td><td style=\"border:none;\" bgcolor=\"white\"></td><td style=\"border:none;\" bgcolor=\"white\"></td><td style=\"border:solid;\" bgcolor=\"white\"><font color=\"black\">PP_1_4: 0.00</font></td></tr></table> 68 / 112</div>\n",
       "<div class=\"item\"><table><tr><td></td><td>0: He</td><td>1: shot</td><td>2: the</td><td>3: elephant</td><td>4: in</td><td>5: his</td><td>6: pyjamas</td></tr>\n",
       "<tr><td>0: He</td><td style=\"border:solid;\" bgcolor=\"white\"><font color=\"black\">Subj: 0.00</font></td><td style=\"border:solid;\" bgcolor=\"white\"></td><td style=\"border:solid;\" bgcolor=\"white\"></td><td style=\"border:solid;\" bgcolor=\"white\"><font color=\"black\">S: -1.90</font></td><td style=\"border:solid;\" bgcolor=\"white\"></td><td style=\"border:solid;\" bgcolor=\"white\"></td><td style=\"border:solid;\" bgcolor=\"white\"></td></tr>\n",
       "<tr><td>1: shot</td><td style=\"border:none;\" bgcolor=\"white\"></td><td style=\"border:solid;\" bgcolor=\"white\"><font color=\"black\">Verb: 0.00</font></td><td style=\"border:solid;\" bgcolor=\"white\"></td><td style=\"border:solid;\" bgcolor=\"white\"><font color=\"black\">VP: -1.90</font></td><td style=\"border:solid;\" bgcolor=\"white\"></td><td style=\"border:solid;\" bgcolor=\"white\"></td><td style=\"border:solid;\" bgcolor=\"white\"></td></tr>\n",
       "<tr><td>2: the</td><td style=\"border:none;\" bgcolor=\"white\"></td><td style=\"border:none;\" bgcolor=\"white\"></td><td style=\"border:solid;\" bgcolor=\"white\"><font color=\"black\">Obj_5: 0.00</font>, <font color=\"black\">Obj_8: 0.00</font></td><td style=\"border:solid;\" bgcolor=\"white\"><font color=\"black\">Obj: -0.69</font></td><td style=\"border:solid;\" bgcolor=\"white\"></td><td style=\"border:solid;\" bgcolor=\"white\"></td><td style=\"border:solid;\" bgcolor=\"white\"></td></tr>\n",
       "<tr><td>3: elephant</td><td style=\"border:none;\" bgcolor=\"white\"></td><td style=\"border:none;\" bgcolor=\"white\"></td><td style=\"border:none;\" bgcolor=\"white\"></td><td style=\"border:solid;\" bgcolor=\"white\"><font color=\"black\">Obj_6: 0.00</font>, <font color=\"black\">Obj_7_9: 0.00</font></td><td style=\"border:solid;\" bgcolor=\"white\"></td><td style=\"border:solid;\" bgcolor=\"#E1E1E1\"></td><td style=\"border:solid;\" bgcolor=\"#C3C3C3\"><font color=\"black\">Obj_7: 0.00</font></td></tr>\n",
       "<tr><td>4: in</td><td style=\"border:none;\" bgcolor=\"white\"></td><td style=\"border:none;\" bgcolor=\"white\"></td><td style=\"border:none;\" bgcolor=\"white\"></td><td style=\"border:none;\" bgcolor=\"white\"></td><td style=\"border:solid;\" bgcolor=\"white\"><font color=\"black\">PP_2: 0.00</font></td><td style=\"border:solid;\" bgcolor=\"white\"></td><td style=\"border:solid;\" bgcolor=\"white\"><font color=\"black\">PP: 0.00</font></td></tr>\n",
       "<tr><td>5: his</td><td style=\"border:none;\" bgcolor=\"white\"></td><td style=\"border:none;\" bgcolor=\"white\"></td><td style=\"border:none;\" bgcolor=\"white\"></td><td style=\"border:none;\" bgcolor=\"white\"></td><td style=\"border:none;\" bgcolor=\"white\"></td><td style=\"border:solid;\" bgcolor=\"white\"><font color=\"black\">PP_1_3: 0.00</font></td><td style=\"border:solid;\" bgcolor=\"white\"><font color=\"black\">PP_1: 0.00</font></td></tr>\n",
       "<tr><td>6: pyjamas</td><td style=\"border:none;\" bgcolor=\"white\"></td><td style=\"border:none;\" bgcolor=\"white\"></td><td style=\"border:none;\" bgcolor=\"white\"></td><td style=\"border:none;\" bgcolor=\"white\"></td><td style=\"border:none;\" bgcolor=\"white\"></td><td style=\"border:none;\" bgcolor=\"white\"></td><td style=\"border:solid;\" bgcolor=\"#E1E1E1\"><font color=\"black\">PP_1_4: 0.00</font></td></tr></table> 69 / 112</div>\n",
       "<div class=\"item\"><table><tr><td></td><td>0: He</td><td>1: shot</td><td>2: the</td><td>3: elephant</td><td>4: in</td><td>5: his</td><td>6: pyjamas</td></tr>\n",
       "<tr><td>0: He</td><td style=\"border:solid;\" bgcolor=\"#E1E1E1\"><font color=\"black\">Subj: 0.00</font></td><td style=\"border:solid;\" bgcolor=\"white\"></td><td style=\"border:solid;\" bgcolor=\"white\"></td><td style=\"border:solid;\" bgcolor=\"white\"><font color=\"black\">S: -1.90</font></td><td style=\"border:solid;\" bgcolor=\"#C3C3C3\"></td><td style=\"border:solid;\" bgcolor=\"white\"></td><td style=\"border:solid;\" bgcolor=\"white\"></td></tr>\n",
       "<tr><td>1: shot</td><td style=\"border:none;\" bgcolor=\"white\"></td><td style=\"border:solid;\" bgcolor=\"white\"><font color=\"black\">Verb: 0.00</font></td><td style=\"border:solid;\" bgcolor=\"white\"></td><td style=\"border:solid;\" bgcolor=\"white\"><font color=\"black\">VP: -1.90</font></td><td style=\"border:solid;\" bgcolor=\"#E1E1E1\"></td><td style=\"border:solid;\" bgcolor=\"white\"></td><td style=\"border:solid;\" bgcolor=\"white\"></td></tr>\n",
       "<tr><td>2: the</td><td style=\"border:none;\" bgcolor=\"white\"></td><td style=\"border:none;\" bgcolor=\"white\"></td><td style=\"border:solid;\" bgcolor=\"white\"><font color=\"black\">Obj_5: 0.00</font>, <font color=\"black\">Obj_8: 0.00</font></td><td style=\"border:solid;\" bgcolor=\"white\"><font color=\"black\">Obj: -0.69</font></td><td style=\"border:solid;\" bgcolor=\"white\"></td><td style=\"border:solid;\" bgcolor=\"white\"></td><td style=\"border:solid;\" bgcolor=\"white\"></td></tr>\n",
       "<tr><td>3: elephant</td><td style=\"border:none;\" bgcolor=\"white\"></td><td style=\"border:none;\" bgcolor=\"white\"></td><td style=\"border:none;\" bgcolor=\"white\"></td><td style=\"border:solid;\" bgcolor=\"white\"><font color=\"black\">Obj_6: 0.00</font>, <font color=\"black\">Obj_7_9: 0.00</font></td><td style=\"border:solid;\" bgcolor=\"white\"></td><td style=\"border:solid;\" bgcolor=\"white\"></td><td style=\"border:solid;\" bgcolor=\"white\"><font color=\"black\">Obj_7: 0.00</font></td></tr>\n",
       "<tr><td>4: in</td><td style=\"border:none;\" bgcolor=\"white\"></td><td style=\"border:none;\" bgcolor=\"white\"></td><td style=\"border:none;\" bgcolor=\"white\"></td><td style=\"border:none;\" bgcolor=\"white\"></td><td style=\"border:solid;\" bgcolor=\"white\"><font color=\"black\">PP_2: 0.00</font></td><td style=\"border:solid;\" bgcolor=\"white\"></td><td style=\"border:solid;\" bgcolor=\"white\"><font color=\"black\">PP: 0.00</font></td></tr>\n",
       "<tr><td>5: his</td><td style=\"border:none;\" bgcolor=\"white\"></td><td style=\"border:none;\" bgcolor=\"white\"></td><td style=\"border:none;\" bgcolor=\"white\"></td><td style=\"border:none;\" bgcolor=\"white\"></td><td style=\"border:none;\" bgcolor=\"white\"></td><td style=\"border:solid;\" bgcolor=\"white\"><font color=\"black\">PP_1_3: 0.00</font></td><td style=\"border:solid;\" bgcolor=\"white\"><font color=\"black\">PP_1: 0.00</font></td></tr>\n",
       "<tr><td>6: pyjamas</td><td style=\"border:none;\" bgcolor=\"white\"></td><td style=\"border:none;\" bgcolor=\"white\"></td><td style=\"border:none;\" bgcolor=\"white\"></td><td style=\"border:none;\" bgcolor=\"white\"></td><td style=\"border:none;\" bgcolor=\"white\"></td><td style=\"border:none;\" bgcolor=\"white\"></td><td style=\"border:solid;\" bgcolor=\"white\"><font color=\"black\">PP_1_4: 0.00</font></td></tr></table> 70 / 112</div>\n",
       "<div class=\"item\"><table><tr><td></td><td>0: He</td><td>1: shot</td><td>2: the</td><td>3: elephant</td><td>4: in</td><td>5: his</td><td>6: pyjamas</td></tr>\n",
       "<tr><td>0: He</td><td style=\"border:solid;\" bgcolor=\"white\"><font color=\"black\">Subj: 0.00</font></td><td style=\"border:solid;\" bgcolor=\"#E1E1E1\"></td><td style=\"border:solid;\" bgcolor=\"white\"></td><td style=\"border:solid;\" bgcolor=\"white\"><font color=\"black\">S: -1.90</font></td><td style=\"border:solid;\" bgcolor=\"#C3C3C3\"></td><td style=\"border:solid;\" bgcolor=\"white\"></td><td style=\"border:solid;\" bgcolor=\"white\"></td></tr>\n",
       "<tr><td>1: shot</td><td style=\"border:none;\" bgcolor=\"white\"></td><td style=\"border:solid;\" bgcolor=\"white\"><font color=\"black\">Verb: 0.00</font></td><td style=\"border:solid;\" bgcolor=\"white\"></td><td style=\"border:solid;\" bgcolor=\"white\"><font color=\"black\">VP: -1.90</font></td><td style=\"border:solid;\" bgcolor=\"white\"></td><td style=\"border:solid;\" bgcolor=\"white\"></td><td style=\"border:solid;\" bgcolor=\"white\"></td></tr>\n",
       "<tr><td>2: the</td><td style=\"border:none;\" bgcolor=\"white\"></td><td style=\"border:none;\" bgcolor=\"white\"></td><td style=\"border:solid;\" bgcolor=\"white\"><font color=\"black\">Obj_5: 0.00</font>, <font color=\"black\">Obj_8: 0.00</font></td><td style=\"border:solid;\" bgcolor=\"white\"><font color=\"black\">Obj: -0.69</font></td><td style=\"border:solid;\" bgcolor=\"#E1E1E1\"></td><td style=\"border:solid;\" bgcolor=\"white\"></td><td style=\"border:solid;\" bgcolor=\"white\"></td></tr>\n",
       "<tr><td>3: elephant</td><td style=\"border:none;\" bgcolor=\"white\"></td><td style=\"border:none;\" bgcolor=\"white\"></td><td style=\"border:none;\" bgcolor=\"white\"></td><td style=\"border:solid;\" bgcolor=\"white\"><font color=\"black\">Obj_6: 0.00</font>, <font color=\"black\">Obj_7_9: 0.00</font></td><td style=\"border:solid;\" bgcolor=\"white\"></td><td style=\"border:solid;\" bgcolor=\"white\"></td><td style=\"border:solid;\" bgcolor=\"white\"><font color=\"black\">Obj_7: 0.00</font></td></tr>\n",
       "<tr><td>4: in</td><td style=\"border:none;\" bgcolor=\"white\"></td><td style=\"border:none;\" bgcolor=\"white\"></td><td style=\"border:none;\" bgcolor=\"white\"></td><td style=\"border:none;\" bgcolor=\"white\"></td><td style=\"border:solid;\" bgcolor=\"white\"><font color=\"black\">PP_2: 0.00</font></td><td style=\"border:solid;\" bgcolor=\"white\"></td><td style=\"border:solid;\" bgcolor=\"white\"><font color=\"black\">PP: 0.00</font></td></tr>\n",
       "<tr><td>5: his</td><td style=\"border:none;\" bgcolor=\"white\"></td><td style=\"border:none;\" bgcolor=\"white\"></td><td style=\"border:none;\" bgcolor=\"white\"></td><td style=\"border:none;\" bgcolor=\"white\"></td><td style=\"border:none;\" bgcolor=\"white\"></td><td style=\"border:solid;\" bgcolor=\"white\"><font color=\"black\">PP_1_3: 0.00</font></td><td style=\"border:solid;\" bgcolor=\"white\"><font color=\"black\">PP_1: 0.00</font></td></tr>\n",
       "<tr><td>6: pyjamas</td><td style=\"border:none;\" bgcolor=\"white\"></td><td style=\"border:none;\" bgcolor=\"white\"></td><td style=\"border:none;\" bgcolor=\"white\"></td><td style=\"border:none;\" bgcolor=\"white\"></td><td style=\"border:none;\" bgcolor=\"white\"></td><td style=\"border:none;\" bgcolor=\"white\"></td><td style=\"border:solid;\" bgcolor=\"white\"><font color=\"black\">PP_1_4: 0.00</font></td></tr></table> 71 / 112</div>\n",
       "<div class=\"item\"><table><tr><td></td><td>0: He</td><td>1: shot</td><td>2: the</td><td>3: elephant</td><td>4: in</td><td>5: his</td><td>6: pyjamas</td></tr>\n",
       "<tr><td>0: He</td><td style=\"border:solid;\" bgcolor=\"white\"><font color=\"black\">Subj: 0.00</font></td><td style=\"border:solid;\" bgcolor=\"white\"></td><td style=\"border:solid;\" bgcolor=\"#E1E1E1\"></td><td style=\"border:solid;\" bgcolor=\"white\"><font color=\"black\">S: -1.90</font></td><td style=\"border:solid;\" bgcolor=\"#C3C3C3\"></td><td style=\"border:solid;\" bgcolor=\"white\"></td><td style=\"border:solid;\" bgcolor=\"white\"></td></tr>\n",
       "<tr><td>1: shot</td><td style=\"border:none;\" bgcolor=\"white\"></td><td style=\"border:solid;\" bgcolor=\"white\"><font color=\"black\">Verb: 0.00</font></td><td style=\"border:solid;\" bgcolor=\"white\"></td><td style=\"border:solid;\" bgcolor=\"white\"><font color=\"black\">VP: -1.90</font></td><td style=\"border:solid;\" bgcolor=\"white\"></td><td style=\"border:solid;\" bgcolor=\"white\"></td><td style=\"border:solid;\" bgcolor=\"white\"></td></tr>\n",
       "<tr><td>2: the</td><td style=\"border:none;\" bgcolor=\"white\"></td><td style=\"border:none;\" bgcolor=\"white\"></td><td style=\"border:solid;\" bgcolor=\"white\"><font color=\"black\">Obj_5: 0.00</font>, <font color=\"black\">Obj_8: 0.00</font></td><td style=\"border:solid;\" bgcolor=\"white\"><font color=\"black\">Obj: -0.69</font></td><td style=\"border:solid;\" bgcolor=\"white\"></td><td style=\"border:solid;\" bgcolor=\"white\"></td><td style=\"border:solid;\" bgcolor=\"white\"></td></tr>\n",
       "<tr><td>3: elephant</td><td style=\"border:none;\" bgcolor=\"white\"></td><td style=\"border:none;\" bgcolor=\"white\"></td><td style=\"border:none;\" bgcolor=\"white\"></td><td style=\"border:solid;\" bgcolor=\"white\"><font color=\"black\">Obj_6: 0.00</font>, <font color=\"black\">Obj_7_9: 0.00</font></td><td style=\"border:solid;\" bgcolor=\"#E1E1E1\"></td><td style=\"border:solid;\" bgcolor=\"white\"></td><td style=\"border:solid;\" bgcolor=\"white\"><font color=\"black\">Obj_7: 0.00</font></td></tr>\n",
       "<tr><td>4: in</td><td style=\"border:none;\" bgcolor=\"white\"></td><td style=\"border:none;\" bgcolor=\"white\"></td><td style=\"border:none;\" bgcolor=\"white\"></td><td style=\"border:none;\" bgcolor=\"white\"></td><td style=\"border:solid;\" bgcolor=\"white\"><font color=\"black\">PP_2: 0.00</font></td><td style=\"border:solid;\" bgcolor=\"white\"></td><td style=\"border:solid;\" bgcolor=\"white\"><font color=\"black\">PP: 0.00</font></td></tr>\n",
       "<tr><td>5: his</td><td style=\"border:none;\" bgcolor=\"white\"></td><td style=\"border:none;\" bgcolor=\"white\"></td><td style=\"border:none;\" bgcolor=\"white\"></td><td style=\"border:none;\" bgcolor=\"white\"></td><td style=\"border:none;\" bgcolor=\"white\"></td><td style=\"border:solid;\" bgcolor=\"white\"><font color=\"black\">PP_1_3: 0.00</font></td><td style=\"border:solid;\" bgcolor=\"white\"><font color=\"black\">PP_1: 0.00</font></td></tr>\n",
       "<tr><td>6: pyjamas</td><td style=\"border:none;\" bgcolor=\"white\"></td><td style=\"border:none;\" bgcolor=\"white\"></td><td style=\"border:none;\" bgcolor=\"white\"></td><td style=\"border:none;\" bgcolor=\"white\"></td><td style=\"border:none;\" bgcolor=\"white\"></td><td style=\"border:none;\" bgcolor=\"white\"></td><td style=\"border:solid;\" bgcolor=\"white\"><font color=\"black\">PP_1_4: 0.00</font></td></tr></table> 72 / 112</div>\n",
       "<div class=\"item\"><table><tr><td></td><td>0: He</td><td>1: shot</td><td>2: the</td><td>3: elephant</td><td>4: in</td><td>5: his</td><td>6: pyjamas</td></tr>\n",
       "<tr><td>0: He</td><td style=\"border:solid;\" bgcolor=\"white\"><font color=\"black\">Subj: 0.00</font></td><td style=\"border:solid;\" bgcolor=\"white\"></td><td style=\"border:solid;\" bgcolor=\"white\"></td><td style=\"border:solid;\" bgcolor=\"#E1E1E1\"><font color=\"black\">S: -1.90</font></td><td style=\"border:solid;\" bgcolor=\"#C3C3C3\"></td><td style=\"border:solid;\" bgcolor=\"white\"></td><td style=\"border:solid;\" bgcolor=\"white\"></td></tr>\n",
       "<tr><td>1: shot</td><td style=\"border:none;\" bgcolor=\"white\"></td><td style=\"border:solid;\" bgcolor=\"white\"><font color=\"black\">Verb: 0.00</font></td><td style=\"border:solid;\" bgcolor=\"white\"></td><td style=\"border:solid;\" bgcolor=\"white\"><font color=\"black\">VP: -1.90</font></td><td style=\"border:solid;\" bgcolor=\"white\"></td><td style=\"border:solid;\" bgcolor=\"white\"></td><td style=\"border:solid;\" bgcolor=\"white\"></td></tr>\n",
       "<tr><td>2: the</td><td style=\"border:none;\" bgcolor=\"white\"></td><td style=\"border:none;\" bgcolor=\"white\"></td><td style=\"border:solid;\" bgcolor=\"white\"><font color=\"black\">Obj_5: 0.00</font>, <font color=\"black\">Obj_8: 0.00</font></td><td style=\"border:solid;\" bgcolor=\"white\"><font color=\"black\">Obj: -0.69</font></td><td style=\"border:solid;\" bgcolor=\"white\"></td><td style=\"border:solid;\" bgcolor=\"white\"></td><td style=\"border:solid;\" bgcolor=\"white\"></td></tr>\n",
       "<tr><td>3: elephant</td><td style=\"border:none;\" bgcolor=\"white\"></td><td style=\"border:none;\" bgcolor=\"white\"></td><td style=\"border:none;\" bgcolor=\"white\"></td><td style=\"border:solid;\" bgcolor=\"white\"><font color=\"black\">Obj_6: 0.00</font>, <font color=\"black\">Obj_7_9: 0.00</font></td><td style=\"border:solid;\" bgcolor=\"white\"></td><td style=\"border:solid;\" bgcolor=\"white\"></td><td style=\"border:solid;\" bgcolor=\"white\"><font color=\"black\">Obj_7: 0.00</font></td></tr>\n",
       "<tr><td>4: in</td><td style=\"border:none;\" bgcolor=\"white\"></td><td style=\"border:none;\" bgcolor=\"white\"></td><td style=\"border:none;\" bgcolor=\"white\"></td><td style=\"border:none;\" bgcolor=\"white\"></td><td style=\"border:solid;\" bgcolor=\"#E1E1E1\"><font color=\"black\">PP_2: 0.00</font></td><td style=\"border:solid;\" bgcolor=\"white\"></td><td style=\"border:solid;\" bgcolor=\"white\"><font color=\"black\">PP: 0.00</font></td></tr>\n",
       "<tr><td>5: his</td><td style=\"border:none;\" bgcolor=\"white\"></td><td style=\"border:none;\" bgcolor=\"white\"></td><td style=\"border:none;\" bgcolor=\"white\"></td><td style=\"border:none;\" bgcolor=\"white\"></td><td style=\"border:none;\" bgcolor=\"white\"></td><td style=\"border:solid;\" bgcolor=\"white\"><font color=\"black\">PP_1_3: 0.00</font></td><td style=\"border:solid;\" bgcolor=\"white\"><font color=\"black\">PP_1: 0.00</font></td></tr>\n",
       "<tr><td>6: pyjamas</td><td style=\"border:none;\" bgcolor=\"white\"></td><td style=\"border:none;\" bgcolor=\"white\"></td><td style=\"border:none;\" bgcolor=\"white\"></td><td style=\"border:none;\" bgcolor=\"white\"></td><td style=\"border:none;\" bgcolor=\"white\"></td><td style=\"border:none;\" bgcolor=\"white\"></td><td style=\"border:solid;\" bgcolor=\"white\"><font color=\"black\">PP_1_4: 0.00</font></td></tr></table> 73 / 112</div>\n",
       "<div class=\"item\"><table><tr><td></td><td>0: He</td><td>1: shot</td><td>2: the</td><td>3: elephant</td><td>4: in</td><td>5: his</td><td>6: pyjamas</td></tr>\n",
       "<tr><td>0: He</td><td style=\"border:solid;\" bgcolor=\"white\"><font color=\"black\">Subj: 0.00</font></td><td style=\"border:solid;\" bgcolor=\"white\"></td><td style=\"border:solid;\" bgcolor=\"white\"></td><td style=\"border:solid;\" bgcolor=\"#E1E1E1\"><font color=\"red\">S: -1.90</font></td><td style=\"border:solid;\" bgcolor=\"#C3C3C3\"></td><td style=\"border:solid;\" bgcolor=\"white\"></td><td style=\"border:solid;\" bgcolor=\"white\"></td></tr>\n",
       "<tr><td>1: shot</td><td style=\"border:none;\" bgcolor=\"white\"></td><td style=\"border:solid;\" bgcolor=\"white\"><font color=\"black\">Verb: 0.00</font></td><td style=\"border:solid;\" bgcolor=\"white\"></td><td style=\"border:solid;\" bgcolor=\"white\"><font color=\"black\">VP: -1.90</font></td><td style=\"border:solid;\" bgcolor=\"white\"></td><td style=\"border:solid;\" bgcolor=\"white\"></td><td style=\"border:solid;\" bgcolor=\"white\"></td></tr>\n",
       "<tr><td>2: the</td><td style=\"border:none;\" bgcolor=\"white\"></td><td style=\"border:none;\" bgcolor=\"white\"></td><td style=\"border:solid;\" bgcolor=\"white\"><font color=\"black\">Obj_5: 0.00</font>, <font color=\"black\">Obj_8: 0.00</font></td><td style=\"border:solid;\" bgcolor=\"white\"><font color=\"black\">Obj: -0.69</font></td><td style=\"border:solid;\" bgcolor=\"white\"></td><td style=\"border:solid;\" bgcolor=\"white\"></td><td style=\"border:solid;\" bgcolor=\"white\"></td></tr>\n",
       "<tr><td>3: elephant</td><td style=\"border:none;\" bgcolor=\"white\"></td><td style=\"border:none;\" bgcolor=\"white\"></td><td style=\"border:none;\" bgcolor=\"white\"></td><td style=\"border:solid;\" bgcolor=\"white\"><font color=\"black\">Obj_6: 0.00</font>, <font color=\"black\">Obj_7_9: 0.00</font></td><td style=\"border:solid;\" bgcolor=\"white\"></td><td style=\"border:solid;\" bgcolor=\"white\"></td><td style=\"border:solid;\" bgcolor=\"white\"><font color=\"black\">Obj_7: 0.00</font></td></tr>\n",
       "<tr><td>4: in</td><td style=\"border:none;\" bgcolor=\"white\"></td><td style=\"border:none;\" bgcolor=\"white\"></td><td style=\"border:none;\" bgcolor=\"white\"></td><td style=\"border:none;\" bgcolor=\"white\"></td><td style=\"border:solid;\" bgcolor=\"#E1E1E1\"><font color=\"red\">PP_2: 0.00</font></td><td style=\"border:solid;\" bgcolor=\"white\"></td><td style=\"border:solid;\" bgcolor=\"white\"><font color=\"black\">PP: 0.00</font></td></tr>\n",
       "<tr><td>5: his</td><td style=\"border:none;\" bgcolor=\"white\"></td><td style=\"border:none;\" bgcolor=\"white\"></td><td style=\"border:none;\" bgcolor=\"white\"></td><td style=\"border:none;\" bgcolor=\"white\"></td><td style=\"border:none;\" bgcolor=\"white\"></td><td style=\"border:solid;\" bgcolor=\"white\"><font color=\"black\">PP_1_3: 0.00</font></td><td style=\"border:solid;\" bgcolor=\"white\"><font color=\"black\">PP_1: 0.00</font></td></tr>\n",
       "<tr><td>6: pyjamas</td><td style=\"border:none;\" bgcolor=\"white\"></td><td style=\"border:none;\" bgcolor=\"white\"></td><td style=\"border:none;\" bgcolor=\"white\"></td><td style=\"border:none;\" bgcolor=\"white\"></td><td style=\"border:none;\" bgcolor=\"white\"></td><td style=\"border:none;\" bgcolor=\"white\"></td><td style=\"border:solid;\" bgcolor=\"white\"><font color=\"black\">PP_1_4: 0.00</font></td></tr></table> 74 / 112</div>\n",
       "<div class=\"item\"><table><tr><td></td><td>0: He</td><td>1: shot</td><td>2: the</td><td>3: elephant</td><td>4: in</td><td>5: his</td><td>6: pyjamas</td></tr>\n",
       "<tr><td>0: He</td><td style=\"border:solid;\" bgcolor=\"white\"><font color=\"black\">Subj: 0.00</font></td><td style=\"border:solid;\" bgcolor=\"white\"></td><td style=\"border:solid;\" bgcolor=\"white\"></td><td style=\"border:solid;\" bgcolor=\"white\"><font color=\"black\">S: -1.90</font></td><td style=\"border:solid;\" bgcolor=\"white\"></td><td style=\"border:solid;\" bgcolor=\"white\"></td><td style=\"border:solid;\" bgcolor=\"white\"></td></tr>\n",
       "<tr><td>1: shot</td><td style=\"border:none;\" bgcolor=\"white\"></td><td style=\"border:solid;\" bgcolor=\"#E1E1E1\"><font color=\"black\">Verb: 0.00</font></td><td style=\"border:solid;\" bgcolor=\"white\"></td><td style=\"border:solid;\" bgcolor=\"white\"><font color=\"black\">VP: -1.90</font></td><td style=\"border:solid;\" bgcolor=\"white\"></td><td style=\"border:solid;\" bgcolor=\"#C3C3C3\"></td><td style=\"border:solid;\" bgcolor=\"white\"></td></tr>\n",
       "<tr><td>2: the</td><td style=\"border:none;\" bgcolor=\"white\"></td><td style=\"border:none;\" bgcolor=\"white\"></td><td style=\"border:solid;\" bgcolor=\"white\"><font color=\"black\">Obj_5: 0.00</font>, <font color=\"black\">Obj_8: 0.00</font></td><td style=\"border:solid;\" bgcolor=\"white\"><font color=\"black\">Obj: -0.69</font></td><td style=\"border:solid;\" bgcolor=\"white\"></td><td style=\"border:solid;\" bgcolor=\"#E1E1E1\"></td><td style=\"border:solid;\" bgcolor=\"white\"></td></tr>\n",
       "<tr><td>3: elephant</td><td style=\"border:none;\" bgcolor=\"white\"></td><td style=\"border:none;\" bgcolor=\"white\"></td><td style=\"border:none;\" bgcolor=\"white\"></td><td style=\"border:solid;\" bgcolor=\"white\"><font color=\"black\">Obj_6: 0.00</font>, <font color=\"black\">Obj_7_9: 0.00</font></td><td style=\"border:solid;\" bgcolor=\"white\"></td><td style=\"border:solid;\" bgcolor=\"white\"></td><td style=\"border:solid;\" bgcolor=\"white\"><font color=\"black\">Obj_7: 0.00</font></td></tr>\n",
       "<tr><td>4: in</td><td style=\"border:none;\" bgcolor=\"white\"></td><td style=\"border:none;\" bgcolor=\"white\"></td><td style=\"border:none;\" bgcolor=\"white\"></td><td style=\"border:none;\" bgcolor=\"white\"></td><td style=\"border:solid;\" bgcolor=\"white\"><font color=\"black\">PP_2: 0.00</font></td><td style=\"border:solid;\" bgcolor=\"white\"></td><td style=\"border:solid;\" bgcolor=\"white\"><font color=\"black\">PP: 0.00</font></td></tr>\n",
       "<tr><td>5: his</td><td style=\"border:none;\" bgcolor=\"white\"></td><td style=\"border:none;\" bgcolor=\"white\"></td><td style=\"border:none;\" bgcolor=\"white\"></td><td style=\"border:none;\" bgcolor=\"white\"></td><td style=\"border:none;\" bgcolor=\"white\"></td><td style=\"border:solid;\" bgcolor=\"white\"><font color=\"black\">PP_1_3: 0.00</font></td><td style=\"border:solid;\" bgcolor=\"white\"><font color=\"black\">PP_1: 0.00</font></td></tr>\n",
       "<tr><td>6: pyjamas</td><td style=\"border:none;\" bgcolor=\"white\"></td><td style=\"border:none;\" bgcolor=\"white\"></td><td style=\"border:none;\" bgcolor=\"white\"></td><td style=\"border:none;\" bgcolor=\"white\"></td><td style=\"border:none;\" bgcolor=\"white\"></td><td style=\"border:none;\" bgcolor=\"white\"></td><td style=\"border:solid;\" bgcolor=\"white\"><font color=\"black\">PP_1_4: 0.00</font></td></tr></table> 75 / 112</div>\n",
       "<div class=\"item\"><table><tr><td></td><td>0: He</td><td>1: shot</td><td>2: the</td><td>3: elephant</td><td>4: in</td><td>5: his</td><td>6: pyjamas</td></tr>\n",
       "<tr><td>0: He</td><td style=\"border:solid;\" bgcolor=\"white\"><font color=\"black\">Subj: 0.00</font></td><td style=\"border:solid;\" bgcolor=\"white\"></td><td style=\"border:solid;\" bgcolor=\"white\"></td><td style=\"border:solid;\" bgcolor=\"white\"><font color=\"black\">S: -1.90</font></td><td style=\"border:solid;\" bgcolor=\"white\"></td><td style=\"border:solid;\" bgcolor=\"white\"></td><td style=\"border:solid;\" bgcolor=\"white\"></td></tr>\n",
       "<tr><td>1: shot</td><td style=\"border:none;\" bgcolor=\"white\"></td><td style=\"border:solid;\" bgcolor=\"white\"><font color=\"black\">Verb: 0.00</font></td><td style=\"border:solid;\" bgcolor=\"#E1E1E1\"></td><td style=\"border:solid;\" bgcolor=\"white\"><font color=\"black\">VP: -1.90</font></td><td style=\"border:solid;\" bgcolor=\"white\"></td><td style=\"border:solid;\" bgcolor=\"#C3C3C3\"></td><td style=\"border:solid;\" bgcolor=\"white\"></td></tr>\n",
       "<tr><td>2: the</td><td style=\"border:none;\" bgcolor=\"white\"></td><td style=\"border:none;\" bgcolor=\"white\"></td><td style=\"border:solid;\" bgcolor=\"white\"><font color=\"black\">Obj_5: 0.00</font>, <font color=\"black\">Obj_8: 0.00</font></td><td style=\"border:solid;\" bgcolor=\"white\"><font color=\"black\">Obj: -0.69</font></td><td style=\"border:solid;\" bgcolor=\"white\"></td><td style=\"border:solid;\" bgcolor=\"white\"></td><td style=\"border:solid;\" bgcolor=\"white\"></td></tr>\n",
       "<tr><td>3: elephant</td><td style=\"border:none;\" bgcolor=\"white\"></td><td style=\"border:none;\" bgcolor=\"white\"></td><td style=\"border:none;\" bgcolor=\"white\"></td><td style=\"border:solid;\" bgcolor=\"white\"><font color=\"black\">Obj_6: 0.00</font>, <font color=\"black\">Obj_7_9: 0.00</font></td><td style=\"border:solid;\" bgcolor=\"white\"></td><td style=\"border:solid;\" bgcolor=\"#E1E1E1\"></td><td style=\"border:solid;\" bgcolor=\"white\"><font color=\"black\">Obj_7: 0.00</font></td></tr>\n",
       "<tr><td>4: in</td><td style=\"border:none;\" bgcolor=\"white\"></td><td style=\"border:none;\" bgcolor=\"white\"></td><td style=\"border:none;\" bgcolor=\"white\"></td><td style=\"border:none;\" bgcolor=\"white\"></td><td style=\"border:solid;\" bgcolor=\"white\"><font color=\"black\">PP_2: 0.00</font></td><td style=\"border:solid;\" bgcolor=\"white\"></td><td style=\"border:solid;\" bgcolor=\"white\"><font color=\"black\">PP: 0.00</font></td></tr>\n",
       "<tr><td>5: his</td><td style=\"border:none;\" bgcolor=\"white\"></td><td style=\"border:none;\" bgcolor=\"white\"></td><td style=\"border:none;\" bgcolor=\"white\"></td><td style=\"border:none;\" bgcolor=\"white\"></td><td style=\"border:none;\" bgcolor=\"white\"></td><td style=\"border:solid;\" bgcolor=\"white\"><font color=\"black\">PP_1_3: 0.00</font></td><td style=\"border:solid;\" bgcolor=\"white\"><font color=\"black\">PP_1: 0.00</font></td></tr>\n",
       "<tr><td>6: pyjamas</td><td style=\"border:none;\" bgcolor=\"white\"></td><td style=\"border:none;\" bgcolor=\"white\"></td><td style=\"border:none;\" bgcolor=\"white\"></td><td style=\"border:none;\" bgcolor=\"white\"></td><td style=\"border:none;\" bgcolor=\"white\"></td><td style=\"border:none;\" bgcolor=\"white\"></td><td style=\"border:solid;\" bgcolor=\"white\"><font color=\"black\">PP_1_4: 0.00</font></td></tr></table> 76 / 112</div>\n",
       "<div class=\"item\"><table><tr><td></td><td>0: He</td><td>1: shot</td><td>2: the</td><td>3: elephant</td><td>4: in</td><td>5: his</td><td>6: pyjamas</td></tr>\n",
       "<tr><td>0: He</td><td style=\"border:solid;\" bgcolor=\"white\"><font color=\"black\">Subj: 0.00</font></td><td style=\"border:solid;\" bgcolor=\"white\"></td><td style=\"border:solid;\" bgcolor=\"white\"></td><td style=\"border:solid;\" bgcolor=\"white\"><font color=\"black\">S: -1.90</font></td><td style=\"border:solid;\" bgcolor=\"white\"></td><td style=\"border:solid;\" bgcolor=\"white\"></td><td style=\"border:solid;\" bgcolor=\"white\"></td></tr>\n",
       "<tr><td>1: shot</td><td style=\"border:none;\" bgcolor=\"white\"></td><td style=\"border:solid;\" bgcolor=\"white\"><font color=\"black\">Verb: 0.00</font></td><td style=\"border:solid;\" bgcolor=\"white\"></td><td style=\"border:solid;\" bgcolor=\"#E1E1E1\"><font color=\"black\">VP: -1.90</font></td><td style=\"border:solid;\" bgcolor=\"white\"></td><td style=\"border:solid;\" bgcolor=\"#C3C3C3\"></td><td style=\"border:solid;\" bgcolor=\"white\"></td></tr>\n",
       "<tr><td>2: the</td><td style=\"border:none;\" bgcolor=\"white\"></td><td style=\"border:none;\" bgcolor=\"white\"></td><td style=\"border:solid;\" bgcolor=\"white\"><font color=\"black\">Obj_5: 0.00</font>, <font color=\"black\">Obj_8: 0.00</font></td><td style=\"border:solid;\" bgcolor=\"white\"><font color=\"black\">Obj: -0.69</font></td><td style=\"border:solid;\" bgcolor=\"white\"></td><td style=\"border:solid;\" bgcolor=\"white\"></td><td style=\"border:solid;\" bgcolor=\"white\"></td></tr>\n",
       "<tr><td>3: elephant</td><td style=\"border:none;\" bgcolor=\"white\"></td><td style=\"border:none;\" bgcolor=\"white\"></td><td style=\"border:none;\" bgcolor=\"white\"></td><td style=\"border:solid;\" bgcolor=\"white\"><font color=\"black\">Obj_6: 0.00</font>, <font color=\"black\">Obj_7_9: 0.00</font></td><td style=\"border:solid;\" bgcolor=\"white\"></td><td style=\"border:solid;\" bgcolor=\"white\"></td><td style=\"border:solid;\" bgcolor=\"white\"><font color=\"black\">Obj_7: 0.00</font></td></tr>\n",
       "<tr><td>4: in</td><td style=\"border:none;\" bgcolor=\"white\"></td><td style=\"border:none;\" bgcolor=\"white\"></td><td style=\"border:none;\" bgcolor=\"white\"></td><td style=\"border:none;\" bgcolor=\"white\"></td><td style=\"border:solid;\" bgcolor=\"white\"><font color=\"black\">PP_2: 0.00</font></td><td style=\"border:solid;\" bgcolor=\"#E1E1E1\"></td><td style=\"border:solid;\" bgcolor=\"white\"><font color=\"black\">PP: 0.00</font></td></tr>\n",
       "<tr><td>5: his</td><td style=\"border:none;\" bgcolor=\"white\"></td><td style=\"border:none;\" bgcolor=\"white\"></td><td style=\"border:none;\" bgcolor=\"white\"></td><td style=\"border:none;\" bgcolor=\"white\"></td><td style=\"border:none;\" bgcolor=\"white\"></td><td style=\"border:solid;\" bgcolor=\"white\"><font color=\"black\">PP_1_3: 0.00</font></td><td style=\"border:solid;\" bgcolor=\"white\"><font color=\"black\">PP_1: 0.00</font></td></tr>\n",
       "<tr><td>6: pyjamas</td><td style=\"border:none;\" bgcolor=\"white\"></td><td style=\"border:none;\" bgcolor=\"white\"></td><td style=\"border:none;\" bgcolor=\"white\"></td><td style=\"border:none;\" bgcolor=\"white\"></td><td style=\"border:none;\" bgcolor=\"white\"></td><td style=\"border:none;\" bgcolor=\"white\"></td><td style=\"border:solid;\" bgcolor=\"white\"><font color=\"black\">PP_1_4: 0.00</font></td></tr></table> 77 / 112</div>\n",
       "<div class=\"item\"><table><tr><td></td><td>0: He</td><td>1: shot</td><td>2: the</td><td>3: elephant</td><td>4: in</td><td>5: his</td><td>6: pyjamas</td></tr>\n",
       "<tr><td>0: He</td><td style=\"border:solid;\" bgcolor=\"white\"><font color=\"black\">Subj: 0.00</font></td><td style=\"border:solid;\" bgcolor=\"white\"></td><td style=\"border:solid;\" bgcolor=\"white\"></td><td style=\"border:solid;\" bgcolor=\"white\"><font color=\"black\">S: -1.90</font></td><td style=\"border:solid;\" bgcolor=\"white\"></td><td style=\"border:solid;\" bgcolor=\"white\"></td><td style=\"border:solid;\" bgcolor=\"white\"></td></tr>\n",
       "<tr><td>1: shot</td><td style=\"border:none;\" bgcolor=\"white\"></td><td style=\"border:solid;\" bgcolor=\"white\"><font color=\"black\">Verb: 0.00</font></td><td style=\"border:solid;\" bgcolor=\"white\"></td><td style=\"border:solid;\" bgcolor=\"white\"><font color=\"black\">VP: -1.90</font></td><td style=\"border:solid;\" bgcolor=\"#E1E1E1\"></td><td style=\"border:solid;\" bgcolor=\"#C3C3C3\"></td><td style=\"border:solid;\" bgcolor=\"white\"></td></tr>\n",
       "<tr><td>2: the</td><td style=\"border:none;\" bgcolor=\"white\"></td><td style=\"border:none;\" bgcolor=\"white\"></td><td style=\"border:solid;\" bgcolor=\"white\"><font color=\"black\">Obj_5: 0.00</font>, <font color=\"black\">Obj_8: 0.00</font></td><td style=\"border:solid;\" bgcolor=\"white\"><font color=\"black\">Obj: -0.69</font></td><td style=\"border:solid;\" bgcolor=\"white\"></td><td style=\"border:solid;\" bgcolor=\"white\"></td><td style=\"border:solid;\" bgcolor=\"white\"></td></tr>\n",
       "<tr><td>3: elephant</td><td style=\"border:none;\" bgcolor=\"white\"></td><td style=\"border:none;\" bgcolor=\"white\"></td><td style=\"border:none;\" bgcolor=\"white\"></td><td style=\"border:solid;\" bgcolor=\"white\"><font color=\"black\">Obj_6: 0.00</font>, <font color=\"black\">Obj_7_9: 0.00</font></td><td style=\"border:solid;\" bgcolor=\"white\"></td><td style=\"border:solid;\" bgcolor=\"white\"></td><td style=\"border:solid;\" bgcolor=\"white\"><font color=\"black\">Obj_7: 0.00</font></td></tr>\n",
       "<tr><td>4: in</td><td style=\"border:none;\" bgcolor=\"white\"></td><td style=\"border:none;\" bgcolor=\"white\"></td><td style=\"border:none;\" bgcolor=\"white\"></td><td style=\"border:none;\" bgcolor=\"white\"></td><td style=\"border:solid;\" bgcolor=\"white\"><font color=\"black\">PP_2: 0.00</font></td><td style=\"border:solid;\" bgcolor=\"white\"></td><td style=\"border:solid;\" bgcolor=\"white\"><font color=\"black\">PP: 0.00</font></td></tr>\n",
       "<tr><td>5: his</td><td style=\"border:none;\" bgcolor=\"white\"></td><td style=\"border:none;\" bgcolor=\"white\"></td><td style=\"border:none;\" bgcolor=\"white\"></td><td style=\"border:none;\" bgcolor=\"white\"></td><td style=\"border:none;\" bgcolor=\"white\"></td><td style=\"border:solid;\" bgcolor=\"#E1E1E1\"><font color=\"black\">PP_1_3: 0.00</font></td><td style=\"border:solid;\" bgcolor=\"white\"><font color=\"black\">PP_1: 0.00</font></td></tr>\n",
       "<tr><td>6: pyjamas</td><td style=\"border:none;\" bgcolor=\"white\"></td><td style=\"border:none;\" bgcolor=\"white\"></td><td style=\"border:none;\" bgcolor=\"white\"></td><td style=\"border:none;\" bgcolor=\"white\"></td><td style=\"border:none;\" bgcolor=\"white\"></td><td style=\"border:none;\" bgcolor=\"white\"></td><td style=\"border:solid;\" bgcolor=\"white\"><font color=\"black\">PP_1_4: 0.00</font></td></tr></table> 78 / 112</div>\n",
       "<div class=\"item\"><table><tr><td></td><td>0: He</td><td>1: shot</td><td>2: the</td><td>3: elephant</td><td>4: in</td><td>5: his</td><td>6: pyjamas</td></tr>\n",
       "<tr><td>0: He</td><td style=\"border:solid;\" bgcolor=\"white\"><font color=\"black\">Subj: 0.00</font></td><td style=\"border:solid;\" bgcolor=\"white\"></td><td style=\"border:solid;\" bgcolor=\"white\"></td><td style=\"border:solid;\" bgcolor=\"white\"><font color=\"black\">S: -1.90</font></td><td style=\"border:solid;\" bgcolor=\"white\"></td><td style=\"border:solid;\" bgcolor=\"white\"></td><td style=\"border:solid;\" bgcolor=\"white\"></td></tr>\n",
       "<tr><td>1: shot</td><td style=\"border:none;\" bgcolor=\"white\"></td><td style=\"border:solid;\" bgcolor=\"white\"><font color=\"black\">Verb: 0.00</font></td><td style=\"border:solid;\" bgcolor=\"white\"></td><td style=\"border:solid;\" bgcolor=\"white\"><font color=\"black\">VP: -1.90</font></td><td style=\"border:solid;\" bgcolor=\"white\"></td><td style=\"border:solid;\" bgcolor=\"white\"></td><td style=\"border:solid;\" bgcolor=\"white\"></td></tr>\n",
       "<tr><td>2: the</td><td style=\"border:none;\" bgcolor=\"white\"></td><td style=\"border:none;\" bgcolor=\"white\"></td><td style=\"border:solid;\" bgcolor=\"#E1E1E1\"><font color=\"black\">Obj_5: 0.00</font>, <font color=\"black\">Obj_8: 0.00</font></td><td style=\"border:solid;\" bgcolor=\"white\"><font color=\"black\">Obj: -0.69</font></td><td style=\"border:solid;\" bgcolor=\"white\"></td><td style=\"border:solid;\" bgcolor=\"white\"></td><td style=\"border:solid;\" bgcolor=\"#C3C3C3\"></td></tr>\n",
       "<tr><td>3: elephant</td><td style=\"border:none;\" bgcolor=\"white\"></td><td style=\"border:none;\" bgcolor=\"white\"></td><td style=\"border:none;\" bgcolor=\"white\"></td><td style=\"border:solid;\" bgcolor=\"white\"><font color=\"black\">Obj_6: 0.00</font>, <font color=\"black\">Obj_7_9: 0.00</font></td><td style=\"border:solid;\" bgcolor=\"white\"></td><td style=\"border:solid;\" bgcolor=\"white\"></td><td style=\"border:solid;\" bgcolor=\"#E1E1E1\"><font color=\"black\">Obj_7: 0.00</font></td></tr>\n",
       "<tr><td>4: in</td><td style=\"border:none;\" bgcolor=\"white\"></td><td style=\"border:none;\" bgcolor=\"white\"></td><td style=\"border:none;\" bgcolor=\"white\"></td><td style=\"border:none;\" bgcolor=\"white\"></td><td style=\"border:solid;\" bgcolor=\"white\"><font color=\"black\">PP_2: 0.00</font></td><td style=\"border:solid;\" bgcolor=\"white\"></td><td style=\"border:solid;\" bgcolor=\"white\"><font color=\"black\">PP: 0.00</font></td></tr>\n",
       "<tr><td>5: his</td><td style=\"border:none;\" bgcolor=\"white\"></td><td style=\"border:none;\" bgcolor=\"white\"></td><td style=\"border:none;\" bgcolor=\"white\"></td><td style=\"border:none;\" bgcolor=\"white\"></td><td style=\"border:none;\" bgcolor=\"white\"></td><td style=\"border:solid;\" bgcolor=\"white\"><font color=\"black\">PP_1_3: 0.00</font></td><td style=\"border:solid;\" bgcolor=\"white\"><font color=\"black\">PP_1: 0.00</font></td></tr>\n",
       "<tr><td>6: pyjamas</td><td style=\"border:none;\" bgcolor=\"white\"></td><td style=\"border:none;\" bgcolor=\"white\"></td><td style=\"border:none;\" bgcolor=\"white\"></td><td style=\"border:none;\" bgcolor=\"white\"></td><td style=\"border:none;\" bgcolor=\"white\"></td><td style=\"border:none;\" bgcolor=\"white\"></td><td style=\"border:solid;\" bgcolor=\"white\"><font color=\"black\">PP_1_4: 0.00</font></td></tr></table> 79 / 112</div>\n",
       "<div class=\"item\"><table><tr><td></td><td>0: He</td><td>1: shot</td><td>2: the</td><td>3: elephant</td><td>4: in</td><td>5: his</td><td>6: pyjamas</td></tr>\n",
       "<tr><td>0: He</td><td style=\"border:solid;\" bgcolor=\"white\"><font color=\"black\">Subj: 0.00</font></td><td style=\"border:solid;\" bgcolor=\"white\"></td><td style=\"border:solid;\" bgcolor=\"white\"></td><td style=\"border:solid;\" bgcolor=\"white\"><font color=\"black\">S: -1.90</font></td><td style=\"border:solid;\" bgcolor=\"white\"></td><td style=\"border:solid;\" bgcolor=\"white\"></td><td style=\"border:solid;\" bgcolor=\"white\"></td></tr>\n",
       "<tr><td>1: shot</td><td style=\"border:none;\" bgcolor=\"white\"></td><td style=\"border:solid;\" bgcolor=\"white\"><font color=\"black\">Verb: 0.00</font></td><td style=\"border:solid;\" bgcolor=\"white\"></td><td style=\"border:solid;\" bgcolor=\"white\"><font color=\"black\">VP: -1.90</font></td><td style=\"border:solid;\" bgcolor=\"white\"></td><td style=\"border:solid;\" bgcolor=\"white\"></td><td style=\"border:solid;\" bgcolor=\"white\"></td></tr>\n",
       "<tr><td>2: the</td><td style=\"border:none;\" bgcolor=\"white\"></td><td style=\"border:none;\" bgcolor=\"white\"></td><td style=\"border:solid;\" bgcolor=\"#E1E1E1\"><font color=\"red\">Obj_5: 0.00</font>, <font color=\"black\">Obj_8: 0.00</font></td><td style=\"border:solid;\" bgcolor=\"white\"><font color=\"black\">Obj: -0.69</font></td><td style=\"border:solid;\" bgcolor=\"white\"></td><td style=\"border:solid;\" bgcolor=\"white\"></td><td style=\"border:solid;\" bgcolor=\"#C3C3C3\"></td></tr>\n",
       "<tr><td>3: elephant</td><td style=\"border:none;\" bgcolor=\"white\"></td><td style=\"border:none;\" bgcolor=\"white\"></td><td style=\"border:none;\" bgcolor=\"white\"></td><td style=\"border:solid;\" bgcolor=\"white\"><font color=\"black\">Obj_6: 0.00</font>, <font color=\"black\">Obj_7_9: 0.00</font></td><td style=\"border:solid;\" bgcolor=\"white\"></td><td style=\"border:solid;\" bgcolor=\"white\"></td><td style=\"border:solid;\" bgcolor=\"#E1E1E1\"><font color=\"red\">Obj_7: 0.00</font></td></tr>\n",
       "<tr><td>4: in</td><td style=\"border:none;\" bgcolor=\"white\"></td><td style=\"border:none;\" bgcolor=\"white\"></td><td style=\"border:none;\" bgcolor=\"white\"></td><td style=\"border:none;\" bgcolor=\"white\"></td><td style=\"border:solid;\" bgcolor=\"white\"><font color=\"black\">PP_2: 0.00</font></td><td style=\"border:solid;\" bgcolor=\"white\"></td><td style=\"border:solid;\" bgcolor=\"white\"><font color=\"black\">PP: 0.00</font></td></tr>\n",
       "<tr><td>5: his</td><td style=\"border:none;\" bgcolor=\"white\"></td><td style=\"border:none;\" bgcolor=\"white\"></td><td style=\"border:none;\" bgcolor=\"white\"></td><td style=\"border:none;\" bgcolor=\"white\"></td><td style=\"border:none;\" bgcolor=\"white\"></td><td style=\"border:solid;\" bgcolor=\"white\"><font color=\"black\">PP_1_3: 0.00</font></td><td style=\"border:solid;\" bgcolor=\"white\"><font color=\"black\">PP_1: 0.00</font></td></tr>\n",
       "<tr><td>6: pyjamas</td><td style=\"border:none;\" bgcolor=\"white\"></td><td style=\"border:none;\" bgcolor=\"white\"></td><td style=\"border:none;\" bgcolor=\"white\"></td><td style=\"border:none;\" bgcolor=\"white\"></td><td style=\"border:none;\" bgcolor=\"white\"></td><td style=\"border:none;\" bgcolor=\"white\"></td><td style=\"border:solid;\" bgcolor=\"white\"><font color=\"black\">PP_1_4: 0.00</font></td></tr></table> 80 / 112</div>\n",
       "<div class=\"item\"><table><tr><td></td><td>0: He</td><td>1: shot</td><td>2: the</td><td>3: elephant</td><td>4: in</td><td>5: his</td><td>6: pyjamas</td></tr>\n",
       "<tr><td>0: He</td><td style=\"border:solid;\" bgcolor=\"white\"><font color=\"black\">Subj: 0.00</font></td><td style=\"border:solid;\" bgcolor=\"white\"></td><td style=\"border:solid;\" bgcolor=\"white\"></td><td style=\"border:solid;\" bgcolor=\"white\"><font color=\"black\">S: -1.90</font></td><td style=\"border:solid;\" bgcolor=\"white\"></td><td style=\"border:solid;\" bgcolor=\"white\"></td><td style=\"border:solid;\" bgcolor=\"white\"></td></tr>\n",
       "<tr><td>1: shot</td><td style=\"border:none;\" bgcolor=\"white\"></td><td style=\"border:solid;\" bgcolor=\"white\"><font color=\"black\">Verb: 0.00</font></td><td style=\"border:solid;\" bgcolor=\"white\"></td><td style=\"border:solid;\" bgcolor=\"white\"><font color=\"black\">VP: -1.90</font></td><td style=\"border:solid;\" bgcolor=\"white\"></td><td style=\"border:solid;\" bgcolor=\"white\"></td><td style=\"border:solid;\" bgcolor=\"white\"></td></tr>\n",
       "<tr><td>2: the</td><td style=\"border:none;\" bgcolor=\"white\"></td><td style=\"border:none;\" bgcolor=\"white\"></td><td style=\"border:solid;\" bgcolor=\"#E1E1E1\"><font color=\"black\">Obj_5: 0.00</font>, <font color=\"red\">Obj_8: 0.00</font></td><td style=\"border:solid;\" bgcolor=\"white\"><font color=\"black\">Obj: -0.69</font></td><td style=\"border:solid;\" bgcolor=\"white\"></td><td style=\"border:solid;\" bgcolor=\"white\"></td><td style=\"border:solid;\" bgcolor=\"#C3C3C3\"></td></tr>\n",
       "<tr><td>3: elephant</td><td style=\"border:none;\" bgcolor=\"white\"></td><td style=\"border:none;\" bgcolor=\"white\"></td><td style=\"border:none;\" bgcolor=\"white\"></td><td style=\"border:solid;\" bgcolor=\"white\"><font color=\"black\">Obj_6: 0.00</font>, <font color=\"black\">Obj_7_9: 0.00</font></td><td style=\"border:solid;\" bgcolor=\"white\"></td><td style=\"border:solid;\" bgcolor=\"white\"></td><td style=\"border:solid;\" bgcolor=\"#E1E1E1\"><font color=\"red\">Obj_7: 0.00</font></td></tr>\n",
       "<tr><td>4: in</td><td style=\"border:none;\" bgcolor=\"white\"></td><td style=\"border:none;\" bgcolor=\"white\"></td><td style=\"border:none;\" bgcolor=\"white\"></td><td style=\"border:none;\" bgcolor=\"white\"></td><td style=\"border:solid;\" bgcolor=\"white\"><font color=\"black\">PP_2: 0.00</font></td><td style=\"border:solid;\" bgcolor=\"white\"></td><td style=\"border:solid;\" bgcolor=\"white\"><font color=\"black\">PP: 0.00</font></td></tr>\n",
       "<tr><td>5: his</td><td style=\"border:none;\" bgcolor=\"white\"></td><td style=\"border:none;\" bgcolor=\"white\"></td><td style=\"border:none;\" bgcolor=\"white\"></td><td style=\"border:none;\" bgcolor=\"white\"></td><td style=\"border:none;\" bgcolor=\"white\"></td><td style=\"border:solid;\" bgcolor=\"white\"><font color=\"black\">PP_1_3: 0.00</font></td><td style=\"border:solid;\" bgcolor=\"white\"><font color=\"black\">PP_1: 0.00</font></td></tr>\n",
       "<tr><td>6: pyjamas</td><td style=\"border:none;\" bgcolor=\"white\"></td><td style=\"border:none;\" bgcolor=\"white\"></td><td style=\"border:none;\" bgcolor=\"white\"></td><td style=\"border:none;\" bgcolor=\"white\"></td><td style=\"border:none;\" bgcolor=\"white\"></td><td style=\"border:none;\" bgcolor=\"white\"></td><td style=\"border:solid;\" bgcolor=\"white\"><font color=\"black\">PP_1_4: 0.00</font></td></tr></table> 81 / 112</div>\n",
       "<div class=\"item\"><table><tr><td></td><td>0: He</td><td>1: shot</td><td>2: the</td><td>3: elephant</td><td>4: in</td><td>5: his</td><td>6: pyjamas</td></tr>\n",
       "<tr><td>0: He</td><td style=\"border:solid;\" bgcolor=\"white\"><font color=\"black\">Subj: 0.00</font></td><td style=\"border:solid;\" bgcolor=\"white\"></td><td style=\"border:solid;\" bgcolor=\"white\"></td><td style=\"border:solid;\" bgcolor=\"white\"><font color=\"black\">S: -1.90</font></td><td style=\"border:solid;\" bgcolor=\"white\"></td><td style=\"border:solid;\" bgcolor=\"white\"></td><td style=\"border:solid;\" bgcolor=\"white\"></td></tr>\n",
       "<tr><td>1: shot</td><td style=\"border:none;\" bgcolor=\"white\"></td><td style=\"border:solid;\" bgcolor=\"white\"><font color=\"black\">Verb: 0.00</font></td><td style=\"border:solid;\" bgcolor=\"white\"></td><td style=\"border:solid;\" bgcolor=\"white\"><font color=\"black\">VP: -1.90</font></td><td style=\"border:solid;\" bgcolor=\"white\"></td><td style=\"border:solid;\" bgcolor=\"white\"></td><td style=\"border:solid;\" bgcolor=\"white\"></td></tr>\n",
       "<tr><td>2: the</td><td style=\"border:none;\" bgcolor=\"white\"></td><td style=\"border:none;\" bgcolor=\"white\"></td><td style=\"border:solid;\" bgcolor=\"#E1E1E1\"><font color=\"black\">Obj_5: 0.00</font>, <font color=\"red\">Obj_8: 0.00</font></td><td style=\"border:solid;\" bgcolor=\"white\"><font color=\"black\">Obj: -0.69</font></td><td style=\"border:solid;\" bgcolor=\"white\"></td><td style=\"border:solid;\" bgcolor=\"white\"></td><td style=\"border:solid;\" bgcolor=\"#C3C3C3\"><font color=\"blue\">Obj: -0.69</font></td></tr>\n",
       "<tr><td>3: elephant</td><td style=\"border:none;\" bgcolor=\"white\"></td><td style=\"border:none;\" bgcolor=\"white\"></td><td style=\"border:none;\" bgcolor=\"white\"></td><td style=\"border:solid;\" bgcolor=\"white\"><font color=\"black\">Obj_6: 0.00</font>, <font color=\"black\">Obj_7_9: 0.00</font></td><td style=\"border:solid;\" bgcolor=\"white\"></td><td style=\"border:solid;\" bgcolor=\"white\"></td><td style=\"border:solid;\" bgcolor=\"#E1E1E1\"><font color=\"red\">Obj_7: 0.00</font></td></tr>\n",
       "<tr><td>4: in</td><td style=\"border:none;\" bgcolor=\"white\"></td><td style=\"border:none;\" bgcolor=\"white\"></td><td style=\"border:none;\" bgcolor=\"white\"></td><td style=\"border:none;\" bgcolor=\"white\"></td><td style=\"border:solid;\" bgcolor=\"white\"><font color=\"black\">PP_2: 0.00</font></td><td style=\"border:solid;\" bgcolor=\"white\"></td><td style=\"border:solid;\" bgcolor=\"white\"><font color=\"black\">PP: 0.00</font></td></tr>\n",
       "<tr><td>5: his</td><td style=\"border:none;\" bgcolor=\"white\"></td><td style=\"border:none;\" bgcolor=\"white\"></td><td style=\"border:none;\" bgcolor=\"white\"></td><td style=\"border:none;\" bgcolor=\"white\"></td><td style=\"border:none;\" bgcolor=\"white\"></td><td style=\"border:solid;\" bgcolor=\"white\"><font color=\"black\">PP_1_3: 0.00</font></td><td style=\"border:solid;\" bgcolor=\"white\"><font color=\"black\">PP_1: 0.00</font></td></tr>\n",
       "<tr><td>6: pyjamas</td><td style=\"border:none;\" bgcolor=\"white\"></td><td style=\"border:none;\" bgcolor=\"white\"></td><td style=\"border:none;\" bgcolor=\"white\"></td><td style=\"border:none;\" bgcolor=\"white\"></td><td style=\"border:none;\" bgcolor=\"white\"></td><td style=\"border:none;\" bgcolor=\"white\"></td><td style=\"border:solid;\" bgcolor=\"white\"><font color=\"black\">PP_1_4: 0.00</font></td></tr></table> 82 / 112</div>\n",
       "<div class=\"item\"><table><tr><td></td><td>0: He</td><td>1: shot</td><td>2: the</td><td>3: elephant</td><td>4: in</td><td>5: his</td><td>6: pyjamas</td></tr>\n",
       "<tr><td>0: He</td><td style=\"border:solid;\" bgcolor=\"white\"><font color=\"black\">Subj: 0.00</font></td><td style=\"border:solid;\" bgcolor=\"white\"></td><td style=\"border:solid;\" bgcolor=\"white\"></td><td style=\"border:solid;\" bgcolor=\"white\"><font color=\"black\">S: -1.90</font></td><td style=\"border:solid;\" bgcolor=\"white\"></td><td style=\"border:solid;\" bgcolor=\"white\"></td><td style=\"border:solid;\" bgcolor=\"white\"></td></tr>\n",
       "<tr><td>1: shot</td><td style=\"border:none;\" bgcolor=\"white\"></td><td style=\"border:solid;\" bgcolor=\"white\"><font color=\"black\">Verb: 0.00</font></td><td style=\"border:solid;\" bgcolor=\"white\"></td><td style=\"border:solid;\" bgcolor=\"white\"><font color=\"black\">VP: -1.90</font></td><td style=\"border:solid;\" bgcolor=\"white\"></td><td style=\"border:solid;\" bgcolor=\"white\"></td><td style=\"border:solid;\" bgcolor=\"white\"></td></tr>\n",
       "<tr><td>2: the</td><td style=\"border:none;\" bgcolor=\"white\"></td><td style=\"border:none;\" bgcolor=\"white\"></td><td style=\"border:solid;\" bgcolor=\"white\"><font color=\"black\">Obj_5: 0.00</font>, <font color=\"black\">Obj_8: 0.00</font></td><td style=\"border:solid;\" bgcolor=\"#E1E1E1\"><font color=\"black\">Obj: -0.69</font></td><td style=\"border:solid;\" bgcolor=\"white\"></td><td style=\"border:solid;\" bgcolor=\"white\"></td><td style=\"border:solid;\" bgcolor=\"#C3C3C3\"><font color=\"black\">Obj: -0.69</font></td></tr>\n",
       "<tr><td>3: elephant</td><td style=\"border:none;\" bgcolor=\"white\"></td><td style=\"border:none;\" bgcolor=\"white\"></td><td style=\"border:none;\" bgcolor=\"white\"></td><td style=\"border:solid;\" bgcolor=\"white\"><font color=\"black\">Obj_6: 0.00</font>, <font color=\"black\">Obj_7_9: 0.00</font></td><td style=\"border:solid;\" bgcolor=\"white\"></td><td style=\"border:solid;\" bgcolor=\"white\"></td><td style=\"border:solid;\" bgcolor=\"white\"><font color=\"black\">Obj_7: 0.00</font></td></tr>\n",
       "<tr><td>4: in</td><td style=\"border:none;\" bgcolor=\"white\"></td><td style=\"border:none;\" bgcolor=\"white\"></td><td style=\"border:none;\" bgcolor=\"white\"></td><td style=\"border:none;\" bgcolor=\"white\"></td><td style=\"border:solid;\" bgcolor=\"white\"><font color=\"black\">PP_2: 0.00</font></td><td style=\"border:solid;\" bgcolor=\"white\"></td><td style=\"border:solid;\" bgcolor=\"#E1E1E1\"><font color=\"black\">PP: 0.00</font></td></tr>\n",
       "<tr><td>5: his</td><td style=\"border:none;\" bgcolor=\"white\"></td><td style=\"border:none;\" bgcolor=\"white\"></td><td style=\"border:none;\" bgcolor=\"white\"></td><td style=\"border:none;\" bgcolor=\"white\"></td><td style=\"border:none;\" bgcolor=\"white\"></td><td style=\"border:solid;\" bgcolor=\"white\"><font color=\"black\">PP_1_3: 0.00</font></td><td style=\"border:solid;\" bgcolor=\"white\"><font color=\"black\">PP_1: 0.00</font></td></tr>\n",
       "<tr><td>6: pyjamas</td><td style=\"border:none;\" bgcolor=\"white\"></td><td style=\"border:none;\" bgcolor=\"white\"></td><td style=\"border:none;\" bgcolor=\"white\"></td><td style=\"border:none;\" bgcolor=\"white\"></td><td style=\"border:none;\" bgcolor=\"white\"></td><td style=\"border:none;\" bgcolor=\"white\"></td><td style=\"border:solid;\" bgcolor=\"white\"><font color=\"black\">PP_1_4: 0.00</font></td></tr></table> 83 / 112</div>\n",
       "<div class=\"item\"><table><tr><td></td><td>0: He</td><td>1: shot</td><td>2: the</td><td>3: elephant</td><td>4: in</td><td>5: his</td><td>6: pyjamas</td></tr>\n",
       "<tr><td>0: He</td><td style=\"border:solid;\" bgcolor=\"white\"><font color=\"black\">Subj: 0.00</font></td><td style=\"border:solid;\" bgcolor=\"white\"></td><td style=\"border:solid;\" bgcolor=\"white\"></td><td style=\"border:solid;\" bgcolor=\"white\"><font color=\"black\">S: -1.90</font></td><td style=\"border:solid;\" bgcolor=\"white\"></td><td style=\"border:solid;\" bgcolor=\"white\"></td><td style=\"border:solid;\" bgcolor=\"white\"></td></tr>\n",
       "<tr><td>1: shot</td><td style=\"border:none;\" bgcolor=\"white\"></td><td style=\"border:solid;\" bgcolor=\"white\"><font color=\"black\">Verb: 0.00</font></td><td style=\"border:solid;\" bgcolor=\"white\"></td><td style=\"border:solid;\" bgcolor=\"white\"><font color=\"black\">VP: -1.90</font></td><td style=\"border:solid;\" bgcolor=\"white\"></td><td style=\"border:solid;\" bgcolor=\"white\"></td><td style=\"border:solid;\" bgcolor=\"white\"></td></tr>\n",
       "<tr><td>2: the</td><td style=\"border:none;\" bgcolor=\"white\"></td><td style=\"border:none;\" bgcolor=\"white\"></td><td style=\"border:solid;\" bgcolor=\"white\"><font color=\"black\">Obj_5: 0.00</font>, <font color=\"black\">Obj_8: 0.00</font></td><td style=\"border:solid;\" bgcolor=\"#E1E1E1\"><font color=\"red\">Obj: -0.69</font></td><td style=\"border:solid;\" bgcolor=\"white\"></td><td style=\"border:solid;\" bgcolor=\"white\"></td><td style=\"border:solid;\" bgcolor=\"#C3C3C3\"><font color=\"black\">Obj: -0.69</font></td></tr>\n",
       "<tr><td>3: elephant</td><td style=\"border:none;\" bgcolor=\"white\"></td><td style=\"border:none;\" bgcolor=\"white\"></td><td style=\"border:none;\" bgcolor=\"white\"></td><td style=\"border:solid;\" bgcolor=\"white\"><font color=\"black\">Obj_6: 0.00</font>, <font color=\"black\">Obj_7_9: 0.00</font></td><td style=\"border:solid;\" bgcolor=\"white\"></td><td style=\"border:solid;\" bgcolor=\"white\"></td><td style=\"border:solid;\" bgcolor=\"white\"><font color=\"black\">Obj_7: 0.00</font></td></tr>\n",
       "<tr><td>4: in</td><td style=\"border:none;\" bgcolor=\"white\"></td><td style=\"border:none;\" bgcolor=\"white\"></td><td style=\"border:none;\" bgcolor=\"white\"></td><td style=\"border:none;\" bgcolor=\"white\"></td><td style=\"border:solid;\" bgcolor=\"white\"><font color=\"black\">PP_2: 0.00</font></td><td style=\"border:solid;\" bgcolor=\"white\"></td><td style=\"border:solid;\" bgcolor=\"#E1E1E1\"><font color=\"red\">PP: 0.00</font></td></tr>\n",
       "<tr><td>5: his</td><td style=\"border:none;\" bgcolor=\"white\"></td><td style=\"border:none;\" bgcolor=\"white\"></td><td style=\"border:none;\" bgcolor=\"white\"></td><td style=\"border:none;\" bgcolor=\"white\"></td><td style=\"border:none;\" bgcolor=\"white\"></td><td style=\"border:solid;\" bgcolor=\"white\"><font color=\"black\">PP_1_3: 0.00</font></td><td style=\"border:solid;\" bgcolor=\"white\"><font color=\"black\">PP_1: 0.00</font></td></tr>\n",
       "<tr><td>6: pyjamas</td><td style=\"border:none;\" bgcolor=\"white\"></td><td style=\"border:none;\" bgcolor=\"white\"></td><td style=\"border:none;\" bgcolor=\"white\"></td><td style=\"border:none;\" bgcolor=\"white\"></td><td style=\"border:none;\" bgcolor=\"white\"></td><td style=\"border:none;\" bgcolor=\"white\"></td><td style=\"border:solid;\" bgcolor=\"white\"><font color=\"black\">PP_1_4: 0.00</font></td></tr></table> 84 / 112</div>\n",
       "<div class=\"item\"><table><tr><td></td><td>0: He</td><td>1: shot</td><td>2: the</td><td>3: elephant</td><td>4: in</td><td>5: his</td><td>6: pyjamas</td></tr>\n",
       "<tr><td>0: He</td><td style=\"border:solid;\" bgcolor=\"white\"><font color=\"black\">Subj: 0.00</font></td><td style=\"border:solid;\" bgcolor=\"white\"></td><td style=\"border:solid;\" bgcolor=\"white\"></td><td style=\"border:solid;\" bgcolor=\"white\"><font color=\"black\">S: -1.90</font></td><td style=\"border:solid;\" bgcolor=\"white\"></td><td style=\"border:solid;\" bgcolor=\"white\"></td><td style=\"border:solid;\" bgcolor=\"white\"></td></tr>\n",
       "<tr><td>1: shot</td><td style=\"border:none;\" bgcolor=\"white\"></td><td style=\"border:solid;\" bgcolor=\"white\"><font color=\"black\">Verb: 0.00</font></td><td style=\"border:solid;\" bgcolor=\"white\"></td><td style=\"border:solid;\" bgcolor=\"white\"><font color=\"black\">VP: -1.90</font></td><td style=\"border:solid;\" bgcolor=\"white\"></td><td style=\"border:solid;\" bgcolor=\"white\"></td><td style=\"border:solid;\" bgcolor=\"white\"></td></tr>\n",
       "<tr><td>2: the</td><td style=\"border:none;\" bgcolor=\"white\"></td><td style=\"border:none;\" bgcolor=\"white\"></td><td style=\"border:solid;\" bgcolor=\"white\"><font color=\"black\">Obj_5: 0.00</font>, <font color=\"black\">Obj_8: 0.00</font></td><td style=\"border:solid;\" bgcolor=\"#E1E1E1\"><font color=\"red\">Obj: -0.69</font></td><td style=\"border:solid;\" bgcolor=\"white\"></td><td style=\"border:solid;\" bgcolor=\"white\"></td><td style=\"border:solid;\" bgcolor=\"#C3C3C3\"><font color=\"black\">Obj: -0.69</font>, <font color=\"blue\">VP_0: -0.69</font></td></tr>\n",
       "<tr><td>3: elephant</td><td style=\"border:none;\" bgcolor=\"white\"></td><td style=\"border:none;\" bgcolor=\"white\"></td><td style=\"border:none;\" bgcolor=\"white\"></td><td style=\"border:solid;\" bgcolor=\"white\"><font color=\"black\">Obj_6: 0.00</font>, <font color=\"black\">Obj_7_9: 0.00</font></td><td style=\"border:solid;\" bgcolor=\"white\"></td><td style=\"border:solid;\" bgcolor=\"white\"></td><td style=\"border:solid;\" bgcolor=\"white\"><font color=\"black\">Obj_7: 0.00</font></td></tr>\n",
       "<tr><td>4: in</td><td style=\"border:none;\" bgcolor=\"white\"></td><td style=\"border:none;\" bgcolor=\"white\"></td><td style=\"border:none;\" bgcolor=\"white\"></td><td style=\"border:none;\" bgcolor=\"white\"></td><td style=\"border:solid;\" bgcolor=\"white\"><font color=\"black\">PP_2: 0.00</font></td><td style=\"border:solid;\" bgcolor=\"white\"></td><td style=\"border:solid;\" bgcolor=\"#E1E1E1\"><font color=\"red\">PP: 0.00</font></td></tr>\n",
       "<tr><td>5: his</td><td style=\"border:none;\" bgcolor=\"white\"></td><td style=\"border:none;\" bgcolor=\"white\"></td><td style=\"border:none;\" bgcolor=\"white\"></td><td style=\"border:none;\" bgcolor=\"white\"></td><td style=\"border:none;\" bgcolor=\"white\"></td><td style=\"border:solid;\" bgcolor=\"white\"><font color=\"black\">PP_1_3: 0.00</font></td><td style=\"border:solid;\" bgcolor=\"white\"><font color=\"black\">PP_1: 0.00</font></td></tr>\n",
       "<tr><td>6: pyjamas</td><td style=\"border:none;\" bgcolor=\"white\"></td><td style=\"border:none;\" bgcolor=\"white\"></td><td style=\"border:none;\" bgcolor=\"white\"></td><td style=\"border:none;\" bgcolor=\"white\"></td><td style=\"border:none;\" bgcolor=\"white\"></td><td style=\"border:none;\" bgcolor=\"white\"></td><td style=\"border:solid;\" bgcolor=\"white\"><font color=\"black\">PP_1_4: 0.00</font></td></tr></table> 85 / 112</div>\n",
       "<div class=\"item\"><table><tr><td></td><td>0: He</td><td>1: shot</td><td>2: the</td><td>3: elephant</td><td>4: in</td><td>5: his</td><td>6: pyjamas</td></tr>\n",
       "<tr><td>0: He</td><td style=\"border:solid;\" bgcolor=\"white\"><font color=\"black\">Subj: 0.00</font></td><td style=\"border:solid;\" bgcolor=\"white\"></td><td style=\"border:solid;\" bgcolor=\"white\"></td><td style=\"border:solid;\" bgcolor=\"white\"><font color=\"black\">S: -1.90</font></td><td style=\"border:solid;\" bgcolor=\"white\"></td><td style=\"border:solid;\" bgcolor=\"white\"></td><td style=\"border:solid;\" bgcolor=\"white\"></td></tr>\n",
       "<tr><td>1: shot</td><td style=\"border:none;\" bgcolor=\"white\"></td><td style=\"border:solid;\" bgcolor=\"white\"><font color=\"black\">Verb: 0.00</font></td><td style=\"border:solid;\" bgcolor=\"white\"></td><td style=\"border:solid;\" bgcolor=\"white\"><font color=\"black\">VP: -1.90</font></td><td style=\"border:solid;\" bgcolor=\"white\"></td><td style=\"border:solid;\" bgcolor=\"white\"></td><td style=\"border:solid;\" bgcolor=\"white\"></td></tr>\n",
       "<tr><td>2: the</td><td style=\"border:none;\" bgcolor=\"white\"></td><td style=\"border:none;\" bgcolor=\"white\"></td><td style=\"border:solid;\" bgcolor=\"white\"><font color=\"black\">Obj_5: 0.00</font>, <font color=\"black\">Obj_8: 0.00</font></td><td style=\"border:solid;\" bgcolor=\"white\"><font color=\"black\">Obj: -0.69</font></td><td style=\"border:solid;\" bgcolor=\"#E1E1E1\"></td><td style=\"border:solid;\" bgcolor=\"white\"></td><td style=\"border:solid;\" bgcolor=\"#C3C3C3\"><font color=\"black\">Obj: -0.69</font>, <font color=\"black\">VP_0: -0.69</font></td></tr>\n",
       "<tr><td>3: elephant</td><td style=\"border:none;\" bgcolor=\"white\"></td><td style=\"border:none;\" bgcolor=\"white\"></td><td style=\"border:none;\" bgcolor=\"white\"></td><td style=\"border:solid;\" bgcolor=\"white\"><font color=\"black\">Obj_6: 0.00</font>, <font color=\"black\">Obj_7_9: 0.00</font></td><td style=\"border:solid;\" bgcolor=\"white\"></td><td style=\"border:solid;\" bgcolor=\"white\"></td><td style=\"border:solid;\" bgcolor=\"white\"><font color=\"black\">Obj_7: 0.00</font></td></tr>\n",
       "<tr><td>4: in</td><td style=\"border:none;\" bgcolor=\"white\"></td><td style=\"border:none;\" bgcolor=\"white\"></td><td style=\"border:none;\" bgcolor=\"white\"></td><td style=\"border:none;\" bgcolor=\"white\"></td><td style=\"border:solid;\" bgcolor=\"white\"><font color=\"black\">PP_2: 0.00</font></td><td style=\"border:solid;\" bgcolor=\"white\"></td><td style=\"border:solid;\" bgcolor=\"white\"><font color=\"black\">PP: 0.00</font></td></tr>\n",
       "<tr><td>5: his</td><td style=\"border:none;\" bgcolor=\"white\"></td><td style=\"border:none;\" bgcolor=\"white\"></td><td style=\"border:none;\" bgcolor=\"white\"></td><td style=\"border:none;\" bgcolor=\"white\"></td><td style=\"border:none;\" bgcolor=\"white\"></td><td style=\"border:solid;\" bgcolor=\"white\"><font color=\"black\">PP_1_3: 0.00</font></td><td style=\"border:solid;\" bgcolor=\"#E1E1E1\"><font color=\"black\">PP_1: 0.00</font></td></tr>\n",
       "<tr><td>6: pyjamas</td><td style=\"border:none;\" bgcolor=\"white\"></td><td style=\"border:none;\" bgcolor=\"white\"></td><td style=\"border:none;\" bgcolor=\"white\"></td><td style=\"border:none;\" bgcolor=\"white\"></td><td style=\"border:none;\" bgcolor=\"white\"></td><td style=\"border:none;\" bgcolor=\"white\"></td><td style=\"border:solid;\" bgcolor=\"white\"><font color=\"black\">PP_1_4: 0.00</font></td></tr></table> 86 / 112</div>\n",
       "<div class=\"item\"><table><tr><td></td><td>0: He</td><td>1: shot</td><td>2: the</td><td>3: elephant</td><td>4: in</td><td>5: his</td><td>6: pyjamas</td></tr>\n",
       "<tr><td>0: He</td><td style=\"border:solid;\" bgcolor=\"white\"><font color=\"black\">Subj: 0.00</font></td><td style=\"border:solid;\" bgcolor=\"white\"></td><td style=\"border:solid;\" bgcolor=\"white\"></td><td style=\"border:solid;\" bgcolor=\"white\"><font color=\"black\">S: -1.90</font></td><td style=\"border:solid;\" bgcolor=\"white\"></td><td style=\"border:solid;\" bgcolor=\"white\"></td><td style=\"border:solid;\" bgcolor=\"white\"></td></tr>\n",
       "<tr><td>1: shot</td><td style=\"border:none;\" bgcolor=\"white\"></td><td style=\"border:solid;\" bgcolor=\"white\"><font color=\"black\">Verb: 0.00</font></td><td style=\"border:solid;\" bgcolor=\"white\"></td><td style=\"border:solid;\" bgcolor=\"white\"><font color=\"black\">VP: -1.90</font></td><td style=\"border:solid;\" bgcolor=\"white\"></td><td style=\"border:solid;\" bgcolor=\"white\"></td><td style=\"border:solid;\" bgcolor=\"white\"></td></tr>\n",
       "<tr><td>2: the</td><td style=\"border:none;\" bgcolor=\"white\"></td><td style=\"border:none;\" bgcolor=\"white\"></td><td style=\"border:solid;\" bgcolor=\"white\"><font color=\"black\">Obj_5: 0.00</font>, <font color=\"black\">Obj_8: 0.00</font></td><td style=\"border:solid;\" bgcolor=\"white\"><font color=\"black\">Obj: -0.69</font></td><td style=\"border:solid;\" bgcolor=\"white\"></td><td style=\"border:solid;\" bgcolor=\"#E1E1E1\"></td><td style=\"border:solid;\" bgcolor=\"#C3C3C3\"><font color=\"black\">Obj: -0.69</font>, <font color=\"black\">VP_0: -0.69</font></td></tr>\n",
       "<tr><td>3: elephant</td><td style=\"border:none;\" bgcolor=\"white\"></td><td style=\"border:none;\" bgcolor=\"white\"></td><td style=\"border:none;\" bgcolor=\"white\"></td><td style=\"border:solid;\" bgcolor=\"white\"><font color=\"black\">Obj_6: 0.00</font>, <font color=\"black\">Obj_7_9: 0.00</font></td><td style=\"border:solid;\" bgcolor=\"white\"></td><td style=\"border:solid;\" bgcolor=\"white\"></td><td style=\"border:solid;\" bgcolor=\"white\"><font color=\"black\">Obj_7: 0.00</font></td></tr>\n",
       "<tr><td>4: in</td><td style=\"border:none;\" bgcolor=\"white\"></td><td style=\"border:none;\" bgcolor=\"white\"></td><td style=\"border:none;\" bgcolor=\"white\"></td><td style=\"border:none;\" bgcolor=\"white\"></td><td style=\"border:solid;\" bgcolor=\"white\"><font color=\"black\">PP_2: 0.00</font></td><td style=\"border:solid;\" bgcolor=\"white\"></td><td style=\"border:solid;\" bgcolor=\"white\"><font color=\"black\">PP: 0.00</font></td></tr>\n",
       "<tr><td>5: his</td><td style=\"border:none;\" bgcolor=\"white\"></td><td style=\"border:none;\" bgcolor=\"white\"></td><td style=\"border:none;\" bgcolor=\"white\"></td><td style=\"border:none;\" bgcolor=\"white\"></td><td style=\"border:none;\" bgcolor=\"white\"></td><td style=\"border:solid;\" bgcolor=\"white\"><font color=\"black\">PP_1_3: 0.00</font></td><td style=\"border:solid;\" bgcolor=\"white\"><font color=\"black\">PP_1: 0.00</font></td></tr>\n",
       "<tr><td>6: pyjamas</td><td style=\"border:none;\" bgcolor=\"white\"></td><td style=\"border:none;\" bgcolor=\"white\"></td><td style=\"border:none;\" bgcolor=\"white\"></td><td style=\"border:none;\" bgcolor=\"white\"></td><td style=\"border:none;\" bgcolor=\"white\"></td><td style=\"border:none;\" bgcolor=\"white\"></td><td style=\"border:solid;\" bgcolor=\"#E1E1E1\"><font color=\"black\">PP_1_4: 0.00</font></td></tr></table> 87 / 112</div>\n",
       "<div class=\"item\"><table><tr><td></td><td>0: He</td><td>1: shot</td><td>2: the</td><td>3: elephant</td><td>4: in</td><td>5: his</td><td>6: pyjamas</td></tr>\n",
       "<tr><td>0: He</td><td style=\"border:solid;\" bgcolor=\"#E1E1E1\"><font color=\"black\">Subj: 0.00</font></td><td style=\"border:solid;\" bgcolor=\"white\"></td><td style=\"border:solid;\" bgcolor=\"white\"></td><td style=\"border:solid;\" bgcolor=\"white\"><font color=\"black\">S: -1.90</font></td><td style=\"border:solid;\" bgcolor=\"white\"></td><td style=\"border:solid;\" bgcolor=\"#C3C3C3\"></td><td style=\"border:solid;\" bgcolor=\"white\"></td></tr>\n",
       "<tr><td>1: shot</td><td style=\"border:none;\" bgcolor=\"white\"></td><td style=\"border:solid;\" bgcolor=\"white\"><font color=\"black\">Verb: 0.00</font></td><td style=\"border:solid;\" bgcolor=\"white\"></td><td style=\"border:solid;\" bgcolor=\"white\"><font color=\"black\">VP: -1.90</font></td><td style=\"border:solid;\" bgcolor=\"white\"></td><td style=\"border:solid;\" bgcolor=\"#E1E1E1\"></td><td style=\"border:solid;\" bgcolor=\"white\"></td></tr>\n",
       "<tr><td>2: the</td><td style=\"border:none;\" bgcolor=\"white\"></td><td style=\"border:none;\" bgcolor=\"white\"></td><td style=\"border:solid;\" bgcolor=\"white\"><font color=\"black\">Obj_5: 0.00</font>, <font color=\"black\">Obj_8: 0.00</font></td><td style=\"border:solid;\" bgcolor=\"white\"><font color=\"black\">Obj: -0.69</font></td><td style=\"border:solid;\" bgcolor=\"white\"></td><td style=\"border:solid;\" bgcolor=\"white\"></td><td style=\"border:solid;\" bgcolor=\"white\"><font color=\"black\">Obj: -0.69</font>, <font color=\"black\">VP_0: -0.69</font></td></tr>\n",
       "<tr><td>3: elephant</td><td style=\"border:none;\" bgcolor=\"white\"></td><td style=\"border:none;\" bgcolor=\"white\"></td><td style=\"border:none;\" bgcolor=\"white\"></td><td style=\"border:solid;\" bgcolor=\"white\"><font color=\"black\">Obj_6: 0.00</font>, <font color=\"black\">Obj_7_9: 0.00</font></td><td style=\"border:solid;\" bgcolor=\"white\"></td><td style=\"border:solid;\" bgcolor=\"white\"></td><td style=\"border:solid;\" bgcolor=\"white\"><font color=\"black\">Obj_7: 0.00</font></td></tr>\n",
       "<tr><td>4: in</td><td style=\"border:none;\" bgcolor=\"white\"></td><td style=\"border:none;\" bgcolor=\"white\"></td><td style=\"border:none;\" bgcolor=\"white\"></td><td style=\"border:none;\" bgcolor=\"white\"></td><td style=\"border:solid;\" bgcolor=\"white\"><font color=\"black\">PP_2: 0.00</font></td><td style=\"border:solid;\" bgcolor=\"white\"></td><td style=\"border:solid;\" bgcolor=\"white\"><font color=\"black\">PP: 0.00</font></td></tr>\n",
       "<tr><td>5: his</td><td style=\"border:none;\" bgcolor=\"white\"></td><td style=\"border:none;\" bgcolor=\"white\"></td><td style=\"border:none;\" bgcolor=\"white\"></td><td style=\"border:none;\" bgcolor=\"white\"></td><td style=\"border:none;\" bgcolor=\"white\"></td><td style=\"border:solid;\" bgcolor=\"white\"><font color=\"black\">PP_1_3: 0.00</font></td><td style=\"border:solid;\" bgcolor=\"white\"><font color=\"black\">PP_1: 0.00</font></td></tr>\n",
       "<tr><td>6: pyjamas</td><td style=\"border:none;\" bgcolor=\"white\"></td><td style=\"border:none;\" bgcolor=\"white\"></td><td style=\"border:none;\" bgcolor=\"white\"></td><td style=\"border:none;\" bgcolor=\"white\"></td><td style=\"border:none;\" bgcolor=\"white\"></td><td style=\"border:none;\" bgcolor=\"white\"></td><td style=\"border:solid;\" bgcolor=\"white\"><font color=\"black\">PP_1_4: 0.00</font></td></tr></table> 88 / 112</div>\n",
       "<div class=\"item\"><table><tr><td></td><td>0: He</td><td>1: shot</td><td>2: the</td><td>3: elephant</td><td>4: in</td><td>5: his</td><td>6: pyjamas</td></tr>\n",
       "<tr><td>0: He</td><td style=\"border:solid;\" bgcolor=\"white\"><font color=\"black\">Subj: 0.00</font></td><td style=\"border:solid;\" bgcolor=\"#E1E1E1\"></td><td style=\"border:solid;\" bgcolor=\"white\"></td><td style=\"border:solid;\" bgcolor=\"white\"><font color=\"black\">S: -1.90</font></td><td style=\"border:solid;\" bgcolor=\"white\"></td><td style=\"border:solid;\" bgcolor=\"#C3C3C3\"></td><td style=\"border:solid;\" bgcolor=\"white\"></td></tr>\n",
       "<tr><td>1: shot</td><td style=\"border:none;\" bgcolor=\"white\"></td><td style=\"border:solid;\" bgcolor=\"white\"><font color=\"black\">Verb: 0.00</font></td><td style=\"border:solid;\" bgcolor=\"white\"></td><td style=\"border:solid;\" bgcolor=\"white\"><font color=\"black\">VP: -1.90</font></td><td style=\"border:solid;\" bgcolor=\"white\"></td><td style=\"border:solid;\" bgcolor=\"white\"></td><td style=\"border:solid;\" bgcolor=\"white\"></td></tr>\n",
       "<tr><td>2: the</td><td style=\"border:none;\" bgcolor=\"white\"></td><td style=\"border:none;\" bgcolor=\"white\"></td><td style=\"border:solid;\" bgcolor=\"white\"><font color=\"black\">Obj_5: 0.00</font>, <font color=\"black\">Obj_8: 0.00</font></td><td style=\"border:solid;\" bgcolor=\"white\"><font color=\"black\">Obj: -0.69</font></td><td style=\"border:solid;\" bgcolor=\"white\"></td><td style=\"border:solid;\" bgcolor=\"#E1E1E1\"></td><td style=\"border:solid;\" bgcolor=\"white\"><font color=\"black\">Obj: -0.69</font>, <font color=\"black\">VP_0: -0.69</font></td></tr>\n",
       "<tr><td>3: elephant</td><td style=\"border:none;\" bgcolor=\"white\"></td><td style=\"border:none;\" bgcolor=\"white\"></td><td style=\"border:none;\" bgcolor=\"white\"></td><td style=\"border:solid;\" bgcolor=\"white\"><font color=\"black\">Obj_6: 0.00</font>, <font color=\"black\">Obj_7_9: 0.00</font></td><td style=\"border:solid;\" bgcolor=\"white\"></td><td style=\"border:solid;\" bgcolor=\"white\"></td><td style=\"border:solid;\" bgcolor=\"white\"><font color=\"black\">Obj_7: 0.00</font></td></tr>\n",
       "<tr><td>4: in</td><td style=\"border:none;\" bgcolor=\"white\"></td><td style=\"border:none;\" bgcolor=\"white\"></td><td style=\"border:none;\" bgcolor=\"white\"></td><td style=\"border:none;\" bgcolor=\"white\"></td><td style=\"border:solid;\" bgcolor=\"white\"><font color=\"black\">PP_2: 0.00</font></td><td style=\"border:solid;\" bgcolor=\"white\"></td><td style=\"border:solid;\" bgcolor=\"white\"><font color=\"black\">PP: 0.00</font></td></tr>\n",
       "<tr><td>5: his</td><td style=\"border:none;\" bgcolor=\"white\"></td><td style=\"border:none;\" bgcolor=\"white\"></td><td style=\"border:none;\" bgcolor=\"white\"></td><td style=\"border:none;\" bgcolor=\"white\"></td><td style=\"border:none;\" bgcolor=\"white\"></td><td style=\"border:solid;\" bgcolor=\"white\"><font color=\"black\">PP_1_3: 0.00</font></td><td style=\"border:solid;\" bgcolor=\"white\"><font color=\"black\">PP_1: 0.00</font></td></tr>\n",
       "<tr><td>6: pyjamas</td><td style=\"border:none;\" bgcolor=\"white\"></td><td style=\"border:none;\" bgcolor=\"white\"></td><td style=\"border:none;\" bgcolor=\"white\"></td><td style=\"border:none;\" bgcolor=\"white\"></td><td style=\"border:none;\" bgcolor=\"white\"></td><td style=\"border:none;\" bgcolor=\"white\"></td><td style=\"border:solid;\" bgcolor=\"white\"><font color=\"black\">PP_1_4: 0.00</font></td></tr></table> 89 / 112</div>\n",
       "<div class=\"item\"><table><tr><td></td><td>0: He</td><td>1: shot</td><td>2: the</td><td>3: elephant</td><td>4: in</td><td>5: his</td><td>6: pyjamas</td></tr>\n",
       "<tr><td>0: He</td><td style=\"border:solid;\" bgcolor=\"white\"><font color=\"black\">Subj: 0.00</font></td><td style=\"border:solid;\" bgcolor=\"white\"></td><td style=\"border:solid;\" bgcolor=\"#E1E1E1\"></td><td style=\"border:solid;\" bgcolor=\"white\"><font color=\"black\">S: -1.90</font></td><td style=\"border:solid;\" bgcolor=\"white\"></td><td style=\"border:solid;\" bgcolor=\"#C3C3C3\"></td><td style=\"border:solid;\" bgcolor=\"white\"></td></tr>\n",
       "<tr><td>1: shot</td><td style=\"border:none;\" bgcolor=\"white\"></td><td style=\"border:solid;\" bgcolor=\"white\"><font color=\"black\">Verb: 0.00</font></td><td style=\"border:solid;\" bgcolor=\"white\"></td><td style=\"border:solid;\" bgcolor=\"white\"><font color=\"black\">VP: -1.90</font></td><td style=\"border:solid;\" bgcolor=\"white\"></td><td style=\"border:solid;\" bgcolor=\"white\"></td><td style=\"border:solid;\" bgcolor=\"white\"></td></tr>\n",
       "<tr><td>2: the</td><td style=\"border:none;\" bgcolor=\"white\"></td><td style=\"border:none;\" bgcolor=\"white\"></td><td style=\"border:solid;\" bgcolor=\"white\"><font color=\"black\">Obj_5: 0.00</font>, <font color=\"black\">Obj_8: 0.00</font></td><td style=\"border:solid;\" bgcolor=\"white\"><font color=\"black\">Obj: -0.69</font></td><td style=\"border:solid;\" bgcolor=\"white\"></td><td style=\"border:solid;\" bgcolor=\"white\"></td><td style=\"border:solid;\" bgcolor=\"white\"><font color=\"black\">Obj: -0.69</font>, <font color=\"black\">VP_0: -0.69</font></td></tr>\n",
       "<tr><td>3: elephant</td><td style=\"border:none;\" bgcolor=\"white\"></td><td style=\"border:none;\" bgcolor=\"white\"></td><td style=\"border:none;\" bgcolor=\"white\"></td><td style=\"border:solid;\" bgcolor=\"white\"><font color=\"black\">Obj_6: 0.00</font>, <font color=\"black\">Obj_7_9: 0.00</font></td><td style=\"border:solid;\" bgcolor=\"white\"></td><td style=\"border:solid;\" bgcolor=\"#E1E1E1\"></td><td style=\"border:solid;\" bgcolor=\"white\"><font color=\"black\">Obj_7: 0.00</font></td></tr>\n",
       "<tr><td>4: in</td><td style=\"border:none;\" bgcolor=\"white\"></td><td style=\"border:none;\" bgcolor=\"white\"></td><td style=\"border:none;\" bgcolor=\"white\"></td><td style=\"border:none;\" bgcolor=\"white\"></td><td style=\"border:solid;\" bgcolor=\"white\"><font color=\"black\">PP_2: 0.00</font></td><td style=\"border:solid;\" bgcolor=\"white\"></td><td style=\"border:solid;\" bgcolor=\"white\"><font color=\"black\">PP: 0.00</font></td></tr>\n",
       "<tr><td>5: his</td><td style=\"border:none;\" bgcolor=\"white\"></td><td style=\"border:none;\" bgcolor=\"white\"></td><td style=\"border:none;\" bgcolor=\"white\"></td><td style=\"border:none;\" bgcolor=\"white\"></td><td style=\"border:none;\" bgcolor=\"white\"></td><td style=\"border:solid;\" bgcolor=\"white\"><font color=\"black\">PP_1_3: 0.00</font></td><td style=\"border:solid;\" bgcolor=\"white\"><font color=\"black\">PP_1: 0.00</font></td></tr>\n",
       "<tr><td>6: pyjamas</td><td style=\"border:none;\" bgcolor=\"white\"></td><td style=\"border:none;\" bgcolor=\"white\"></td><td style=\"border:none;\" bgcolor=\"white\"></td><td style=\"border:none;\" bgcolor=\"white\"></td><td style=\"border:none;\" bgcolor=\"white\"></td><td style=\"border:none;\" bgcolor=\"white\"></td><td style=\"border:solid;\" bgcolor=\"white\"><font color=\"black\">PP_1_4: 0.00</font></td></tr></table> 90 / 112</div>\n",
       "<div class=\"item\"><table><tr><td></td><td>0: He</td><td>1: shot</td><td>2: the</td><td>3: elephant</td><td>4: in</td><td>5: his</td><td>6: pyjamas</td></tr>\n",
       "<tr><td>0: He</td><td style=\"border:solid;\" bgcolor=\"white\"><font color=\"black\">Subj: 0.00</font></td><td style=\"border:solid;\" bgcolor=\"white\"></td><td style=\"border:solid;\" bgcolor=\"white\"></td><td style=\"border:solid;\" bgcolor=\"#E1E1E1\"><font color=\"black\">S: -1.90</font></td><td style=\"border:solid;\" bgcolor=\"white\"></td><td style=\"border:solid;\" bgcolor=\"#C3C3C3\"></td><td style=\"border:solid;\" bgcolor=\"white\"></td></tr>\n",
       "<tr><td>1: shot</td><td style=\"border:none;\" bgcolor=\"white\"></td><td style=\"border:solid;\" bgcolor=\"white\"><font color=\"black\">Verb: 0.00</font></td><td style=\"border:solid;\" bgcolor=\"white\"></td><td style=\"border:solid;\" bgcolor=\"white\"><font color=\"black\">VP: -1.90</font></td><td style=\"border:solid;\" bgcolor=\"white\"></td><td style=\"border:solid;\" bgcolor=\"white\"></td><td style=\"border:solid;\" bgcolor=\"white\"></td></tr>\n",
       "<tr><td>2: the</td><td style=\"border:none;\" bgcolor=\"white\"></td><td style=\"border:none;\" bgcolor=\"white\"></td><td style=\"border:solid;\" bgcolor=\"white\"><font color=\"black\">Obj_5: 0.00</font>, <font color=\"black\">Obj_8: 0.00</font></td><td style=\"border:solid;\" bgcolor=\"white\"><font color=\"black\">Obj: -0.69</font></td><td style=\"border:solid;\" bgcolor=\"white\"></td><td style=\"border:solid;\" bgcolor=\"white\"></td><td style=\"border:solid;\" bgcolor=\"white\"><font color=\"black\">Obj: -0.69</font>, <font color=\"black\">VP_0: -0.69</font></td></tr>\n",
       "<tr><td>3: elephant</td><td style=\"border:none;\" bgcolor=\"white\"></td><td style=\"border:none;\" bgcolor=\"white\"></td><td style=\"border:none;\" bgcolor=\"white\"></td><td style=\"border:solid;\" bgcolor=\"white\"><font color=\"black\">Obj_6: 0.00</font>, <font color=\"black\">Obj_7_9: 0.00</font></td><td style=\"border:solid;\" bgcolor=\"white\"></td><td style=\"border:solid;\" bgcolor=\"white\"></td><td style=\"border:solid;\" bgcolor=\"white\"><font color=\"black\">Obj_7: 0.00</font></td></tr>\n",
       "<tr><td>4: in</td><td style=\"border:none;\" bgcolor=\"white\"></td><td style=\"border:none;\" bgcolor=\"white\"></td><td style=\"border:none;\" bgcolor=\"white\"></td><td style=\"border:none;\" bgcolor=\"white\"></td><td style=\"border:solid;\" bgcolor=\"white\"><font color=\"black\">PP_2: 0.00</font></td><td style=\"border:solid;\" bgcolor=\"#E1E1E1\"></td><td style=\"border:solid;\" bgcolor=\"white\"><font color=\"black\">PP: 0.00</font></td></tr>\n",
       "<tr><td>5: his</td><td style=\"border:none;\" bgcolor=\"white\"></td><td style=\"border:none;\" bgcolor=\"white\"></td><td style=\"border:none;\" bgcolor=\"white\"></td><td style=\"border:none;\" bgcolor=\"white\"></td><td style=\"border:none;\" bgcolor=\"white\"></td><td style=\"border:solid;\" bgcolor=\"white\"><font color=\"black\">PP_1_3: 0.00</font></td><td style=\"border:solid;\" bgcolor=\"white\"><font color=\"black\">PP_1: 0.00</font></td></tr>\n",
       "<tr><td>6: pyjamas</td><td style=\"border:none;\" bgcolor=\"white\"></td><td style=\"border:none;\" bgcolor=\"white\"></td><td style=\"border:none;\" bgcolor=\"white\"></td><td style=\"border:none;\" bgcolor=\"white\"></td><td style=\"border:none;\" bgcolor=\"white\"></td><td style=\"border:none;\" bgcolor=\"white\"></td><td style=\"border:solid;\" bgcolor=\"white\"><font color=\"black\">PP_1_4: 0.00</font></td></tr></table> 91 / 112</div>\n",
       "<div class=\"item\"><table><tr><td></td><td>0: He</td><td>1: shot</td><td>2: the</td><td>3: elephant</td><td>4: in</td><td>5: his</td><td>6: pyjamas</td></tr>\n",
       "<tr><td>0: He</td><td style=\"border:solid;\" bgcolor=\"white\"><font color=\"black\">Subj: 0.00</font></td><td style=\"border:solid;\" bgcolor=\"white\"></td><td style=\"border:solid;\" bgcolor=\"white\"></td><td style=\"border:solid;\" bgcolor=\"white\"><font color=\"black\">S: -1.90</font></td><td style=\"border:solid;\" bgcolor=\"#E1E1E1\"></td><td style=\"border:solid;\" bgcolor=\"#C3C3C3\"></td><td style=\"border:solid;\" bgcolor=\"white\"></td></tr>\n",
       "<tr><td>1: shot</td><td style=\"border:none;\" bgcolor=\"white\"></td><td style=\"border:solid;\" bgcolor=\"white\"><font color=\"black\">Verb: 0.00</font></td><td style=\"border:solid;\" bgcolor=\"white\"></td><td style=\"border:solid;\" bgcolor=\"white\"><font color=\"black\">VP: -1.90</font></td><td style=\"border:solid;\" bgcolor=\"white\"></td><td style=\"border:solid;\" bgcolor=\"white\"></td><td style=\"border:solid;\" bgcolor=\"white\"></td></tr>\n",
       "<tr><td>2: the</td><td style=\"border:none;\" bgcolor=\"white\"></td><td style=\"border:none;\" bgcolor=\"white\"></td><td style=\"border:solid;\" bgcolor=\"white\"><font color=\"black\">Obj_5: 0.00</font>, <font color=\"black\">Obj_8: 0.00</font></td><td style=\"border:solid;\" bgcolor=\"white\"><font color=\"black\">Obj: -0.69</font></td><td style=\"border:solid;\" bgcolor=\"white\"></td><td style=\"border:solid;\" bgcolor=\"white\"></td><td style=\"border:solid;\" bgcolor=\"white\"><font color=\"black\">Obj: -0.69</font>, <font color=\"black\">VP_0: -0.69</font></td></tr>\n",
       "<tr><td>3: elephant</td><td style=\"border:none;\" bgcolor=\"white\"></td><td style=\"border:none;\" bgcolor=\"white\"></td><td style=\"border:none;\" bgcolor=\"white\"></td><td style=\"border:solid;\" bgcolor=\"white\"><font color=\"black\">Obj_6: 0.00</font>, <font color=\"black\">Obj_7_9: 0.00</font></td><td style=\"border:solid;\" bgcolor=\"white\"></td><td style=\"border:solid;\" bgcolor=\"white\"></td><td style=\"border:solid;\" bgcolor=\"white\"><font color=\"black\">Obj_7: 0.00</font></td></tr>\n",
       "<tr><td>4: in</td><td style=\"border:none;\" bgcolor=\"white\"></td><td style=\"border:none;\" bgcolor=\"white\"></td><td style=\"border:none;\" bgcolor=\"white\"></td><td style=\"border:none;\" bgcolor=\"white\"></td><td style=\"border:solid;\" bgcolor=\"white\"><font color=\"black\">PP_2: 0.00</font></td><td style=\"border:solid;\" bgcolor=\"white\"></td><td style=\"border:solid;\" bgcolor=\"white\"><font color=\"black\">PP: 0.00</font></td></tr>\n",
       "<tr><td>5: his</td><td style=\"border:none;\" bgcolor=\"white\"></td><td style=\"border:none;\" bgcolor=\"white\"></td><td style=\"border:none;\" bgcolor=\"white\"></td><td style=\"border:none;\" bgcolor=\"white\"></td><td style=\"border:none;\" bgcolor=\"white\"></td><td style=\"border:solid;\" bgcolor=\"#E1E1E1\"><font color=\"black\">PP_1_3: 0.00</font></td><td style=\"border:solid;\" bgcolor=\"white\"><font color=\"black\">PP_1: 0.00</font></td></tr>\n",
       "<tr><td>6: pyjamas</td><td style=\"border:none;\" bgcolor=\"white\"></td><td style=\"border:none;\" bgcolor=\"white\"></td><td style=\"border:none;\" bgcolor=\"white\"></td><td style=\"border:none;\" bgcolor=\"white\"></td><td style=\"border:none;\" bgcolor=\"white\"></td><td style=\"border:none;\" bgcolor=\"white\"></td><td style=\"border:solid;\" bgcolor=\"white\"><font color=\"black\">PP_1_4: 0.00</font></td></tr></table> 92 / 112</div>\n",
       "<div class=\"item\"><table><tr><td></td><td>0: He</td><td>1: shot</td><td>2: the</td><td>3: elephant</td><td>4: in</td><td>5: his</td><td>6: pyjamas</td></tr>\n",
       "<tr><td>0: He</td><td style=\"border:solid;\" bgcolor=\"white\"><font color=\"black\">Subj: 0.00</font></td><td style=\"border:solid;\" bgcolor=\"white\"></td><td style=\"border:solid;\" bgcolor=\"white\"></td><td style=\"border:solid;\" bgcolor=\"white\"><font color=\"black\">S: -1.90</font></td><td style=\"border:solid;\" bgcolor=\"white\"></td><td style=\"border:solid;\" bgcolor=\"white\"></td><td style=\"border:solid;\" bgcolor=\"white\"></td></tr>\n",
       "<tr><td>1: shot</td><td style=\"border:none;\" bgcolor=\"white\"></td><td style=\"border:solid;\" bgcolor=\"#E1E1E1\"><font color=\"black\">Verb: 0.00</font></td><td style=\"border:solid;\" bgcolor=\"white\"></td><td style=\"border:solid;\" bgcolor=\"white\"><font color=\"black\">VP: -1.90</font></td><td style=\"border:solid;\" bgcolor=\"white\"></td><td style=\"border:solid;\" bgcolor=\"white\"></td><td style=\"border:solid;\" bgcolor=\"#C3C3C3\"></td></tr>\n",
       "<tr><td>2: the</td><td style=\"border:none;\" bgcolor=\"white\"></td><td style=\"border:none;\" bgcolor=\"white\"></td><td style=\"border:solid;\" bgcolor=\"white\"><font color=\"black\">Obj_5: 0.00</font>, <font color=\"black\">Obj_8: 0.00</font></td><td style=\"border:solid;\" bgcolor=\"white\"><font color=\"black\">Obj: -0.69</font></td><td style=\"border:solid;\" bgcolor=\"white\"></td><td style=\"border:solid;\" bgcolor=\"white\"></td><td style=\"border:solid;\" bgcolor=\"#E1E1E1\"><font color=\"black\">Obj: -0.69</font>, <font color=\"black\">VP_0: -0.69</font></td></tr>\n",
       "<tr><td>3: elephant</td><td style=\"border:none;\" bgcolor=\"white\"></td><td style=\"border:none;\" bgcolor=\"white\"></td><td style=\"border:none;\" bgcolor=\"white\"></td><td style=\"border:solid;\" bgcolor=\"white\"><font color=\"black\">Obj_6: 0.00</font>, <font color=\"black\">Obj_7_9: 0.00</font></td><td style=\"border:solid;\" bgcolor=\"white\"></td><td style=\"border:solid;\" bgcolor=\"white\"></td><td style=\"border:solid;\" bgcolor=\"white\"><font color=\"black\">Obj_7: 0.00</font></td></tr>\n",
       "<tr><td>4: in</td><td style=\"border:none;\" bgcolor=\"white\"></td><td style=\"border:none;\" bgcolor=\"white\"></td><td style=\"border:none;\" bgcolor=\"white\"></td><td style=\"border:none;\" bgcolor=\"white\"></td><td style=\"border:solid;\" bgcolor=\"white\"><font color=\"black\">PP_2: 0.00</font></td><td style=\"border:solid;\" bgcolor=\"white\"></td><td style=\"border:solid;\" bgcolor=\"white\"><font color=\"black\">PP: 0.00</font></td></tr>\n",
       "<tr><td>5: his</td><td style=\"border:none;\" bgcolor=\"white\"></td><td style=\"border:none;\" bgcolor=\"white\"></td><td style=\"border:none;\" bgcolor=\"white\"></td><td style=\"border:none;\" bgcolor=\"white\"></td><td style=\"border:none;\" bgcolor=\"white\"></td><td style=\"border:solid;\" bgcolor=\"white\"><font color=\"black\">PP_1_3: 0.00</font></td><td style=\"border:solid;\" bgcolor=\"white\"><font color=\"black\">PP_1: 0.00</font></td></tr>\n",
       "<tr><td>6: pyjamas</td><td style=\"border:none;\" bgcolor=\"white\"></td><td style=\"border:none;\" bgcolor=\"white\"></td><td style=\"border:none;\" bgcolor=\"white\"></td><td style=\"border:none;\" bgcolor=\"white\"></td><td style=\"border:none;\" bgcolor=\"white\"></td><td style=\"border:none;\" bgcolor=\"white\"></td><td style=\"border:solid;\" bgcolor=\"white\"><font color=\"black\">PP_1_4: 0.00</font></td></tr></table> 93 / 112</div>\n",
       "<div class=\"item\"><table><tr><td></td><td>0: He</td><td>1: shot</td><td>2: the</td><td>3: elephant</td><td>4: in</td><td>5: his</td><td>6: pyjamas</td></tr>\n",
       "<tr><td>0: He</td><td style=\"border:solid;\" bgcolor=\"white\"><font color=\"black\">Subj: 0.00</font></td><td style=\"border:solid;\" bgcolor=\"white\"></td><td style=\"border:solid;\" bgcolor=\"white\"></td><td style=\"border:solid;\" bgcolor=\"white\"><font color=\"black\">S: -1.90</font></td><td style=\"border:solid;\" bgcolor=\"white\"></td><td style=\"border:solid;\" bgcolor=\"white\"></td><td style=\"border:solid;\" bgcolor=\"white\"></td></tr>\n",
       "<tr><td>1: shot</td><td style=\"border:none;\" bgcolor=\"white\"></td><td style=\"border:solid;\" bgcolor=\"#E1E1E1\"><font color=\"red\">Verb: 0.00</font></td><td style=\"border:solid;\" bgcolor=\"white\"></td><td style=\"border:solid;\" bgcolor=\"white\"><font color=\"black\">VP: -1.90</font></td><td style=\"border:solid;\" bgcolor=\"white\"></td><td style=\"border:solid;\" bgcolor=\"white\"></td><td style=\"border:solid;\" bgcolor=\"#C3C3C3\"></td></tr>\n",
       "<tr><td>2: the</td><td style=\"border:none;\" bgcolor=\"white\"></td><td style=\"border:none;\" bgcolor=\"white\"></td><td style=\"border:solid;\" bgcolor=\"white\"><font color=\"black\">Obj_5: 0.00</font>, <font color=\"black\">Obj_8: 0.00</font></td><td style=\"border:solid;\" bgcolor=\"white\"><font color=\"black\">Obj: -0.69</font></td><td style=\"border:solid;\" bgcolor=\"white\"></td><td style=\"border:solid;\" bgcolor=\"white\"></td><td style=\"border:solid;\" bgcolor=\"#E1E1E1\"><font color=\"red\">Obj: -0.69</font>, <font color=\"black\">VP_0: -0.69</font></td></tr>\n",
       "<tr><td>3: elephant</td><td style=\"border:none;\" bgcolor=\"white\"></td><td style=\"border:none;\" bgcolor=\"white\"></td><td style=\"border:none;\" bgcolor=\"white\"></td><td style=\"border:solid;\" bgcolor=\"white\"><font color=\"black\">Obj_6: 0.00</font>, <font color=\"black\">Obj_7_9: 0.00</font></td><td style=\"border:solid;\" bgcolor=\"white\"></td><td style=\"border:solid;\" bgcolor=\"white\"></td><td style=\"border:solid;\" bgcolor=\"white\"><font color=\"black\">Obj_7: 0.00</font></td></tr>\n",
       "<tr><td>4: in</td><td style=\"border:none;\" bgcolor=\"white\"></td><td style=\"border:none;\" bgcolor=\"white\"></td><td style=\"border:none;\" bgcolor=\"white\"></td><td style=\"border:none;\" bgcolor=\"white\"></td><td style=\"border:solid;\" bgcolor=\"white\"><font color=\"black\">PP_2: 0.00</font></td><td style=\"border:solid;\" bgcolor=\"white\"></td><td style=\"border:solid;\" bgcolor=\"white\"><font color=\"black\">PP: 0.00</font></td></tr>\n",
       "<tr><td>5: his</td><td style=\"border:none;\" bgcolor=\"white\"></td><td style=\"border:none;\" bgcolor=\"white\"></td><td style=\"border:none;\" bgcolor=\"white\"></td><td style=\"border:none;\" bgcolor=\"white\"></td><td style=\"border:none;\" bgcolor=\"white\"></td><td style=\"border:solid;\" bgcolor=\"white\"><font color=\"black\">PP_1_3: 0.00</font></td><td style=\"border:solid;\" bgcolor=\"white\"><font color=\"black\">PP_1: 0.00</font></td></tr>\n",
       "<tr><td>6: pyjamas</td><td style=\"border:none;\" bgcolor=\"white\"></td><td style=\"border:none;\" bgcolor=\"white\"></td><td style=\"border:none;\" bgcolor=\"white\"></td><td style=\"border:none;\" bgcolor=\"white\"></td><td style=\"border:none;\" bgcolor=\"white\"></td><td style=\"border:none;\" bgcolor=\"white\"></td><td style=\"border:solid;\" bgcolor=\"white\"><font color=\"black\">PP_1_4: 0.00</font></td></tr></table> 94 / 112</div>\n",
       "<div class=\"item\"><table><tr><td></td><td>0: He</td><td>1: shot</td><td>2: the</td><td>3: elephant</td><td>4: in</td><td>5: his</td><td>6: pyjamas</td></tr>\n",
       "<tr><td>0: He</td><td style=\"border:solid;\" bgcolor=\"white\"><font color=\"black\">Subj: 0.00</font></td><td style=\"border:solid;\" bgcolor=\"white\"></td><td style=\"border:solid;\" bgcolor=\"white\"></td><td style=\"border:solid;\" bgcolor=\"white\"><font color=\"black\">S: -1.90</font></td><td style=\"border:solid;\" bgcolor=\"white\"></td><td style=\"border:solid;\" bgcolor=\"white\"></td><td style=\"border:solid;\" bgcolor=\"white\"></td></tr>\n",
       "<tr><td>1: shot</td><td style=\"border:none;\" bgcolor=\"white\"></td><td style=\"border:solid;\" bgcolor=\"#E1E1E1\"><font color=\"red\">Verb: 0.00</font></td><td style=\"border:solid;\" bgcolor=\"white\"></td><td style=\"border:solid;\" bgcolor=\"white\"><font color=\"black\">VP: -1.90</font></td><td style=\"border:solid;\" bgcolor=\"white\"></td><td style=\"border:solid;\" bgcolor=\"white\"></td><td style=\"border:solid;\" bgcolor=\"#C3C3C3\"><font color=\"blue\">VP: -1.90</font></td></tr>\n",
       "<tr><td>2: the</td><td style=\"border:none;\" bgcolor=\"white\"></td><td style=\"border:none;\" bgcolor=\"white\"></td><td style=\"border:solid;\" bgcolor=\"white\"><font color=\"black\">Obj_5: 0.00</font>, <font color=\"black\">Obj_8: 0.00</font></td><td style=\"border:solid;\" bgcolor=\"white\"><font color=\"black\">Obj: -0.69</font></td><td style=\"border:solid;\" bgcolor=\"white\"></td><td style=\"border:solid;\" bgcolor=\"white\"></td><td style=\"border:solid;\" bgcolor=\"#E1E1E1\"><font color=\"red\">Obj: -0.69</font>, <font color=\"black\">VP_0: -0.69</font></td></tr>\n",
       "<tr><td>3: elephant</td><td style=\"border:none;\" bgcolor=\"white\"></td><td style=\"border:none;\" bgcolor=\"white\"></td><td style=\"border:none;\" bgcolor=\"white\"></td><td style=\"border:solid;\" bgcolor=\"white\"><font color=\"black\">Obj_6: 0.00</font>, <font color=\"black\">Obj_7_9: 0.00</font></td><td style=\"border:solid;\" bgcolor=\"white\"></td><td style=\"border:solid;\" bgcolor=\"white\"></td><td style=\"border:solid;\" bgcolor=\"white\"><font color=\"black\">Obj_7: 0.00</font></td></tr>\n",
       "<tr><td>4: in</td><td style=\"border:none;\" bgcolor=\"white\"></td><td style=\"border:none;\" bgcolor=\"white\"></td><td style=\"border:none;\" bgcolor=\"white\"></td><td style=\"border:none;\" bgcolor=\"white\"></td><td style=\"border:solid;\" bgcolor=\"white\"><font color=\"black\">PP_2: 0.00</font></td><td style=\"border:solid;\" bgcolor=\"white\"></td><td style=\"border:solid;\" bgcolor=\"white\"><font color=\"black\">PP: 0.00</font></td></tr>\n",
       "<tr><td>5: his</td><td style=\"border:none;\" bgcolor=\"white\"></td><td style=\"border:none;\" bgcolor=\"white\"></td><td style=\"border:none;\" bgcolor=\"white\"></td><td style=\"border:none;\" bgcolor=\"white\"></td><td style=\"border:none;\" bgcolor=\"white\"></td><td style=\"border:solid;\" bgcolor=\"white\"><font color=\"black\">PP_1_3: 0.00</font></td><td style=\"border:solid;\" bgcolor=\"white\"><font color=\"black\">PP_1: 0.00</font></td></tr>\n",
       "<tr><td>6: pyjamas</td><td style=\"border:none;\" bgcolor=\"white\"></td><td style=\"border:none;\" bgcolor=\"white\"></td><td style=\"border:none;\" bgcolor=\"white\"></td><td style=\"border:none;\" bgcolor=\"white\"></td><td style=\"border:none;\" bgcolor=\"white\"></td><td style=\"border:none;\" bgcolor=\"white\"></td><td style=\"border:solid;\" bgcolor=\"white\"><font color=\"black\">PP_1_4: 0.00</font></td></tr></table> 95 / 112</div>\n",
       "<div class=\"item\"><table><tr><td></td><td>0: He</td><td>1: shot</td><td>2: the</td><td>3: elephant</td><td>4: in</td><td>5: his</td><td>6: pyjamas</td></tr>\n",
       "<tr><td>0: He</td><td style=\"border:solid;\" bgcolor=\"white\"><font color=\"black\">Subj: 0.00</font></td><td style=\"border:solid;\" bgcolor=\"white\"></td><td style=\"border:solid;\" bgcolor=\"white\"></td><td style=\"border:solid;\" bgcolor=\"white\"><font color=\"black\">S: -1.90</font></td><td style=\"border:solid;\" bgcolor=\"white\"></td><td style=\"border:solid;\" bgcolor=\"white\"></td><td style=\"border:solid;\" bgcolor=\"white\"></td></tr>\n",
       "<tr><td>1: shot</td><td style=\"border:none;\" bgcolor=\"white\"></td><td style=\"border:solid;\" bgcolor=\"#E1E1E1\"><font color=\"red\">Verb: 0.00</font></td><td style=\"border:solid;\" bgcolor=\"white\"></td><td style=\"border:solid;\" bgcolor=\"white\"><font color=\"black\">VP: -1.90</font></td><td style=\"border:solid;\" bgcolor=\"white\"></td><td style=\"border:solid;\" bgcolor=\"white\"></td><td style=\"border:solid;\" bgcolor=\"#C3C3C3\"><font color=\"black\">VP: -1.90</font></td></tr>\n",
       "<tr><td>2: the</td><td style=\"border:none;\" bgcolor=\"white\"></td><td style=\"border:none;\" bgcolor=\"white\"></td><td style=\"border:solid;\" bgcolor=\"white\"><font color=\"black\">Obj_5: 0.00</font>, <font color=\"black\">Obj_8: 0.00</font></td><td style=\"border:solid;\" bgcolor=\"white\"><font color=\"black\">Obj: -0.69</font></td><td style=\"border:solid;\" bgcolor=\"white\"></td><td style=\"border:solid;\" bgcolor=\"white\"></td><td style=\"border:solid;\" bgcolor=\"#E1E1E1\"><font color=\"black\">Obj: -0.69</font>, <font color=\"red\">VP_0: -0.69</font></td></tr>\n",
       "<tr><td>3: elephant</td><td style=\"border:none;\" bgcolor=\"white\"></td><td style=\"border:none;\" bgcolor=\"white\"></td><td style=\"border:none;\" bgcolor=\"white\"></td><td style=\"border:solid;\" bgcolor=\"white\"><font color=\"black\">Obj_6: 0.00</font>, <font color=\"black\">Obj_7_9: 0.00</font></td><td style=\"border:solid;\" bgcolor=\"white\"></td><td style=\"border:solid;\" bgcolor=\"white\"></td><td style=\"border:solid;\" bgcolor=\"white\"><font color=\"black\">Obj_7: 0.00</font></td></tr>\n",
       "<tr><td>4: in</td><td style=\"border:none;\" bgcolor=\"white\"></td><td style=\"border:none;\" bgcolor=\"white\"></td><td style=\"border:none;\" bgcolor=\"white\"></td><td style=\"border:none;\" bgcolor=\"white\"></td><td style=\"border:solid;\" bgcolor=\"white\"><font color=\"black\">PP_2: 0.00</font></td><td style=\"border:solid;\" bgcolor=\"white\"></td><td style=\"border:solid;\" bgcolor=\"white\"><font color=\"black\">PP: 0.00</font></td></tr>\n",
       "<tr><td>5: his</td><td style=\"border:none;\" bgcolor=\"white\"></td><td style=\"border:none;\" bgcolor=\"white\"></td><td style=\"border:none;\" bgcolor=\"white\"></td><td style=\"border:none;\" bgcolor=\"white\"></td><td style=\"border:none;\" bgcolor=\"white\"></td><td style=\"border:solid;\" bgcolor=\"white\"><font color=\"black\">PP_1_3: 0.00</font></td><td style=\"border:solid;\" bgcolor=\"white\"><font color=\"black\">PP_1: 0.00</font></td></tr>\n",
       "<tr><td>6: pyjamas</td><td style=\"border:none;\" bgcolor=\"white\"></td><td style=\"border:none;\" bgcolor=\"white\"></td><td style=\"border:none;\" bgcolor=\"white\"></td><td style=\"border:none;\" bgcolor=\"white\"></td><td style=\"border:none;\" bgcolor=\"white\"></td><td style=\"border:none;\" bgcolor=\"white\"></td><td style=\"border:solid;\" bgcolor=\"white\"><font color=\"black\">PP_1_4: 0.00</font></td></tr></table> 96 / 112</div>\n",
       "<div class=\"item\"><table><tr><td></td><td>0: He</td><td>1: shot</td><td>2: the</td><td>3: elephant</td><td>4: in</td><td>5: his</td><td>6: pyjamas</td></tr>\n",
       "<tr><td>0: He</td><td style=\"border:solid;\" bgcolor=\"white\"><font color=\"black\">Subj: 0.00</font></td><td style=\"border:solid;\" bgcolor=\"white\"></td><td style=\"border:solid;\" bgcolor=\"white\"></td><td style=\"border:solid;\" bgcolor=\"white\"><font color=\"black\">S: -1.90</font></td><td style=\"border:solid;\" bgcolor=\"white\"></td><td style=\"border:solid;\" bgcolor=\"white\"></td><td style=\"border:solid;\" bgcolor=\"white\"></td></tr>\n",
       "<tr><td>1: shot</td><td style=\"border:none;\" bgcolor=\"white\"></td><td style=\"border:solid;\" bgcolor=\"#E1E1E1\"><font color=\"red\">Verb: 0.00</font></td><td style=\"border:solid;\" bgcolor=\"white\"></td><td style=\"border:solid;\" bgcolor=\"white\"><font color=\"black\">VP: -1.90</font></td><td style=\"border:solid;\" bgcolor=\"white\"></td><td style=\"border:solid;\" bgcolor=\"white\"></td><td style=\"border:solid;\" bgcolor=\"#C3C3C3\"><font color=\"blue\">VP: -1.05</font></td></tr>\n",
       "<tr><td>2: the</td><td style=\"border:none;\" bgcolor=\"white\"></td><td style=\"border:none;\" bgcolor=\"white\"></td><td style=\"border:solid;\" bgcolor=\"white\"><font color=\"black\">Obj_5: 0.00</font>, <font color=\"black\">Obj_8: 0.00</font></td><td style=\"border:solid;\" bgcolor=\"white\"><font color=\"black\">Obj: -0.69</font></td><td style=\"border:solid;\" bgcolor=\"white\"></td><td style=\"border:solid;\" bgcolor=\"white\"></td><td style=\"border:solid;\" bgcolor=\"#E1E1E1\"><font color=\"black\">Obj: -0.69</font>, <font color=\"red\">VP_0: -0.69</font></td></tr>\n",
       "<tr><td>3: elephant</td><td style=\"border:none;\" bgcolor=\"white\"></td><td style=\"border:none;\" bgcolor=\"white\"></td><td style=\"border:none;\" bgcolor=\"white\"></td><td style=\"border:solid;\" bgcolor=\"white\"><font color=\"black\">Obj_6: 0.00</font>, <font color=\"black\">Obj_7_9: 0.00</font></td><td style=\"border:solid;\" bgcolor=\"white\"></td><td style=\"border:solid;\" bgcolor=\"white\"></td><td style=\"border:solid;\" bgcolor=\"white\"><font color=\"black\">Obj_7: 0.00</font></td></tr>\n",
       "<tr><td>4: in</td><td style=\"border:none;\" bgcolor=\"white\"></td><td style=\"border:none;\" bgcolor=\"white\"></td><td style=\"border:none;\" bgcolor=\"white\"></td><td style=\"border:none;\" bgcolor=\"white\"></td><td style=\"border:solid;\" bgcolor=\"white\"><font color=\"black\">PP_2: 0.00</font></td><td style=\"border:solid;\" bgcolor=\"white\"></td><td style=\"border:solid;\" bgcolor=\"white\"><font color=\"black\">PP: 0.00</font></td></tr>\n",
       "<tr><td>5: his</td><td style=\"border:none;\" bgcolor=\"white\"></td><td style=\"border:none;\" bgcolor=\"white\"></td><td style=\"border:none;\" bgcolor=\"white\"></td><td style=\"border:none;\" bgcolor=\"white\"></td><td style=\"border:none;\" bgcolor=\"white\"></td><td style=\"border:solid;\" bgcolor=\"white\"><font color=\"black\">PP_1_3: 0.00</font></td><td style=\"border:solid;\" bgcolor=\"white\"><font color=\"black\">PP_1: 0.00</font></td></tr>\n",
       "<tr><td>6: pyjamas</td><td style=\"border:none;\" bgcolor=\"white\"></td><td style=\"border:none;\" bgcolor=\"white\"></td><td style=\"border:none;\" bgcolor=\"white\"></td><td style=\"border:none;\" bgcolor=\"white\"></td><td style=\"border:none;\" bgcolor=\"white\"></td><td style=\"border:none;\" bgcolor=\"white\"></td><td style=\"border:solid;\" bgcolor=\"white\"><font color=\"black\">PP_1_4: 0.00</font></td></tr></table> 97 / 112</div>\n",
       "<div class=\"item\"><table><tr><td></td><td>0: He</td><td>1: shot</td><td>2: the</td><td>3: elephant</td><td>4: in</td><td>5: his</td><td>6: pyjamas</td></tr>\n",
       "<tr><td>0: He</td><td style=\"border:solid;\" bgcolor=\"white\"><font color=\"black\">Subj: 0.00</font></td><td style=\"border:solid;\" bgcolor=\"white\"></td><td style=\"border:solid;\" bgcolor=\"white\"></td><td style=\"border:solid;\" bgcolor=\"white\"><font color=\"black\">S: -1.90</font></td><td style=\"border:solid;\" bgcolor=\"white\"></td><td style=\"border:solid;\" bgcolor=\"white\"></td><td style=\"border:solid;\" bgcolor=\"white\"></td></tr>\n",
       "<tr><td>1: shot</td><td style=\"border:none;\" bgcolor=\"white\"></td><td style=\"border:solid;\" bgcolor=\"white\"><font color=\"black\">Verb: 0.00</font></td><td style=\"border:solid;\" bgcolor=\"#E1E1E1\"></td><td style=\"border:solid;\" bgcolor=\"white\"><font color=\"black\">VP: -1.90</font></td><td style=\"border:solid;\" bgcolor=\"white\"></td><td style=\"border:solid;\" bgcolor=\"white\"></td><td style=\"border:solid;\" bgcolor=\"#C3C3C3\"><font color=\"black\">VP: -1.05</font></td></tr>\n",
       "<tr><td>2: the</td><td style=\"border:none;\" bgcolor=\"white\"></td><td style=\"border:none;\" bgcolor=\"white\"></td><td style=\"border:solid;\" bgcolor=\"white\"><font color=\"black\">Obj_5: 0.00</font>, <font color=\"black\">Obj_8: 0.00</font></td><td style=\"border:solid;\" bgcolor=\"white\"><font color=\"black\">Obj: -0.69</font></td><td style=\"border:solid;\" bgcolor=\"white\"></td><td style=\"border:solid;\" bgcolor=\"white\"></td><td style=\"border:solid;\" bgcolor=\"white\"><font color=\"black\">Obj: -0.69</font>, <font color=\"black\">VP_0: -0.69</font></td></tr>\n",
       "<tr><td>3: elephant</td><td style=\"border:none;\" bgcolor=\"white\"></td><td style=\"border:none;\" bgcolor=\"white\"></td><td style=\"border:none;\" bgcolor=\"white\"></td><td style=\"border:solid;\" bgcolor=\"white\"><font color=\"black\">Obj_6: 0.00</font>, <font color=\"black\">Obj_7_9: 0.00</font></td><td style=\"border:solid;\" bgcolor=\"white\"></td><td style=\"border:solid;\" bgcolor=\"white\"></td><td style=\"border:solid;\" bgcolor=\"#E1E1E1\"><font color=\"black\">Obj_7: 0.00</font></td></tr>\n",
       "<tr><td>4: in</td><td style=\"border:none;\" bgcolor=\"white\"></td><td style=\"border:none;\" bgcolor=\"white\"></td><td style=\"border:none;\" bgcolor=\"white\"></td><td style=\"border:none;\" bgcolor=\"white\"></td><td style=\"border:solid;\" bgcolor=\"white\"><font color=\"black\">PP_2: 0.00</font></td><td style=\"border:solid;\" bgcolor=\"white\"></td><td style=\"border:solid;\" bgcolor=\"white\"><font color=\"black\">PP: 0.00</font></td></tr>\n",
       "<tr><td>5: his</td><td style=\"border:none;\" bgcolor=\"white\"></td><td style=\"border:none;\" bgcolor=\"white\"></td><td style=\"border:none;\" bgcolor=\"white\"></td><td style=\"border:none;\" bgcolor=\"white\"></td><td style=\"border:none;\" bgcolor=\"white\"></td><td style=\"border:solid;\" bgcolor=\"white\"><font color=\"black\">PP_1_3: 0.00</font></td><td style=\"border:solid;\" bgcolor=\"white\"><font color=\"black\">PP_1: 0.00</font></td></tr>\n",
       "<tr><td>6: pyjamas</td><td style=\"border:none;\" bgcolor=\"white\"></td><td style=\"border:none;\" bgcolor=\"white\"></td><td style=\"border:none;\" bgcolor=\"white\"></td><td style=\"border:none;\" bgcolor=\"white\"></td><td style=\"border:none;\" bgcolor=\"white\"></td><td style=\"border:none;\" bgcolor=\"white\"></td><td style=\"border:solid;\" bgcolor=\"white\"><font color=\"black\">PP_1_4: 0.00</font></td></tr></table> 98 / 112</div>\n",
       "<div class=\"item\"><table><tr><td></td><td>0: He</td><td>1: shot</td><td>2: the</td><td>3: elephant</td><td>4: in</td><td>5: his</td><td>6: pyjamas</td></tr>\n",
       "<tr><td>0: He</td><td style=\"border:solid;\" bgcolor=\"white\"><font color=\"black\">Subj: 0.00</font></td><td style=\"border:solid;\" bgcolor=\"white\"></td><td style=\"border:solid;\" bgcolor=\"white\"></td><td style=\"border:solid;\" bgcolor=\"white\"><font color=\"black\">S: -1.90</font></td><td style=\"border:solid;\" bgcolor=\"white\"></td><td style=\"border:solid;\" bgcolor=\"white\"></td><td style=\"border:solid;\" bgcolor=\"white\"></td></tr>\n",
       "<tr><td>1: shot</td><td style=\"border:none;\" bgcolor=\"white\"></td><td style=\"border:solid;\" bgcolor=\"white\"><font color=\"black\">Verb: 0.00</font></td><td style=\"border:solid;\" bgcolor=\"white\"></td><td style=\"border:solid;\" bgcolor=\"#E1E1E1\"><font color=\"black\">VP: -1.90</font></td><td style=\"border:solid;\" bgcolor=\"white\"></td><td style=\"border:solid;\" bgcolor=\"white\"></td><td style=\"border:solid;\" bgcolor=\"#C3C3C3\"><font color=\"black\">VP: -1.05</font></td></tr>\n",
       "<tr><td>2: the</td><td style=\"border:none;\" bgcolor=\"white\"></td><td style=\"border:none;\" bgcolor=\"white\"></td><td style=\"border:solid;\" bgcolor=\"white\"><font color=\"black\">Obj_5: 0.00</font>, <font color=\"black\">Obj_8: 0.00</font></td><td style=\"border:solid;\" bgcolor=\"white\"><font color=\"black\">Obj: -0.69</font></td><td style=\"border:solid;\" bgcolor=\"white\"></td><td style=\"border:solid;\" bgcolor=\"white\"></td><td style=\"border:solid;\" bgcolor=\"white\"><font color=\"black\">Obj: -0.69</font>, <font color=\"black\">VP_0: -0.69</font></td></tr>\n",
       "<tr><td>3: elephant</td><td style=\"border:none;\" bgcolor=\"white\"></td><td style=\"border:none;\" bgcolor=\"white\"></td><td style=\"border:none;\" bgcolor=\"white\"></td><td style=\"border:solid;\" bgcolor=\"white\"><font color=\"black\">Obj_6: 0.00</font>, <font color=\"black\">Obj_7_9: 0.00</font></td><td style=\"border:solid;\" bgcolor=\"white\"></td><td style=\"border:solid;\" bgcolor=\"white\"></td><td style=\"border:solid;\" bgcolor=\"white\"><font color=\"black\">Obj_7: 0.00</font></td></tr>\n",
       "<tr><td>4: in</td><td style=\"border:none;\" bgcolor=\"white\"></td><td style=\"border:none;\" bgcolor=\"white\"></td><td style=\"border:none;\" bgcolor=\"white\"></td><td style=\"border:none;\" bgcolor=\"white\"></td><td style=\"border:solid;\" bgcolor=\"white\"><font color=\"black\">PP_2: 0.00</font></td><td style=\"border:solid;\" bgcolor=\"white\"></td><td style=\"border:solid;\" bgcolor=\"#E1E1E1\"><font color=\"black\">PP: 0.00</font></td></tr>\n",
       "<tr><td>5: his</td><td style=\"border:none;\" bgcolor=\"white\"></td><td style=\"border:none;\" bgcolor=\"white\"></td><td style=\"border:none;\" bgcolor=\"white\"></td><td style=\"border:none;\" bgcolor=\"white\"></td><td style=\"border:none;\" bgcolor=\"white\"></td><td style=\"border:solid;\" bgcolor=\"white\"><font color=\"black\">PP_1_3: 0.00</font></td><td style=\"border:solid;\" bgcolor=\"white\"><font color=\"black\">PP_1: 0.00</font></td></tr>\n",
       "<tr><td>6: pyjamas</td><td style=\"border:none;\" bgcolor=\"white\"></td><td style=\"border:none;\" bgcolor=\"white\"></td><td style=\"border:none;\" bgcolor=\"white\"></td><td style=\"border:none;\" bgcolor=\"white\"></td><td style=\"border:none;\" bgcolor=\"white\"></td><td style=\"border:none;\" bgcolor=\"white\"></td><td style=\"border:solid;\" bgcolor=\"white\"><font color=\"black\">PP_1_4: 0.00</font></td></tr></table> 99 / 112</div>\n",
       "<div class=\"item\"><table><tr><td></td><td>0: He</td><td>1: shot</td><td>2: the</td><td>3: elephant</td><td>4: in</td><td>5: his</td><td>6: pyjamas</td></tr>\n",
       "<tr><td>0: He</td><td style=\"border:solid;\" bgcolor=\"white\"><font color=\"black\">Subj: 0.00</font></td><td style=\"border:solid;\" bgcolor=\"white\"></td><td style=\"border:solid;\" bgcolor=\"white\"></td><td style=\"border:solid;\" bgcolor=\"white\"><font color=\"black\">S: -1.90</font></td><td style=\"border:solid;\" bgcolor=\"white\"></td><td style=\"border:solid;\" bgcolor=\"white\"></td><td style=\"border:solid;\" bgcolor=\"white\"></td></tr>\n",
       "<tr><td>1: shot</td><td style=\"border:none;\" bgcolor=\"white\"></td><td style=\"border:solid;\" bgcolor=\"white\"><font color=\"black\">Verb: 0.00</font></td><td style=\"border:solid;\" bgcolor=\"white\"></td><td style=\"border:solid;\" bgcolor=\"#E1E1E1\"><font color=\"red\">VP: -1.90</font></td><td style=\"border:solid;\" bgcolor=\"white\"></td><td style=\"border:solid;\" bgcolor=\"white\"></td><td style=\"border:solid;\" bgcolor=\"#C3C3C3\"><font color=\"black\">VP: -1.05</font></td></tr>\n",
       "<tr><td>2: the</td><td style=\"border:none;\" bgcolor=\"white\"></td><td style=\"border:none;\" bgcolor=\"white\"></td><td style=\"border:solid;\" bgcolor=\"white\"><font color=\"black\">Obj_5: 0.00</font>, <font color=\"black\">Obj_8: 0.00</font></td><td style=\"border:solid;\" bgcolor=\"white\"><font color=\"black\">Obj: -0.69</font></td><td style=\"border:solid;\" bgcolor=\"white\"></td><td style=\"border:solid;\" bgcolor=\"white\"></td><td style=\"border:solid;\" bgcolor=\"white\"><font color=\"black\">Obj: -0.69</font>, <font color=\"black\">VP_0: -0.69</font></td></tr>\n",
       "<tr><td>3: elephant</td><td style=\"border:none;\" bgcolor=\"white\"></td><td style=\"border:none;\" bgcolor=\"white\"></td><td style=\"border:none;\" bgcolor=\"white\"></td><td style=\"border:solid;\" bgcolor=\"white\"><font color=\"black\">Obj_6: 0.00</font>, <font color=\"black\">Obj_7_9: 0.00</font></td><td style=\"border:solid;\" bgcolor=\"white\"></td><td style=\"border:solid;\" bgcolor=\"white\"></td><td style=\"border:solid;\" bgcolor=\"white\"><font color=\"black\">Obj_7: 0.00</font></td></tr>\n",
       "<tr><td>4: in</td><td style=\"border:none;\" bgcolor=\"white\"></td><td style=\"border:none;\" bgcolor=\"white\"></td><td style=\"border:none;\" bgcolor=\"white\"></td><td style=\"border:none;\" bgcolor=\"white\"></td><td style=\"border:solid;\" bgcolor=\"white\"><font color=\"black\">PP_2: 0.00</font></td><td style=\"border:solid;\" bgcolor=\"white\"></td><td style=\"border:solid;\" bgcolor=\"#E1E1E1\"><font color=\"red\">PP: 0.00</font></td></tr>\n",
       "<tr><td>5: his</td><td style=\"border:none;\" bgcolor=\"white\"></td><td style=\"border:none;\" bgcolor=\"white\"></td><td style=\"border:none;\" bgcolor=\"white\"></td><td style=\"border:none;\" bgcolor=\"white\"></td><td style=\"border:none;\" bgcolor=\"white\"></td><td style=\"border:solid;\" bgcolor=\"white\"><font color=\"black\">PP_1_3: 0.00</font></td><td style=\"border:solid;\" bgcolor=\"white\"><font color=\"black\">PP_1: 0.00</font></td></tr>\n",
       "<tr><td>6: pyjamas</td><td style=\"border:none;\" bgcolor=\"white\"></td><td style=\"border:none;\" bgcolor=\"white\"></td><td style=\"border:none;\" bgcolor=\"white\"></td><td style=\"border:none;\" bgcolor=\"white\"></td><td style=\"border:none;\" bgcolor=\"white\"></td><td style=\"border:none;\" bgcolor=\"white\"></td><td style=\"border:solid;\" bgcolor=\"white\"><font color=\"black\">PP_1_4: 0.00</font></td></tr></table> 100 / 112</div>\n",
       "<div class=\"item\"><table><tr><td></td><td>0: He</td><td>1: shot</td><td>2: the</td><td>3: elephant</td><td>4: in</td><td>5: his</td><td>6: pyjamas</td></tr>\n",
       "<tr><td>0: He</td><td style=\"border:solid;\" bgcolor=\"white\"><font color=\"black\">Subj: 0.00</font></td><td style=\"border:solid;\" bgcolor=\"white\"></td><td style=\"border:solid;\" bgcolor=\"white\"></td><td style=\"border:solid;\" bgcolor=\"white\"><font color=\"black\">S: -1.90</font></td><td style=\"border:solid;\" bgcolor=\"white\"></td><td style=\"border:solid;\" bgcolor=\"white\"></td><td style=\"border:solid;\" bgcolor=\"white\"></td></tr>\n",
       "<tr><td>1: shot</td><td style=\"border:none;\" bgcolor=\"white\"></td><td style=\"border:solid;\" bgcolor=\"white\"><font color=\"black\">Verb: 0.00</font></td><td style=\"border:solid;\" bgcolor=\"white\"></td><td style=\"border:solid;\" bgcolor=\"white\"><font color=\"black\">VP: -1.90</font></td><td style=\"border:solid;\" bgcolor=\"#E1E1E1\"></td><td style=\"border:solid;\" bgcolor=\"white\"></td><td style=\"border:solid;\" bgcolor=\"#C3C3C3\"><font color=\"black\">VP: -1.05</font></td></tr>\n",
       "<tr><td>2: the</td><td style=\"border:none;\" bgcolor=\"white\"></td><td style=\"border:none;\" bgcolor=\"white\"></td><td style=\"border:solid;\" bgcolor=\"white\"><font color=\"black\">Obj_5: 0.00</font>, <font color=\"black\">Obj_8: 0.00</font></td><td style=\"border:solid;\" bgcolor=\"white\"><font color=\"black\">Obj: -0.69</font></td><td style=\"border:solid;\" bgcolor=\"white\"></td><td style=\"border:solid;\" bgcolor=\"white\"></td><td style=\"border:solid;\" bgcolor=\"white\"><font color=\"black\">Obj: -0.69</font>, <font color=\"black\">VP_0: -0.69</font></td></tr>\n",
       "<tr><td>3: elephant</td><td style=\"border:none;\" bgcolor=\"white\"></td><td style=\"border:none;\" bgcolor=\"white\"></td><td style=\"border:none;\" bgcolor=\"white\"></td><td style=\"border:solid;\" bgcolor=\"white\"><font color=\"black\">Obj_6: 0.00</font>, <font color=\"black\">Obj_7_9: 0.00</font></td><td style=\"border:solid;\" bgcolor=\"white\"></td><td style=\"border:solid;\" bgcolor=\"white\"></td><td style=\"border:solid;\" bgcolor=\"white\"><font color=\"black\">Obj_7: 0.00</font></td></tr>\n",
       "<tr><td>4: in</td><td style=\"border:none;\" bgcolor=\"white\"></td><td style=\"border:none;\" bgcolor=\"white\"></td><td style=\"border:none;\" bgcolor=\"white\"></td><td style=\"border:none;\" bgcolor=\"white\"></td><td style=\"border:solid;\" bgcolor=\"white\"><font color=\"black\">PP_2: 0.00</font></td><td style=\"border:solid;\" bgcolor=\"white\"></td><td style=\"border:solid;\" bgcolor=\"white\"><font color=\"black\">PP: 0.00</font></td></tr>\n",
       "<tr><td>5: his</td><td style=\"border:none;\" bgcolor=\"white\"></td><td style=\"border:none;\" bgcolor=\"white\"></td><td style=\"border:none;\" bgcolor=\"white\"></td><td style=\"border:none;\" bgcolor=\"white\"></td><td style=\"border:none;\" bgcolor=\"white\"></td><td style=\"border:solid;\" bgcolor=\"white\"><font color=\"black\">PP_1_3: 0.00</font></td><td style=\"border:solid;\" bgcolor=\"#E1E1E1\"><font color=\"black\">PP_1: 0.00</font></td></tr>\n",
       "<tr><td>6: pyjamas</td><td style=\"border:none;\" bgcolor=\"white\"></td><td style=\"border:none;\" bgcolor=\"white\"></td><td style=\"border:none;\" bgcolor=\"white\"></td><td style=\"border:none;\" bgcolor=\"white\"></td><td style=\"border:none;\" bgcolor=\"white\"></td><td style=\"border:none;\" bgcolor=\"white\"></td><td style=\"border:solid;\" bgcolor=\"white\"><font color=\"black\">PP_1_4: 0.00</font></td></tr></table> 101 / 112</div>\n",
       "<div class=\"item\"><table><tr><td></td><td>0: He</td><td>1: shot</td><td>2: the</td><td>3: elephant</td><td>4: in</td><td>5: his</td><td>6: pyjamas</td></tr>\n",
       "<tr><td>0: He</td><td style=\"border:solid;\" bgcolor=\"white\"><font color=\"black\">Subj: 0.00</font></td><td style=\"border:solid;\" bgcolor=\"white\"></td><td style=\"border:solid;\" bgcolor=\"white\"></td><td style=\"border:solid;\" bgcolor=\"white\"><font color=\"black\">S: -1.90</font></td><td style=\"border:solid;\" bgcolor=\"white\"></td><td style=\"border:solid;\" bgcolor=\"white\"></td><td style=\"border:solid;\" bgcolor=\"white\"></td></tr>\n",
       "<tr><td>1: shot</td><td style=\"border:none;\" bgcolor=\"white\"></td><td style=\"border:solid;\" bgcolor=\"white\"><font color=\"black\">Verb: 0.00</font></td><td style=\"border:solid;\" bgcolor=\"white\"></td><td style=\"border:solid;\" bgcolor=\"white\"><font color=\"black\">VP: -1.90</font></td><td style=\"border:solid;\" bgcolor=\"white\"></td><td style=\"border:solid;\" bgcolor=\"#E1E1E1\"></td><td style=\"border:solid;\" bgcolor=\"#C3C3C3\"><font color=\"black\">VP: -1.05</font></td></tr>\n",
       "<tr><td>2: the</td><td style=\"border:none;\" bgcolor=\"white\"></td><td style=\"border:none;\" bgcolor=\"white\"></td><td style=\"border:solid;\" bgcolor=\"white\"><font color=\"black\">Obj_5: 0.00</font>, <font color=\"black\">Obj_8: 0.00</font></td><td style=\"border:solid;\" bgcolor=\"white\"><font color=\"black\">Obj: -0.69</font></td><td style=\"border:solid;\" bgcolor=\"white\"></td><td style=\"border:solid;\" bgcolor=\"white\"></td><td style=\"border:solid;\" bgcolor=\"white\"><font color=\"black\">Obj: -0.69</font>, <font color=\"black\">VP_0: -0.69</font></td></tr>\n",
       "<tr><td>3: elephant</td><td style=\"border:none;\" bgcolor=\"white\"></td><td style=\"border:none;\" bgcolor=\"white\"></td><td style=\"border:none;\" bgcolor=\"white\"></td><td style=\"border:solid;\" bgcolor=\"white\"><font color=\"black\">Obj_6: 0.00</font>, <font color=\"black\">Obj_7_9: 0.00</font></td><td style=\"border:solid;\" bgcolor=\"white\"></td><td style=\"border:solid;\" bgcolor=\"white\"></td><td style=\"border:solid;\" bgcolor=\"white\"><font color=\"black\">Obj_7: 0.00</font></td></tr>\n",
       "<tr><td>4: in</td><td style=\"border:none;\" bgcolor=\"white\"></td><td style=\"border:none;\" bgcolor=\"white\"></td><td style=\"border:none;\" bgcolor=\"white\"></td><td style=\"border:none;\" bgcolor=\"white\"></td><td style=\"border:solid;\" bgcolor=\"white\"><font color=\"black\">PP_2: 0.00</font></td><td style=\"border:solid;\" bgcolor=\"white\"></td><td style=\"border:solid;\" bgcolor=\"white\"><font color=\"black\">PP: 0.00</font></td></tr>\n",
       "<tr><td>5: his</td><td style=\"border:none;\" bgcolor=\"white\"></td><td style=\"border:none;\" bgcolor=\"white\"></td><td style=\"border:none;\" bgcolor=\"white\"></td><td style=\"border:none;\" bgcolor=\"white\"></td><td style=\"border:none;\" bgcolor=\"white\"></td><td style=\"border:solid;\" bgcolor=\"white\"><font color=\"black\">PP_1_3: 0.00</font></td><td style=\"border:solid;\" bgcolor=\"white\"><font color=\"black\">PP_1: 0.00</font></td></tr>\n",
       "<tr><td>6: pyjamas</td><td style=\"border:none;\" bgcolor=\"white\"></td><td style=\"border:none;\" bgcolor=\"white\"></td><td style=\"border:none;\" bgcolor=\"white\"></td><td style=\"border:none;\" bgcolor=\"white\"></td><td style=\"border:none;\" bgcolor=\"white\"></td><td style=\"border:none;\" bgcolor=\"white\"></td><td style=\"border:solid;\" bgcolor=\"#E1E1E1\"><font color=\"black\">PP_1_4: 0.00</font></td></tr></table> 102 / 112</div>\n",
       "<div class=\"item\"><table><tr><td></td><td>0: He</td><td>1: shot</td><td>2: the</td><td>3: elephant</td><td>4: in</td><td>5: his</td><td>6: pyjamas</td></tr>\n",
       "<tr><td>0: He</td><td style=\"border:solid;\" bgcolor=\"#E1E1E1\"><font color=\"black\">Subj: 0.00</font></td><td style=\"border:solid;\" bgcolor=\"white\"></td><td style=\"border:solid;\" bgcolor=\"white\"></td><td style=\"border:solid;\" bgcolor=\"white\"><font color=\"black\">S: -1.90</font></td><td style=\"border:solid;\" bgcolor=\"white\"></td><td style=\"border:solid;\" bgcolor=\"white\"></td><td style=\"border:solid;\" bgcolor=\"#C3C3C3\"></td></tr>\n",
       "<tr><td>1: shot</td><td style=\"border:none;\" bgcolor=\"white\"></td><td style=\"border:solid;\" bgcolor=\"white\"><font color=\"black\">Verb: 0.00</font></td><td style=\"border:solid;\" bgcolor=\"white\"></td><td style=\"border:solid;\" bgcolor=\"white\"><font color=\"black\">VP: -1.90</font></td><td style=\"border:solid;\" bgcolor=\"white\"></td><td style=\"border:solid;\" bgcolor=\"white\"></td><td style=\"border:solid;\" bgcolor=\"#E1E1E1\"><font color=\"black\">VP: -1.05</font></td></tr>\n",
       "<tr><td>2: the</td><td style=\"border:none;\" bgcolor=\"white\"></td><td style=\"border:none;\" bgcolor=\"white\"></td><td style=\"border:solid;\" bgcolor=\"white\"><font color=\"black\">Obj_5: 0.00</font>, <font color=\"black\">Obj_8: 0.00</font></td><td style=\"border:solid;\" bgcolor=\"white\"><font color=\"black\">Obj: -0.69</font></td><td style=\"border:solid;\" bgcolor=\"white\"></td><td style=\"border:solid;\" bgcolor=\"white\"></td><td style=\"border:solid;\" bgcolor=\"white\"><font color=\"black\">Obj: -0.69</font>, <font color=\"black\">VP_0: -0.69</font></td></tr>\n",
       "<tr><td>3: elephant</td><td style=\"border:none;\" bgcolor=\"white\"></td><td style=\"border:none;\" bgcolor=\"white\"></td><td style=\"border:none;\" bgcolor=\"white\"></td><td style=\"border:solid;\" bgcolor=\"white\"><font color=\"black\">Obj_6: 0.00</font>, <font color=\"black\">Obj_7_9: 0.00</font></td><td style=\"border:solid;\" bgcolor=\"white\"></td><td style=\"border:solid;\" bgcolor=\"white\"></td><td style=\"border:solid;\" bgcolor=\"white\"><font color=\"black\">Obj_7: 0.00</font></td></tr>\n",
       "<tr><td>4: in</td><td style=\"border:none;\" bgcolor=\"white\"></td><td style=\"border:none;\" bgcolor=\"white\"></td><td style=\"border:none;\" bgcolor=\"white\"></td><td style=\"border:none;\" bgcolor=\"white\"></td><td style=\"border:solid;\" bgcolor=\"white\"><font color=\"black\">PP_2: 0.00</font></td><td style=\"border:solid;\" bgcolor=\"white\"></td><td style=\"border:solid;\" bgcolor=\"white\"><font color=\"black\">PP: 0.00</font></td></tr>\n",
       "<tr><td>5: his</td><td style=\"border:none;\" bgcolor=\"white\"></td><td style=\"border:none;\" bgcolor=\"white\"></td><td style=\"border:none;\" bgcolor=\"white\"></td><td style=\"border:none;\" bgcolor=\"white\"></td><td style=\"border:none;\" bgcolor=\"white\"></td><td style=\"border:solid;\" bgcolor=\"white\"><font color=\"black\">PP_1_3: 0.00</font></td><td style=\"border:solid;\" bgcolor=\"white\"><font color=\"black\">PP_1: 0.00</font></td></tr>\n",
       "<tr><td>6: pyjamas</td><td style=\"border:none;\" bgcolor=\"white\"></td><td style=\"border:none;\" bgcolor=\"white\"></td><td style=\"border:none;\" bgcolor=\"white\"></td><td style=\"border:none;\" bgcolor=\"white\"></td><td style=\"border:none;\" bgcolor=\"white\"></td><td style=\"border:none;\" bgcolor=\"white\"></td><td style=\"border:solid;\" bgcolor=\"white\"><font color=\"black\">PP_1_4: 0.00</font></td></tr></table> 103 / 112</div>\n",
       "<div class=\"item\"><table><tr><td></td><td>0: He</td><td>1: shot</td><td>2: the</td><td>3: elephant</td><td>4: in</td><td>5: his</td><td>6: pyjamas</td></tr>\n",
       "<tr><td>0: He</td><td style=\"border:solid;\" bgcolor=\"#E1E1E1\"><font color=\"red\">Subj: 0.00</font></td><td style=\"border:solid;\" bgcolor=\"white\"></td><td style=\"border:solid;\" bgcolor=\"white\"></td><td style=\"border:solid;\" bgcolor=\"white\"><font color=\"black\">S: -1.90</font></td><td style=\"border:solid;\" bgcolor=\"white\"></td><td style=\"border:solid;\" bgcolor=\"white\"></td><td style=\"border:solid;\" bgcolor=\"#C3C3C3\"></td></tr>\n",
       "<tr><td>1: shot</td><td style=\"border:none;\" bgcolor=\"white\"></td><td style=\"border:solid;\" bgcolor=\"white\"><font color=\"black\">Verb: 0.00</font></td><td style=\"border:solid;\" bgcolor=\"white\"></td><td style=\"border:solid;\" bgcolor=\"white\"><font color=\"black\">VP: -1.90</font></td><td style=\"border:solid;\" bgcolor=\"white\"></td><td style=\"border:solid;\" bgcolor=\"white\"></td><td style=\"border:solid;\" bgcolor=\"#E1E1E1\"><font color=\"red\">VP: -1.05</font></td></tr>\n",
       "<tr><td>2: the</td><td style=\"border:none;\" bgcolor=\"white\"></td><td style=\"border:none;\" bgcolor=\"white\"></td><td style=\"border:solid;\" bgcolor=\"white\"><font color=\"black\">Obj_5: 0.00</font>, <font color=\"black\">Obj_8: 0.00</font></td><td style=\"border:solid;\" bgcolor=\"white\"><font color=\"black\">Obj: -0.69</font></td><td style=\"border:solid;\" bgcolor=\"white\"></td><td style=\"border:solid;\" bgcolor=\"white\"></td><td style=\"border:solid;\" bgcolor=\"white\"><font color=\"black\">Obj: -0.69</font>, <font color=\"black\">VP_0: -0.69</font></td></tr>\n",
       "<tr><td>3: elephant</td><td style=\"border:none;\" bgcolor=\"white\"></td><td style=\"border:none;\" bgcolor=\"white\"></td><td style=\"border:none;\" bgcolor=\"white\"></td><td style=\"border:solid;\" bgcolor=\"white\"><font color=\"black\">Obj_6: 0.00</font>, <font color=\"black\">Obj_7_9: 0.00</font></td><td style=\"border:solid;\" bgcolor=\"white\"></td><td style=\"border:solid;\" bgcolor=\"white\"></td><td style=\"border:solid;\" bgcolor=\"white\"><font color=\"black\">Obj_7: 0.00</font></td></tr>\n",
       "<tr><td>4: in</td><td style=\"border:none;\" bgcolor=\"white\"></td><td style=\"border:none;\" bgcolor=\"white\"></td><td style=\"border:none;\" bgcolor=\"white\"></td><td style=\"border:none;\" bgcolor=\"white\"></td><td style=\"border:solid;\" bgcolor=\"white\"><font color=\"black\">PP_2: 0.00</font></td><td style=\"border:solid;\" bgcolor=\"white\"></td><td style=\"border:solid;\" bgcolor=\"white\"><font color=\"black\">PP: 0.00</font></td></tr>\n",
       "<tr><td>5: his</td><td style=\"border:none;\" bgcolor=\"white\"></td><td style=\"border:none;\" bgcolor=\"white\"></td><td style=\"border:none;\" bgcolor=\"white\"></td><td style=\"border:none;\" bgcolor=\"white\"></td><td style=\"border:none;\" bgcolor=\"white\"></td><td style=\"border:solid;\" bgcolor=\"white\"><font color=\"black\">PP_1_3: 0.00</font></td><td style=\"border:solid;\" bgcolor=\"white\"><font color=\"black\">PP_1: 0.00</font></td></tr>\n",
       "<tr><td>6: pyjamas</td><td style=\"border:none;\" bgcolor=\"white\"></td><td style=\"border:none;\" bgcolor=\"white\"></td><td style=\"border:none;\" bgcolor=\"white\"></td><td style=\"border:none;\" bgcolor=\"white\"></td><td style=\"border:none;\" bgcolor=\"white\"></td><td style=\"border:none;\" bgcolor=\"white\"></td><td style=\"border:solid;\" bgcolor=\"white\"><font color=\"black\">PP_1_4: 0.00</font></td></tr></table> 104 / 112</div>\n",
       "<div class=\"item\"><table><tr><td></td><td>0: He</td><td>1: shot</td><td>2: the</td><td>3: elephant</td><td>4: in</td><td>5: his</td><td>6: pyjamas</td></tr>\n",
       "<tr><td>0: He</td><td style=\"border:solid;\" bgcolor=\"#E1E1E1\"><font color=\"red\">Subj: 0.00</font></td><td style=\"border:solid;\" bgcolor=\"white\"></td><td style=\"border:solid;\" bgcolor=\"white\"></td><td style=\"border:solid;\" bgcolor=\"white\"><font color=\"black\">S: -1.90</font></td><td style=\"border:solid;\" bgcolor=\"white\"></td><td style=\"border:solid;\" bgcolor=\"white\"></td><td style=\"border:solid;\" bgcolor=\"#C3C3C3\"><font color=\"blue\">S: -1.05</font></td></tr>\n",
       "<tr><td>1: shot</td><td style=\"border:none;\" bgcolor=\"white\"></td><td style=\"border:solid;\" bgcolor=\"white\"><font color=\"black\">Verb: 0.00</font></td><td style=\"border:solid;\" bgcolor=\"white\"></td><td style=\"border:solid;\" bgcolor=\"white\"><font color=\"black\">VP: -1.90</font></td><td style=\"border:solid;\" bgcolor=\"white\"></td><td style=\"border:solid;\" bgcolor=\"white\"></td><td style=\"border:solid;\" bgcolor=\"#E1E1E1\"><font color=\"red\">VP: -1.05</font></td></tr>\n",
       "<tr><td>2: the</td><td style=\"border:none;\" bgcolor=\"white\"></td><td style=\"border:none;\" bgcolor=\"white\"></td><td style=\"border:solid;\" bgcolor=\"white\"><font color=\"black\">Obj_5: 0.00</font>, <font color=\"black\">Obj_8: 0.00</font></td><td style=\"border:solid;\" bgcolor=\"white\"><font color=\"black\">Obj: -0.69</font></td><td style=\"border:solid;\" bgcolor=\"white\"></td><td style=\"border:solid;\" bgcolor=\"white\"></td><td style=\"border:solid;\" bgcolor=\"white\"><font color=\"black\">Obj: -0.69</font>, <font color=\"black\">VP_0: -0.69</font></td></tr>\n",
       "<tr><td>3: elephant</td><td style=\"border:none;\" bgcolor=\"white\"></td><td style=\"border:none;\" bgcolor=\"white\"></td><td style=\"border:none;\" bgcolor=\"white\"></td><td style=\"border:solid;\" bgcolor=\"white\"><font color=\"black\">Obj_6: 0.00</font>, <font color=\"black\">Obj_7_9: 0.00</font></td><td style=\"border:solid;\" bgcolor=\"white\"></td><td style=\"border:solid;\" bgcolor=\"white\"></td><td style=\"border:solid;\" bgcolor=\"white\"><font color=\"black\">Obj_7: 0.00</font></td></tr>\n",
       "<tr><td>4: in</td><td style=\"border:none;\" bgcolor=\"white\"></td><td style=\"border:none;\" bgcolor=\"white\"></td><td style=\"border:none;\" bgcolor=\"white\"></td><td style=\"border:none;\" bgcolor=\"white\"></td><td style=\"border:solid;\" bgcolor=\"white\"><font color=\"black\">PP_2: 0.00</font></td><td style=\"border:solid;\" bgcolor=\"white\"></td><td style=\"border:solid;\" bgcolor=\"white\"><font color=\"black\">PP: 0.00</font></td></tr>\n",
       "<tr><td>5: his</td><td style=\"border:none;\" bgcolor=\"white\"></td><td style=\"border:none;\" bgcolor=\"white\"></td><td style=\"border:none;\" bgcolor=\"white\"></td><td style=\"border:none;\" bgcolor=\"white\"></td><td style=\"border:none;\" bgcolor=\"white\"></td><td style=\"border:solid;\" bgcolor=\"white\"><font color=\"black\">PP_1_3: 0.00</font></td><td style=\"border:solid;\" bgcolor=\"white\"><font color=\"black\">PP_1: 0.00</font></td></tr>\n",
       "<tr><td>6: pyjamas</td><td style=\"border:none;\" bgcolor=\"white\"></td><td style=\"border:none;\" bgcolor=\"white\"></td><td style=\"border:none;\" bgcolor=\"white\"></td><td style=\"border:none;\" bgcolor=\"white\"></td><td style=\"border:none;\" bgcolor=\"white\"></td><td style=\"border:none;\" bgcolor=\"white\"></td><td style=\"border:solid;\" bgcolor=\"white\"><font color=\"black\">PP_1_4: 0.00</font></td></tr></table> 105 / 112</div>\n",
       "<div class=\"item\"><table><tr><td></td><td>0: He</td><td>1: shot</td><td>2: the</td><td>3: elephant</td><td>4: in</td><td>5: his</td><td>6: pyjamas</td></tr>\n",
       "<tr><td>0: He</td><td style=\"border:solid;\" bgcolor=\"white\"><font color=\"black\">Subj: 0.00</font></td><td style=\"border:solid;\" bgcolor=\"#E1E1E1\"></td><td style=\"border:solid;\" bgcolor=\"white\"></td><td style=\"border:solid;\" bgcolor=\"white\"><font color=\"black\">S: -1.90</font></td><td style=\"border:solid;\" bgcolor=\"white\"></td><td style=\"border:solid;\" bgcolor=\"white\"></td><td style=\"border:solid;\" bgcolor=\"#C3C3C3\"><font color=\"black\">S: -1.05</font></td></tr>\n",
       "<tr><td>1: shot</td><td style=\"border:none;\" bgcolor=\"white\"></td><td style=\"border:solid;\" bgcolor=\"white\"><font color=\"black\">Verb: 0.00</font></td><td style=\"border:solid;\" bgcolor=\"white\"></td><td style=\"border:solid;\" bgcolor=\"white\"><font color=\"black\">VP: -1.90</font></td><td style=\"border:solid;\" bgcolor=\"white\"></td><td style=\"border:solid;\" bgcolor=\"white\"></td><td style=\"border:solid;\" bgcolor=\"white\"><font color=\"black\">VP: -1.05</font></td></tr>\n",
       "<tr><td>2: the</td><td style=\"border:none;\" bgcolor=\"white\"></td><td style=\"border:none;\" bgcolor=\"white\"></td><td style=\"border:solid;\" bgcolor=\"white\"><font color=\"black\">Obj_5: 0.00</font>, <font color=\"black\">Obj_8: 0.00</font></td><td style=\"border:solid;\" bgcolor=\"white\"><font color=\"black\">Obj: -0.69</font></td><td style=\"border:solid;\" bgcolor=\"white\"></td><td style=\"border:solid;\" bgcolor=\"white\"></td><td style=\"border:solid;\" bgcolor=\"#E1E1E1\"><font color=\"black\">Obj: -0.69</font>, <font color=\"black\">VP_0: -0.69</font></td></tr>\n",
       "<tr><td>3: elephant</td><td style=\"border:none;\" bgcolor=\"white\"></td><td style=\"border:none;\" bgcolor=\"white\"></td><td style=\"border:none;\" bgcolor=\"white\"></td><td style=\"border:solid;\" bgcolor=\"white\"><font color=\"black\">Obj_6: 0.00</font>, <font color=\"black\">Obj_7_9: 0.00</font></td><td style=\"border:solid;\" bgcolor=\"white\"></td><td style=\"border:solid;\" bgcolor=\"white\"></td><td style=\"border:solid;\" bgcolor=\"white\"><font color=\"black\">Obj_7: 0.00</font></td></tr>\n",
       "<tr><td>4: in</td><td style=\"border:none;\" bgcolor=\"white\"></td><td style=\"border:none;\" bgcolor=\"white\"></td><td style=\"border:none;\" bgcolor=\"white\"></td><td style=\"border:none;\" bgcolor=\"white\"></td><td style=\"border:solid;\" bgcolor=\"white\"><font color=\"black\">PP_2: 0.00</font></td><td style=\"border:solid;\" bgcolor=\"white\"></td><td style=\"border:solid;\" bgcolor=\"white\"><font color=\"black\">PP: 0.00</font></td></tr>\n",
       "<tr><td>5: his</td><td style=\"border:none;\" bgcolor=\"white\"></td><td style=\"border:none;\" bgcolor=\"white\"></td><td style=\"border:none;\" bgcolor=\"white\"></td><td style=\"border:none;\" bgcolor=\"white\"></td><td style=\"border:none;\" bgcolor=\"white\"></td><td style=\"border:solid;\" bgcolor=\"white\"><font color=\"black\">PP_1_3: 0.00</font></td><td style=\"border:solid;\" bgcolor=\"white\"><font color=\"black\">PP_1: 0.00</font></td></tr>\n",
       "<tr><td>6: pyjamas</td><td style=\"border:none;\" bgcolor=\"white\"></td><td style=\"border:none;\" bgcolor=\"white\"></td><td style=\"border:none;\" bgcolor=\"white\"></td><td style=\"border:none;\" bgcolor=\"white\"></td><td style=\"border:none;\" bgcolor=\"white\"></td><td style=\"border:none;\" bgcolor=\"white\"></td><td style=\"border:solid;\" bgcolor=\"white\"><font color=\"black\">PP_1_4: 0.00</font></td></tr></table> 106 / 112</div>\n",
       "<div class=\"item\"><table><tr><td></td><td>0: He</td><td>1: shot</td><td>2: the</td><td>3: elephant</td><td>4: in</td><td>5: his</td><td>6: pyjamas</td></tr>\n",
       "<tr><td>0: He</td><td style=\"border:solid;\" bgcolor=\"white\"><font color=\"black\">Subj: 0.00</font></td><td style=\"border:solid;\" bgcolor=\"white\"></td><td style=\"border:solid;\" bgcolor=\"#E1E1E1\"></td><td style=\"border:solid;\" bgcolor=\"white\"><font color=\"black\">S: -1.90</font></td><td style=\"border:solid;\" bgcolor=\"white\"></td><td style=\"border:solid;\" bgcolor=\"white\"></td><td style=\"border:solid;\" bgcolor=\"#C3C3C3\"><font color=\"black\">S: -1.05</font></td></tr>\n",
       "<tr><td>1: shot</td><td style=\"border:none;\" bgcolor=\"white\"></td><td style=\"border:solid;\" bgcolor=\"white\"><font color=\"black\">Verb: 0.00</font></td><td style=\"border:solid;\" bgcolor=\"white\"></td><td style=\"border:solid;\" bgcolor=\"white\"><font color=\"black\">VP: -1.90</font></td><td style=\"border:solid;\" bgcolor=\"white\"></td><td style=\"border:solid;\" bgcolor=\"white\"></td><td style=\"border:solid;\" bgcolor=\"white\"><font color=\"black\">VP: -1.05</font></td></tr>\n",
       "<tr><td>2: the</td><td style=\"border:none;\" bgcolor=\"white\"></td><td style=\"border:none;\" bgcolor=\"white\"></td><td style=\"border:solid;\" bgcolor=\"white\"><font color=\"black\">Obj_5: 0.00</font>, <font color=\"black\">Obj_8: 0.00</font></td><td style=\"border:solid;\" bgcolor=\"white\"><font color=\"black\">Obj: -0.69</font></td><td style=\"border:solid;\" bgcolor=\"white\"></td><td style=\"border:solid;\" bgcolor=\"white\"></td><td style=\"border:solid;\" bgcolor=\"white\"><font color=\"black\">Obj: -0.69</font>, <font color=\"black\">VP_0: -0.69</font></td></tr>\n",
       "<tr><td>3: elephant</td><td style=\"border:none;\" bgcolor=\"white\"></td><td style=\"border:none;\" bgcolor=\"white\"></td><td style=\"border:none;\" bgcolor=\"white\"></td><td style=\"border:solid;\" bgcolor=\"white\"><font color=\"black\">Obj_6: 0.00</font>, <font color=\"black\">Obj_7_9: 0.00</font></td><td style=\"border:solid;\" bgcolor=\"white\"></td><td style=\"border:solid;\" bgcolor=\"white\"></td><td style=\"border:solid;\" bgcolor=\"#E1E1E1\"><font color=\"black\">Obj_7: 0.00</font></td></tr>\n",
       "<tr><td>4: in</td><td style=\"border:none;\" bgcolor=\"white\"></td><td style=\"border:none;\" bgcolor=\"white\"></td><td style=\"border:none;\" bgcolor=\"white\"></td><td style=\"border:none;\" bgcolor=\"white\"></td><td style=\"border:solid;\" bgcolor=\"white\"><font color=\"black\">PP_2: 0.00</font></td><td style=\"border:solid;\" bgcolor=\"white\"></td><td style=\"border:solid;\" bgcolor=\"white\"><font color=\"black\">PP: 0.00</font></td></tr>\n",
       "<tr><td>5: his</td><td style=\"border:none;\" bgcolor=\"white\"></td><td style=\"border:none;\" bgcolor=\"white\"></td><td style=\"border:none;\" bgcolor=\"white\"></td><td style=\"border:none;\" bgcolor=\"white\"></td><td style=\"border:none;\" bgcolor=\"white\"></td><td style=\"border:solid;\" bgcolor=\"white\"><font color=\"black\">PP_1_3: 0.00</font></td><td style=\"border:solid;\" bgcolor=\"white\"><font color=\"black\">PP_1: 0.00</font></td></tr>\n",
       "<tr><td>6: pyjamas</td><td style=\"border:none;\" bgcolor=\"white\"></td><td style=\"border:none;\" bgcolor=\"white\"></td><td style=\"border:none;\" bgcolor=\"white\"></td><td style=\"border:none;\" bgcolor=\"white\"></td><td style=\"border:none;\" bgcolor=\"white\"></td><td style=\"border:none;\" bgcolor=\"white\"></td><td style=\"border:solid;\" bgcolor=\"white\"><font color=\"black\">PP_1_4: 0.00</font></td></tr></table> 107 / 112</div>\n",
       "<div class=\"item\"><table><tr><td></td><td>0: He</td><td>1: shot</td><td>2: the</td><td>3: elephant</td><td>4: in</td><td>5: his</td><td>6: pyjamas</td></tr>\n",
       "<tr><td>0: He</td><td style=\"border:solid;\" bgcolor=\"white\"><font color=\"black\">Subj: 0.00</font></td><td style=\"border:solid;\" bgcolor=\"white\"></td><td style=\"border:solid;\" bgcolor=\"white\"></td><td style=\"border:solid;\" bgcolor=\"#E1E1E1\"><font color=\"black\">S: -1.90</font></td><td style=\"border:solid;\" bgcolor=\"white\"></td><td style=\"border:solid;\" bgcolor=\"white\"></td><td style=\"border:solid;\" bgcolor=\"#C3C3C3\"><font color=\"black\">S: -1.05</font></td></tr>\n",
       "<tr><td>1: shot</td><td style=\"border:none;\" bgcolor=\"white\"></td><td style=\"border:solid;\" bgcolor=\"white\"><font color=\"black\">Verb: 0.00</font></td><td style=\"border:solid;\" bgcolor=\"white\"></td><td style=\"border:solid;\" bgcolor=\"white\"><font color=\"black\">VP: -1.90</font></td><td style=\"border:solid;\" bgcolor=\"white\"></td><td style=\"border:solid;\" bgcolor=\"white\"></td><td style=\"border:solid;\" bgcolor=\"white\"><font color=\"black\">VP: -1.05</font></td></tr>\n",
       "<tr><td>2: the</td><td style=\"border:none;\" bgcolor=\"white\"></td><td style=\"border:none;\" bgcolor=\"white\"></td><td style=\"border:solid;\" bgcolor=\"white\"><font color=\"black\">Obj_5: 0.00</font>, <font color=\"black\">Obj_8: 0.00</font></td><td style=\"border:solid;\" bgcolor=\"white\"><font color=\"black\">Obj: -0.69</font></td><td style=\"border:solid;\" bgcolor=\"white\"></td><td style=\"border:solid;\" bgcolor=\"white\"></td><td style=\"border:solid;\" bgcolor=\"white\"><font color=\"black\">Obj: -0.69</font>, <font color=\"black\">VP_0: -0.69</font></td></tr>\n",
       "<tr><td>3: elephant</td><td style=\"border:none;\" bgcolor=\"white\"></td><td style=\"border:none;\" bgcolor=\"white\"></td><td style=\"border:none;\" bgcolor=\"white\"></td><td style=\"border:solid;\" bgcolor=\"white\"><font color=\"black\">Obj_6: 0.00</font>, <font color=\"black\">Obj_7_9: 0.00</font></td><td style=\"border:solid;\" bgcolor=\"white\"></td><td style=\"border:solid;\" bgcolor=\"white\"></td><td style=\"border:solid;\" bgcolor=\"white\"><font color=\"black\">Obj_7: 0.00</font></td></tr>\n",
       "<tr><td>4: in</td><td style=\"border:none;\" bgcolor=\"white\"></td><td style=\"border:none;\" bgcolor=\"white\"></td><td style=\"border:none;\" bgcolor=\"white\"></td><td style=\"border:none;\" bgcolor=\"white\"></td><td style=\"border:solid;\" bgcolor=\"white\"><font color=\"black\">PP_2: 0.00</font></td><td style=\"border:solid;\" bgcolor=\"white\"></td><td style=\"border:solid;\" bgcolor=\"#E1E1E1\"><font color=\"black\">PP: 0.00</font></td></tr>\n",
       "<tr><td>5: his</td><td style=\"border:none;\" bgcolor=\"white\"></td><td style=\"border:none;\" bgcolor=\"white\"></td><td style=\"border:none;\" bgcolor=\"white\"></td><td style=\"border:none;\" bgcolor=\"white\"></td><td style=\"border:none;\" bgcolor=\"white\"></td><td style=\"border:solid;\" bgcolor=\"white\"><font color=\"black\">PP_1_3: 0.00</font></td><td style=\"border:solid;\" bgcolor=\"white\"><font color=\"black\">PP_1: 0.00</font></td></tr>\n",
       "<tr><td>6: pyjamas</td><td style=\"border:none;\" bgcolor=\"white\"></td><td style=\"border:none;\" bgcolor=\"white\"></td><td style=\"border:none;\" bgcolor=\"white\"></td><td style=\"border:none;\" bgcolor=\"white\"></td><td style=\"border:none;\" bgcolor=\"white\"></td><td style=\"border:none;\" bgcolor=\"white\"></td><td style=\"border:solid;\" bgcolor=\"white\"><font color=\"black\">PP_1_4: 0.00</font></td></tr></table> 108 / 112</div>\n",
       "<div class=\"item\"><table><tr><td></td><td>0: He</td><td>1: shot</td><td>2: the</td><td>3: elephant</td><td>4: in</td><td>5: his</td><td>6: pyjamas</td></tr>\n",
       "<tr><td>0: He</td><td style=\"border:solid;\" bgcolor=\"white\"><font color=\"black\">Subj: 0.00</font></td><td style=\"border:solid;\" bgcolor=\"white\"></td><td style=\"border:solid;\" bgcolor=\"white\"></td><td style=\"border:solid;\" bgcolor=\"#E1E1E1\"><font color=\"red\">S: -1.90</font></td><td style=\"border:solid;\" bgcolor=\"white\"></td><td style=\"border:solid;\" bgcolor=\"white\"></td><td style=\"border:solid;\" bgcolor=\"#C3C3C3\"><font color=\"black\">S: -1.05</font></td></tr>\n",
       "<tr><td>1: shot</td><td style=\"border:none;\" bgcolor=\"white\"></td><td style=\"border:solid;\" bgcolor=\"white\"><font color=\"black\">Verb: 0.00</font></td><td style=\"border:solid;\" bgcolor=\"white\"></td><td style=\"border:solid;\" bgcolor=\"white\"><font color=\"black\">VP: -1.90</font></td><td style=\"border:solid;\" bgcolor=\"white\"></td><td style=\"border:solid;\" bgcolor=\"white\"></td><td style=\"border:solid;\" bgcolor=\"white\"><font color=\"black\">VP: -1.05</font></td></tr>\n",
       "<tr><td>2: the</td><td style=\"border:none;\" bgcolor=\"white\"></td><td style=\"border:none;\" bgcolor=\"white\"></td><td style=\"border:solid;\" bgcolor=\"white\"><font color=\"black\">Obj_5: 0.00</font>, <font color=\"black\">Obj_8: 0.00</font></td><td style=\"border:solid;\" bgcolor=\"white\"><font color=\"black\">Obj: -0.69</font></td><td style=\"border:solid;\" bgcolor=\"white\"></td><td style=\"border:solid;\" bgcolor=\"white\"></td><td style=\"border:solid;\" bgcolor=\"white\"><font color=\"black\">Obj: -0.69</font>, <font color=\"black\">VP_0: -0.69</font></td></tr>\n",
       "<tr><td>3: elephant</td><td style=\"border:none;\" bgcolor=\"white\"></td><td style=\"border:none;\" bgcolor=\"white\"></td><td style=\"border:none;\" bgcolor=\"white\"></td><td style=\"border:solid;\" bgcolor=\"white\"><font color=\"black\">Obj_6: 0.00</font>, <font color=\"black\">Obj_7_9: 0.00</font></td><td style=\"border:solid;\" bgcolor=\"white\"></td><td style=\"border:solid;\" bgcolor=\"white\"></td><td style=\"border:solid;\" bgcolor=\"white\"><font color=\"black\">Obj_7: 0.00</font></td></tr>\n",
       "<tr><td>4: in</td><td style=\"border:none;\" bgcolor=\"white\"></td><td style=\"border:none;\" bgcolor=\"white\"></td><td style=\"border:none;\" bgcolor=\"white\"></td><td style=\"border:none;\" bgcolor=\"white\"></td><td style=\"border:solid;\" bgcolor=\"white\"><font color=\"black\">PP_2: 0.00</font></td><td style=\"border:solid;\" bgcolor=\"white\"></td><td style=\"border:solid;\" bgcolor=\"#E1E1E1\"><font color=\"red\">PP: 0.00</font></td></tr>\n",
       "<tr><td>5: his</td><td style=\"border:none;\" bgcolor=\"white\"></td><td style=\"border:none;\" bgcolor=\"white\"></td><td style=\"border:none;\" bgcolor=\"white\"></td><td style=\"border:none;\" bgcolor=\"white\"></td><td style=\"border:none;\" bgcolor=\"white\"></td><td style=\"border:solid;\" bgcolor=\"white\"><font color=\"black\">PP_1_3: 0.00</font></td><td style=\"border:solid;\" bgcolor=\"white\"><font color=\"black\">PP_1: 0.00</font></td></tr>\n",
       "<tr><td>6: pyjamas</td><td style=\"border:none;\" bgcolor=\"white\"></td><td style=\"border:none;\" bgcolor=\"white\"></td><td style=\"border:none;\" bgcolor=\"white\"></td><td style=\"border:none;\" bgcolor=\"white\"></td><td style=\"border:none;\" bgcolor=\"white\"></td><td style=\"border:none;\" bgcolor=\"white\"></td><td style=\"border:solid;\" bgcolor=\"white\"><font color=\"black\">PP_1_4: 0.00</font></td></tr></table> 109 / 112</div>\n",
       "<div class=\"item\"><table><tr><td></td><td>0: He</td><td>1: shot</td><td>2: the</td><td>3: elephant</td><td>4: in</td><td>5: his</td><td>6: pyjamas</td></tr>\n",
       "<tr><td>0: He</td><td style=\"border:solid;\" bgcolor=\"white\"><font color=\"black\">Subj: 0.00</font></td><td style=\"border:solid;\" bgcolor=\"white\"></td><td style=\"border:solid;\" bgcolor=\"white\"></td><td style=\"border:solid;\" bgcolor=\"white\"><font color=\"black\">S: -1.90</font></td><td style=\"border:solid;\" bgcolor=\"#E1E1E1\"></td><td style=\"border:solid;\" bgcolor=\"white\"></td><td style=\"border:solid;\" bgcolor=\"#C3C3C3\"><font color=\"black\">S: -1.05</font></td></tr>\n",
       "<tr><td>1: shot</td><td style=\"border:none;\" bgcolor=\"white\"></td><td style=\"border:solid;\" bgcolor=\"white\"><font color=\"black\">Verb: 0.00</font></td><td style=\"border:solid;\" bgcolor=\"white\"></td><td style=\"border:solid;\" bgcolor=\"white\"><font color=\"black\">VP: -1.90</font></td><td style=\"border:solid;\" bgcolor=\"white\"></td><td style=\"border:solid;\" bgcolor=\"white\"></td><td style=\"border:solid;\" bgcolor=\"white\"><font color=\"black\">VP: -1.05</font></td></tr>\n",
       "<tr><td>2: the</td><td style=\"border:none;\" bgcolor=\"white\"></td><td style=\"border:none;\" bgcolor=\"white\"></td><td style=\"border:solid;\" bgcolor=\"white\"><font color=\"black\">Obj_5: 0.00</font>, <font color=\"black\">Obj_8: 0.00</font></td><td style=\"border:solid;\" bgcolor=\"white\"><font color=\"black\">Obj: -0.69</font></td><td style=\"border:solid;\" bgcolor=\"white\"></td><td style=\"border:solid;\" bgcolor=\"white\"></td><td style=\"border:solid;\" bgcolor=\"white\"><font color=\"black\">Obj: -0.69</font>, <font color=\"black\">VP_0: -0.69</font></td></tr>\n",
       "<tr><td>3: elephant</td><td style=\"border:none;\" bgcolor=\"white\"></td><td style=\"border:none;\" bgcolor=\"white\"></td><td style=\"border:none;\" bgcolor=\"white\"></td><td style=\"border:solid;\" bgcolor=\"white\"><font color=\"black\">Obj_6: 0.00</font>, <font color=\"black\">Obj_7_9: 0.00</font></td><td style=\"border:solid;\" bgcolor=\"white\"></td><td style=\"border:solid;\" bgcolor=\"white\"></td><td style=\"border:solid;\" bgcolor=\"white\"><font color=\"black\">Obj_7: 0.00</font></td></tr>\n",
       "<tr><td>4: in</td><td style=\"border:none;\" bgcolor=\"white\"></td><td style=\"border:none;\" bgcolor=\"white\"></td><td style=\"border:none;\" bgcolor=\"white\"></td><td style=\"border:none;\" bgcolor=\"white\"></td><td style=\"border:solid;\" bgcolor=\"white\"><font color=\"black\">PP_2: 0.00</font></td><td style=\"border:solid;\" bgcolor=\"white\"></td><td style=\"border:solid;\" bgcolor=\"white\"><font color=\"black\">PP: 0.00</font></td></tr>\n",
       "<tr><td>5: his</td><td style=\"border:none;\" bgcolor=\"white\"></td><td style=\"border:none;\" bgcolor=\"white\"></td><td style=\"border:none;\" bgcolor=\"white\"></td><td style=\"border:none;\" bgcolor=\"white\"></td><td style=\"border:none;\" bgcolor=\"white\"></td><td style=\"border:solid;\" bgcolor=\"white\"><font color=\"black\">PP_1_3: 0.00</font></td><td style=\"border:solid;\" bgcolor=\"#E1E1E1\"><font color=\"black\">PP_1: 0.00</font></td></tr>\n",
       "<tr><td>6: pyjamas</td><td style=\"border:none;\" bgcolor=\"white\"></td><td style=\"border:none;\" bgcolor=\"white\"></td><td style=\"border:none;\" bgcolor=\"white\"></td><td style=\"border:none;\" bgcolor=\"white\"></td><td style=\"border:none;\" bgcolor=\"white\"></td><td style=\"border:none;\" bgcolor=\"white\"></td><td style=\"border:solid;\" bgcolor=\"white\"><font color=\"black\">PP_1_4: 0.00</font></td></tr></table> 110 / 112</div>\n",
       "<div class=\"item\"><table><tr><td></td><td>0: He</td><td>1: shot</td><td>2: the</td><td>3: elephant</td><td>4: in</td><td>5: his</td><td>6: pyjamas</td></tr>\n",
       "<tr><td>0: He</td><td style=\"border:solid;\" bgcolor=\"white\"><font color=\"black\">Subj: 0.00</font></td><td style=\"border:solid;\" bgcolor=\"white\"></td><td style=\"border:solid;\" bgcolor=\"white\"></td><td style=\"border:solid;\" bgcolor=\"white\"><font color=\"black\">S: -1.90</font></td><td style=\"border:solid;\" bgcolor=\"white\"></td><td style=\"border:solid;\" bgcolor=\"#E1E1E1\"></td><td style=\"border:solid;\" bgcolor=\"#C3C3C3\"><font color=\"black\">S: -1.05</font></td></tr>\n",
       "<tr><td>1: shot</td><td style=\"border:none;\" bgcolor=\"white\"></td><td style=\"border:solid;\" bgcolor=\"white\"><font color=\"black\">Verb: 0.00</font></td><td style=\"border:solid;\" bgcolor=\"white\"></td><td style=\"border:solid;\" bgcolor=\"white\"><font color=\"black\">VP: -1.90</font></td><td style=\"border:solid;\" bgcolor=\"white\"></td><td style=\"border:solid;\" bgcolor=\"white\"></td><td style=\"border:solid;\" bgcolor=\"white\"><font color=\"black\">VP: -1.05</font></td></tr>\n",
       "<tr><td>2: the</td><td style=\"border:none;\" bgcolor=\"white\"></td><td style=\"border:none;\" bgcolor=\"white\"></td><td style=\"border:solid;\" bgcolor=\"white\"><font color=\"black\">Obj_5: 0.00</font>, <font color=\"black\">Obj_8: 0.00</font></td><td style=\"border:solid;\" bgcolor=\"white\"><font color=\"black\">Obj: -0.69</font></td><td style=\"border:solid;\" bgcolor=\"white\"></td><td style=\"border:solid;\" bgcolor=\"white\"></td><td style=\"border:solid;\" bgcolor=\"white\"><font color=\"black\">Obj: -0.69</font>, <font color=\"black\">VP_0: -0.69</font></td></tr>\n",
       "<tr><td>3: elephant</td><td style=\"border:none;\" bgcolor=\"white\"></td><td style=\"border:none;\" bgcolor=\"white\"></td><td style=\"border:none;\" bgcolor=\"white\"></td><td style=\"border:solid;\" bgcolor=\"white\"><font color=\"black\">Obj_6: 0.00</font>, <font color=\"black\">Obj_7_9: 0.00</font></td><td style=\"border:solid;\" bgcolor=\"white\"></td><td style=\"border:solid;\" bgcolor=\"white\"></td><td style=\"border:solid;\" bgcolor=\"white\"><font color=\"black\">Obj_7: 0.00</font></td></tr>\n",
       "<tr><td>4: in</td><td style=\"border:none;\" bgcolor=\"white\"></td><td style=\"border:none;\" bgcolor=\"white\"></td><td style=\"border:none;\" bgcolor=\"white\"></td><td style=\"border:none;\" bgcolor=\"white\"></td><td style=\"border:solid;\" bgcolor=\"white\"><font color=\"black\">PP_2: 0.00</font></td><td style=\"border:solid;\" bgcolor=\"white\"></td><td style=\"border:solid;\" bgcolor=\"white\"><font color=\"black\">PP: 0.00</font></td></tr>\n",
       "<tr><td>5: his</td><td style=\"border:none;\" bgcolor=\"white\"></td><td style=\"border:none;\" bgcolor=\"white\"></td><td style=\"border:none;\" bgcolor=\"white\"></td><td style=\"border:none;\" bgcolor=\"white\"></td><td style=\"border:none;\" bgcolor=\"white\"></td><td style=\"border:solid;\" bgcolor=\"white\"><font color=\"black\">PP_1_3: 0.00</font></td><td style=\"border:solid;\" bgcolor=\"white\"><font color=\"black\">PP_1: 0.00</font></td></tr>\n",
       "<tr><td>6: pyjamas</td><td style=\"border:none;\" bgcolor=\"white\"></td><td style=\"border:none;\" bgcolor=\"white\"></td><td style=\"border:none;\" bgcolor=\"white\"></td><td style=\"border:none;\" bgcolor=\"white\"></td><td style=\"border:none;\" bgcolor=\"white\"></td><td style=\"border:none;\" bgcolor=\"white\"></td><td style=\"border:solid;\" bgcolor=\"#E1E1E1\"><font color=\"black\">PP_1_4: 0.00</font></td></tr></table> 111 / 112</div>\n",
       "<div class=\"item\"><table><tr><td></td><td>0: He</td><td>1: shot</td><td>2: the</td><td>3: elephant</td><td>4: in</td><td>5: his</td><td>6: pyjamas</td></tr>\n",
       "<tr><td>0: He</td><td style=\"border:solid;\" bgcolor=\"white\"><font color=\"black\">Subj: 0.00</font></td><td style=\"border:solid;\" bgcolor=\"white\"></td><td style=\"border:solid;\" bgcolor=\"white\"></td><td style=\"border:solid;\" bgcolor=\"white\"><font color=\"black\">S: -1.90</font></td><td style=\"border:solid;\" bgcolor=\"white\"></td><td style=\"border:solid;\" bgcolor=\"white\"></td><td style=\"border:solid;\" bgcolor=\"white\"><font color=\"black\">S: -1.05</font></td></tr>\n",
       "<tr><td>1: shot</td><td style=\"border:none;\" bgcolor=\"white\"></td><td style=\"border:solid;\" bgcolor=\"white\"><font color=\"black\">Verb: 0.00</font></td><td style=\"border:solid;\" bgcolor=\"white\"></td><td style=\"border:solid;\" bgcolor=\"white\"><font color=\"black\">VP: -1.90</font></td><td style=\"border:solid;\" bgcolor=\"white\"></td><td style=\"border:solid;\" bgcolor=\"white\"></td><td style=\"border:solid;\" bgcolor=\"white\"><font color=\"black\">VP: -1.05</font></td></tr>\n",
       "<tr><td>2: the</td><td style=\"border:none;\" bgcolor=\"white\"></td><td style=\"border:none;\" bgcolor=\"white\"></td><td style=\"border:solid;\" bgcolor=\"white\"><font color=\"black\">Obj_5: 0.00</font>, <font color=\"black\">Obj_8: 0.00</font></td><td style=\"border:solid;\" bgcolor=\"white\"><font color=\"black\">Obj: -0.69</font></td><td style=\"border:solid;\" bgcolor=\"white\"></td><td style=\"border:solid;\" bgcolor=\"white\"></td><td style=\"border:solid;\" bgcolor=\"white\"><font color=\"black\">Obj: -0.69</font>, <font color=\"black\">VP_0: -0.69</font></td></tr>\n",
       "<tr><td>3: elephant</td><td style=\"border:none;\" bgcolor=\"white\"></td><td style=\"border:none;\" bgcolor=\"white\"></td><td style=\"border:none;\" bgcolor=\"white\"></td><td style=\"border:solid;\" bgcolor=\"white\"><font color=\"black\">Obj_6: 0.00</font>, <font color=\"black\">Obj_7_9: 0.00</font></td><td style=\"border:solid;\" bgcolor=\"white\"></td><td style=\"border:solid;\" bgcolor=\"white\"></td><td style=\"border:solid;\" bgcolor=\"white\"><font color=\"black\">Obj_7: 0.00</font></td></tr>\n",
       "<tr><td>4: in</td><td style=\"border:none;\" bgcolor=\"white\"></td><td style=\"border:none;\" bgcolor=\"white\"></td><td style=\"border:none;\" bgcolor=\"white\"></td><td style=\"border:none;\" bgcolor=\"white\"></td><td style=\"border:solid;\" bgcolor=\"white\"><font color=\"black\">PP_2: 0.00</font></td><td style=\"border:solid;\" bgcolor=\"white\"></td><td style=\"border:solid;\" bgcolor=\"white\"><font color=\"black\">PP: 0.00</font></td></tr>\n",
       "<tr><td>5: his</td><td style=\"border:none;\" bgcolor=\"white\"></td><td style=\"border:none;\" bgcolor=\"white\"></td><td style=\"border:none;\" bgcolor=\"white\"></td><td style=\"border:none;\" bgcolor=\"white\"></td><td style=\"border:none;\" bgcolor=\"white\"></td><td style=\"border:solid;\" bgcolor=\"white\"><font color=\"black\">PP_1_3: 0.00</font></td><td style=\"border:solid;\" bgcolor=\"white\"><font color=\"black\">PP_1: 0.00</font></td></tr>\n",
       "<tr><td>6: pyjamas</td><td style=\"border:none;\" bgcolor=\"white\"></td><td style=\"border:none;\" bgcolor=\"white\"></td><td style=\"border:none;\" bgcolor=\"white\"></td><td style=\"border:none;\" bgcolor=\"white\"></td><td style=\"border:none;\" bgcolor=\"white\"></td><td style=\"border:none;\" bgcolor=\"white\"></td><td style=\"border:solid;\" bgcolor=\"white\"><font color=\"black\">PP_1_4: 0.00</font></td></tr></table> 112 / 112</div>\n",
       "          </div>\n",
       "        </div>\n"
      ],
      "text/plain": [
       "<statnlpbook.util.Carousel at 0x7fbcd0229ef0>"
      ]
     },
     "execution_count": 33,
     "metadata": {},
     "output_type": "execute_result"
    }
   ],
   "source": [
    "util.Carousel(pcyk_trace)"
   ]
  },
  {
   "cell_type": "markdown",
   "metadata": {
    "slideshow": {
     "slide_type": "subslide"
    }
   },
   "source": [
    "Runtime with respect to sentence length? "
   ]
  },
  {
   "cell_type": "markdown",
   "metadata": {
    "slideshow": {
     "slide_type": "subslide"
    }
   },
   "source": [
    "Resolve parse by going backwards ... "
   ]
  },
  {
   "cell_type": "code",
   "execution_count": 34,
   "metadata": {
    "hideCode": true,
    "hidePrompt": true,
    "slideshow": {
     "slide_type": "-"
    }
   },
   "outputs": [
    {
     "data": {
      "image/svg+xml": [
       "<?xml version=\"1.0\" encoding=\"UTF-8\" standalone=\"no\"?>\n",
       "<!DOCTYPE svg PUBLIC \"-//W3C//DTD SVG 1.1//EN\"\n",
       " \"http://www.w3.org/Graphics/SVG/1.1/DTD/svg11.dtd\">\n",
       "<!-- Generated by graphviz version 2.38.0 (20140413.2041)\n",
       " -->\n",
       "<!-- Title: %3 Pages: 1 -->\n",
       "<svg width=\"506pt\" height=\"260pt\"\n",
       " viewBox=\"0.00 0.00 506.30 260.00\" xmlns=\"http://www.w3.org/2000/svg\" xmlns:xlink=\"http://www.w3.org/1999/xlink\">\n",
       "<g id=\"graph0\" class=\"graph\" transform=\"scale(1 1) rotate(0) translate(4 256)\">\n",
       "<title>%3</title>\n",
       "<polygon fill=\"white\" stroke=\"none\" points=\"-4,4 -4,-256 502.296,-256 502.296,4 -4,4\"/>\n",
       "<!-- 0 -->\n",
       "<g id=\"node1\" class=\"node\"><title>0</title>\n",
       "<ellipse fill=\"none\" stroke=\"black\" cx=\"27\" cy=\"-90\" rx=\"27\" ry=\"18\"/>\n",
       "<text text-anchor=\"middle\" x=\"27\" y=\"-86.3\" font-family=\"Times,serif\" font-size=\"14.00\">He</text>\n",
       "</g>\n",
       "<!-- 1 -->\n",
       "<g id=\"node2\" class=\"node\"><title>1</title>\n",
       "<ellipse fill=\"none\" stroke=\"black\" cx=\"65\" cy=\"-162\" rx=\"27\" ry=\"18\"/>\n",
       "<text text-anchor=\"middle\" x=\"65\" y=\"-158.3\" font-family=\"Times,serif\" font-size=\"14.00\">Subj</text>\n",
       "</g>\n",
       "<!-- 1&#45;&gt;0 -->\n",
       "<g id=\"edge1\" class=\"edge\"><title>1&#45;&gt;0</title>\n",
       "<path fill=\"none\" stroke=\"black\" d=\"M56.1865,-144.765C51.5823,-136.283 45.845,-125.714 40.6786,-116.197\"/>\n",
       "<polygon fill=\"black\" stroke=\"black\" points=\"43.6126,-114.266 35.7657,-107.147 37.4607,-117.606 43.6126,-114.266\"/>\n",
       "</g>\n",
       "<!-- 2 -->\n",
       "<g id=\"node3\" class=\"node\"><title>2</title>\n",
       "<ellipse fill=\"none\" stroke=\"black\" cx=\"59\" cy=\"-18\" rx=\"27\" ry=\"18\"/>\n",
       "<text text-anchor=\"middle\" x=\"59\" y=\"-14.3\" font-family=\"Times,serif\" font-size=\"14.00\">shot</text>\n",
       "</g>\n",
       "<!-- 3 -->\n",
       "<g id=\"node4\" class=\"node\"><title>3</title>\n",
       "<ellipse fill=\"none\" stroke=\"black\" cx=\"101\" cy=\"-90\" rx=\"28.6953\" ry=\"18\"/>\n",
       "<text text-anchor=\"middle\" x=\"101\" y=\"-86.3\" font-family=\"Times,serif\" font-size=\"14.00\">Verb</text>\n",
       "</g>\n",
       "<!-- 3&#45;&gt;2 -->\n",
       "<g id=\"edge2\" class=\"edge\"><title>3&#45;&gt;2</title>\n",
       "<path fill=\"none\" stroke=\"black\" d=\"M91.2588,-72.7646C86.1169,-64.1948 79.6964,-53.494 73.9402,-43.9004\"/>\n",
       "<polygon fill=\"black\" stroke=\"black\" points=\"76.8346,-41.9215 68.6884,-35.1473 70.8322,-45.523 76.8346,-41.9215\"/>\n",
       "</g>\n",
       "<!-- 4 -->\n",
       "<g id=\"node5\" class=\"node\"><title>4</title>\n",
       "<ellipse fill=\"none\" stroke=\"black\" cx=\"131\" cy=\"-18\" rx=\"27\" ry=\"18\"/>\n",
       "<text text-anchor=\"middle\" x=\"131\" y=\"-14.3\" font-family=\"Times,serif\" font-size=\"14.00\">the</text>\n",
       "</g>\n",
       "<!-- 5 -->\n",
       "<g id=\"node6\" class=\"node\"><title>5</title>\n",
       "<ellipse fill=\"none\" stroke=\"black\" cx=\"216\" cy=\"-18\" rx=\"40.0939\" ry=\"18\"/>\n",
       "<text text-anchor=\"middle\" x=\"216\" y=\"-14.3\" font-family=\"Times,serif\" font-size=\"14.00\">elephant</text>\n",
       "</g>\n",
       "<!-- 6 -->\n",
       "<g id=\"node7\" class=\"node\"><title>6</title>\n",
       "<ellipse fill=\"none\" stroke=\"black\" cx=\"175\" cy=\"-90\" rx=\"27\" ry=\"18\"/>\n",
       "<text text-anchor=\"middle\" x=\"175\" y=\"-86.3\" font-family=\"Times,serif\" font-size=\"14.00\">Obj</text>\n",
       "</g>\n",
       "<!-- 6&#45;&gt;4 -->\n",
       "<g id=\"edge3\" class=\"edge\"><title>6&#45;&gt;4</title>\n",
       "<path fill=\"none\" stroke=\"black\" d=\"M165.016,-73.1159C159.503,-64.345 152.537,-53.2637 146.347,-43.4162\"/>\n",
       "<polygon fill=\"black\" stroke=\"black\" points=\"149.23,-41.425 140.945,-34.8212 143.303,-45.1502 149.23,-41.425\"/>\n",
       "</g>\n",
       "<!-- 6&#45;&gt;5 -->\n",
       "<g id=\"edge4\" class=\"edge\"><title>6&#45;&gt;5</title>\n",
       "<path fill=\"none\" stroke=\"black\" d=\"M184.509,-72.7646C189.457,-64.3172 195.618,-53.7993 201.174,-44.3122\"/>\n",
       "<polygon fill=\"black\" stroke=\"black\" points=\"204.224,-46.0312 206.258,-35.6334 198.183,-42.4933 204.224,-46.0312\"/>\n",
       "</g>\n",
       "<!-- 7 -->\n",
       "<g id=\"node8\" class=\"node\"><title>7</title>\n",
       "<ellipse fill=\"none\" stroke=\"black\" cx=\"301\" cy=\"-18\" rx=\"27\" ry=\"18\"/>\n",
       "<text text-anchor=\"middle\" x=\"301\" y=\"-14.3\" font-family=\"Times,serif\" font-size=\"14.00\">in</text>\n",
       "</g>\n",
       "<!-- 8 -->\n",
       "<g id=\"node9\" class=\"node\"><title>8</title>\n",
       "<ellipse fill=\"none\" stroke=\"black\" cx=\"373\" cy=\"-18\" rx=\"27\" ry=\"18\"/>\n",
       "<text text-anchor=\"middle\" x=\"373\" y=\"-14.3\" font-family=\"Times,serif\" font-size=\"14.00\">his</text>\n",
       "</g>\n",
       "<!-- 9 -->\n",
       "<g id=\"node10\" class=\"node\"><title>9</title>\n",
       "<ellipse fill=\"none\" stroke=\"black\" cx=\"458\" cy=\"-18\" rx=\"40.0939\" ry=\"18\"/>\n",
       "<text text-anchor=\"middle\" x=\"458\" y=\"-14.3\" font-family=\"Times,serif\" font-size=\"14.00\">pyjamas</text>\n",
       "</g>\n",
       "<!-- 10 -->\n",
       "<g id=\"node11\" class=\"node\"><title>10</title>\n",
       "<ellipse fill=\"none\" stroke=\"black\" cx=\"337\" cy=\"-90\" rx=\"27\" ry=\"18\"/>\n",
       "<text text-anchor=\"middle\" x=\"337\" y=\"-86.3\" font-family=\"Times,serif\" font-size=\"14.00\">PP</text>\n",
       "</g>\n",
       "<!-- 10&#45;&gt;7 -->\n",
       "<g id=\"edge5\" class=\"edge\"><title>10&#45;&gt;7</title>\n",
       "<path fill=\"none\" stroke=\"black\" d=\"M328.65,-72.7646C324.288,-64.2831 318.853,-53.7144 313.959,-44.1974\"/>\n",
       "<polygon fill=\"black\" stroke=\"black\" points=\"316.99,-42.4395 309.304,-35.1473 310.765,-45.6409 316.99,-42.4395\"/>\n",
       "</g>\n",
       "<!-- 10&#45;&gt;8 -->\n",
       "<g id=\"edge6\" class=\"edge\"><title>10&#45;&gt;8</title>\n",
       "<path fill=\"none\" stroke=\"black\" d=\"M345.35,-72.7646C349.712,-64.2831 355.147,-53.7144 360.041,-44.1974\"/>\n",
       "<polygon fill=\"black\" stroke=\"black\" points=\"363.235,-45.6409 364.696,-35.1473 357.01,-42.4395 363.235,-45.6409\"/>\n",
       "</g>\n",
       "<!-- 10&#45;&gt;9 -->\n",
       "<g id=\"edge7\" class=\"edge\"><title>10&#45;&gt;9</title>\n",
       "<path fill=\"none\" stroke=\"black\" d=\"M356.71,-77.5975C375.309,-66.8378 403.535,-50.5089 425.47,-37.8188\"/>\n",
       "<polygon fill=\"black\" stroke=\"black\" points=\"427.234,-40.8421 434.137,-32.8049 423.729,-34.783 427.234,-40.8421\"/>\n",
       "</g>\n",
       "<!-- 11 -->\n",
       "<g id=\"node12\" class=\"node\"><title>11</title>\n",
       "<ellipse fill=\"none\" stroke=\"black\" cx=\"138\" cy=\"-162\" rx=\"27\" ry=\"18\"/>\n",
       "<text text-anchor=\"middle\" x=\"138\" y=\"-158.3\" font-family=\"Times,serif\" font-size=\"14.00\">VP</text>\n",
       "</g>\n",
       "<!-- 11&#45;&gt;3 -->\n",
       "<g id=\"edge8\" class=\"edge\"><title>11&#45;&gt;3</title>\n",
       "<path fill=\"none\" stroke=\"black\" d=\"M129.418,-144.765C124.999,-136.404 119.508,-126.016 114.535,-116.606\"/>\n",
       "<polygon fill=\"black\" stroke=\"black\" points=\"117.559,-114.839 109.792,-107.633 111.371,-118.11 117.559,-114.839\"/>\n",
       "</g>\n",
       "<!-- 11&#45;&gt;6 -->\n",
       "<g id=\"edge9\" class=\"edge\"><title>11&#45;&gt;6</title>\n",
       "<path fill=\"none\" stroke=\"black\" d=\"M146.582,-144.765C151.065,-136.283 156.651,-125.714 161.681,-116.197\"/>\n",
       "<polygon fill=\"black\" stroke=\"black\" points=\"164.886,-117.624 166.465,-107.147 158.698,-114.353 164.886,-117.624\"/>\n",
       "</g>\n",
       "<!-- 11&#45;&gt;10 -->\n",
       "<g id=\"edge10\" class=\"edge\"><title>11&#45;&gt;10</title>\n",
       "<path fill=\"none\" stroke=\"black\" d=\"M161.609,-152.695C197.011,-140.242 263.971,-116.689 304.132,-102.562\"/>\n",
       "<polygon fill=\"black\" stroke=\"black\" points=\"305.457,-105.806 313.729,-99.1857 303.134,-99.2023 305.457,-105.806\"/>\n",
       "</g>\n",
       "<!-- 12 -->\n",
       "<g id=\"node13\" class=\"node\"><title>12</title>\n",
       "<ellipse fill=\"none\" stroke=\"black\" cx=\"101\" cy=\"-234\" rx=\"27\" ry=\"18\"/>\n",
       "<text text-anchor=\"middle\" x=\"101\" y=\"-230.3\" font-family=\"Times,serif\" font-size=\"14.00\">S</text>\n",
       "</g>\n",
       "<!-- 12&#45;&gt;1 -->\n",
       "<g id=\"edge11\" class=\"edge\"><title>12&#45;&gt;1</title>\n",
       "<path fill=\"none\" stroke=\"black\" d=\"M92.6504,-216.765C88.2885,-208.283 82.8531,-197.714 77.9587,-188.197\"/>\n",
       "<polygon fill=\"black\" stroke=\"black\" points=\"80.9904,-186.439 73.3043,-179.147 74.7654,-189.641 80.9904,-186.439\"/>\n",
       "</g>\n",
       "<!-- 12&#45;&gt;11 -->\n",
       "<g id=\"edge12\" class=\"edge\"><title>12&#45;&gt;11</title>\n",
       "<path fill=\"none\" stroke=\"black\" d=\"M109.582,-216.765C114.065,-208.283 119.651,-197.714 124.681,-188.197\"/>\n",
       "<polygon fill=\"black\" stroke=\"black\" points=\"127.886,-189.624 129.465,-179.147 121.698,-186.353 127.886,-189.624\"/>\n",
       "</g>\n",
       "</g>\n",
       "</svg>\n"
      ],
      "text/plain": [
       "<graphviz.dot.Digraph at 0x7fbcd020ac50>"
      ]
     },
     "execution_count": 34,
     "metadata": {
      "filenames": {
       "image/svg+xml": "/Users/knf792/gits/nlp-course/nlp-book/_build/jupyter_execute/stat-nlp-book/chapters/parsing_slides_93_0.svg"
      }
     },
     "output_type": "execute_result"
    }
   ],
   "source": [
    "pcyk_trace = pcyk(cnf_pcfg, amb_sentence)\n",
    "parsing.render_tree(parsing.filter_non_terminals(pcyk_trace[-1].derive_trees()[0],pcfg.cfg.n))"
   ]
  },
  {
   "cell_type": "markdown",
   "metadata": {
    "slideshow": {
     "slide_type": "slide"
    }
   },
   "source": [
    "## Learning\n",
    "\n",
    "Learning for PCFGs :\n",
    "\n",
    "1. What should the rules in the grammar be?\n",
    "2. What should the probabilities associated with these rules be?"
   ]
  },
  {
   "cell_type": "markdown",
   "metadata": {
    "slideshow": {
     "slide_type": "subslide"
    }
   },
   "source": [
    "Need corpus of parse trees $\\train=(\\parse_1, \\ldots, \\parse_n)$ \n",
    "\n",
    "* English: [Penn Treebank Project](https://www.cis.upenn.edu/~treebank/) parses for the 1989 Wall Street Journal (among other sources). \n",
    "* Other languages: e.g. [Chinese](https://catalog.ldc.upenn.edu/LDC2013T21)\n",
    "* Other domains: e.g. [Biomedical Papers](www.nactem.ac.uk/aNT/genia.html)\n",
    "\n",
    "Annotation expensive and need experts, major bottleneck in parsing research. "
   ]
  },
  {
   "cell_type": "markdown",
   "metadata": {
    "slideshow": {
     "slide_type": "subslide"
    }
   },
   "source": [
    "To learn the parameters $\\params$ of the model we can again use the maximum-likelihood criterium:\n",
    "\n",
    "$$\n",
    "\\params^* = \\argmax_\\params \\sum_{\\parse \\in \\train} \\log \\prob_\\params(\\parse)\n",
    "$$"
   ]
  },
  {
   "cell_type": "markdown",
   "metadata": {
    "slideshow": {
     "slide_type": "subslide"
    }
   },
   "source": [
    "Amounts to **counting**\n",
    "\n",
    "$$\n",
    "  \\param(\\alpha \\rightarrow \\beta) = \\frac{\\counts{\\train}{\\alpha \\rightarrow \\beta}}{\\counts{\\train}{\\alpha}}\n",
    "$$\n",
    "\n",
    "Details omitted here, as you have seen this before"
   ]
  },
  {
   "cell_type": "markdown",
   "metadata": {
    "slideshow": {
     "slide_type": "slide"
    }
   },
   "source": [
    "## Advanced: Parent Annotation\n",
    "\n",
    "In practice \n",
    "\n",
    "* Let $X^Y$ be a non-terminal $X$ with parent $Y$\n",
    "* **Grandparents** matter\n",
    "    * $NP^{VP} \\rightarrow NP \\: PP$ vs \n",
    "    * $NP^{PP} \\rightarrow NP \\: PP$  \n",
    "* Can be captured by labelling nodes in training trees with their parent\n",
    "    * Same machinery"
   ]
  },
  {
   "cell_type": "markdown",
   "metadata": {
    "slideshow": {
     "slide_type": "slide"
    }
   },
   "source": [
    "## Advanced: Head Driven PCFG\n",
    "\n",
    "In practice \n",
    "\n",
    "* **VP NP** is not necessarily less or more likely than **VP NP PP**\n",
    "* But **elephant** in **pyjamas** is very unlikely\n",
    "* PCFGs must model relations between important words (\"heads\")\n",
    "    * $PP^{NP(\\text{elephant})} \\rightarrow IN \\: NP(\\text{pyjamas})$ vs\n",
    "    * $PP^{VP(\\text{shot})} \\rightarrow IN \\: NP(\\text{pyjamas})$\n",
    "* Needs more complex model and search algorithms"
   ]
  },
  {
   "cell_type": "markdown",
   "metadata": {
    "slideshow": {
     "slide_type": "slide"
    }
   },
   "source": [
    "## Background Material\n",
    "\n",
    "* [Mike Collins' PCFG lecture](http://www.cs.columbia.edu/~mcollins/courses/nlp2011/notes/pcfgs.pdf)\n",
    "* Jurafsky & Martin, Chapter 12, Statistical Parsing"
   ]
  }
 ],
 "metadata": {
  "celltoolbar": "Slideshow",
  "kernelspec": {
   "display_name": "Python 3",
   "language": "python",
   "name": "python3"
  },
  "language_info": {
   "codemirror_mode": {
    "name": "ipython",
    "version": 3
   },
   "file_extension": ".py",
   "mimetype": "text/x-python",
   "name": "python",
   "nbconvert_exporter": "python",
   "pygments_lexer": "ipython3",
   "version": "3.10.4"
  }
 },
 "nbformat": 4,
 "nbformat_minor": 1
}