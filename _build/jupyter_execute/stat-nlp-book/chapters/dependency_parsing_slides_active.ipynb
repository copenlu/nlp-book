{
 "cells": [
  {
   "cell_type": "code",
   "execution_count": 1,
   "metadata": {
    "pycharm": {
     "name": "#%%\n"
    },
    "slideshow": {
     "slide_type": "skip"
    }
   },
   "outputs": [
    {
     "data": {
      "text/html": [
       "<script>\n",
       "  function code_toggle() {\n",
       "    if (code_shown){\n",
       "      $('div.input').hide('500');\n",
       "      $('#toggleButton').val('Show Code')\n",
       "    } else {\n",
       "      $('div.input').show('500');\n",
       "      $('#toggleButton').val('Hide Code')\n",
       "    }\n",
       "    code_shown = !code_shown\n",
       "  }\n",
       "\n",
       "  $( document ).ready(function(){\n",
       "    code_shown=false;\n",
       "    $('div.input').hide()\n",
       "  });\n",
       "</script>\n",
       "<form action=\"javascript:code_toggle()\"><input type=\"submit\" id=\"toggleButton\" value=\"Show Code\"></form>\n",
       "<style>\n",
       ".rendered_html td {\n",
       "    font-size: xx-large;\n",
       "    text-align: left; !important\n",
       "}\n",
       ".rendered_html th {\n",
       "    font-size: xx-large;\n",
       "    text-align: left; !important\n",
       "}\n",
       "</style>\n"
      ],
      "text/plain": [
       "<IPython.core.display.HTML object>"
      ]
     },
     "metadata": {},
     "output_type": "display_data"
    }
   ],
   "source": [
    "%%html\n",
    "<script>\n",
    "  function code_toggle() {\n",
    "    if (code_shown){\n",
    "      $('div.input').hide('500');\n",
    "      $('#toggleButton').val('Show Code')\n",
    "    } else {\n",
    "      $('div.input').show('500');\n",
    "      $('#toggleButton').val('Hide Code')\n",
    "    }\n",
    "    code_shown = !code_shown\n",
    "  }\n",
    "\n",
    "  $( document ).ready(function(){\n",
    "    code_shown=false;\n",
    "    $('div.input').hide()\n",
    "  });\n",
    "</script>\n",
    "<form action=\"javascript:code_toggle()\"><input type=\"submit\" id=\"toggleButton\" value=\"Show Code\"></form>\n",
    "<style>\n",
    ".rendered_html td {\n",
    "    font-size: xx-large;\n",
    "    text-align: left; !important\n",
    "}\n",
    ".rendered_html th {\n",
    "    font-size: xx-large;\n",
    "    text-align: left; !important\n",
    "}\n",
    "</style>"
   ]
  },
  {
   "cell_type": "code",
   "execution_count": 2,
   "metadata": {
    "pycharm": {
     "name": "#%%\n"
    },
    "slideshow": {
     "slide_type": "skip"
    }
   },
   "outputs": [
    {
     "ename": "ModuleNotFoundError",
     "evalue": "No module named 'mpld3'",
     "output_type": "error",
     "traceback": [
      "\u001b[0;31m---------------------------------------------------------------------------\u001b[0m",
      "\u001b[0;31mModuleNotFoundError\u001b[0m                       Traceback (most recent call last)",
      "Input \u001b[0;32mIn [2]\u001b[0m, in \u001b[0;36m<cell line: 5>\u001b[0;34m()\u001b[0m\n\u001b[1;32m      3\u001b[0m \u001b[38;5;28;01mimport\u001b[39;00m \u001b[38;5;21;01msys\u001b[39;00m\n\u001b[1;32m      4\u001b[0m sys\u001b[38;5;241m.\u001b[39mpath\u001b[38;5;241m.\u001b[39mappend(\u001b[38;5;124m\"\u001b[39m\u001b[38;5;124m..\u001b[39m\u001b[38;5;124m\"\u001b[39m)\n\u001b[0;32m----> 5\u001b[0m \u001b[38;5;28;01mfrom\u001b[39;00m \u001b[38;5;21;01mstatnlpbook\u001b[39;00m\u001b[38;5;21;01m.\u001b[39;00m\u001b[38;5;21;01mutil\u001b[39;00m \u001b[38;5;28;01mimport\u001b[39;00m execute_notebook\n\u001b[1;32m      6\u001b[0m \u001b[38;5;28;01mimport\u001b[39;00m \u001b[38;5;21;01mstatnlpbook\u001b[39;00m\u001b[38;5;21;01m.\u001b[39;00m\u001b[38;5;21;01mparsing\u001b[39;00m \u001b[38;5;28;01mas\u001b[39;00m \u001b[38;5;21;01mparsing\u001b[39;00m\n\u001b[1;32m      7\u001b[0m \u001b[38;5;28;01mfrom\u001b[39;00m \u001b[38;5;21;01mstatnlpbook\u001b[39;00m\u001b[38;5;21;01m.\u001b[39;00m\u001b[38;5;21;01mtransition\u001b[39;00m \u001b[38;5;28;01mimport\u001b[39;00m \u001b[38;5;241m*\u001b[39m\n",
      "File \u001b[0;32m~/gits/nlp-course/nlp-book/stat-nlp-book/chapters/../statnlpbook/util.py:47\u001b[0m, in \u001b[0;36m<module>\u001b[0;34m\u001b[0m\n\u001b[1;32m     43\u001b[0m             \u001b[38;5;28;01mfor\u001b[39;00m head \u001b[38;5;129;01min\u001b[39;00m lists[\u001b[38;5;241m0\u001b[39m]:\n\u001b[1;32m     44\u001b[0m                 \u001b[38;5;28;01myield\u001b[39;00m (head,) \u001b[38;5;241m+\u001b[39m prev_tuple\n\u001b[0;32m---> 47\u001b[0m \u001b[38;5;28;01mimport\u001b[39;00m \u001b[38;5;21;01mmpld3\u001b[39;00m\n\u001b[1;32m     50\u001b[0m \u001b[38;5;28;01mdef\u001b[39;00m \u001b[38;5;21mplot_bar_graph\u001b[39m(values, labels, rotation\u001b[38;5;241m=\u001b[39m\u001b[38;5;241m0\u001b[39m, align\u001b[38;5;241m=\u001b[39m\u001b[38;5;124m'\u001b[39m\u001b[38;5;124mcenter\u001b[39m\u001b[38;5;124m'\u001b[39m, use_mpld3\u001b[38;5;241m=\u001b[39m\u001b[38;5;28;01mFalse\u001b[39;00m):\n\u001b[1;32m     51\u001b[0m     \u001b[38;5;124;03m\"\"\"\u001b[39;00m\n\u001b[1;32m     52\u001b[0m \u001b[38;5;124;03m    Plots a bar graph.\u001b[39;00m\n\u001b[1;32m     53\u001b[0m \u001b[38;5;124;03m    Args:\u001b[39;00m\n\u001b[0;32m   (...)\u001b[0m\n\u001b[1;32m     61\u001b[0m \n\u001b[1;32m     62\u001b[0m \u001b[38;5;124;03m    \"\"\"\u001b[39;00m\n",
      "\u001b[0;31mModuleNotFoundError\u001b[0m: No module named 'mpld3'"
     ]
    }
   ],
   "source": [
    "%%capture\n",
    "%load_ext autoreload\n",
    "%autoreload 2\n",
    "import sys\n",
    "sys.path.append(\"..\")\n",
    "from statnlpbook.util import execute_notebook\n",
    "import statnlpbook.parsing as parsing\n",
    "from statnlpbook.transition import *\n",
    "from statnlpbook.dep import *\n",
    "import pandas as pd\n",
    "from io import StringIO\n",
    "from IPython.display import display, HTML\n",
    "\n",
    "execute_notebook('transition-based_dependency_parsing.ipynb')"
   ]
  },
  {
   "cell_type": "markdown",
   "metadata": {
    "pycharm": {
     "is_executing": false,
     "name": "#%% md\n"
    },
    "slideshow": {
     "slide_type": "skip"
    }
   },
   "source": [
    "<!---\n",
    "Latex Macros\n",
    "-->\n",
    "$$\n",
    "\\newcommand{\\Xs}{\\mathcal{X}}\n",
    "\\newcommand{\\Ys}{\\mathcal{Y}}\n",
    "\\newcommand{\\y}{\\mathbf{y}}\n",
    "\\newcommand{\\balpha}{\\boldsymbol{\\alpha}}\n",
    "\\newcommand{\\bbeta}{\\boldsymbol{\\beta}}\n",
    "\\newcommand{\\aligns}{\\mathbf{a}}\n",
    "\\newcommand{\\align}{a}\n",
    "\\newcommand{\\source}{\\mathbf{s}}\n",
    "\\newcommand{\\target}{\\mathbf{t}}\n",
    "\\newcommand{\\ssource}{s}\n",
    "\\newcommand{\\starget}{t}\n",
    "\\newcommand{\\repr}{\\mathbf{f}}\n",
    "\\newcommand{\\repry}{\\mathbf{g}}\n",
    "\\newcommand{\\x}{\\mathbf{x}}\n",
    "\\newcommand{\\prob}{p}\n",
    "\\newcommand{\\a}{\\alpha}\n",
    "\\newcommand{\\b}{\\beta}\n",
    "\\newcommand{\\vocab}{V}\n",
    "\\newcommand{\\params}{\\boldsymbol{\\theta}}\n",
    "\\newcommand{\\param}{\\theta}\n",
    "\\DeclareMathOperator{\\perplexity}{PP}\n",
    "\\DeclareMathOperator{\\argmax}{argmax}\n",
    "\\DeclareMathOperator{\\argmin}{argmin}\n",
    "\\newcommand{\\train}{\\mathcal{D}}\n",
    "\\newcommand{\\counts}[2]{\\#_{#1}(#2) }\n",
    "\\newcommand{\\length}[1]{\\text{length}(#1) }\n",
    "\\newcommand{\\indi}{\\mathbb{I}}\n",
    "$$"
   ]
  },
  {
   "cell_type": "code",
   "execution_count": 3,
   "metadata": {
    "pycharm": {
     "name": "#%%\n"
    },
    "slideshow": {
     "slide_type": "skip"
    }
   },
   "outputs": [],
   "source": [
    "%load_ext tikzmagic"
   ]
  },
  {
   "cell_type": "markdown",
   "metadata": {
    "pycharm": {
     "name": "#%% md\n"
    },
    "slideshow": {
     "slide_type": "slide"
    }
   },
   "source": [
    "# Parsing"
   ]
  },
  {
   "cell_type": "markdown",
   "metadata": {
    "pycharm": {
     "name": "#%% md\n"
    },
    "slideshow": {
     "slide_type": "slide"
    }
   },
   "source": [
    "## Reading material survey\n",
    "\n",
    "### https://ucph.page.link/w44\n",
    "\n",
    "https://docs.google.com/forms/d/1Su1uANwJ8HM5MKOqXcJKZtJrgVISmR82CxDAHHaV2as/edit#responses"
   ]
  },
  {
   "cell_type": "markdown",
   "metadata": {
    "pycharm": {
     "name": "#%% md\n"
    },
    "slideshow": {
     "slide_type": "subslide"
    }
   },
   "source": [
    "## Schedule\n",
    "\n",
    "+ Parsing motivation\n",
    "\n",
    "+ Exercise: dependency syntax\n",
    "\n",
    "+ Break\n",
    "\n",
    "+ Parsing algorithms\n",
    "\n",
    "+ Exercise: transition-based parsing\n",
    "\n",
    "+ Summary"
   ]
  },
  {
   "cell_type": "markdown",
   "metadata": {
    "pycharm": {
     "name": "#%% md\n"
    },
    "slideshow": {
     "slide_type": "slide"
    }
   },
   "source": [
    "## But first, debt from three weeks ago...\n",
    "\n",
    "### https://ucph.padlet.org/dh/qa"
   ]
  },
  {
   "cell_type": "markdown",
   "metadata": {
    "pycharm": {
     "name": "#%% md\n"
    },
    "slideshow": {
     "slide_type": "slide"
    }
   },
   "source": [
    "## Motivation: information extraction\n",
    "\n",
    "> <font color=\"blue\">Dechra Pharmaceuticals</font>, which has just made its second acquisition, had previously purchased <font color=\"green\">Genitrix</font>.\n",
    "\n",
    "> <font color=\"blue\">Trinity Mirror plc</font>, the largest British newspaper, purchased <font color=\"green\">Local World</font>, its rival.\n",
    "\n",
    "> <font color=\"blue\">Kraft</font>, owner of <font color=\"blue\">Milka</font>, purchased <font color=\"green\">Cadbury Dairy Milk</font> and is now gearing up for a roll-out of its new brand.\n"
   ]
  },
  {
   "cell_type": "markdown",
   "metadata": {
    "pycharm": {
     "name": "#%% md\n"
    },
    "slideshow": {
     "slide_type": "fragment"
    }
   },
   "source": [
    "Syntactic dependency trees to the rescue!\n",
    "\n",
    "Check out [UDPipe](https://lindat.mff.cuni.cz/services/udpipe/run.php?model=english-ewt-ud-2.6-200830&data=Kraft,%20owner%20of%20Milka,%20purchased%20Cadbury%20Dairy%20Milk%20and%20is%20now%20gearing%20up%20for%20a%20roll-out%20of%20its%20new%20brand.) and [Stanza](http://stanza.run/)."
   ]
  },
  {
   "cell_type": "markdown",
   "metadata": {
    "pycharm": {
     "name": "#%% md\n"
    },
    "slideshow": {
     "slide_type": "subslide"
    }
   },
   "source": [
    "## Motivation: question answering by reading comprehension\n",
    "\n",
    "<center>\n",
    "    <img src=\"https://d3i71xaburhd42.cloudfront.net/05dd7254b632376973f3a1b4d39485da17814df5/6-Figure4-1.png\" width=100%>\n",
    "</center>\n",
    "\n",
    "<div style=\"text-align: right;\">\n",
    "    (from [Rajpurkar et al., 2016](https://aclanthology.org/D16-1264))\n",
    "</div>"
   ]
  },
  {
   "cell_type": "markdown",
   "metadata": {
    "pycharm": {
     "name": "#%% md\n"
    },
    "slideshow": {
     "slide_type": "subslide"
    }
   },
   "source": [
    "## Motivation: question answering from knowledge bases\n",
    "\n",
    "<center>\n",
    "    <img src=\"https://d3i71xaburhd42.cloudfront.net/faee0c81a1170402b149500f1b91c51ccaf24027/2-Figure1-1.png\" width=50%>\n",
    "</center>\n",
    "\n",
    "<div style=\"text-align: right;\">\n",
    "    (from [Reddy et al., 2017](https://aclanthology.org/D17-1009/))\n",
    "</div>"
   ]
  },
  {
   "cell_type": "markdown",
   "metadata": {
    "pycharm": {
     "name": "#%% md\n"
    },
    "slideshow": {
     "slide_type": "subslide"
    }
   },
   "source": [
    "## Motivation: machine translation\n",
    "\n",
    "<center>\n",
    "    <img src=\"https://d3i71xaburhd42.cloudfront.net/f4c750cdf8f557eea3a4b76be16e99ec15f0c92b/3-Figure2-1.png\" width=100%>\n",
    "</center>\n",
    "\n",
    "<div style=\"text-align: right;\">\n",
    "    (from [Rasooli et al., 2021](https://arxiv.org/abs/2104.08384))\n",
    "</div>"
   ]
  },
  {
   "cell_type": "markdown",
   "metadata": {
    "pycharm": {
     "name": "#%% md\n"
    },
    "slideshow": {
     "slide_type": "subslide"
    }
   },
   "source": [
    "## Syntactic ambiguity"
   ]
  },
  {
   "cell_type": "code",
   "execution_count": 4,
   "metadata": {
    "pycharm": {
     "name": "#%%\n"
    },
    "slideshow": {
     "slide_type": "-"
    }
   },
   "outputs": [
    {
     "ename": "NameError",
     "evalue": "name 'to_displacy_graph' is not defined",
     "output_type": "error",
     "traceback": [
      "\u001b[0;31m---------------------------------------------------------------------------\u001b[0m",
      "\u001b[0;31mNameError\u001b[0m                                 Traceback (most recent call last)",
      "Input \u001b[0;32mIn [4]\u001b[0m, in \u001b[0;36m<cell line: 12>\u001b[0;34m()\u001b[0m\n\u001b[1;32m      1\u001b[0m conllu \u001b[38;5;241m=\u001b[39m \u001b[38;5;124m\"\"\"\u001b[39m\n\u001b[1;32m      2\u001b[0m \u001b[38;5;124m# ID\tFORM\tLEMMA\tUPOS\tXPOS\tFEATS\tHEAD\tDEPREL\tDEPS\tMISC\u001b[39m\n\u001b[1;32m      3\u001b[0m \u001b[38;5;124m1\tI\t_\t_\t_\t_\t2\tnsubj\t_\t_\u001b[39m\n\u001b[0;32m   (...)\u001b[0m\n\u001b[1;32m      9\u001b[0m \u001b[38;5;124m7\ttelescope\t_\t_\t_\t_\t2\tobl\t_\t_\u001b[39m\n\u001b[1;32m     10\u001b[0m \u001b[38;5;124m\"\"\"\u001b[39m\n\u001b[1;32m     11\u001b[0m \u001b[38;5;66;03m# display(HTML(pd.read_csv(StringIO(conllu), sep=\"\\t\").to_html(index=False)))\u001b[39;00m\n\u001b[0;32m---> 12\u001b[0m arcs, tokens \u001b[38;5;241m=\u001b[39m \u001b[43mto_displacy_graph\u001b[49m(\u001b[38;5;241m*\u001b[39mload_arcs_tokens(conllu))\n\u001b[1;32m     13\u001b[0m render_displacy(arcs, tokens,\u001b[38;5;124m\"\u001b[39m\u001b[38;5;124m2400px\u001b[39m\u001b[38;5;124m\"\u001b[39m)\n",
      "\u001b[0;31mNameError\u001b[0m: name 'to_displacy_graph' is not defined"
     ]
    }
   ],
   "source": [
    "conllu = \"\"\"\n",
    "# ID\tFORM\tLEMMA\tUPOS\tXPOS\tFEATS\tHEAD\tDEPREL\tDEPS\tMISC\n",
    "1\tI\t_\t_\t_\t_\t2\tnsubj\t_\t_\n",
    "2\tsaw\t_\t_\t_\t_\t0\troot\t_\t_\n",
    "3\tthe\t_\t_\t_\t_\t4\tdet\t_\t_\n",
    "4\tstar\t_\t_\t_\t_\t2\tdobj\t_\t_\n",
    "5\twith\t_\t_\t_\t_\t7\tcase\t_\t_\n",
    "6\tthe\t_\t_\t_\t_\t7\tdet\t_\t_\n",
    "7\ttelescope\t_\t_\t_\t_\t2\tobl\t_\t_\n",
    "\"\"\"\n",
    "# display(HTML(pd.read_csv(StringIO(conllu), sep=\"\\t\").to_html(index=False)))\n",
    "arcs, tokens = to_displacy_graph(*load_arcs_tokens(conllu))\n",
    "render_displacy(arcs, tokens,\"2400px\")"
   ]
  },
  {
   "cell_type": "markdown",
   "metadata": {
    "pycharm": {
     "name": "#%% md\n"
    },
    "slideshow": {
     "slide_type": "fragment"
    }
   },
   "source": [
    "<center>\n",
    "    <img src=\"parsing_figures/telescope1.jpeg\" width=30%/>\n",
    "</center>"
   ]
  },
  {
   "cell_type": "markdown",
   "metadata": {
    "pycharm": {
     "name": "#%% md\n"
    },
    "slideshow": {
     "slide_type": "subslide"
    }
   },
   "source": [
    "## Syntactic ambiguity"
   ]
  },
  {
   "cell_type": "code",
   "execution_count": 35,
   "metadata": {
    "pycharm": {
     "name": "#%%\n"
    },
    "slideshow": {
     "slide_type": "-"
    }
   },
   "outputs": [
    {
     "data": {
      "text/html": [
       "\n",
       "<div id='displacy37' style=\"overflow: scroll; width: 2400px;\"></div>\n",
       "<script>\n",
       "$(function() {\n",
       "requirejs.config({\n",
       "    paths: {\n",
       "        'displaCy': ['/files/node_modules/displacy/displacy'],\n",
       "                                              // strip .js ^, require adds it back\n",
       "    },\n",
       "});\n",
       "require(['displaCy'], function() {\n",
       "    console.log(\"Loaded :)\");\n",
       "    const displacy = new displaCy('http://localhost:8000', {\n",
       "        container: '#displacy37',\n",
       "        format: 'spacy',\n",
       "        distance: 150,\n",
       "        offsetX: 0,\n",
       "        wordSpacing: 20,\n",
       "        arrowSpacing: 3,\n",
       "\n",
       "    });\n",
       "    const parse = {\n",
       "        arcs: [{\"start\": 2, \"end\": 4, \"label\": \"dobj\", \"dir\": \"right\"}, {\"start\": 0, \"end\": 2, \"label\": \"root\", \"dir\": \"right\"}, {\"start\": 4, \"end\": 7, \"label\": \"nmod\", \"dir\": \"right\"}, {\"start\": 5, \"end\": 7, \"label\": \"case\", \"dir\": \"left\"}, {\"start\": 1, \"end\": 2, \"label\": \"nsubj\", \"dir\": \"left\"}, {\"start\": 3, \"end\": 4, \"label\": \"det\", \"dir\": \"left\"}, {\"start\": 6, \"end\": 7, \"label\": \"det\", \"dir\": \"left\"}],\n",
       "        words: [{\"text\": \"ROOT\"}, {\"text\": \"I\"}, {\"text\": \"saw\"}, {\"text\": \"the\"}, {\"text\": \"star\"}, {\"text\": \"with\"}, {\"text\": \"the\"}, {\"text\": \"telescope\"}]\n",
       "    };\n",
       "\n",
       "    displacy.render(parse, {\n",
       "        uniqueId: 'render_displacy37'\n",
       "        //color: '#ff0000'\n",
       "    });\n",
       "    return {};\n",
       "});\n",
       "});\n",
       "</script>"
      ],
      "text/plain": [
       "<IPython.core.display.HTML object>"
      ]
     },
     "execution_count": 35,
     "metadata": {},
     "output_type": "execute_result"
    }
   ],
   "source": [
    "conllu = \"\"\"\n",
    "# ID\tFORM\tLEMMA\tUPOS\tXPOS\tFEATS\tHEAD\tDEPREL\tDEPS\tMISC\n",
    "1\tI\t_\t_\t_\t_\t2\tnsubj\t_\t_\n",
    "2\tsaw\t_\t_\t_\t_\t0\troot\t_\t_\n",
    "3\tthe\t_\t_\t_\t_\t4\tdet\t_\t_\n",
    "4\tstar\t_\t_\t_\t_\t2\tdobj\t_\t_\n",
    "5\twith\t_\t_\t_\t_\t7\tcase\t_\t_\n",
    "6\tthe\t_\t_\t_\t_\t7\tdet\t_\t_\n",
    "7\ttelescope\t_\t_\t_\t_\t4\tnmod\t_\t_\n",
    "\"\"\"\n",
    "# display(HTML(pd.read_csv(StringIO(conllu), sep=\"\\t\").to_html(index=False)))\n",
    "arcs, tokens = to_displacy_graph(*load_arcs_tokens(conllu))\n",
    "render_displacy(arcs, tokens,\"2400px\")"
   ]
  },
  {
   "cell_type": "markdown",
   "metadata": {
    "pycharm": {
     "name": "#%% md\n"
    },
    "slideshow": {
     "slide_type": "fragment"
    }
   },
   "source": [
    "<center>\n",
    "    <img src=\"parsing_figures/telescope2.jpg\" width=30%/>\n",
    "</center>"
   ]
  },
  {
   "cell_type": "markdown",
   "metadata": {
    "pycharm": {
     "name": "#%% md\n"
    },
    "slideshow": {
     "slide_type": "subslide"
    }
   },
   "source": [
    "### Need for universal syntactic annotation\n",
    "\n",
    "<center>\n",
    "    <img src=\"../img/ud.png\" width=60%>\n",
    "</center>\n",
    "\n",
    "<div style=\"text-align: right;\">\n",
    "    (from [de Lhoneux, 2019](https://cl.lingfil.uu.se/~miryam/assets/pdf/thesis.pdf))\n",
    "</div>"
   ]
  },
  {
   "cell_type": "markdown",
   "metadata": {
    "pycharm": {
     "name": "#%% md\n"
    },
    "slideshow": {
     "slide_type": "subslide"
    }
   },
   "source": [
    "### Universal Dependencies\n",
    "\n",
    "* Annotation framework featuring [37 syntactic relations](https://universaldependencies.org/u/dep/all.html)\n",
    "* [Treebanks](http://universaldependencies.org/) in over 100 languages\n",
    "* Large project with [over 200 contributors](https://lindat.mff.cuni.cz/repository/xmlui/handle/11234/1-3687)\n",
    "* Linguistically universal [annotation guidelines](https://universaldependencies.org/guidelines.html)"
   ]
  },
  {
   "cell_type": "markdown",
   "metadata": {
    "pycharm": {
     "name": "#%% md\n"
    },
    "slideshow": {
     "slide_type": "subslide"
    }
   },
   "source": [
    "### UD dependency relations\n",
    "\n",
    "<table border=\"1\">\n",
    "  <tr style=\"background-color:cornflowerblue; font-size: x-large; text-align: left;\">\n",
    "      <td style=\"text-align: left;\"> </td>\n",
    "      <td style=\"text-align: left;\"> Nominals </td>\n",
    "      <td style=\"text-align: left;\"> Clauses </td>\n",
    "      <td style=\"text-align: left;\"> Modifier words </td>\n",
    "      <td style=\"text-align: left;\"> Function Words </td>\n",
    "  </tr>\n",
    "  <tr style=\"font-size: x-large; text-align: left;\">\n",
    "      <td style=\"background-color:darkseagreen\">\n",
    "\tCore arguments\n",
    "      </td>\n",
    "      <td style=\"text-align: left;\">\n",
    "\t    <a href=\"https://universaldependencies.org/u/dep/nsubj.html\" title=\"u-dep nsubj\">nsubj</a><br>\n",
    "\t    <a href=\"https://universaldependencies.org/u/dep/obj.html\" title=\"u-dep obj\">obj</a><br>\n",
    "\t    <a href=\"https://universaldependencies.org/u/dep/iobj.html\" title=\"u-dep iobj\">iobj</a>\n",
    "      </td>\n",
    "      <td style=\"text-align: left;\">\n",
    "\t    <a href=\"https://universaldependencies.org/u/dep/csubj.html\" title=\"u-dep csubj\">csubj</a><br>\n",
    "\t    <a href=\"https://universaldependencies.org/u/dep/ccomp.html\" title=\"u-dep ccomp\">ccomp</a><br>\n",
    "\t    <a href=\"https://universaldependencies.org/u/dep/xcomp.html\" title=\"u-dep xcomp\">xcomp</a>\n",
    "      </td>\n",
    "\t  <td style=\"text-align: left;\"></td><td style=\"text-align: left;\"></td>\n",
    "  </tr>\n",
    "  <tr style=\"font-size: x-large; text-align: left;\">\n",
    "      <td style=\"background-color:darkseagreen;\">\n",
    "\tNon-core dependents\n",
    "      </td>\n",
    "      <td style=\"text-align: left;\">\n",
    "\t    <a href=\"https://universaldependencies.org/u/dep/obl.html\" title=\"u-dep obl\">obl</a><br>\n",
    "\t    <a href=\"https://universaldependencies.org/u/dep/vocative.html\" title=\"u-dep vocative\">vocative</a><br>\n",
    "\t    <a href=\"https://universaldependencies.org/u/dep/expl.html\" title=\"u-dep expl\">expl</a><br>\n",
    "\t    <a href=\"https://universaldependencies.org/u/dep/dislocated.html\" title=\"u-dep dislocated\">dislocated</a>\n",
    "      </td>\n",
    "      <td style=\"text-align: left;\">\n",
    "\t    <a href=\"https://universaldependencies.org/u/dep/advcl.html\" title=\"u-dep advcl\">advcl</a>\n",
    "      </td>\n",
    "      <td style=\"text-align: left;\">\n",
    "\t    <a href=\"https://universaldependencies.org/u/dep/advmod.html\" title=\"u-dep advmod\">advmod</a><br>\n",
    "\t    <a href=\"https://universaldependencies.org/u/dep/discourse.html\" title=\"u-dep discourse\">discourse</a>\n",
    "      </td>\n",
    "      <td style=\"text-align: left;\">\n",
    "\t    <a href=\"https://universaldependencies.org/u/dep/aux_.html\" title=\"u-dep aux\">aux</a><br>\n",
    "\t    <a href=\"https://universaldependencies.org/u/dep/cop.html\" title=\"u-dep cop\">cop</a><br>\n",
    "\t    <a href=\"https://universaldependencies.org/u/dep/mark.html\" title=\"u-dep mark\">mark</a>\n",
    "      </td>\n",
    "  </tr>\n",
    "  <tr style=\"font-size: x-large; text-align: left;\">\n",
    "      <td style=\"background-color:darkseagreen\">\n",
    "\tNominal dependents\n",
    "      </td>\n",
    "      <td style=\"text-align: left;\">\n",
    "\t    <a href=\"https://universaldependencies.org/u/dep/nmod.html\" title=\"u-dep nmod\">nmod</a><br>\n",
    "\t    <a href=\"https://universaldependencies.org/u/dep/appos.html\" title=\"u-dep appos\">appos</a><br>\n",
    "\t    <a href=\"https://universaldependencies.org/u/dep/nummod.html\" title=\"u-dep nummod\">nummod</a>\n",
    "      </td>\n",
    "      <td style=\"text-align: left;\">\n",
    "\t    <a href=\"https://universaldependencies.org/u/dep/acl.html\" title=\"u-dep acl\">acl</a>\n",
    "      </td>\n",
    "      <td style=\"text-align: left;\">\n",
    "\t    <a href=\"https://universaldependencies.org/u/dep/amod.html\" title=\"u-dep amod\">amod</a>\n",
    "      </td>\n",
    "      <td style=\"text-align: left;\">\n",
    "\t    <a href=\"https://universaldependencies.org/u/dep/det.html\" title=\"u-dep det\">det</a><br>\n",
    "\t    <a href=\"https://universaldependencies.org/u/dep/clf.html\" title=\"u-dep clf\">clf</a><br>\n",
    "\t    <a href=\"https://universaldependencies.org/u/dep/case.html\" title=\"u-dep case\">case</a>\n",
    "      </td>\n",
    "  </tr style=\"font-size: x-large; text-align: left;\">\n",
    "  <tr style=\"background-color:cornflowerblue; font-size: x-large; text-align: left;\">\n",
    "      <td style=\"text-align: left;\"> Coordination </td>\n",
    "      <td style=\"text-align: left;\"> MWE </td>\n",
    "      <td style=\"text-align: left;\"> Loose </td>\n",
    "      <td style=\"text-align: left;\"> Special </td>\n",
    "      <td style=\"text-align: left;\"> Other </td>\n",
    "  </tr>\n",
    "  <tr style=\"font-size: x-large; text-align: left;\">\n",
    "      <td style=\"text-align: left;\">\n",
    "\t    <a href=\"https://universaldependencies.org/u/dep/conj.html\" title=\"u-dep conj\">conj</a><br>\n",
    "\t    <a href=\"https://universaldependencies.org/u/dep/cc.html\" title=\"u-dep cc\">cc</a>\n",
    "      </td>\n",
    "      <td style=\"text-align: left;\">\n",
    "\t  <a href=\"https://universaldependencies.org/u/dep/fixed.html\" title=\"u-dep fixed\">fixed</a><br>\n",
    "\t  <a href=\"https://universaldependencies.org/u/dep/flat.html\" title=\"u-dep flat\">flat</a><br>\n",
    "\t  <a href=\"https://universaldependencies.org/u/dep/compound.html\" title=\"u-dep compound\">compound</a>\n",
    "    </td>\n",
    "    <td style=\"text-align: left;\">\n",
    "\t  <a href=\"https://universaldependencies.org/u/dep/list.html\" title=\"u-dep list\">list</a><br>\n",
    "\t  <a href=\"https://universaldependencies.org/u/dep/parataxis.html\" title=\"u-dep parataxis\">parataxis</a>\n",
    "    </td>\n",
    "    <td style=\"text-align: left;\">\n",
    "\t  <a href=\"https://universaldependencies.org/u/dep/orphan.html\" title=\"u-dep orphan\">orphan</a><br>\n",
    "\t  <a href=\"https://universaldependencies.org/u/dep/goeswith.html\" title=\"u-dep goeswith\">goeswith</a><br>\n",
    "\t  <a href=\"https://universaldependencies.org/u/dep/reparandum.html\" title=\"u-dep reparandum\">reparandum</a>\n",
    "    </td>\n",
    "    <td style=\"text-align: left;\">\n",
    "\t  <a href=\"https://universaldependencies.org/u/dep/punct.html\" title=\"u-dep punct\">punct</a><br>\n",
    "\t  <a href=\"https://universaldependencies.org/u/dep/root.html\" title=\"u-dep root\">root</a><br>\n",
    "\t  <a href=\"https://universaldependencies.org/u/dep/dep.html\" title=\"u-dep dep\">dep</a>\n",
    "    </td>\n",
    "  </tr>\n",
    "</table>"
   ]
  },
  {
   "cell_type": "markdown",
   "metadata": {
    "pycharm": {
     "name": "#%% md\n"
    },
    "slideshow": {
     "slide_type": "subslide"
    }
   },
   "source": [
    "## Universal POS tags (UPOS)\n",
    "\n",
    "As opposed to language-specific POS tags (XPOS).\n",
    "\n",
    "<table class=\"typeindex\">\n",
    "  <thead>\n",
    "    <tr style=\"font-size: x-large; text-align: left;\">\n",
    "      <th>Open class words</th>\n",
    "      <th>Closed class words</th>\n",
    "      <th>Other</th>\n",
    "    </tr>\n",
    "  </thead>\n",
    "  <tbody>\n",
    "    <tr style=\"font-size: x-large; text-align: left;\">\n",
    "      <td style=\"text-align: left;\"><a href=\"https://universaldependencies.org/u/pos/ADJ.html\" class=\"doclink doclabel\" title=\"u-pos ADJ\">ADJ</a></td>\n",
    "      <td style=\"text-align: left;\"><a href=\"https://universaldependencies.org/u/pos/ADP.html\" class=\"doclink doclabel\" title=\"u-pos ADP\">ADP</a></td>\n",
    "      <td style=\"text-align: left;\"><a href=\"https://universaldependencies.org/u/pos/PUNCT.html\" class=\"doclink doclabel\" title=\"u-pos PUNCT\">PUNCT</a></td>\n",
    "    </tr>\n",
    "    <tr style=\"font-size: x-large; text-align: left;\">\n",
    "      <td style=\"text-align: left;\"><a href=\"https://universaldependencies.org/u/pos/ADV.html\" class=\"doclink doclabel\" title=\"u-pos ADV\">ADV</a></td>\n",
    "      <td style=\"text-align: left;\"><a href=\"https://universaldependencies.org/u/pos/AUX_.html\" class=\"doclink doclabel\" title=\"u-pos AUX\">AUX</a></td>\n",
    "      <td style=\"text-align: left;\"><a href=\"https://universaldependencies.org/u/pos/SYM.html\" class=\"doclink doclabel\" title=\"u-pos SYM\">SYM</a></td>\n",
    "    </tr>\n",
    "    <tr style=\"font-size: x-large; text-align: left;\">\n",
    "      <td style=\"text-align: left;\"><a href=\"https://universaldependencies.org/u/pos/INTJ.html\" class=\"doclink doclabel\" title=\"u-pos INTJ\">INTJ</a></td>\n",
    "      <td style=\"text-align: left;\"><a href=\"https://universaldependencies.org/u/pos/CCONJ.html\" class=\"doclink doclabel\" title=\"u-pos CCONJ\">CCONJ</a></td>\n",
    "      <td style=\"text-align: left;\"><a href=\"https://universaldependencies.org/u/pos/X.html\" class=\"doclink doclabel\" title=\"u-pos X\">X</a></td>\n",
    "    </tr>\n",
    "    <tr style=\"font-size: x-large; text-align: left;\">\n",
    "      <td style=\"text-align: left;\"><a href=\"https://universaldependencies.org/u/pos/NOUN.html\" class=\"doclink doclabel\" title=\"u-pos NOUN\">NOUN</a></td>\n",
    "      <td style=\"text-align: left;\"><a href=\"https://universaldependencies.org/u/pos/DET.html\" class=\"doclink doclabel\" title=\"u-pos DET\">DET</a></td>\n",
    "      <td style=\"text-align: left;\">&nbsp;</td>\n",
    "    </tr>\n",
    "    <tr style=\"font-size: x-large; text-align: left;\">\n",
    "      <td style=\"text-align: left;\"><a href=\"https://universaldependencies.org/u/pos/PROPN.html\" class=\"doclink doclabel\" title=\"u-pos PROPN\">PROPN</a></td>\n",
    "      <td style=\"text-align: left;\"><a href=\"https://universaldependencies.org/u/pos/NUM.html\" class=\"doclink doclabel\" title=\"u-pos NUM\">NUM</a></td>\n",
    "      <td style=\"text-align: left;\">&nbsp;</td>\n",
    "    </tr>\n",
    "    <tr style=\"font-size: x-large; text-align: left;\">\n",
    "      <td style=\"text-align: left;\"><a href=\"https://universaldependencies.org/u/pos/VERB.html\" class=\"doclink doclabel\" title=\"u-pos VERB\">VERB</a></td>\n",
    "      <td style=\"text-align: left;\"><a href=\"https://universaldependencies.org/u/pos/PART.html\" class=\"doclink doclabel\" title=\"u-pos PART\">PART</a></td>\n",
    "      <td style=\"text-align: left;\">&nbsp;</td>\n",
    "    </tr>\n",
    "    <tr style=\"font-size: x-large; text-align: left;\">\n",
    "      <td style=\"text-align: left;\">&nbsp;</td>\n",
    "      <td style=\"text-align: left;\"><a href=\"https://universaldependencies.org/u/pos/PRON.html\" class=\"doclink doclabel\" title=\"u-pos PRON\">PRON</a></td>\n",
    "      <td style=\"text-align: left;\">&nbsp;</td>\n",
    "    </tr>\n",
    "    <tr style=\"font-size: x-large; text-align: left;\">\n",
    "      <td style=\"text-align: left;\">&nbsp;</td>\n",
    "      <td style=\"text-align: left;\"><a href=\"https://universaldependencies.org/u/pos/SCONJ.html\" class=\"doclink doclabel\" title=\"u-pos SCONJ\">SCONJ</a></td>\n",
    "      <td style=\"text-align: left;\">&nbsp;</td>\n",
    "    </tr>\n",
    "  </tbody>\n",
    "</table>"
   ]
  },
  {
   "cell_type": "markdown",
   "metadata": {
    "pycharm": {
     "name": "#%% md\n"
    },
    "slideshow": {
     "slide_type": "subslide"
    }
   },
   "source": [
    "### Danish example"
   ]
  },
  {
   "cell_type": "code",
   "execution_count": 36,
   "metadata": {
    "pycharm": {
     "name": "#%%\n"
    },
    "slideshow": {
     "slide_type": "-"
    }
   },
   "outputs": [
    {
     "data": {
      "text/html": [
       "<table border=\"1\" class=\"dataframe\">\n",
       "  <thead>\n",
       "    <tr style=\"text-align: right;\">\n",
       "      <th># ID</th>\n",
       "      <th>FORM</th>\n",
       "      <th>LEMMA</th>\n",
       "      <th>UPOS</th>\n",
       "      <th>XPOS</th>\n",
       "      <th>FEATS</th>\n",
       "      <th>HEAD</th>\n",
       "      <th>DEPREL</th>\n",
       "      <th>DEPS</th>\n",
       "      <th>MISC</th>\n",
       "    </tr>\n",
       "  </thead>\n",
       "  <tbody>\n",
       "    <tr>\n",
       "      <td>1</td>\n",
       "      <td>Alice</td>\n",
       "      <td>Alice</td>\n",
       "      <td>NOUN</td>\n",
       "      <td>_</td>\n",
       "      <td>_</td>\n",
       "      <td>2</td>\n",
       "      <td>nsubj</td>\n",
       "      <td>_</td>\n",
       "      <td>_</td>\n",
       "    </tr>\n",
       "    <tr>\n",
       "      <td>2</td>\n",
       "      <td>så</td>\n",
       "      <td>se</td>\n",
       "      <td>VERB</td>\n",
       "      <td>_</td>\n",
       "      <td>_</td>\n",
       "      <td>0</td>\n",
       "      <td>root</td>\n",
       "      <td>_</td>\n",
       "      <td>_</td>\n",
       "    </tr>\n",
       "    <tr>\n",
       "      <td>3</td>\n",
       "      <td>Bob</td>\n",
       "      <td>Bob</td>\n",
       "      <td>PROPN</td>\n",
       "      <td>_</td>\n",
       "      <td>_</td>\n",
       "      <td>2</td>\n",
       "      <td>obj</td>\n",
       "      <td>_</td>\n",
       "      <td>_</td>\n",
       "    </tr>\n",
       "  </tbody>\n",
       "</table>"
      ],
      "text/plain": [
       "<IPython.core.display.HTML object>"
      ]
     },
     "metadata": {},
     "output_type": "display_data"
    },
    {
     "data": {
      "text/html": [
       "\n",
       "<div id='displacy38' style=\"overflow: scroll; width: 1400px;\"></div>\n",
       "<script>\n",
       "$(function() {\n",
       "requirejs.config({\n",
       "    paths: {\n",
       "        'displaCy': ['/files/node_modules/displacy/displacy'],\n",
       "                                              // strip .js ^, require adds it back\n",
       "    },\n",
       "});\n",
       "require(['displaCy'], function() {\n",
       "    console.log(\"Loaded :)\");\n",
       "    const displacy = new displaCy('http://localhost:8000', {\n",
       "        container: '#displacy38',\n",
       "        format: 'spacy',\n",
       "        distance: 150,\n",
       "        offsetX: 0,\n",
       "        wordSpacing: 20,\n",
       "        arrowSpacing: 3,\n",
       "\n",
       "    });\n",
       "    const parse = {\n",
       "        arcs: [{\"start\": 1, \"end\": 2, \"label\": \"nsubj\", \"dir\": \"left\"}, {\"start\": 0, \"end\": 2, \"label\": \"root\", \"dir\": \"right\"}, {\"start\": 2, \"end\": 3, \"label\": \"obj\", \"dir\": \"right\"}],\n",
       "        words: [{\"text\": \"ROOT\"}, {\"text\": \"Alice\"}, {\"text\": \"s\\u00e5\"}, {\"text\": \"Bob\"}]\n",
       "    };\n",
       "\n",
       "    displacy.render(parse, {\n",
       "        uniqueId: 'render_displacy38'\n",
       "        //color: '#ff0000'\n",
       "    });\n",
       "    return {};\n",
       "});\n",
       "});\n",
       "</script>"
      ],
      "text/plain": [
       "<IPython.core.display.HTML object>"
      ]
     },
     "execution_count": 36,
     "metadata": {},
     "output_type": "execute_result"
    }
   ],
   "source": [
    "conllu = \"\"\"\n",
    "# ID\tFORM\tLEMMA\tUPOS\tXPOS\tFEATS\tHEAD\tDEPREL\tDEPS\tMISC\n",
    "1\tAlice\tAlice\tNOUN\t_\t_\t2\tnsubj\t_\t_\n",
    "2\tså\tse\tVERB\t_\t_\t0\troot\t_\t_\n",
    "3\tBob\tBob\tPROPN\t_\t_\t2\tobj\t_\t_\n",
    "\"\"\"\n",
    "display(HTML(pd.read_csv(StringIO(conllu), sep=\"\\t\").to_html(index=False)))\n",
    "arcs, tokens = to_displacy_graph(*load_arcs_tokens(conllu))\n",
    "render_displacy(arcs, tokens,\"1400px\")"
   ]
  },
  {
   "cell_type": "markdown",
   "metadata": {
    "pycharm": {
     "name": "#%% md\n"
    },
    "slideshow": {
     "slide_type": "fragment"
    }
   },
   "source": [
    "### Korean example"
   ]
  },
  {
   "cell_type": "code",
   "execution_count": 37,
   "metadata": {
    "pycharm": {
     "name": "#%%\n"
    },
    "slideshow": {
     "slide_type": "-"
    }
   },
   "outputs": [
    {
     "data": {
      "text/html": [
       "<table border=\"1\" class=\"dataframe\">\n",
       "  <thead>\n",
       "    <tr style=\"text-align: right;\">\n",
       "      <th># ID</th>\n",
       "      <th>FORM</th>\n",
       "      <th>LEMMA</th>\n",
       "      <th>UPOS</th>\n",
       "      <th>XPOS</th>\n",
       "      <th>FEATS</th>\n",
       "      <th>HEAD</th>\n",
       "      <th>DEPREL</th>\n",
       "      <th>DEPS</th>\n",
       "      <th>MISC</th>\n",
       "    </tr>\n",
       "  </thead>\n",
       "  <tbody>\n",
       "    <tr>\n",
       "      <td>1</td>\n",
       "      <td>앨리스는</td>\n",
       "      <td>앨리스+는</td>\n",
       "      <td>NOUN</td>\n",
       "      <td>_</td>\n",
       "      <td>_</td>\n",
       "      <td>3</td>\n",
       "      <td>nsubj</td>\n",
       "      <td>_</td>\n",
       "      <td>_</td>\n",
       "    </tr>\n",
       "    <tr>\n",
       "      <td>2</td>\n",
       "      <td>밥을</td>\n",
       "      <td>밥+을</td>\n",
       "      <td>NOUN</td>\n",
       "      <td>_</td>\n",
       "      <td>_</td>\n",
       "      <td>3</td>\n",
       "      <td>obj</td>\n",
       "      <td>_</td>\n",
       "      <td>_</td>\n",
       "    </tr>\n",
       "    <tr>\n",
       "      <td>3</td>\n",
       "      <td>보았다</td>\n",
       "      <td>보+았+다</td>\n",
       "      <td>VERB</td>\n",
       "      <td>_</td>\n",
       "      <td>_</td>\n",
       "      <td>0</td>\n",
       "      <td>root</td>\n",
       "      <td>_</td>\n",
       "      <td>_</td>\n",
       "    </tr>\n",
       "  </tbody>\n",
       "</table>"
      ],
      "text/plain": [
       "<IPython.core.display.HTML object>"
      ]
     },
     "metadata": {},
     "output_type": "display_data"
    },
    {
     "data": {
      "text/html": [
       "\n",
       "<div id='displacy39' style=\"overflow: scroll; width: 1400px;\"></div>\n",
       "<script>\n",
       "$(function() {\n",
       "requirejs.config({\n",
       "    paths: {\n",
       "        'displaCy': ['/files/node_modules/displacy/displacy'],\n",
       "                                              // strip .js ^, require adds it back\n",
       "    },\n",
       "});\n",
       "require(['displaCy'], function() {\n",
       "    console.log(\"Loaded :)\");\n",
       "    const displacy = new displaCy('http://localhost:8000', {\n",
       "        container: '#displacy39',\n",
       "        format: 'spacy',\n",
       "        distance: 150,\n",
       "        offsetX: 0,\n",
       "        wordSpacing: 20,\n",
       "        arrowSpacing: 3,\n",
       "\n",
       "    });\n",
       "    const parse = {\n",
       "        arcs: [{\"start\": 1, \"end\": 3, \"label\": \"nsubj\", \"dir\": \"left\"}, {\"start\": 2, \"end\": 3, \"label\": \"obj\", \"dir\": \"left\"}, {\"start\": 0, \"end\": 3, \"label\": \"root\", \"dir\": \"right\"}],\n",
       "        words: [{\"text\": \"ROOT\"}, {\"text\": \"\\uc568\\ub9ac\\uc2a4\\ub294\"}, {\"text\": \"\\ubc25\\uc744\"}, {\"text\": \"\\ubcf4\\uc558\\ub2e4\"}]\n",
       "    };\n",
       "\n",
       "    displacy.render(parse, {\n",
       "        uniqueId: 'render_displacy39'\n",
       "        //color: '#ff0000'\n",
       "    });\n",
       "    return {};\n",
       "});\n",
       "});\n",
       "</script>"
      ],
      "text/plain": [
       "<IPython.core.display.HTML object>"
      ]
     },
     "execution_count": 37,
     "metadata": {},
     "output_type": "execute_result"
    }
   ],
   "source": [
    "conllu = \"\"\"\n",
    "# ID\tFORM\tLEMMA\tUPOS\tXPOS\tFEATS\tHEAD\tDEPREL\tDEPS\tMISC\n",
    "1\t앨리스는\t앨리스+는\tNOUN\t_\t_\t3\tnsubj\t_\t_\n",
    "2\t밥을\t밥+을\tNOUN\t_\t_\t3\tobj\t_\t_\n",
    "3\t보았다\t보+았+다\tVERB\t_\t_\t0\troot\t_\t_\n",
    "\"\"\"\n",
    "display(HTML(pd.read_csv(StringIO(conllu), sep=\"\\t\").to_html(index=False)))\n",
    "arcs, tokens = to_displacy_graph(*load_arcs_tokens(conllu))\n",
    "render_displacy(arcs, tokens,\"1400px\")"
   ]
  },
  {
   "cell_type": "markdown",
   "metadata": {
    "pycharm": {
     "name": "#%% md\n"
    },
    "slideshow": {
     "slide_type": "slide"
    }
   },
   "source": [
    "## Dependency syntax exercise\n",
    "\n",
    "### https://ucph.page.link/dep"
   ]
  },
  {
   "cell_type": "markdown",
   "metadata": {
    "pycharm": {
     "name": "#%% md\n"
    },
    "slideshow": {
     "slide_type": "slide"
    }
   },
   "source": [
    "## Dependency parsing\n",
    "\n",
    "* Predict **head** and **relation** for each word.\n",
    "* Classification? Sequence tagging? Sequence-to-sequence? Span selection? Or something else?"
   ]
  },
  {
   "cell_type": "code",
   "execution_count": 38,
   "metadata": {
    "pycharm": {
     "name": "#%%\n"
    },
    "slideshow": {
     "slide_type": "-"
    }
   },
   "outputs": [
    {
     "data": {
      "text/html": [
       "<table border=\"1\" class=\"dataframe\">\n",
       "  <thead>\n",
       "    <tr style=\"text-align: right;\">\n",
       "      <th># ID</th>\n",
       "      <th>FORM</th>\n",
       "      <th>LEMMA</th>\n",
       "      <th>UPOS</th>\n",
       "      <th>XPOS</th>\n",
       "      <th>FEATS</th>\n",
       "      <th>HEAD</th>\n",
       "      <th>DEPREL</th>\n",
       "      <th>DEPS</th>\n",
       "      <th>MISC</th>\n",
       "    </tr>\n",
       "  </thead>\n",
       "  <tbody>\n",
       "    <tr>\n",
       "      <td>1</td>\n",
       "      <td>Alice</td>\n",
       "      <td>_</td>\n",
       "      <td>_</td>\n",
       "      <td>_</td>\n",
       "      <td>_</td>\n",
       "      <td>2</td>\n",
       "      <td>nsubj</td>\n",
       "      <td>_</td>\n",
       "      <td>_</td>\n",
       "    </tr>\n",
       "    <tr>\n",
       "      <td>2</td>\n",
       "      <td>saw</td>\n",
       "      <td>_</td>\n",
       "      <td>_</td>\n",
       "      <td>_</td>\n",
       "      <td>_</td>\n",
       "      <td>0</td>\n",
       "      <td>root</td>\n",
       "      <td>_</td>\n",
       "      <td>_</td>\n",
       "    </tr>\n",
       "    <tr>\n",
       "      <td>3</td>\n",
       "      <td>Bob</td>\n",
       "      <td>_</td>\n",
       "      <td>_</td>\n",
       "      <td>_</td>\n",
       "      <td>_</td>\n",
       "      <td>2</td>\n",
       "      <td>dobj</td>\n",
       "      <td>_</td>\n",
       "      <td>_</td>\n",
       "    </tr>\n",
       "  </tbody>\n",
       "</table>"
      ],
      "text/plain": [
       "<IPython.core.display.HTML object>"
      ]
     },
     "metadata": {},
     "output_type": "display_data"
    }
   ],
   "source": [
    "conllu = \"\"\"\n",
    "# ID\tFORM\tLEMMA\tUPOS\tXPOS\tFEATS\tHEAD\tDEPREL\tDEPS\tMISC\n",
    "1\tAlice\t_\t_\t_\t_\t2\tnsubj\t_\t_\n",
    "2\tsaw\t_\t_\t_\t_\t0\troot\t_\t_\n",
    "3\tBob\t_\t_\t_\t_\t2\tdobj\t_\t_\n",
    "\"\"\"\n",
    "display(HTML(pd.read_csv(StringIO(conllu), sep=\"\\t\").to_html(index=False)))"
   ]
  },
  {
   "cell_type": "markdown",
   "metadata": {
    "pycharm": {
     "name": "#%% md\n"
    },
    "slideshow": {
     "slide_type": "subslide"
    }
   },
   "source": [
    "## Dependency parsing approaches\n",
    "\n",
    "* Graph-based: score all possible parts (e.g. word pairs), find best combination (e.g. maximum spanning tree)\n",
    "* Transition-based: incrementally build the tree, one arc at a time, by applying a sequence of actions"
   ]
  },
  {
   "cell_type": "markdown",
   "metadata": {
    "pycharm": {
     "name": "#%% md\n"
    },
    "slideshow": {
     "slide_type": "subslide"
    }
   },
   "source": [
    "## Transition-based parsing: configuration\n",
    "\n",
    "Consists of a buffer, stack and set of arcs created so far."
   ]
  },
  {
   "cell_type": "markdown",
   "metadata": {
    "pycharm": {
     "name": "#%% md\n"
    },
    "slideshow": {
     "slide_type": "subslide"
    }
   },
   "source": [
    "### Buffer\n",
    "of tokens waiting for processing"
   ]
  },
  {
   "cell_type": "code",
   "execution_count": 39,
   "metadata": {
    "pycharm": {
     "name": "#%%\n"
    },
    "slideshow": {
     "slide_type": "fragment"
    }
   },
   "outputs": [
    {
     "data": {
      "text/html": [
       "<table><tr><td style='font-size: x-large;'>stack</td><td style='font-size: x-large;'>buffer</td><td style='font-size: x-large;'>parse</td><td style='font-size: x-large;'>action</td></tr>\n",
       "<tr><td style='font-size: x-large;'>ROOT</td><td style='font-size: x-large;'>Alice saw Bob</td><td style='font-size: x-large;'>\n",
       "    <div id='displacy40' style=\"overflow: scroll; width: 500px;\"></div>\n",
       "    <script>\n",
       "    $(function() {\n",
       "    requirejs.config({\n",
       "        paths: {\n",
       "            'displaCy': ['/files/node_modules/displacy/displacy'],\n",
       "                                                  // strip .js ^, require adds it back\n",
       "        },\n",
       "    });\n",
       "    require(['displaCy'], function() {\n",
       "        console.log(\"Loaded :)\");\n",
       "        const displacy = new displaCy('http://localhost:8000', {\n",
       "            container: '#displacy40',\n",
       "            format: 'spacy',\n",
       "            distance: 150,\n",
       "            offsetX: 0,\n",
       "            wordSpacing: 20,\n",
       "            arrowSpacing: 3,\n",
       "\n",
       "        });\n",
       "        const parse = {\n",
       "            arcs: [],\n",
       "            words: [{\"text\": \"ROOT\"}, {\"text\": \"Alice\"}]\n",
       "        };\n",
       "\n",
       "        displacy.render(parse, {\n",
       "            uniqueId: 'render_displacy40'\n",
       "            //color: '#ff0000'\n",
       "        });\n",
       "        return {};\n",
       "    });\n",
       "    });\n",
       "    </script></td><td style='font-size: x-large;'></td></tr></table>"
      ],
      "text/plain": [
       "<statnlpbook.transition.render_transitions_displacy.<locals>.Output at 0x7fed8194cb38>"
      ]
     },
     "execution_count": 39,
     "metadata": {},
     "output_type": "execute_result"
    }
   ],
   "source": [
    "render_transitions_displacy(transitions[0:1], tokenized_sentence)"
   ]
  },
  {
   "cell_type": "markdown",
   "metadata": {
    "pycharm": {
     "is_executing": false,
     "name": "#%% md\n"
    },
    "slideshow": {
     "slide_type": "subslide"
    }
   },
   "source": [
    "### Stack\n",
    "of tokens currently being processed"
   ]
  },
  {
   "cell_type": "code",
   "execution_count": 40,
   "metadata": {
    "pycharm": {
     "name": "#%%\n"
    },
    "slideshow": {
     "slide_type": "fragment"
    }
   },
   "outputs": [
    {
     "data": {
      "text/html": [
       "<table><tr><td style='font-size: x-large;'>stack</td><td style='font-size: x-large;'>buffer</td><td style='font-size: x-large;'>parse</td><td style='font-size: x-large;'>action</td></tr>\n",
       "<tr><td style='font-size: x-large;'>ROOT Alice saw</td><td style='font-size: x-large;'>Bob</td><td style='font-size: x-large;'>\n",
       "    <div id='displacy41' style=\"overflow: scroll; width: 500px;\"></div>\n",
       "    <script>\n",
       "    $(function() {\n",
       "    requirejs.config({\n",
       "        paths: {\n",
       "            'displaCy': ['/files/node_modules/displacy/displacy'],\n",
       "                                                  // strip .js ^, require adds it back\n",
       "        },\n",
       "    });\n",
       "    require(['displaCy'], function() {\n",
       "        console.log(\"Loaded :)\");\n",
       "        const displacy = new displaCy('http://localhost:8000', {\n",
       "            container: '#displacy41',\n",
       "            format: 'spacy',\n",
       "            distance: 150,\n",
       "            offsetX: 0,\n",
       "            wordSpacing: 20,\n",
       "            arrowSpacing: 3,\n",
       "\n",
       "        });\n",
       "        const parse = {\n",
       "            arcs: [],\n",
       "            words: [{\"text\": \"ROOT\"}, {\"text\": \"Alice\"}, {\"text\": \"saw\"}, {\"text\": \"Bob\"}]\n",
       "        };\n",
       "\n",
       "        displacy.render(parse, {\n",
       "            uniqueId: 'render_displacy41'\n",
       "            //color: '#ff0000'\n",
       "        });\n",
       "        return {};\n",
       "    });\n",
       "    });\n",
       "    </script></td><td style='font-size: x-large;'>shift</td></tr></table>"
      ],
      "text/plain": [
       "<statnlpbook.transition.render_transitions_displacy.<locals>.Output at 0x7fed8194ca90>"
      ]
     },
     "execution_count": 40,
     "metadata": {},
     "output_type": "execute_result"
    }
   ],
   "source": [
    "render_transitions_displacy(transitions[2:3],tokenized_sentence)"
   ]
  },
  {
   "cell_type": "markdown",
   "metadata": {
    "pycharm": {
     "is_executing": false,
     "name": "#%% md\n"
    },
    "slideshow": {
     "slide_type": "subslide"
    }
   },
   "source": [
    "### Parse tree (set of arcs)\n",
    "tree built so far"
   ]
  },
  {
   "cell_type": "code",
   "execution_count": 41,
   "metadata": {
    "pycharm": {
     "name": "#%%\n"
    },
    "slideshow": {
     "slide_type": "fragment"
    }
   },
   "outputs": [
    {
     "data": {
      "text/html": [
       "<table><tr><td style='font-size: x-large;'>stack</td><td style='font-size: x-large;'>buffer</td><td style='font-size: x-large;'>parse</td><td style='font-size: x-large;'>action</td></tr>\n",
       "<tr><td style='font-size: x-large;'>ROOT</td><td style='font-size: x-large;'></td><td style='font-size: x-large;'>\n",
       "    <div id='displacy42' style=\"overflow: scroll; width: 500px;\"></div>\n",
       "    <script>\n",
       "    $(function() {\n",
       "    requirejs.config({\n",
       "        paths: {\n",
       "            'displaCy': ['/files/node_modules/displacy/displacy'],\n",
       "                                                  // strip .js ^, require adds it back\n",
       "        },\n",
       "    });\n",
       "    require(['displaCy'], function() {\n",
       "        console.log(\"Loaded :)\");\n",
       "        const displacy = new displaCy('http://localhost:8000', {\n",
       "            container: '#displacy42',\n",
       "            format: 'spacy',\n",
       "            distance: 150,\n",
       "            offsetX: 0,\n",
       "            wordSpacing: 20,\n",
       "            arrowSpacing: 3,\n",
       "\n",
       "        });\n",
       "        const parse = {\n",
       "            arcs: [{\"start\": 1, \"end\": 2, \"label\": \"nsubj\", \"dir\": \"left\"}, {\"start\": 0, \"end\": 2, \"label\": \"root\", \"dir\": \"right\"}, {\"start\": 2, \"end\": 3, \"label\": \"dobj\", \"dir\": \"right\"}],\n",
       "            words: [{\"text\": \"ROOT\"}, {\"text\": \"Alice\"}, {\"text\": \"saw\"}, {\"text\": \"Bob\"}]\n",
       "        };\n",
       "\n",
       "        displacy.render(parse, {\n",
       "            uniqueId: 'render_displacy42'\n",
       "            //color: '#ff0000'\n",
       "        });\n",
       "        return {};\n",
       "    });\n",
       "    });\n",
       "    </script></td><td style='font-size: x-large;'>rightArc-root</td></tr></table>"
      ],
      "text/plain": [
       "<statnlpbook.transition.render_transitions_displacy.<locals>.Output at 0x7fed8194cf28>"
      ]
     },
     "execution_count": 41,
     "metadata": {},
     "output_type": "execute_result"
    }
   ],
   "source": [
    "render_transitions_displacy(transitions[6:7], tokenized_sentence)"
   ]
  },
  {
   "cell_type": "markdown",
   "metadata": {
    "pycharm": {
     "is_executing": false,
     "name": "#%% md\n"
    },
    "slideshow": {
     "slide_type": "subslide"
    }
   },
   "source": [
    "### Configuration\n",
    "\n",
    "- Stack \\\\(S\\\\): a last-in, first-out memory to keep track of words to process later\n",
    "- Buffer \\\\(B\\\\): words not processed yet\n",
    "- Arcs \\\\(A\\\\): the dependency arcs created so far"
   ]
  },
  {
   "cell_type": "markdown",
   "metadata": {
    "pycharm": {
     "name": "#%% md\n"
    },
    "slideshow": {
     "slide_type": "fragment"
    }
   },
   "source": [
    "What are the possible actions? Depends which system we are using!"
   ]
  },
  {
   "cell_type": "markdown",
   "metadata": {
    "pycharm": {
     "name": "#%% md\n"
    },
    "slideshow": {
     "slide_type": "subslide"
    }
   },
   "source": [
    "### arc-standard\n",
    "\n",
    "- SHIFT: move the buffer top to the stack.\n",
    "- RIGHT-ARC: create arc from second stack item to stack top. Pop stack top.\n",
    "- LEFT-ARC: create arc from stack top to second stack item. Pop second stack item."
   ]
  },
  {
   "cell_type": "markdown",
   "metadata": {
    "pycharm": {
     "name": "#%% md\n"
    },
    "slideshow": {
     "slide_type": "fragment"
    }
   },
   "source": [
    "Two special configurations:\n",
    "- initial: buffer contains the words, stack contains root, and arcs are empty\n",
    "- terminal: buffer is empty, stack contains only root"
   ]
  },
  {
   "cell_type": "markdown",
   "metadata": {
    "pycharm": {
     "name": "#%% md\n"
    },
    "slideshow": {
     "slide_type": "subslide"
    }
   },
   "source": [
    "### arc-standard: example\n",
    "\n",
    "<center>\n",
    "    <img src=\"parsing_figures/tb_example.png\" width=100%/>\n",
    "</center>"
   ]
  },
  {
   "cell_type": "markdown",
   "metadata": {
    "pycharm": {
     "name": "#%% md\n"
    },
    "slideshow": {
     "slide_type": "subslide"
    }
   },
   "source": [
    "## Alternative transition systems\n",
    "+ arc-standard ([Nivre, 2003](https://aclanthology.org/W03-3017/))\n",
    "+ arc-eager ([Nivre, 2004](https://www.aclweb.org/anthology/W04-0308))\n",
    "+ arc-hybrid ([Kuhlmann et al., 2011](https://aclanthology.org/P11-1068/))"
   ]
  },
  {
   "cell_type": "markdown",
   "metadata": {
    "pycharm": {
     "name": "#%% md\n"
    },
    "slideshow": {
     "slide_type": "subslide"
    }
   },
   "source": [
    "## arc-hybrid\n",
    "\n",
    "### https://danielhers.github.io/archybrid.pdf\n",
    "\n",
    "https://app.quizalize.com/dash/R3JvdXA6YTUzMGNkZjItYTRiYS00NGM2LTk3ZGEtZDc4YjlkMjkyODg4/activity/QWN0aXZpdHk6MmU3NzUxYjQtMjljNy00ZTI2LWFiOTMtNjM2ZWUxZWNjMGI2/overview"
   ]
  },
  {
   "cell_type": "markdown",
   "metadata": {
    "pycharm": {
     "name": "#%% md\n"
    },
    "slideshow": {
     "slide_type": "subslide"
    }
   },
   "source": [
    "## arc-hybrid vs arc-standard\n",
    "<table class=\"typeindex\">\n",
    "  <thead>\n",
    "    <tr style=\"font-size: x-large; text-align: left;\">\n",
    "      <th></th>\n",
    "      <th>arc-standard</th>\n",
    "      <th>arc-hybrid</th>\n",
    "    </tr>\n",
    "  </thead>\n",
    "  <tbody>\n",
    "    <tr style=\"font-size: x-large; text-align: left;\">\n",
    "      <td style=\"text-align: left;\">LEFT-ARC</td>\n",
    "      <td style=\"text-align: left;\">create arc from stack top to second stack item. Pop second stack item.</td>\n",
    "      <td style=\"text-align: left;\">create arc from buffer top to stack top. Pop stack top.</td>\n",
    "    </tr>\n",
    "    <tr style=\"font-size: x-large; text-align: left;\">\n",
    "      <td style=\"text-align: left;\">initial configuration</td>\n",
    "      <td style=\"text-align: left;\">stack contains root, buffer contains words</td>\n",
    "      <td style=\"text-align: left;\">stack is empty, buffer contains words and root</td>\n",
    "    </tr>\n",
    "    <tr style=\"font-size: x-large; text-align: left;\">\n",
    "      <td style=\"text-align: left;\">terminal configuration</td>\n",
    "      <td style=\"text-align: left;\">stack contains root, buffer is empty</td>\n",
    "      <td style=\"text-align: left;\">stack is empty, buffer contains root</td>\n",
    "    </tr>\n",
    "  </tbody>\n",
    "</table>"
   ]
  },
  {
   "cell_type": "markdown",
   "metadata": {
    "pycharm": {
     "name": "#%% md\n"
    },
    "slideshow": {
     "slide_type": "slide"
    }
   },
   "source": [
    "## Learning a transition-based parser\n",
    "\n",
    "* Decompose parse tree into a sequence of **actions**\n",
    "* Learn to score individual actions\n",
    "    * Sequence labeling? Sequence-to-sequence?\n",
    "\n",
    "<center>\n",
    "    <img src=\"parsing_figures/tb1.png\" width=60%/>\n",
    "</center>"
   ]
  },
  {
   "cell_type": "markdown",
   "metadata": {
    "pycharm": {
     "name": "#%% md\n"
    },
    "slideshow": {
     "slide_type": "subslide"
    }
   },
   "source": [
    "How to decide what action to take? \n",
    "\n",
    "* Learn a discriminative classifier $p(y | \\x)$ where \n",
    "   * $\\x$ is a representation of buffer, stack and parse\n",
    "   * $y$ is the action to choose\n",
    "* Use **greedy search** or **beam search** to find the highest scoring sequence of steps"
   ]
  },
  {
   "cell_type": "markdown",
   "metadata": {
    "pycharm": {
     "name": "#%% md\n"
    },
    "slideshow": {
     "slide_type": "subslide"
    }
   },
   "source": [
    "<center>\n",
    "    <img src=\"parsing_figures/tb2.png\" width=30%/>\n",
    "</center>"
   ]
  },
  {
   "cell_type": "markdown",
   "metadata": {
    "pycharm": {
     "name": "#%% md\n"
    },
    "slideshow": {
     "slide_type": "subslide"
    }
   },
   "source": [
    "<center>\n",
    "    <img src=\"https://d3i71xaburhd42.cloudfront.net/8292a74aba4eab2ca864b457c17b02634fef4ddd/5-Figure7-1.png\" width=30%/>\n",
    "</center>\n",
    "\n",
    "<div style=\"text-align: right;\">\n",
    "    (from <a href=\"https://www.aclweb.org/anthology/K18-2010.pdf\">Hershcovich et al., 2018</a>)\n",
    "</div>"
   ]
  },
  {
   "cell_type": "markdown",
   "metadata": {
    "pycharm": {
     "name": "#%% md\n"
    },
    "slideshow": {
     "slide_type": "slide"
    }
   },
   "source": [
    "## Dependency parsing evaluation\n",
    "\n",
    "* Unlabeled Attachment Score (**UAS**): % of words with correct head\n",
    "* Labeled Attachment Score (**LAS**): % of words with correct head and label\n",
    "\n",
    "Always 0 $\\leq$ LAS $\\leq$ UAS $\\leq$ 100%."
   ]
  },
  {
   "cell_type": "markdown",
   "metadata": {
    "pycharm": {
     "name": "#%% md\n"
    },
    "slideshow": {
     "slide_type": "subslide"
    }
   },
   "source": [
    "### Example: LAS and UAS\n",
    "\n",
    "<center>\n",
    "    <img src=\"parsing_figures/as.png\" width=70%/>\n",
    "</center>\n",
    "\n",
    "<center>\n",
    "    $\\mathrm{UAS}=\\frac{8}{12}=67\\%$\n",
    "</center>\n",
    "\n",
    "<center>\n",
    "    $\\mathrm{LAS}=\\frac{7}{12}=58\\%$\n",
    "</center>"
   ]
  },
  {
   "cell_type": "markdown",
   "metadata": {
    "pycharm": {
     "name": "#%% md\n"
    },
    "slideshow": {
     "slide_type": "slide"
    }
   },
   "source": [
    "## Summary\n",
    "\n",
    "* **Dependency parsing** predicts word-to-word dependencies\n",
    "* Treebanks in many languages, thanks to **UD**\n",
    "* Fast and accurate parsing, e.g. **transition-based**"
   ]
  },
  {
   "cell_type": "markdown",
   "metadata": {
    "pycharm": {
     "name": "#%% md\n"
    },
    "slideshow": {
     "slide_type": "slide"
    }
   },
   "source": [
    "## Further reading\n",
    "\n",
    "* [EACL 2014 tutorial](http://stp.lingfil.uu.se/~nivre/eacl14.html)\n",
    "* [Beyond dependency parsing: meaning representations](https://danielhers.github.io/mr.pdf)"
   ]
  },
  {
   "cell_type": "markdown",
   "metadata": {
    "pycharm": {
     "name": "#%% md\n"
    },
    "slideshow": {
     "slide_type": "slide"
    }
   },
   "source": [
    "## Evaluation\n",
    "\n",
    "### https://ucph.page.link/eval\n",
    "\n",
    "https://docs.google.com/forms/d/1uZtVR5vQaTRVwoUvEBrBixjzsHEGdimEpk0reBgYsKI/edit#responses"
   ]
  }
 ],
 "metadata": {
  "celltoolbar": "Slideshow",
  "kernelspec": {
   "display_name": "Python 3",
   "language": "python",
   "name": "python3"
  },
  "language_info": {
   "codemirror_mode": {
    "name": "ipython",
    "version": 3
   },
   "file_extension": ".py",
   "mimetype": "text/x-python",
   "name": "python",
   "nbconvert_exporter": "python",
   "pygments_lexer": "ipython3",
   "version": "3.10.4"
  }
 },
 "nbformat": 4,
 "nbformat_minor": 1
}