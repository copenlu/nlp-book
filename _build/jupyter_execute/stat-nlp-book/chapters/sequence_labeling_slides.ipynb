{
 "cells": [
  {
   "cell_type": "code",
   "execution_count": 1,
   "metadata": {
    "pycharm": {
     "name": "#%%\n"
    },
    "slideshow": {
     "slide_type": "skip"
    }
   },
   "outputs": [
    {
     "data": {
      "text/html": [
       "<script>\n",
       "  function code_toggle() {\n",
       "    if (code_shown){\n",
       "      $('div.input').hide('500');\n",
       "      $('#toggleButton').val('Show Code')\n",
       "    } else {\n",
       "      $('div.input').show('500');\n",
       "      $('#toggleButton').val('Hide Code')\n",
       "    }\n",
       "    code_shown = !code_shown\n",
       "  }\n",
       "\n",
       "  $( document ).ready(function(){\n",
       "    code_shown=false;\n",
       "    $('div.input').hide()\n",
       "  });\n",
       "</script>\n",
       "<form action=\"javascript:code_toggle()\"><input type=\"submit\" id=\"toggleButton\" value=\"Show Code\"></form>\n",
       "<style>\n",
       ".rendered_html td {\n",
       "    font-size: xx-large;\n",
       "    text-align: left; !important\n",
       "}\n",
       ".rendered_html th {\n",
       "    font-size: xx-large;\n",
       "    text-align: left; !important\n",
       "}\n",
       "</style>\n"
      ],
      "text/plain": [
       "<IPython.core.display.HTML object>"
      ]
     },
     "metadata": {},
     "output_type": "display_data"
    }
   ],
   "source": [
    "%%html\n",
    "<script>\n",
    "  function code_toggle() {\n",
    "    if (code_shown){\n",
    "      $('div.input').hide('500');\n",
    "      $('#toggleButton').val('Show Code')\n",
    "    } else {\n",
    "      $('div.input').show('500');\n",
    "      $('#toggleButton').val('Hide Code')\n",
    "    }\n",
    "    code_shown = !code_shown\n",
    "  }\n",
    "\n",
    "  $( document ).ready(function(){\n",
    "    code_shown=false;\n",
    "    $('div.input').hide()\n",
    "  });\n",
    "</script>\n",
    "<form action=\"javascript:code_toggle()\"><input type=\"submit\" id=\"toggleButton\" value=\"Show Code\"></form>\n",
    "<style>\n",
    ".rendered_html td {\n",
    "    font-size: xx-large;\n",
    "    text-align: left; !important\n",
    "}\n",
    ".rendered_html th {\n",
    "    font-size: xx-large;\n",
    "    text-align: left; !important\n",
    "}\n",
    "</style>"
   ]
  },
  {
   "cell_type": "code",
   "execution_count": 2,
   "metadata": {
    "pycharm": {
     "name": "#%%\n"
    },
    "slideshow": {
     "slide_type": "skip"
    }
   },
   "outputs": [
    {
     "ename": "ModuleNotFoundError",
     "evalue": "No module named 'mpld3'",
     "output_type": "error",
     "traceback": [
      "\u001b[0;31m---------------------------------------------------------------------------\u001b[0m",
      "\u001b[0;31mModuleNotFoundError\u001b[0m                       Traceback (most recent call last)",
      "Input \u001b[0;32mIn [2]\u001b[0m, in \u001b[0;36m<cell line: 6>\u001b[0;34m()\u001b[0m\n\u001b[1;32m      4\u001b[0m \u001b[38;5;28;01mimport\u001b[39;00m \u001b[38;5;21;01msys\u001b[39;00m\n\u001b[1;32m      5\u001b[0m sys\u001b[38;5;241m.\u001b[39mpath\u001b[38;5;241m.\u001b[39mappend(\u001b[38;5;124m\"\u001b[39m\u001b[38;5;124m..\u001b[39m\u001b[38;5;124m\"\u001b[39m)\n\u001b[0;32m----> 6\u001b[0m \u001b[38;5;28;01mimport\u001b[39;00m \u001b[38;5;21;01mstatnlpbook\u001b[39;00m\u001b[38;5;21;01m.\u001b[39;00m\u001b[38;5;21;01mutil\u001b[39;00m \u001b[38;5;28;01mas\u001b[39;00m \u001b[38;5;21;01mutil\u001b[39;00m\n\u001b[1;32m      7\u001b[0m \u001b[38;5;28;01mimport\u001b[39;00m \u001b[38;5;21;01mstatnlpbook\u001b[39;00m\u001b[38;5;21;01m.\u001b[39;00m\u001b[38;5;21;01msequence\u001b[39;00m \u001b[38;5;28;01mas\u001b[39;00m \u001b[38;5;21;01mseq\u001b[39;00m\n\u001b[1;32m      8\u001b[0m \u001b[38;5;28;01mfrom\u001b[39;00m \u001b[38;5;21;01mstatnlpbook\u001b[39;00m\u001b[38;5;21;01m.\u001b[39;00m\u001b[38;5;21;01mgmb\u001b[39;00m \u001b[38;5;28;01mimport\u001b[39;00m load_gmb_dataset\n",
      "File \u001b[0;32m~/gits/nlp-course/nlp-book/stat-nlp-book/chapters/../statnlpbook/util.py:47\u001b[0m, in \u001b[0;36m<module>\u001b[0;34m\u001b[0m\n\u001b[1;32m     43\u001b[0m             \u001b[38;5;28;01mfor\u001b[39;00m head \u001b[38;5;129;01min\u001b[39;00m lists[\u001b[38;5;241m0\u001b[39m]:\n\u001b[1;32m     44\u001b[0m                 \u001b[38;5;28;01myield\u001b[39;00m (head,) \u001b[38;5;241m+\u001b[39m prev_tuple\n\u001b[0;32m---> 47\u001b[0m \u001b[38;5;28;01mimport\u001b[39;00m \u001b[38;5;21;01mmpld3\u001b[39;00m\n\u001b[1;32m     50\u001b[0m \u001b[38;5;28;01mdef\u001b[39;00m \u001b[38;5;21mplot_bar_graph\u001b[39m(values, labels, rotation\u001b[38;5;241m=\u001b[39m\u001b[38;5;241m0\u001b[39m, align\u001b[38;5;241m=\u001b[39m\u001b[38;5;124m'\u001b[39m\u001b[38;5;124mcenter\u001b[39m\u001b[38;5;124m'\u001b[39m, use_mpld3\u001b[38;5;241m=\u001b[39m\u001b[38;5;28;01mFalse\u001b[39;00m):\n\u001b[1;32m     51\u001b[0m     \u001b[38;5;124;03m\"\"\"\u001b[39;00m\n\u001b[1;32m     52\u001b[0m \u001b[38;5;124;03m    Plots a bar graph.\u001b[39;00m\n\u001b[1;32m     53\u001b[0m \u001b[38;5;124;03m    Args:\u001b[39;00m\n\u001b[0;32m   (...)\u001b[0m\n\u001b[1;32m     61\u001b[0m \n\u001b[1;32m     62\u001b[0m \u001b[38;5;124;03m    \"\"\"\u001b[39;00m\n",
      "\u001b[0;31mModuleNotFoundError\u001b[0m: No module named 'mpld3'"
     ]
    }
   ],
   "source": [
    "%%capture\n",
    "%load_ext autoreload\n",
    "%autoreload 2\n",
    "%matplotlib inline\n",
    "import sys\n",
    "sys.path.append(\"..\")\n",
    "import statnlpbook.util as util\n",
    "import statnlpbook.sequence as seq\n",
    "from statnlpbook.gmb import load_gmb_dataset\n",
    "import pandas as pd\n",
    "import matplotlib\n",
    "import warnings\n",
    "warnings.filterwarnings('ignore')\n",
    "matplotlib.rcParams['figure.figsize'] = (8.0, 5.0)\n",
    "from collections import defaultdict, Counter\n",
    "from random import random\n",
    "\n",
    "from IPython.display import Image"
   ]
  },
  {
   "cell_type": "markdown",
   "metadata": {
    "slideshow": {
     "slide_type": "skip"
    }
   },
   "source": [
    "<!---\n",
    "Latex Macros\n",
    "-->\n",
    "$$\n",
    "\\newcommand{\\Xs}{\\mathcal{X}}\n",
    "\\newcommand{\\Ys}{\\mathcal{Y}}\n",
    "\\newcommand{\\y}{\\mathbf{y}}\n",
    "\\newcommand{\\balpha}{\\boldsymbol{\\alpha}}\n",
    "\\newcommand{\\bbeta}{\\boldsymbol{\\beta}}\n",
    "\\newcommand{\\aligns}{\\mathbf{a}}\n",
    "\\newcommand{\\align}{a}\n",
    "\\newcommand{\\source}{\\mathbf{s}}\n",
    "\\newcommand{\\target}{\\mathbf{t}}\n",
    "\\newcommand{\\ssource}{s}\n",
    "\\newcommand{\\starget}{t}\n",
    "\\newcommand{\\repr}{\\mathbf{f}}\n",
    "\\newcommand{\\repry}{\\mathbf{g}}\n",
    "\\newcommand{\\x}{\\mathbf{x}}\n",
    "\\newcommand{\\prob}{p}\n",
    "\\newcommand{\\bar}{\\,|\\,}\n",
    "\\newcommand{\\vocab}{V}\n",
    "\\newcommand{\\params}{\\boldsymbol{\\theta}}\n",
    "\\newcommand{\\param}{\\theta}\n",
    "\\DeclareMathOperator{\\perplexity}{PP}\n",
    "\\DeclareMathOperator{\\argmax}{argmax}\n",
    "\\DeclareMathOperator{\\argmin}{argmin}\n",
    "\\newcommand{\\train}{\\mathcal{D}}\n",
    "\\newcommand{\\counts}[2]{\\#_{#1}(#2) }\n",
    "\\newcommand{\\length}[1]{\\text{length}(#1) }\n",
    "\\newcommand{\\indi}{\\mathbb{I}}\n",
    "$$"
   ]
  },
  {
   "cell_type": "code",
   "execution_count": 3,
   "metadata": {
    "pycharm": {
     "name": "#%%\n"
    },
    "slideshow": {
     "slide_type": "skip"
    }
   },
   "outputs": [],
   "source": [
    "%load_ext tikzmagic"
   ]
  },
  {
   "cell_type": "markdown",
   "metadata": {
    "slideshow": {
     "slide_type": "slide"
    }
   },
   "source": [
    "# Sequence Labelling"
   ]
  },
  {
   "cell_type": "markdown",
   "metadata": {
    "slideshow": {
     "slide_type": "skip"
    }
   },
   "source": [
    "## Overview of Today's Lecture\n",
    "\n",
    "\n",
    "+ Background: Sequence Labelling, POS tagging (5 min.)\n",
    "\n",
    "+ Exercise: Jabberwocky (10 min.) -- skipped\n",
    "\n",
    "+ Examples: POS tagging (5 min.)\n",
    "\n",
    "+ Maths: Log-Linear Models (15 min.) -- +5 minutes\n",
    "\n",
    "+ Exercise: POS tagging (5 min.) -- +5 minutes\n",
    "\n",
    "+ Break (10 min.)\n",
    "\n",
    "+ Background: Named Entity Recognition, IOB tagging (5 min.)\n",
    "\n",
    "+ Maths: F-measure, neural sequence labellers (10 min.)\n",
    "\n",
    "+ Quiz: log-linear vs. Bi-LSTM (5 min.)\n",
    "\n",
    "+ Maths: MEMM (10 min.)\n",
    "\n",
    "+ Maths: CRF (10 min.)\n",
    "\n",
    "+ Maths: beam search (10 min.)\n",
    "\n",
    "+ Buffer: 10 min"
   ]
  },
  {
   "cell_type": "markdown",
   "metadata": {
    "slideshow": {
     "slide_type": "slide"
    }
   },
   "source": [
    "## Sequence Labelling\n",
    "\n",
    "+ Assigning exactly one label to each element in a sequence\n",
    "\n",
    "+ In context of RNNs, example of **one-to-one** paradigm\n",
    "\n",
    "<center><img src=\"../img/one_to_one.png\"></center>\n"
   ]
  },
  {
   "cell_type": "markdown",
   "metadata": {
    "slideshow": {
     "slide_type": "fragment"
    }
   },
   "source": [
    "(In the example: Universal Semantic Tags from Abzianidze & Bos, [Towards Universal Semantic Tagging](https://www.aclweb.org/anthology/W17-6901.pdf))"
   ]
  },
  {
   "cell_type": "markdown",
   "metadata": {
    "slideshow": {
     "slide_type": "slide"
    }
   },
   "source": [
    "## Parts of speech\n",
    "\n",
    "+ POS group words with **similar grammatical properties**\n",
    "+ Granularity of tags can differ\n",
    "+ *For example:* [English Penn Treebank tagset](https://www.ling.upenn.edu/courses/Fall_2003/ling001/penn_treebank_pos.html) distinguishes four types of nouns\n",
    "\n",
    "| | | |\n",
    "|-|-|-|\n",
    "| **NN** | noun, singular or mass | *cat, rain* |\n",
    "| **NNS** | noun, plural | *cats, tables* |\n",
    "| **NNP** | proper noun, singular | *John, IBM* |\n",
    "| **NNPS** | proper noun, plural | *Muslims, Philippines* |"
   ]
  },
  {
   "cell_type": "markdown",
   "metadata": {
    "slideshow": {
     "slide_type": "subslide"
    }
   },
   "source": [
    "## Penn Treebank\n",
    "\n",
    "- Penn Treebank is the most commonly used POS tag set\n",
    "- Has 36 POS tags and 12 other tags (for punctuation and currency symbols)\n",
    "\n",
    "<center>\n",
    "  <img src='../img/penn_treebank.png'/>\n",
    "</center>"
   ]
  },
  {
   "cell_type": "markdown",
   "metadata": {
    "slideshow": {
     "slide_type": "subslide"
    }
   },
   "source": [
    "## Part-of-speech tagging\n",
    "\n",
    "Assign each token in a sentence its **part-of-speech (POS) tag**.\n",
    "\n",
    "| 1 | 2 | 3 | 4 | 5 | 6 | 7 |\n",
    "|-|-|-|-|-|-|-|\n",
    "| I | predict | that | it | will | rain | tonight |\n",
    "| PRP | VBP | IN | PRP | MD | VB | NN |"
   ]
  },
  {
   "cell_type": "markdown",
   "metadata": {
    "slideshow": {
     "slide_type": "subslide"
    }
   },
   "source": [
    "### Crucial challenge: ambiguity!\n",
    "\n",
    "| | | | | | |\n",
    "|-|-|-|-|-|-|\n",
    "| He | is | treated | for | **back** | injury |\n",
    "| PRP | VBP | VBN | IN | **NN** | NN |\n",
    "\n",
    "| | | | | | |\n",
    "|-|-|-|-|-|-|\n",
    "| He | is | sent | **back** | to | prison |\n",
    "| PRP | VBP | VBN | **RB** | TO | NN |\n",
    "\n",
    "| | | | | |\n",
    "|-|-|-|-|-|\n",
    "| I | can | **back** | this | up |\n",
    "| PRP | MD | **VB** | DT | RP |"
   ]
  },
  {
   "cell_type": "markdown",
   "metadata": {
    "slideshow": {
     "slide_type": "skip"
    }
   },
   "source": [
    "### Crucial challenge: unknown words!\n",
    "\n",
    "QUIZ"
   ]
  },
  {
   "cell_type": "markdown",
   "metadata": {
    "pycharm": {
     "name": "#%% md\n"
    },
    "slideshow": {
     "slide_type": "subslide"
    }
   },
   "source": [
    "## GMB dataset\n",
    "\n",
    "+ GMB = Groningen Meaning Bank\n",
    "+ Uses Penn Treebank tag set\n",
    "+ https://www.kaggle.com/shoumikgoswami/annotated-gmb-corpus/\n"
   ]
  },
  {
   "cell_type": "code",
   "execution_count": 4,
   "metadata": {
    "pycharm": {
     "name": "#%%\n"
    },
    "slideshow": {
     "slide_type": "subslide"
    }
   },
   "outputs": [
    {
     "ename": "NameError",
     "evalue": "name 'load_gmb_dataset' is not defined",
     "output_type": "error",
     "traceback": [
      "\u001b[0;31m---------------------------------------------------------------------------\u001b[0m",
      "\u001b[0;31mNameError\u001b[0m                                 Traceback (most recent call last)",
      "Input \u001b[0;32mIn [4]\u001b[0m, in \u001b[0;36m<cell line: 1>\u001b[0;34m()\u001b[0m\n\u001b[0;32m----> 1\u001b[0m tokens, pos, ents \u001b[38;5;241m=\u001b[39m \u001b[43mload_gmb_dataset\u001b[49m(\u001b[38;5;124m'\u001b[39m\u001b[38;5;124m../data/gmb/GMB_dataset_utf8.txt\u001b[39m\u001b[38;5;124m'\u001b[39m)\n\u001b[1;32m      3\u001b[0m pd\u001b[38;5;241m.\u001b[39mDataFrame([tokens[\u001b[38;5;241m2\u001b[39m], pos[\u001b[38;5;241m2\u001b[39m]])\n",
      "\u001b[0;31mNameError\u001b[0m: name 'load_gmb_dataset' is not defined"
     ]
    }
   ],
   "source": [
    "tokens, pos, ents = load_gmb_dataset('../data/gmb/GMB_dataset_utf8.txt')\n",
    "\n",
    "pd.DataFrame([tokens[2], pos[2]])"
   ]
  },
  {
   "cell_type": "code",
   "execution_count": 5,
   "metadata": {
    "pycharm": {
     "name": "#%%\n"
    },
    "slideshow": {
     "slide_type": "skip"
    }
   },
   "outputs": [],
   "source": [
    "examples = {}\n",
    "counts = Counter(tag for sent in pos for tag in sent)\n",
    "words = defaultdict(set)\n",
    "for x_s, y_s in zip(tokens, pos):\n",
    "    for i, (x, y) in enumerate(zip(x_s, y_s)):\n",
    "        if (y not in examples) or (random() > 0.97):\n",
    "            examples[y] = [x_s[j] + \"/\" + y_s[j] if i == j else x_s[j] for j in range(max(i-1,0),min(i+2,len(x_s)))]\n",
    "        words[y].add(x)\n",
    "sorted_tags = sorted(counts.items(),key=lambda x:-x[1])\n",
    "sorted_tags_with_examples = [(t,c,len(words[t]),\" \".join(examples[t])) for t,c in sorted_tags]\n",
    "\n",
    "sorted_tags_table = pd.DataFrame(sorted_tags_with_examples, columns=['Tag','Count','Unique Tokens','Example'])"
   ]
  },
  {
   "cell_type": "code",
   "execution_count": 6,
   "metadata": {
    "pycharm": {
     "name": "#%%\n"
    },
    "slideshow": {
     "slide_type": "subslide"
    }
   },
   "outputs": [
    {
     "data": {
      "text/html": [
       "<div>\n",
       "<style scoped>\n",
       "    .dataframe tbody tr th:only-of-type {\n",
       "        vertical-align: middle;\n",
       "    }\n",
       "\n",
       "    .dataframe tbody tr th {\n",
       "        vertical-align: top;\n",
       "    }\n",
       "\n",
       "    .dataframe thead th {\n",
       "        text-align: right;\n",
       "    }\n",
       "</style>\n",
       "<table border=\"1\" class=\"dataframe\">\n",
       "  <thead>\n",
       "    <tr style=\"text-align: right;\">\n",
       "      <th></th>\n",
       "      <th>Tag</th>\n",
       "      <th>Count</th>\n",
       "      <th>Unique Tokens</th>\n",
       "      <th>Example</th>\n",
       "    </tr>\n",
       "  </thead>\n",
       "  <tbody>\n",
       "    <tr>\n",
       "      <th>0</th>\n",
       "      <td>NN</td>\n",
       "      <td>9307</td>\n",
       "      <td>2087</td>\n",
       "      <td>trial date/NN could</td>\n",
       "    </tr>\n",
       "    <tr>\n",
       "      <th>1</th>\n",
       "      <td>NNP</td>\n",
       "      <td>8189</td>\n",
       "      <td>2069</td>\n",
       "      <td>and Ethiopia/NNP have</td>\n",
       "    </tr>\n",
       "    <tr>\n",
       "      <th>2</th>\n",
       "      <td>IN</td>\n",
       "      <td>7759</td>\n",
       "      <td>94</td>\n",
       "      <td>injuring at/IN least</td>\n",
       "    </tr>\n",
       "    <tr>\n",
       "      <th>3</th>\n",
       "      <td>DT</td>\n",
       "      <td>6310</td>\n",
       "      <td>40</td>\n",
       "      <td>offered an/DT ideal</td>\n",
       "    </tr>\n",
       "    <tr>\n",
       "      <th>4</th>\n",
       "      <td>JJ</td>\n",
       "      <td>4875</td>\n",
       "      <td>1214</td>\n",
       "      <td>their shared/JJ border</td>\n",
       "    </tr>\n",
       "    <tr>\n",
       "      <th>5</th>\n",
       "      <td>NNS</td>\n",
       "      <td>4803</td>\n",
       "      <td>1102</td>\n",
       "      <td>al-Qaida militants/NNS in</td>\n",
       "    </tr>\n",
       "    <tr>\n",
       "      <th>6</th>\n",
       "      <td>.</td>\n",
       "      <td>2992</td>\n",
       "      <td>3</td>\n",
       "      <td>other ./.</td>\n",
       "    </tr>\n",
       "    <tr>\n",
       "      <th>7</th>\n",
       "      <td>VBD</td>\n",
       "      <td>2429</td>\n",
       "      <td>470</td>\n",
       "      <td>guard used/VBD force</td>\n",
       "    </tr>\n",
       "    <tr>\n",
       "      <th>8</th>\n",
       "      <td>VBN</td>\n",
       "      <td>2060</td>\n",
       "      <td>588</td>\n",
       "      <td>has targeted/VBN Westerners</td>\n",
       "    </tr>\n",
       "    <tr>\n",
       "      <th>9</th>\n",
       "      <td>,</td>\n",
       "      <td>1953</td>\n",
       "      <td>1</td>\n",
       "      <td>Castro ,/, on</td>\n",
       "    </tr>\n",
       "  </tbody>\n",
       "</table>\n",
       "</div>"
      ],
      "text/plain": [
       "   Tag  Count  Unique Tokens                      Example\n",
       "0   NN   9307           2087          trial date/NN could\n",
       "1  NNP   8189           2069        and Ethiopia/NNP have\n",
       "2   IN   7759             94         injuring at/IN least\n",
       "3   DT   6310             40          offered an/DT ideal\n",
       "4   JJ   4875           1214       their shared/JJ border\n",
       "5  NNS   4803           1102    al-Qaida militants/NNS in\n",
       "6    .   2992              3                    other ./.\n",
       "7  VBD   2429            470         guard used/VBD force\n",
       "8  VBN   2060            588  has targeted/VBN Westerners\n",
       "9    ,   1953              1                Castro ,/, on"
      ]
     },
     "execution_count": 6,
     "metadata": {},
     "output_type": "execute_result"
    }
   ],
   "source": [
    "sorted_tags_table[:10]"
   ]
  },
  {
   "cell_type": "markdown",
   "metadata": {
    "pycharm": {
     "name": "#%% md\n"
    },
    "slideshow": {
     "slide_type": "slide"
    }
   },
   "source": [
    "## Sequence Labelling as Structured Prediction\n",
    "\n",
    "* Input Space $\\Xs$: sequences of items to label\n",
    "* Output Space $\\Ys$: sequences of output labels\n",
    "* Model: $s_{\\params}(\\x,\\y)$\n",
    "* Prediction: $\\argmax_\\y s_{\\params}(\\x,\\y)$"
   ]
  },
  {
   "cell_type": "markdown",
   "metadata": {
    "pycharm": {
     "name": "#%% md\n"
    },
    "scrolled": true,
    "slideshow": {
     "slide_type": "subslide"
    }
   },
   "source": [
    "## Conditional Models\n",
    "Model probability distributions over label sequences $\\y$ conditioned on input sequences $\\x$\n",
    "\n",
    "$$\n",
    "s_{\\params}(\\x,\\y) = \\prob_\\params(\\y|\\x)\n",
    "$$\n",
    "\n",
    "* Just like the conditional models from the [text classification](doc_classify_slides_short.ipynb) chapter\n",
    "\n",
    "* But the label space is *exponential* (as a function of sequence length)!\n",
    "\n",
    "* Most unique $\\y$ are never even seen in training\n",
    "\n",
    "* Might be useful to **break it up**?"
   ]
  },
  {
   "cell_type": "markdown",
   "metadata": {
    "pycharm": {
     "name": "#%% md\n"
    },
    "scrolled": true,
    "slideshow": {
     "slide_type": "subslide"
    }
   },
   "source": [
    "## Local Models / Classifiers\n",
    "A **fully factorised** or **local** model:\n",
    "\n",
    "$$\n",
    "p_\\params(\\y|\\x) = \\prod_{i=1}^n p_\\params(y_i|\\x,i,y_{1,\\ldots,i-1}) \\approx \\prod_{i=1}^n p_\\params(y_i|\\x,i)\n",
    "$$\n",
    "\n",
    "* Labels are independent of each other\n",
    "* Inference in this model is trivial"
   ]
  },
  {
   "cell_type": "markdown",
   "metadata": {
    "pycharm": {
     "name": "#%% md\n"
    },
    "scrolled": true,
    "slideshow": {
     "slide_type": "fragment"
    }
   },
   "source": [
    "Does this remind you of anything you've seen in previous lectures?"
   ]
  },
  {
   "cell_type": "markdown",
   "metadata": {
    "pycharm": {
     "name": "#%% md\n"
    },
    "scrolled": false,
    "slideshow": {
     "slide_type": "subslide"
    }
   },
   "source": [
    "### Example\n",
    "\n",
    "$$\n",
    "\\prob_\\params(\\text{\"PRP MD VB\"} \\bar \\text{\"it will rain\"}) = \\\\\\\\ \\prob_\\params(\\text{\"PRP\"}\\bar \\text{\"it will rain\"},1) \\cdot \\prob_\\params(\\text{\"MD\"} \\bar \\text{\"it will rain\"},2) \\cdot \\prob_\\params(\\text{\"VB\"} \\bar \\text{\"it will rain\"},3)\n",
    "$$"
   ]
  },
  {
   "cell_type": "markdown",
   "metadata": {
    "pycharm": {
     "name": "#%% md\n"
    },
    "scrolled": false,
    "slideshow": {
     "slide_type": "subslide"
    }
   },
   "source": [
    "### Graphical Representation\n",
    "\n",
    "- Models can be represented as factor graphs\n",
    "- Each variable of the model (our per-token tag labels and the input sequence $\\x$) is drawn using a circle\n",
    "- *Observed* variables are shaded\n",
    "- Each factor in the model (terms in the product) is drawn as a box that connects the variables that appear in the corresponding term\n",
    "   - For example, the term $p_\\params(y_3|\\x,3)$ would connect the variables $y_3$ and $\\x$. "
   ]
  },
  {
   "cell_type": "code",
   "execution_count": 7,
   "metadata": {
    "pycharm": {
     "name": "#%% md\n"
    },
    "slideshow": {
     "slide_type": "fragment"
    }
   },
   "outputs": [
    {
     "data": {
      "image/svg+xml": [
       "<?xml version=\"1.0\" encoding=\"UTF-8\" standalone=\"no\"?>\n",
       "<!DOCTYPE svg PUBLIC \"-//W3C//DTD SVG 1.1//EN\"\n",
       " \"http://www.w3.org/Graphics/SVG/1.1/DTD/svg11.dtd\">\n",
       "<!-- Generated by graphviz version 2.38.0 (20140413.2041)\n",
       " -->\n",
       "<!-- Title: %3 Pages: 1 -->\n",
       "<svg width=\"655pt\" height=\"178pt\"\n",
       " viewBox=\"0.00 0.00 655.00 178.00\" xmlns=\"http://www.w3.org/2000/svg\" xmlns:xlink=\"http://www.w3.org/1999/xlink\">\n",
       "<g id=\"graph0\" class=\"graph\" transform=\"scale(1 1) rotate(0) translate(4 173.997)\">\n",
       "<title>%3</title>\n",
       "<polygon fill=\"white\" stroke=\"none\" points=\"-4,4 -4,-173.997 651,-173.997 651,4 -4,4\"/>\n",
       "<!-- x -->\n",
       "<g id=\"node1\" class=\"node\"><title>x</title>\n",
       "<ellipse fill=\"lightgrey\" stroke=\"black\" cx=\"323.5\" cy=\"-18\" rx=\"18\" ry=\"18\"/>\n",
       "<text text-anchor=\"middle\" x=\"323.5\" y=\"-14.3\" font-family=\"Times,serif\" font-size=\"14.00\">x</text>\n",
       "</g>\n",
       "<!-- p(y1 | x, 1) -->\n",
       "<g id=\"node2\" class=\"node\"><title>p(y1 | x, 1)</title>\n",
       "<polygon fill=\"black\" stroke=\"black\" points=\"77,-95 0,-95 0,-72 77,-72 77,-95\"/>\n",
       "<text text-anchor=\"middle\" x=\"38.5\" y=\"-79.8\" font-family=\"Times,serif\" font-size=\"14.00\" fill=\"white\">p(y1 | x, 1)</text>\n",
       "</g>\n",
       "<!-- p(y1 | x, 1)&#45;&#45;x -->\n",
       "<g id=\"edge2\" class=\"edge\"><title>p(y1 | x, 1)&#45;&#45;x</title>\n",
       "<path fill=\"none\" stroke=\"black\" d=\"M77.2282,-73.8458C80.0274,-73.2209 82.8071,-72.6006 85.5,-72 167.926,-53.6152 266.422,-31.6977 305.883,-22.9188\"/>\n",
       "</g>\n",
       "<!-- y1 -->\n",
       "<g id=\"node3\" class=\"node\"><title>y1</title>\n",
       "<ellipse fill=\"none\" stroke=\"black\" cx=\"38.5\" cy=\"-150.498\" rx=\"19.4965\" ry=\"19.4965\"/>\n",
       "<text text-anchor=\"middle\" x=\"38.5\" y=\"-146.798\" font-family=\"Times,serif\" font-size=\"14.00\">y1</text>\n",
       "</g>\n",
       "<!-- y1&#45;&#45;p(y1 | x, 1) -->\n",
       "<g id=\"edge1\" class=\"edge\"><title>y1&#45;&#45;p(y1 | x, 1)</title>\n",
       "<path fill=\"none\" stroke=\"black\" d=\"M38.5,-130.698C38.5,-119.15 38.5,-104.778 38.5,-95.1581\"/>\n",
       "</g>\n",
       "<!-- p(y2 | x, 2) -->\n",
       "<g id=\"node4\" class=\"node\"><title>p(y2 | x, 2)</title>\n",
       "<polygon fill=\"black\" stroke=\"black\" points=\"172,-95 95,-95 95,-72 172,-72 172,-95\"/>\n",
       "<text text-anchor=\"middle\" x=\"133.5\" y=\"-79.8\" font-family=\"Times,serif\" font-size=\"14.00\" fill=\"white\">p(y2 | x, 2)</text>\n",
       "</g>\n",
       "<!-- p(y2 | x, 2)&#45;&#45;x -->\n",
       "<g id=\"edge4\" class=\"edge\"><title>p(y2 | x, 2)&#45;&#45;x</title>\n",
       "<path fill=\"none\" stroke=\"black\" d=\"M165.302,-71.8715C205.868,-58.3139 274.571,-35.3525 306.388,-24.7191\"/>\n",
       "</g>\n",
       "<!-- y2 -->\n",
       "<g id=\"node5\" class=\"node\"><title>y2</title>\n",
       "<ellipse fill=\"none\" stroke=\"black\" cx=\"133.5\" cy=\"-150.498\" rx=\"19.4965\" ry=\"19.4965\"/>\n",
       "<text text-anchor=\"middle\" x=\"133.5\" y=\"-146.798\" font-family=\"Times,serif\" font-size=\"14.00\">y2</text>\n",
       "</g>\n",
       "<!-- y2&#45;&#45;p(y2 | x, 2) -->\n",
       "<g id=\"edge3\" class=\"edge\"><title>y2&#45;&#45;p(y2 | x, 2)</title>\n",
       "<path fill=\"none\" stroke=\"black\" d=\"M133.5,-130.698C133.5,-119.15 133.5,-104.778 133.5,-95.1581\"/>\n",
       "</g>\n",
       "<!-- p(y3 | x, 3) -->\n",
       "<g id=\"node6\" class=\"node\"><title>p(y3 | x, 3)</title>\n",
       "<polygon fill=\"black\" stroke=\"black\" points=\"267,-95 190,-95 190,-72 267,-72 267,-95\"/>\n",
       "<text text-anchor=\"middle\" x=\"228.5\" y=\"-79.8\" font-family=\"Times,serif\" font-size=\"14.00\" fill=\"white\">p(y3 | x, 3)</text>\n",
       "</g>\n",
       "<!-- p(y3 | x, 3)&#45;&#45;x -->\n",
       "<g id=\"edge6\" class=\"edge\"><title>p(y3 | x, 3)&#45;&#45;x</title>\n",
       "<path fill=\"none\" stroke=\"black\" d=\"M244.615,-71.7281C262.614,-59.6974 291.495,-40.393 308.868,-28.7805\"/>\n",
       "</g>\n",
       "<!-- y3 -->\n",
       "<g id=\"node7\" class=\"node\"><title>y3</title>\n",
       "<ellipse fill=\"none\" stroke=\"black\" cx=\"228.5\" cy=\"-150.498\" rx=\"19.4965\" ry=\"19.4965\"/>\n",
       "<text text-anchor=\"middle\" x=\"228.5\" y=\"-146.798\" font-family=\"Times,serif\" font-size=\"14.00\">y3</text>\n",
       "</g>\n",
       "<!-- y3&#45;&#45;p(y3 | x, 3) -->\n",
       "<g id=\"edge5\" class=\"edge\"><title>y3&#45;&#45;p(y3 | x, 3)</title>\n",
       "<path fill=\"none\" stroke=\"black\" d=\"M228.5,-130.698C228.5,-119.15 228.5,-104.778 228.5,-95.1581\"/>\n",
       "</g>\n",
       "<!-- p(y4 | x, 4) -->\n",
       "<g id=\"node8\" class=\"node\"><title>p(y4 | x, 4)</title>\n",
       "<polygon fill=\"black\" stroke=\"black\" points=\"362,-95 285,-95 285,-72 362,-72 362,-95\"/>\n",
       "<text text-anchor=\"middle\" x=\"323.5\" y=\"-79.8\" font-family=\"Times,serif\" font-size=\"14.00\" fill=\"white\">p(y4 | x, 4)</text>\n",
       "</g>\n",
       "<!-- p(y4 | x, 4)&#45;&#45;x -->\n",
       "<g id=\"edge8\" class=\"edge\"><title>p(y4 | x, 4)&#45;&#45;x</title>\n",
       "<path fill=\"none\" stroke=\"black\" d=\"M323.5,-71.7281C323.5,-61.962 323.5,-47.4028 323.5,-36.056\"/>\n",
       "</g>\n",
       "<!-- y4 -->\n",
       "<g id=\"node9\" class=\"node\"><title>y4</title>\n",
       "<ellipse fill=\"none\" stroke=\"black\" cx=\"323.5\" cy=\"-150.498\" rx=\"19.4965\" ry=\"19.4965\"/>\n",
       "<text text-anchor=\"middle\" x=\"323.5\" y=\"-146.798\" font-family=\"Times,serif\" font-size=\"14.00\">y4</text>\n",
       "</g>\n",
       "<!-- y4&#45;&#45;p(y4 | x, 4) -->\n",
       "<g id=\"edge7\" class=\"edge\"><title>y4&#45;&#45;p(y4 | x, 4)</title>\n",
       "<path fill=\"none\" stroke=\"black\" d=\"M323.5,-130.698C323.5,-119.15 323.5,-104.778 323.5,-95.1581\"/>\n",
       "</g>\n",
       "<!-- p(y5 | x, 5) -->\n",
       "<g id=\"node10\" class=\"node\"><title>p(y5 | x, 5)</title>\n",
       "<polygon fill=\"black\" stroke=\"black\" points=\"457,-95 380,-95 380,-72 457,-72 457,-95\"/>\n",
       "<text text-anchor=\"middle\" x=\"418.5\" y=\"-79.8\" font-family=\"Times,serif\" font-size=\"14.00\" fill=\"white\">p(y5 | x, 5)</text>\n",
       "</g>\n",
       "<!-- p(y5 | x, 5)&#45;&#45;x -->\n",
       "<g id=\"edge10\" class=\"edge\"><title>p(y5 | x, 5)&#45;&#45;x</title>\n",
       "<path fill=\"none\" stroke=\"black\" d=\"M402.385,-71.7281C384.386,-59.6974 355.505,-40.393 338.132,-28.7805\"/>\n",
       "</g>\n",
       "<!-- y5 -->\n",
       "<g id=\"node11\" class=\"node\"><title>y5</title>\n",
       "<ellipse fill=\"none\" stroke=\"black\" cx=\"418.5\" cy=\"-150.498\" rx=\"19.4965\" ry=\"19.4965\"/>\n",
       "<text text-anchor=\"middle\" x=\"418.5\" y=\"-146.798\" font-family=\"Times,serif\" font-size=\"14.00\">y5</text>\n",
       "</g>\n",
       "<!-- y5&#45;&#45;p(y5 | x, 5) -->\n",
       "<g id=\"edge9\" class=\"edge\"><title>y5&#45;&#45;p(y5 | x, 5)</title>\n",
       "<path fill=\"none\" stroke=\"black\" d=\"M418.5,-130.698C418.5,-119.15 418.5,-104.778 418.5,-95.1581\"/>\n",
       "</g>\n",
       "<!-- p(y6 | x, 6) -->\n",
       "<g id=\"node12\" class=\"node\"><title>p(y6 | x, 6)</title>\n",
       "<polygon fill=\"black\" stroke=\"black\" points=\"552,-95 475,-95 475,-72 552,-72 552,-95\"/>\n",
       "<text text-anchor=\"middle\" x=\"513.5\" y=\"-79.8\" font-family=\"Times,serif\" font-size=\"14.00\" fill=\"white\">p(y6 | x, 6)</text>\n",
       "</g>\n",
       "<!-- p(y6 | x, 6)&#45;&#45;x -->\n",
       "<g id=\"edge12\" class=\"edge\"><title>p(y6 | x, 6)&#45;&#45;x</title>\n",
       "<path fill=\"none\" stroke=\"black\" d=\"M481.698,-71.8715C441.132,-58.3139 372.429,-35.3525 340.612,-24.7191\"/>\n",
       "</g>\n",
       "<!-- y6 -->\n",
       "<g id=\"node13\" class=\"node\"><title>y6</title>\n",
       "<ellipse fill=\"none\" stroke=\"black\" cx=\"513.5\" cy=\"-150.498\" rx=\"19.4965\" ry=\"19.4965\"/>\n",
       "<text text-anchor=\"middle\" x=\"513.5\" y=\"-146.798\" font-family=\"Times,serif\" font-size=\"14.00\">y6</text>\n",
       "</g>\n",
       "<!-- y6&#45;&#45;p(y6 | x, 6) -->\n",
       "<g id=\"edge11\" class=\"edge\"><title>y6&#45;&#45;p(y6 | x, 6)</title>\n",
       "<path fill=\"none\" stroke=\"black\" d=\"M513.5,-130.698C513.5,-119.15 513.5,-104.778 513.5,-95.1581\"/>\n",
       "</g>\n",
       "<!-- p(y7 | x, 7) -->\n",
       "<g id=\"node14\" class=\"node\"><title>p(y7 | x, 7)</title>\n",
       "<polygon fill=\"black\" stroke=\"black\" points=\"647,-95 570,-95 570,-72 647,-72 647,-95\"/>\n",
       "<text text-anchor=\"middle\" x=\"608.5\" y=\"-79.8\" font-family=\"Times,serif\" font-size=\"14.00\" fill=\"white\">p(y7 | x, 7)</text>\n",
       "</g>\n",
       "<!-- p(y7 | x, 7)&#45;&#45;x -->\n",
       "<g id=\"edge14\" class=\"edge\"><title>p(y7 | x, 7)&#45;&#45;x</title>\n",
       "<path fill=\"none\" stroke=\"black\" d=\"M569.767,-73.87C507.062,-59.899 385.81,-32.883 340.837,-22.8629\"/>\n",
       "</g>\n",
       "<!-- y7 -->\n",
       "<g id=\"node15\" class=\"node\"><title>y7</title>\n",
       "<ellipse fill=\"none\" stroke=\"black\" cx=\"608.5\" cy=\"-150.498\" rx=\"19.4965\" ry=\"19.4965\"/>\n",
       "<text text-anchor=\"middle\" x=\"608.5\" y=\"-146.798\" font-family=\"Times,serif\" font-size=\"14.00\">y7</text>\n",
       "</g>\n",
       "<!-- y7&#45;&#45;p(y7 | x, 7) -->\n",
       "<g id=\"edge13\" class=\"edge\"><title>y7&#45;&#45;p(y7 | x, 7)</title>\n",
       "<path fill=\"none\" stroke=\"black\" d=\"M608.5,-130.698C608.5,-119.15 608.5,-104.778 608.5,-95.1581\"/>\n",
       "</g>\n",
       "</g>\n",
       "</svg>\n"
      ],
      "text/plain": [
       "<graphviz.dot.Graph at 0x7f7bf17f4cc0>"
      ]
     },
     "execution_count": 7,
     "metadata": {
      "filenames": {
       "image/svg+xml": "/Users/knf792/gits/nlp-course/nlp-book/_build/jupyter_execute/stat-nlp-book/chapters/sequence_labeling_slides_23_0.svg"
      }
     },
     "output_type": "execute_result"
    }
   ],
   "source": [
    "seq.draw_local_fg(7)"
   ]
  },
  {
   "cell_type": "markdown",
   "metadata": {
    "slideshow": {
     "slide_type": "subslide"
    }
   },
   "source": [
    "### Parametrisation\n",
    "\n",
    "**Log-linear classifier** $p_\\params(y\\bar\\x,i)$ to predict class for sentence $\\x$ and position $i$\n",
    "\n",
    "$$\n",
    "  p_\\params(y\\bar\\x,i) \\approx \\frac{1}{Z_\\x} \\exp \\langle \\repr(\\x,i),\\params_y \\rangle\n",
    "$$\n"
   ]
  },
  {
   "cell_type": "markdown",
   "metadata": {
    "slideshow": {
     "slide_type": "fragment"
    }
   },
   "source": [
    "+ $\\repr(\\x,i)$ is a **feature function**\n",
    "+ ${Z_\\x} > 0$ is a normalisation factor to ensure that $\\sum_{y} p_\\params(y\\bar\\x,i) = 1$\n",
    "\n",
    "+ How far can we get with very simple features?"
   ]
  },
  {
   "cell_type": "markdown",
   "metadata": {
    "slideshow": {
     "slide_type": "subslide"
    }
   },
   "source": [
    "Bias:\n",
    "$$\n",
    "\\repr_0(\\x,i) = 1\n",
    "$$"
   ]
  },
  {
   "cell_type": "markdown",
   "metadata": {
    "slideshow": {
     "slide_type": "fragment"
    }
   },
   "source": [
    "Word at token to tag:\n",
    "$$\n",
    "\\repr_w(\\x,i) = \\begin{cases}1 \\text{ if }x_i=w \\\\\\\\ 0 \\text{ else} \\end{cases}\n",
    "$$"
   ]
  },
  {
   "cell_type": "code",
   "execution_count": 8,
   "metadata": {
    "pycharm": {
     "name": "#%%\n"
    },
    "slideshow": {
     "slide_type": "subslide"
    }
   },
   "outputs": [],
   "source": [
    "def feat_1(x,i):\n",
    "    return {\n",
    "        'bias': 1.0,\n",
    "        'word:' + x[i]: 1.0,\n",
    "    }\n",
    "\n",
    "train = list(zip(tokens[:-200], pos[:-200]))\n",
    "dev = list(zip(tokens[-200:], pos[-200:]))\n",
    "\n",
    "local_1 = seq.LocalSequenceLabeler(feat_1, train, class_weight='balanced')"
   ]
  },
  {
   "cell_type": "markdown",
   "metadata": {
    "slideshow": {
     "slide_type": "subslide"
    }
   },
   "source": [
    "We can assess the accuracy of this model on the development set."
   ]
  },
  {
   "cell_type": "code",
   "execution_count": 9,
   "metadata": {
    "pycharm": {
     "name": "#%%\n"
    },
    "slideshow": {
     "slide_type": "fragment"
    }
   },
   "outputs": [
    {
     "data": {
      "text/plain": [
       "0.8872215709261431"
      ]
     },
     "execution_count": 9,
     "metadata": {},
     "output_type": "execute_result"
    }
   ],
   "source": [
    "seq.accuracy(dev, local_1.predict(dev))"
   ]
  },
  {
   "cell_type": "markdown",
   "metadata": {
    "slideshow": {
     "slide_type": "subslide"
    }
   },
   "source": [
    "### How to Improve?\n",
    "\n",
    "Look at **confusion matrix**"
   ]
  },
  {
   "cell_type": "code",
   "execution_count": 10,
   "metadata": {
    "pycharm": {
     "name": "#%%\n"
    },
    "slideshow": {
     "slide_type": "skip"
    }
   },
   "outputs": [],
   "source": [
    "import matplotlib.pyplot as plt\n",
    "plt.rcParams['figure.figsize'] = [7, 7]\n",
    "import matplotlib.pylab as plb\n",
    "plb.rcParams['figure.dpi'] = 120"
   ]
  },
  {
   "cell_type": "code",
   "execution_count": 11,
   "metadata": {
    "pycharm": {
     "name": "#%%\n"
    },
    "slideshow": {
     "slide_type": "fragment"
    }
   },
   "outputs": [
    {
     "data": {
      "image/png": "[encoded data removed]",
      "text/plain": [
       "<matplotlib.figure.Figure at 0x7f7bf18112b0>"
      ]
     },
     "metadata": {
      "filenames": {
       "image/png": "/Users/knf792/gits/nlp-course/nlp-book/_build/jupyter_execute/stat-nlp-book/chapters/sequence_labeling_slides_33_0.png"
      }
     },
     "output_type": "display_data"
    }
   ],
   "source": [
    "seq.plot_confusion_matrix(dev, local_1.predict(dev), normalise=True)"
   ]
  },
  {
   "cell_type": "markdown",
   "metadata": {
    "slideshow": {
     "slide_type": "subslide"
    }
   },
   "source": [
    "Shows:\n",
    "\n",
    "* mostly strong diagonal (good predictions)\n",
    "* `NN` receives a lot of wrong counts, often confused with `NNP`"
   ]
  },
  {
   "cell_type": "code",
   "execution_count": 12,
   "metadata": {
    "pycharm": {
     "name": "#%%\n"
    },
    "slideshow": {
     "slide_type": "subslide"
    }
   },
   "outputs": [
    {
     "data": {
      "text/html": [
       "\n",
       "        <div id=\"1be40ec0-25be-11ec-8e8b-0242ac110002\" class=\"carousel\" data-ride=\"carousel\" data-interval=\"false\">\n",
       "          <!-- Controls -->\n",
       "          <a href=\"#1be40ec0-25be-11ec-8e8b-0242ac110002\" role=\"button2\" data-slide=\"prev\">Previous</a>\n",
       "          &nbsp;\n",
       "          <a  href=\"#1be40ec0-25be-11ec-8e8b-0242ac110002\" role=\"button2\" data-slide=\"next\">Next</a>\n",
       "          <div class=\"carousel-inner\" role=\"listbox\">\n",
       "          <div class=\"item active\"><table style=\"\"><tr><td>The</td><td><b>walkout</b></td><td>will</td><td>shutdown</td><td>the</td><td>city</td></tr><tr><td>DT</td><td><b>NN</b></td><td>MD</td><td>VB</td><td>DT</td><td>NN</td></tr><tr><td>DT</td><td><b>NNP</b></td><td>MD</td><td>NN</td><td>DT</td><td>NN</td></tr></table>\n",
       "        <table>\n",
       "          <tr><td>bias</td><td>word:walkout</td></tr>\n",
       "          <tr><td>1.0</td><td>1.0</td></tr>\n",
       "          <tr><td>3.73</td><td>0.00</td></tr>\n",
       "          <tr><td>3.73</td><td>0.00</td></tr>\n",
       "        </table> 1 / 60</div>\n",
       "<div class=\"item\"><table style=\"\"><tr><td>,</td><td>and</td><td>throw</td><td>the</td><td>daily</td><td><b>commute</b></td><td>of</td><td>its</td><td>seven</td><td>million</td></tr><tr><td>,</td><td>CC</td><td>VB</td><td>DT</td><td>JJ</td><td><b>NN</b></td><td>IN</td><td>PRP$</td><td>CD</td><td>CD</td></tr><tr><td>,</td><td>CC</td><td>VB</td><td>DT</td><td>RB</td><td><b>NNP</b></td><td>IN</td><td>PRP$</td><td>CD</td><td>CD</td></tr></table>\n",
       "        <table>\n",
       "          <tr><td>bias</td><td>word:commute</td></tr>\n",
       "          <tr><td>1.0</td><td>1.0</td></tr>\n",
       "          <tr><td>3.73</td><td>0.00</td></tr>\n",
       "          <tr><td>3.73</td><td>0.00</td></tr>\n",
       "        </table> 2 / 60</div>\n",
       "<div class=\"item\"><table style=\"\"><tr><td><b>Contract</b></td><td>talks</td><td>between</td><td>the</td><td>two</td></tr><tr><td><b>NN</b></td><td>NNS</td><td>IN</td><td>DT</td><td>CD</td></tr><tr><td><b>NNP</b></td><td>NNS</td><td>IN</td><td>DT</td><td>CD</td></tr></table>\n",
       "        <table>\n",
       "          <tr><td>bias</td><td>word:Contract</td></tr>\n",
       "          <tr><td>1.0</td><td>1.0</td></tr>\n",
       "          <tr><td>3.73</td><td>0.00</td></tr>\n",
       "          <tr><td>3.73</td><td>0.00</td></tr>\n",
       "        </table> 3 / 60</div>\n",
       "<div class=\"item\"><table style=\"\"><tr><td>deadlocked</td><td>over</td><td>such</td><td>issues</td><td>as</td><td><b>wage</b></td><td>increases</td><td>and</td><td>at</td><td>what</td></tr><tr><td>VBN</td><td>IN</td><td>JJ</td><td>NNS</td><td>IN</td><td><b>NN</b></td><td>NNS</td><td>CC</td><td>IN</td><td>WP</td></tr><tr><td>NNP</td><td>RP</td><td>PDT</td><td>NNS</td><td>IN</td><td><b>NNP</b></td><td>NNS</td><td>CC</td><td>IN</td><td>WP</td></tr></table>\n",
       "        <table>\n",
       "          <tr><td>bias</td><td>word:wage</td></tr>\n",
       "          <tr><td>1.0</td><td>1.0</td></tr>\n",
       "          <tr><td>3.73</td><td>0.00</td></tr>\n",
       "          <tr><td>3.73</td><td>0.00</td></tr>\n",
       "        </table> 4 / 60</div>\n",
       "<div class=\"item\"><table style=\"\"><tr><td>eligible</td><td>to</td><td>receive</td><td>a</td><td>full</td><td><b>pension</b></td><td>.</td></tr><tr><td>JJ</td><td>TO</td><td>VB</td><td>DT</td><td>JJ</td><td><b>NN</b></td><td>.</td></tr><tr><td>JJ</td><td>TO</td><td>VB</td><td>DT</td><td>JJ</td><td><b>NNP</b></td><td>.</td></tr></table>\n",
       "        <table>\n",
       "          <tr><td>bias</td><td>word:pension</td></tr>\n",
       "          <tr><td>1.0</td><td>1.0</td></tr>\n",
       "          <tr><td>3.73</td><td>0.00</td></tr>\n",
       "          <tr><td>3.73</td><td>0.00</td></tr>\n",
       "        </table> 5 / 60</div>\n",
       "<div class=\"item\"><table style=\"\"><tr><td><b>Union</b></td><td>head</td><td>Roger</td><td>Toussaint</td><td>calls</td></tr><tr><td><b>NN</b></td><td>NN</td><td>NNP</td><td>NNP</td><td>VBZ</td></tr><tr><td><b>NNP</b></td><td>VB</td><td>NNP</td><td>NNP</td><td>VBZ</td></tr></table>\n",
       "        <table>\n",
       "          <tr><td>bias</td><td>word:Union</td></tr>\n",
       "          <tr><td>1.0</td><td>1.0</td></tr>\n",
       "          <tr><td>3.73</td><td>-0.52</td></tr>\n",
       "          <tr><td>3.73</td><td>4.19</td></tr>\n",
       "        </table> 6 / 60</div>\n",
       "<div class=\"item\"><table style=\"\"><tr><td>in</td><td>effect</td><td>to</td><td>prevent</td><td>massive</td><td><b>traffic</b></td><td>jams</td><td>on</td><td>New</td><td>York</td></tr><tr><td>IN</td><td>NN</td><td>TO</td><td>VB</td><td>JJ</td><td><b>NN</b></td><td>NNS</td><td>IN</td><td>NNP</td><td>NNP</td></tr><tr><td>IN</td><td>NN</td><td>TO</td><td>VB</td><td>JJ</td><td><b>NNP</b></td><td>NNP</td><td>IN</td><td>NNP</td><td>NNP</td></tr></table>\n",
       "        <table>\n",
       "          <tr><td>bias</td><td>word:traffic</td></tr>\n",
       "          <tr><td>1.0</td><td>1.0</td></tr>\n",
       "          <tr><td>3.73</td><td>0.00</td></tr>\n",
       "          <tr><td>3.73</td><td>0.00</td></tr>\n",
       "        </table> 7 / 60</div>\n",
       "<div class=\"item\"><table style=\"\"><tr><td>hope</td><td>Cambodia</td><td>can</td><td>be</td><td>a</td><td><b>model</b></td><td>for</td><td>the</td><td>rest</td><td>of</td></tr><tr><td>NN</td><td>NNP</td><td>MD</td><td>VB</td><td>DT</td><td><b>NN</b></td><td>IN</td><td>DT</td><td>NN</td><td>IN</td></tr><tr><td>VBP</td><td>NNP</td><td>MD</td><td>VB</td><td>DT</td><td><b>NNP</b></td><td>IN</td><td>DT</td><td>NN</td><td>IN</td></tr></table>\n",
       "        <table>\n",
       "          <tr><td>bias</td><td>word:model</td></tr>\n",
       "          <tr><td>1.0</td><td>1.0</td></tr>\n",
       "          <tr><td>3.73</td><td>0.00</td></tr>\n",
       "          <tr><td>3.73</td><td>0.00</td></tr>\n",
       "        </table> 8 / 60</div>\n",
       "<div class=\"item\"><table style=\"\"><tr><td>Clinton</td><td>'s</td><td>visit</td><td>will</td><td>raise</td><td><b>awareness</b></td><td>about</td><td>H.I.V.</td><td>and</td><td>help</td></tr><tr><td>NNP</td><td>POS</td><td>NN</td><td>MD</td><td>VB</td><td><b>NN</b></td><td>IN</td><td>NNP</td><td>CC</td><td>VB</td></tr><tr><td>NNP</td><td>POS</td><td>VB</td><td>MD</td><td>VB</td><td><b>NNP</b></td><td>IN</td><td>NNP</td><td>CC</td><td>VB</td></tr></table>\n",
       "        <table>\n",
       "          <tr><td>bias</td><td>word:awareness</td></tr>\n",
       "          <tr><td>1.0</td><td>1.0</td></tr>\n",
       "          <tr><td>3.73</td><td>0.00</td></tr>\n",
       "          <tr><td>3.73</td><td>0.00</td></tr>\n",
       "        </table> 9 / 60</div>\n",
       "<div class=\"item\"><table style=\"\"><tr><td>all</td><td>acts</td><td>of</td><td>abuse</td><td>and</td><td><b>brutality</b></td><td>and</td><td>treats</td><td>allegations</td><td>of</td></tr><tr><td>DT</td><td>NNS</td><td>IN</td><td>NN</td><td>CC</td><td><b>NN</b></td><td>CC</td><td>VBZ</td><td>NNS</td><td>IN</td></tr><tr><td>PDT</td><td>NNS</td><td>IN</td><td>NN</td><td>CC</td><td><b>NNP</b></td><td>CC</td><td>NNP</td><td>NNS</td><td>IN</td></tr></table>\n",
       "        <table>\n",
       "          <tr><td>bias</td><td>word:brutality</td></tr>\n",
       "          <tr><td>1.0</td><td>1.0</td></tr>\n",
       "          <tr><td>3.73</td><td>0.00</td></tr>\n",
       "          <tr><td>3.73</td><td>0.00</td></tr>\n",
       "        </table> 10 / 60</div>\n",
       "<div class=\"item\"><table style=\"\"><tr><td>it</td><td>was</td><td>released</td><td>by</td><td>the</td><td><b>News</b></td><td>of</td><td>the</td><td>World</td><td>newspaper</td></tr><tr><td>PRP</td><td>VBD</td><td>VBN</td><td>IN</td><td>DT</td><td><b>NN</b></td><td>IN</td><td>DT</td><td>NNP</td><td>NN</td></tr><tr><td>PRP</td><td>VBD</td><td>VBN</td><td>IN</td><td>DT</td><td><b>NNP</b></td><td>IN</td><td>DT</td><td>NNP</td><td>NN</td></tr></table>\n",
       "        <table>\n",
       "          <tr><td>bias</td><td>word:News</td></tr>\n",
       "          <tr><td>1.0</td><td>1.0</td></tr>\n",
       "          <tr><td>3.73</td><td>-0.39</td></tr>\n",
       "          <tr><td>3.73</td><td>2.51</td></tr>\n",
       "        </table> 11 / 60</div>\n",
       "<div class=\"item\"><table style=\"\"><tr><td>is</td><td>head</td><td>of</td><td>Mogadishu</td><td>'s</td><td><b>ambulance</b></td><td>service</td><td>,</td><td>says</td><td>at</td></tr><tr><td>VBZ</td><td>NN</td><td>IN</td><td>NNP</td><td>POS</td><td><b>NN</b></td><td>NN</td><td>,</td><td>VBZ</td><td>IN</td></tr><tr><td>VBZ</td><td>VB</td><td>IN</td><td>NNP</td><td>POS</td><td><b>NNP</b></td><td>NN</td><td>,</td><td>VBZ</td><td>IN</td></tr></table>\n",
       "        <table>\n",
       "          <tr><td>bias</td><td>word:ambulance</td></tr>\n",
       "          <tr><td>1.0</td><td>1.0</td></tr>\n",
       "          <tr><td>3.73</td><td>0.00</td></tr>\n",
       "          <tr><td>3.73</td><td>0.00</td></tr>\n",
       "        </table> 12 / 60</div>\n",
       "<div class=\"item\"><table style=\"\"><tr><td>prompting</td><td>soldiers</td><td>to</td><td>launch</td><td>an</td><td><b>artillery</b></td><td>barrage</td><td>.</td></tr><tr><td>VBG</td><td>NNS</td><td>TO</td><td>VB</td><td>DT</td><td><b>NN</b></td><td>NN</td><td>.</td></tr><tr><td>VBG</td><td>NNS</td><td>TO</td><td>VB</td><td>DT</td><td><b>NNP</b></td><td>NNP</td><td>.</td></tr></table>\n",
       "        <table>\n",
       "          <tr><td>bias</td><td>word:artillery</td></tr>\n",
       "          <tr><td>1.0</td><td>1.0</td></tr>\n",
       "          <tr><td>3.73</td><td>0.00</td></tr>\n",
       "          <tr><td>3.73</td><td>0.00</td></tr>\n",
       "        </table> 13 / 60</div>\n",
       "<div class=\"item\"><table style=\"\"><tr><td>soldiers</td><td>to</td><td>launch</td><td>an</td><td>artillery</td><td><b>barrage</b></td><td>.</td></tr><tr><td>NNS</td><td>TO</td><td>VB</td><td>DT</td><td>NN</td><td><b>NN</b></td><td>.</td></tr><tr><td>NNS</td><td>TO</td><td>VB</td><td>DT</td><td>NNP</td><td><b>NNP</b></td><td>.</td></tr></table>\n",
       "        <table>\n",
       "          <tr><td>bias</td><td>word:barrage</td></tr>\n",
       "          <tr><td>1.0</td><td>1.0</td></tr>\n",
       "          <tr><td>3.73</td><td>0.00</td></tr>\n",
       "          <tr><td>3.73</td><td>0.00</td></tr>\n",
       "        </table> 14 / 60</div>\n",
       "<div class=\"item\"><table style=\"\"><tr><td>two</td><td>decades</td><td>of</td><td>violence</td><td>and</td><td><b>lawlessness</b></td><td>since</td><td>the</td><td>fall</td><td>of</td></tr><tr><td>CD</td><td>NNS</td><td>IN</td><td>NN</td><td>CC</td><td><b>NN</b></td><td>IN</td><td>DT</td><td>NN</td><td>IN</td></tr><tr><td>CD</td><td>NNS</td><td>IN</td><td>NN</td><td>CC</td><td><b>NNP</b></td><td>IN</td><td>DT</td><td>VB</td><td>IN</td></tr></table>\n",
       "        <table>\n",
       "          <tr><td>bias</td><td>word:lawlessness</td></tr>\n",
       "          <tr><td>1.0</td><td>1.0</td></tr>\n",
       "          <tr><td>3.73</td><td>0.00</td></tr>\n",
       "          <tr><td>3.73</td><td>0.00</td></tr>\n",
       "        </table> 15 / 60</div>\n",
       "<div class=\"item\"><table style=\"\"><tr><td>The</td><td><b>founder</b></td><td>of</td><td>Microsoft</td><td>,</td><td>Bill</td></tr><tr><td>DT</td><td><b>NN</b></td><td>IN</td><td>NNP</td><td>,</td><td>NNP</td></tr><tr><td>DT</td><td><b>NNP</b></td><td>IN</td><td>NNP</td><td>,</td><td>NNP</td></tr></table>\n",
       "        <table>\n",
       "          <tr><td>bias</td><td>word:founder</td></tr>\n",
       "          <tr><td>1.0</td><td>1.0</td></tr>\n",
       "          <tr><td>3.73</td><td>0.00</td></tr>\n",
       "          <tr><td>3.73</td><td>0.00</td></tr>\n",
       "        </table> 16 / 60</div>\n",
       "<div class=\"item\"><table style=\"\"><tr><td>university</td><td>students</td><td>eager</td><td>for</td><td>a</td><td><b>glimpse</b></td><td>of</td><td>the</td><td>world</td><td>'s</td></tr><tr><td>NN</td><td>NNS</td><td>JJ</td><td>IN</td><td>DT</td><td><b>NN</b></td><td>IN</td><td>DT</td><td>NN</td><td>POS</td></tr><tr><td>NN</td><td>NNS</td><td>NNP</td><td>IN</td><td>DT</td><td><b>NNP</b></td><td>IN</td><td>DT</td><td>NN</td><td>POS</td></tr></table>\n",
       "        <table>\n",
       "          <tr><td>bias</td><td>word:glimpse</td></tr>\n",
       "          <tr><td>1.0</td><td>1.0</td></tr>\n",
       "          <tr><td>3.73</td><td>0.00</td></tr>\n",
       "          <tr><td>3.73</td><td>0.00</td></tr>\n",
       "        </table> 17 / 60</div>\n",
       "<div class=\"item\"><table style=\"\"><tr><td>the</td><td>government</td><td>landed</td><td>a</td><td>high</td><td><b>tech</b></td><td>deal</td><td>when</td><td>leading</td><td>chipmaker</td></tr><tr><td>DT</td><td>NN</td><td>VBD</td><td>DT</td><td>JJ</td><td><b>NN</b></td><td>NN</td><td>WRB</td><td>VBG</td><td>NN</td></tr><tr><td>DT</td><td>NN</td><td>VBN</td><td>DT</td><td>JJ</td><td><b>NNP</b></td><td>NN</td><td>WRB</td><td>VBG</td><td>NNP</td></tr></table>\n",
       "        <table>\n",
       "          <tr><td>bias</td><td>word:tech</td></tr>\n",
       "          <tr><td>1.0</td><td>1.0</td></tr>\n",
       "          <tr><td>3.73</td><td>0.00</td></tr>\n",
       "          <tr><td>3.73</td><td>0.00</td></tr>\n",
       "        </table> 18 / 60</div>\n",
       "<div class=\"item\"><table style=\"\"><tr><td>high</td><td>tech</td><td>deal</td><td>when</td><td>leading</td><td><b>chipmaker</b></td><td>Intel</td><td>Corporation</td><td>announced</td><td>it</td></tr><tr><td>JJ</td><td>NN</td><td>NN</td><td>WRB</td><td>VBG</td><td><b>NN</b></td><td>NNP</td><td>NNP</td><td>VBD</td><td>PRP</td></tr><tr><td>JJ</td><td>NNP</td><td>NN</td><td>WRB</td><td>VBG</td><td><b>NNP</b></td><td>NNP</td><td>NNP</td><td>VBD</td><td>PRP</td></tr></table>\n",
       "        <table>\n",
       "          <tr><td>bias</td><td>word:chipmaker</td></tr>\n",
       "          <tr><td>1.0</td><td>1.0</td></tr>\n",
       "          <tr><td>3.73</td><td>0.00</td></tr>\n",
       "          <tr><td>3.73</td><td>0.00</td></tr>\n",
       "        </table> 19 / 60</div>\n",
       "<div class=\"item\"><table style=\"\"><tr><td>The</td><td>ingredient</td><td>,</td><td>called</td><td><b>artemisinin</b></td><td>,</td><td>is</td><td>extracted</td><td>from</td></tr><tr><td>DT</td><td>NN</td><td>,</td><td>VBN</td><td><b>NN</b></td><td>,</td><td>VBZ</td><td>VBN</td><td>IN</td></tr><tr><td>DT</td><td>NN</td><td>,</td><td>VBD</td><td><b>NNP</b></td><td>,</td><td>VBZ</td><td>VBN</td><td>IN</td></tr></table>\n",
       "        <table>\n",
       "          <tr><td>bias</td><td>word:artemisinin</td></tr>\n",
       "          <tr><td>1.0</td><td>1.0</td></tr>\n",
       "          <tr><td>3.73</td><td>0.00</td></tr>\n",
       "          <tr><td>3.73</td><td>0.00</td></tr>\n",
       "        </table> 20 / 60</div>\n",
       "<div class=\"item\"><table style=\"\"><tr><td>form</td><td>of</td><td>malaria</td><td>,</td><td>called</td><td><b>falciparum</b></td><td>.</td></tr><tr><td>NN</td><td>IN</td><td>NN</td><td>,</td><td>VBD</td><td><b>NN</b></td><td>.</td></tr><tr><td>VB</td><td>IN</td><td>NN</td><td>,</td><td>VBD</td><td><b>NNP</b></td><td>.</td></tr></table>\n",
       "        <table>\n",
       "          <tr><td>bias</td><td>word:falciparum</td></tr>\n",
       "          <tr><td>1.0</td><td>1.0</td></tr>\n",
       "          <tr><td>3.73</td><td>0.00</td></tr>\n",
       "          <tr><td>3.73</td><td>0.00</td></tr>\n",
       "        </table> 21 / 60</div>\n",
       "<div class=\"item\"><table style=\"\"><tr><td>using</td><td>the</td><td>euro</td><td>as</td><td>their</td><td><b>currency</b></td><td>have</td><td>not</td><td>done</td><td>as</td></tr><tr><td>VBG</td><td>DT</td><td>NN</td><td>IN</td><td>PRP$</td><td><b>NN</b></td><td>VBP</td><td>RB</td><td>VBN</td><td>RB</td></tr><tr><td>VBG</td><td>DT</td><td>NN</td><td>IN</td><td>PRP$</td><td><b>NNP</b></td><td>VBP</td><td>RB</td><td>VBN</td><td>IN</td></tr></table>\n",
       "        <table>\n",
       "          <tr><td>bias</td><td>word:currency</td></tr>\n",
       "          <tr><td>1.0</td><td>1.0</td></tr>\n",
       "          <tr><td>3.73</td><td>0.00</td></tr>\n",
       "          <tr><td>3.73</td><td>0.00</td></tr>\n",
       "        </table> 22 / 60</div>\n",
       "<div class=\"item\"><table style=\"\"><tr><td>do</td><td>not</td><td>yet</td><td>know</td><td>the</td><td><b>origin</b></td><td>of</td><td>the</td><td>dead</td><td>birds</td></tr><tr><td>VBP</td><td>RB</td><td>RB</td><td>VB</td><td>DT</td><td><b>NN</b></td><td>IN</td><td>DT</td><td>JJ</td><td>NNS</td></tr><tr><td>VB</td><td>RB</td><td>RB</td><td>VB</td><td>DT</td><td><b>NNP</b></td><td>IN</td><td>DT</td><td>JJ</td><td>NNS</td></tr></table>\n",
       "        <table>\n",
       "          <tr><td>bias</td><td>word:origin</td></tr>\n",
       "          <tr><td>1.0</td><td>1.0</td></tr>\n",
       "          <tr><td>3.73</td><td>0.00</td></tr>\n",
       "          <tr><td>3.73</td><td>0.00</td></tr>\n",
       "        </table> 23 / 60</div>\n",
       "<div class=\"item\"><table style=\"\"><tr><td>,</td><td>Valery</td><td>Sitnikov</td><td>,</td><td>said</td><td><b>bio-terrorism</b></td><td>can</td><td>not</td><td>be</td><td>ruled</td></tr><tr><td>,</td><td>NNP</td><td>NNP</td><td>,</td><td>VBD</td><td><b>NN</b></td><td>MD</td><td>RB</td><td>VB</td><td>VBN</td></tr><tr><td>,</td><td>NNP</td><td>NNP</td><td>,</td><td>VBD</td><td><b>NNP</b></td><td>MD</td><td>RB</td><td>VB</td><td>VBN</td></tr></table>\n",
       "        <table>\n",
       "          <tr><td>bias</td><td>word:bio-terrorism</td></tr>\n",
       "          <tr><td>1.0</td><td>1.0</td></tr>\n",
       "          <tr><td>3.73</td><td>0.00</td></tr>\n",
       "          <tr><td>3.73</td><td>0.00</td></tr>\n",
       "        </table> 24 / 60</div>\n",
       "<div class=\"item\"><table style=\"\"><tr><td>four</td><td>murders</td><td>and</td><td>was</td><td>the</td><td><b>co-founder</b></td><td>of</td><td>the</td><td>infamous</td><td>Crips</td></tr><tr><td>CD</td><td>NNS</td><td>CC</td><td>VBD</td><td>DT</td><td><b>NN</b></td><td>IN</td><td>DT</td><td>JJ</td><td>NNP</td></tr><tr><td>CD</td><td>NNS</td><td>CC</td><td>VBD</td><td>DT</td><td><b>NNP</b></td><td>IN</td><td>DT</td><td>NNP</td><td>NNP</td></tr></table>\n",
       "        <table>\n",
       "          <tr><td>bias</td><td>word:co-founder</td></tr>\n",
       "          <tr><td>1.0</td><td>1.0</td></tr>\n",
       "          <tr><td>3.73</td><td>0.00</td></tr>\n",
       "          <tr><td>3.73</td><td>0.00</td></tr>\n",
       "        </table> 25 / 60</div>\n",
       "<div class=\"item\"><table style=\"\"><tr><td>In</td><td>two</td><td>other</td><td>death</td><td><b>penalty</b></td><td>cases</td><td>he</td><td>has</td><td>refused</td></tr><tr><td>IN</td><td>CD</td><td>JJ</td><td>NN</td><td><b>NN</b></td><td>NNS</td><td>PRP</td><td>VBZ</td><td>VBN</td></tr><tr><td>IN</td><td>CD</td><td>JJ</td><td>NN</td><td><b>NNP</b></td><td>NNS</td><td>PRP</td><td>VBZ</td><td>VBN</td></tr></table>\n",
       "        <table>\n",
       "          <tr><td>bias</td><td>word:penalty</td></tr>\n",
       "          <tr><td>1.0</td><td>1.0</td></tr>\n",
       "          <tr><td>3.73</td><td>0.00</td></tr>\n",
       "          <tr><td>3.73</td><td>0.00</td></tr>\n",
       "        </table> 26 / 60</div>\n",
       "<div class=\"item\"><table style=\"\"><tr><td>After</td><td>the</td><td><b>registration</b></td><td>period</td><td>ends</td><td>,</td><td>applicants</td></tr><tr><td>IN</td><td>DT</td><td><b>NN</b></td><td>NN</td><td>VBZ</td><td>,</td><td>NNS</td></tr><tr><td>IN</td><td>DT</td><td><b>NNP</b></td><td>NN</td><td>VBZ</td><td>,</td><td>NNS</td></tr></table>\n",
       "        <table>\n",
       "          <tr><td>bias</td><td>word:registration</td></tr>\n",
       "          <tr><td>1.0</td><td>1.0</td></tr>\n",
       "          <tr><td>3.73</td><td>0.00</td></tr>\n",
       "          <tr><td>3.73</td><td>0.00</td></tr>\n",
       "        </table> 27 / 60</div>\n",
       "<div class=\"item\"><table style=\"\"><tr><td>,</td><td>which</td><td>will</td><td>determine</td><td>the</td><td><b>make-up</b></td><td>of</td><td>the</td><td>presidential</td><td>ballot</td></tr><tr><td>,</td><td>WDT</td><td>MD</td><td>VB</td><td>DT</td><td><b>NN</b></td><td>IN</td><td>DT</td><td>JJ</td><td>NN</td></tr><tr><td>,</td><td>WDT</td><td>MD</td><td>VB</td><td>DT</td><td><b>NNP</b></td><td>IN</td><td>DT</td><td>JJ</td><td>NN</td></tr></table>\n",
       "        <table>\n",
       "          <tr><td>bias</td><td>word:make-up</td></tr>\n",
       "          <tr><td>1.0</td><td>1.0</td></tr>\n",
       "          <tr><td>3.73</td><td>0.00</td></tr>\n",
       "          <tr><td>3.73</td><td>0.00</td></tr>\n",
       "        </table> 28 / 60</div>\n",
       "<div class=\"item\"><table style=\"\"><tr><td>Competitive</td><td><b>diving</b></td><td>is</td><td>one</td><td>of</td><td>the</td></tr><tr><td>JJ</td><td><b>NN</b></td><td>VBZ</td><td>CD</td><td>IN</td><td>DT</td></tr><tr><td>NNP</td><td><b>NNP</b></td><td>VBZ</td><td>CD</td><td>IN</td><td>DT</td></tr></table>\n",
       "        <table>\n",
       "          <tr><td>bias</td><td>word:diving</td></tr>\n",
       "          <tr><td>1.0</td><td>1.0</td></tr>\n",
       "          <tr><td>3.73</td><td>0.00</td></tr>\n",
       "          <tr><td>3.73</td><td>0.00</td></tr>\n",
       "        </table> 29 / 60</div>\n",
       "<div class=\"item\"><table style=\"\"><tr><td>Recreational</td><td><b>diving</b></td><td>is</td><td>also</td><td>a</td><td>growing</td></tr><tr><td>JJ</td><td><b>NN</b></td><td>VBZ</td><td>RB</td><td>DT</td><td>VBG</td></tr><tr><td>NNP</td><td><b>NNP</b></td><td>VBZ</td><td>RB</td><td>DT</td><td>VBG</td></tr></table>\n",
       "        <table>\n",
       "          <tr><td>bias</td><td>word:diving</td></tr>\n",
       "          <tr><td>1.0</td><td>1.0</td></tr>\n",
       "          <tr><td>3.73</td><td>0.00</td></tr>\n",
       "          <tr><td>3.73</td><td>0.00</td></tr>\n",
       "        </table> 30 / 60</div>\n",
       "<div class=\"item\"><table style=\"\"><tr><td>diving</td><td>is</td><td>also</td><td>a</td><td>growing</td><td><b>amateur</b></td><td>sport</td><td>in</td><td>the</td><td>U.S.</td></tr><tr><td>NN</td><td>VBZ</td><td>RB</td><td>DT</td><td>VBG</td><td><b>NN</b></td><td>NN</td><td>IN</td><td>DT</td><td>NNP</td></tr><tr><td>NNP</td><td>VBZ</td><td>RB</td><td>DT</td><td>VBG</td><td><b>NNP</b></td><td>NN</td><td>IN</td><td>DT</td><td>NNP</td></tr></table>\n",
       "        <table>\n",
       "          <tr><td>bias</td><td>word:amateur</td></tr>\n",
       "          <tr><td>1.0</td><td>1.0</td></tr>\n",
       "          <tr><td>3.73</td><td>0.00</td></tr>\n",
       "          <tr><td>3.73</td><td>0.00</td></tr>\n",
       "        </table> 31 / 60</div>\n",
       "<div class=\"item\"><table style=\"\"><tr><td>Unfortunately</td><td>,</td><td>the</td><td><b>joy</b></td><td>of</td><td>jumping</td><td>off</td><td>the</td></tr><tr><td>RB</td><td>,</td><td>DT</td><td><b>NN</b></td><td>IN</td><td>VBG</td><td>RP</td><td>DT</td></tr><tr><td>NNP</td><td>,</td><td>DT</td><td><b>NNP</b></td><td>IN</td><td>NNP</td><td>RP</td><td>DT</td></tr></table>\n",
       "        <table>\n",
       "          <tr><td>bias</td><td>word:joy</td></tr>\n",
       "          <tr><td>1.0</td><td>1.0</td></tr>\n",
       "          <tr><td>3.73</td><td>0.00</td></tr>\n",
       "          <tr><td>3.73</td><td>0.00</td></tr>\n",
       "        </table> 32 / 60</div>\n",
       "<div class=\"item\"><table style=\"\"><tr><td>diving</td><td>board</td><td>at</td><td>the</td><td>local</td><td><b>swimming</b></td><td>pool</td><td>has</td><td>too</td><td>often</td></tr><tr><td>VBG</td><td>NN</td><td>IN</td><td>DT</td><td>JJ</td><td><b>NN</b></td><td>NN</td><td>VBZ</td><td>RB</td><td>RB</td></tr><tr><td>NNP</td><td>NN</td><td>IN</td><td>DT</td><td>JJ</td><td><b>NNP</b></td><td>NNP</td><td>VBZ</td><td>RB</td><td>RB</td></tr></table>\n",
       "        <table>\n",
       "          <tr><td>bias</td><td>word:swimming</td></tr>\n",
       "          <tr><td>1.0</td><td>1.0</td></tr>\n",
       "          <tr><td>3.73</td><td>0.00</td></tr>\n",
       "          <tr><td>3.73</td><td>0.00</td></tr>\n",
       "        </table> 33 / 60</div>\n",
       "<div class=\"item\"><table style=\"\"><tr><td>board</td><td>at</td><td>the</td><td>local</td><td>swimming</td><td><b>pool</b></td><td>has</td><td>too</td><td>often</td><td>been</td></tr><tr><td>NN</td><td>IN</td><td>DT</td><td>JJ</td><td>NN</td><td><b>NN</b></td><td>VBZ</td><td>RB</td><td>RB</td><td>VBN</td></tr><tr><td>NN</td><td>IN</td><td>DT</td><td>JJ</td><td>NNP</td><td><b>NNP</b></td><td>VBZ</td><td>RB</td><td>RB</td><td>VBN</td></tr></table>\n",
       "        <table>\n",
       "          <tr><td>bias</td><td>word:pool</td></tr>\n",
       "          <tr><td>1.0</td><td>1.0</td></tr>\n",
       "          <tr><td>3.73</td><td>0.00</td></tr>\n",
       "          <tr><td>3.73</td><td>0.00</td></tr>\n",
       "        </table> 34 / 60</div>\n",
       "<div class=\"item\"><table style=\"\"><tr><td>An</td><td>official</td><td>with</td><td>Canada</td><td>'s</td><td><b>spy</b></td><td>agency</td><td>has</td><td>said</td><td>that</td></tr><tr><td>DT</td><td>NN</td><td>IN</td><td>NNP</td><td>POS</td><td><b>NN</b></td><td>NN</td><td>VBZ</td><td>VBN</td><td>IN</td></tr><tr><td>DT</td><td>JJ</td><td>IN</td><td>NNP</td><td>POS</td><td><b>NNP</b></td><td>NN</td><td>VBZ</td><td>VBD</td><td>WDT</td></tr></table>\n",
       "        <table>\n",
       "          <tr><td>bias</td><td>word:spy</td></tr>\n",
       "          <tr><td>1.0</td><td>1.0</td></tr>\n",
       "          <tr><td>3.73</td><td>0.00</td></tr>\n",
       "          <tr><td>3.73</td><td>0.00</td></tr>\n",
       "        </table> 35 / 60</div>\n",
       "<div class=\"item\"><table style=\"\"><tr><td>before</td><td>Mr.</td><td>Chavez</td><td>'s</td><td>afternoon</td><td><b>departure</b></td><td>.</td></tr><tr><td>IN</td><td>NNP</td><td>NNP</td><td>POS</td><td>NN</td><td><b>NN</b></td><td>.</td></tr><tr><td>IN</td><td>NNP</td><td>NNP</td><td>POS</td><td>NN</td><td><b>NNP</b></td><td>.</td></tr></table>\n",
       "        <table>\n",
       "          <tr><td>bias</td><td>word:departure</td></tr>\n",
       "          <tr><td>1.0</td><td>1.0</td></tr>\n",
       "          <tr><td>3.73</td><td>0.00</td></tr>\n",
       "          <tr><td>3.73</td><td>0.00</td></tr>\n",
       "        </table> 36 / 60</div>\n",
       "<div class=\"item\"><table style=\"\"><tr><td>cancellations</td><td>on</td><td>the</td><td>pope</td><td>'s</td><td><b>schedule</b></td><td>,</td><td>but</td><td>did</td><td>not</td></tr><tr><td>NNS</td><td>IN</td><td>DT</td><td>NN</td><td>POS</td><td><b>NN</b></td><td>,</td><td>CC</td><td>VBD</td><td>RB</td></tr><tr><td>NNP</td><td>IN</td><td>DT</td><td>NN</td><td>POS</td><td><b>NNP</b></td><td>,</td><td>CC</td><td>VBD</td><td>RB</td></tr></table>\n",
       "        <table>\n",
       "          <tr><td>bias</td><td>word:schedule</td></tr>\n",
       "          <tr><td>1.0</td><td>1.0</td></tr>\n",
       "          <tr><td>3.73</td><td>0.00</td></tr>\n",
       "          <tr><td>3.73</td><td>0.00</td></tr>\n",
       "        </table> 37 / 60</div>\n",
       "<div class=\"item\"><table style=\"\"><tr><td>from</td><td>Parkinson</td><td>'s</td><td>disease</td><td>and</td><td><b>arthritis</b></td><td>,</td><td>but</td><td>continues</td><td>to</td></tr><tr><td>IN</td><td>NNP</td><td>POS</td><td>NN</td><td>CC</td><td><b>NN</b></td><td>,</td><td>CC</td><td>VBZ</td><td>TO</td></tr><tr><td>IN</td><td>NNP</td><td>POS</td><td>NN</td><td>CC</td><td><b>NNP</b></td><td>,</td><td>CC</td><td>VBZ</td><td>TO</td></tr></table>\n",
       "        <table>\n",
       "          <tr><td>bias</td><td>word:arthritis</td></tr>\n",
       "          <tr><td>1.0</td><td>1.0</td></tr>\n",
       "          <tr><td>3.73</td><td>0.00</td></tr>\n",
       "          <tr><td>3.73</td><td>0.00</td></tr>\n",
       "        </table> 38 / 60</div>\n",
       "<div class=\"item\"><table style=\"\"><tr><td>to</td><td>maintain</td><td>a</td><td>full</td><td>travel</td><td><b>schedule</b></td><td>,</td><td>hold</td><td>audiences</td><td>and</td></tr><tr><td>TO</td><td>VB</td><td>DT</td><td>JJ</td><td>NN</td><td><b>NN</b></td><td>,</td><td>NN</td><td>NNS</td><td>CC</td></tr><tr><td>TO</td><td>VB</td><td>DT</td><td>JJ</td><td>VB</td><td><b>NNP</b></td><td>,</td><td>VB</td><td>NNP</td><td>CC</td></tr></table>\n",
       "        <table>\n",
       "          <tr><td>bias</td><td>word:schedule</td></tr>\n",
       "          <tr><td>1.0</td><td>1.0</td></tr>\n",
       "          <tr><td>3.73</td><td>0.00</td></tr>\n",
       "          <tr><td>3.73</td><td>0.00</td></tr>\n",
       "        </table> 39 / 60</div>\n",
       "<div class=\"item\"><table style=\"\"><tr><td>hold</td><td>audiences</td><td>and</td><td>perform</td><td>his</td><td><b>papal</b></td><td>duties</td><td>.</td></tr><tr><td>NN</td><td>NNS</td><td>CC</td><td>VB</td><td>PRP$</td><td><b>NN</b></td><td>NNS</td><td>.</td></tr><tr><td>VB</td><td>NNP</td><td>CC</td><td>VBP</td><td>PRP$</td><td><b>NNP</b></td><td>NNS</td><td>.</td></tr></table>\n",
       "        <table>\n",
       "          <tr><td>bias</td><td>word:papal</td></tr>\n",
       "          <tr><td>1.0</td><td>1.0</td></tr>\n",
       "          <tr><td>3.73</td><td>0.00</td></tr>\n",
       "          <tr><td>3.73</td><td>0.00</td></tr>\n",
       "        </table> 40 / 60</div>\n",
       "<div class=\"item\"><table style=\"\"><tr><td>Israel</td><td>completed</td><td>its</td><td><b>handover</b></td><td>of</td><td>the</td><td>West</td><td>Bank</td></tr><tr><td>NNP</td><td>VBD</td><td>PRP$</td><td><b>NN</b></td><td>IN</td><td>DT</td><td>NNP</td><td>NNP</td></tr><tr><td>NNP</td><td>VBN</td><td>PRP$</td><td><b>NNP</b></td><td>IN</td><td>DT</td><td>NNP</td><td>NNP</td></tr></table>\n",
       "        <table>\n",
       "          <tr><td>bias</td><td>word:handover</td></tr>\n",
       "          <tr><td>1.0</td><td>1.0</td></tr>\n",
       "          <tr><td>3.73</td><td>0.00</td></tr>\n",
       "          <tr><td>3.73</td><td>0.00</td></tr>\n",
       "        </table> 41 / 60</div>\n",
       "<div class=\"item\"><table style=\"\"><tr><td>armed</td><td>men</td><td>stormed</td><td>into</td><td>a</td><td><b>bar</b></td><td>in</td><td>western</td><td>Mexico</td><td>and</td></tr><tr><td>JJ</td><td>NNS</td><td>VBD</td><td>IN</td><td>DT</td><td><b>NN</b></td><td>IN</td><td>JJ</td><td>NNP</td><td>CC</td></tr><tr><td>JJ</td><td>NNS</td><td>VBD</td><td>IN</td><td>DT</td><td><b>NNP</b></td><td>IN</td><td>JJ</td><td>NNP</td><td>CC</td></tr></table>\n",
       "        <table>\n",
       "          <tr><td>bias</td><td>word:bar</td></tr>\n",
       "          <tr><td>1.0</td><td>1.0</td></tr>\n",
       "          <tr><td>3.73</td><td>0.00</td></tr>\n",
       "          <tr><td>3.73</td><td>0.00</td></tr>\n",
       "        </table> 42 / 60</div>\n",
       "<div class=\"item\"><table style=\"\"><tr><td>air</td><td>as</td><td>they</td><td>entered</td><td>the</td><td><b>bar</b></td><td>in</td><td>Michoacan</td><td>state</td><td>before</td></tr><tr><td>NN</td><td>IN</td><td>PRP</td><td>VBD</td><td>DT</td><td><b>NN</b></td><td>IN</td><td>NNP</td><td>NN</td><td>IN</td></tr><tr><td>NN</td><td>IN</td><td>PRP</td><td>VBD</td><td>DT</td><td><b>NNP</b></td><td>IN</td><td>NNP</td><td>NN</td><td>IN</td></tr></table>\n",
       "        <table>\n",
       "          <tr><td>bias</td><td>word:bar</td></tr>\n",
       "          <tr><td>1.0</td><td>1.0</td></tr>\n",
       "          <tr><td>3.73</td><td>0.00</td></tr>\n",
       "          <tr><td>3.73</td><td>0.00</td></tr>\n",
       "        </table> 43 / 60</div>\n",
       "<div class=\"item\"><table style=\"\"><tr><td>bar</td><td>in</td><td>Michoacan</td><td>state</td><td>before</td><td><b>dawn</b></td><td>Wednesday</td><td>.</td></tr><tr><td>NN</td><td>IN</td><td>NNP</td><td>NN</td><td>IN</td><td><b>NN</b></td><td>NNP</td><td>.</td></tr><tr><td>NNP</td><td>IN</td><td>NNP</td><td>NN</td><td>IN</td><td><b>NNP</b></td><td>NNP</td><td>.</td></tr></table>\n",
       "        <table>\n",
       "          <tr><td>bias</td><td>word:dawn</td></tr>\n",
       "          <tr><td>1.0</td><td>1.0</td></tr>\n",
       "          <tr><td>3.73</td><td>0.00</td></tr>\n",
       "          <tr><td>3.73</td><td>0.00</td></tr>\n",
       "        </table> 44 / 60</div>\n",
       "<div class=\"item\"><table style=\"\"><tr><td>The</td><td>group</td><td>also</td><td>left</td><td>a</td><td><b>note</b></td><td>saying</td><td>the</td><td>killings</td><td>were</td></tr><tr><td>DT</td><td>NN</td><td>RB</td><td>VBD</td><td>DT</td><td><b>NN</b></td><td>VBG</td><td>DT</td><td>NNS</td><td>VBD</td></tr><tr><td>DT</td><td>NN</td><td>RB</td><td>VBD</td><td>DT</td><td><b>NNP</b></td><td>VBG</td><td>DT</td><td>NNS</td><td>VBD</td></tr></table>\n",
       "        <table>\n",
       "          <tr><td>bias</td><td>word:note</td></tr>\n",
       "          <tr><td>1.0</td><td>1.0</td></tr>\n",
       "          <tr><td>3.73</td><td>0.00</td></tr>\n",
       "          <tr><td>3.73</td><td>0.00</td></tr>\n",
       "        </table> 45 / 60</div>\n",
       "<div class=\"item\"><table style=\"\"><tr><td>of</td><td>what</td><td>it</td><td>called</td><td>\"</td><td><b>divine</b></td><td>justice</td><td>.</td><td>\"</td></tr><tr><td>IN</td><td>WP</td><td>PRP</td><td>VBD</td><td>``</td><td><b>NN</b></td><td>NN</td><td>.</td><td>``</td></tr><tr><td>IN</td><td>WP</td><td>PRP</td><td>VBD</td><td>``</td><td><b>NNP</b></td><td>NN</td><td>.</td><td>``</td></tr></table>\n",
       "        <table>\n",
       "          <tr><td>bias</td><td>word:divine</td></tr>\n",
       "          <tr><td>1.0</td><td>1.0</td></tr>\n",
       "          <tr><td>3.73</td><td>0.00</td></tr>\n",
       "          <tr><td>3.73</td><td>0.00</td></tr>\n",
       "        </table> 46 / 60</div>\n",
       "<div class=\"item\"><table style=\"\"><tr><td>children</td><td>were</td><td>killed</td><td>in</td><td>a</td><td><b>stampede</b></td><td>in</td><td>the</td><td>southern</td><td>city</td></tr><tr><td>NNS</td><td>VBD</td><td>VBN</td><td>IN</td><td>DT</td><td><b>NN</b></td><td>IN</td><td>DT</td><td>JJ</td><td>NN</td></tr><tr><td>NNS</td><td>VBD</td><td>VBN</td><td>IN</td><td>DT</td><td><b>NNP</b></td><td>IN</td><td>DT</td><td>JJ</td><td>NN</td></tr></table>\n",
       "        <table>\n",
       "          <tr><td>bias</td><td>word:stampede</td></tr>\n",
       "          <tr><td>1.0</td><td>1.0</td></tr>\n",
       "          <tr><td>3.73</td><td>0.00</td></tr>\n",
       "          <tr><td>3.73</td><td>0.00</td></tr>\n",
       "        </table> 47 / 60</div>\n",
       "<div class=\"item\"><table style=\"\"><tr><td>were</td><td>waiting</td><td>to</td><td>get</td><td>free</td><td><b>flour</b></td><td>.</td></tr><tr><td>VBD</td><td>VBG</td><td>TO</td><td>VB</td><td>JJ</td><td><b>NN</b></td><td>.</td></tr><tr><td>VBD</td><td>VBG</td><td>TO</td><td>VB</td><td>VB</td><td><b>NNP</b></td><td>.</td></tr></table>\n",
       "        <table>\n",
       "          <tr><td>bias</td><td>word:flour</td></tr>\n",
       "          <tr><td>1.0</td><td>1.0</td></tr>\n",
       "          <tr><td>3.73</td><td>0.00</td></tr>\n",
       "          <tr><td>3.73</td><td>0.00</td></tr>\n",
       "        </table> 48 / 60</div>\n",
       "<div class=\"item\"><table style=\"\"><tr><td>group</td><td>was</td><td>giving</td><td>out</td><td>the</td><td><b>flour</b></td><td>in</td><td>honor</td><td>of</td><td>the</td></tr><tr><td>NN</td><td>VBD</td><td>VBG</td><td>RP</td><td>DT</td><td><b>NN</b></td><td>IN</td><td>NN</td><td>IN</td><td>DT</td></tr><tr><td>NN</td><td>VBD</td><td>VBG</td><td>RP</td><td>DT</td><td><b>NNP</b></td><td>IN</td><td>VB</td><td>IN</td><td>DT</td></tr></table>\n",
       "        <table>\n",
       "          <tr><td>bias</td><td>word:flour</td></tr>\n",
       "          <tr><td>1.0</td><td>1.0</td></tr>\n",
       "          <tr><td>3.73</td><td>0.00</td></tr>\n",
       "          <tr><td>3.73</td><td>0.00</td></tr>\n",
       "        </table> 49 / 60</div>\n",
       "<div class=\"item\"><table style=\"\"><tr><td>of</td><td>the</td><td>victims</td><td>died</td><td>of</td><td><b>suffocation</b></td><td>.</td></tr><tr><td>IN</td><td>DT</td><td>NNS</td><td>VBD</td><td>IN</td><td><b>NN</b></td><td>.</td></tr><tr><td>IN</td><td>DT</td><td>NNS</td><td>VBD</td><td>IN</td><td><b>NNP</b></td><td>.</td></tr></table>\n",
       "        <table>\n",
       "          <tr><td>bias</td><td>word:suffocation</td></tr>\n",
       "          <tr><td>1.0</td><td>1.0</td></tr>\n",
       "          <tr><td>3.73</td><td>0.00</td></tr>\n",
       "          <tr><td>3.73</td><td>0.00</td></tr>\n",
       "        </table> 50 / 60</div>\n",
       "<div class=\"item\"><table style=\"\"><tr><td>50</td><td>members</td><td>of</td><td>Israel</td><td>'s</td><td><b>theater</b></td><td>community</td><td>have</td><td>signed</td><td>a</td></tr><tr><td>CD</td><td>NNS</td><td>IN</td><td>NNP</td><td>POS</td><td><b>NN</b></td><td>NN</td><td>VBP</td><td>VBN</td><td>DT</td></tr><tr><td>CD</td><td>NNS</td><td>IN</td><td>NNP</td><td>POS</td><td><b>NNP</b></td><td>NN</td><td>VBP</td><td>VBN</td><td>DT</td></tr></table>\n",
       "        <table>\n",
       "          <tr><td>bias</td><td>word:theater</td></tr>\n",
       "          <tr><td>1.0</td><td>1.0</td></tr>\n",
       "          <tr><td>3.73</td><td>0.00</td></tr>\n",
       "          <tr><td>3.73</td><td>0.00</td></tr>\n",
       "        </table> 51 / 60</div>\n",
       "<div class=\"item\"><table style=\"\"><tr><td>theater</td><td>community</td><td>have</td><td>signed</td><td>a</td><td><b>petition</b></td><td>to</td><td>boycott</td><td>performances</td><td>at</td></tr><tr><td>NN</td><td>NN</td><td>VBP</td><td>VBN</td><td>DT</td><td><b>NN</b></td><td>TO</td><td>VB</td><td>NNS</td><td>IN</td></tr><tr><td>NNP</td><td>NN</td><td>VBP</td><td>VBN</td><td>DT</td><td><b>NNP</b></td><td>TO</td><td>VB</td><td>NNS</td><td>IN</td></tr></table>\n",
       "        <table>\n",
       "          <tr><td>bias</td><td>word:petition</td></tr>\n",
       "          <tr><td>1.0</td><td>1.0</td></tr>\n",
       "          <tr><td>3.73</td><td>0.00</td></tr>\n",
       "          <tr><td>3.73</td><td>0.00</td></tr>\n",
       "        </table> 52 / 60</div>\n",
       "<div class=\"item\"><table style=\"\"><tr><td>boycott</td><td>performances</td><td>at</td><td>a</td><td>state-funded</td><td><b>theater</b></td><td>in</td><td>the</td><td>northern</td><td>West</td></tr><tr><td>VB</td><td>NNS</td><td>IN</td><td>DT</td><td>JJ</td><td><b>NN</b></td><td>IN</td><td>DT</td><td>JJ</td><td>NNP</td></tr><tr><td>VB</td><td>NNS</td><td>IN</td><td>DT</td><td>NNP</td><td><b>NNP</b></td><td>IN</td><td>DT</td><td>JJ</td><td>NNP</td></tr></table>\n",
       "        <table>\n",
       "          <tr><td>bias</td><td>word:theater</td></tr>\n",
       "          <tr><td>1.0</td><td>1.0</td></tr>\n",
       "          <tr><td>3.73</td><td>0.00</td></tr>\n",
       "          <tr><td>3.73</td><td>0.00</td></tr>\n",
       "        </table> 53 / 60</div>\n",
       "<div class=\"item\"><table style=\"\"><tr><td>Somalia</td><td>'s</td><td>transitional</td><td><b>government-in-exile</b></td><td>met</td><td>Tuesday</td><td>to</td><td>try</td></tr><tr><td>NNP</td><td>POS</td><td>JJ</td><td><b>NN</b></td><td>VBD</td><td>NNP</td><td>TO</td><td>VB</td></tr><tr><td>NNP</td><td>POS</td><td>JJ</td><td><b>NNP</b></td><td>VBD</td><td>NNP</td><td>TO</td><td>VB</td></tr></table>\n",
       "        <table>\n",
       "          <tr><td>bias</td><td>word:government-in-exile</td></tr>\n",
       "          <tr><td>1.0</td><td>1.0</td></tr>\n",
       "          <tr><td>3.73</td><td>0.00</td></tr>\n",
       "          <tr><td>3.73</td><td>0.00</td></tr>\n",
       "        </table> 54 / 60</div>\n",
       "<div class=\"item\"><table style=\"\"><tr><td>were</td><td>to</td><td>perform</td><td>the</td><td>minor</td><td><b>pilgrimage</b></td><td>known</td><td>as</td><td>Omra</td><td>.</td></tr><tr><td>VBD</td><td>TO</td><td>VB</td><td>DT</td><td>JJ</td><td><b>NN</b></td><td>VBN</td><td>IN</td><td>NNP</td><td>.</td></tr><tr><td>VBD</td><td>TO</td><td>VBP</td><td>DT</td><td>JJ</td><td><b>NNP</b></td><td>VBN</td><td>IN</td><td>NNP</td><td>.</td></tr></table>\n",
       "        <table>\n",
       "          <tr><td>bias</td><td>word:pilgrimage</td></tr>\n",
       "          <tr><td>1.0</td><td>1.0</td></tr>\n",
       "          <tr><td>3.73</td><td>0.00</td></tr>\n",
       "          <tr><td>3.73</td><td>0.00</td></tr>\n",
       "        </table> 55 / 60</div>\n",
       "<div class=\"item\"><table style=\"\"><tr><td>ranging</td><td>from</td><td>maintaining</td><td>the</td><td>status</td><td><b>quo</b></td><td>to</td><td>a</td><td>full</td><td>withdrawal</td></tr><tr><td>VBG</td><td>IN</td><td>VBG</td><td>DT</td><td>NN</td><td><b>NN</b></td><td>TO</td><td>DT</td><td>JJ</td><td>NN</td></tr><tr><td>VBG</td><td>IN</td><td>VBG</td><td>DT</td><td>NN</td><td><b>NNP</b></td><td>TO</td><td>DT</td><td>JJ</td><td>NN</td></tr></table>\n",
       "        <table>\n",
       "          <tr><td>bias</td><td>word:quo</td></tr>\n",
       "          <tr><td>1.0</td><td>1.0</td></tr>\n",
       "          <tr><td>3.73</td><td>0.00</td></tr>\n",
       "          <tr><td>3.73</td><td>0.00</td></tr>\n",
       "        </table> 56 / 60</div>\n",
       "<div class=\"item\"><table style=\"\"><tr><td>the</td><td>operation</td><td>to</td><td>either</td><td>an</td><td><b>observer</b></td><td>or</td><td>liaison</td><td>effort</td><td>.</td></tr><tr><td>DT</td><td>NN</td><td>TO</td><td>DT</td><td>DT</td><td><b>NN</b></td><td>CC</td><td>NN</td><td>NN</td><td>.</td></tr><tr><td>DT</td><td>NN</td><td>TO</td><td>RB</td><td>DT</td><td><b>NNP</b></td><td>CC</td><td>NNP</td><td>NN</td><td>.</td></tr></table>\n",
       "        <table>\n",
       "          <tr><td>bias</td><td>word:observer</td></tr>\n",
       "          <tr><td>1.0</td><td>1.0</td></tr>\n",
       "          <tr><td>3.73</td><td>0.00</td></tr>\n",
       "          <tr><td>3.73</td><td>0.00</td></tr>\n",
       "        </table> 57 / 60</div>\n",
       "<div class=\"item\"><table style=\"\"><tr><td>to</td><td>either</td><td>an</td><td>observer</td><td>or</td><td><b>liaison</b></td><td>effort</td><td>.</td></tr><tr><td>TO</td><td>DT</td><td>DT</td><td>NN</td><td>CC</td><td><b>NN</b></td><td>NN</td><td>.</td></tr><tr><td>TO</td><td>RB</td><td>DT</td><td>NNP</td><td>CC</td><td><b>NNP</b></td><td>NN</td><td>.</td></tr></table>\n",
       "        <table>\n",
       "          <tr><td>bias</td><td>word:liaison</td></tr>\n",
       "          <tr><td>1.0</td><td>1.0</td></tr>\n",
       "          <tr><td>3.73</td><td>0.00</td></tr>\n",
       "          <tr><td>3.73</td><td>0.00</td></tr>\n",
       "        </table> 58 / 60</div>\n",
       "<div class=\"item\"><table style=\"\"><tr><td>any</td><td>particular</td><td>option</td><td>and</td><td>said</td><td><b>none</b></td><td>offered</td><td>an</td><td>ideal</td><td>way</td></tr><tr><td>DT</td><td>JJ</td><td>NN</td><td>CC</td><td>VBD</td><td><b>NN</b></td><td>VBD</td><td>DT</td><td>JJ</td><td>NN</td></tr><tr><td>DT</td><td>NNP</td><td>NN</td><td>CC</td><td>VBD</td><td><b>NNP</b></td><td>VBN</td><td>DT</td><td>NNP</td><td>NN</td></tr></table>\n",
       "        <table>\n",
       "          <tr><td>bias</td><td>word:none</td></tr>\n",
       "          <tr><td>1.0</td><td>1.0</td></tr>\n",
       "          <tr><td>3.73</td><td>0.00</td></tr>\n",
       "          <tr><td>3.73</td><td>0.00</td></tr>\n",
       "        </table> 59 / 60</div>\n",
       "<div class=\"item\"><table style=\"\"><tr><td>In</td><td>this</td><td><b>photograph</b></td><td>released</td><td>by</td><td>the</td><td>Iraqi</td></tr><tr><td>IN</td><td>DT</td><td><b>NN</b></td><td>VBN</td><td>IN</td><td>DT</td><td>JJ</td></tr><tr><td>IN</td><td>DT</td><td><b>NNP</b></td><td>VBN</td><td>IN</td><td>DT</td><td>JJ</td></tr></table>\n",
       "        <table>\n",
       "          <tr><td>bias</td><td>word:photograph</td></tr>\n",
       "          <tr><td>1.0</td><td>1.0</td></tr>\n",
       "          <tr><td>3.73</td><td>0.00</td></tr>\n",
       "          <tr><td>3.73</td><td>0.00</td></tr>\n",
       "        </table> 60 / 60</div>\n",
       "          </div>\n",
       "        </div>\n"
      ],
      "text/plain": [
       "<statnlpbook.util.Carousel at 0x7f7bf1136978>"
      ]
     },
     "execution_count": 12,
     "metadata": {},
     "output_type": "execute_result"
    }
   ],
   "source": [
    "util.Carousel(local_1.errors(dev,\n",
    "                             filter_gold=lambda y: y=='NN',\n",
    "                             filter_guess=lambda y: y=='NNP'))"
   ]
  },
  {
   "cell_type": "markdown",
   "metadata": {
    "slideshow": {
     "slide_type": "fragment"
    }
   },
   "source": [
    "* \"walkout\", \"commute\", \"wage\" are misclassified as proper nouns\n",
    "* For $f_{\\text{word},w}$ feature template weights are $0$\n",
    "\n",
    "Suggests that word has not appeared in the training set!"
   ]
  },
  {
   "cell_type": "markdown",
   "metadata": {
    "pycharm": {
     "name": "#%% md\n"
    },
    "slideshow": {
     "slide_type": "fragment"
    }
   },
   "source": [
    "Proper nouns tend to be capitalised!"
   ]
  },
  {
   "cell_type": "code",
   "execution_count": 13,
   "metadata": {
    "pycharm": {
     "name": "#%%\n"
    },
    "slideshow": {
     "slide_type": "subslide"
    }
   },
   "outputs": [
    {
     "data": {
      "text/plain": [
       "0.9087924970691676"
      ]
     },
     "execution_count": 13,
     "metadata": {},
     "output_type": "execute_result"
    }
   ],
   "source": [
    "def feat_2(x,i):\n",
    "    return {\n",
    "        'bias': 1.0,\n",
    "        'word:' + x[i].lower(): 1.0,\n",
    "        'first_upper:' + str(x[i][0].isupper()): 1.0,\n",
    "    }\n",
    "local_2 = seq.LocalSequenceLabeler(feat_2, train)\n",
    "seq.accuracy(dev, local_2.predict(dev))"
   ]
  },
  {
   "cell_type": "markdown",
   "metadata": {
    "slideshow": {
     "slide_type": "subslide"
    }
   },
   "source": [
    "Are these results actually caused by improved `NN`/`NNP` prediction?"
   ]
  },
  {
   "cell_type": "code",
   "execution_count": 14,
   "metadata": {
    "pycharm": {
     "name": "#%%\n"
    },
    "slideshow": {
     "slide_type": "fragment"
    }
   },
   "outputs": [
    {
     "data": {
      "image/png": "[encoded data removed]",
      "text/plain": [
       "<matplotlib.figure.Figure at 0x7f7bf1321da0>"
      ]
     },
     "metadata": {
      "filenames": {
       "image/png": "/Users/knf792/gits/nlp-course/nlp-book/_build/jupyter_execute/stat-nlp-book/chapters/sequence_labeling_slides_40_0.png"
      }
     },
     "output_type": "display_data"
    }
   ],
   "source": [
    "seq.plot_confusion_matrix(dev, local_2.predict(dev), normalise=True)"
   ]
  },
  {
   "cell_type": "code",
   "execution_count": 15,
   "metadata": {
    "pycharm": {
     "name": "#%%\n"
    },
    "slideshow": {
     "slide_type": "subslide"
    }
   },
   "outputs": [
    {
     "data": {
      "text/html": [
       "\n",
       "        <div id=\"283e2e9e-25be-11ec-8e8b-0242ac110002\" class=\"carousel\" data-ride=\"carousel\" data-interval=\"false\">\n",
       "          <!-- Controls -->\n",
       "          <a href=\"#283e2e9e-25be-11ec-8e8b-0242ac110002\" role=\"button2\" data-slide=\"prev\">Previous</a>\n",
       "          &nbsp;\n",
       "          <a  href=\"#283e2e9e-25be-11ec-8e8b-0242ac110002\" role=\"button2\" data-slide=\"next\">Next</a>\n",
       "          <div class=\"carousel-inner\" role=\"listbox\">\n",
       "          <div class=\"item active\"><table style=\"\"><tr><td><b>Contract</b></td><td>talks</td><td>between</td><td>the</td><td>two</td></tr><tr><td><b>NN</b></td><td>NNS</td><td>IN</td><td>DT</td><td>CD</td></tr><tr><td><b>NNP</b></td><td>NNS</td><td>IN</td><td>DT</td><td>CD</td></tr></table>\n",
       "        <table>\n",
       "          <tr><td>bias</td><td>first_upper:True</td><td>word:contract</td></tr>\n",
       "          <tr><td>1.0</td><td>1.0</td><td>1.0</td></tr>\n",
       "          <tr><td>6.71</td><td>3.72</td><td>2.25</td></tr>\n",
       "          <tr><td>6.73</td><td>8.41</td><td>-0.01</td></tr>\n",
       "        </table> 1 / 3</div>\n",
       "<div class=\"item\"><table style=\"\"><tr><td><b>Union</b></td><td>head</td><td>Roger</td><td>Toussaint</td><td>calls</td></tr><tr><td><b>NN</b></td><td>NN</td><td>NNP</td><td>NNP</td><td>VBZ</td></tr><tr><td><b>NNP</b></td><td>NN</td><td>NNP</td><td>NNP</td><td>VBZ</td></tr></table>\n",
       "        <table>\n",
       "          <tr><td>bias</td><td>first_upper:True</td><td>word:union</td></tr>\n",
       "          <tr><td>1.0</td><td>1.0</td><td>1.0</td></tr>\n",
       "          <tr><td>6.71</td><td>3.72</td><td>1.44</td></tr>\n",
       "          <tr><td>6.73</td><td>8.41</td><td>2.39</td></tr>\n",
       "        </table> 2 / 3</div>\n",
       "<div class=\"item\"><table style=\"\"><tr><td>it</td><td>was</td><td>released</td><td>by</td><td>the</td><td><b>News</b></td><td>of</td><td>the</td><td>World</td><td>newspaper</td></tr><tr><td>PRP</td><td>VBD</td><td>VBN</td><td>IN</td><td>DT</td><td><b>NN</b></td><td>IN</td><td>DT</td><td>NNP</td><td>NN</td></tr><tr><td>PRP</td><td>VBD</td><td>VBN</td><td>IN</td><td>DT</td><td><b>NNP</b></td><td>IN</td><td>DT</td><td>NNP</td><td>NN</td></tr></table>\n",
       "        <table>\n",
       "          <tr><td>bias</td><td>first_upper:True</td><td>word:news</td></tr>\n",
       "          <tr><td>1.0</td><td>1.0</td><td>1.0</td></tr>\n",
       "          <tr><td>6.71</td><td>3.72</td><td>3.98</td></tr>\n",
       "          <tr><td>6.73</td><td>8.41</td><td>3.08</td></tr>\n",
       "        </table> 3 / 3</div>\n",
       "          </div>\n",
       "        </div>\n"
      ],
      "text/plain": [
       "<statnlpbook.util.Carousel at 0x7f7befdadb70>"
      ]
     },
     "execution_count": 15,
     "metadata": {},
     "output_type": "execute_result"
    }
   ],
   "source": [
    "util.Carousel(local_2.errors(dev,\n",
    "                             filter_gold=lambda y: y=='NN',\n",
    "                             filter_guess=lambda y: y=='NNP'))"
   ]
  },
  {
   "cell_type": "markdown",
   "metadata": {
    "slideshow": {
     "slide_type": "subslide"
    }
   },
   "source": [
    "### What other features would you try for English POS tagging?"
   ]
  },
  {
   "cell_type": "markdown",
   "metadata": {
    "slideshow": {
     "slide_type": "fragment"
    }
   },
   "source": [
    "<center><img src=\"../img/quiz_time.png\"></center>\n",
    "\n",
    "https://tinyurl.com/4mrw7efe"
   ]
  },
  {
   "cell_type": "markdown",
   "metadata": {
    "slideshow": {
     "slide_type": "slide"
    }
   },
   "source": [
    "## Named entity recognition (NER)\n",
    "\n",
    "&nbsp;\n",
    "\n",
    "| |\n",
    "|-|\n",
    "| \\[Barack Obama\\]<sub>PER</sub> was born in \\[Hawaii\\]<sub>LOC</sub> |\n"
   ]
  },
  {
   "cell_type": "markdown",
   "metadata": {
    "pycharm": {
     "name": "#%% md\n"
    },
    "slideshow": {
     "slide_type": "subslide"
    }
   },
   "source": [
    "## NER as sequence labelling\n",
    "\n",
    "Label tokens as beginning (B), inside (I), or outside (O) a **named entity:**\n",
    "\n",
    "| | | | | | |\n",
    "|-|-|-|-|-|-|\n",
    "| Barack | Obama | was |  born | in | Hawaii |\n",
    "| B-PER | I-PER | O |  O | O | B-LOC |\n"
   ]
  },
  {
   "cell_type": "markdown",
   "metadata": {
    "slideshow": {
     "slide_type": "fragment"
    }
   },
   "source": [
    "+ Many tasks can be framed as sequence labelling using this idea!"
   ]
  },
  {
   "cell_type": "markdown",
   "metadata": {
    "pycharm": {
     "name": "#%% md\n"
    },
    "slideshow": {
     "slide_type": "subslide"
    }
   },
   "source": [
    "### Named entity types in GMB dataset\n",
    "\n",
    "    geo = Geographical Entity\n",
    "    org = Organization\n",
    "    per = Person\n",
    "    gpe = Geopolitical Entity\n",
    "    tim = Time indicator\n",
    "    art = Artifact\n",
    "    eve = Event\n",
    "    nat = Natural Phenomenon"
   ]
  },
  {
   "cell_type": "markdown",
   "metadata": {
    "pycharm": {
     "name": "#%% md\n"
    },
    "slideshow": {
     "slide_type": "subslide"
    }
   },
   "source": [
    "Example sentence from GMB:"
   ]
  },
  {
   "cell_type": "code",
   "execution_count": 16,
   "metadata": {
    "pycharm": {
     "name": "#%%\n"
    },
    "slideshow": {
     "slide_type": "fragment"
    }
   },
   "outputs": [
    {
     "data": {
      "text/html": [
       "<div>\n",
       "<style scoped>\n",
       "    .dataframe tbody tr th:only-of-type {\n",
       "        vertical-align: middle;\n",
       "    }\n",
       "\n",
       "    .dataframe tbody tr th {\n",
       "        vertical-align: top;\n",
       "    }\n",
       "\n",
       "    .dataframe thead th {\n",
       "        text-align: right;\n",
       "    }\n",
       "</style>\n",
       "<table border=\"1\" class=\"dataframe\">\n",
       "  <thead>\n",
       "    <tr style=\"text-align: right;\">\n",
       "      <th></th>\n",
       "      <th>0</th>\n",
       "      <th>1</th>\n",
       "      <th>2</th>\n",
       "      <th>3</th>\n",
       "      <th>4</th>\n",
       "      <th>5</th>\n",
       "      <th>6</th>\n",
       "      <th>7</th>\n",
       "      <th>8</th>\n",
       "      <th>9</th>\n",
       "      <th>10</th>\n",
       "    </tr>\n",
       "  </thead>\n",
       "  <tbody>\n",
       "    <tr>\n",
       "      <th>0</th>\n",
       "      <td>Iran</td>\n",
       "      <td>'s</td>\n",
       "      <td>new</td>\n",
       "      <td>President</td>\n",
       "      <td>Mahmoud</td>\n",
       "      <td>Ahmadinejad</td>\n",
       "      <td>said</td>\n",
       "      <td>Tuesday</td>\n",
       "      <td>that</td>\n",
       "      <td>European</td>\n",
       "      <td>incentives</td>\n",
       "    </tr>\n",
       "    <tr>\n",
       "      <th>1</th>\n",
       "      <td>NNP</td>\n",
       "      <td>POS</td>\n",
       "      <td>JJ</td>\n",
       "      <td>NNP</td>\n",
       "      <td>NNP</td>\n",
       "      <td>NNP</td>\n",
       "      <td>VBD</td>\n",
       "      <td>NNP</td>\n",
       "      <td>IN</td>\n",
       "      <td>JJ</td>\n",
       "      <td>NNS</td>\n",
       "    </tr>\n",
       "    <tr>\n",
       "      <th>2</th>\n",
       "      <td>B-gpe</td>\n",
       "      <td>O</td>\n",
       "      <td>O</td>\n",
       "      <td>B-per</td>\n",
       "      <td>I-per</td>\n",
       "      <td>I-per</td>\n",
       "      <td>O</td>\n",
       "      <td>B-tim</td>\n",
       "      <td>O</td>\n",
       "      <td>B-gpe</td>\n",
       "      <td>O</td>\n",
       "    </tr>\n",
       "  </tbody>\n",
       "</table>\n",
       "</div>"
      ],
      "text/plain": [
       "      0    1    2          3        4            5     6        7     8   \\\n",
       "0   Iran   's  new  President  Mahmoud  Ahmadinejad  said  Tuesday  that   \n",
       "1    NNP  POS   JJ        NNP      NNP          NNP   VBD      NNP    IN   \n",
       "2  B-gpe    O    O      B-per    I-per        I-per     O    B-tim     O   \n",
       "\n",
       "         9           10  \n",
       "0  European  incentives  \n",
       "1        JJ         NNS  \n",
       "2     B-gpe           O  "
      ]
     },
     "execution_count": 16,
     "metadata": {},
     "output_type": "execute_result"
    }
   ],
   "source": [
    "pd.DataFrame([tokens[12][:11], pos[12][:11], ents[12][:11]])"
   ]
  },
  {
   "cell_type": "code",
   "execution_count": 17,
   "metadata": {
    "pycharm": {
     "name": "#%%\n"
    },
    "slideshow": {
     "slide_type": "skip"
    }
   },
   "outputs": [],
   "source": [
    "examples = {}\n",
    "counts_ent = Counter(tag[2:] for sent in ents for tag in sent if tag.startswith(\"B-\"))\n",
    "in_entity = False\n",
    "for x_s, y_s in zip(tokens, ents):\n",
    "    for i, (x, y) in enumerate(zip(x_s, y_s)):\n",
    "        if y == \"O\":\n",
    "            in_entity = False\n",
    "            continue\n",
    "        y_ent = y[2:]\n",
    "        if y[0] == \"B\":\n",
    "            if y_ent not in examples or random() > 0.6:\n",
    "                examples[y_ent] = [x]\n",
    "                in_entity = True\n",
    "            else:\n",
    "                in_entity = False\n",
    "        if y[0] == \"I\" and in_entity:\n",
    "            examples[y_ent].append(x)\n",
    "\n",
    "sorted_ents = sorted(counts_ent.items(),key=lambda x:-x[1])\n",
    "sorted_ents_with_examples = [(t,c,\" \".join(examples[t])) for t,c in sorted_ents]\n",
    "\n",
    "sorted_ents_table = pd.DataFrame(sorted_ents_with_examples, columns=['Entity Type','Count','Example'])"
   ]
  },
  {
   "cell_type": "code",
   "execution_count": null,
   "metadata": {
    "pycharm": {
     "name": "#%%\n"
    },
    "slideshow": {
     "slide_type": "subslide"
    }
   },
   "outputs": [
    {
     "data": {
      "text/html": [
       "<div>\n",
       "<style scoped>\n",
       "    .dataframe tbody tr th:only-of-type {\n",
       "        vertical-align: middle;\n",
       "    }\n",
       "\n",
       "    .dataframe tbody tr th {\n",
       "        vertical-align: top;\n",
       "    }\n",
       "\n",
       "    .dataframe thead th {\n",
       "        text-align: right;\n",
       "    }\n",
       "</style>\n",
       "<table border=\"1\" class=\"dataframe\">\n",
       "  <thead>\n",
       "    <tr style=\"text-align: right;\">\n",
       "      <th></th>\n",
       "      <th>Entity Type</th>\n",
       "      <th>Count</th>\n",
       "      <th>Example</th>\n",
       "    </tr>\n",
       "  </thead>\n",
       "  <tbody>\n",
       "    <tr>\n",
       "      <th>0</th>\n",
       "      <td>geo</td>\n",
       "      <td>2070</td>\n",
       "      <td>Iraq</td>\n",
       "    </tr>\n",
       "    <tr>\n",
       "      <th>1</th>\n",
       "      <td>org</td>\n",
       "      <td>1237</td>\n",
       "      <td>U.N. Security Council</td>\n",
       "    </tr>\n",
       "    <tr>\n",
       "      <th>2</th>\n",
       "      <td>gpe</td>\n",
       "      <td>1230</td>\n",
       "      <td>Haitian</td>\n",
       "    </tr>\n",
       "    <tr>\n",
       "      <th>3</th>\n",
       "      <td>tim</td>\n",
       "      <td>1160</td>\n",
       "      <td>within</td>\n",
       "    </tr>\n",
       "    <tr>\n",
       "      <th>4</th>\n",
       "      <td>per</td>\n",
       "      <td>1107</td>\n",
       "      <td>Saddam</td>\n",
       "    </tr>\n",
       "    <tr>\n",
       "      <th>5</th>\n",
       "      <td>art</td>\n",
       "      <td>53</td>\n",
       "      <td>USA Today</td>\n",
       "    </tr>\n",
       "    <tr>\n",
       "      <th>6</th>\n",
       "      <td>eve</td>\n",
       "      <td>45</td>\n",
       "      <td>Summer Olympics</td>\n",
       "    </tr>\n",
       "    <tr>\n",
       "      <th>7</th>\n",
       "      <td>nat</td>\n",
       "      <td>20</td>\n",
       "      <td>Marburg</td>\n",
       "    </tr>\n",
       "  </tbody>\n",
       "</table>\n",
       "</div>"
      ],
      "text/plain": [
       "  Entity Type  Count                Example\n",
       "0         geo   2070                   Iraq\n",
       "1         org   1237  U.N. Security Council\n",
       "2         gpe   1230                Haitian\n",
       "3         tim   1160                 within\n",
       "4         per   1107                 Saddam\n",
       "5         art     53              USA Today\n",
       "6         eve     45        Summer Olympics\n",
       "7         nat     20                Marburg"
      ]
     },
     "execution_count": 18,
     "metadata": {},
     "output_type": "execute_result"
    }
   ],
   "source": [
    "sorted_ents_table"
   ]
  },
  {
   "cell_type": "markdown",
   "metadata": {
    "slideshow": {
     "slide_type": "subslide"
    }
   },
   "source": [
    "Can we run our simple **local model** on this?"
   ]
  },
  {
   "cell_type": "code",
   "execution_count": 27,
   "metadata": {
    "pycharm": {
     "name": "#%%\n"
    },
    "slideshow": {
     "slide_type": "fragment"
    }
   },
   "outputs": [
    {
     "data": {
      "text/plain": [
       "0.9348182883939039"
      ]
     },
     "execution_count": 27,
     "metadata": {},
     "output_type": "execute_result"
    }
   ],
   "source": [
    "train_ner = list(zip(tokens[:-200], ents[:-200]))\n",
    "dev_ner = list(zip(tokens[-200:], ents[-200:]))\n",
    "\n",
    "def feat_2(x,i):\n",
    "    return {\n",
    "        'bias': 1.0,\n",
    "        'word:' + x[i].lower(): 1.0,\n",
    "        'first_upper:' + str(x[i][0].isupper()): 1.0,\n",
    "    }\n",
    "local_2 = seq.LocalSequenceLabeler(feat_2, train_ner)\n",
    "seq.accuracy(dev_ner, local_2.predict(dev_ner))"
   ]
  },
  {
   "cell_type": "markdown",
   "metadata": {
    "pycharm": {
     "name": "#%% md\n"
    },
    "slideshow": {
     "slide_type": "subslide"
    }
   },
   "source": [
    "This seems great, but tag distribution is also **highly skewed**:"
   ]
  },
  {
   "cell_type": "code",
   "execution_count": 28,
   "metadata": {
    "pycharm": {
     "name": "#%%\n"
    },
    "slideshow": {
     "slide_type": "fragment"
    }
   },
   "outputs": [
    {
     "data": {
      "text/plain": [
       "0.8527549824150059"
      ]
     },
     "execution_count": 28,
     "metadata": {},
     "output_type": "execute_result"
    }
   ],
   "source": [
    "only_o = [tuple(['O'] * len(tags)) for _, tags in dev_ner]\n",
    "seq.accuracy(dev_ner, only_o)"
   ]
  },
  {
   "cell_type": "code",
   "execution_count": 29,
   "metadata": {
    "pycharm": {
     "name": "#%%\n"
    },
    "slideshow": {
     "slide_type": "skip"
    }
   },
   "outputs": [],
   "source": [
    "def get_spans(labels):\n",
    "    spans = []\n",
    "    current = [None, None, None]\n",
    "    for i, label in enumerate(labels):\n",
    "        if label.startswith(\"I-\") and label[2:] == current[0]:\n",
    "            # continued span\n",
    "            continue\n",
    "        # push span, if there is any\n",
    "        if current[0] is not None:\n",
    "            current[2] = i\n",
    "            spans.append(current)\n",
    "            current = [None, None, None]\n",
    "        if label.startswith(\"B-\"):\n",
    "            current[0] = label[2:]\n",
    "            current[1] = i\n",
    "    if current[0] is not None:\n",
    "        current[2] = len(labels)\n",
    "        spans.append(current)\n",
    "    return spans\n",
    "\n",
    "def _calculate_prf(preds, golds):\n",
    "    total_pred, total_gold, match = 0, 0, 0\n",
    "    for pred, gold in zip(preds, golds):\n",
    "        pred_s = get_spans(pred)\n",
    "        gold_s = get_spans(gold)\n",
    "        total_pred += len(pred_s)\n",
    "        total_gold += len(gold_s)\n",
    "        match += sum(s in pred_s for s in gold_s)\n",
    "    # precision: % of entities found by the system that are correct\n",
    "    p = match / total_pred\n",
    "    # recall: % of entities in dataset found by the system\n",
    "    r = match / total_gold\n",
    "    # f-score: harmonic mean of precision and recall\n",
    "    f = 2 * (p * r) / (p + r)\n",
    "\n",
    "    return p, r, f\n",
    "\n",
    "def calculate_prf(goldset, preds):\n",
    "    return _calculate_prf(preds, [s[1] for s in goldset])"
   ]
  },
  {
   "cell_type": "markdown",
   "metadata": {
    "slideshow": {
     "slide_type": "slide"
    }
   },
   "source": [
    "Tasks like NER are more commonly evaluated with...\n",
    "\n",
    "### Precision, recall, and F-measure\n",
    "\n",
    "\\begin{align}\n",
    "\\text{precision} & = \\frac{|\\text{predicted}\\cap\\text{annotated}|}{|\\text{predicted}|} \\\\[.5em]\n",
    "\\text{recall} & = \\frac{|\\text{predicted}\\cap\\text{annotated}|}{|\\text{annotated}|} \\\\[.5em]\n",
    "F & = 2 \\cdot \\frac{\\text{precision}\\cdot\\text{recall}}{\\text{precision}+\\text{recall}} \\\\\n",
    "\\end{align}\n"
   ]
  },
  {
   "cell_type": "code",
   "execution_count": 30,
   "metadata": {
    "pycharm": {
     "name": "#%%\n"
    },
    "slideshow": {
     "slide_type": "fragment"
    }
   },
   "outputs": [
    {
     "data": {
      "text/plain": [
       "(0.7272727272727273, 0.5885057471264368, 0.650571791613723)"
      ]
     },
     "execution_count": 30,
     "metadata": {},
     "output_type": "execute_result"
    }
   ],
   "source": [
    "calculate_prf(dev_ner, local_2.predict(dev_ner))"
   ]
  },
  {
   "cell_type": "markdown",
   "metadata": {
    "slideshow": {
     "slide_type": "slide"
    }
   },
   "source": [
    "## Sequence labelling with neural networks"
   ]
  },
  {
   "cell_type": "markdown",
   "metadata": {
    "pycharm": {
     "name": "#%% md\n"
    },
    "slideshow": {
     "slide_type": "subslide"
    }
   },
   "source": [
    "Typically: Bi-directional RNNs, e.g. LSTMs\n",
    "\n",
    "<center>\n",
    "  <img style=\"width:28vw;\" src='../img/genthial_bilstm.png'/>\n",
    "</center>\n",
    "\n",
    "<span class=\"font-size:small;\">Source: https://guillaumegenthial.github.io/sequence-tagging-with-tensorflow.html</span>"
   ]
  },
  {
   "cell_type": "markdown",
   "metadata": {
    "pycharm": {
     "name": "#%% md\n"
    },
    "slideshow": {
     "slide_type": "subslide"
    }
   },
   "source": [
    "A recurrent neural network (plain RNN, LSTM, GRU, ...) computes its output based on a hidden, internal state:\n",
    "\n",
    "$$\n",
    " {\\mathbf{y}}_{t} = \\text{RNN}(\\x_t, {\\mathbf{h}}_{t})\n",
    "$$\n"
   ]
  },
  {
   "cell_type": "markdown",
   "metadata": {
    "slideshow": {
     "slide_type": "fragment"
    }
   },
   "source": [
    "\n",
    "A **bi-directional** RNN is just two uni-directional RNNs combined:\n",
    "\n",
    "\\begin{align}\n",
    " \\overrightarrow{\\mathbf{y}_{t}} & = \\overrightarrow{\\text{RNN}}(\\x_t, \\overrightarrow{\\mathbf{h}_{t}})\\\\\n",
    " \\overleftarrow{\\mathbf{y}_{t}} & = \\overleftarrow{\\text{RNN}}(\\x_t, \\overleftarrow{\\mathbf{h}_{t}})\n",
    " \\\\\n",
    " {\\mathbf{y}}_{t} & = \\overrightarrow{\\mathbf{y}_{t}} \\oplus \\overleftarrow{\\mathbf{y}_{t}} \\\\\n",
    "\\end{align}\n",
    "\n",
    "where\n",
    "\n",
    "+ $\\overrightarrow{\\text{RNN}}$ reads the input sequence $\\x$ from left to right\n",
    "+ $\\overleftarrow{\\text{RNN}}$ reads the input sequence $\\x$ from right to left\n"
   ]
  },
  {
   "cell_type": "markdown",
   "metadata": {
    "slideshow": {
     "slide_type": "subslide"
    }
   },
   "source": [
    "To predict label probabilities, we use the **softmax function**:\n",
    "\n",
    "\n",
    "$$\n",
    "\\begin{aligned}\n",
    " {\\mathbf{y}}_{t} & = \\overrightarrow{\\mathbf{y}_{t}} \\oplus \\overleftarrow{\\mathbf{y}_{t}} \\\\\n",
    " \\hat{\\mathbf{y}}_{t} & = \\text{softmax}(\\mathbf{W}^o \\mathbf{y}_{t}) \\in \\mathbb{R}^{|V|} \\\\\n",
    "\\end{aligned}\n",
    "$$\n"
   ]
  },
  {
   "cell_type": "markdown",
   "metadata": {
    "pycharm": {
     "name": "#%% md\n"
    },
    "slideshow": {
     "slide_type": "subslide"
    }
   },
   "source": [
    "Closer look at character representations:\n",
    "\n",
    "<center>\n",
    "  <img src='../img/bplank_bilstm.png'/>\n",
    "</center>"
   ]
  },
  {
   "cell_type": "markdown",
   "metadata": {
    "slideshow": {
     "slide_type": "subslide"
    }
   },
   "source": [
    "### An important technical detail\n",
    "\n",
    "The linear transformation $\\mathbf{W}^o \\mathbf{y}_{t}$ is usually not modelled as part of the RNN itself in most deep learning frameworks.\n",
    "\n",
    "Instead, look for one of\n",
    "\n",
    "+ **feed-forward layer**\n",
    "+ **dense layer** (*e.g. in Keras*)\n",
    "+ **linear layer** (*e.g. in PyTorch*)\n",
    "\n",
    "with a softmax activation"
   ]
  },
  {
   "cell_type": "markdown",
   "metadata": {
    "slideshow": {
     "slide_type": "subslide"
    }
   },
   "source": [
    "Remember the log-linear classifier:\n",
    "\n",
    "$$\n",
    "  p_\\params(y\\bar\\x,i) = \\frac{1}{Z_\\x} \\exp \\langle \\repr(\\x,i),\\params_y \\rangle\n",
    "$$\n",
    "\n",
    "A bi-LSTM model with a softmax layer on top is also modelling $p_\\params(y\\bar\\x,i)$, so if you take $\\params$ to be the set of parameters of the neural network, then:\n",
    "\n",
    "\\begin{align}\n",
    " \\hat{\\mathbf{y}}_{t} & = \\text{softmax}(\\hat{\\mathbf{h}}_{t}) \\\\\n",
    "  &= \\frac{1}{Z_\\x} \\exp \\langle \\hat{\\mathbf{h}}_{t},\\params_y \\rangle \\\\\n",
    "\\end{align}"
   ]
  },
  {
   "cell_type": "markdown",
   "metadata": {
    "slideshow": {
     "slide_type": "subslide"
    }
   },
   "source": [
    "### What, then, are the most important differences between the BiLSTM+softmax and the simple log-linear approach?"
   ]
  },
  {
   "cell_type": "markdown",
   "metadata": {
    "slideshow": {
     "slide_type": "fragment"
    }
   },
   "source": [
    "<center><img src=\"../img/quiz_time.png\"></center>\n",
    "\n",
    "https://tinyurl.com/s67fhjs8"
   ]
  },
  {
   "cell_type": "markdown",
   "metadata": {
    "slideshow": {
     "slide_type": "subslide"
    }
   },
   "source": [
    "What haven't we modelled yet?"
   ]
  },
  {
   "cell_type": "markdown",
   "metadata": {
    "slideshow": {
     "slide_type": "fragment"
    }
   },
   "source": [
    "## There are *dependencies* between consecutive labels!"
   ]
  },
  {
   "cell_type": "markdown",
   "metadata": {
    "slideshow": {
     "slide_type": "fragment"
    }
   },
   "source": [
    "Can you think about fitting words for this POS tag sequence?\n",
    "\n",
    "| | | |\n",
    "|-|-|-|\n",
    "| DT | JJ | NN |\n",
    "| *determiner* | *adjective* | *noun (singular or mass)* |"
   ]
  },
  {
   "cell_type": "markdown",
   "metadata": {
    "slideshow": {
     "slide_type": "fragment"
    }
   },
   "source": [
    "What about this one?\n",
    "\n",
    "| | |\n",
    "|-|-|\n",
    "| DT | VB |\n",
    "| *determiner* | *verb (base form)* |"
   ]
  },
  {
   "cell_type": "markdown",
   "metadata": {
    "slideshow": {
     "slide_type": "fragment"
    }
   },
   "source": [
    "+ After determiners (`DT`), adjectives and nouns are much more likely than verbs\n",
    "+ *Local* models cannot *directly* capture this"
   ]
  },
  {
   "cell_type": "code",
   "execution_count": 31,
   "metadata": {
    "pycharm": {
     "name": "#%%\n"
    },
    "slideshow": {
     "slide_type": "subslide"
    }
   },
   "outputs": [
    {
     "data": {
      "text/html": [
       "\n",
       "        <div id=\"e3003cae-25be-11ec-8e8b-0242ac110002\" class=\"carousel\" data-ride=\"carousel\" data-interval=\"false\">\n",
       "          <!-- Controls -->\n",
       "          <a href=\"#e3003cae-25be-11ec-8e8b-0242ac110002\" role=\"button2\" data-slide=\"prev\">Previous</a>\n",
       "          &nbsp;\n",
       "          <a  href=\"#e3003cae-25be-11ec-8e8b-0242ac110002\" role=\"button2\" data-slide=\"next\">Next</a>\n",
       "          <div class=\"carousel-inner\" role=\"listbox\">\n",
       "          <div class=\"item active\"><table style=\"\"><tr><td>Former</td><td>U.S.</td><td>president</td><td><b>Bill</b></td><td>Clinton</td><td>has</td><td>signed</td><td>an</td></tr><tr><td>O</td><td>B-geo</td><td>O</td><td><b>B-per</b></td><td>I-per</td><td>O</td><td>O</td><td>O</td></tr><tr><td>O</td><td>B-geo</td><td>O</td><td><b>I-per</b></td><td>I-per</td><td>O</td><td>O</td><td>O</td></tr></table>\n",
       "        <table>\n",
       "          <tr><td>bias</td><td>first_upper:True</td><td>word:bill</td></tr>\n",
       "          <tr><td>1.0</td><td>1.0</td><td>1.0</td></tr>\n",
       "          <tr><td>0.60</td><td>1.13</td><td>1.72</td></tr>\n",
       "          <tr><td>1.27</td><td>0.97</td><td>2.54</td></tr>\n",
       "        </table> 1 / 85</div>\n",
       "<div class=\"item\"><table style=\"\"><tr><td>Monday</td><td>in</td><td>the</td><td>capital</td><td>,</td><td><b>Phnom</b></td><td>Penh</td><td>.</td></tr><tr><td>B-tim</td><td>O</td><td>O</td><td>O</td><td>O</td><td><b>B-org</b></td><td>I-org</td><td>O</td></tr><tr><td>B-tim</td><td>O</td><td>O</td><td>O</td><td>O</td><td><b>I-per</b></td><td>I-per</td><td>O</td></tr></table>\n",
       "        <table>\n",
       "          <tr><td>bias</td><td>first_upper:True</td><td>word:phnom</td></tr>\n",
       "          <tr><td>1.0</td><td>1.0</td><td>1.0</td></tr>\n",
       "          <tr><td>0.84</td><td>0.88</td><td>0.00</td></tr>\n",
       "          <tr><td>1.27</td><td>0.97</td><td>0.00</td></tr>\n",
       "        </table> 2 / 85</div>\n",
       "<div class=\"item\"><table style=\"\"><tr><td>The</td><td>former</td><td>president</td><td>is</td><td>in</td><td><b>Cambodia</b></td><td>to</td><td>tour</td><td>AIDS-related</td><td>projects</td></tr><tr><td>O</td><td>O</td><td>O</td><td>O</td><td>O</td><td><b>B-geo</b></td><td>O</td><td>O</td><td>O</td><td>O</td></tr><tr><td>O</td><td>O</td><td>O</td><td>O</td><td>O</td><td><b>I-per</b></td><td>O</td><td>O</td><td>I-per</td><td>O</td></tr></table>\n",
       "        <table>\n",
       "          <tr><td>bias</td><td>first_upper:True</td><td>word:cambodia</td></tr>\n",
       "          <tr><td>1.0</td><td>1.0</td><td>1.0</td></tr>\n",
       "          <tr><td>1.34</td><td>0.51</td><td>0.00</td></tr>\n",
       "          <tr><td>1.27</td><td>0.97</td><td>0.00</td></tr>\n",
       "        </table> 3 / 85</div>\n",
       "<div class=\"item\"><table style=\"\"><tr><td>his</td><td>development</td><td>group</td><td>,</td><td>the</td><td><b>Clinton</b></td><td>Foundation</td><td>H.I.V./AIDS</td><td>Initiative</td><td>.</td></tr><tr><td>O</td><td>O</td><td>O</td><td>O</td><td>O</td><td><b>B-per</b></td><td>I-per</td><td>I-per</td><td>I-per</td><td>O</td></tr><tr><td>O</td><td>O</td><td>O</td><td>O</td><td>O</td><td><b>I-per</b></td><td>O</td><td>I-per</td><td>I-per</td><td>O</td></tr></table>\n",
       "        <table>\n",
       "          <tr><td>bias</td><td>first_upper:True</td><td>word:clinton</td></tr>\n",
       "          <tr><td>1.0</td><td>1.0</td><td>1.0</td></tr>\n",
       "          <tr><td>0.60</td><td>1.13</td><td>2.71</td></tr>\n",
       "          <tr><td>1.27</td><td>0.97</td><td>3.70</td></tr>\n",
       "        </table> 4 / 85</div>\n",
       "<div class=\"item\"><table style=\"\"><tr><td>He</td><td>said</td><td>there</td><td>is</td><td>hope</td><td><b>Cambodia</b></td><td>can</td><td>be</td><td>a</td><td>model</td></tr><tr><td>O</td><td>O</td><td>O</td><td>O</td><td>O</td><td><b>B-geo</b></td><td>O</td><td>O</td><td>O</td><td>O</td></tr><tr><td>O</td><td>O</td><td>O</td><td>O</td><td>O</td><td><b>I-per</b></td><td>O</td><td>O</td><td>O</td><td>O</td></tr></table>\n",
       "        <table>\n",
       "          <tr><td>bias</td><td>first_upper:True</td><td>word:cambodia</td></tr>\n",
       "          <tr><td>1.0</td><td>1.0</td><td>1.0</td></tr>\n",
       "          <tr><td>1.34</td><td>0.51</td><td>0.00</td></tr>\n",
       "          <tr><td>1.27</td><td>0.97</td><td>0.00</td></tr>\n",
       "        </table> 5 / 85</div>\n",
       "<div class=\"item\"><table style=\"\"><tr><td><b>Cambodia</b></td><td>has</td><td>reduced</td><td>adult</td><td>infection</td></tr><tr><td><b>B-geo</b></td><td>O</td><td>O</td><td>O</td><td>O</td></tr><tr><td><b>I-per</b></td><td>O</td><td>O</td><td>O</td><td>O</td></tr></table>\n",
       "        <table>\n",
       "          <tr><td>bias</td><td>first_upper:True</td><td>word:cambodia</td></tr>\n",
       "          <tr><td>1.0</td><td>1.0</td><td>1.0</td></tr>\n",
       "          <tr><td>1.34</td><td>0.51</td><td>0.00</td></tr>\n",
       "          <tr><td>1.27</td><td>0.97</td><td>0.00</td></tr>\n",
       "        </table> 6 / 85</div>\n",
       "<div class=\"item\"><table style=\"\"><tr><td>in</td><td>the</td><td>city</td><td>'s</td><td>busy</td><td><b>Bakara</b></td><td>market</td><td>.</td></tr><tr><td>O</td><td>O</td><td>O</td><td>O</td><td>O</td><td><b>B-geo</b></td><td>O</td><td>O</td></tr><tr><td>O</td><td>O</td><td>O</td><td>O</td><td>O</td><td><b>I-per</b></td><td>O</td><td>O</td></tr></table>\n",
       "        <table>\n",
       "          <tr><td>bias</td><td>first_upper:True</td><td>word:bakara</td></tr>\n",
       "          <tr><td>1.0</td><td>1.0</td><td>1.0</td></tr>\n",
       "          <tr><td>1.34</td><td>0.51</td><td>0.00</td></tr>\n",
       "          <tr><td>1.27</td><td>0.97</td><td>0.00</td></tr>\n",
       "        </table> 7 / 85</div>\n",
       "<div class=\"item\"><table style=\"\"><tr><td>Insurgent</td><td>groups</td><td>al-Shabab</td><td>and</td><td><b>Hizbul</b></td><td>Islam</td><td>are</td><td>trying</td><td>to</td></tr><tr><td>O</td><td>O</td><td>O</td><td>O</td><td><b>B-per</b></td><td>I-per</td><td>O</td><td>O</td><td>O</td></tr><tr><td>O</td><td>O</td><td>O</td><td>O</td><td><b>I-per</b></td><td>B-geo</td><td>O</td><td>O</td><td>O</td></tr></table>\n",
       "        <table>\n",
       "          <tr><td>bias</td><td>first_upper:True</td><td>word:hizbul</td></tr>\n",
       "          <tr><td>1.0</td><td>1.0</td><td>1.0</td></tr>\n",
       "          <tr><td>0.60</td><td>1.13</td><td>0.00</td></tr>\n",
       "          <tr><td>1.27</td><td>0.97</td><td>0.00</td></tr>\n",
       "        </table> 8 / 85</div>\n",
       "<div class=\"item\"><table style=\"\"><tr><td>The</td><td>founder</td><td>of</td><td><b>Microsoft</b></td><td>,</td><td>Bill</td><td>Gates</td><td>,</td></tr><tr><td>O</td><td>O</td><td>O</td><td><b>B-org</b></td><td>O</td><td>B-per</td><td>I-per</td><td>O</td></tr><tr><td>O</td><td>O</td><td>O</td><td><b>I-per</b></td><td>O</td><td>I-per</td><td>I-per</td><td>O</td></tr></table>\n",
       "        <table>\n",
       "          <tr><td>bias</td><td>first_upper:True</td><td>word:microsoft</td></tr>\n",
       "          <tr><td>1.0</td><td>1.0</td><td>1.0</td></tr>\n",
       "          <tr><td>0.84</td><td>0.88</td><td>0.00</td></tr>\n",
       "          <tr><td>1.27</td><td>0.97</td><td>0.00</td></tr>\n",
       "        </table> 9 / 85</div>\n",
       "<div class=\"item\"><table style=\"\"><tr><td>The</td><td>founder</td><td>of</td><td>Microsoft</td><td>,</td><td><b>Bill</b></td><td>Gates</td><td>,</td><td>has</td><td>received</td></tr><tr><td>O</td><td>O</td><td>O</td><td>B-org</td><td>O</td><td><b>B-per</b></td><td>I-per</td><td>O</td><td>O</td><td>O</td></tr><tr><td>O</td><td>O</td><td>O</td><td>I-per</td><td>O</td><td><b>I-per</b></td><td>I-per</td><td>O</td><td>O</td><td>O</td></tr></table>\n",
       "        <table>\n",
       "          <tr><td>bias</td><td>first_upper:True</td><td>word:bill</td></tr>\n",
       "          <tr><td>1.0</td><td>1.0</td><td>1.0</td></tr>\n",
       "          <tr><td>0.60</td><td>1.13</td><td>1.72</td></tr>\n",
       "          <tr><td>1.27</td><td>0.97</td><td>2.54</td></tr>\n",
       "        </table> 10 / 85</div>\n",
       "<div class=\"item\"><table style=\"\"><tr><td>and</td><td>pushed</td><td>through</td><td>crowds</td><td>at</td><td><b>Hanoi</b></td><td>University</td><td>Saturday</td><td>,</td><td>where</td></tr><tr><td>O</td><td>O</td><td>O</td><td>O</td><td>O</td><td><b>B-org</b></td><td>I-org</td><td>B-tim</td><td>O</td><td>O</td></tr><tr><td>O</td><td>O</td><td>O</td><td>O</td><td>O</td><td><b>I-per</b></td><td>I-org</td><td>B-tim</td><td>O</td><td>O</td></tr></table>\n",
       "        <table>\n",
       "          <tr><td>bias</td><td>first_upper:True</td><td>word:hanoi</td></tr>\n",
       "          <tr><td>1.0</td><td>1.0</td><td>1.0</td></tr>\n",
       "          <tr><td>0.84</td><td>0.88</td><td>0.00</td></tr>\n",
       "          <tr><td>1.27</td><td>0.97</td><td>0.00</td></tr>\n",
       "        </table> 11 / 85</div>\n",
       "<div class=\"item\"><table style=\"\"><tr><td>Hanoi</td><td>University</td><td>Saturday</td><td>,</td><td>where</td><td><b>Gates</b></td><td>was</td><td>delivering</td><td>a</td><td>speech</td></tr><tr><td>B-org</td><td>I-org</td><td>B-tim</td><td>O</td><td>O</td><td><b>B-per</b></td><td>O</td><td>O</td><td>O</td><td>O</td></tr><tr><td>I-per</td><td>I-org</td><td>B-tim</td><td>O</td><td>O</td><td><b>I-per</b></td><td>O</td><td>O</td><td>O</td><td>O</td></tr></table>\n",
       "        <table>\n",
       "          <tr><td>bias</td><td>first_upper:True</td><td>word:gates</td></tr>\n",
       "          <tr><td>1.0</td><td>1.0</td><td>1.0</td></tr>\n",
       "          <tr><td>0.60</td><td>1.13</td><td>1.82</td></tr>\n",
       "          <tr><td>1.27</td><td>0.97</td><td>1.40</td></tr>\n",
       "        </table> 12 / 85</div>\n",
       "<div class=\"item\"><table style=\"\"><tr><td>Earlier</td><td>,</td><td><b>Gates</b></td><td>met</td><td>Prime</td><td>Minister</td><td>Phan</td></tr><tr><td>O</td><td>O</td><td><b>B-per</b></td><td>O</td><td>B-per</td><td>O</td><td>B-per</td></tr><tr><td>O</td><td>O</td><td><b>I-per</b></td><td>O</td><td>B-per</td><td>I-per</td><td>I-per</td></tr></table>\n",
       "        <table>\n",
       "          <tr><td>bias</td><td>first_upper:True</td><td>word:gates</td></tr>\n",
       "          <tr><td>1.0</td><td>1.0</td><td>1.0</td></tr>\n",
       "          <tr><td>0.60</td><td>1.13</td><td>1.82</td></tr>\n",
       "          <tr><td>1.27</td><td>0.97</td><td>1.40</td></tr>\n",
       "        </table> 13 / 85</div>\n",
       "<div class=\"item\"><table style=\"\"><tr><td>,</td><td>Gates</td><td>met</td><td>Prime</td><td>Minister</td><td><b>Phan</b></td><td>Van</td><td>Khai</td><td>and</td><td>President</td></tr><tr><td>O</td><td>B-per</td><td>O</td><td>B-per</td><td>O</td><td><b>B-per</b></td><td>I-per</td><td>I-per</td><td>O</td><td>B-per</td></tr><tr><td>O</td><td>I-per</td><td>O</td><td>B-per</td><td>I-per</td><td><b>I-per</b></td><td>B-geo</td><td>I-per</td><td>O</td><td>B-per</td></tr></table>\n",
       "        <table>\n",
       "          <tr><td>bias</td><td>first_upper:True</td><td>word:phan</td></tr>\n",
       "          <tr><td>1.0</td><td>1.0</td><td>1.0</td></tr>\n",
       "          <tr><td>0.60</td><td>1.13</td><td>0.00</td></tr>\n",
       "          <tr><td>1.27</td><td>0.97</td><td>0.00</td></tr>\n",
       "        </table> 14 / 85</div>\n",
       "<div class=\"item\"><table style=\"\"><tr><td>,</td><td>the</td><td>Vietnamese</td><td>leaders</td><td>and</td><td><b>Gates</b></td><td>signed</td><td>an</td><td>agreement</td><td>to</td></tr><tr><td>O</td><td>O</td><td>B-gpe</td><td>O</td><td>O</td><td><b>B-per</b></td><td>O</td><td>O</td><td>O</td><td>O</td></tr><tr><td>O</td><td>O</td><td>B-gpe</td><td>O</td><td>O</td><td><b>I-per</b></td><td>O</td><td>O</td><td>O</td><td>O</td></tr></table>\n",
       "        <table>\n",
       "          <tr><td>bias</td><td>first_upper:True</td><td>word:gates</td></tr>\n",
       "          <tr><td>1.0</td><td>1.0</td><td>1.0</td></tr>\n",
       "          <tr><td>0.60</td><td>1.13</td><td>1.82</td></tr>\n",
       "          <tr><td>1.27</td><td>0.97</td><td>1.40</td></tr>\n",
       "        </table> 15 / 85</div>\n",
       "<div class=\"item\"><table style=\"\"><tr><td>signed</td><td>an</td><td>agreement</td><td>to</td><td>use</td><td><b>Microsoft</b></td><td>software</td><td>in</td><td>Vietnam</td><td>'s</td></tr><tr><td>O</td><td>O</td><td>O</td><td>O</td><td>O</td><td><b>B-org</b></td><td>O</td><td>O</td><td>B-geo</td><td>O</td></tr><tr><td>O</td><td>O</td><td>O</td><td>O</td><td>O</td><td><b>I-per</b></td><td>O</td><td>O</td><td>B-geo</td><td>O</td></tr></table>\n",
       "        <table>\n",
       "          <tr><td>bias</td><td>first_upper:True</td><td>word:microsoft</td></tr>\n",
       "          <tr><td>1.0</td><td>1.0</td><td>1.0</td></tr>\n",
       "          <tr><td>0.84</td><td>0.88</td><td>0.00</td></tr>\n",
       "          <tr><td>1.27</td><td>0.97</td><td>0.00</td></tr>\n",
       "        </table> 16 / 85</div>\n",
       "<div class=\"item\"><table style=\"\"><tr><td><b>Gates</b></td><td>'</td><td>trip</td><td>to</td><td>Hanoi</td></tr><tr><td><b>B-per</b></td><td>O</td><td>O</td><td>O</td><td>B-geo</td></tr><tr><td><b>I-per</b></td><td>O</td><td>O</td><td>O</td><td>I-per</td></tr></table>\n",
       "        <table>\n",
       "          <tr><td>bias</td><td>first_upper:True</td><td>word:gates</td></tr>\n",
       "          <tr><td>1.0</td><td>1.0</td><td>1.0</td></tr>\n",
       "          <tr><td>0.60</td><td>1.13</td><td>1.82</td></tr>\n",
       "          <tr><td>1.27</td><td>0.97</td><td>1.40</td></tr>\n",
       "        </table> 17 / 85</div>\n",
       "<div class=\"item\"><table style=\"\"><tr><td>Gates</td><td>'</td><td>trip</td><td>to</td><td><b>Hanoi</b></td><td>is</td><td>seen</td><td>as</td><td>another</td></tr><tr><td>B-per</td><td>O</td><td>O</td><td>O</td><td><b>B-geo</b></td><td>O</td><td>O</td><td>O</td><td>O</td></tr><tr><td>I-per</td><td>O</td><td>O</td><td>O</td><td><b>I-per</b></td><td>O</td><td>O</td><td>O</td><td>O</td></tr></table>\n",
       "        <table>\n",
       "          <tr><td>bias</td><td>first_upper:True</td><td>word:hanoi</td></tr>\n",
       "          <tr><td>1.0</td><td>1.0</td><td>1.0</td></tr>\n",
       "          <tr><td>1.34</td><td>0.51</td><td>0.00</td></tr>\n",
       "          <tr><td>1.27</td><td>0.97</td><td>0.00</td></tr>\n",
       "        </table> 18 / 85</div>\n",
       "<div class=\"item\"><table style=\"\"><tr><td>tech</td><td>deal</td><td>when</td><td>leading</td><td>chipmaker</td><td><b>Intel</b></td><td>Corporation</td><td>announced</td><td>it</td><td>was</td></tr><tr><td>O</td><td>O</td><td>O</td><td>O</td><td>O</td><td><b>B-org</b></td><td>I-org</td><td>O</td><td>O</td><td>O</td></tr><tr><td>O</td><td>O</td><td>O</td><td>O</td><td>O</td><td><b>I-per</b></td><td>I-org</td><td>O</td><td>O</td><td>O</td></tr></table>\n",
       "        <table>\n",
       "          <tr><td>bias</td><td>first_upper:True</td><td>word:intel</td></tr>\n",
       "          <tr><td>1.0</td><td>1.0</td><td>1.0</td></tr>\n",
       "          <tr><td>0.84</td><td>0.88</td><td>0.00</td></tr>\n",
       "          <tr><td>1.27</td><td>0.97</td><td>0.00</td></tr>\n",
       "        </table> 19 / 85</div>\n",
       "<div class=\"item\"><table style=\"\"><tr><td><b>Kandani</b></td><td>Ngwira</td><td>,</td><td>who</td><td>works</td></tr><tr><td><b>B-per</b></td><td>I-per</td><td>O</td><td>O</td><td>O</td></tr><tr><td><b>I-per</b></td><td>I-per</td><td>O</td><td>O</td><td>O</td></tr></table>\n",
       "        <table>\n",
       "          <tr><td>bias</td><td>first_upper:True</td><td>word:kandani</td></tr>\n",
       "          <tr><td>1.0</td><td>1.0</td><td>1.0</td></tr>\n",
       "          <tr><td>0.60</td><td>1.13</td><td>0.00</td></tr>\n",
       "          <tr><td>1.27</td><td>0.97</td><td>0.00</td></tr>\n",
       "        </table> 20 / 85</div>\n",
       "<div class=\"item\"><table style=\"\"><tr><td>A</td><td><b>Malawi</b></td><td>journalist</td><td>who</td><td>works</td><td>for</td></tr><tr><td>O</td><td><b>B-gpe</b></td><td>O</td><td>O</td><td>O</td><td>O</td></tr><tr><td>O</td><td><b>I-per</b></td><td>O</td><td>O</td><td>O</td><td>O</td></tr></table>\n",
       "        <table>\n",
       "          <tr><td>bias</td><td>first_upper:True</td><td>word:malawi</td></tr>\n",
       "          <tr><td>1.0</td><td>1.0</td><td>1.0</td></tr>\n",
       "          <tr><td>-2.95</td><td>3.91</td><td>0.00</td></tr>\n",
       "          <tr><td>1.27</td><td>0.97</td><td>0.00</td></tr>\n",
       "        </table> 21 / 85</div>\n",
       "<div class=\"item\"><table style=\"\"><tr><td><b>Kandani</b></td><td>Ngwira</td><td>contacted</td><td>media</td><td>outlets</td></tr><tr><td><b>B-per</b></td><td>I-per</td><td>O</td><td>O</td><td>O</td></tr><tr><td><b>I-per</b></td><td>I-per</td><td>O</td><td>O</td><td>O</td></tr></table>\n",
       "        <table>\n",
       "          <tr><td>bias</td><td>first_upper:True</td><td>word:kandani</td></tr>\n",
       "          <tr><td>1.0</td><td>1.0</td><td>1.0</td></tr>\n",
       "          <tr><td>0.60</td><td>1.13</td><td>0.00</td></tr>\n",
       "          <tr><td>1.27</td><td>0.97</td><td>0.00</td></tr>\n",
       "        </table> 22 / 85</div>\n",
       "<div class=\"item\"><table style=\"\"><tr><td><b>Ngwira</b></td><td>works</td><td>for</td><td>the</td><td>Weekly</td></tr><tr><td><b>B-per</b></td><td>O</td><td>O</td><td>O</td><td>B-org</td></tr><tr><td><b>I-per</b></td><td>O</td><td>O</td><td>O</td><td>O</td></tr></table>\n",
       "        <table>\n",
       "          <tr><td>bias</td><td>first_upper:True</td><td>word:ngwira</td></tr>\n",
       "          <tr><td>1.0</td><td>1.0</td><td>1.0</td></tr>\n",
       "          <tr><td>0.60</td><td>1.13</td><td>0.00</td></tr>\n",
       "          <tr><td>1.27</td><td>0.97</td><td>0.00</td></tr>\n",
       "        </table> 23 / 85</div>\n",
       "<div class=\"item\"><table style=\"\"><tr><td>,</td><td>a</td><td>newspaper</td><td>that</td><td>the</td><td><b>Malawian</b></td><td>government</td><td>tried</td><td>to</td><td>ban</td></tr><tr><td>O</td><td>O</td><td>O</td><td>O</td><td>O</td><td><b>B-gpe</b></td><td>O</td><td>O</td><td>O</td><td>O</td></tr><tr><td>O</td><td>O</td><td>O</td><td>O</td><td>O</td><td><b>I-per</b></td><td>O</td><td>O</td><td>O</td><td>O</td></tr></table>\n",
       "        <table>\n",
       "          <tr><td>bias</td><td>first_upper:True</td><td>word:malawian</td></tr>\n",
       "          <tr><td>1.0</td><td>1.0</td><td>1.0</td></tr>\n",
       "          <tr><td>-2.95</td><td>3.91</td><td>0.00</td></tr>\n",
       "          <tr><td>1.27</td><td>0.97</td><td>0.00</td></tr>\n",
       "        </table> 24 / 85</div>\n",
       "<div class=\"item\"><table style=\"\"><tr><td>National</td><td>police</td><td>spokesman</td><td>,</td><td><b>Willy</b></td><td>Mwaluka</td><td>,</td><td>says</td><td>he</td></tr><tr><td>O</td><td>O</td><td>O</td><td>O</td><td><b>B-per</b></td><td>I-per</td><td>O</td><td>O</td><td>O</td></tr><tr><td>B-org</td><td>O</td><td>O</td><td>O</td><td><b>I-per</b></td><td>I-per</td><td>O</td><td>O</td><td>O</td></tr></table>\n",
       "        <table>\n",
       "          <tr><td>bias</td><td>first_upper:True</td><td>word:willy</td></tr>\n",
       "          <tr><td>1.0</td><td>1.0</td><td>1.0</td></tr>\n",
       "          <tr><td>0.60</td><td>1.13</td><td>0.00</td></tr>\n",
       "          <tr><td>1.27</td><td>0.97</td><td>0.00</td></tr>\n",
       "        </table> 25 / 85</div>\n",
       "<div class=\"item\"><table style=\"\"><tr><td>he</td><td>had</td><td>no</td><td>information</td><td>about</td><td><b>Ngwira</b></td><td>'s</td><td>detention</td><td>.</td></tr><tr><td>O</td><td>O</td><td>O</td><td>O</td><td>O</td><td><b>B-per</b></td><td>O</td><td>O</td><td>O</td></tr><tr><td>O</td><td>O</td><td>O</td><td>O</td><td>O</td><td><b>I-per</b></td><td>O</td><td>O</td><td>O</td></tr></table>\n",
       "        <table>\n",
       "          <tr><td>bias</td><td>first_upper:True</td><td>word:ngwira</td></tr>\n",
       "          <tr><td>1.0</td><td>1.0</td><td>1.0</td></tr>\n",
       "          <tr><td>0.60</td><td>1.13</td><td>0.00</td></tr>\n",
       "          <tr><td>1.27</td><td>0.97</td><td>0.00</td></tr>\n",
       "        </table> 26 / 85</div>\n",
       "<div class=\"item\"><table style=\"\"><tr><td>says</td><td>he</td><td>was</td><td>arrested</td><td>in</td><td><b>Blantyre</b></td><td>and</td><td>transported</td><td>to</td><td>the</td></tr><tr><td>O</td><td>O</td><td>O</td><td>O</td><td>O</td><td><b>B-geo</b></td><td>O</td><td>O</td><td>O</td><td>O</td></tr><tr><td>O</td><td>O</td><td>O</td><td>O</td><td>O</td><td><b>I-per</b></td><td>O</td><td>O</td><td>O</td><td>O</td></tr></table>\n",
       "        <table>\n",
       "          <tr><td>bias</td><td>first_upper:True</td><td>word:blantyre</td></tr>\n",
       "          <tr><td>1.0</td><td>1.0</td><td>1.0</td></tr>\n",
       "          <tr><td>1.34</td><td>0.51</td><td>0.00</td></tr>\n",
       "          <tr><td>1.27</td><td>0.97</td><td>0.00</td></tr>\n",
       "        </table> 27 / 85</div>\n",
       "<div class=\"item\"><table style=\"\"><tr><td>transported</td><td>to</td><td>the</td><td>capital</td><td>,</td><td><b>Lilongwe</b></td><td>.</td></tr><tr><td>O</td><td>O</td><td>O</td><td>O</td><td>O</td><td><b>B-geo</b></td><td>O</td></tr><tr><td>O</td><td>O</td><td>O</td><td>O</td><td>O</td><td><b>I-per</b></td><td>O</td></tr></table>\n",
       "        <table>\n",
       "          <tr><td>bias</td><td>first_upper:True</td><td>word:lilongwe</td></tr>\n",
       "          <tr><td>1.0</td><td>1.0</td><td>1.0</td></tr>\n",
       "          <tr><td>1.34</td><td>0.51</td><td>0.00</td></tr>\n",
       "          <tr><td>1.27</td><td>0.97</td><td>0.00</td></tr>\n",
       "        </table> 28 / 85</div>\n",
       "<div class=\"item\"><table style=\"\"><tr><td><b>Blantyre</b></td><td>Newspapers</td><td>Limited</td><td>,</td><td>which</td></tr><tr><td><b>B-org</b></td><td>I-org</td><td>I-org</td><td>O</td><td>O</td></tr><tr><td><b>I-per</b></td><td>O</td><td>O</td><td>O</td><td>O</td></tr></table>\n",
       "        <table>\n",
       "          <tr><td>bias</td><td>first_upper:True</td><td>word:blantyre</td></tr>\n",
       "          <tr><td>1.0</td><td>1.0</td><td>1.0</td></tr>\n",
       "          <tr><td>0.84</td><td>0.88</td><td>0.00</td></tr>\n",
       "          <tr><td>1.27</td><td>0.97</td><td>0.00</td></tr>\n",
       "        </table> 29 / 85</div>\n",
       "<div class=\"item\"><table style=\"\"><tr><td>is</td><td>providing</td><td>a</td><td>lawyer</td><td>for</td><td><b>Ngwira</b></td><td>.</td></tr><tr><td>O</td><td>O</td><td>O</td><td>O</td><td>O</td><td><b>B-per</b></td><td>O</td></tr><tr><td>O</td><td>O</td><td>O</td><td>O</td><td>O</td><td><b>I-per</b></td><td>O</td></tr></table>\n",
       "        <table>\n",
       "          <tr><td>bias</td><td>first_upper:True</td><td>word:ngwira</td></tr>\n",
       "          <tr><td>1.0</td><td>1.0</td><td>1.0</td></tr>\n",
       "          <tr><td>0.60</td><td>1.13</td><td>0.00</td></tr>\n",
       "          <tr><td>1.27</td><td>0.97</td><td>0.00</td></tr>\n",
       "        </table> 30 / 85</div>\n",
       "<div class=\"item\"><table style=\"\"><tr><td>follow</td><td>efforts</td><td>by</td><td>Palestinian</td><td>leader</td><td><b>Mahmoud</b></td><td>Abbas</td><td>to</td><td>persuade</td><td>militants</td></tr><tr><td>O</td><td>O</td><td>O</td><td>B-gpe</td><td>O</td><td><b>B-per</b></td><td>I-per</td><td>O</td><td>O</td><td>O</td></tr><tr><td>O</td><td>O</td><td>O</td><td>B-gpe</td><td>O</td><td><b>I-per</b></td><td>I-per</td><td>O</td><td>O</td><td>O</td></tr></table>\n",
       "        <table>\n",
       "          <tr><td>bias</td><td>first_upper:True</td><td>word:mahmoud</td></tr>\n",
       "          <tr><td>1.0</td><td>1.0</td><td>1.0</td></tr>\n",
       "          <tr><td>0.60</td><td>1.13</td><td>3.73</td></tr>\n",
       "          <tr><td>1.27</td><td>0.97</td><td>4.44</td></tr>\n",
       "        </table> 31 / 85</div>\n",
       "<div class=\"item\"><table style=\"\"><tr><td>'s</td><td>chief</td><td>veterinary</td><td>official</td><td>,</td><td><b>Valery</b></td><td>Sitnikov</td><td>,</td><td>said</td><td>bio-terrorism</td></tr><tr><td>O</td><td>O</td><td>O</td><td>O</td><td>O</td><td><b>B-per</b></td><td>I-per</td><td>O</td><td>O</td><td>O</td></tr><tr><td>O</td><td>O</td><td>O</td><td>O</td><td>O</td><td><b>I-per</b></td><td>I-per</td><td>O</td><td>O</td><td>O</td></tr></table>\n",
       "        <table>\n",
       "          <tr><td>bias</td><td>first_upper:True</td><td>word:valery</td></tr>\n",
       "          <tr><td>1.0</td><td>1.0</td><td>1.0</td></tr>\n",
       "          <tr><td>0.60</td><td>1.13</td><td>0.00</td></tr>\n",
       "          <tr><td>1.27</td><td>0.97</td><td>0.00</td></tr>\n",
       "        </table> 32 / 85</div>\n",
       "<div class=\"item\"><table style=\"\"><tr><td>Most</td><td>of</td><td>the</td><td>victims</td><td>were</td><td><b>Asians</b></td><td>.</td></tr><tr><td>O</td><td>O</td><td>O</td><td>O</td><td>O</td><td><b>B-gpe</b></td><td>O</td></tr><tr><td>O</td><td>O</td><td>O</td><td>O</td><td>O</td><td><b>I-per</b></td><td>O</td></tr></table>\n",
       "        <table>\n",
       "          <tr><td>bias</td><td>first_upper:True</td><td>word:asians</td></tr>\n",
       "          <tr><td>1.0</td><td>1.0</td><td>1.0</td></tr>\n",
       "          <tr><td>-2.95</td><td>3.91</td><td>0.00</td></tr>\n",
       "          <tr><td>1.27</td><td>0.97</td><td>0.00</td></tr>\n",
       "        </table> 33 / 85</div>\n",
       "<div class=\"item\"><table style=\"\"><tr><td>'s</td><td>Deputy</td><td>Foreign</td><td>Minister</td><td>,</td><td><b>Choe</b></td><td>Su</td><td>Hon</td><td>,</td><td>said</td></tr><tr><td>O</td><td>O</td><td>O</td><td>O</td><td>O</td><td><b>B-org</b></td><td>I-org</td><td>I-org</td><td>O</td><td>O</td></tr><tr><td>O</td><td>O</td><td>B-per</td><td>I-per</td><td>O</td><td><b>I-per</b></td><td>I-per</td><td>I-per</td><td>O</td><td>O</td></tr></table>\n",
       "        <table>\n",
       "          <tr><td>bias</td><td>first_upper:True</td><td>word:choe</td></tr>\n",
       "          <tr><td>1.0</td><td>1.0</td><td>1.0</td></tr>\n",
       "          <tr><td>0.84</td><td>0.88</td><td>0.00</td></tr>\n",
       "          <tr><td>1.27</td><td>0.97</td><td>0.00</td></tr>\n",
       "        </table> 34 / 85</div>\n",
       "<div class=\"item\"><table style=\"\"><tr><td>Meanwhile</td><td>,</td><td>Japan</td><td>'s</td><td><b>Kyodo</b></td><td>news</td><td>agency</td><td>reports</td><td>Pyongyang</td></tr><tr><td>O</td><td>O</td><td>B-geo</td><td>O</td><td><b>B-geo</b></td><td>O</td><td>O</td><td>O</td><td>B-geo</td></tr><tr><td>O</td><td>O</td><td>B-geo</td><td>O</td><td><b>I-per</b></td><td>O</td><td>O</td><td>O</td><td>B-tim</td></tr></table>\n",
       "        <table>\n",
       "          <tr><td>bias</td><td>first_upper:True</td><td>word:kyodo</td></tr>\n",
       "          <tr><td>1.0</td><td>1.0</td><td>1.0</td></tr>\n",
       "          <tr><td>1.34</td><td>0.51</td><td>0.00</td></tr>\n",
       "          <tr><td>1.27</td><td>0.97</td><td>0.00</td></tr>\n",
       "        </table> 35 / 85</div>\n",
       "<div class=\"item\"><table style=\"\"><tr><td><b>Stanley</b></td><td>\"</td><td>Tookie</td><td>\"</td><td>Williams</td></tr><tr><td><b>B-per</b></td><td>O</td><td>B-per</td><td>O</td><td>B-per</td></tr><tr><td><b>I-per</b></td><td>O</td><td>I-per</td><td>O</td><td>I-per</td></tr></table>\n",
       "        <table>\n",
       "          <tr><td>bias</td><td>first_upper:True</td><td>word:stanley</td></tr>\n",
       "          <tr><td>1.0</td><td>1.0</td><td>1.0</td></tr>\n",
       "          <tr><td>0.60</td><td>1.13</td><td>0.00</td></tr>\n",
       "          <tr><td>1.27</td><td>0.97</td><td>0.00</td></tr>\n",
       "        </table> 36 / 85</div>\n",
       "<div class=\"item\"><table style=\"\"><tr><td>Stanley</td><td>\"</td><td><b>Tookie</b></td><td>\"</td><td>Williams</td><td>has</td><td>been</td></tr><tr><td>B-per</td><td>O</td><td><b>B-per</b></td><td>O</td><td>B-per</td><td>O</td><td>O</td></tr><tr><td>I-per</td><td>O</td><td><b>I-per</b></td><td>O</td><td>I-per</td><td>O</td><td>O</td></tr></table>\n",
       "        <table>\n",
       "          <tr><td>bias</td><td>first_upper:True</td><td>word:tookie</td></tr>\n",
       "          <tr><td>1.0</td><td>1.0</td><td>1.0</td></tr>\n",
       "          <tr><td>0.60</td><td>1.13</td><td>0.00</td></tr>\n",
       "          <tr><td>1.27</td><td>0.97</td><td>0.00</td></tr>\n",
       "        </table> 37 / 85</div>\n",
       "<div class=\"item\"><table style=\"\"><tr><td>Stanley</td><td>\"</td><td>Tookie</td><td>\"</td><td><b>Williams</b></td><td>has</td><td>been</td><td>convicted</td><td>of</td></tr><tr><td>B-per</td><td>O</td><td>B-per</td><td>O</td><td><b>B-per</b></td><td>O</td><td>O</td><td>O</td><td>O</td></tr><tr><td>I-per</td><td>O</td><td>I-per</td><td>O</td><td><b>I-per</b></td><td>O</td><td>O</td><td>O</td><td>O</td></tr></table>\n",
       "        <table>\n",
       "          <tr><td>bias</td><td>first_upper:True</td><td>word:williams</td></tr>\n",
       "          <tr><td>1.0</td><td>1.0</td><td>1.0</td></tr>\n",
       "          <tr><td>0.60</td><td>1.13</td><td>-0.28</td></tr>\n",
       "          <tr><td>1.27</td><td>0.97</td><td>2.04</td></tr>\n",
       "        </table> 38 / 85</div>\n",
       "<div class=\"item\"><table style=\"\"><tr><td>the</td><td>co-founder</td><td>of</td><td>the</td><td>infamous</td><td><b>Crips</b></td><td>street</td><td>gang</td><td>.</td></tr><tr><td>O</td><td>O</td><td>O</td><td>O</td><td>O</td><td><b>B-geo</b></td><td>O</td><td>O</td><td>O</td></tr><tr><td>O</td><td>O</td><td>O</td><td>O</td><td>O</td><td><b>I-per</b></td><td>O</td><td>O</td><td>O</td></tr></table>\n",
       "        <table>\n",
       "          <tr><td>bias</td><td>first_upper:True</td><td>word:crips</td></tr>\n",
       "          <tr><td>1.0</td><td>1.0</td><td>1.0</td></tr>\n",
       "          <tr><td>1.34</td><td>0.51</td><td>0.00</td></tr>\n",
       "          <tr><td>1.27</td><td>0.97</td><td>0.00</td></tr>\n",
       "        </table> 39 / 85</div>\n",
       "<div class=\"item\"><table style=\"\"><tr><td>has</td><td>attracted</td><td>international</td><td>attention</td><td>because</td><td><b>Williams</b></td><td>is</td><td>the</td><td>author</td><td>of</td></tr><tr><td>O</td><td>O</td><td>O</td><td>O</td><td>O</td><td><b>B-per</b></td><td>O</td><td>O</td><td>O</td><td>O</td></tr><tr><td>O</td><td>O</td><td>O</td><td>O</td><td>O</td><td><b>I-per</b></td><td>O</td><td>O</td><td>O</td><td>O</td></tr></table>\n",
       "        <table>\n",
       "          <tr><td>bias</td><td>first_upper:True</td><td>word:williams</td></tr>\n",
       "          <tr><td>1.0</td><td>1.0</td><td>1.0</td></tr>\n",
       "          <tr><td>0.60</td><td>1.13</td><td>-0.28</td></tr>\n",
       "          <tr><td>1.27</td><td>0.97</td><td>2.04</td></tr>\n",
       "        </table> 40 / 85</div>\n",
       "<div class=\"item\"><table style=\"\"><tr><td>the</td><td>books</td><td>are</td><td>evidence</td><td>that</td><td><b>Williams</b></td><td>has</td><td>turned</td><td>his</td><td>life</td></tr><tr><td>O</td><td>O</td><td>O</td><td>O</td><td>O</td><td><b>B-per</b></td><td>O</td><td>O</td><td>O</td><td>O</td></tr><tr><td>O</td><td>O</td><td>O</td><td>O</td><td>O</td><td><b>I-per</b></td><td>O</td><td>O</td><td>O</td><td>O</td></tr></table>\n",
       "        <table>\n",
       "          <tr><td>bias</td><td>first_upper:True</td><td>word:williams</td></tr>\n",
       "          <tr><td>1.0</td><td>1.0</td><td>1.0</td></tr>\n",
       "          <tr><td>0.60</td><td>1.13</td><td>-0.28</td></tr>\n",
       "          <tr><td>1.27</td><td>0.97</td><td>2.04</td></tr>\n",
       "        </table> 41 / 85</div>\n",
       "<div class=\"item\"><table style=\"\"><tr><td><b>Williams</b></td><td>has</td><td>apologized</td><td>for</td><td>his</td></tr><tr><td><b>B-per</b></td><td>O</td><td>O</td><td>O</td><td>O</td></tr><tr><td><b>I-per</b></td><td>O</td><td>O</td><td>O</td><td>O</td></tr></table>\n",
       "        <table>\n",
       "          <tr><td>bias</td><td>first_upper:True</td><td>word:williams</td></tr>\n",
       "          <tr><td>1.0</td><td>1.0</td><td>1.0</td></tr>\n",
       "          <tr><td>0.60</td><td>1.13</td><td>-0.28</td></tr>\n",
       "          <tr><td>1.27</td><td>0.97</td><td>2.04</td></tr>\n",
       "        </table> 42 / 85</div>\n",
       "<div class=\"item\"><table style=\"\"><tr><td>the</td><td>California</td><td>high</td><td>court</td><td>upheld</td><td><b>Williams</b></td><td>'</td><td>conviction</td><td>.</td></tr><tr><td>O</td><td>B-geo</td><td>O</td><td>O</td><td>O</td><td><b>B-per</b></td><td>O</td><td>O</td><td>O</td></tr><tr><td>O</td><td>B-geo</td><td>O</td><td>O</td><td>O</td><td><b>I-per</b></td><td>O</td><td>O</td><td>O</td></tr></table>\n",
       "        <table>\n",
       "          <tr><td>bias</td><td>first_upper:True</td><td>word:williams</td></tr>\n",
       "          <tr><td>1.0</td><td>1.0</td><td>1.0</td></tr>\n",
       "          <tr><td>0.60</td><td>1.13</td><td>-0.28</td></tr>\n",
       "          <tr><td>1.27</td><td>0.97</td><td>2.04</td></tr>\n",
       "        </table> 43 / 85</div>\n",
       "<div class=\"item\"><table style=\"\"><tr><td>Mr.</td><td><b>Schwarzenegger</b></td><td>'s</td><td>decision</td><td>on</td><td>clemency</td></tr><tr><td>B-per</td><td><b>B-org</b></td><td>O</td><td>O</td><td>O</td><td>O</td></tr><tr><td>B-per</td><td><b>I-per</b></td><td>O</td><td>O</td><td>O</td><td>O</td></tr></table>\n",
       "        <table>\n",
       "          <tr><td>bias</td><td>first_upper:True</td><td>word:schwarzenegger</td></tr>\n",
       "          <tr><td>1.0</td><td>1.0</td><td>1.0</td></tr>\n",
       "          <tr><td>0.84</td><td>0.88</td><td>0.00</td></tr>\n",
       "          <tr><td>1.27</td><td>0.97</td><td>0.00</td></tr>\n",
       "        </table> 44 / 85</div>\n",
       "<div class=\"item\"><table style=\"\"><tr><td>them</td><td>highly</td><td>favored</td><td>two-time</td><td>president</td><td><b>Akbar</b></td><td>Hashemi</td><td>Rafsanjani</td><td>.</td></tr><tr><td>O</td><td>O</td><td>O</td><td>O</td><td>B-per</td><td><b>B-org</b></td><td>I-org</td><td>I-org</td><td>O</td></tr><tr><td>O</td><td>O</td><td>O</td><td>O</td><td>O</td><td><b>I-per</b></td><td>I-per</td><td>I-per</td><td>O</td></tr></table>\n",
       "        <table>\n",
       "          <tr><td>bias</td><td>first_upper:True</td><td>word:akbar</td></tr>\n",
       "          <tr><td>1.0</td><td>1.0</td><td>1.0</td></tr>\n",
       "          <tr><td>0.84</td><td>0.88</td><td>0.00</td></tr>\n",
       "          <tr><td>1.27</td><td>0.97</td><td>0.00</td></tr>\n",
       "        </table> 45 / 85</div>\n",
       "<div class=\"item\"><table style=\"\"><tr><td>of</td><td>the</td><td>national</td><td>police</td><td>,</td><td><b>Bager</b></td><td>Qalibaf</td><td>,</td><td>and</td><td>the</td></tr><tr><td>O</td><td>O</td><td>O</td><td>O</td><td>O</td><td><b>B-per</b></td><td>I-per</td><td>O</td><td>O</td><td>O</td></tr><tr><td>O</td><td>O</td><td>O</td><td>O</td><td>O</td><td><b>I-per</b></td><td>I-per</td><td>O</td><td>O</td><td>O</td></tr></table>\n",
       "        <table>\n",
       "          <tr><td>bias</td><td>first_upper:True</td><td>word:bager</td></tr>\n",
       "          <tr><td>1.0</td><td>1.0</td><td>1.0</td></tr>\n",
       "          <tr><td>0.60</td><td>1.13</td><td>0.00</td></tr>\n",
       "          <tr><td>1.27</td><td>0.97</td><td>0.00</td></tr>\n",
       "        </table> 46 / 85</div>\n",
       "<div class=\"item\"><table style=\"\"><tr><td>the</td><td>mayor</td><td>of</td><td>Tehran</td><td>,</td><td><b>Mahmoud</b></td><td>Ahmadinejad</td><td>,</td><td>are</td><td>also</td></tr><tr><td>O</td><td>O</td><td>O</td><td>B-geo</td><td>O</td><td><b>B-geo</b></td><td>I-geo</td><td>O</td><td>O</td><td>O</td></tr><tr><td>O</td><td>O</td><td>O</td><td>B-geo</td><td>O</td><td><b>I-per</b></td><td>I-per</td><td>O</td><td>O</td><td>O</td></tr></table>\n",
       "        <table>\n",
       "          <tr><td>bias</td><td>first_upper:True</td><td>word:mahmoud</td></tr>\n",
       "          <tr><td>1.0</td><td>1.0</td><td>1.0</td></tr>\n",
       "          <tr><td>1.34</td><td>0.51</td><td>-1.62</td></tr>\n",
       "          <tr><td>1.27</td><td>0.97</td><td>4.44</td></tr>\n",
       "        </table> 47 / 85</div>\n",
       "<div class=\"item\"><table style=\"\"><tr><td>will</td><td>be</td><td>screened</td><td>by</td><td>the</td><td><b>Guardians</b></td><td>Council</td><td>,</td><td>which</td><td>will</td></tr><tr><td>O</td><td>O</td><td>O</td><td>O</td><td>O</td><td><b>B-org</b></td><td>I-org</td><td>O</td><td>O</td><td>O</td></tr><tr><td>O</td><td>O</td><td>O</td><td>O</td><td>O</td><td><b>I-per</b></td><td>I-org</td><td>O</td><td>O</td><td>O</td></tr></table>\n",
       "        <table>\n",
       "          <tr><td>bias</td><td>first_upper:True</td><td>word:guardians</td></tr>\n",
       "          <tr><td>1.0</td><td>1.0</td><td>1.0</td></tr>\n",
       "          <tr><td>0.84</td><td>0.88</td><td>0.00</td></tr>\n",
       "          <tr><td>1.27</td><td>0.97</td><td>0.00</td></tr>\n",
       "        </table> 48 / 85</div>\n",
       "<div class=\"item\"><table style=\"\"><tr><td>crowd</td><td>in</td><td>Beirut</td><td>Tuesday</td><td>,</td><td><b>Hassan</b></td><td>Nasrallah</td><td>accused</td><td>Mr.</td><td>Bush</td></tr><tr><td>O</td><td>O</td><td>B-geo</td><td>B-tim</td><td>O</td><td><b>B-per</b></td><td>I-per</td><td>O</td><td>B-per</td><td>I-per</td></tr><tr><td>O</td><td>O</td><td>B-geo</td><td>B-tim</td><td>O</td><td><b>I-per</b></td><td>I-per</td><td>O</td><td>B-per</td><td>I-per</td></tr></table>\n",
       "        <table>\n",
       "          <tr><td>bias</td><td>first_upper:True</td><td>word:hassan</td></tr>\n",
       "          <tr><td>1.0</td><td>1.0</td><td>1.0</td></tr>\n",
       "          <tr><td>0.60</td><td>1.13</td><td>1.76</td></tr>\n",
       "          <tr><td>1.27</td><td>0.97</td><td>2.63</td></tr>\n",
       "        </table> 49 / 85</div>\n",
       "<div class=\"item\"><table style=\"\"><tr><td>He</td><td>also</td><td>asserted</td><td>that</td><td>the</td><td><b>Bush</b></td><td>administration</td><td>ordered</td><td>Israel</td><td>to</td></tr><tr><td>O</td><td>O</td><td>O</td><td>O</td><td>O</td><td><b>B-per</b></td><td>O</td><td>O</td><td>B-geo</td><td>O</td></tr><tr><td>O</td><td>O</td><td>O</td><td>O</td><td>O</td><td><b>I-per</b></td><td>O</td><td>O</td><td>B-geo</td><td>O</td></tr></table>\n",
       "        <table>\n",
       "          <tr><td>bias</td><td>first_upper:True</td><td>word:bush</td></tr>\n",
       "          <tr><td>1.0</td><td>1.0</td><td>1.0</td></tr>\n",
       "          <tr><td>0.60</td><td>1.13</td><td>3.09</td></tr>\n",
       "          <tr><td>1.27</td><td>0.97</td><td>3.80</td></tr>\n",
       "        </table> 50 / 85</div>\n",
       "<div class=\"item\"><table style=\"\"><tr><td>of</td><td>a</td><td>security</td><td>conference</td><td>in</td><td><b>Munich</b></td><td>,</td><td>Mr.</td><td>Annan</td><td>said</td></tr><tr><td>O</td><td>O</td><td>O</td><td>O</td><td>O</td><td><b>B-org</b></td><td>I-org</td><td>B-per</td><td>I-per</td><td>O</td></tr><tr><td>O</td><td>O</td><td>O</td><td>O</td><td>O</td><td><b>I-per</b></td><td>O</td><td>B-per</td><td>I-per</td><td>O</td></tr></table>\n",
       "        <table>\n",
       "          <tr><td>bias</td><td>first_upper:True</td><td>word:munich</td></tr>\n",
       "          <tr><td>1.0</td><td>1.0</td><td>1.0</td></tr>\n",
       "          <tr><td>0.84</td><td>0.88</td><td>0.00</td></tr>\n",
       "          <tr><td>1.27</td><td>0.97</td><td>0.00</td></tr>\n",
       "        </table> 51 / 85</div>\n",
       "<div class=\"item\"><table style=\"\"><tr><td>a</td><td>large</td><td>audience</td><td>at</td><td>the</td><td><b>Summer</b></td><td>Olympics</td><td>in</td><td>Beijing</td><td>.</td></tr><tr><td>O</td><td>O</td><td>O</td><td>O</td><td>O</td><td><b>B-eve</b></td><td>I-eve</td><td>O</td><td>B-geo</td><td>O</td></tr><tr><td>O</td><td>O</td><td>O</td><td>O</td><td>O</td><td><b>I-eve</b></td><td>O</td><td>O</td><td>B-geo</td><td>O</td></tr></table>\n",
       "        <table>\n",
       "          <tr><td>bias</td><td>first_upper:True</td><td>word:summer</td></tr>\n",
       "          <tr><td>1.0</td><td>1.0</td><td>1.0</td></tr>\n",
       "          <tr><td>-0.46</td><td>-0.41</td><td>-0.03</td></tr>\n",
       "          <tr><td>-1.33</td><td>0.35</td><td>3.15</td></tr>\n",
       "        </table> 52 / 85</div>\n",
       "<div class=\"item\"><table style=\"\"><tr><td>VOA</td><td>'s</td><td><b>Melinda</b></td><td>Smith</td><td>has</td><td>details</td><td>of</td></tr><tr><td>B-org</td><td>O</td><td><b>B-per</b></td><td>I-per</td><td>O</td><td>O</td><td>O</td></tr><tr><td>B-org</td><td>O</td><td><b>I-per</b></td><td>I-per</td><td>O</td><td>O</td><td>O</td></tr></table>\n",
       "        <table>\n",
       "          <tr><td>bias</td><td>first_upper:True</td><td>word:melinda</td></tr>\n",
       "          <tr><td>1.0</td><td>1.0</td><td>1.0</td></tr>\n",
       "          <tr><td>0.60</td><td>1.13</td><td>0.00</td></tr>\n",
       "          <tr><td>1.27</td><td>0.97</td><td>0.00</td></tr>\n",
       "        </table> 53 / 85</div>\n",
       "<div class=\"item\"><table style=\"\"><tr><td>16</td><td>prisoners</td><td>were</td><td>killed</td><td>at</td><td><b>Uribana</b></td><td>prison</td><td>when</td><td>rival</td><td>gangs</td></tr><tr><td>O</td><td>O</td><td>O</td><td>O</td><td>O</td><td><b>B-geo</b></td><td>O</td><td>O</td><td>O</td><td>O</td></tr><tr><td>O</td><td>O</td><td>O</td><td>O</td><td>O</td><td><b>I-per</b></td><td>O</td><td>O</td><td>O</td><td>O</td></tr></table>\n",
       "        <table>\n",
       "          <tr><td>bias</td><td>first_upper:True</td><td>word:uribana</td></tr>\n",
       "          <tr><td>1.0</td><td>1.0</td><td>1.0</td></tr>\n",
       "          <tr><td>1.34</td><td>0.51</td><td>0.00</td></tr>\n",
       "          <tr><td>1.27</td><td>0.97</td><td>0.00</td></tr>\n",
       "        </table> 54 / 85</div>\n",
       "<div class=\"item\"><table style=\"\"><tr><td>Service</td><td>,</td><td>spoke</td><td>Monday</td><td>in</td><td><b>Ottawa</b></td><td>to</td><td>a</td><td>legislative</td><td>committee</td></tr><tr><td>I-org</td><td>O</td><td>O</td><td>B-tim</td><td>O</td><td><b>B-geo</b></td><td>O</td><td>O</td><td>O</td><td>O</td></tr><tr><td>O</td><td>O</td><td>O</td><td>B-tim</td><td>O</td><td><b>I-per</b></td><td>O</td><td>O</td><td>O</td><td>O</td></tr></table>\n",
       "        <table>\n",
       "          <tr><td>bias</td><td>first_upper:True</td><td>word:ottawa</td></tr>\n",
       "          <tr><td>1.0</td><td>1.0</td><td>1.0</td></tr>\n",
       "          <tr><td>1.34</td><td>0.51</td><td>0.00</td></tr>\n",
       "          <tr><td>1.27</td><td>0.97</td><td>0.00</td></tr>\n",
       "        </table> 55 / 85</div>\n",
       "<div class=\"item\"><table style=\"\"><tr><td><b>Hooper</b></td><td>told</td><td>the</td><td>lawmakers</td><td>Canada</td></tr><tr><td><b>B-per</b></td><td>O</td><td>O</td><td>O</td><td>B-geo</td></tr><tr><td><b>I-per</b></td><td>O</td><td>O</td><td>O</td><td>B-org</td></tr></table>\n",
       "        <table>\n",
       "          <tr><td>bias</td><td>first_upper:True</td><td>word:hooper</td></tr>\n",
       "          <tr><td>1.0</td><td>1.0</td><td>1.0</td></tr>\n",
       "          <tr><td>0.60</td><td>1.13</td><td>0.00</td></tr>\n",
       "          <tr><td>1.27</td><td>0.97</td><td>0.00</td></tr>\n",
       "        </table> 56 / 85</div>\n",
       "<div class=\"item\"><table style=\"\"><tr><td><b>Hooper</b></td><td>said</td><td>that</td><td>many</td><td>of</td></tr><tr><td><b>B-per</b></td><td>O</td><td>O</td><td>O</td><td>O</td></tr><tr><td><b>I-per</b></td><td>O</td><td>O</td><td>O</td><td>O</td></tr></table>\n",
       "        <table>\n",
       "          <tr><td>bias</td><td>first_upper:True</td><td>word:hooper</td></tr>\n",
       "          <tr><td>1.0</td><td>1.0</td><td>1.0</td></tr>\n",
       "          <tr><td>0.60</td><td>1.13</td><td>0.00</td></tr>\n",
       "          <tr><td>1.27</td><td>0.97</td><td>0.00</td></tr>\n",
       "        </table> 57 / 85</div>\n",
       "<div class=\"item\"><table style=\"\"><tr><td>Saturday</td><td>before</td><td>Mr.</td><td>Chavez</td><td>'s</td><td><b>afternoon</b></td><td>departure</td><td>.</td></tr><tr><td>B-tim</td><td>O</td><td>B-per</td><td>I-per</td><td>O</td><td><b>B-tim</b></td><td>O</td><td>O</td></tr><tr><td>B-tim</td><td>O</td><td>B-per</td><td>I-per</td><td>O</td><td><b>I-tim</b></td><td>O</td><td>O</td></tr></table>\n",
       "        <table>\n",
       "          <tr><td>bias</td><td>first_upper:False</td><td>word:afternoon</td></tr>\n",
       "          <tr><td>1.0</td><td>1.0</td><td>1.0</td></tr>\n",
       "          <tr><td>0.65</td><td>2.77</td><td>-0.14</td></tr>\n",
       "          <tr><td>0.38</td><td>2.72</td><td>4.59</td></tr>\n",
       "        </table> 58 / 85</div>\n",
       "<div class=\"item\"><table style=\"\"><tr><td>send</td><td>election</td><td>observers</td><td>to</td><td>monitor</td><td><b>Suriname</b></td><td>'s</td><td>parliamentary</td><td>elections</td><td>to</td></tr><tr><td>O</td><td>O</td><td>O</td><td>O</td><td>O</td><td><b>B-geo</b></td><td>O</td><td>O</td><td>O</td><td>O</td></tr><tr><td>O</td><td>O</td><td>O</td><td>O</td><td>O</td><td><b>I-per</b></td><td>O</td><td>O</td><td>O</td><td>O</td></tr></table>\n",
       "        <table>\n",
       "          <tr><td>bias</td><td>first_upper:True</td><td>word:suriname</td></tr>\n",
       "          <tr><td>1.0</td><td>1.0</td><td>1.0</td></tr>\n",
       "          <tr><td>1.34</td><td>0.51</td><td>0.00</td></tr>\n",
       "          <tr><td>1.27</td><td>0.97</td><td>0.00</td></tr>\n",
       "        </table> 59 / 85</div>\n",
       "<div class=\"item\"><table style=\"\"><tr><td>The</td><td>OAS</td><td>and</td><td><b>Suriname</b></td><td>officials</td><td>agreed</td><td>to</td><td>the</td></tr><tr><td>B-org</td><td>I-org</td><td>O</td><td><b>B-geo</b></td><td>O</td><td>O</td><td>O</td><td>O</td></tr><tr><td>O</td><td>I-per</td><td>O</td><td><b>I-per</b></td><td>O</td><td>O</td><td>O</td><td>O</td></tr></table>\n",
       "        <table>\n",
       "          <tr><td>bias</td><td>first_upper:True</td><td>word:suriname</td></tr>\n",
       "          <tr><td>1.0</td><td>1.0</td><td>1.0</td></tr>\n",
       "          <tr><td>1.34</td><td>0.51</td><td>0.00</td></tr>\n",
       "          <tr><td>1.27</td><td>0.97</td><td>0.00</td></tr>\n",
       "        </table> 60 / 85</div>\n",
       "<div class=\"item\"><table style=\"\"><tr><td>The</td><td>ruling</td><td>coalition</td><td>in</td><td><b>Suriname</b></td><td>faces</td><td>opposition</td><td>from</td><td>the</td></tr><tr><td>O</td><td>O</td><td>O</td><td>O</td><td><b>B-geo</b></td><td>O</td><td>O</td><td>O</td><td>O</td></tr><tr><td>O</td><td>O</td><td>O</td><td>O</td><td><b>I-per</b></td><td>O</td><td>O</td><td>O</td><td>O</td></tr></table>\n",
       "        <table>\n",
       "          <tr><td>bias</td><td>first_upper:True</td><td>word:suriname</td></tr>\n",
       "          <tr><td>1.0</td><td>1.0</td><td>1.0</td></tr>\n",
       "          <tr><td>1.34</td><td>0.51</td><td>0.00</td></tr>\n",
       "          <tr><td>1.27</td><td>0.97</td><td>0.00</td></tr>\n",
       "        </table> 61 / 85</div>\n",
       "<div class=\"item\"><table style=\"\"><tr><td>its</td><td>leader</td><td>,</td><td>former</td><td>dictator</td><td><b>Desi</b></td><td>Bouterse</td><td>,</td><td>would</td><td>become</td></tr><tr><td>O</td><td>O</td><td>O</td><td>O</td><td>O</td><td><b>B-per</b></td><td>I-per</td><td>O</td><td>O</td><td>O</td></tr><tr><td>O</td><td>O</td><td>O</td><td>O</td><td>O</td><td><b>I-per</b></td><td>I-per</td><td>O</td><td>O</td><td>O</td></tr></table>\n",
       "        <table>\n",
       "          <tr><td>bias</td><td>first_upper:True</td><td>word:desi</td></tr>\n",
       "          <tr><td>1.0</td><td>1.0</td><td>1.0</td></tr>\n",
       "          <tr><td>0.60</td><td>1.13</td><td>0.00</td></tr>\n",
       "          <tr><td>1.27</td><td>0.97</td><td>0.00</td></tr>\n",
       "        </table> 62 / 85</div>\n",
       "<div class=\"item\"><table style=\"\"><tr><td>has</td><td>warned</td><td>that</td><td>relations</td><td>with</td><td><b>Suriname</b></td><td>would</td><td>suffer</td><td>if</td><td>Bouterse</td></tr><tr><td>O</td><td>O</td><td>O</td><td>O</td><td>O</td><td><b>B-geo</b></td><td>O</td><td>O</td><td>O</td><td>B-per</td></tr><tr><td>O</td><td>O</td><td>O</td><td>O</td><td>O</td><td><b>I-per</b></td><td>O</td><td>O</td><td>O</td><td>I-per</td></tr></table>\n",
       "        <table>\n",
       "          <tr><td>bias</td><td>first_upper:True</td><td>word:suriname</td></tr>\n",
       "          <tr><td>1.0</td><td>1.0</td><td>1.0</td></tr>\n",
       "          <tr><td>1.34</td><td>0.51</td><td>0.00</td></tr>\n",
       "          <tr><td>1.27</td><td>0.97</td><td>0.00</td></tr>\n",
       "        </table> 63 / 85</div>\n",
       "<div class=\"item\"><table style=\"\"><tr><td>with</td><td>Suriname</td><td>would</td><td>suffer</td><td>if</td><td><b>Bouterse</b></td><td>takes</td><td>power</td><td>.</td></tr><tr><td>O</td><td>B-geo</td><td>O</td><td>O</td><td>O</td><td><b>B-per</b></td><td>O</td><td>O</td><td>O</td></tr><tr><td>O</td><td>I-per</td><td>O</td><td>O</td><td>O</td><td><b>I-per</b></td><td>O</td><td>O</td><td>O</td></tr></table>\n",
       "        <table>\n",
       "          <tr><td>bias</td><td>first_upper:True</td><td>word:bouterse</td></tr>\n",
       "          <tr><td>1.0</td><td>1.0</td><td>1.0</td></tr>\n",
       "          <tr><td>0.60</td><td>1.13</td><td>0.00</td></tr>\n",
       "          <tr><td>1.27</td><td>0.97</td><td>0.00</td></tr>\n",
       "        </table> 64 / 85</div>\n",
       "<div class=\"item\"><table style=\"\"><tr><td>He</td><td>was</td><td>convicted</td><td>in</td><td>the</td><td><b>Netherlands</b></td><td>six</td><td>years</td><td>ago</td><td>for</td></tr><tr><td>O</td><td>O</td><td>O</td><td>O</td><td>O</td><td><b>B-geo</b></td><td>B-tim</td><td>O</td><td>O</td><td>O</td></tr><tr><td>O</td><td>O</td><td>O</td><td>O</td><td>O</td><td><b>I-geo</b></td><td>O</td><td>O</td><td>O</td><td>O</td></tr></table>\n",
       "        <table>\n",
       "          <tr><td>bias</td><td>first_upper:True</td><td>word:netherlands</td></tr>\n",
       "          <tr><td>1.0</td><td>1.0</td><td>1.0</td></tr>\n",
       "          <tr><td>1.34</td><td>0.51</td><td>2.26</td></tr>\n",
       "          <tr><td>0.33</td><td>0.24</td><td>3.73</td></tr>\n",
       "        </table> 65 / 85</div>\n",
       "<div class=\"item\"><table style=\"\"><tr><td>was</td><td>never</td><td>sent</td><td>to</td><td>the</td><td><b>Netherlands</b></td><td>as</td><td>the</td><td>two</td><td>countries</td></tr><tr><td>O</td><td>O</td><td>O</td><td>O</td><td>O</td><td><b>B-geo</b></td><td>O</td><td>O</td><td>O</td><td>O</td></tr><tr><td>O</td><td>O</td><td>O</td><td>O</td><td>O</td><td><b>I-geo</b></td><td>O</td><td>O</td><td>O</td><td>O</td></tr></table>\n",
       "        <table>\n",
       "          <tr><td>bias</td><td>first_upper:True</td><td>word:netherlands</td></tr>\n",
       "          <tr><td>1.0</td><td>1.0</td><td>1.0</td></tr>\n",
       "          <tr><td>1.34</td><td>0.51</td><td>2.26</td></tr>\n",
       "          <tr><td>0.33</td><td>0.24</td><td>3.73</td></tr>\n",
       "        </table> 66 / 85</div>\n",
       "<div class=\"item\"><table style=\"\"><tr><td><b>Bouterse</b></td><td>,</td><td>who</td><td>is</td><td>an</td></tr><tr><td><b>B-per</b></td><td>O</td><td>O</td><td>O</td><td>O</td></tr><tr><td><b>I-per</b></td><td>O</td><td>O</td><td>O</td><td>O</td></tr></table>\n",
       "        <table>\n",
       "          <tr><td>bias</td><td>first_upper:True</td><td>word:bouterse</td></tr>\n",
       "          <tr><td>1.0</td><td>1.0</td><td>1.0</td></tr>\n",
       "          <tr><td>0.60</td><td>1.13</td><td>0.00</td></tr>\n",
       "          <tr><td>1.27</td><td>0.97</td><td>0.00</td></tr>\n",
       "        </table> 67 / 85</div>\n",
       "<div class=\"item\"><table style=\"\"><tr><td>a</td><td>successful</td><td>military</td><td>coup</td><td>in</td><td><b>Suriname</b></td><td>in</td><td>1980</td><td>,</td><td>and</td></tr><tr><td>O</td><td>O</td><td>O</td><td>O</td><td>O</td><td><b>B-geo</b></td><td>O</td><td>B-tim</td><td>O</td><td>O</td></tr><tr><td>O</td><td>O</td><td>O</td><td>O</td><td>O</td><td><b>I-per</b></td><td>O</td><td>B-tim</td><td>O</td><td>O</td></tr></table>\n",
       "        <table>\n",
       "          <tr><td>bias</td><td>first_upper:True</td><td>word:suriname</td></tr>\n",
       "          <tr><td>1.0</td><td>1.0</td><td>1.0</td></tr>\n",
       "          <tr><td>1.34</td><td>0.51</td><td>0.00</td></tr>\n",
       "          <tr><td>1.27</td><td>0.97</td><td>0.00</td></tr>\n",
       "        </table> 68 / 85</div>\n",
       "<div class=\"item\"><table style=\"\"><tr><td>,</td><td>84-year-old</td><td>pope</td><td>suffers</td><td>from</td><td><b>Parkinson</b></td><td>'s</td><td>disease</td><td>and</td><td>arthritis</td></tr><tr><td>O</td><td>O</td><td>O</td><td>O</td><td>O</td><td><b>B-geo</b></td><td>O</td><td>O</td><td>O</td><td>O</td></tr><tr><td>O</td><td>O</td><td>O</td><td>O</td><td>O</td><td><b>I-per</b></td><td>O</td><td>O</td><td>O</td><td>O</td></tr></table>\n",
       "        <table>\n",
       "          <tr><td>bias</td><td>first_upper:True</td><td>word:parkinson</td></tr>\n",
       "          <tr><td>1.0</td><td>1.0</td><td>1.0</td></tr>\n",
       "          <tr><td>1.34</td><td>0.51</td><td>0.00</td></tr>\n",
       "          <tr><td>1.27</td><td>0.97</td><td>0.00</td></tr>\n",
       "        </table> 69 / 85</div>\n",
       "<div class=\"item\"><table style=\"\"><tr><td>over</td><td>three</td><td>other</td><td>towns</td><td>-</td><td><b>Qalqiliya</b></td><td>,</td><td>Bethlehem</td><td>and</td><td>Ramallah</td></tr><tr><td>O</td><td>O</td><td>O</td><td>O</td><td>O</td><td><b>B-geo</b></td><td>O</td><td>B-geo</td><td>O</td><td>B-geo</td></tr><tr><td>O</td><td>O</td><td>O</td><td>O</td><td>O</td><td><b>I-per</b></td><td>O</td><td>I-per</td><td>O</td><td>B-geo</td></tr></table>\n",
       "        <table>\n",
       "          <tr><td>bias</td><td>first_upper:True</td><td>word:qalqiliya</td></tr>\n",
       "          <tr><td>1.0</td><td>1.0</td><td>1.0</td></tr>\n",
       "          <tr><td>1.34</td><td>0.51</td><td>0.00</td></tr>\n",
       "          <tr><td>1.27</td><td>0.97</td><td>0.00</td></tr>\n",
       "        </table> 70 / 85</div>\n",
       "<div class=\"item\"><table style=\"\"><tr><td>other</td><td>towns</td><td>-</td><td>Qalqiliya</td><td>,</td><td><b>Bethlehem</b></td><td>and</td><td>Ramallah</td><td>.</td></tr><tr><td>O</td><td>O</td><td>O</td><td>B-geo</td><td>O</td><td><b>B-geo</b></td><td>O</td><td>B-geo</td><td>O</td></tr><tr><td>O</td><td>O</td><td>O</td><td>I-per</td><td>O</td><td><b>I-per</b></td><td>O</td><td>B-geo</td><td>O</td></tr></table>\n",
       "        <table>\n",
       "          <tr><td>bias</td><td>first_upper:True</td><td>word:bethlehem</td></tr>\n",
       "          <tr><td>1.0</td><td>1.0</td><td>1.0</td></tr>\n",
       "          <tr><td>1.34</td><td>0.51</td><td>0.00</td></tr>\n",
       "          <tr><td>1.27</td><td>0.97</td><td>0.00</td></tr>\n",
       "        </table> 71 / 85</div>\n",
       "<div class=\"item\"><table style=\"\"><tr><td>build</td><td>3,500</td><td>new</td><td>homes</td><td>in</td><td><b>Maale</b></td><td>Adumin</td><td>,</td><td>the</td><td>largest</td></tr><tr><td>O</td><td>O</td><td>O</td><td>O</td><td>O</td><td><b>B-geo</b></td><td>I-geo</td><td>O</td><td>O</td><td>O</td></tr><tr><td>O</td><td>O</td><td>O</td><td>O</td><td>O</td><td><b>I-per</b></td><td>I-per</td><td>O</td><td>O</td><td>O</td></tr></table>\n",
       "        <table>\n",
       "          <tr><td>bias</td><td>first_upper:True</td><td>word:maale</td></tr>\n",
       "          <tr><td>1.0</td><td>1.0</td><td>1.0</td></tr>\n",
       "          <tr><td>1.34</td><td>0.51</td><td>0.00</td></tr>\n",
       "          <tr><td>1.27</td><td>0.97</td><td>0.00</td></tr>\n",
       "        </table> 72 / 85</div>\n",
       "<div class=\"item\"><table style=\"\"><tr><td>they</td><td>entered</td><td>the</td><td>bar</td><td>in</td><td><b>Michoacan</b></td><td>state</td><td>before</td><td>dawn</td><td>Wednesday</td></tr><tr><td>O</td><td>O</td><td>O</td><td>O</td><td>O</td><td><b>B-geo</b></td><td>O</td><td>O</td><td>O</td><td>B-tim</td></tr><tr><td>O</td><td>O</td><td>O</td><td>O</td><td>O</td><td><b>I-per</b></td><td>O</td><td>O</td><td>O</td><td>B-tim</td></tr></table>\n",
       "        <table>\n",
       "          <tr><td>bias</td><td>first_upper:True</td><td>word:michoacan</td></tr>\n",
       "          <tr><td>1.0</td><td>1.0</td><td>1.0</td></tr>\n",
       "          <tr><td>1.34</td><td>0.51</td><td>0.00</td></tr>\n",
       "          <tr><td>1.27</td><td>0.97</td><td>0.00</td></tr>\n",
       "        </table> 73 / 85</div>\n",
       "<div class=\"item\"><table style=\"\"><tr><td>Mexico</td><td>'s</td><td>President-elect</td><td><b>Felipe</b></td><td>Calderon</td><td>has</td><td>vowed</td><td>to</td></tr><tr><td>B-geo</td><td>O</td><td>O</td><td><b>B-per</b></td><td>I-per</td><td>O</td><td>O</td><td>O</td></tr><tr><td>B-geo</td><td>O</td><td>I-per</td><td><b>I-per</b></td><td>I-per</td><td>O</td><td>O</td><td>O</td></tr></table>\n",
       "        <table>\n",
       "          <tr><td>bias</td><td>first_upper:True</td><td>word:felipe</td></tr>\n",
       "          <tr><td>1.0</td><td>1.0</td><td>1.0</td></tr>\n",
       "          <tr><td>0.60</td><td>1.13</td><td>1.74</td></tr>\n",
       "          <tr><td>1.27</td><td>0.97</td><td>2.23</td></tr>\n",
       "        </table> 74 / 85</div>\n",
       "<div class=\"item\"><table style=\"\"><tr><td>Prime</td><td>Minister</td><td><b>Benjamin</b></td><td>Netanyahu</td><td>told</td><td>his</td><td>Cabinet</td></tr><tr><td>B-per</td><td>O</td><td><b>B-per</b></td><td>I-per</td><td>O</td><td>O</td><td>O</td></tr><tr><td>B-per</td><td>I-per</td><td><b>I-per</b></td><td>I-per</td><td>O</td><td>O</td><td>O</td></tr></table>\n",
       "        <table>\n",
       "          <tr><td>bias</td><td>first_upper:True</td><td>word:benjamin</td></tr>\n",
       "          <tr><td>1.0</td><td>1.0</td><td>1.0</td></tr>\n",
       "          <tr><td>0.60</td><td>1.13</td><td>-0.28</td></tr>\n",
       "          <tr><td>1.27</td><td>0.97</td><td>2.04</td></tr>\n",
       "        </table> 75 / 85</div>\n",
       "<div class=\"item\"><table style=\"\"><tr><td>The</td><td>regional</td><td>bloc</td><td>-</td><td><b>IGAD</b></td><td>-</td><td>has</td><td>decided</td><td>to</td></tr><tr><td>O</td><td>O</td><td>O</td><td>O</td><td><b>B-org</b></td><td>O</td><td>O</td><td>O</td><td>O</td></tr><tr><td>O</td><td>O</td><td>O</td><td>O</td><td><b>I-per</b></td><td>O</td><td>O</td><td>O</td><td>O</td></tr></table>\n",
       "        <table>\n",
       "          <tr><td>bias</td><td>first_upper:True</td><td>word:igad</td></tr>\n",
       "          <tr><td>1.0</td><td>1.0</td><td>1.0</td></tr>\n",
       "          <tr><td>0.84</td><td>0.88</td><td>0.00</td></tr>\n",
       "          <tr><td>1.27</td><td>0.97</td><td>0.00</td></tr>\n",
       "        </table> 76 / 85</div>\n",
       "<div class=\"item\"><table style=\"\"><tr><td>to</td><td>the</td><td>holy</td><td>city</td><td>of</td><td><b>Mecca</b></td><td>,</td><td>where</td><td>some</td><td>of</td></tr><tr><td>O</td><td>O</td><td>O</td><td>O</td><td>O</td><td><b>B-geo</b></td><td>O</td><td>O</td><td>O</td><td>O</td></tr><tr><td>O</td><td>O</td><td>O</td><td>O</td><td>O</td><td><b>I-per</b></td><td>O</td><td>O</td><td>O</td><td>O</td></tr></table>\n",
       "        <table>\n",
       "          <tr><td>bias</td><td>first_upper:True</td><td>word:mecca</td></tr>\n",
       "          <tr><td>1.0</td><td>1.0</td><td>1.0</td></tr>\n",
       "          <tr><td>1.34</td><td>0.51</td><td>0.00</td></tr>\n",
       "          <tr><td>1.27</td><td>0.97</td><td>0.00</td></tr>\n",
       "        </table> 77 / 85</div>\n",
       "<div class=\"item\"><table style=\"\"><tr><td>the</td><td>minor</td><td>pilgrimage</td><td>known</td><td>as</td><td><b>Omra</b></td><td>.</td></tr><tr><td>O</td><td>O</td><td>O</td><td>O</td><td>O</td><td><b>B-geo</b></td><td>O</td></tr><tr><td>O</td><td>O</td><td>O</td><td>O</td><td>O</td><td><b>I-per</b></td><td>O</td></tr></table>\n",
       "        <table>\n",
       "          <tr><td>bias</td><td>first_upper:True</td><td>word:omra</td></tr>\n",
       "          <tr><td>1.0</td><td>1.0</td><td>1.0</td></tr>\n",
       "          <tr><td>1.34</td><td>0.51</td><td>0.00</td></tr>\n",
       "          <tr><td>1.27</td><td>0.97</td><td>0.00</td></tr>\n",
       "        </table> 78 / 85</div>\n",
       "<div class=\"item\"><table style=\"\"><tr><td>Only</td><td>Muslims</td><td>are</td><td>allowed</td><td>in</td><td><b>Mecca</b></td><td>.</td></tr><tr><td>O</td><td>O</td><td>O</td><td>O</td><td>O</td><td><b>B-geo</b></td><td>O</td></tr><tr><td>O</td><td>O</td><td>O</td><td>O</td><td>O</td><td><b>I-per</b></td><td>O</td></tr></table>\n",
       "        <table>\n",
       "          <tr><td>bias</td><td>first_upper:True</td><td>word:mecca</td></tr>\n",
       "          <tr><td>1.0</td><td>1.0</td><td>1.0</td></tr>\n",
       "          <tr><td>1.34</td><td>0.51</td><td>0.00</td></tr>\n",
       "          <tr><td>1.27</td><td>0.97</td><td>0.00</td></tr>\n",
       "        </table> 79 / 85</div>\n",
       "<div class=\"item\"><table style=\"\"><tr><td>the</td><td>terrorist</td><td>group</td><td>has</td><td>targeted</td><td><b>Westerners</b></td><td>in</td><td>the</td><td>past</td><td>.</td></tr><tr><td>O</td><td>O</td><td>O</td><td>O</td><td>O</td><td><b>B-org</b></td><td>O</td><td>O</td><td>O</td><td>O</td></tr><tr><td>O</td><td>O</td><td>O</td><td>O</td><td>O</td><td><b>I-per</b></td><td>O</td><td>O</td><td>O</td><td>O</td></tr></table>\n",
       "        <table>\n",
       "          <tr><td>bias</td><td>first_upper:True</td><td>word:westerners</td></tr>\n",
       "          <tr><td>1.0</td><td>1.0</td><td>1.0</td></tr>\n",
       "          <tr><td>0.84</td><td>0.88</td><td>0.00</td></tr>\n",
       "          <tr><td>1.27</td><td>0.97</td><td>0.00</td></tr>\n",
       "        </table> 80 / 85</div>\n",
       "<div class=\"item\"><table style=\"\"><tr><td>authorities</td><td>say</td><td>former</td><td>Prime</td><td>Minister</td><td><b>Yvon</b></td><td>Neptune</td><td>and</td><td>former</td><td>Interior</td></tr><tr><td>O</td><td>O</td><td>O</td><td>B-per</td><td>O</td><td><b>B-per</b></td><td>I-per</td><td>O</td><td>O</td><td>O</td></tr><tr><td>O</td><td>O</td><td>O</td><td>B-per</td><td>I-per</td><td><b>I-per</b></td><td>I-per</td><td>O</td><td>O</td><td>B-per</td></tr></table>\n",
       "        <table>\n",
       "          <tr><td>bias</td><td>first_upper:True</td><td>word:yvon</td></tr>\n",
       "          <tr><td>1.0</td><td>1.0</td><td>1.0</td></tr>\n",
       "          <tr><td>0.60</td><td>1.13</td><td>0.00</td></tr>\n",
       "          <tr><td>1.27</td><td>0.97</td><td>0.00</td></tr>\n",
       "        </table> 81 / 85</div>\n",
       "<div class=\"item\"><table style=\"\"><tr><td>Neptune</td><td>and</td><td>former</td><td>Interior</td><td>Minister</td><td><b>Jocelerme</b></td><td>Privert</td><td>are</td><td>back</td><td>in</td></tr><tr><td>I-per</td><td>O</td><td>O</td><td>O</td><td>O</td><td><b>B-per</b></td><td>I-per</td><td>O</td><td>O</td><td>O</td></tr><tr><td>I-per</td><td>O</td><td>O</td><td>B-per</td><td>I-per</td><td><b>I-per</b></td><td>I-per</td><td>O</td><td>O</td><td>O</td></tr></table>\n",
       "        <table>\n",
       "          <tr><td>bias</td><td>first_upper:True</td><td>word:jocelerme</td></tr>\n",
       "          <tr><td>1.0</td><td>1.0</td><td>1.0</td></tr>\n",
       "          <tr><td>0.60</td><td>1.13</td><td>0.00</td></tr>\n",
       "          <tr><td>1.27</td><td>0.97</td><td>0.00</td></tr>\n",
       "        </table> 82 / 85</div>\n",
       "<div class=\"item\"><table style=\"\"><tr><td>are</td><td>accused</td><td>of</td><td>violence</td><td>against</td><td><b>Aristide</b></td><td>opponents</td><td>.</td></tr><tr><td>O</td><td>O</td><td>O</td><td>O</td><td>O</td><td><b>B-per</b></td><td>O</td><td>O</td></tr><tr><td>O</td><td>O</td><td>O</td><td>O</td><td>O</td><td><b>I-per</b></td><td>O</td><td>O</td></tr></table>\n",
       "        <table>\n",
       "          <tr><td>bias</td><td>first_upper:True</td><td>word:aristide</td></tr>\n",
       "          <tr><td>1.0</td><td>1.0</td><td>1.0</td></tr>\n",
       "          <tr><td>0.60</td><td>1.13</td><td>0.00</td></tr>\n",
       "          <tr><td>1.27</td><td>0.97</td><td>0.00</td></tr>\n",
       "        </table> 83 / 85</div>\n",
       "<div class=\"item\"><table style=\"\"><tr><td>The</td><td><b>Security</b></td><td>Council</td><td>has</td><td>threatened</td><td>sanctions</td></tr><tr><td>O</td><td><b>B-org</b></td><td>I-org</td><td>O</td><td>O</td><td>O</td></tr><tr><td>O</td><td><b>I-org</b></td><td>I-org</td><td>O</td><td>O</td><td>O</td></tr></table>\n",
       "        <table>\n",
       "          <tr><td>bias</td><td>first_upper:True</td><td>word:security</td></tr>\n",
       "          <tr><td>1.0</td><td>1.0</td><td>1.0</td></tr>\n",
       "          <tr><td>0.84</td><td>0.88</td><td>1.27</td></tr>\n",
       "          <tr><td>0.97</td><td>0.50</td><td>3.60</td></tr>\n",
       "        </table> 84 / 85</div>\n",
       "<div class=\"item\"><table style=\"\"><tr><td>of</td><td>dozens</td><td>of</td><td>villagers</td><td>in</td><td><b>Dujail</b></td><td>.</td></tr><tr><td>O</td><td>O</td><td>O</td><td>O</td><td>O</td><td><b>B-geo</b></td><td>O</td></tr><tr><td>O</td><td>O</td><td>O</td><td>O</td><td>O</td><td><b>I-per</b></td><td>O</td></tr></table>\n",
       "        <table>\n",
       "          <tr><td>bias</td><td>first_upper:True</td><td>word:dujail</td></tr>\n",
       "          <tr><td>1.0</td><td>1.0</td><td>1.0</td></tr>\n",
       "          <tr><td>1.34</td><td>0.51</td><td>0.00</td></tr>\n",
       "          <tr><td>1.27</td><td>0.97</td><td>0.00</td></tr>\n",
       "        </table> 85 / 85</div>\n",
       "          </div>\n",
       "        </div>\n"
      ],
      "text/plain": [
       "<statnlpbook.util.Carousel at 0x7f7bef7b2b00>"
      ]
     },
     "execution_count": 31,
     "metadata": {},
     "output_type": "execute_result"
    }
   ],
   "source": [
    "util.Carousel(local_2.errors(dev_ner,\n",
    "                             filter_guess=lambda y: y.startswith(\"I-\"),\n",
    "                             filter_gold=lambda y: y.startswith(\"B-\")))"
   ]
  },
  {
   "cell_type": "markdown",
   "metadata": {
    "slideshow": {
     "slide_type": "subslide"
    }
   },
   "source": [
    "In the IOB tagging scheme:\n",
    "\n",
    "+ `I-[label]` can logically **only** appear after `B-[label]`!\n",
    "\n",
    "The following can **never** be valid tag sequences:\n",
    "\n",
    "* `O  I-per`\n",
    "\n",
    "* `B-per  I-geo`\n"
   ]
  },
  {
   "cell_type": "markdown",
   "metadata": {
    "slideshow": {
     "slide_type": "subslide"
    }
   },
   "source": [
    "What if we went from this...\n",
    "\n",
    "$$\n",
    "p_\\params(\\y|\\x) = \\prod_{i=1}^n p_\\params(y_i|\\x,i,y_{1,\\ldots,i-1}) \\approx \\prod_{i=1}^n p_\\params(y_i|\\x,i)\n",
    "$$\n",
    "\n",
    "...to this?\n",
    "\n",
    "$$\n",
    "p_\\params(\\y|\\x) = \\prod_{i=1}^n p_\\params(y_i|\\x,i,y_{1,\\ldots,i-1}) \\approx \\prod_{i=1}^n p_\\params(y_i|\\x,y_{i-1},i)\n",
    "$$\n"
   ]
  },
  {
   "cell_type": "markdown",
   "metadata": {
    "pycharm": {
     "name": "#%% md\n"
    },
    "scrolled": true,
    "slideshow": {
     "slide_type": "fragment"
    }
   },
   "source": [
    "Does this remind you of anything you've seen in previous lectures?"
   ]
  },
  {
   "cell_type": "markdown",
   "metadata": {
    "slideshow": {
     "slide_type": "subslide"
    }
   },
   "source": [
    "### First-order Markov assumption\n",
    "\n",
    "* Probability of a label depends only on the previous label\n"
   ]
  },
  {
   "cell_type": "markdown",
   "metadata": {
    "slideshow": {
     "slide_type": "fragment"
    }
   },
   "source": [
    "### Example\n",
    "\n",
    "$$\n",
    "\\prob_\\params(\\text{\"O I-per I-per\"} \\bar \\text{\"president Bill Clinton\"}) = \\\\\n",
    "\\prob_\\params(\\text{\"O\"}\\bar \\text{\"president Bill Clinton\"},\\text{\"<PAD>\"},1) ~ \\cdot \\\\\n",
    "\\prob_\\params(\\text{\"I-per\"} \\bar \\text{\"president Bill Clinton\"},\\text{\"O\"},2) ~ \\cdot \\\\\n",
    "\\prob_\\params(\\text{\"I-per\"} \\bar \\text{\"president Bill Clinton\"},\\text{\"I-per\"},3) \\\\\n",
    "$$"
   ]
  },
  {
   "cell_type": "markdown",
   "metadata": {
    "pycharm": {
     "name": "#%% md\n"
    },
    "slideshow": {
     "slide_type": "subslide"
    }
   },
   "source": [
    "## Maximum Entropy Markov Models (MEMM)\n",
    "\n",
    "Log-linear version with access to previous label:\n",
    "\n",
    "$$\n",
    "  p_\\params(y_i|\\x,y_{i-1},i) = \\frac{1}{Z_{\\x,y_{i-1},i}} \\exp \\langle \\repr(\\x,y_{i-1},i),\\params_{y_i} \\rangle\n",
    "$$\n",
    "\n",
    "where $Z_{\\x,y_{i-1},i}=\\sum_y \\exp \\langle \\repr(\\x,y_{i-1},i),\\params_{y_i} \\rangle $ is a *local* per-token normalisation factor"
   ]
  },
  {
   "cell_type": "markdown",
   "metadata": {
    "pycharm": {
     "name": "#%% md\n"
    },
    "scrolled": false,
    "slideshow": {
     "slide_type": "subslide"
    }
   },
   "source": [
    "### Graphical Representation\n",
    "\n",
    "- Reminder: models can be represented as factor graphs\n",
    "- Each variable of the model (our per-token tag labels and the input sequence $\\x$) is drawn using a circle\n",
    "- As before, *observed* variables are shaded\n",
    "- Each factor in the model (terms in the product) is drawn as a box that connects the variables that appear in the corresponding term"
   ]
  },
  {
   "cell_type": "code",
   "execution_count": 32,
   "metadata": {
    "slideshow": {
     "slide_type": "fragment"
    }
   },
   "outputs": [
    {
     "data": {
      "image/svg+xml": [
       "<?xml version=\"1.0\" encoding=\"UTF-8\" standalone=\"no\"?>\n",
       "<!DOCTYPE svg PUBLIC \"-//W3C//DTD SVG 1.1//EN\"\n",
       " \"http://www.w3.org/Graphics/SVG/1.1/DTD/svg11.dtd\">\n",
       "<!-- Generated by graphviz version 2.38.0 (20140413.2041)\n",
       " -->\n",
       "<!-- Title: %3 Pages: 1 -->\n",
       "<svg width=\"656pt\" height=\"142pt\"\n",
       " viewBox=\"0.00 0.00 656.00 141.89\" xmlns=\"http://www.w3.org/2000/svg\" xmlns:xlink=\"http://www.w3.org/1999/xlink\">\n",
       "<g id=\"graph0\" class=\"graph\" transform=\"scale(1 1) rotate(0) translate(4 137.89)\">\n",
       "<title>%3</title>\n",
       "<polygon fill=\"white\" stroke=\"none\" points=\"-4,4 -4,-137.89 651.998,-137.89 651.998,4 -4,4\"/>\n",
       "<!-- x -->\n",
       "<g id=\"node1\" class=\"node\"><title>x</title>\n",
       "<ellipse fill=\"lightgrey\" stroke=\"black\" cx=\"322.5\" cy=\"-18\" rx=\"18\" ry=\"18\"/>\n",
       "<text text-anchor=\"middle\" x=\"322.5\" y=\"-14.3\" font-family=\"Times,serif\" font-size=\"14.00\">x</text>\n",
       "</g>\n",
       "<!-- y0 -->\n",
       "<g id=\"node2\" class=\"node\"><title>y0</title>\n",
       "<ellipse fill=\"lightgrey\" stroke=\"black\" cx=\"63.5\" cy=\"-91.4983\" rx=\"18\" ry=\"18\"/>\n",
       "<text text-anchor=\"middle\" x=\"63.5\" y=\"-87.7983\" font-family=\"Times,serif\" font-size=\"14.00\">P</text>\n",
       "</g>\n",
       "<!-- t1 -->\n",
       "<g id=\"node9\" class=\"node\"><title>t1</title>\n",
       "<polygon fill=\"black\" stroke=\"black\" points=\"27,-102.998 0,-102.998 0,-79.9983 27,-79.9983 27,-102.998\"/>\n",
       "<text text-anchor=\"middle\" x=\"13.5\" y=\"-87.7983\" font-family=\"Times,serif\" font-size=\"14.00\" fill=\"white\">t1</text>\n",
       "</g>\n",
       "<!-- y0&#45;&#45;t1 -->\n",
       "<g id=\"edge2\" class=\"edge\"><title>y0&#45;&#45;t1</title>\n",
       "<path fill=\"none\" stroke=\"black\" d=\"M45.3359,-91.4983C39.2812,-91.4983 33.2266,-91.4983 27.1719,-91.4983\"/>\n",
       "</g>\n",
       "<!-- y1 -->\n",
       "<g id=\"node3\" class=\"node\"><title>y1</title>\n",
       "<ellipse fill=\"none\" stroke=\"black\" cx=\"118.5\" cy=\"-91.4983\" rx=\"19.4965\" ry=\"19.4965\"/>\n",
       "<text text-anchor=\"middle\" x=\"118.5\" y=\"-87.7983\" font-family=\"Times,serif\" font-size=\"14.00\">y1</text>\n",
       "</g>\n",
       "<!-- y1&#45;&#45;t1 -->\n",
       "<g id=\"edge1\" class=\"edge\"><title>y1&#45;&#45;t1</title>\n",
       "<path fill=\"none\" stroke=\"black\" d=\"M107.478,-107.637C100.971,-115.687 91.9629,-124.622 81.5,-128.997 66.7385,-135.169 60.0289,-135.698 45.5,-128.997 33.9982,-123.691 25.1,-111.987 19.6393,-103.056\"/>\n",
       "</g>\n",
       "<!-- t2 -->\n",
       "<g id=\"node10\" class=\"node\"><title>t2</title>\n",
       "<polygon fill=\"black\" stroke=\"black\" points=\"183,-102.998 156,-102.998 156,-79.9983 183,-79.9983 183,-102.998\"/>\n",
       "<text text-anchor=\"middle\" x=\"169.5\" y=\"-87.7983\" font-family=\"Times,serif\" font-size=\"14.00\" fill=\"white\">t2</text>\n",
       "</g>\n",
       "<!-- y1&#45;&#45;t2 -->\n",
       "<g id=\"edge5\" class=\"edge\"><title>y1&#45;&#45;t2</title>\n",
       "<path fill=\"none\" stroke=\"black\" d=\"M138.023,-91.4983C143.925,-91.4983 149.827,-91.4983 155.729,-91.4983\"/>\n",
       "</g>\n",
       "<!-- y2 -->\n",
       "<g id=\"node4\" class=\"node\"><title>y2</title>\n",
       "<ellipse fill=\"none\" stroke=\"black\" cx=\"220.5\" cy=\"-91.4983\" rx=\"19.4965\" ry=\"19.4965\"/>\n",
       "<text text-anchor=\"middle\" x=\"220.5\" y=\"-87.7983\" font-family=\"Times,serif\" font-size=\"14.00\">y2</text>\n",
       "</g>\n",
       "<!-- y2&#45;&#45;t2 -->\n",
       "<g id=\"edge4\" class=\"edge\"><title>y2&#45;&#45;t2</title>\n",
       "<path fill=\"none\" stroke=\"black\" d=\"M200.896,-91.4983C194.946,-91.4983 188.996,-91.4983 183.047,-91.4983\"/>\n",
       "</g>\n",
       "<!-- t3 -->\n",
       "<g id=\"node11\" class=\"node\"><title>t3</title>\n",
       "<polygon fill=\"black\" stroke=\"black\" points=\"285,-102.998 258,-102.998 258,-79.9983 285,-79.9983 285,-102.998\"/>\n",
       "<text text-anchor=\"middle\" x=\"271.5\" y=\"-87.7983\" font-family=\"Times,serif\" font-size=\"14.00\" fill=\"white\">t3</text>\n",
       "</g>\n",
       "<!-- y2&#45;&#45;t3 -->\n",
       "<g id=\"edge8\" class=\"edge\"><title>y2&#45;&#45;t3</title>\n",
       "<path fill=\"none\" stroke=\"black\" d=\"M240.023,-91.4983C245.925,-91.4983 251.827,-91.4983 257.729,-91.4983\"/>\n",
       "</g>\n",
       "<!-- y3 -->\n",
       "<g id=\"node5\" class=\"node\"><title>y3</title>\n",
       "<ellipse fill=\"none\" stroke=\"black\" cx=\"322.5\" cy=\"-91.4983\" rx=\"19.4965\" ry=\"19.4965\"/>\n",
       "<text text-anchor=\"middle\" x=\"322.5\" y=\"-87.7983\" font-family=\"Times,serif\" font-size=\"14.00\">y3</text>\n",
       "</g>\n",
       "<!-- y3&#45;&#45;t3 -->\n",
       "<g id=\"edge7\" class=\"edge\"><title>y3&#45;&#45;t3</title>\n",
       "<path fill=\"none\" stroke=\"black\" d=\"M302.896,-91.4983C296.946,-91.4983 290.996,-91.4983 285.047,-91.4983\"/>\n",
       "</g>\n",
       "<!-- t4 -->\n",
       "<g id=\"node12\" class=\"node\"><title>t4</title>\n",
       "<polygon fill=\"black\" stroke=\"black\" points=\"387,-102.998 360,-102.998 360,-79.9983 387,-79.9983 387,-102.998\"/>\n",
       "<text text-anchor=\"middle\" x=\"373.5\" y=\"-87.7983\" font-family=\"Times,serif\" font-size=\"14.00\" fill=\"white\">t4</text>\n",
       "</g>\n",
       "<!-- y3&#45;&#45;t4 -->\n",
       "<g id=\"edge11\" class=\"edge\"><title>y3&#45;&#45;t4</title>\n",
       "<path fill=\"none\" stroke=\"black\" d=\"M342.023,-91.4983C347.925,-91.4983 353.827,-91.4983 359.729,-91.4983\"/>\n",
       "</g>\n",
       "<!-- y4 -->\n",
       "<g id=\"node6\" class=\"node\"><title>y4</title>\n",
       "<ellipse fill=\"none\" stroke=\"black\" cx=\"424.5\" cy=\"-91.4983\" rx=\"19.4965\" ry=\"19.4965\"/>\n",
       "<text text-anchor=\"middle\" x=\"424.5\" y=\"-87.7983\" font-family=\"Times,serif\" font-size=\"14.00\">y4</text>\n",
       "</g>\n",
       "<!-- y4&#45;&#45;t4 -->\n",
       "<g id=\"edge10\" class=\"edge\"><title>y4&#45;&#45;t4</title>\n",
       "<path fill=\"none\" stroke=\"black\" d=\"M404.896,-91.4983C398.946,-91.4983 392.996,-91.4983 387.047,-91.4983\"/>\n",
       "</g>\n",
       "<!-- t5 -->\n",
       "<g id=\"node13\" class=\"node\"><title>t5</title>\n",
       "<polygon fill=\"black\" stroke=\"black\" points=\"489,-102.998 462,-102.998 462,-79.9983 489,-79.9983 489,-102.998\"/>\n",
       "<text text-anchor=\"middle\" x=\"475.5\" y=\"-87.7983\" font-family=\"Times,serif\" font-size=\"14.00\" fill=\"white\">t5</text>\n",
       "</g>\n",
       "<!-- y4&#45;&#45;t5 -->\n",
       "<g id=\"edge14\" class=\"edge\"><title>y4&#45;&#45;t5</title>\n",
       "<path fill=\"none\" stroke=\"black\" d=\"M444.023,-91.4983C449.925,-91.4983 455.827,-91.4983 461.729,-91.4983\"/>\n",
       "</g>\n",
       "<!-- y5 -->\n",
       "<g id=\"node7\" class=\"node\"><title>y5</title>\n",
       "<ellipse fill=\"none\" stroke=\"black\" cx=\"526.5\" cy=\"-91.4983\" rx=\"19.4965\" ry=\"19.4965\"/>\n",
       "<text text-anchor=\"middle\" x=\"526.5\" y=\"-87.7983\" font-family=\"Times,serif\" font-size=\"14.00\">y5</text>\n",
       "</g>\n",
       "<!-- y5&#45;&#45;t5 -->\n",
       "<g id=\"edge13\" class=\"edge\"><title>y5&#45;&#45;t5</title>\n",
       "<path fill=\"none\" stroke=\"black\" d=\"M506.896,-91.4983C500.946,-91.4983 494.996,-91.4983 489.047,-91.4983\"/>\n",
       "</g>\n",
       "<!-- t6 -->\n",
       "<g id=\"node14\" class=\"node\"><title>t6</title>\n",
       "<polygon fill=\"black\" stroke=\"black\" points=\"591,-102.998 564,-102.998 564,-79.9983 591,-79.9983 591,-102.998\"/>\n",
       "<text text-anchor=\"middle\" x=\"577.5\" y=\"-87.7983\" font-family=\"Times,serif\" font-size=\"14.00\" fill=\"white\">t6</text>\n",
       "</g>\n",
       "<!-- y5&#45;&#45;t6 -->\n",
       "<g id=\"edge17\" class=\"edge\"><title>y5&#45;&#45;t6</title>\n",
       "<path fill=\"none\" stroke=\"black\" d=\"M546.023,-91.4983C551.925,-91.4983 557.827,-91.4983 563.729,-91.4983\"/>\n",
       "</g>\n",
       "<!-- y6 -->\n",
       "<g id=\"node8\" class=\"node\"><title>y6</title>\n",
       "<ellipse fill=\"none\" stroke=\"black\" cx=\"628.5\" cy=\"-91.4983\" rx=\"19.4965\" ry=\"19.4965\"/>\n",
       "<text text-anchor=\"middle\" x=\"628.5\" y=\"-87.7983\" font-family=\"Times,serif\" font-size=\"14.00\">y6</text>\n",
       "</g>\n",
       "<!-- y6&#45;&#45;t6 -->\n",
       "<g id=\"edge16\" class=\"edge\"><title>y6&#45;&#45;t6</title>\n",
       "<path fill=\"none\" stroke=\"black\" d=\"M608.896,-91.4983C602.946,-91.4983 596.996,-91.4983 591.047,-91.4983\"/>\n",
       "</g>\n",
       "<!-- t1&#45;&#45;x -->\n",
       "<g id=\"edge3\" class=\"edge\"><title>t1&#45;&#45;x</title>\n",
       "<path fill=\"none\" stroke=\"black\" d=\"M24.4484,-79.8712C28.0399,-76.9086 32.2154,-73.9665 36.5,-72 130.814,-28.7126 258.003,-20.7695 304.513,-19.3202\"/>\n",
       "</g>\n",
       "<!-- t2&#45;&#45;x -->\n",
       "<g id=\"edge6\" class=\"edge\"><title>t2&#45;&#45;x</title>\n",
       "<path fill=\"none\" stroke=\"black\" d=\"M181.673,-79.626C185.04,-76.9268 188.791,-74.1843 192.5,-72 230.513,-49.6134 279.759,-32.3885 305.352,-24.2173\"/>\n",
       "</g>\n",
       "<!-- t3&#45;&#45;x -->\n",
       "<g id=\"edge9\" class=\"edge\"><title>t3&#45;&#45;x</title>\n",
       "<path fill=\"none\" stroke=\"black\" d=\"M279.025,-79.9485C287.892,-67.5182 302.657,-46.8178 312.485,-33.0404\"/>\n",
       "</g>\n",
       "<!-- t4&#45;&#45;x -->\n",
       "<g id=\"edge12\" class=\"edge\"><title>t4&#45;&#45;x</title>\n",
       "<path fill=\"none\" stroke=\"black\" d=\"M365.975,-79.9485C357.108,-67.5182 342.343,-46.8178 332.515,-33.0404\"/>\n",
       "</g>\n",
       "<!-- t5&#45;&#45;x -->\n",
       "<g id=\"edge15\" class=\"edge\"><title>t5&#45;&#45;x</title>\n",
       "<path fill=\"none\" stroke=\"black\" d=\"M463.327,-79.626C459.96,-76.9268 456.209,-74.1843 452.5,-72 414.487,-49.6134 365.241,-32.3885 339.648,-24.2173\"/>\n",
       "</g>\n",
       "<!-- t6&#45;&#45;x -->\n",
       "<g id=\"edge18\" class=\"edge\"><title>t6&#45;&#45;x</title>\n",
       "<path fill=\"none\" stroke=\"black\" d=\"M566.5,-79.9798C562.907,-77.0216 558.743,-74.0547 554.5,-72 480.316,-36.0765 380.86,-23.956 340.573,-20.3558\"/>\n",
       "</g>\n",
       "</g>\n",
       "</svg>\n"
      ],
      "text/plain": [
       "<graphviz.dot.Graph at 0x7f7bef9c5438>"
      ]
     },
     "execution_count": 32,
     "metadata": {
      "filenames": {
       "image/svg+xml": "/Users/knf792/gits/nlp-course/nlp-book/_build/jupyter_execute/stat-nlp-book/chapters/sequence_labeling_slides_82_0.svg"
      }
     },
     "output_type": "execute_result"
    }
   ],
   "source": [
    "seq.draw_transition_fg(7)"
   ]
  },
  {
   "cell_type": "markdown",
   "metadata": {
    "slideshow": {
     "slide_type": "subslide"
    }
   },
   "source": [
    "### Training MEMMs\n",
    "Optimising the conditional log-likelihood\n",
    "\n",
    "$$\n",
    "\\sum_{(\\x,\\y) \\in \\train} \\log \\prob_\\params(\\y|\\x)\n",
    "$$"
   ]
  },
  {
   "cell_type": "markdown",
   "metadata": {
    "slideshow": {
     "slide_type": "fragment"
    }
   },
   "source": [
    "Decomposes nicely:\n",
    "$$\n",
    "\\sum_{(\\x,\\y) \\in \\train} \\sum_{i=1}^{|\\x|} \\log \\prob_\\params(y_i|\\x,y_{i-1},i)\n",
    "$$"
   ]
  },
  {
   "cell_type": "markdown",
   "metadata": {
    "slideshow": {
     "slide_type": "fragment"
    }
   },
   "source": [
    "Easy to train\n",
    "* Equivalent to a **logistic regression objective** for a classifier that assigns labels based on previous gold labels"
   ]
  },
  {
   "cell_type": "markdown",
   "metadata": {
    "slideshow": {
     "slide_type": "subslide"
    }
   },
   "source": [
    "However...\n",
    "\n",
    "### Local normalisation introduces *label bias*\n",
    "\n",
    "+ Tag probabilities always sum to 1 at each position\n",
    "+ Can lead to MEMMs effectively \"ignoring\" the inputs"
   ]
  },
  {
   "cell_type": "markdown",
   "metadata": {
    "slideshow": {
     "slide_type": "slide"
    }
   },
   "source": [
    "## Conditional Random Fields (CRF)\n",
    "\n",
    "- Replace *local* with *global* normalisation\n",
    "- Instead of normalising across all possible next states $y_{i+1}$ given a current state $y_i$ and observation $\\x$, the CRF normalises across all possible *sequences* $\\y$ given observation $\\x$"
   ]
  },
  {
   "cell_type": "markdown",
   "metadata": {
    "slideshow": {
     "slide_type": "fragment"
    }
   },
   "source": [
    "Formally:\n",
    "\n",
    "$$\n",
    "  p_\\params(y_i|\\x,y_{i-1},i) = \\frac{1}{Z_{\\x}} \\exp \\langle \\repr(\\x,y_{i-1},i),\\params_{y_i} \\rangle\n",
    "$$\n",
    "\n",
    "where $Z_{\\x}=\\sum_\\y   \\prod_i^{|\\x|} \\exp \\langle \\repr(\\x,y_{i-1},i), \\params_{y_i} \\rangle$ is the *partition function*, a *global* normalisation constant depending on $\\x$\n",
    "\n",
    "Notably, each term $\\exp  \\langle \\repr(\\x,y_{i-1},i), \\params_{y_i} \\rangle$ in the product can now take on values in $[0,\\infty)$ as opposed to the MEMM terms in $[0,1]$.  "
   ]
  },
  {
   "cell_type": "markdown",
   "metadata": {
    "slideshow": {
     "slide_type": "subslide"
    }
   },
   "source": [
    "***\n",
    "\n",
    "+ More precisely, this is a **linear-chain CRF**.\n",
    "\n",
    "  (CRFs can be applied to any graph structure, but we are only considering sequences.)\n"
   ]
  },
  {
   "cell_type": "markdown",
   "metadata": {
    "slideshow": {
     "slide_type": "subslide"
    }
   },
   "source": [
    "## &#128077;\n",
    "\n",
    "+ Finds globally optimal label sequence\n",
    "+ Eliminates label bias\n",
    "\n",
    "## &#128078;\n",
    "\n",
    "+ More difficult to train (—cannot break down into local terms anymore!)"
   ]
  },
  {
   "cell_type": "markdown",
   "metadata": {
    "slideshow": {
     "slide_type": "subslide"
    }
   },
   "source": [
    "The best of both worlds?\n",
    "\n",
    "## BiLSTM-CRF\n",
    "\n",
    "+ We can **combine** our bi-directional LSTM model with a CRF!"
   ]
  },
  {
   "cell_type": "code",
   "execution_count": 33,
   "metadata": {
    "slideshow": {
     "slide_type": "subslide"
    }
   },
   "outputs": [
    {
     "data": {
      "text/html": [
       "<img src=\"../img/ner_bilstm.png?0.2080692447445922\"/>"
      ],
      "text/plain": [
       "<IPython.core.display.Image object>"
      ]
     },
     "execution_count": 33,
     "metadata": {},
     "output_type": "execute_result"
    }
   ],
   "source": [
    "Image(url='../img/ner_bilstm.png'+'?'+str(random()))"
   ]
  },
  {
   "cell_type": "code",
   "execution_count": 34,
   "metadata": {
    "slideshow": {
     "slide_type": "subslide"
    }
   },
   "outputs": [
    {
     "data": {
      "text/html": [
       "<img src=\"../img/ner_bilstm_crf2.png?0.2163260145918815\"/>"
      ],
      "text/plain": [
       "<IPython.core.display.Image object>"
      ]
     },
     "execution_count": 34,
     "metadata": {},
     "output_type": "execute_result"
    }
   ],
   "source": [
    "Image(url='../img/ner_bilstm_crf2.png'+'?'+str(random()))"
   ]
  },
  {
   "cell_type": "markdown",
   "metadata": {
    "slideshow": {
     "slide_type": "slide"
    }
   },
   "source": [
    "## Prediction in MEMMs, CRFs, BiLSTM-CRFs, ...\n",
    "\n",
    "To predict the best label sequence, find a $\\y^*$ with maximal conditional probability\n",
    "\n",
    "$$\n",
    "\\y^* =\\argmax_\\y \\prob_\\params(\\y|\\x).\n",
    "$$"
   ]
  },
  {
   "cell_type": "markdown",
   "metadata": {
    "slideshow": {
     "slide_type": "fragment"
    }
   },
   "source": [
    "### Problem\n",
    "\n",
    "We cannot simply choose each label in isolation because **decisions depend on each other.**"
   ]
  },
  {
   "cell_type": "markdown",
   "metadata": {
    "slideshow": {
     "slide_type": "subslide"
    }
   },
   "source": [
    "## Greedy Prediction\n",
    "\n",
    "Simplest option:\n",
    "* Choose highest scoring label for token 1\n",
    "* Choose highest scoring label for token 2, conditioned on best label from 1\n",
    "* etc."
   ]
  },
  {
   "cell_type": "markdown",
   "metadata": {
    "slideshow": {
     "slide_type": "fragment"
    }
   },
   "source": [
    "But...\n",
    "\n",
    "+ May lead to **search errors** when returned $\\y^*$ is not highest scoring **global** solution"
   ]
  },
  {
   "cell_type": "markdown",
   "metadata": {
    "pycharm": {
     "name": "#%% md\n"
    },
    "slideshow": {
     "slide_type": "subslide"
    }
   },
   "source": [
    "## Beam Search\n",
    "\n",
    "Keep a \"beam\" of the best $\\beta$ previous solutions\n",
    "\n",
    "1. Choose $\\beta$ highest scoring labels for token 1\n",
    "2. 1. For each of the previous $\\beta$ labels: predict probabilities for next label, conditioned on the previous label(s)\n",
    "   2. **Sum** the log-likelihoods for previous states and next label\n",
    "   3. **Prune** the beam by only keeping the top $\\beta$ paths\n",
    "3. Repeat until end of sequence"
   ]
  },
  {
   "cell_type": "markdown",
   "metadata": {
    "pycharm": {
     "name": "#%% md\n"
    },
    "slideshow": {
     "slide_type": "subslide"
    }
   },
   "source": [
    "## Summary\n",
    "\n",
    "\n",
    "- Many problems can be cast as sequence labelling\n",
    "    - Solution 1: Sequence of linear regression classifiers\n",
    "        - Rely on good feature engineering\n",
    "    - Solution 2: Recurrent neural networks (e.g., bidirectional LSTMs)\n",
    "        - Rely on substantial amounts of training data\n",
    "    - Solution 3: CRFs to model label dependencies\n",
    "        - Can be stacked on top of neural networks\n",
    "        - Require non-trivial search algorithms\n",
    "        - ...but greedy and beam search often work well\n"
   ]
  },
  {
   "cell_type": "markdown",
   "metadata": {
    "pycharm": {
     "name": "#%% md\n"
    },
    "slideshow": {
     "slide_type": "subslide"
    }
   },
   "source": [
    "## Background Material \n",
    "\n",
    "- Longer introduction to sequence Labelling with linear chain models: [notes](chapters/sequence_labeling.ipynb), [slides](chapters/sequence_labeling_slides.ipynb)\n",
    "- Longer introduction to sequence labelling with CRFs: [slides](chapters/sequence_labeling_crf_slides.ipynb)"
   ]
  },
  {
   "cell_type": "markdown",
   "metadata": {
    "slideshow": {
     "slide_type": "fragment"
    }
   },
   "source": [
    "- Jurafsky & Martin, Speech and Language Processing, [§8.4 and §8.5](https://web.stanford.edu/~jurafsky/slp3/8.pdf) introduces Markov chains, HMMs, & MEMMs\n",
    "- Tutorial on CRFs: Sutton & McCallum, [An Introduction to Conditional Random Fields for Relational Learning](https://people.cs.umass.edu/~mccallum/papers/crf-tutorial.pdf)\n",
    "- LSTM-CRF architecture: [Huang et al., Bidirectional LSTM-CRF for Sequence Tagging](https://arxiv.org/pdf/1508.01991v1.pdf)\n",
    "- Globally Normalized Transition-Based Neural Networks: [Andor et al., 2016](https://arxiv.org/abs/1603.06042)"
   ]
  }
 ],
 "metadata": {
  "celltoolbar": "Slideshow",
  "kernelspec": {
   "display_name": "Python 3",
   "language": "python",
   "name": "python3"
  },
  "language_info": {
   "codemirror_mode": {
    "name": "ipython",
    "version": 3
   },
   "file_extension": ".py",
   "mimetype": "text/x-python",
   "name": "python",
   "nbconvert_exporter": "python",
   "pygments_lexer": "ipython3",
   "version": "3.10.4"
  }
 },
 "nbformat": 4,
 "nbformat_minor": 1
}