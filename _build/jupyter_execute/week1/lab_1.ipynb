{
 "cells": [
  {
   "cell_type": "markdown",
   "metadata": {},
   "source": [
    "# Lab 1\n",
    "\n",
    "```{image} ../img/karolina_featured.png\n",
    ":alt: Karolina\n",
    ":class: bg-primary mb-1\n",
    ":width: 200px\n",
    ":align: left\n",
    "```"
   ]
  },
  {
   "cell_type": "markdown",
   "metadata": {},
   "source": [
    "## Lab Schedule\n",
    "    \n",
    "- Lab Sessions:\n",
    "    - Group 1: Mondays, 10-12 in øv - 1-0-26, Universitetsparken 1, DIKU, Weeks 37-41 + 43-44\n",
    "    - Group 2: Fridays, 10-12 in øv - 1-0-26, Universitetsparken 1, DIKU, Weeks 36-41 + 43-44\n",
    "\n",
    "We have assigned you to one of two lab session groups based on your answers to the [Getting to Know You survey](https://absalon.instructure.com/courses/52205/quizzes/62668). Please note that this is a preliminary assignment. "
   ]
  },
  {
   "cell_type": "markdown",
   "metadata": {},
   "source": [
    "## Lab Agenda\n",
    "\n",
    "- Introduction to useful tools for the course (Jupyter, Google Colab)\n",
    "- Setting up the course environment\n",
    "- Tokenization \n",
    "- Introduction to PyTorch\n",
    "- Questions about the course project / group work on the  project"
   ]
  },
  {
   "cell_type": "markdown",
   "metadata": {},
   "source": [
    "### Corona Guidelines (subject to changes)\n",
    "\n",
    "- **Do not attend** the in-person lectures and lab sessions if you have COVID-19 symptoms\n",
    "- **Report** symptoms to the course teachers as well as university immediately\n",
    "- Wash and/or **disinfect** your hands before entering the auditorium\n",
    "- Keep one metre's **distance** from other students\n",
    "- Keep two metre's distance from members of the teaching team when they are presenting\n",
    "- Leave the classroom in an **orderly fashion**\n",
    "\n",
    "\n",
    "- Full COVID-19 guidelines by SCIENCE: https://kunet.ku.dk/faculty-and-department/science/COVID-19/Pages/default.aspx\n",
    "- Poster with summary of guidelines from SCIENCE: https://kunet.ku.dk/faculty-and-department/science/COVID-19/Documents/app%201%20poster%20generel%20guidelines%20200821.pptx"
   ]
  },
  {
   "cell_type": "markdown",
   "metadata": {},
   "source": [
    "## Introduction to Jupyter \n",
    "\n",
    "Jupyter is an open-source web app that combines visualizations, narrative text, mathematical equations, and other rich media in a single document. \n",
    "\n",
    "* Creating new notebook - from the menu File -> New Notebook. Once created, you can rename the notebook by clicking on its name and edit its content by adding (plus button), deleting or editing cells."
   ]
  },
  {
   "cell_type": "code",
   "execution_count": 1,
   "metadata": {},
   "outputs": [
    {
     "name": "stdout",
     "output_type": "stream",
     "text": [
      "Hello, World!\n"
     ]
    }
   ],
   "source": [
    "print(\"Hello, World!\"); # this is a code block"
   ]
  },
  {
   "cell_type": "markdown",
   "metadata": {},
   "source": [
    "This is a _Markdown block_ where you can write text. "
   ]
  },
  {
   "cell_type": "markdown",
   "metadata": {},
   "source": [
    "You can get help about a method with __(<kbd>Shift</kbd> + <kbd>Tab</kbd>)__\n",
    " \n",
    "__(<kbd>Shift</kbd> + <kbd>Enter</kbd>)__ executes the text/code blocks\n",
    "\n",
    "While the a code cell is being executed, you'll see a star on the right side of the cell."
   ]
  },
  {
   "cell_type": "code",
   "execution_count": 2,
   "metadata": {},
   "outputs": [
    {
     "name": "stdout",
     "output_type": "stream",
     "text": [
      "Python 3.10.4\r\n"
     ]
    }
   ],
   "source": [
    "!python --version # you can also write shell commands in code blocks"
   ]
  },
  {
   "cell_type": "code",
   "execution_count": 3,
   "metadata": {},
   "outputs": [
    {
     "name": "stdout",
     "output_type": "stream",
     "text": [
      "Requirement already satisfied: nltk in /Users/knf792/miniconda3/envs/nlp-course/lib/python3.10/site-packages (3.7)\r\n",
      "Requirement already satisfied: joblib in /Users/knf792/miniconda3/envs/nlp-course/lib/python3.10/site-packages (from nltk) (1.1.0)\r\n",
      "Requirement already satisfied: regex>=2021.8.3 in /Users/knf792/miniconda3/envs/nlp-course/lib/python3.10/site-packages (from nltk) (2022.6.2)\r\n",
      "Requirement already satisfied: tqdm in /Users/knf792/miniconda3/envs/nlp-course/lib/python3.10/site-packages (from nltk) (4.64.0)\r\n",
      "Requirement already satisfied: click in /Users/knf792/miniconda3/envs/nlp-course/lib/python3.10/site-packages (from nltk) (8.1.3)\r\n"
     ]
    }
   ],
   "source": [
    "!pip3 install nltk # you can also install new libraries"
   ]
  },
  {
   "cell_type": "markdown",
   "metadata": {},
   "source": [
    "We can also create visualizations and save them."
   ]
  },
  {
   "cell_type": "code",
   "execution_count": 4,
   "metadata": {},
   "outputs": [
    {
     "data": {
      "image/png": "[encoded data removed]",
      "text/plain": [
       "<Figure size 432x288 with 1 Axes>"
      ]
     },
     "metadata": {
      "filenames": {
       "image/png": "/Users/knf792/gits/nlp-course/nlp-book/_build/jupyter_execute/week1/lab_1_11_0.png"
      },
      "needs_background": "light"
     },
     "output_type": "display_data"
    }
   ],
   "source": [
    "import matplotlib.pyplot as plt\n",
    "%matplotlib inline\n",
    "import numpy as np\n",
    "x = np.linspace(0, 10, 100)\n",
    "\n",
    "fig = plt.figure()\n",
    "plt.plot(x, np.sin(x), '-')\n",
    "plt.plot(x, np.cos(x), '--');"
   ]
  },
  {
   "cell_type": "code",
   "execution_count": 5,
   "metadata": {},
   "outputs": [],
   "source": [
    "fig.savefig('my_figure.png')"
   ]
  },
  {
   "cell_type": "code",
   "execution_count": 6,
   "metadata": {},
   "outputs": [
    {
     "name": "stdout",
     "output_type": "stream",
     "text": [
      "CPU times: user 2.78 ms, sys: 4.9 ms, total: 7.68 ms\n",
      "Wall time: 10 s\n"
     ]
    }
   ],
   "source": [
    "import time\n",
    "%time time.sleep(10) # this is some jupyter magic"
   ]
  },
  {
   "cell_type": "markdown",
   "metadata": {},
   "source": [
    "All Jupyter magic commands are described [here](https://ipython.readthedocs.io/en/stable/interactive/magics.html)."
   ]
  },
  {
   "cell_type": "code",
   "execution_count": 7,
   "metadata": {},
   "outputs": [],
   "source": [
    "# Magic used in the notebooks : \n",
    "\n",
    "# automatically re-load imported modules every time before executing the Python code typed\n",
    "%load_ext autoreload\n",
    "%autoreload 2\n",
    "\n",
    "# automatically include matplotlib plots in the frontend of the notebook and save them with the notebook\n",
    "%matplotlib inline"
   ]
  },
  {
   "cell_type": "markdown",
   "metadata": {},
   "source": [
    "### Kernels\n",
    "Behind every notebook runs a **kernel**. When you run a code cell, that code is executed within the kernel. The kernel is build with a specific Python version. Any output is returned back to the cell to be displayed. The kernel’s state persists over time and between cells — it pertains to the document as a whole and not individual cells."
   ]
  },
  {
   "cell_type": "code",
   "execution_count": 8,
   "metadata": {},
   "outputs": [
    {
     "name": "stderr",
     "output_type": "stream",
     "text": [
      "[nltk_data] Downloading package punkt to /Users/knf792/nltk_data...\n",
      "[nltk_data]   Package punkt is already up-to-date!\n"
     ]
    }
   ],
   "source": [
    "import nltk\n",
    "nltk.download('punkt')\n",
    "\n",
    "text = \"Time flies like an arrow.\""
   ]
  },
  {
   "cell_type": "code",
   "execution_count": 9,
   "metadata": {},
   "outputs": [
    {
     "data": {
      "text/plain": [
       "['Time', 'flies', 'like', 'an', 'arrow', '.']"
      ]
     },
     "execution_count": 9,
     "metadata": {},
     "output_type": "execute_result"
    }
   ],
   "source": [
    "nltk.tokenize.word_tokenize(text)"
   ]
  },
  {
   "cell_type": "markdown",
   "metadata": {},
   "source": [
    "### Checkpoints\n",
    "\n",
    "When you create a notebook, a checkpoint file is also saved in a hidden directory called .ipynb_checkpoints. Every time you manually save the notebook (__(<kbd>command</kbd> + <kbd>S</kbd>)__), the checkpoint file updates. Jupyter autosaves your work on occasion, which only updates the .ipynb file but not the checkpoint. You can revert back to the latest checkpoint using File -> Revert to Checkpoint."
   ]
  },
  {
   "cell_type": "markdown",
   "metadata": {},
   "source": [
    "### WARNING\n",
    "\n",
    "Code in Jupyter notebooks can be executed in a non-sequential order. Cells can get deleted.\n",
    "Notebooks are dangerous unless you run each cell exactly once and sequentially!\n",
    "\n",
    "To restart the state of the notebook you can select:\n",
    "**\"Kernel -> Restart & Run All\"**\n",
    "\n",
    "This is especially good to do before sharing your notebook with someone else."
   ]
  },
  {
   "cell_type": "markdown",
   "metadata": {},
   "source": [
    "References:\n",
    "- https://www.dataquest.io/blog/jupyter-notebook-tutorial/\n",
    "- https://nbviewer.jupyter.org/github/cgpotts/cs224u/blob/master/tutorial_jupyter_notebooks.ipynb"
   ]
  },
  {
   "cell_type": "markdown",
   "metadata": {},
   "source": [
    "---\n",
    "## Introduction to Colab https://colab.research.google.com/"
   ]
  },
  {
   "cell_type": "markdown",
   "metadata": {},
   "source": [
    "Colab allows to run notebooks on the Google Cloud with free access to GPUs and TPUs. You can run the same commands reviewed above in Colab as well.\n",
    "\n",
    "The notebooks can be shared with other people and you can leave comments and control permissions on it.\n",
    "\n",
    "To run the notebook on GPU/TPU you have to select from the menu Runtime->Change Runtime type, which will be None (CPU) by default.\n",
    "\n",
    "### Collaboration options:\n",
    "- Share button in the upper right corner.\n",
    "- File->Make a Copy creates a copy of the notebook in Drive.\n",
    "- File->Save saves the File to Drive and pins a version to the checkpoint and you can later restore version from File->Revision history\n",
    "- GitHub - you can open notebooks hosted in GitHub, this will open a new editable version of the notebook and any changes won't override the GitHub version. If you want to save the changes to GitHub select File->Make a copy to GitHub.\n",
    "\n",
    "\n",
    "\n",
    "### Using a custom dataset\n",
    "**The code cells below have to be run in a Colab environment!**\n",
    "#### Uploading files from your local file system\n",
    "files.upload returns a dictionary of the files which were uploaded. The dictionary is keyed by the file name and values are the data which were uploaded."
   ]
  },
  {
   "cell_type": "code",
   "execution_count": 10,
   "metadata": {},
   "outputs": [
    {
     "ename": "ModuleNotFoundError",
     "evalue": "No module named 'google'",
     "output_type": "error",
     "traceback": [
      "\u001b[0;31m---------------------------------------------------------------------------\u001b[0m",
      "\u001b[0;31mModuleNotFoundError\u001b[0m                       Traceback (most recent call last)",
      "Input \u001b[0;32mIn [10]\u001b[0m, in \u001b[0;36m<cell line: 2>\u001b[0;34m()\u001b[0m\n\u001b[1;32m      1\u001b[0m \u001b[38;5;66;03m# this code cell has to be run in Colab environment\u001b[39;00m\n\u001b[0;32m----> 2\u001b[0m \u001b[38;5;28;01mfrom\u001b[39;00m \u001b[38;5;21;01mgoogle\u001b[39;00m\u001b[38;5;21;01m.\u001b[39;00m\u001b[38;5;21;01mcolab\u001b[39;00m \u001b[38;5;28;01mimport\u001b[39;00m files\n\u001b[1;32m      4\u001b[0m uploaded \u001b[38;5;241m=\u001b[39m files\u001b[38;5;241m.\u001b[39mupload()\n\u001b[1;32m      6\u001b[0m \u001b[38;5;28;01mfor\u001b[39;00m fn \u001b[38;5;129;01min\u001b[39;00m uploaded\u001b[38;5;241m.\u001b[39mkeys():\n",
      "\u001b[0;31mModuleNotFoundError\u001b[0m: No module named 'google'"
     ]
    }
   ],
   "source": [
    "# this code cell has to be run in Colab environment\n",
    "from google.colab import files\n",
    "\n",
    "uploaded = files.upload()\n",
    "\n",
    "for fn in uploaded.keys():\n",
    "  print('User uploaded file \"{name}\" with length {length} bytes'.format(\n",
    "      name=fn, length=len(uploaded[fn])))"
   ]
  },
  {
   "cell_type": "markdown",
   "metadata": {},
   "source": [
    "### files.download will invoke a browser download of the file to your local computer."
   ]
  },
  {
   "cell_type": "code",
   "execution_count": null,
   "metadata": {},
   "outputs": [],
   "source": [
    "from google.colab import files\n",
    "\n",
    "with open('example.txt', 'w') as f:\n",
    "  f.write('some content')\n",
    "\n",
    "files.download('example.txt')"
   ]
  },
  {
   "cell_type": "markdown",
   "metadata": {},
   "source": [
    "### Mounting Google Drive locally\n",
    "You can mount your Google Drive in the notebook and use all of the files available there."
   ]
  },
  {
   "cell_type": "code",
   "execution_count": null,
   "metadata": {},
   "outputs": [],
   "source": [
    "from google.colab import drive\n",
    "drive.mount('/content/drive') # this will trigger permission prompts"
   ]
  },
  {
   "cell_type": "code",
   "execution_count": null,
   "metadata": {},
   "outputs": [],
   "source": [
    "with open('/content/drive/My Drive/foo.txt', 'w') as f:\n",
    "  f.write('Hello Google Drive!')\n",
    "!ls /content/drive/My\\ Drive/ | wc -l"
   ]
  },
  {
   "cell_type": "code",
   "execution_count": null,
   "metadata": {},
   "outputs": [],
   "source": [
    "drive.flush_and_unmount()\n",
    "print('All changes made in this colab session should now be visible in Drive.')"
   ]
  },
  {
   "cell_type": "code",
   "execution_count": null,
   "metadata": {},
   "outputs": [],
   "source": [
    "!pip3 freeze # contains a lot of pre-installed packages"
   ]
  },
  {
   "cell_type": "markdown",
   "metadata": {},
   "source": [
    "References:\n",
    "- Colab guides and examples : https://colab.research.google.com/notebooks/intro.ipynb?hl=en\n",
    "- Integration with GitHub: https://colab.research.google.com/github/googlecolab/colabtools/blob/master/notebooks/colab-github-demo.ipynb#scrollTo=WzIRIt9d2huC\n",
    "- External data handling: https://colab.research.google.com/notebooks/io.ipynb#scrollTo=G5IVmR8S9SeF"
   ]
  },
  {
   "cell_type": "markdown",
   "metadata": {},
   "source": [
    "-----\n",
    "\n",
    "## Python tutorials\n",
    "\n",
    "* Go thoutgh this [Notebook](../exercises/python_intro.ipynb) with elementary Python syntax.\n",
    "\n",
    "* [An Informal Introduction to Python](https://docs.python.org/3/tutorial/introduction.html)\n",
    "\n",
    "* [Python for Beginners](https://www.python.org/about/gettingstarted/)\n",
    "\n",
    "* [Learn Python in 10 minutes](https://www.stavros.io/tutorials/python/)\n",
    "\n",
    "* [LOADS of others](https://www.google.co.uk/search?q=python+tutorial)"
   ]
  },
  {
   "cell_type": "markdown",
   "metadata": {},
   "source": [
    "----- \n",
    "\n",
    "## stat-nlp-book setup\n",
    "\n",
    "### On your personal computer\n",
    "\n",
    "Go to https://github.com/copenlu/stat-nlp-book and follow the readme to set up the stat-nlp-book.\n",
    "\n",
    "### On Microsoft Azure\n",
    "\n",
    "If you feel adventurous, and want to set up your own Virtual Machine with stat-nlp-book, follow the [Azure tutorial](../tutorials/azure_tutorial.ipynb)"
   ]
  },
  {
   "cell_type": "markdown",
   "metadata": {},
   "source": [
    "## Additional Info\n",
    "\n",
    "### Docker commands\n",
    "* Get a list of the currently running containers <br> \n",
    "<code>docker ps -q</code> <br>\n",
    "* Run shell commands in your container by first getting the id of the container with above command and then: <br>\n",
    "<code>docker exec -it _container-id_ _command_</code> <br>\n",
    "e.g. <code>docker exec -it 8c16b8de4771 python --version</code>\n",
    "\n",
    "\n",
    "### Managing your changes\n",
    "\n",
    "There are several ways to keep your changes within the official repo organised. Some of them are:\n",
    "* Create your own [fork](https://help.github.com/en/articles/fork-a-repo)\n",
    "of the repo. The fork can be [synced](https://help.github.com/en/articles/syncing-a-fork?query=f) with the official course repo when new changes are available. Meanwhile, you can also maintain your changes in your forked repo.\n",
    "* Another option is to keep your changes only in a local branch (<code>git checkout -b _your-branch-name_</code>) on your computer. Each time there is a change in the course repo, you can pull the repo and merge the changes in your branch (<code>git merge origin/master</code>)"
   ]
  },
  {
   "cell_type": "markdown",
   "metadata": {},
   "source": [
    "----\n",
    "\n",
    "## Tokenisation"
   ]
  },
  {
   "cell_type": "markdown",
   "metadata": {},
   "source": [
    "Tokenisation is an important pre-processing step for NLP models. \n",
    "\n",
    "You can tokenise text at different levels - split to sentences, tokens, subwords, etc. \n",
    "\n",
    "There are a lot of corner cases, language-specific and/or domain-specific cases, which have to handled in different ways.\n"
   ]
  },
  {
   "cell_type": "code",
   "execution_count": 10,
   "metadata": {},
   "outputs": [
    {
     "data": {
      "text/plain": [
       "['The office is open between 10 a',\n",
       " '.',\n",
       " 'm',\n",
       " '.',\n",
       " ' and 1 p',\n",
       " '.',\n",
       " 'm',\n",
       " '.',\n",
       " ' every day',\n",
       " '.',\n",
       " '',\n",
       " '.',\n",
       " '',\n",
       " '.',\n",
       " ' Please, be respective of the hours',\n",
       " '.',\n",
       " '']"
      ]
     },
     "execution_count": 10,
     "metadata": {},
     "output_type": "execute_result"
    }
   ],
   "source": [
    "import re\n",
    "\n",
    "text_sentences = \"The office is open between 10 a.m. and 1 p.m. every day... Please, be respective of the hours.\"\n",
    "re.split('(\\.|!|\\?)', text_sentences)"
   ]
  },
  {
   "cell_type": "markdown",
   "metadata": {},
   "source": [
    "Luckily, there are libraries providing tokenization functionalities that handle most of the cases. Let's look two of the most common libraries for tokenisation:\n",
    "\n",
    "### Spacy"
   ]
  },
  {
   "cell_type": "code",
   "execution_count": 11,
   "metadata": {},
   "outputs": [
    {
     "name": "stdout",
     "output_type": "stream",
     "text": [
      "Collecting en_core_web_sm==2.1.0\n",
      "  Downloading https://github.com/explosion/spacy-models/releases/download/en_core_web_sm-2.1.0/en_core_web_sm-2.1.0.tar.gz (11.1 MB)\n",
      "\u001b[K     |████████████████████████████████| 11.1 MB 4.1 MB/s eta 0:00:01\n",
      "\u001b[?25h\u001b[38;5;2m✔ Download and installation successful\u001b[0m\n",
      "You can now load the model via spacy.load('en_core_web_sm')\n",
      "Collecting fr_core_news_sm==2.1.0\n",
      "  Downloading https://github.com/explosion/spacy-models/releases/download/fr_core_news_sm-2.1.0/fr_core_news_sm-2.1.0.tar.gz (13.1 MB)\n",
      "\u001b[K     |████████████████████████████████| 13.1 MB 13.4 MB/s eta 0:00:01\n",
      "\u001b[?25h\u001b[38;5;2m✔ Download and installation successful\u001b[0m\n",
      "You can now load the model via spacy.load('fr_core_news_sm')\n"
     ]
    }
   ],
   "source": [
    "# download the language models, this can be done for other languages as well\n",
    "!python -m spacy download en_core_web_sm # You might have to restart the notebook if the file cannot be found\n",
    "!python -m spacy download fr_core_news_sm"
   ]
  },
  {
   "cell_type": "code",
   "execution_count": 12,
   "metadata": {},
   "outputs": [
    {
     "data": {
      "text/plain": [
       "[The office is open between 10 a.m. and 1 p.m. every day...,\n",
       " Please, be respective of the hours.]"
      ]
     },
     "execution_count": 12,
     "metadata": {},
     "output_type": "execute_result"
    }
   ],
   "source": [
    "import spacy\n",
    "\n",
    "nlp = spacy.load(\"en_core_web_sm\")\n",
    "doc = nlp(text_sentences)\n",
    "list(doc.sents)"
   ]
  },
  {
   "cell_type": "markdown",
   "metadata": {},
   "source": [
    "### NLTK"
   ]
  },
  {
   "cell_type": "code",
   "execution_count": 13,
   "metadata": {},
   "outputs": [
    {
     "data": {
      "text/plain": [
       "['The office is open between 10 a.m. and 1 p.m. every day...',\n",
       " 'Please, be respective of the hours.']"
      ]
     },
     "execution_count": 13,
     "metadata": {},
     "output_type": "execute_result"
    }
   ],
   "source": [
    "import nltk\n",
    "\n",
    "nltk.tokenize.sent_tokenize(text_sentences)"
   ]
  },
  {
   "cell_type": "markdown",
   "metadata": {},
   "source": [
    "#### Word-level tokenization"
   ]
  },
  {
   "cell_type": "code",
   "execution_count": 14,
   "metadata": {},
   "outputs": [
    {
     "name": "stdout",
     "output_type": "stream",
     "text": [
      "Common English tokenization\n",
      "['Mr.', \"O'Neill\", 'thinks', 'that', 'the', 'boys', \"'\", 'stories', 'about', 'Chile', \"'s\", 'capital', 'are', \"n't\", 'amusing', '...', 'Good', 'muffins', 'cost', '$', '3.88', 'in', 'New', 'York', '.', 'Please', 'buy', 'me', 'two', 'of', 'them', '!', '!', '!', 'Thanks..']\n",
      "['Mr.', \"O'Neill\", 'thinks', 'that', 'the', 'boys', \"'\", 'stories', 'about', 'Chile', \"'s\", 'capital', 'are', \"n't\", 'amusing', '...', 'Good', 'muffins', 'cost', '$', '3.88', 'in', 'New', 'York', '.', 'Please', 'buy', 'me', 'two', 'of', 'them', '!', '!', '!', 'Thanks', '..']\n",
      "\n",
      "Tweet tokenization\n",
      "['https', ':', '//t.co/9z2J3P33Uc', 'Hey', '@', 'NLPer', '!', 'This', 'is', 'a', '#', 'NLProc', 'tweet', ':', '-D']\n",
      "['https://t.co/9z2J3P33Uc', 'Hey', '@NLPer', '!', 'This', 'is', 'a', '#', 'NLProc', 'tweet', ':-D']\n",
      "\n",
      "Tokenization of a noisy tweet\n",
      "['UserAnonym123', 'What', \"'s\", 'your', 'timezone_', '!', '@', '#', '!', '@', '#', '$', '%', '^', '&', '*', '(', ')', '_+', '0123456']\n",
      "['UserAnonym123', 'What', \"'s\", 'your', 'timezone_!@', '#', '!', '@#$%^&*()_+', '0123456']\n"
     ]
    }
   ],
   "source": [
    "text = \"Mr. O'Neill thinks that the boys' stories about Chile's capital aren't amusing... Good muffins cost $3.88 in New York. Please buy me two of them!!! Thanks..\"\n",
    "text_tweet = \"https://t.co/9z2J3P33Uc Hey @NLPer! This is a #NLProc tweet :-D\"\n",
    "noisy_tweet = \"UserAnonym123 What's your timezone_!@# !@#$%^&*()_+ 0123456\"\n",
    "\n",
    "print('Common English tokenization')\n",
    "print(nltk.word_tokenize(text))\n",
    "print([token.text for token in nlp(text)])\n",
    "\n",
    "print('\\nTweet tokenization')\n",
    "print(nltk.word_tokenize(text_tweet))\n",
    "print([token.text for token in nlp(text_tweet)])\n",
    "\n",
    "print('\\nTokenization of a noisy tweet')\n",
    "print(nltk.word_tokenize(noisy_tweet))\n",
    "print([token.text for token in nlp(noisy_tweet)])"
   ]
  },
  {
   "cell_type": "markdown",
   "metadata": {},
   "source": [
    "Both libraries perform almost similar for tokenising English common text, so it depends which library you'll use for other features. \n",
    "\n",
    "When it comes to tweets, the nltk default tokenizer performs bad, but NLTK also provides the TweetTokenizer that is suited for tweet tokenization."
   ]
  },
  {
   "cell_type": "code",
   "execution_count": 15,
   "metadata": {},
   "outputs": [
    {
     "name": "stdout",
     "output_type": "stream",
     "text": [
      "['https://t.co/9z2J3P33Uc', 'Hey', '@NLPer', '!', 'This', 'is', 'a', '#NLProc', 'tweet', ':-D']\n",
      "['UserAnonym', '123', \"What's\", 'your', 'timezone', '_', '!', '@', '#', '!', '@', '#', '$', '%', '^', '&', '*', '(', ')', '_', '+', '0123456']\n"
     ]
    }
   ],
   "source": [
    "tweet_tokenizer = nltk.tokenize.TweetTokenizer()\n",
    "print(tweet_tokenizer.tokenize(text_tweet))\n",
    "print(tweet_tokenizer.tokenize(noisy_tweet))"
   ]
  },
  {
   "cell_type": "markdown",
   "metadata": {},
   "source": [
    "As you saw, the above tokenizers tokenize negation contractions like \"are\", \"n't\", which is per the the Penn Treebank guidelines. Such tokenization can be useful when building sentiment classification or information extraction. \n",
    "\n",
    "Question:\n",
    "- How should we split \"I bought a 12-ft boat!\"? In 1, 2, or 3 tokens?\n",
    "- How should we tokenize \"It is a 2850m distance flight.\", \"The maximum speed on the autobahn is 130km/h.\"? \n",
    "\n",
    "There is again a rule that units are split from numerical values. Let's test the performance of the tokenizers:"
   ]
  },
  {
   "cell_type": "code",
   "execution_count": 16,
   "metadata": {},
   "outputs": [
    {
     "name": "stdout",
     "output_type": "stream",
     "text": [
      "Spacy tokenizer\n",
      "['I', 'bought', 'a', '12-ft', 'boat', '!']\n",
      "['It', 'is', 'a', '2850', 'm', 'distance', 'flight', '.']\n",
      "['The', 'maximum', 'speed', 'on', 'the', 'autobahn', 'is', '130', 'km/h', '.']\n",
      "\n",
      "NLTK simple tokenizer\n",
      "[['I', 'bought', 'a', '12-ft', 'boat', '!']]\n",
      "[['It', 'is', 'a', '2850m', 'distance', 'flight', '.']]\n",
      "[['The', 'maximum', 'speed', 'on', 'the', 'autobahn', 'is', '130km/h', '.']]\n"
     ]
    }
   ],
   "source": [
    "print('Spacy tokenizer')\n",
    "print([token.text for token in nlp(\"I bought a 12-ft boat!\")])\n",
    "print([token.text for token in nlp(\"It is a 2850m distance flight.\")])\n",
    "print([token.text for token in nlp(\"The maximum speed on the autobahn is 130km/h.\")])\n",
    "\n",
    "print('\\nNLTK simple tokenizer')\n",
    "print([nltk.tokenize.word_tokenize(\"I bought a 12-ft boat!\")])\n",
    "print([nltk.tokenize.word_tokenize(\"It is a 2850m distance flight.\")])\n",
    "print([nltk.tokenize.word_tokenize(\"The maximum speed on the autobahn is 130km/h.\")])"
   ]
  },
  {
   "cell_type": "markdown",
   "metadata": {},
   "source": [
    "#### Language dependent tokenization\n",
    "\n",
    "While some languages have similar rules for tokenization, other languages are quite different.\n",
    "In French, words originally composed of more than one lexical unit that nowadays form a single lexical unit and should thus be recognized as a single token, where an apostrophe should be used to split the word in some cases, but not in all. \n",
    "\n",
    "The following sentence \"On nous dit qu’aujourd’hui c’est le cas, encore faudra-t-il l’évaluer.\", which means \"We are told that this is the case today, it still needs to be assessed.\" has the following correct tokenization:\n",
    "\n",
    "'On', 'nous', 'dit', 'qu’', 'aujourd’hui', 'c’', 'est', 'le', 'cas', ',', 'encore', 'faudra', '-t-il', 'l’', 'évaluer', '.'\n",
    "\n",
    "Explanation:\n",
    "- words originally composed of more than one lexical unit that nowadays form a single lexical unit and should thus be recognized as a single token like 'aujourd’hui'\n",
    "- qu’aujourd’hui (that today) - today is in contracted form (qu’) and has to be separated from the rest of the word\n",
    "- c'est (this is) is ce (C') combined with est and has to be split in two words\n",
    "- l’évaluer (evaluate it) is two words, where one is in contracted form and has to be separated\n",
    "- faudra-t-il (will it take) - consists of will (faudra), -t is used to prevent two vowels from clashing and should not be tokenized"
   ]
  },
  {
   "cell_type": "code",
   "execution_count": 17,
   "metadata": {},
   "outputs": [
    {
     "name": "stdout",
     "output_type": "stream",
     "text": [
      "[['On', 'nous', 'dit', 'qu', '’', 'aujourd', '’', 'hui', 'c', '’', 'est', 'le', 'cas', ',', 'encore', 'faudra-t-il', 'l', '’', 'évaluer', '.']]\n",
      "['On', 'nous', 'dit', 'qu’aujourd’hui', 'c’est', 'le', 'cas', ',', 'encore', 'faudra', '-', 't', '-', 'il', 'l’évaluer', '.']\n"
     ]
    }
   ],
   "source": [
    "print([nltk.tokenize.word_tokenize(\"On nous dit qu’aujourd’hui c’est le cas, encore faudra-t-il l’évaluer.\")])\n",
    "print([token.text for token in nlp(\"On nous dit qu’aujourd’hui c’est le cas, encore faudra-t-il l’évaluer.\")])"
   ]
  },
  {
   "cell_type": "markdown",
   "metadata": {},
   "source": [
    "Let's use the language-specific tokenization:"
   ]
  },
  {
   "cell_type": "code",
   "execution_count": 18,
   "metadata": {},
   "outputs": [
    {
     "name": "stdout",
     "output_type": "stream",
     "text": [
      "['On', 'nous', 'dit', 'qu’', 'aujourd’', 'hui', 'c’', 'est', 'le', 'cas', ',', 'encore', 'faudra', '-', 't', '-', 'il', 'l’', 'évaluer', '.']\n"
     ]
    },
    {
     "data": {
      "text/plain": [
       "['On',\n",
       " 'nous',\n",
       " 'dit',\n",
       " 'qu',\n",
       " '’',\n",
       " 'aujourd',\n",
       " '’',\n",
       " 'hui',\n",
       " 'c',\n",
       " '’',\n",
       " 'est',\n",
       " 'le',\n",
       " 'cas',\n",
       " ',',\n",
       " 'encore',\n",
       " 'faudra-t-il',\n",
       " 'l',\n",
       " '’',\n",
       " 'évaluer',\n",
       " '.']"
      ]
     },
     "execution_count": 18,
     "metadata": {},
     "output_type": "execute_result"
    }
   ],
   "source": [
    "nlp_fr = spacy.load(\"fr_core_news_sm\")\n",
    "print([token.text for token in nlp_fr(\"On nous dit qu’aujourd’hui c’est le cas, encore faudra-t-il l’évaluer.\")])\n",
    "nltk.tokenize.word_tokenize(\"On nous dit qu’aujourd’hui c’est le cas, encore faudra-t-il l’évaluer.\", language='french')"
   ]
  },
  {
   "cell_type": "markdown",
   "metadata": {},
   "source": [
    "#### References:\n",
    "- Introduction to Spacy and its features: https://spacy.io/usage/spacy-101\n",
    "- NLTK tokenization functionalities: https://www.nltk.org/api/nltk.tokenize.html\n",
    "- On rules and different languages: http://ceur-ws.org/Vol-2226/paper9.pdf\n",
    "- Why do we need language-specific tokenization: https://stackoverflow.com/questions/17314506/why-do-i-need-a-tokenizer-for-each-language"
   ]
  },
  {
   "cell_type": "markdown",
   "metadata": {},
   "source": [
    "---\n",
    "## Introduction to PyTorch https://pytorch.org/"
   ]
  },
  {
   "cell_type": "code",
   "execution_count": 19,
   "metadata": {},
   "outputs": [
    {
     "data": {
      "text/plain": [
       "<torch._C.Generator at 0x7fe6747976b0>"
      ]
     },
     "execution_count": 19,
     "metadata": {},
     "output_type": "execute_result"
    }
   ],
   "source": [
    "import torch\n",
    "import torch.nn as nn\n",
    "import torch.nn.functional as F\n",
    "import torch.optim as optim\n",
    "\n",
    "torch.manual_seed(123)"
   ]
  },
  {
   "cell_type": "markdown",
   "metadata": {},
   "source": [
    "### Dataset and Bag-of-Words"
   ]
  },
  {
   "cell_type": "code",
   "execution_count": 20,
   "metadata": {},
   "outputs": [],
   "source": [
    "data = [(\"me gusta comer en la cafeteria\".split(), \"SPANISH\"),\n",
    "        (\"Give it to me\".split(), \"ENGLISH\"),\n",
    "        (\"No creo que sea una buena idea\".split(), \"SPANISH\"),\n",
    "        (\"No it is not a good idea to get lost at sea\".split(), \"ENGLISH\")]\n",
    "\n",
    "test_data = [(\"Yo creo que si\".split(), \"SPANISH\"),\n",
    "             (\"it is lost on me\".split(), \"ENGLISH\")]\n",
    "label_to_ix = {\"SPANISH\": 0, \"ENGLISH\": 1}"
   ]
  },
  {
   "cell_type": "markdown",
   "metadata": {},
   "source": [
    "Typically a common way to read in data in PyTorch is to use one of the two following classes: `torch.utils.data.Dataset` and `torch.utils.data.DataLoader`. Since today we work with a tiny dataset, we omit this part.\n",
    "\n",
    "Now we represent the data as Bag-of-Words (BoW) which is a simple way of extracting features from text describing the occurrence of words within a document. Intuitevely, similar documents have similar content."
   ]
  },
  {
   "cell_type": "code",
   "execution_count": 21,
   "metadata": {},
   "outputs": [
    {
     "name": "stdout",
     "output_type": "stream",
     "text": [
      "{'me': 0, 'gusta': 1, 'comer': 2, 'en': 3, 'la': 4, 'cafeteria': 5, 'Give': 6, 'it': 7, 'to': 8, 'No': 9, 'creo': 10, 'que': 11, 'sea': 12, 'una': 13, 'buena': 14, 'idea': 15, 'is': 16, 'not': 17, 'a': 18, 'good': 19, 'get': 20, 'lost': 21, 'at': 22, 'Yo': 23, 'si': 24, 'on': 25}\n"
     ]
    }
   ],
   "source": [
    "# Function to map each word in the vocab to an unique integer\n",
    "# Indexing the Bag of words vector\n",
    "word_to_ix = {}\n",
    "for sent, _ in data + test_data:\n",
    "    for word in sent:\n",
    "        if word not in word_to_ix:\n",
    "            word_to_ix[word] = len(word_to_ix)\n",
    "print(word_to_ix)"
   ]
  },
  {
   "cell_type": "code",
   "execution_count": 22,
   "metadata": {},
   "outputs": [],
   "source": [
    "VOCAB_SIZE = len(word_to_ix)\n",
    "NUM_LABELS = 2"
   ]
  },
  {
   "cell_type": "markdown",
   "metadata": {},
   "source": [
    "### Custom Classifier"
   ]
  },
  {
   "cell_type": "markdown",
   "metadata": {},
   "source": [
    "Our classifier inherits from the `nn.Module` class which provides an interface to important methods used for constructing and working with our models. \n",
    "\n",
    "Here, we will implement a custom multi-layer feed forward neural network. In our example, we calculate:\n",
    "$$ \n",
    "y = final(nonlinear(linear(BoW))\n",
    "$$\n",
    "where nonlinear denotes a non-linear function (we use [`nn.ReLU`](https://pytorch.org/docs/stable/generated/torch.nn.ReLU.html)) and the first and final layer are both linear functions implemented with`nn.Linear`. In practice, we create a `nn.Module` containing the definition of our model architecture in the `__init__` function. The `__forward__` function defines how tensors are processed by our model."
   ]
  },
  {
   "cell_type": "code",
   "execution_count": 23,
   "metadata": {},
   "outputs": [],
   "source": [
    "class BoWClassifier(nn.Module):\n",
    "\n",
    "    def __init__(self, num_labels, vocab_size, num_hidden = 2):\n",
    "        # Calls the init function of nn.Module. \n",
    "        super(BoWClassifier, self).__init__()\n",
    "\n",
    "        # Define the parameters that you need.\n",
    "        self.linear = nn.Linear(vocab_size, num_hidden)\n",
    "        # non-linearity (here it is also a layer!)\n",
    "        self.nonlinear = nn.ReLU()\n",
    "        # final affine transformation\n",
    "        self.final = nn.Linear(num_hidden, num_labels)\n",
    "\n",
    "    def forward(self, bow_vec):\n",
    "        # Pass the input through the linear layer,\n",
    "        # then pass that through log_softmax.\n",
    "        # Many non-linearities and other functions are in torch.nn.functional\n",
    "        return self.final(self.nonlinear(self.linear(bow_vec)))"
   ]
  },
  {
   "cell_type": "code",
   "execution_count": 24,
   "metadata": {},
   "outputs": [],
   "source": [
    "# Functions to create BoW vectors\n",
    "def make_bow_vector(sentence, word_to_ix):\n",
    "    vec = torch.zeros(len(word_to_ix))\n",
    "    for word in sentence:\n",
    "        vec[word_to_ix[word]] += 1\n",
    "    return vec.view(1, -1)\n",
    "\n",
    "\n",
    "def make_target(label, label_to_ix):\n",
    "    return torch.LongTensor([label_to_ix[label]])"
   ]
  },
  {
   "cell_type": "markdown",
   "metadata": {},
   "source": [
    "The `BoWClassifier` (or any other module you will create) stores knowledge of the models's parameters."
   ]
  },
  {
   "cell_type": "code",
   "execution_count": 25,
   "metadata": {},
   "outputs": [
    {
     "name": "stdout",
     "output_type": "stream",
     "text": [
      "Parameter containing:\n",
      "tensor([[-0.0800,  0.0065, -0.0974,  0.0740, -0.1671,  0.1438, -0.1425, -0.1559,\n",
      "         -0.1239,  0.0888, -0.0725,  0.0734, -0.1664, -0.1190, -0.0720, -0.0385,\n",
      "         -0.1496,  0.1284, -0.0463,  0.0630,  0.1387,  0.0365,  0.0536,  0.1893,\n",
      "         -0.0885,  0.0621],\n",
      "        [-0.0873,  0.1402,  0.1566, -0.1808,  0.1674,  0.0936,  0.0855,  0.0807,\n",
      "          0.1630, -0.0259, -0.1659, -0.0563, -0.1381,  0.0130, -0.0366, -0.1052,\n",
      "         -0.0178,  0.1858, -0.0155,  0.0062, -0.0306,  0.0308,  0.1747,  0.1199,\n",
      "          0.0696,  0.0426]], requires_grad=True)\n",
      "Parameter containing:\n",
      "tensor([0.0462, 0.0758], requires_grad=True)\n",
      "Parameter containing:\n",
      "tensor([[-0.0914, -0.6572],\n",
      "        [-0.4373,  0.6036]], requires_grad=True)\n",
      "Parameter containing:\n",
      "tensor([ 0.0423, -0.5728], requires_grad=True)\n"
     ]
    }
   ],
   "source": [
    "model = BoWClassifier(NUM_LABELS, VOCAB_SIZE)\n",
    "\n",
    "# The first output below is A, the second is b.\n",
    "for param in model.parameters():\n",
    "    print(param)"
   ]
  },
  {
   "cell_type": "markdown",
   "metadata": {},
   "source": [
    "We run the model on the test data before we train to compare with the results from a trained model. "
   ]
  },
  {
   "cell_type": "code",
   "execution_count": 26,
   "metadata": {},
   "outputs": [
    {
     "name": "stdout",
     "output_type": "stream",
     "text": [
      "tensor([[ 3.6781e-04, -6.1148e-01]])\n",
      "tensor([[-0.0398, -0.4974]])\n",
      "tensor([-0.0725, -0.1659], grad_fn=<SelectBackward>)\n"
     ]
    }
   ],
   "source": [
    "with torch.no_grad():\n",
    "    for text, label in test_data:\n",
    "        bow_vec = make_bow_vector(text, word_to_ix)\n",
    "        log_probs = model(bow_vec)\n",
    "        print(log_probs)\n",
    "\n",
    "# Print the matrix column corresponding to \"creo\"\n",
    "print(next(model.parameters())[:, word_to_ix[\"creo\"]])"
   ]
  },
  {
   "cell_type": "markdown",
   "metadata": {},
   "source": [
    "### Training"
   ]
  },
  {
   "cell_type": "markdown",
   "metadata": {},
   "source": [
    "We set our loss function to cross entropy which combines `nn.LogSoftmax()` and `nn.NLLLoss()` (negative log likelihood) and calculate gradients with stochastic gradient descent.\n",
    "\n",
    "Usually we want to pass over the training data several times by setting a respective number of epochs. Since we have a tiny dataset, we will exaggerate with the number of epochs."
   ]
  },
  {
   "cell_type": "code",
   "execution_count": 27,
   "metadata": {},
   "outputs": [],
   "source": [
    "loss_function = nn.CrossEntropyLoss()\n",
    "optimizer = optim.SGD(model.parameters(), lr=0.1)"
   ]
  },
  {
   "cell_type": "code",
   "execution_count": 28,
   "metadata": {},
   "outputs": [],
   "source": [
    "for epoch in range(200):\n",
    "    for instance, label in data:\n",
    "        # Step 1. Remember that PyTorch accumulates gradients.\n",
    "        # We need to clear them out before each instance\n",
    "        model.zero_grad()\n",
    "\n",
    "        # Step 2. Make our BOW vector and also we must wrap the target in a\n",
    "        # Tensor as an integer. For example, if the target is SPANISH, then\n",
    "        # we wrap the integer 0. The loss function then knows that the 0th\n",
    "        # element of the log probabilities is the log probability\n",
    "        # corresponding to SPANISH\n",
    "        bow_vec = make_bow_vector(instance, word_to_ix)\n",
    "        target = make_target(label, label_to_ix)\n",
    "\n",
    "        # Step 3. Run our forward pass.\n",
    "        log_probs = model(bow_vec)\n",
    "\n",
    "        # Step 4. Compute the loss, gradients, and update the parameters by\n",
    "        # calling optimizer.step()\n",
    "        loss = loss_function(log_probs, target)\n",
    "        loss.backward()\n",
    "        optimizer.step()"
   ]
  },
  {
   "cell_type": "markdown",
   "metadata": {},
   "source": [
    "### Evaluation"
   ]
  },
  {
   "cell_type": "markdown",
   "metadata": {},
   "source": [
    "Let's see if our model can now predict more accurately, if a sentence is written in English or Spanish! \n",
    "\n",
    "Indeed, the log probability for Spanish is much higher for the first sentence, while the log probability for English is much higher for the second sentence in the test data!"
   ]
  },
  {
   "cell_type": "code",
   "execution_count": 31,
   "metadata": {},
   "outputs": [
    {
     "name": "stdout",
     "output_type": "stream",
     "text": [
      "tensor([[ 1.3078, -1.9363]])\n",
      "tensor([[-1.5922,  0.9361]])\n"
     ]
    }
   ],
   "source": [
    "with torch.no_grad():\n",
    "    for instance, label in test_data:\n",
    "        bow_vec = make_bow_vector(instance, word_to_ix)\n",
    "        log_probs = model(bow_vec)\n",
    "        print(log_probs)"
   ]
  },
  {
   "cell_type": "code",
   "execution_count": 32,
   "metadata": {},
   "outputs": [
    {
     "name": "stdout",
     "output_type": "stream",
     "text": [
      "tensor([-0.0725, -0.2638], grad_fn=<SelectBackward>)\n"
     ]
    }
   ],
   "source": [
    "print(next(model.parameters())[:, word_to_ix[\"creo\"]])"
   ]
  },
  {
   "cell_type": "markdown",
   "metadata": {},
   "source": [
    "### Useful links\n",
    "- PyTorch Tutorials:\n",
    "https://pytorch.org/tutorials/index.html\n",
    "- Introduction to Pytorch notebook from Stanford: https://nbviewer.jupyter.org/github/cgpotts/cs224u/blob/master/tutorial_pytorch.ipynb"
   ]
  },
  {
   "cell_type": "markdown",
   "metadata": {},
   "source": [
    "----\n",
    "## Course Project "
   ]
  },
  {
   "cell_type": "markdown",
   "metadata": {},
   "source": [
    "* **Group project**, can be completed in a group of up to 3 students\n",
    "    * Released 1 September, hand-in 5 November 17:00\n",
    "       * joint report, contribution of each student should be stated clearly\n",
    "       * code as attachment\n",
    "       * individual mark for each group member, based on the quality and quantity of their contributions\n",
    "       * submission via Digital Exam\n",
    "    * Assignment consists of several parts tied to weekly lecture topics\n",
    "    * Finding a group: \n",
    "       * deadline for group forming: **13 September 17:00**"
   ]
  }
 ],
 "metadata": {
  "kernelspec": {
   "display_name": "Python 3",
   "language": "python",
   "name": "python3"
  },
  "language_info": {
   "codemirror_mode": {
    "name": "ipython",
    "version": 3
   },
   "file_extension": ".py",
   "mimetype": "text/x-python",
   "name": "python",
   "nbconvert_exporter": "python",
   "pygments_lexer": "ipython3",
   "version": "3.10.4"
  }
 },
 "nbformat": 4,
 "nbformat_minor": 1
}