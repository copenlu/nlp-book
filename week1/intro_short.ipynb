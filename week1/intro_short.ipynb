{
 "cells": [
  {
   "cell_type": "markdown",
   "metadata": {
    "pycharm": {
     "name": "#%% md\n"
    },
    "slideshow": {
     "slide_type": "slide"
    }
   },
   "source": [
    "# Introduction"
   ]
  },
  {
   "cell_type": "markdown",
   "metadata": {
    "pycharm": {
     "name": "#%% md\n"
    },
    "slideshow": {
     "slide_type": "slide"
    }
   },
   "source": [
    "## What is NLP?\n",
    "\n",
    "* Building computer systems that **understand** and **generate** natural languages.\n",
    "* Deep understanding of **broad** language\n",
    "    * not just string processing or keyword matching\n",
    "    "
   ]
  },
  {
   "cell_type": "markdown",
   "metadata": {
    "pycharm": {
     "name": "#%% md\n"
    },
    "slideshow": {
     "slide_type": "slide"
    }
   },
   "source": [
    "Can you think of NLP Applications?"
   ]
  },
  {
   "cell_type": "markdown",
   "metadata": {
    "pycharm": {
     "name": "#%% md\n"
    },
    "slideshow": {
     "slide_type": "subslide"
    }
   },
   "source": [
    "## Speech Recognition\n",
    "\n",
    "Speech Recognition is usually not considered NLP. We will not cover this topic here."
   ]
  },
  {
   "cell_type": "markdown",
   "metadata": {
    "pycharm": {
     "name": "#%% md\n"
    },
    "slideshow": {
     "slide_type": "fragment"
    }
   },
   "source": [
    "![beach](../img/wreckanicebeach.png)\n",
    "\n",
    "recognise speech vs. wreck a nice beach\n"
   ]
  },
  {
   "cell_type": "markdown",
   "metadata": {
    "pycharm": {
     "name": "#%% md\n"
    },
    "slideshow": {
     "slide_type": "subslide"
    }
   },
   "source": [
    "## Sentiment Analysis\n",
    "\n",
    "![sent](../img/sentiment_0.png)\n"
   ]
  },
  {
   "cell_type": "markdown",
   "metadata": {
    "pycharm": {
     "name": "#%% md\n"
    },
    "slideshow": {
     "slide_type": "subslide"
    }
   },
   "source": [
    "## Machine Translation\n",
    "\n",
    "![mt](../img/avocado.png)\n",
    "\n",
    "http://translate.google.com/"
   ]
  },
  {
   "cell_type": "markdown",
   "metadata": {
    "pycharm": {
     "name": "#%% md\n"
    },
    "slideshow": {
     "slide_type": "subslide"
    }
   },
   "source": [
    "## Information Extraction\n",
    "![ie1](../img/ie1.png)"
   ]
  },
  {
   "cell_type": "markdown",
   "metadata": {
    "pycharm": {
     "name": "#%% md\n"
    },
    "slideshow": {
     "slide_type": "subslide"
    }
   },
   "source": [
    "## Information Extraction\n",
    "![ie2](../img/ie2.png)"
   ]
  },
  {
   "cell_type": "markdown",
   "metadata": {
    "pycharm": {
     "name": "#%% md\n"
    },
    "slideshow": {
     "slide_type": "subslide"
    }
   },
   "source": [
    "## Generation\n",
    "![gen](../img/shirtless2.jpeg)"
   ]
  },
  {
   "cell_type": "markdown",
   "metadata": {
    "pycharm": {
     "name": "#%% md\n"
    },
    "slideshow": {
     "slide_type": "subslide"
    }
   },
   "source": [
    "## Generation\n",
    "![gen](../img/shirtless.jpeg)"
   ]
  },
  {
   "cell_type": "markdown",
   "metadata": {
    "pycharm": {
     "name": "#%% md\n"
    },
    "slideshow": {
     "slide_type": "subslide"
    }
   },
   "source": [
    "## Summarisation\n",
    "<div>\n",
    "<img src=\"../img/summarization2.png\" width=\"1400\"/>\n",
    "</div>\n",
    "\n",
    "```{image} ../img/summarization2.png\n",
    ":width: 1400px\n",
    ":align: center\n",
    "```"
   ]
  },
  {
   "cell_type": "markdown",
   "metadata": {
    "pycharm": {
     "name": "#%% md\n"
    },
    "slideshow": {
     "slide_type": "subslide"
    }
   },
   "source": [
    "## Question Answering\n",
    "<div>\n",
    "<img src=\"../img/qa.png\" width=\"400\"/>\n",
    "</div>\n",
    "<div>\n",
    "<img src=\"../img/qa2.png\" width=\"900\"/>\n",
    "</div>\n",
    "<div style=\"text-align: right;\">\n",
    "<a href=\"https://doi.org/10.1016/j.artint.2012.06.009\">Ferrucci et al. (2013)</a>\n",
    "</div>"
   ]
  },
  {
   "cell_type": "markdown",
   "metadata": {
    "pycharm": {
     "name": "#%% md\n"
    },
    "slideshow": {
     "slide_type": "subslide"
    }
   },
   "source": [
    "## Reading Comprehension\n",
    "\n",
    "<div>\n",
    "<img src=\"../img/comprehension.png\" width=\"1200\"/>\n",
    "</div>"
   ]
  },
  {
   "cell_type": "markdown",
   "metadata": {
    "pycharm": {
     "name": "#%% md\n"
    },
    "slideshow": {
     "slide_type": "subslide"
    }
   },
   "source": [
    "## Personal Assistants\n",
    "<table><tr>\n",
    "<td> <img src=\"../img/siri1.png\" alt=\"Siri1\" style=\"width: 500px;\"/> </td>\n",
    "<td> <img src=\"../img/siri2.png\" alt=\"Siri2\" style=\"width: 500px;\"/> </td>\n",
    "</tr></table>"
   ]
  },
  {
   "cell_type": "markdown",
   "metadata": {
    "pycharm": {
     "name": "#%% md\n"
    },
    "slideshow": {
     "slide_type": "slide"
    }
   },
   "source": [
    "## What is difficult about NLP?\n",
    "\n",
    "Discuss and enter your answers here: https://ucph.page.link/nlp_q1\n",
    "\n",
    "([Responses](https://docs.google.com/forms/d/121VI1BeO1TWuWXnAeQbHcBdMazQ3rPivoko29YyrZz4/edit#responses))"
   ]
  },
  {
   "cell_type": "markdown",
   "metadata": {
    "pycharm": {
     "name": "#%% md\n"
    },
    "slideshow": {
     "slide_type": "subslide"
    }
   },
   "source": [
    "### Ambiguity Everywhere\n",
    "\n",
    "* Fed <b>raises</b> interest rates 0.5% in effort to control inflation\n",
    "* Fed raises <b>interest</b> rates 0.5% in effort to control inflation\n",
    "* Fed raises interest <b>rates</b> 0.5% in effort to control inflation"
   ]
  },
  {
   "cell_type": "markdown",
   "metadata": {
    "pycharm": {
     "name": "#%% md\n"
    },
    "slideshow": {
     "slide_type": "subslide"
    }
   },
   "source": [
    "### Ambiguity Everywhere\n",
    "\n",
    "\"Jane ate spaghetti with a **silver spoon**.\""
   ]
  },
  {
   "cell_type": "markdown",
   "metadata": {
    "pycharm": {
     "name": "#%% md\n"
    },
    "slideshow": {
     "slide_type": "fragment"
    }
   },
   "source": [
    "Do you mean..."
   ]
  },
  {
   "cell_type": "markdown",
   "metadata": {
    "pycharm": {
     "name": "#%% md\n"
    },
    "slideshow": {
     "slide_type": "fragment"
    }
   },
   "source": [
    "Jane used a silver spoon to eat spaghetti? (**cutlery**)"
   ]
  },
  {
   "cell_type": "markdown",
   "metadata": {
    "pycharm": {
     "name": "#%% md\n"
    },
    "slideshow": {
     "slide_type": "fragment"
    }
   },
   "source": [
    "Jane had spaghetti and a silver spoon? (**part**)"
   ]
  },
  {
   "cell_type": "markdown",
   "metadata": {
    "pycharm": {
     "name": "#%% md\n"
    },
    "slideshow": {
     "slide_type": "fragment"
    }
   },
   "source": [
    "Jane exhibited a silver spoon while eating spaghetti? (**manner**)"
   ]
  },
  {
   "cell_type": "markdown",
   "metadata": {
    "pycharm": {
     "name": "#%% md\n"
    },
    "slideshow": {
     "slide_type": "fragment"
    }
   },
   "source": [
    "Jane ate spaghetti in the presence of a silver spoon? (**company**)"
   ]
  },
  {
   "cell_type": "markdown",
   "metadata": {
    "pycharm": {
     "name": "#%% md\n"
    },
    "slideshow": {
     "slide_type": "subslide"
    }
   },
   "source": [
    "### Ambiguity on different linguistic levels\n",
    "\n",
    "<img src=\"../img/nlp_pyramid.png\" style=\"float:left;\" width=45%></img>"
   ]
  },
  {
   "cell_type": "markdown",
   "metadata": {
    "pycharm": {
     "name": "#%% md\n"
    },
    "slideshow": {
     "slide_type": "slide"
    }
   },
   "source": [
    "## Core NLP Tasks\n",
    "* Tokenisation, Segmentation\n",
    "* Part of Speech Tagging\n",
    "* Language Modelling\n",
    "* Machine Translation\n",
    "* Syntactic and Semantic Parsing\n",
    "* Document Classification\n",
    "* Information Extraction\n",
    "* Question Answering"
   ]
  },
  {
   "cell_type": "markdown",
   "metadata": {
    "pycharm": {
     "name": "#%% md\n"
    },
    "slideshow": {
     "slide_type": "subslide"
    }
   },
   "source": [
    "## Core NLP Methods\n",
    "\n",
    "* Structured Prediction \n",
    "* Preprocessing\n",
    "* Generative Learning\n",
    "* Discriminative Learning\n",
    "* Weak Supervision\n",
    "* Representation and Deep Learning"
   ]
  }
 ],
 "metadata": {
  "celltoolbar": "Slideshow",
  "kernelspec": {
   "display_name": "Python 3 (ipykernel)",
   "language": "python",
   "name": "python3"
  },
  "language_info": {
   "codemirror_mode": {
    "name": "ipython",
    "version": 3
   },
   "file_extension": ".py",
   "mimetype": "text/x-python",
   "name": "python",
   "nbconvert_exporter": "python",
   "pygments_lexer": "ipython3",
   "version": "3.10.4"
  }
 },
 "nbformat": 4,
 "nbformat_minor": 4
}
